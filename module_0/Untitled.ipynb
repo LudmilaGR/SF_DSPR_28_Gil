{
 "cells": [
  {
   "cell_type": "code",
   "execution_count": 1,
   "metadata": {},
   "outputs": [
    {
     "name": "stdout",
     "output_type": "stream",
     "text": [
      "Ваш алгоритм угадывает число в среднем за 954 попыток\n",
      "Ваш алгоритм угадывает число в среднем за 355 попыток\n",
      "Ваш алгоритм угадывает число в среднем за 9 попыток\n"
     ]
    },
    {
     "data": {
      "text/plain": [
       "9"
      ]
     },
     "execution_count": 1,
     "metadata": {},
     "output_type": "execute_result"
    }
   ],
   "source": [
    "import numpy as np\n",
    "\n",
    "\n",
    "def game_core_v1(number: int, top_limit: int) -> int:\n",
    "    \"\"\"\n",
    "    Просто угадываем на random, никак не используя информацию о больше или меньше.\n",
    "    Функция принимает загаданное число и возвращает число попыток\n",
    "    :param int number: Загаданное число\n",
    "    :param int top_limit: Верхний предел загаданного числа\n",
    "    :return int: Количество попыток понадобившихся, что бы угадать загаданое число\n",
    "    \"\"\"\n",
    "    count = 0\n",
    "    while True:\n",
    "        count += 1\n",
    "        predict = np.random.randint(1, top_limit + 1)  # предполагаемое число\n",
    "        if number == predict:\n",
    "            return count                     # выход из цикла, если угадали\n",
    "\n",
    "\n",
    "def game_core_v2(number: int, top_limit: int) -> int:\n",
    "    \"\"\"\n",
    "    Сначала устанавливаем любое random число, а потом уменьшаем или увеличиваем его в зависимости от того,\n",
    "    больше оно или меньше нужного. Функция принимает загаданное число и возвращает число попыток\n",
    "    :param int number: Загаданное число\n",
    "    :param int top_limit: Верхний предел загаданного числа\n",
    "    :return int: Количество попыток понадобившихся, что бы угадать загаданое число\n",
    "    \"\"\"\n",
    "    count = 1\n",
    "    predict = np.random.randint(1, top_limit + 1)\n",
    "    while number != predict:\n",
    "        count += 1\n",
    "        if number > predict:\n",
    "            predict += 1\n",
    "        elif number < predict:\n",
    "            predict -= 1\n",
    "\n",
    "    # выход из цикла, если угадали\n",
    "    return count\n",
    "\n",
    "\n",
    "def game_core_v3(number: int, top_limit: int) -> int:\n",
    "    \"\"\"\n",
    "    Сначала устанавливаем любое random число, а потом уменьшаем или увеличиваем его в зависимости от того,\n",
    "    больше оно или меньше нужного. Увеличение идёт с использованием алгоритма бинарного поиска. С каждым разом\n",
    "    зона поиска уменьшается в два раза, до тех пор пока не достигнет значения 1.\n",
    "    Функция принимает загаданное число и возвращает число попыток\n",
    "    :param int number: Загаданное число\n",
    "    :param int top_limit: Верхний предел загаданного числа\n",
    "    :return int: Количество попыток понадобившихся, что бы угадать загаданое число\n",
    "    \"\"\"\n",
    "    count = 1\n",
    "    predict = top_limit // 2\n",
    "    suggested_diff = predict // 2\n",
    "\n",
    "    \"\"\"Воткнул inline comments видя, что вы ими активно пользуетесь, хотя PEP8 не приветствует\"\"\"\n",
    "    while number != predict:\n",
    "        count += 1\n",
    "        if predict < number:\n",
    "            predict += suggested_diff                   # увеличиваем предпологаемое число на уменьшенный вдвое шаг\n",
    "        elif predict > number:\n",
    "            predict -= suggested_diff                   # уменьшаем предпологаемое число на уменьшенный вдвое шаг\n",
    "        if suggested_diff > 1:\n",
    "            suggested_diff = suggested_diff // 2  # уменьшаем шаг вдвое если шаг > 1\n",
    "\n",
    "    # выход из цикла, если угадали\n",
    "    return count\n",
    "\n",
    "\n",
    "def score_game(game_core, top_limit):\n",
    "    \"\"\"\n",
    "    Запускаем игру 1000 раз, чтобы узнать, как быстро игра угадывает число\n",
    "    :param obj game_core:\n",
    "    :param int top_limit: Верхний предел загаданного числа\n",
    "    :return int:\n",
    "    \"\"\"\n",
    "    count_ls = []\n",
    "    np.random.seed(1)  # фиксируем RANDOM SEED, чтобы ваш эксперимент был воспроизводим!\n",
    "    random_array = np.random.randint(1, top_limit + 1, size=1000)\n",
    "    for number in random_array:\n",
    "        count_ls.append(game_core(number, top_limit))\n",
    "    score = int(np.mean(count_ls))\n",
    "    print(f\"Ваш алгоритм угадывает число в среднем за {score} попыток\")\n",
    "    return score\n",
    "\n",
    "\n",
    "TOP_LIMIT = 1000\n",
    "\n",
    "score_game(game_core_v1, TOP_LIMIT)\n",
    "score_game(game_core_v2, TOP_LIMIT)\n",
    "score_game(game_core_v3, TOP_LIMIT)"
   ]
  },
  {
   "cell_type": "code",
   "execution_count": null,
   "metadata": {},
   "outputs": [],
   "source": []
  }
 ],
 "metadata": {
  "kernelspec": {
   "display_name": "Python 3",
   "language": "python",
   "name": "python3"
  },
  "language_info": {
   "codemirror_mode": {
    "name": "ipython",
    "version": 3
   },
   "file_extension": ".py",
   "mimetype": "text/x-python",
   "name": "python",
   "nbconvert_exporter": "python",
   "pygments_lexer": "ipython3",
   "version": "3.8.5"
  }
 },
 "nbformat": 4,
 "nbformat_minor": 4
}
