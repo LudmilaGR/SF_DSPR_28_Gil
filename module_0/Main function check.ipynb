{
 "cells": [
  {
   "cell_type": "code",
   "execution_count": 130,
   "metadata": {},
   "outputs": [
    {
     "name": "stdout",
     "output_type": "stream",
     "text": [
      "Загадано число от 1 до 100.\n",
      "\n",
      "Ваше число 51? Это попытка номер 20\n",
      "Нет, мое число меньше 51\n",
      "[1, 2, 3, 4, 5, 6, 7, 8, 9, 10, 11, 12, 13, 14, 15, 16, 17, 18, 19, 20, 21, 22, 23, 24, 25, 26, 27, 28, 29, 30, 31, 32, 33, 34, 35, 36, 37, 38, 39, 40, 41, 42, 43, 44, 45, 46, 47, 48, 49, 50]  50 25 26  20\n",
      "\n",
      "Ваше число 26? Это попытка номер 21\n",
      "Нет, мое число меньше 26\n",
      "[1, 2, 3, 4, 5, 6, 7, 8, 9, 10, 11, 12, 13, 14, 15, 16, 17, 18, 19, 20, 21, 22, 23, 24, 25]  25 12 13  20\n",
      "\n",
      "Ваше число 13? Это попытка номер 22\n",
      "Нет, мое число больше 13\n",
      "[14, 15, 16, 17, 18, 19, 20, 21, 22, 23, 24, 25]  12 6 20  20\n",
      "\n",
      "Ваше число 20? Это попытка номер 23\n",
      "Да, угадали!\n",
      "Вы угадали число 20 за 23 попыток.\n"
     ]
    }
   ],
   "source": [
    "import numpy as np\n",
    "number = 20 #np.random.randint(1,101)    # загадали число\n",
    "\n",
    "search_list = [x for x in range(1, 101, 1)]\n",
    "predict = search_list[int(len(search_list)//2)]\n",
    "    \n",
    "print (\"Загадано число от 1 до 100.\")\n",
    "print ('')\n",
    "#predict = int(input())         # предполагаемое число\n",
    "#print(predict)\n",
    "\n",
    "\n",
    "while len(search_list)>0:\n",
    "    count += 1 # плюсуем попытку\n",
    "    print (f\"Ваше число {predict}? Это попытка номер {count}\")\n",
    "    index = 0\n",
    "    if number == predict: \n",
    "        print('Да, угадали!')\n",
    "        break    # выход из цикла, если угадали\n",
    "    elif number > predict: \n",
    "        for item in search_list:\n",
    "            if item == predict: break\n",
    "            else: index +=1\n",
    "        search_list = search_list[index+1:]\n",
    "        print(f\"Нет, мое число больше {predict}\")\n",
    "    elif number < predict: \n",
    "        for item in search_list:\n",
    "            if item == predict: break\n",
    "            else: index +=1\n",
    "        search_list = search_list[:index]\n",
    "        print(f\"Нет, мое число меньше {predict}\")\n",
    "    predict = search_list[int(len(search_list)/2)]\n",
    "    print(search_list, '', len(search_list), len(search_list)//2, search_list[len(search_list)//2], '', number) \n",
    "    print('')\n",
    "\n",
    "print (f\"Вы угадали число {number} за {count} попыток.\")"
   ]
  },
  {
   "cell_type": "code",
   "execution_count": null,
   "metadata": {},
   "outputs": [],
   "source": []
  }
 ],
 "metadata": {
  "kernelspec": {
   "display_name": "Python 3",
   "language": "python",
   "name": "python3"
  },
  "language_info": {
   "codemirror_mode": {
    "name": "ipython",
    "version": 3
   },
   "file_extension": ".py",
   "mimetype": "text/x-python",
   "name": "python",
   "nbconvert_exporter": "python",
   "pygments_lexer": "ipython3",
   "version": "3.8.5"
  }
 },
 "nbformat": 4,
 "nbformat_minor": 4
}
