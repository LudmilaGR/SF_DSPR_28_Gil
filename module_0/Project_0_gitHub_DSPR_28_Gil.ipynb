{
 "cells": [
  {
   "cell_type": "markdown",
   "metadata": {},
   "source": [
    "### Результаты задания по проекту \"Проект 0. GitHub. Самый быстрый старт\n",
    "\n",
    "* Задание выполнила Гиль Юлия\n",
    "* Группа Data Science DSPR_28"
   ]
  },
  {
   "cell_type": "code",
   "execution_count": 38,
   "metadata": {},
   "outputs": [
    {
     "name": "stdout",
     "output_type": "stream",
     "text": [
      "Ваш алгоритм угадывает число в среднем за 5 попыток\n"
     ]
    },
    {
     "data": {
      "text/plain": [
       "5"
      ]
     },
     "execution_count": 38,
     "metadata": {},
     "output_type": "execute_result"
    }
   ],
   "source": [
    "def game_core_v4(number):\n",
    "    # Функция принимает загаданное число и возвращает число попыток, за которое число отгадывается\n",
    "    \n",
    "    # Задаем необходимые переменные\n",
    "    # Количество элементов в списке для игры, в нашем случае от 1 до 100\n",
    "    N = 100\n",
    "    # Заполнение списка для случая 100 элементов \n",
    "    search_list = [x for x in range(1, N+1, 1)]\n",
    "    # Задаем переменные для отслеживания нижнего (low_index) и верхнего (high_index) индексов списка или отрезка списка для поиска\n",
    "    # Для алгоритма поиска будем использовать индекс для элемента в середине отрезка списка (mid_index)\n",
    "    low_index = 0\n",
    "    high_index = N-1\n",
    "    mid_index = (low_index + high_index)//2\n",
    "    # Задаем переменную для подсчета числа попыток (count), сначала она равна 0\n",
    "    count = 0\n",
    "\n",
    "    # Основной алгоритм выполняется в цикле while\n",
    "    # Цикл выполняется, пока в нем не останется 1 элемент или закончится (break), если искомый элемент будет найден\n",
    "    while low_index <= high_index:\n",
    "        count += 1 # плюсуем попытку\n",
    "        # Если искомое число меньше числа с индексом середины,\n",
    "        if number < search_list[mid_index]:\n",
    "            # то верхняя граница сдвигается к середине (но на 1 до нее, т. к. середина была уже проверена)\n",
    "            high_index = mid_index - 1\n",
    "        # Если искомое число больше числа с индексом середины,\n",
    "        elif number > search_list[mid_index]:\n",
    "            # то нижняя граница сдвигается за середину\n",
    "            low_index = mid_index + 1\n",
    "            # Все остальные случаи возникают, когда искомое число найдено\n",
    "        else:\n",
    "            # прерывание цикла\n",
    "            break\n",
    "        # Находится индекс середины списка с новыми границами, который передается в цикл для проверки\n",
    "        mid_index = (low_index + high_index)//2\n",
    "        \n",
    "    return(count) # выход из цикла, если угадали\n",
    "\n",
    "def score_game(game_core):\n",
    "    # Запускаем игру 1000 раз, чтобы узнать, как быстро игра угадывает число\n",
    "    count_ls = []\n",
    "    np.random.seed(1)  # фиксируем RANDOM SEED, чтобы ваш эксперимент был воспроизводим!\n",
    "    random_array = np.random.randint(1,101, size=(1000))\n",
    "    for number in random_array:\n",
    "        count_ls.append(game_core(number))\n",
    "    score = int(np.mean(count_ls))\n",
    "    print(f\"Ваш алгоритм угадывает число в среднем за {score} попыток\")\n",
    "    return(score)\n",
    "\n",
    "# Проверяем\n",
    "import numpy as np\n",
    "score_game(game_core_v4)"
   ]
  },
  {
   "cell_type": "code",
   "execution_count": null,
   "metadata": {},
   "outputs": [],
   "source": []
  }
 ],
 "metadata": {
  "kernelspec": {
   "display_name": "Python 3",
   "language": "python",
   "name": "python3"
  },
  "language_info": {
   "codemirror_mode": {
    "name": "ipython",
    "version": 3
   },
   "file_extension": ".py",
   "mimetype": "text/x-python",
   "name": "python",
   "nbconvert_exporter": "python",
   "pygments_lexer": "ipython3",
   "version": "3.8.5"
  }
 },
 "nbformat": 4,
 "nbformat_minor": 4
}
