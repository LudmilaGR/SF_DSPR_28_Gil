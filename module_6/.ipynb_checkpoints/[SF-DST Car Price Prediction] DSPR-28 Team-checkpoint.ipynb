{
 "cells": [
  {
   "cell_type": "markdown",
   "metadata": {
    "papermill": {
     "duration": 0.029718,
     "end_time": "2020-10-26T12:46:41.276296",
     "exception": false,
     "start_time": "2020-10-26T12:46:41.246578",
     "status": "completed"
    },
    "tags": []
   },
   "source": [
    "<img src=\"https://whatcar.vn/media/2018/09/car-lot-940x470.jpg\"/>\n",
    "\n",
    "# Прогнозирование стоимости автомобиля по характеристикам\n",
    "\n",
    "* Работу выполнили Людмила Григорьева и Юлия Гиль\n",
    "* Группа DSPR-28"
   ]
  },
  {
   "cell_type": "markdown",
   "metadata": {},
   "source": [
    "# Содержание\n",
    "\n",
    "1. [IMPORT, FUNCTIONS, SETUP](#1)\n",
    "2. [DDATA & PRELIMINARY ANALYSIS](#2)\n",
    "3. [EDA](#3) \n",
    "4. [NAÏVE MODEL](#4)\n",
    "5. [MODEL IMPROVEMENTS](#5)\n",
    "    * \n",
    "6. [SUBMISSION](#6)\n",
    "7. [SUMMARY](#7)"
   ]
  },
  {
   "cell_type": "markdown",
   "metadata": {},
   "source": [
    "<a id=\"1\"></a>\n",
    "# 1. Import, Functions, Setup"
   ]
  },
  {
   "cell_type": "code",
   "execution_count": 1,
   "metadata": {
    "scrolled": true
   },
   "outputs": [
    {
     "name": "stdout",
     "output_type": "stream",
     "text": [
      "Requirement already satisfied: catboost in /Users/yuliyagil/opt/anaconda3/lib/python3.8/site-packages (0.26.1)\n",
      "Requirement already satisfied: scipy in /Users/yuliyagil/opt/anaconda3/lib/python3.8/site-packages (from catboost) (1.5.4)\n",
      "Requirement already satisfied: six in /Users/yuliyagil/opt/anaconda3/lib/python3.8/site-packages (from catboost) (1.15.0)\n",
      "Requirement already satisfied: numpy>=1.16.0 in /Users/yuliyagil/opt/anaconda3/lib/python3.8/site-packages (from catboost) (1.19.1)\n",
      "Requirement already satisfied: plotly in /Users/yuliyagil/opt/anaconda3/lib/python3.8/site-packages (from catboost) (4.14.3)\n",
      "Requirement already satisfied: matplotlib in /Users/yuliyagil/opt/anaconda3/lib/python3.8/site-packages (from catboost) (3.3.4)\n",
      "Requirement already satisfied: graphviz in /Users/yuliyagil/opt/anaconda3/lib/python3.8/site-packages (from catboost) (0.17)\n",
      "Requirement already satisfied: pandas>=0.24.0 in /Users/yuliyagil/opt/anaconda3/lib/python3.8/site-packages (from catboost) (1.0.5)\n",
      "Requirement already satisfied: python-dateutil>=2.6.1 in /Users/yuliyagil/opt/anaconda3/lib/python3.8/site-packages (from pandas>=0.24.0->catboost) (2.8.1)\n",
      "Requirement already satisfied: pytz>=2017.2 in /Users/yuliyagil/opt/anaconda3/lib/python3.8/site-packages (from pandas>=0.24.0->catboost) (2021.1)\n",
      "Requirement already satisfied: pyparsing!=2.0.4,!=2.1.2,!=2.1.6,>=2.0.3 in /Users/yuliyagil/opt/anaconda3/lib/python3.8/site-packages (from matplotlib->catboost) (2.4.7)\n",
      "Requirement already satisfied: cycler>=0.10 in /Users/yuliyagil/opt/anaconda3/lib/python3.8/site-packages (from matplotlib->catboost) (0.10.0)\n",
      "Requirement already satisfied: pillow>=6.2.0 in /Users/yuliyagil/opt/anaconda3/lib/python3.8/site-packages (from matplotlib->catboost) (8.2.0)\n",
      "Requirement already satisfied: kiwisolver>=1.0.1 in /Users/yuliyagil/opt/anaconda3/lib/python3.8/site-packages (from matplotlib->catboost) (1.3.1)\n",
      "Requirement already satisfied: retrying>=1.3.3 in /Users/yuliyagil/opt/anaconda3/lib/python3.8/site-packages (from plotly->catboost) (1.3.3)\n"
     ]
    }
   ],
   "source": [
    "!pip3 install catboost"
   ]
  },
  {
   "cell_type": "code",
   "execution_count": 2,
   "metadata": {
    "scrolled": false
   },
   "outputs": [
    {
     "name": "stdout",
     "output_type": "stream",
     "text": [
      "Requirement already satisfied: pandas-profiling in /Users/yuliyagil/opt/anaconda3/lib/python3.8/site-packages (2.11.0)\n",
      "Requirement already satisfied: joblib in /Users/yuliyagil/opt/anaconda3/lib/python3.8/site-packages (from pandas-profiling) (1.0.0)\n",
      "Requirement already satisfied: matplotlib>=3.2.0 in /Users/yuliyagil/opt/anaconda3/lib/python3.8/site-packages (from pandas-profiling) (3.3.4)\n",
      "Requirement already satisfied: attrs>=19.3.0 in /Users/yuliyagil/opt/anaconda3/lib/python3.8/site-packages (from pandas-profiling) (21.2.0)\n",
      "Requirement already satisfied: tqdm>=4.48.2 in /Users/yuliyagil/opt/anaconda3/lib/python3.8/site-packages (from pandas-profiling) (4.56.0)\n",
      "Requirement already satisfied: tangled-up-in-unicode>=0.0.6 in /Users/yuliyagil/opt/anaconda3/lib/python3.8/site-packages (from pandas-profiling) (0.0.7)\n",
      "Requirement already satisfied: confuse>=1.0.0 in /Users/yuliyagil/opt/anaconda3/lib/python3.8/site-packages (from pandas-profiling) (1.4.0)\n",
      "Requirement already satisfied: ipywidgets>=7.5.1 in /Users/yuliyagil/opt/anaconda3/lib/python3.8/site-packages (from pandas-profiling) (7.6.3)\n",
      "Requirement already satisfied: requests>=2.24.0 in /Users/yuliyagil/opt/anaconda3/lib/python3.8/site-packages (from pandas-profiling) (2.25.1)\n",
      "Requirement already satisfied: missingno>=0.4.2 in /Users/yuliyagil/opt/anaconda3/lib/python3.8/site-packages (from pandas-profiling) (0.4.2)\n",
      "Requirement already satisfied: htmlmin>=0.1.12 in /Users/yuliyagil/opt/anaconda3/lib/python3.8/site-packages (from pandas-profiling) (0.1.12)\n",
      "Requirement already satisfied: phik>=0.10.0 in /Users/yuliyagil/opt/anaconda3/lib/python3.8/site-packages (from pandas-profiling) (0.11.2)\n",
      "Requirement already satisfied: scipy>=1.4.1 in /Users/yuliyagil/opt/anaconda3/lib/python3.8/site-packages (from pandas-profiling) (1.5.4)\n",
      "Requirement already satisfied: seaborn>=0.10.1 in /Users/yuliyagil/opt/anaconda3/lib/python3.8/site-packages (from pandas-profiling) (0.11.1)\n",
      "Requirement already satisfied: jinja2>=2.11.1 in /Users/yuliyagil/opt/anaconda3/lib/python3.8/site-packages (from pandas-profiling) (3.0.0)\n",
      "Requirement already satisfied: numpy>=1.16.0 in /Users/yuliyagil/opt/anaconda3/lib/python3.8/site-packages (from pandas-profiling) (1.19.1)\n",
      "Requirement already satisfied: pandas!=1.0.0,!=1.0.1,!=1.0.2,!=1.1.0,>=0.25.3 in /Users/yuliyagil/opt/anaconda3/lib/python3.8/site-packages (from pandas-profiling) (1.0.5)\n",
      "Requirement already satisfied: visions[type_image_path]==0.6.0 in /Users/yuliyagil/opt/anaconda3/lib/python3.8/site-packages (from pandas-profiling) (0.6.0)\n",
      "Requirement already satisfied: networkx>=2.4 in /Users/yuliyagil/opt/anaconda3/lib/python3.8/site-packages (from visions[type_image_path]==0.6.0->pandas-profiling) (2.5.1)\n",
      "Requirement already satisfied: imagehash in /Users/yuliyagil/opt/anaconda3/lib/python3.8/site-packages (from visions[type_image_path]==0.6.0->pandas-profiling) (4.2.0)\n",
      "Requirement already satisfied: Pillow in /Users/yuliyagil/opt/anaconda3/lib/python3.8/site-packages (from visions[type_image_path]==0.6.0->pandas-profiling) (8.2.0)\n",
      "Requirement already satisfied: pyyaml in /Users/yuliyagil/opt/anaconda3/lib/python3.8/site-packages (from confuse>=1.0.0->pandas-profiling) (5.3.1)\n",
      "Requirement already satisfied: jupyterlab-widgets>=1.0.0 in /Users/yuliyagil/opt/anaconda3/lib/python3.8/site-packages (from ipywidgets>=7.5.1->pandas-profiling) (1.0.0)\n",
      "Requirement already satisfied: widgetsnbextension~=3.5.0 in /Users/yuliyagil/opt/anaconda3/lib/python3.8/site-packages (from ipywidgets>=7.5.1->pandas-profiling) (3.5.1)\n",
      "Requirement already satisfied: traitlets>=4.3.1 in /Users/yuliyagil/opt/anaconda3/lib/python3.8/site-packages (from ipywidgets>=7.5.1->pandas-profiling) (5.0.5)\n",
      "Requirement already satisfied: nbformat>=4.2.0 in /Users/yuliyagil/opt/anaconda3/lib/python3.8/site-packages (from ipywidgets>=7.5.1->pandas-profiling) (5.1.3)\n",
      "Requirement already satisfied: ipykernel>=4.5.1 in /Users/yuliyagil/opt/anaconda3/lib/python3.8/site-packages (from ipywidgets>=7.5.1->pandas-profiling) (5.3.4)\n",
      "Requirement already satisfied: ipython>=4.0.0 in /Users/yuliyagil/opt/anaconda3/lib/python3.8/site-packages (from ipywidgets>=7.5.1->pandas-profiling) (7.22.0)\n",
      "Requirement already satisfied: tornado>=4.2 in /Users/yuliyagil/opt/anaconda3/lib/python3.8/site-packages (from ipykernel>=4.5.1->ipywidgets>=7.5.1->pandas-profiling) (6.1)\n",
      "Requirement already satisfied: jupyter-client in /Users/yuliyagil/opt/anaconda3/lib/python3.8/site-packages (from ipykernel>=4.5.1->ipywidgets>=7.5.1->pandas-profiling) (6.1.12)\n",
      "Requirement already satisfied: appnope in /Users/yuliyagil/opt/anaconda3/lib/python3.8/site-packages (from ipykernel>=4.5.1->ipywidgets>=7.5.1->pandas-profiling) (0.1.2)\n",
      "Requirement already satisfied: setuptools>=18.5 in /Users/yuliyagil/opt/anaconda3/lib/python3.8/site-packages (from ipython>=4.0.0->ipywidgets>=7.5.1->pandas-profiling) (52.0.0.post20210125)\n",
      "Requirement already satisfied: pygments in /Users/yuliyagil/opt/anaconda3/lib/python3.8/site-packages (from ipython>=4.0.0->ipywidgets>=7.5.1->pandas-profiling) (2.9.0)\n",
      "Requirement already satisfied: prompt-toolkit!=3.0.0,!=3.0.1,<3.1.0,>=2.0.0 in /Users/yuliyagil/opt/anaconda3/lib/python3.8/site-packages (from ipython>=4.0.0->ipywidgets>=7.5.1->pandas-profiling) (3.0.17)\n",
      "Requirement already satisfied: backcall in /Users/yuliyagil/opt/anaconda3/lib/python3.8/site-packages (from ipython>=4.0.0->ipywidgets>=7.5.1->pandas-profiling) (0.2.0)\n",
      "Requirement already satisfied: decorator in /Users/yuliyagil/opt/anaconda3/lib/python3.8/site-packages (from ipython>=4.0.0->ipywidgets>=7.5.1->pandas-profiling) (4.4.2)\n",
      "Requirement already satisfied: jedi>=0.16 in /Users/yuliyagil/opt/anaconda3/lib/python3.8/site-packages (from ipython>=4.0.0->ipywidgets>=7.5.1->pandas-profiling) (0.17.2)\n",
      "Requirement already satisfied: pexpect>4.3 in /Users/yuliyagil/opt/anaconda3/lib/python3.8/site-packages (from ipython>=4.0.0->ipywidgets>=7.5.1->pandas-profiling) (4.8.0)\n",
      "Requirement already satisfied: pickleshare in /Users/yuliyagil/opt/anaconda3/lib/python3.8/site-packages (from ipython>=4.0.0->ipywidgets>=7.5.1->pandas-profiling) (0.7.5)\n",
      "Requirement already satisfied: parso<0.8.0,>=0.7.0 in /Users/yuliyagil/opt/anaconda3/lib/python3.8/site-packages (from jedi>=0.16->ipython>=4.0.0->ipywidgets>=7.5.1->pandas-profiling) (0.7.0)\n",
      "Requirement already satisfied: MarkupSafe>=2.0.0rc2 in /Users/yuliyagil/opt/anaconda3/lib/python3.8/site-packages (from jinja2>=2.11.1->pandas-profiling) (2.0.1)\n",
      "Requirement already satisfied: python-dateutil>=2.1 in /Users/yuliyagil/opt/anaconda3/lib/python3.8/site-packages (from matplotlib>=3.2.0->pandas-profiling) (2.8.1)\n",
      "Requirement already satisfied: kiwisolver>=1.0.1 in /Users/yuliyagil/opt/anaconda3/lib/python3.8/site-packages (from matplotlib>=3.2.0->pandas-profiling) (1.3.1)\n",
      "Requirement already satisfied: pyparsing!=2.0.4,!=2.1.2,!=2.1.6,>=2.0.3 in /Users/yuliyagil/opt/anaconda3/lib/python3.8/site-packages (from matplotlib>=3.2.0->pandas-profiling) (2.4.7)\n",
      "Requirement already satisfied: cycler>=0.10 in /Users/yuliyagil/opt/anaconda3/lib/python3.8/site-packages (from matplotlib>=3.2.0->pandas-profiling) (0.10.0)\n",
      "Requirement already satisfied: six in /Users/yuliyagil/opt/anaconda3/lib/python3.8/site-packages (from cycler>=0.10->matplotlib>=3.2.0->pandas-profiling) (1.15.0)\n",
      "Requirement already satisfied: jupyter-core in /Users/yuliyagil/opt/anaconda3/lib/python3.8/site-packages (from nbformat>=4.2.0->ipywidgets>=7.5.1->pandas-profiling) (4.7.1)\n",
      "Requirement already satisfied: ipython-genutils in /Users/yuliyagil/opt/anaconda3/lib/python3.8/site-packages (from nbformat>=4.2.0->ipywidgets>=7.5.1->pandas-profiling) (0.2.0)\n",
      "Requirement already satisfied: jsonschema!=2.5.0,>=2.4 in /Users/yuliyagil/opt/anaconda3/lib/python3.8/site-packages (from nbformat>=4.2.0->ipywidgets>=7.5.1->pandas-profiling) (3.2.0)\n",
      "Requirement already satisfied: pyrsistent>=0.14.0 in /Users/yuliyagil/opt/anaconda3/lib/python3.8/site-packages (from jsonschema!=2.5.0,>=2.4->nbformat>=4.2.0->ipywidgets>=7.5.1->pandas-profiling) (0.17.3)\n",
      "Requirement already satisfied: pytz>=2017.2 in /Users/yuliyagil/opt/anaconda3/lib/python3.8/site-packages (from pandas!=1.0.0,!=1.0.1,!=1.0.2,!=1.1.0,>=0.25.3->pandas-profiling) (2021.1)\n",
      "Requirement already satisfied: ptyprocess>=0.5 in /Users/yuliyagil/opt/anaconda3/lib/python3.8/site-packages (from pexpect>4.3->ipython>=4.0.0->ipywidgets>=7.5.1->pandas-profiling) (0.7.0)\n"
     ]
    },
    {
     "name": "stdout",
     "output_type": "stream",
     "text": [
      "Requirement already satisfied: wcwidth in /Users/yuliyagil/opt/anaconda3/lib/python3.8/site-packages (from prompt-toolkit!=3.0.0,!=3.0.1,<3.1.0,>=2.0.0->ipython>=4.0.0->ipywidgets>=7.5.1->pandas-profiling) (0.2.5)\n",
      "Requirement already satisfied: urllib3<1.27,>=1.21.1 in /Users/yuliyagil/opt/anaconda3/lib/python3.8/site-packages (from requests>=2.24.0->pandas-profiling) (1.26.4)\n",
      "Requirement already satisfied: idna<3,>=2.5 in /Users/yuliyagil/opt/anaconda3/lib/python3.8/site-packages (from requests>=2.24.0->pandas-profiling) (2.10)\n",
      "Requirement already satisfied: certifi>=2017.4.17 in /Users/yuliyagil/opt/anaconda3/lib/python3.8/site-packages (from requests>=2.24.0->pandas-profiling) (2021.5.30)\n",
      "Requirement already satisfied: chardet<5,>=3.0.2 in /Users/yuliyagil/opt/anaconda3/lib/python3.8/site-packages (from requests>=2.24.0->pandas-profiling) (4.0.0)\n",
      "Requirement already satisfied: notebook>=4.4.1 in /Users/yuliyagil/opt/anaconda3/lib/python3.8/site-packages (from widgetsnbextension~=3.5.0->ipywidgets>=7.5.1->pandas-profiling) (6.4.0)\n",
      "Requirement already satisfied: argon2-cffi in /Users/yuliyagil/opt/anaconda3/lib/python3.8/site-packages (from notebook>=4.4.1->widgetsnbextension~=3.5.0->ipywidgets>=7.5.1->pandas-profiling) (20.1.0)\n",
      "Requirement already satisfied: pyzmq>=17 in /Users/yuliyagil/opt/anaconda3/lib/python3.8/site-packages (from notebook>=4.4.1->widgetsnbextension~=3.5.0->ipywidgets>=7.5.1->pandas-profiling) (20.0.0)\n",
      "Requirement already satisfied: Send2Trash>=1.5.0 in /Users/yuliyagil/opt/anaconda3/lib/python3.8/site-packages (from notebook>=4.4.1->widgetsnbextension~=3.5.0->ipywidgets>=7.5.1->pandas-profiling) (1.5.0)\n",
      "Requirement already satisfied: terminado>=0.8.3 in /Users/yuliyagil/opt/anaconda3/lib/python3.8/site-packages (from notebook>=4.4.1->widgetsnbextension~=3.5.0->ipywidgets>=7.5.1->pandas-profiling) (0.9.4)\n",
      "Requirement already satisfied: nbconvert in /Users/yuliyagil/opt/anaconda3/lib/python3.8/site-packages (from notebook>=4.4.1->widgetsnbextension~=3.5.0->ipywidgets>=7.5.1->pandas-profiling) (6.0.7)\n",
      "Requirement already satisfied: prometheus-client in /Users/yuliyagil/opt/anaconda3/lib/python3.8/site-packages (from notebook>=4.4.1->widgetsnbextension~=3.5.0->ipywidgets>=7.5.1->pandas-profiling) (0.11.0)\n",
      "Requirement already satisfied: cffi>=1.0.0 in /Users/yuliyagil/opt/anaconda3/lib/python3.8/site-packages (from argon2-cffi->notebook>=4.4.1->widgetsnbextension~=3.5.0->ipywidgets>=7.5.1->pandas-profiling) (1.14.5)\n",
      "Requirement already satisfied: pycparser in /Users/yuliyagil/opt/anaconda3/lib/python3.8/site-packages (from cffi>=1.0.0->argon2-cffi->notebook>=4.4.1->widgetsnbextension~=3.5.0->ipywidgets>=7.5.1->pandas-profiling) (2.20)\n",
      "Requirement already satisfied: PyWavelets in /Users/yuliyagil/opt/anaconda3/lib/python3.8/site-packages (from imagehash->visions[type_image_path]==0.6.0->pandas-profiling) (1.1.1)\n",
      "Requirement already satisfied: bleach in /Users/yuliyagil/opt/anaconda3/lib/python3.8/site-packages (from nbconvert->notebook>=4.4.1->widgetsnbextension~=3.5.0->ipywidgets>=7.5.1->pandas-profiling) (3.3.0)\n",
      "Requirement already satisfied: jupyterlab-pygments in /Users/yuliyagil/opt/anaconda3/lib/python3.8/site-packages (from nbconvert->notebook>=4.4.1->widgetsnbextension~=3.5.0->ipywidgets>=7.5.1->pandas-profiling) (0.1.2)\n",
      "Requirement already satisfied: pandocfilters>=1.4.1 in /Users/yuliyagil/opt/anaconda3/lib/python3.8/site-packages (from nbconvert->notebook>=4.4.1->widgetsnbextension~=3.5.0->ipywidgets>=7.5.1->pandas-profiling) (1.4.3)\n",
      "Requirement already satisfied: testpath in /Users/yuliyagil/opt/anaconda3/lib/python3.8/site-packages (from nbconvert->notebook>=4.4.1->widgetsnbextension~=3.5.0->ipywidgets>=7.5.1->pandas-profiling) (0.4.4)\n",
      "Requirement already satisfied: entrypoints>=0.2.2 in /Users/yuliyagil/opt/anaconda3/lib/python3.8/site-packages (from nbconvert->notebook>=4.4.1->widgetsnbextension~=3.5.0->ipywidgets>=7.5.1->pandas-profiling) (0.3)\n",
      "Requirement already satisfied: nbclient<0.6.0,>=0.5.0 in /Users/yuliyagil/opt/anaconda3/lib/python3.8/site-packages (from nbconvert->notebook>=4.4.1->widgetsnbextension~=3.5.0->ipywidgets>=7.5.1->pandas-profiling) (0.5.3)\n",
      "Requirement already satisfied: mistune<2,>=0.8.1 in /Users/yuliyagil/opt/anaconda3/lib/python3.8/site-packages (from nbconvert->notebook>=4.4.1->widgetsnbextension~=3.5.0->ipywidgets>=7.5.1->pandas-profiling) (0.8.4)\n",
      "Requirement already satisfied: defusedxml in /Users/yuliyagil/opt/anaconda3/lib/python3.8/site-packages (from nbconvert->notebook>=4.4.1->widgetsnbextension~=3.5.0->ipywidgets>=7.5.1->pandas-profiling) (0.7.1)\n",
      "Requirement already satisfied: async-generator in /Users/yuliyagil/opt/anaconda3/lib/python3.8/site-packages (from nbclient<0.6.0,>=0.5.0->nbconvert->notebook>=4.4.1->widgetsnbextension~=3.5.0->ipywidgets>=7.5.1->pandas-profiling) (1.10)\n",
      "Requirement already satisfied: nest-asyncio in /Users/yuliyagil/opt/anaconda3/lib/python3.8/site-packages (from nbclient<0.6.0,>=0.5.0->nbconvert->notebook>=4.4.1->widgetsnbextension~=3.5.0->ipywidgets>=7.5.1->pandas-profiling) (1.5.1)\n",
      "Requirement already satisfied: webencodings in /Users/yuliyagil/opt/anaconda3/lib/python3.8/site-packages (from bleach->nbconvert->notebook>=4.4.1->widgetsnbextension~=3.5.0->ipywidgets>=7.5.1->pandas-profiling) (0.5.1)\n",
      "Requirement already satisfied: packaging in /Users/yuliyagil/opt/anaconda3/lib/python3.8/site-packages (from bleach->nbconvert->notebook>=4.4.1->widgetsnbextension~=3.5.0->ipywidgets>=7.5.1->pandas-profiling) (20.9)\n",
      "Note: you may need to restart the kernel to use updated packages.\n"
     ]
    }
   ],
   "source": [
    "pip install pandas-profiling"
   ]
  },
  {
   "cell_type": "code",
   "execution_count": 3,
   "metadata": {
    "_cell_guid": "b1076dfc-b9ad-4769-8c92-a6c4dae69d19",
    "_uuid": "8f2839f25d086af736a60e9eeb907d3b93b6e0e5",
    "execution": {
     "iopub.execute_input": "2021-08-25T11:04:23.401994Z",
     "iopub.status.busy": "2021-08-25T11:04:23.400259Z",
     "iopub.status.idle": "2021-08-25T11:04:23.413459Z",
     "shell.execute_reply": "2021-08-25T11:04:23.411604Z",
     "shell.execute_reply.started": "2021-08-25T11:04:23.401937Z"
    },
    "papermill": {
     "duration": 1.219772,
     "end_time": "2020-10-26T12:46:42.581597",
     "exception": false,
     "start_time": "2020-10-26T12:46:41.361825",
     "status": "completed"
    },
    "scrolled": true,
    "tags": []
   },
   "outputs": [],
   "source": [
    "import numpy as np\n",
    "import pandas as pd\n",
    "import sys\n",
    "import re\n",
    "import seaborn as sns\n",
    "import matplotlib.pyplot as plt\n",
    "import warnings\n",
    "\n",
    "from pandas_profiling import ProfileReport\n",
    "from sklearn.model_selection import train_test_split\n",
    "from sklearn.model_selection import KFold\n",
    "from tqdm.notebook import tqdm\n",
    "from catboost import CatBoostRegressor\n",
    "from sklearn.preprocessing import LabelEncoder, OneHotEncoder, StandardScaler, MultiLabelBinarizer\n",
    "\n",
    "%matplotlib inline\n",
    "warnings.simplefilter('ignore')\n",
    "sns.set()"
   ]
  },
  {
   "cell_type": "code",
   "execution_count": 4,
   "metadata": {
    "_kg_hide-input": true,
    "execution": {
     "iopub.execute_input": "2021-08-25T11:04:23.417239Z",
     "iopub.status.busy": "2021-08-25T11:04:23.416559Z",
     "iopub.status.idle": "2021-08-25T11:04:23.433238Z",
     "shell.execute_reply": "2021-08-25T11:04:23.431761Z",
     "shell.execute_reply.started": "2021-08-25T11:04:23.417183Z"
    },
    "papermill": {
     "duration": 0.040034,
     "end_time": "2020-10-26T12:46:42.650603",
     "exception": false,
     "start_time": "2020-10-26T12:46:42.610569",
     "status": "completed"
    },
    "scrolled": true,
    "tags": []
   },
   "outputs": [
    {
     "name": "stdout",
     "output_type": "stream",
     "text": [
      "Python       : 3.8.10 (default, May 19 2021, 11:01:55) \n",
      "Numpy        : 1.19.1\n"
     ]
    }
   ],
   "source": [
    "print('Python       :', sys.version.split('\\n')[0])\n",
    "print('Numpy        :', np.__version__)"
   ]
  },
  {
   "cell_type": "code",
   "execution_count": 5,
   "metadata": {
    "_kg_hide-input": true,
    "execution": {
     "iopub.execute_input": "2021-08-25T11:04:23.436128Z",
     "iopub.status.busy": "2021-08-25T11:04:23.435535Z",
     "iopub.status.idle": "2021-08-25T11:04:25.598024Z",
     "shell.execute_reply": "2021-08-25T11:04:25.595679Z",
     "shell.execute_reply.started": "2021-08-25T11:04:23.436089Z"
    },
    "papermill": {
     "duration": 5.172536,
     "end_time": "2020-10-26T12:46:47.852593",
     "exception": false,
     "start_time": "2020-10-26T12:46:42.680057",
     "status": "completed"
    },
    "scrolled": true,
    "tags": []
   },
   "outputs": [],
   "source": [
    "# зафиксируем версию пакетов, чтобы эксперименты были воспроизводимы:\n",
    "!pip freeze > requirements.txt"
   ]
  },
  {
   "cell_type": "code",
   "execution_count": 6,
   "metadata": {
    "execution": {
     "iopub.execute_input": "2021-08-25T11:04:25.60077Z",
     "iopub.status.busy": "2021-08-25T11:04:25.600253Z",
     "iopub.status.idle": "2021-08-25T11:04:25.605541Z",
     "shell.execute_reply": "2021-08-25T11:04:25.604709Z",
     "shell.execute_reply.started": "2021-08-25T11:04:25.60071Z"
    },
    "papermill": {
     "duration": 0.039842,
     "end_time": "2020-10-26T12:46:47.922434",
     "exception": false,
     "start_time": "2020-10-26T12:46:47.882592",
     "status": "completed"
    },
    "scrolled": true,
    "tags": []
   },
   "outputs": [],
   "source": [
    "# всегда фиксируйте RANDOM_SEED, чтобы ваши эксперименты были воспроизводимы!\n",
    "RANDOM_SEED = 42"
   ]
  },
  {
   "cell_type": "markdown",
   "metadata": {},
   "source": [
    "## Functions"
   ]
  },
  {
   "cell_type": "code",
   "execution_count": 7,
   "metadata": {
    "_kg_hide-input": true,
    "execution": {
     "iopub.execute_input": "2021-08-25T11:04:25.607405Z",
     "iopub.status.busy": "2021-08-25T11:04:25.606972Z",
     "iopub.status.idle": "2021-08-25T11:04:25.62468Z",
     "shell.execute_reply": "2021-08-25T11:04:25.622999Z",
     "shell.execute_reply.started": "2021-08-25T11:04:25.607362Z"
    },
    "scrolled": true
   },
   "outputs": [],
   "source": [
    "def mape(y_true, y_pred):\n",
    "    return np.mean(np.abs((y_pred-y_true)/y_true))"
   ]
  },
  {
   "cell_type": "markdown",
   "metadata": {
    "papermill": {
     "duration": 0.028837,
     "end_time": "2020-10-26T12:46:47.981435",
     "exception": false,
     "start_time": "2020-10-26T12:46:47.952598",
     "status": "completed"
    },
    "tags": []
   },
   "source": [
    "## Setup"
   ]
  },
  {
   "cell_type": "code",
   "execution_count": 8,
   "metadata": {
    "execution": {
     "iopub.execute_input": "2021-08-25T11:04:25.629321Z",
     "iopub.status.busy": "2021-08-25T11:04:25.628695Z",
     "iopub.status.idle": "2021-08-25T11:04:25.644386Z",
     "shell.execute_reply": "2021-08-25T11:04:25.641774Z",
     "shell.execute_reply.started": "2021-08-25T11:04:25.629265Z"
    },
    "papermill": {
     "duration": 0.039969,
     "end_time": "2020-10-26T12:46:48.052728",
     "exception": false,
     "start_time": "2020-10-26T12:46:48.012759",
     "status": "completed"
    },
    "scrolled": true,
    "tags": []
   },
   "outputs": [],
   "source": [
    "VERSION = 16\n",
    "# подключил к ноутбуку внешний датасет\n",
    "DIR_TRAIN = '../input/parsing-all-moscow-auto-ru-09-09-2020/'\n",
    "DIR_TEST = '../input/sf-dst-car-price-prediction/'\n",
    "VAL_SIZE = 0.20   # 20%"
   ]
  },
  {
   "cell_type": "markdown",
   "metadata": {
    "papermill": {
     "duration": 0.030254,
     "end_time": "2020-10-26T12:46:48.112586",
     "exception": false,
     "start_time": "2020-10-26T12:46:48.082332",
     "status": "completed"
    },
    "tags": []
   },
   "source": [
    "<a id=\"2\"></a>\n",
    "# 2. DATA & PRELIMINARY ANALYSIS"
   ]
  },
  {
   "cell_type": "markdown",
   "metadata": {},
   "source": [
    "## Data Storage"
   ]
  },
  {
   "cell_type": "code",
   "execution_count": 9,
   "metadata": {
    "execution": {
     "iopub.execute_input": "2021-08-25T11:04:25.647644Z",
     "iopub.status.busy": "2021-08-25T11:04:25.647068Z",
     "iopub.status.idle": "2021-08-25T11:04:26.416522Z",
     "shell.execute_reply": "2021-08-25T11:04:26.415025Z",
     "shell.execute_reply.started": "2021-08-25T11:04:25.647589Z"
    },
    "papermill": {
     "duration": 0.783211,
     "end_time": "2020-10-26T12:46:48.925418",
     "exception": false,
     "start_time": "2020-10-26T12:46:48.142207",
     "status": "completed"
    },
    "scrolled": true,
    "tags": []
   },
   "outputs": [
    {
     "name": "stdout",
     "output_type": "stream",
     "text": [
      "ls: ../input: No such file or directory\r\n"
     ]
    }
   ],
   "source": [
    "!ls '../input'"
   ]
  },
  {
   "cell_type": "code",
   "execution_count": 10,
   "metadata": {
    "_cell_guid": "79c7e3d0-c299-4dcb-8224-4455121ee9b0",
    "_uuid": "d629ff2d2480ee46fbb7e2d37f6b5fab8052498a",
    "execution": {
     "iopub.execute_input": "2021-08-25T11:04:26.419412Z",
     "iopub.status.busy": "2021-08-25T11:04:26.418986Z",
     "iopub.status.idle": "2021-08-25T11:04:32.223441Z",
     "shell.execute_reply": "2021-08-25T11:04:32.222029Z",
     "shell.execute_reply.started": "2021-08-25T11:04:26.419369Z"
    },
    "papermill": {
     "duration": 13.16556,
     "end_time": "2020-10-26T12:47:02.12133",
     "exception": false,
     "start_time": "2020-10-26T12:46:48.95577",
     "status": "completed"
    },
    "scrolled": true,
    "tags": []
   },
   "outputs": [
    {
     "data": {
      "text/plain": [
       "\" train = pd.read_csv(DIR_TRAIN+'all_auto_ru_09_09_2020.csv') # датасет для обучения модели\\ntest = pd.read_csv(DIR_TEST+'test.csv')\\nsample_submission = pd.read_csv(DIR_TEST+'sample_submission.csv')\""
      ]
     },
     "execution_count": 10,
     "metadata": {},
     "output_type": "execute_result"
    }
   ],
   "source": [
    "# Подключение с Kaggle\n",
    "\"\"\" train = pd.read_csv(DIR_TRAIN+'all_auto_ru_09_09_2020.csv') # датасет для обучения модели\n",
    "test = pd.read_csv(DIR_TEST+'test.csv')\n",
    "sample_submission = pd.read_csv(DIR_TEST+'sample_submission.csv')\"\"\""
   ]
  },
  {
   "cell_type": "code",
   "execution_count": 11,
   "metadata": {
    "scrolled": true
   },
   "outputs": [],
   "source": [
    "# Подключение при работе в Jupyter/Github\n",
    "# подключение тестового train датасета\n",
    "train = pd.read_csv('all_auto_ru_09_09_2020.csv')\n",
    "#train2 = pd.read_csv('autoru_res.csv', sep=\",\")\n",
    "test = pd.read_csv('test.csv')\n",
    "sample_submission = pd.read_csv('sample_submission.csv')"
   ]
  },
  {
   "cell_type": "code",
   "execution_count": 12,
   "metadata": {
    "scrolled": true
   },
   "outputs": [
    {
     "data": {
      "text/html": [
       "<div>\n",
       "<style scoped>\n",
       "    .dataframe tbody tr th:only-of-type {\n",
       "        vertical-align: middle;\n",
       "    }\n",
       "\n",
       "    .dataframe tbody tr th {\n",
       "        vertical-align: top;\n",
       "    }\n",
       "\n",
       "    .dataframe thead th {\n",
       "        text-align: right;\n",
       "    }\n",
       "</style>\n",
       "<table border=\"1\" class=\"dataframe\">\n",
       "  <thead>\n",
       "    <tr style=\"text-align: right;\">\n",
       "      <th></th>\n",
       "      <th>bodyType</th>\n",
       "      <th>brand</th>\n",
       "      <th>color</th>\n",
       "      <th>fuelType</th>\n",
       "      <th>modelDate</th>\n",
       "      <th>name</th>\n",
       "      <th>numberOfDoors</th>\n",
       "      <th>productionDate</th>\n",
       "      <th>vehicleConfiguration</th>\n",
       "      <th>vehicleTransmission</th>\n",
       "      <th>...</th>\n",
       "      <th>Руль</th>\n",
       "      <th>Состояние</th>\n",
       "      <th>Владельцы</th>\n",
       "      <th>ПТС</th>\n",
       "      <th>Таможня</th>\n",
       "      <th>Владение</th>\n",
       "      <th>price</th>\n",
       "      <th>start_date</th>\n",
       "      <th>hidden</th>\n",
       "      <th>model</th>\n",
       "    </tr>\n",
       "  </thead>\n",
       "  <tbody>\n",
       "    <tr>\n",
       "      <th>0</th>\n",
       "      <td>Седан</td>\n",
       "      <td>AUDI</td>\n",
       "      <td>040001</td>\n",
       "      <td>бензин</td>\n",
       "      <td>1990.0</td>\n",
       "      <td>2.8 MT (174 л.с.) 4WD</td>\n",
       "      <td>4.0</td>\n",
       "      <td>1991</td>\n",
       "      <td>SEDAN MECHANICAL 2.8</td>\n",
       "      <td>MECHANICAL</td>\n",
       "      <td>...</td>\n",
       "      <td>LEFT</td>\n",
       "      <td>NaN</td>\n",
       "      <td>3.0</td>\n",
       "      <td>ORIGINAL</td>\n",
       "      <td>True</td>\n",
       "      <td>NaN</td>\n",
       "      <td>200000.0</td>\n",
       "      <td>2019-10-03T08:09:11Z</td>\n",
       "      <td>NaN</td>\n",
       "      <td>100</td>\n",
       "    </tr>\n",
       "    <tr>\n",
       "      <th>1</th>\n",
       "      <td>Седан</td>\n",
       "      <td>AUDI</td>\n",
       "      <td>EE1D19</td>\n",
       "      <td>бензин</td>\n",
       "      <td>1982.0</td>\n",
       "      <td>1.8 MT (90 л.с.)</td>\n",
       "      <td>4.0</td>\n",
       "      <td>1986</td>\n",
       "      <td>SEDAN MECHANICAL 1.8</td>\n",
       "      <td>MECHANICAL</td>\n",
       "      <td>...</td>\n",
       "      <td>LEFT</td>\n",
       "      <td>NaN</td>\n",
       "      <td>3.0</td>\n",
       "      <td>ORIGINAL</td>\n",
       "      <td>True</td>\n",
       "      <td>NaN</td>\n",
       "      <td>60000.0</td>\n",
       "      <td>2020-09-06T06:49:40Z</td>\n",
       "      <td>NaN</td>\n",
       "      <td>100</td>\n",
       "    </tr>\n",
       "    <tr>\n",
       "      <th>2</th>\n",
       "      <td>Универсал 5 дв.</td>\n",
       "      <td>AUDI</td>\n",
       "      <td>0000CC</td>\n",
       "      <td>бензин</td>\n",
       "      <td>1988.0</td>\n",
       "      <td>2.3 MT (136 л.с.) 4WD</td>\n",
       "      <td>5.0</td>\n",
       "      <td>1989</td>\n",
       "      <td>WAGON_5_DOORS MECHANICAL 2.3</td>\n",
       "      <td>MECHANICAL</td>\n",
       "      <td>...</td>\n",
       "      <td>LEFT</td>\n",
       "      <td>NaN</td>\n",
       "      <td>3.0</td>\n",
       "      <td>ORIGINAL</td>\n",
       "      <td>True</td>\n",
       "      <td>NaN</td>\n",
       "      <td>99000.0</td>\n",
       "      <td>2020-09-02T14:04:21Z</td>\n",
       "      <td>NaN</td>\n",
       "      <td>100</td>\n",
       "    </tr>\n",
       "    <tr>\n",
       "      <th>3</th>\n",
       "      <td>Седан</td>\n",
       "      <td>AUDI</td>\n",
       "      <td>CACECB</td>\n",
       "      <td>бензин</td>\n",
       "      <td>1988.0</td>\n",
       "      <td>1.8 MT (90 л.с.)</td>\n",
       "      <td>4.0</td>\n",
       "      <td>1989</td>\n",
       "      <td>SEDAN MECHANICAL 1.8</td>\n",
       "      <td>MECHANICAL</td>\n",
       "      <td>...</td>\n",
       "      <td>LEFT</td>\n",
       "      <td>NaN</td>\n",
       "      <td>3.0</td>\n",
       "      <td>ORIGINAL</td>\n",
       "      <td>True</td>\n",
       "      <td>NaN</td>\n",
       "      <td>65000.0</td>\n",
       "      <td>2020-08-23T17:40:09Z</td>\n",
       "      <td>NaN</td>\n",
       "      <td>100</td>\n",
       "    </tr>\n",
       "    <tr>\n",
       "      <th>4</th>\n",
       "      <td>Седан</td>\n",
       "      <td>AUDI</td>\n",
       "      <td>040001</td>\n",
       "      <td>бензин</td>\n",
       "      <td>1990.0</td>\n",
       "      <td>2.0 MT (101 л.с.)</td>\n",
       "      <td>4.0</td>\n",
       "      <td>1991</td>\n",
       "      <td>SEDAN MECHANICAL 2.0</td>\n",
       "      <td>MECHANICAL</td>\n",
       "      <td>...</td>\n",
       "      <td>LEFT</td>\n",
       "      <td>NaN</td>\n",
       "      <td>3.0</td>\n",
       "      <td>DUPLICATE</td>\n",
       "      <td>True</td>\n",
       "      <td>NaN</td>\n",
       "      <td>100000.0</td>\n",
       "      <td>2020-09-08T09:22:07Z</td>\n",
       "      <td>NaN</td>\n",
       "      <td>100</td>\n",
       "    </tr>\n",
       "  </tbody>\n",
       "</table>\n",
       "<p>5 rows × 26 columns</p>\n",
       "</div>"
      ],
      "text/plain": [
       "          bodyType brand   color fuelType  modelDate                   name  \\\n",
       "0            Седан  AUDI  040001   бензин     1990.0  2.8 MT (174 л.с.) 4WD   \n",
       "1            Седан  AUDI  EE1D19   бензин     1982.0       1.8 MT (90 л.с.)   \n",
       "2  Универсал 5 дв.  AUDI  0000CC   бензин     1988.0  2.3 MT (136 л.с.) 4WD   \n",
       "3            Седан  AUDI  CACECB   бензин     1988.0       1.8 MT (90 л.с.)   \n",
       "4            Седан  AUDI  040001   бензин     1990.0      2.0 MT (101 л.с.)   \n",
       "\n",
       "   numberOfDoors  productionDate          vehicleConfiguration  \\\n",
       "0            4.0            1991          SEDAN MECHANICAL 2.8   \n",
       "1            4.0            1986          SEDAN MECHANICAL 1.8   \n",
       "2            5.0            1989  WAGON_5_DOORS MECHANICAL 2.3   \n",
       "3            4.0            1989          SEDAN MECHANICAL 1.8   \n",
       "4            4.0            1991          SEDAN MECHANICAL 2.0   \n",
       "\n",
       "  vehicleTransmission  ...  Руль  Состояние Владельцы        ПТС Таможня  \\\n",
       "0          MECHANICAL  ...  LEFT        NaN       3.0   ORIGINAL    True   \n",
       "1          MECHANICAL  ...  LEFT        NaN       3.0   ORIGINAL    True   \n",
       "2          MECHANICAL  ...  LEFT        NaN       3.0   ORIGINAL    True   \n",
       "3          MECHANICAL  ...  LEFT        NaN       3.0   ORIGINAL    True   \n",
       "4          MECHANICAL  ...  LEFT        NaN       3.0  DUPLICATE    True   \n",
       "\n",
       "  Владение     price            start_date  hidden model  \n",
       "0      NaN  200000.0  2019-10-03T08:09:11Z     NaN   100  \n",
       "1      NaN   60000.0  2020-09-06T06:49:40Z     NaN   100  \n",
       "2      NaN   99000.0  2020-09-02T14:04:21Z     NaN   100  \n",
       "3      NaN   65000.0  2020-08-23T17:40:09Z     NaN   100  \n",
       "4      NaN  100000.0  2020-09-08T09:22:07Z     NaN   100  \n",
       "\n",
       "[5 rows x 26 columns]"
      ]
     },
     "execution_count": 12,
     "metadata": {},
     "output_type": "execute_result"
    }
   ],
   "source": [
    "train.head()"
   ]
  },
  {
   "cell_type": "code",
   "execution_count": 13,
   "metadata": {
    "scrolled": true
   },
   "outputs": [
    {
     "data": {
      "text/html": [
       "<div>\n",
       "<style scoped>\n",
       "    .dataframe tbody tr th:only-of-type {\n",
       "        vertical-align: middle;\n",
       "    }\n",
       "\n",
       "    .dataframe tbody tr th {\n",
       "        vertical-align: top;\n",
       "    }\n",
       "\n",
       "    .dataframe thead th {\n",
       "        text-align: right;\n",
       "    }\n",
       "</style>\n",
       "<table border=\"1\" class=\"dataframe\">\n",
       "  <thead>\n",
       "    <tr style=\"text-align: right;\">\n",
       "      <th></th>\n",
       "      <th>bodyType</th>\n",
       "      <th>brand</th>\n",
       "      <th>car_url</th>\n",
       "      <th>color</th>\n",
       "      <th>complectation_dict</th>\n",
       "      <th>description</th>\n",
       "      <th>engineDisplacement</th>\n",
       "      <th>enginePower</th>\n",
       "      <th>equipment_dict</th>\n",
       "      <th>fuelType</th>\n",
       "      <th>...</th>\n",
       "      <th>vehicleConfiguration</th>\n",
       "      <th>vehicleTransmission</th>\n",
       "      <th>vendor</th>\n",
       "      <th>Владельцы</th>\n",
       "      <th>Владение</th>\n",
       "      <th>ПТС</th>\n",
       "      <th>Привод</th>\n",
       "      <th>Руль</th>\n",
       "      <th>Состояние</th>\n",
       "      <th>Таможня</th>\n",
       "    </tr>\n",
       "  </thead>\n",
       "  <tbody>\n",
       "    <tr>\n",
       "      <th>0</th>\n",
       "      <td>лифтбек</td>\n",
       "      <td>SKODA</td>\n",
       "      <td>https://auto.ru/cars/used/sale/skoda/octavia/1...</td>\n",
       "      <td>синий</td>\n",
       "      <td>NaN</td>\n",
       "      <td>Все автомобили, представленные в продаже, прох...</td>\n",
       "      <td>1.2 LTR</td>\n",
       "      <td>105 N12</td>\n",
       "      <td>{\"engine-proof\":true,\"tinted-glass\":true,\"airb...</td>\n",
       "      <td>бензин</td>\n",
       "      <td>...</td>\n",
       "      <td>LIFTBACK ROBOT 1.2</td>\n",
       "      <td>роботизированная</td>\n",
       "      <td>EUROPEAN</td>\n",
       "      <td>3 или более</td>\n",
       "      <td>NaN</td>\n",
       "      <td>Оригинал</td>\n",
       "      <td>передний</td>\n",
       "      <td>Левый</td>\n",
       "      <td>Не требует ремонта</td>\n",
       "      <td>Растаможен</td>\n",
       "    </tr>\n",
       "    <tr>\n",
       "      <th>1</th>\n",
       "      <td>лифтбек</td>\n",
       "      <td>SKODA</td>\n",
       "      <td>https://auto.ru/cars/used/sale/skoda/octavia/1...</td>\n",
       "      <td>чёрный</td>\n",
       "      <td>NaN</td>\n",
       "      <td>ЛОТ: 01217195\\nАвтопрага Север\\nДанный автомоб...</td>\n",
       "      <td>1.6 LTR</td>\n",
       "      <td>110 N12</td>\n",
       "      <td>{\"cruise-control\":true,\"asr\":true,\"esp\":true,\"...</td>\n",
       "      <td>бензин</td>\n",
       "      <td>...</td>\n",
       "      <td>LIFTBACK MECHANICAL 1.6</td>\n",
       "      <td>механическая</td>\n",
       "      <td>EUROPEAN</td>\n",
       "      <td>1 владелец</td>\n",
       "      <td>NaN</td>\n",
       "      <td>Оригинал</td>\n",
       "      <td>передний</td>\n",
       "      <td>Левый</td>\n",
       "      <td>Не требует ремонта</td>\n",
       "      <td>Растаможен</td>\n",
       "    </tr>\n",
       "    <tr>\n",
       "      <th>2</th>\n",
       "      <td>лифтбек</td>\n",
       "      <td>SKODA</td>\n",
       "      <td>https://auto.ru/cars/used/sale/skoda/superb/11...</td>\n",
       "      <td>серый</td>\n",
       "      <td>{\"id\":\"20026336\",\"name\":\"Ambition\",\"available_...</td>\n",
       "      <td>Все автомобили, представленные в продаже, прох...</td>\n",
       "      <td>1.8 LTR</td>\n",
       "      <td>152 N12</td>\n",
       "      <td>{\"cruise-control\":true,\"tinted-glass\":true,\"es...</td>\n",
       "      <td>бензин</td>\n",
       "      <td>...</td>\n",
       "      <td>LIFTBACK ROBOT 1.8</td>\n",
       "      <td>роботизированная</td>\n",
       "      <td>EUROPEAN</td>\n",
       "      <td>1 владелец</td>\n",
       "      <td>NaN</td>\n",
       "      <td>Оригинал</td>\n",
       "      <td>передний</td>\n",
       "      <td>Левый</td>\n",
       "      <td>Не требует ремонта</td>\n",
       "      <td>Растаможен</td>\n",
       "    </tr>\n",
       "    <tr>\n",
       "      <th>3</th>\n",
       "      <td>лифтбек</td>\n",
       "      <td>SKODA</td>\n",
       "      <td>https://auto.ru/cars/used/sale/skoda/octavia/1...</td>\n",
       "      <td>коричневый</td>\n",
       "      <td>{\"id\":\"20803582\",\"name\":\"Ambition\",\"available_...</td>\n",
       "      <td>КОМПЛЕКТ ЗИМНЕЙ (ЛЕТНЕЙ) РЕЗИНЫ ПО СЕЗОНУ В ПО...</td>\n",
       "      <td>1.6 LTR</td>\n",
       "      <td>110 N12</td>\n",
       "      <td>{\"cruise-control\":true,\"roller-blind-for-rear-...</td>\n",
       "      <td>бензин</td>\n",
       "      <td>...</td>\n",
       "      <td>LIFTBACK AUTOMATIC 1.6</td>\n",
       "      <td>автоматическая</td>\n",
       "      <td>EUROPEAN</td>\n",
       "      <td>1 владелец</td>\n",
       "      <td>NaN</td>\n",
       "      <td>Оригинал</td>\n",
       "      <td>передний</td>\n",
       "      <td>Левый</td>\n",
       "      <td>Не требует ремонта</td>\n",
       "      <td>Растаможен</td>\n",
       "    </tr>\n",
       "    <tr>\n",
       "      <th>4</th>\n",
       "      <td>лифтбек</td>\n",
       "      <td>SKODA</td>\n",
       "      <td>https://auto.ru/cars/used/sale/skoda/octavia/1...</td>\n",
       "      <td>белый</td>\n",
       "      <td>NaN</td>\n",
       "      <td>ЛОТ: 01220889\\nАвтопрага Север\\n\\nВы можете по...</td>\n",
       "      <td>1.8 LTR</td>\n",
       "      <td>152 N12</td>\n",
       "      <td>{\"cruise-control\":true,\"asr\":true,\"esp\":true,\"...</td>\n",
       "      <td>бензин</td>\n",
       "      <td>...</td>\n",
       "      <td>LIFTBACK AUTOMATIC 1.8</td>\n",
       "      <td>автоматическая</td>\n",
       "      <td>EUROPEAN</td>\n",
       "      <td>1 владелец</td>\n",
       "      <td>NaN</td>\n",
       "      <td>Оригинал</td>\n",
       "      <td>передний</td>\n",
       "      <td>Левый</td>\n",
       "      <td>Не требует ремонта</td>\n",
       "      <td>Растаможен</td>\n",
       "    </tr>\n",
       "  </tbody>\n",
       "</table>\n",
       "<p>5 rows × 32 columns</p>\n",
       "</div>"
      ],
      "text/plain": [
       "  bodyType  brand                                            car_url  \\\n",
       "0  лифтбек  SKODA  https://auto.ru/cars/used/sale/skoda/octavia/1...   \n",
       "1  лифтбек  SKODA  https://auto.ru/cars/used/sale/skoda/octavia/1...   \n",
       "2  лифтбек  SKODA  https://auto.ru/cars/used/sale/skoda/superb/11...   \n",
       "3  лифтбек  SKODA  https://auto.ru/cars/used/sale/skoda/octavia/1...   \n",
       "4  лифтбек  SKODA  https://auto.ru/cars/used/sale/skoda/octavia/1...   \n",
       "\n",
       "        color                                 complectation_dict  \\\n",
       "0       синий                                                NaN   \n",
       "1      чёрный                                                NaN   \n",
       "2       серый  {\"id\":\"20026336\",\"name\":\"Ambition\",\"available_...   \n",
       "3  коричневый  {\"id\":\"20803582\",\"name\":\"Ambition\",\"available_...   \n",
       "4       белый                                                NaN   \n",
       "\n",
       "                                         description engineDisplacement  \\\n",
       "0  Все автомобили, представленные в продаже, прох...            1.2 LTR   \n",
       "1  ЛОТ: 01217195\\nАвтопрага Север\\nДанный автомоб...            1.6 LTR   \n",
       "2  Все автомобили, представленные в продаже, прох...            1.8 LTR   \n",
       "3  КОМПЛЕКТ ЗИМНЕЙ (ЛЕТНЕЙ) РЕЗИНЫ ПО СЕЗОНУ В ПО...            1.6 LTR   \n",
       "4  ЛОТ: 01220889\\nАвтопрага Север\\n\\nВы можете по...            1.8 LTR   \n",
       "\n",
       "  enginePower                                     equipment_dict fuelType  \\\n",
       "0     105 N12  {\"engine-proof\":true,\"tinted-glass\":true,\"airb...   бензин   \n",
       "1     110 N12  {\"cruise-control\":true,\"asr\":true,\"esp\":true,\"...   бензин   \n",
       "2     152 N12  {\"cruise-control\":true,\"tinted-glass\":true,\"es...   бензин   \n",
       "3     110 N12  {\"cruise-control\":true,\"roller-blind-for-rear-...   бензин   \n",
       "4     152 N12  {\"cruise-control\":true,\"asr\":true,\"esp\":true,\"...   бензин   \n",
       "\n",
       "   ...     vehicleConfiguration  vehicleTransmission    vendor    Владельцы  \\\n",
       "0  ...       LIFTBACK ROBOT 1.2     роботизированная  EUROPEAN  3 или более   \n",
       "1  ...  LIFTBACK MECHANICAL 1.6         механическая  EUROPEAN   1 владелец   \n",
       "2  ...       LIFTBACK ROBOT 1.8     роботизированная  EUROPEAN   1 владелец   \n",
       "3  ...   LIFTBACK AUTOMATIC 1.6       автоматическая  EUROPEAN   1 владелец   \n",
       "4  ...   LIFTBACK AUTOMATIC 1.8       автоматическая  EUROPEAN   1 владелец   \n",
       "\n",
       "  Владение       ПТС    Привод   Руль           Состояние     Таможня  \n",
       "0      NaN  Оригинал  передний  Левый  Не требует ремонта  Растаможен  \n",
       "1      NaN  Оригинал  передний  Левый  Не требует ремонта  Растаможен  \n",
       "2      NaN  Оригинал  передний  Левый  Не требует ремонта  Растаможен  \n",
       "3      NaN  Оригинал  передний  Левый  Не требует ремонта  Растаможен  \n",
       "4      NaN  Оригинал  передний  Левый  Не требует ремонта  Растаможен  \n",
       "\n",
       "[5 rows x 32 columns]"
      ]
     },
     "execution_count": 13,
     "metadata": {},
     "output_type": "execute_result"
    }
   ],
   "source": [
    "test.head()"
   ]
  },
  {
   "cell_type": "code",
   "execution_count": 14,
   "metadata": {
    "execution": {
     "iopub.execute_input": "2021-08-25T11:04:32.275268Z",
     "iopub.status.busy": "2021-08-25T11:04:32.274922Z",
     "iopub.status.idle": "2021-08-25T11:04:32.461351Z",
     "shell.execute_reply": "2021-08-25T11:04:32.459854Z",
     "shell.execute_reply.started": "2021-08-25T11:04:32.275216Z"
    },
    "papermill": {
     "duration": 0.22352,
     "end_time": "2020-10-26T12:47:02.502166",
     "exception": false,
     "start_time": "2020-10-26T12:47:02.278646",
     "status": "completed"
    },
    "scrolled": true,
    "tags": []
   },
   "outputs": [
    {
     "name": "stdout",
     "output_type": "stream",
     "text": [
      "<class 'pandas.core.frame.DataFrame'>\n",
      "RangeIndex: 89378 entries, 0 to 89377\n",
      "Data columns (total 26 columns):\n",
      " #   Column                Non-Null Count  Dtype  \n",
      "---  ------                --------------  -----  \n",
      " 0   bodyType              89377 non-null  object \n",
      " 1   brand                 89378 non-null  object \n",
      " 2   color                 89378 non-null  object \n",
      " 3   fuelType              89378 non-null  object \n",
      " 4   modelDate             89377 non-null  float64\n",
      " 5   name                  89377 non-null  object \n",
      " 6   numberOfDoors         89377 non-null  float64\n",
      " 7   productionDate        89378 non-null  int64  \n",
      " 8   vehicleConfiguration  89377 non-null  object \n",
      " 9   vehicleTransmission   89377 non-null  object \n",
      " 10  engineDisplacement    89377 non-null  object \n",
      " 11  enginePower           89377 non-null  float64\n",
      " 12  description           86124 non-null  object \n",
      " 13  mileage               89378 non-null  int64  \n",
      " 14  Комплектация          89378 non-null  object \n",
      " 15  Привод                89377 non-null  object \n",
      " 16  Руль                  89378 non-null  object \n",
      " 17  Состояние             0 non-null      float64\n",
      " 18  Владельцы             75790 non-null  float64\n",
      " 19  ПТС                   89017 non-null  object \n",
      " 20  Таможня               89378 non-null  bool   \n",
      " 21  Владение              29201 non-null  object \n",
      " 22  price                 88968 non-null  float64\n",
      " 23  start_date            89378 non-null  object \n",
      " 24  hidden                0 non-null      float64\n",
      " 25  model                 89378 non-null  object \n",
      "dtypes: bool(1), float64(7), int64(2), object(16)\n",
      "memory usage: 17.1+ MB\n"
     ]
    }
   ],
   "source": [
    "train.info()"
   ]
  },
  {
   "cell_type": "code",
   "execution_count": 15,
   "metadata": {
    "execution": {
     "iopub.execute_input": "2021-08-25T11:04:32.463343Z",
     "iopub.status.busy": "2021-08-25T11:04:32.462975Z",
     "iopub.status.idle": "2021-08-25T11:04:32.496176Z",
     "shell.execute_reply": "2021-08-25T11:04:32.494517Z",
     "shell.execute_reply.started": "2021-08-25T11:04:32.463307Z"
    },
    "papermill": {
     "duration": 0.069985,
     "end_time": "2020-10-26T12:47:02.604497",
     "exception": false,
     "start_time": "2020-10-26T12:47:02.534512",
     "status": "completed"
    },
    "scrolled": true,
    "tags": []
   },
   "outputs": [
    {
     "data": {
      "text/html": [
       "<div>\n",
       "<style scoped>\n",
       "    .dataframe tbody tr th:only-of-type {\n",
       "        vertical-align: middle;\n",
       "    }\n",
       "\n",
       "    .dataframe tbody tr th {\n",
       "        vertical-align: top;\n",
       "    }\n",
       "\n",
       "    .dataframe thead th {\n",
       "        text-align: right;\n",
       "    }\n",
       "</style>\n",
       "<table border=\"1\" class=\"dataframe\">\n",
       "  <thead>\n",
       "    <tr style=\"text-align: right;\">\n",
       "      <th></th>\n",
       "      <th>bodyType</th>\n",
       "      <th>brand</th>\n",
       "      <th>car_url</th>\n",
       "      <th>color</th>\n",
       "      <th>complectation_dict</th>\n",
       "      <th>description</th>\n",
       "      <th>engineDisplacement</th>\n",
       "      <th>enginePower</th>\n",
       "      <th>equipment_dict</th>\n",
       "      <th>fuelType</th>\n",
       "      <th>...</th>\n",
       "      <th>vehicleConfiguration</th>\n",
       "      <th>vehicleTransmission</th>\n",
       "      <th>vendor</th>\n",
       "      <th>Владельцы</th>\n",
       "      <th>Владение</th>\n",
       "      <th>ПТС</th>\n",
       "      <th>Привод</th>\n",
       "      <th>Руль</th>\n",
       "      <th>Состояние</th>\n",
       "      <th>Таможня</th>\n",
       "    </tr>\n",
       "  </thead>\n",
       "  <tbody>\n",
       "    <tr>\n",
       "      <th>0</th>\n",
       "      <td>лифтбек</td>\n",
       "      <td>SKODA</td>\n",
       "      <td>https://auto.ru/cars/used/sale/skoda/octavia/1...</td>\n",
       "      <td>синий</td>\n",
       "      <td>NaN</td>\n",
       "      <td>Все автомобили, представленные в продаже, прох...</td>\n",
       "      <td>1.2 LTR</td>\n",
       "      <td>105 N12</td>\n",
       "      <td>{\"engine-proof\":true,\"tinted-glass\":true,\"airb...</td>\n",
       "      <td>бензин</td>\n",
       "      <td>...</td>\n",
       "      <td>LIFTBACK ROBOT 1.2</td>\n",
       "      <td>роботизированная</td>\n",
       "      <td>EUROPEAN</td>\n",
       "      <td>3 или более</td>\n",
       "      <td>NaN</td>\n",
       "      <td>Оригинал</td>\n",
       "      <td>передний</td>\n",
       "      <td>Левый</td>\n",
       "      <td>Не требует ремонта</td>\n",
       "      <td>Растаможен</td>\n",
       "    </tr>\n",
       "    <tr>\n",
       "      <th>1</th>\n",
       "      <td>лифтбек</td>\n",
       "      <td>SKODA</td>\n",
       "      <td>https://auto.ru/cars/used/sale/skoda/octavia/1...</td>\n",
       "      <td>чёрный</td>\n",
       "      <td>NaN</td>\n",
       "      <td>ЛОТ: 01217195\\nАвтопрага Север\\nДанный автомоб...</td>\n",
       "      <td>1.6 LTR</td>\n",
       "      <td>110 N12</td>\n",
       "      <td>{\"cruise-control\":true,\"asr\":true,\"esp\":true,\"...</td>\n",
       "      <td>бензин</td>\n",
       "      <td>...</td>\n",
       "      <td>LIFTBACK MECHANICAL 1.6</td>\n",
       "      <td>механическая</td>\n",
       "      <td>EUROPEAN</td>\n",
       "      <td>1 владелец</td>\n",
       "      <td>NaN</td>\n",
       "      <td>Оригинал</td>\n",
       "      <td>передний</td>\n",
       "      <td>Левый</td>\n",
       "      <td>Не требует ремонта</td>\n",
       "      <td>Растаможен</td>\n",
       "    </tr>\n",
       "    <tr>\n",
       "      <th>2</th>\n",
       "      <td>лифтбек</td>\n",
       "      <td>SKODA</td>\n",
       "      <td>https://auto.ru/cars/used/sale/skoda/superb/11...</td>\n",
       "      <td>серый</td>\n",
       "      <td>{\"id\":\"20026336\",\"name\":\"Ambition\",\"available_...</td>\n",
       "      <td>Все автомобили, представленные в продаже, прох...</td>\n",
       "      <td>1.8 LTR</td>\n",
       "      <td>152 N12</td>\n",
       "      <td>{\"cruise-control\":true,\"tinted-glass\":true,\"es...</td>\n",
       "      <td>бензин</td>\n",
       "      <td>...</td>\n",
       "      <td>LIFTBACK ROBOT 1.8</td>\n",
       "      <td>роботизированная</td>\n",
       "      <td>EUROPEAN</td>\n",
       "      <td>1 владелец</td>\n",
       "      <td>NaN</td>\n",
       "      <td>Оригинал</td>\n",
       "      <td>передний</td>\n",
       "      <td>Левый</td>\n",
       "      <td>Не требует ремонта</td>\n",
       "      <td>Растаможен</td>\n",
       "    </tr>\n",
       "    <tr>\n",
       "      <th>3</th>\n",
       "      <td>лифтбек</td>\n",
       "      <td>SKODA</td>\n",
       "      <td>https://auto.ru/cars/used/sale/skoda/octavia/1...</td>\n",
       "      <td>коричневый</td>\n",
       "      <td>{\"id\":\"20803582\",\"name\":\"Ambition\",\"available_...</td>\n",
       "      <td>КОМПЛЕКТ ЗИМНЕЙ (ЛЕТНЕЙ) РЕЗИНЫ ПО СЕЗОНУ В ПО...</td>\n",
       "      <td>1.6 LTR</td>\n",
       "      <td>110 N12</td>\n",
       "      <td>{\"cruise-control\":true,\"roller-blind-for-rear-...</td>\n",
       "      <td>бензин</td>\n",
       "      <td>...</td>\n",
       "      <td>LIFTBACK AUTOMATIC 1.6</td>\n",
       "      <td>автоматическая</td>\n",
       "      <td>EUROPEAN</td>\n",
       "      <td>1 владелец</td>\n",
       "      <td>NaN</td>\n",
       "      <td>Оригинал</td>\n",
       "      <td>передний</td>\n",
       "      <td>Левый</td>\n",
       "      <td>Не требует ремонта</td>\n",
       "      <td>Растаможен</td>\n",
       "    </tr>\n",
       "    <tr>\n",
       "      <th>4</th>\n",
       "      <td>лифтбек</td>\n",
       "      <td>SKODA</td>\n",
       "      <td>https://auto.ru/cars/used/sale/skoda/octavia/1...</td>\n",
       "      <td>белый</td>\n",
       "      <td>NaN</td>\n",
       "      <td>ЛОТ: 01220889\\nАвтопрага Север\\n\\nВы можете по...</td>\n",
       "      <td>1.8 LTR</td>\n",
       "      <td>152 N12</td>\n",
       "      <td>{\"cruise-control\":true,\"asr\":true,\"esp\":true,\"...</td>\n",
       "      <td>бензин</td>\n",
       "      <td>...</td>\n",
       "      <td>LIFTBACK AUTOMATIC 1.8</td>\n",
       "      <td>автоматическая</td>\n",
       "      <td>EUROPEAN</td>\n",
       "      <td>1 владелец</td>\n",
       "      <td>NaN</td>\n",
       "      <td>Оригинал</td>\n",
       "      <td>передний</td>\n",
       "      <td>Левый</td>\n",
       "      <td>Не требует ремонта</td>\n",
       "      <td>Растаможен</td>\n",
       "    </tr>\n",
       "  </tbody>\n",
       "</table>\n",
       "<p>5 rows × 32 columns</p>\n",
       "</div>"
      ],
      "text/plain": [
       "  bodyType  brand                                            car_url  \\\n",
       "0  лифтбек  SKODA  https://auto.ru/cars/used/sale/skoda/octavia/1...   \n",
       "1  лифтбек  SKODA  https://auto.ru/cars/used/sale/skoda/octavia/1...   \n",
       "2  лифтбек  SKODA  https://auto.ru/cars/used/sale/skoda/superb/11...   \n",
       "3  лифтбек  SKODA  https://auto.ru/cars/used/sale/skoda/octavia/1...   \n",
       "4  лифтбек  SKODA  https://auto.ru/cars/used/sale/skoda/octavia/1...   \n",
       "\n",
       "        color                                 complectation_dict  \\\n",
       "0       синий                                                NaN   \n",
       "1      чёрный                                                NaN   \n",
       "2       серый  {\"id\":\"20026336\",\"name\":\"Ambition\",\"available_...   \n",
       "3  коричневый  {\"id\":\"20803582\",\"name\":\"Ambition\",\"available_...   \n",
       "4       белый                                                NaN   \n",
       "\n",
       "                                         description engineDisplacement  \\\n",
       "0  Все автомобили, представленные в продаже, прох...            1.2 LTR   \n",
       "1  ЛОТ: 01217195\\nАвтопрага Север\\nДанный автомоб...            1.6 LTR   \n",
       "2  Все автомобили, представленные в продаже, прох...            1.8 LTR   \n",
       "3  КОМПЛЕКТ ЗИМНЕЙ (ЛЕТНЕЙ) РЕЗИНЫ ПО СЕЗОНУ В ПО...            1.6 LTR   \n",
       "4  ЛОТ: 01220889\\nАвтопрага Север\\n\\nВы можете по...            1.8 LTR   \n",
       "\n",
       "  enginePower                                     equipment_dict fuelType  \\\n",
       "0     105 N12  {\"engine-proof\":true,\"tinted-glass\":true,\"airb...   бензин   \n",
       "1     110 N12  {\"cruise-control\":true,\"asr\":true,\"esp\":true,\"...   бензин   \n",
       "2     152 N12  {\"cruise-control\":true,\"tinted-glass\":true,\"es...   бензин   \n",
       "3     110 N12  {\"cruise-control\":true,\"roller-blind-for-rear-...   бензин   \n",
       "4     152 N12  {\"cruise-control\":true,\"asr\":true,\"esp\":true,\"...   бензин   \n",
       "\n",
       "   ...     vehicleConfiguration  vehicleTransmission    vendor    Владельцы  \\\n",
       "0  ...       LIFTBACK ROBOT 1.2     роботизированная  EUROPEAN  3 или более   \n",
       "1  ...  LIFTBACK MECHANICAL 1.6         механическая  EUROPEAN   1 владелец   \n",
       "2  ...       LIFTBACK ROBOT 1.8     роботизированная  EUROPEAN   1 владелец   \n",
       "3  ...   LIFTBACK AUTOMATIC 1.6       автоматическая  EUROPEAN   1 владелец   \n",
       "4  ...   LIFTBACK AUTOMATIC 1.8       автоматическая  EUROPEAN   1 владелец   \n",
       "\n",
       "  Владение       ПТС    Привод   Руль           Состояние     Таможня  \n",
       "0      NaN  Оригинал  передний  Левый  Не требует ремонта  Растаможен  \n",
       "1      NaN  Оригинал  передний  Левый  Не требует ремонта  Растаможен  \n",
       "2      NaN  Оригинал  передний  Левый  Не требует ремонта  Растаможен  \n",
       "3      NaN  Оригинал  передний  Левый  Не требует ремонта  Растаможен  \n",
       "4      NaN  Оригинал  передний  Левый  Не требует ремонта  Растаможен  \n",
       "\n",
       "[5 rows x 32 columns]"
      ]
     },
     "execution_count": 15,
     "metadata": {},
     "output_type": "execute_result"
    }
   ],
   "source": [
    "test.head(5)"
   ]
  },
  {
   "cell_type": "code",
   "execution_count": 16,
   "metadata": {
    "execution": {
     "iopub.execute_input": "2021-08-25T11:04:32.498456Z",
     "iopub.status.busy": "2021-08-25T11:04:32.49808Z",
     "iopub.status.idle": "2021-08-25T11:04:32.618252Z",
     "shell.execute_reply": "2021-08-25T11:04:32.617117Z",
     "shell.execute_reply.started": "2021-08-25T11:04:32.498408Z"
    },
    "papermill": {
     "duration": 0.160401,
     "end_time": "2020-10-26T12:47:02.798587",
     "exception": false,
     "start_time": "2020-10-26T12:47:02.638186",
     "status": "completed"
    },
    "scrolled": true,
    "tags": []
   },
   "outputs": [
    {
     "name": "stdout",
     "output_type": "stream",
     "text": [
      "<class 'pandas.core.frame.DataFrame'>\n",
      "RangeIndex: 34686 entries, 0 to 34685\n",
      "Data columns (total 32 columns):\n",
      " #   Column                Non-Null Count  Dtype \n",
      "---  ------                --------------  ----- \n",
      " 0   bodyType              34686 non-null  object\n",
      " 1   brand                 34686 non-null  object\n",
      " 2   car_url               34686 non-null  object\n",
      " 3   color                 34686 non-null  object\n",
      " 4   complectation_dict    6418 non-null   object\n",
      " 5   description           34686 non-null  object\n",
      " 6   engineDisplacement    34686 non-null  object\n",
      " 7   enginePower           34686 non-null  object\n",
      " 8   equipment_dict        24690 non-null  object\n",
      " 9   fuelType              34686 non-null  object\n",
      " 10  image                 34686 non-null  object\n",
      " 11  mileage               34686 non-null  int64 \n",
      " 12  modelDate             34686 non-null  int64 \n",
      " 13  model_info            34686 non-null  object\n",
      " 14  model_name            34686 non-null  object\n",
      " 15  name                  34686 non-null  object\n",
      " 16  numberOfDoors         34686 non-null  int64 \n",
      " 17  parsing_unixtime      34686 non-null  int64 \n",
      " 18  priceCurrency         34686 non-null  object\n",
      " 19  productionDate        34686 non-null  int64 \n",
      " 20  sell_id               34686 non-null  int64 \n",
      " 21  super_gen             34686 non-null  object\n",
      " 22  vehicleConfiguration  34686 non-null  object\n",
      " 23  vehicleTransmission   34686 non-null  object\n",
      " 24  vendor                34686 non-null  object\n",
      " 25  Владельцы             34686 non-null  object\n",
      " 26  Владение              11995 non-null  object\n",
      " 27  ПТС                   34685 non-null  object\n",
      " 28  Привод                34686 non-null  object\n",
      " 29  Руль                  34686 non-null  object\n",
      " 30  Состояние             34686 non-null  object\n",
      " 31  Таможня               34686 non-null  object\n",
      "dtypes: int64(6), object(26)\n",
      "memory usage: 8.5+ MB\n"
     ]
    }
   ],
   "source": [
    "test.info()"
   ]
  },
  {
   "cell_type": "markdown",
   "metadata": {},
   "source": [
    "## Web Data Extracting (auto.ru)"
   ]
  },
  {
   "cell_type": "markdown",
   "metadata": {},
   "source": [
    "Посмотрим на список колонок, которые есть в test, но нет в подключенном train."
   ]
  },
  {
   "cell_type": "code",
   "execution_count": 17,
   "metadata": {
    "execution": {
     "iopub.execute_input": "2021-08-25T11:04:32.620167Z",
     "iopub.status.busy": "2021-08-25T11:04:32.619832Z",
     "iopub.status.idle": "2021-08-25T11:04:32.65548Z",
     "shell.execute_reply": "2021-08-25T11:04:32.654553Z",
     "shell.execute_reply.started": "2021-08-25T11:04:32.620131Z"
    },
    "scrolled": true
   },
   "outputs": [
    {
     "name": "stdout",
     "output_type": "stream",
     "text": [
      "Список колонок, которых нет в train, но есть в test: ['vendor', 'equipment_dict', 'priceCurrency', 'complectation_dict', 'image', 'model_name', 'car_url', 'parsing_unixtime', 'sell_id', 'model_info', 'super_gen']\n"
     ]
    },
    {
     "data": {
      "text/html": [
       "<div>\n",
       "<style scoped>\n",
       "    .dataframe tbody tr th:only-of-type {\n",
       "        vertical-align: middle;\n",
       "    }\n",
       "\n",
       "    .dataframe tbody tr th {\n",
       "        vertical-align: top;\n",
       "    }\n",
       "\n",
       "    .dataframe thead th {\n",
       "        text-align: right;\n",
       "    }\n",
       "</style>\n",
       "<table border=\"1\" class=\"dataframe\">\n",
       "  <thead>\n",
       "    <tr style=\"text-align: right;\">\n",
       "      <th></th>\n",
       "      <th>vendor</th>\n",
       "      <th>equipment_dict</th>\n",
       "      <th>priceCurrency</th>\n",
       "      <th>complectation_dict</th>\n",
       "      <th>image</th>\n",
       "      <th>model_name</th>\n",
       "      <th>car_url</th>\n",
       "      <th>parsing_unixtime</th>\n",
       "      <th>sell_id</th>\n",
       "      <th>model_info</th>\n",
       "      <th>super_gen</th>\n",
       "    </tr>\n",
       "  </thead>\n",
       "  <tbody>\n",
       "    <tr>\n",
       "      <th>14496</th>\n",
       "      <td>JAPANESE</td>\n",
       "      <td>{\"asr\":true,\"tinted-glass\":true,\"airbag-driver...</td>\n",
       "      <td>RUB</td>\n",
       "      <td>NaN</td>\n",
       "      <td>https://avatars.mds.yandex.net/get-autoru-vos/...</td>\n",
       "      <td>QASHQAI</td>\n",
       "      <td>https://auto.ru/cars/used/sale/nissan/qashqai/...</td>\n",
       "      <td>1603282476</td>\n",
       "      <td>1099700750</td>\n",
       "      <td>{\"code\":\"QASHQAI\",\"name\":\"Qashqai\",\"ru_name\":\"...</td>\n",
       "      <td>{\"id\":\"6129618\",\"displacement\":1997,\"engine_ty...</td>\n",
       "    </tr>\n",
       "    <tr>\n",
       "      <th>12081</th>\n",
       "      <td>JAPANESE</td>\n",
       "      <td>{\"engine-proof\":true,\"esp\":true,\"airbag-driver...</td>\n",
       "      <td>RUB</td>\n",
       "      <td>{\"id\":\"6129699\",\"name\":\"XE\",\"available_options...</td>\n",
       "      <td>https://autoru.naydex.net/G87gDZg56/28c7a8vqVE...</td>\n",
       "      <td>QASHQAI</td>\n",
       "      <td>https://auto.ru/cars/used/sale/nissan/qashqai/...</td>\n",
       "      <td>1603273298</td>\n",
       "      <td>1095807056</td>\n",
       "      <td>{\"code\":\"QASHQAI\",\"name\":\"Qashqai\",\"ru_name\":\"...</td>\n",
       "      <td>{\"id\":\"6129606\",\"displacement\":1997,\"engine_ty...</td>\n",
       "    </tr>\n",
       "    <tr>\n",
       "      <th>5319</th>\n",
       "      <td>JAPANESE</td>\n",
       "      <td>{\"cruise-control\":true,\"engine-proof\":true,\"as...</td>\n",
       "      <td>RUB</td>\n",
       "      <td>NaN</td>\n",
       "      <td>https://autoru.naydex.net/mcQh17801/f1b5751dCi...</td>\n",
       "      <td>PILOT</td>\n",
       "      <td>https://auto.ru/cars/used/sale/honda/pilot/110...</td>\n",
       "      <td>1603253961</td>\n",
       "      <td>1101226883</td>\n",
       "      <td>{\"code\":\"PILOT\",\"name\":\"Pilot\",\"ru_name\":\"Пило...</td>\n",
       "      <td>{\"id\":\"20715585\",\"displacement\":2997,\"engine_t...</td>\n",
       "    </tr>\n",
       "  </tbody>\n",
       "</table>\n",
       "</div>"
      ],
      "text/plain": [
       "         vendor                                     equipment_dict  \\\n",
       "14496  JAPANESE  {\"asr\":true,\"tinted-glass\":true,\"airbag-driver...   \n",
       "12081  JAPANESE  {\"engine-proof\":true,\"esp\":true,\"airbag-driver...   \n",
       "5319   JAPANESE  {\"cruise-control\":true,\"engine-proof\":true,\"as...   \n",
       "\n",
       "      priceCurrency                                 complectation_dict  \\\n",
       "14496           RUB                                                NaN   \n",
       "12081           RUB  {\"id\":\"6129699\",\"name\":\"XE\",\"available_options...   \n",
       "5319            RUB                                                NaN   \n",
       "\n",
       "                                                   image model_name  \\\n",
       "14496  https://avatars.mds.yandex.net/get-autoru-vos/...    QASHQAI   \n",
       "12081  https://autoru.naydex.net/G87gDZg56/28c7a8vqVE...    QASHQAI   \n",
       "5319   https://autoru.naydex.net/mcQh17801/f1b5751dCi...      PILOT   \n",
       "\n",
       "                                                 car_url  parsing_unixtime  \\\n",
       "14496  https://auto.ru/cars/used/sale/nissan/qashqai/...        1603282476   \n",
       "12081  https://auto.ru/cars/used/sale/nissan/qashqai/...        1603273298   \n",
       "5319   https://auto.ru/cars/used/sale/honda/pilot/110...        1603253961   \n",
       "\n",
       "          sell_id                                         model_info  \\\n",
       "14496  1099700750  {\"code\":\"QASHQAI\",\"name\":\"Qashqai\",\"ru_name\":\"...   \n",
       "12081  1095807056  {\"code\":\"QASHQAI\",\"name\":\"Qashqai\",\"ru_name\":\"...   \n",
       "5319   1101226883  {\"code\":\"PILOT\",\"name\":\"Pilot\",\"ru_name\":\"Пило...   \n",
       "\n",
       "                                               super_gen  \n",
       "14496  {\"id\":\"6129618\",\"displacement\":1997,\"engine_ty...  \n",
       "12081  {\"id\":\"6129606\",\"displacement\":1997,\"engine_ty...  \n",
       "5319   {\"id\":\"20715585\",\"displacement\":2997,\"engine_t...  "
      ]
     },
     "execution_count": 17,
     "metadata": {},
     "output_type": "execute_result"
    }
   ],
   "source": [
    "# Список колонок, которых нет в train\n",
    "dif_list = list(set(test.columns).difference(train.columns))\n",
    "print(\"Список колонок, которых нет в train, но есть в test:\", dif_list)\n",
    "\n",
    "# Посмотрим на данные в этих колонках\n",
    "test[dif_list].sample(3)"
   ]
  },
  {
   "cell_type": "code",
   "execution_count": 18,
   "metadata": {
    "execution": {
     "iopub.execute_input": "2021-08-25T11:04:32.657295Z",
     "iopub.status.busy": "2021-08-25T11:04:32.656787Z",
     "iopub.status.idle": "2021-08-25T11:04:32.796494Z",
     "shell.execute_reply": "2021-08-25T11:04:32.794988Z",
     "shell.execute_reply.started": "2021-08-25T11:04:32.65725Z"
    },
    "scrolled": true
   },
   "outputs": [
    {
     "name": "stdout",
     "output_type": "stream",
     "text": [
      "vendor 2\n",
      "equipment_dict 23705\n",
      "priceCurrency 1\n",
      "complectation_dict 2364\n",
      "image 34557\n",
      "model_name 544\n",
      "car_url 34686\n",
      "parsing_unixtime 34686\n",
      "sell_id 34686\n",
      "model_info 954\n",
      "super_gen 5890\n"
     ]
    }
   ],
   "source": [
    "# Посмотрим на колическтво уникальных значений\n",
    "for item in dif_list:\n",
    "    print(item, test[item].nunique())"
   ]
  },
  {
   "cell_type": "markdown",
   "metadata": {},
   "source": [
    "Выводы:\n",
    "1. Из информации car_url видим, что данные собирались с сайта auto.ru, будем парсить данные оттуда\n",
    "2. Следующие поля из test можно не парсить и удалить далее при анализе, т.к. они уникальны для каждой записи: car_url и priceCurrency, т.к. всего одно значение (RUB). Car_url оставим, чтоб можно было посмотреть информацию о машине.\n",
    "3. Ограничимся для начала двумя вендорами: EUROPEAN, JAPANESE\n",
    "4. Цену автомобиля собираем в RUB\n",
    "5. Собираем информацию по полям: 'bodyType', 'brand', 'car_url', 'color', 'complectation_dict', 'description', 'engineDisplacement', 'enginePower', 'equipment_dict','fuelType', 'image', 'mileage', 'modelDate', 'model_info', 'model_name','name', 'numberOfDoors', 'parsing_unixtime', 'priceCurrency','productionDate', 'sell_id', 'super_gen', 'vehicleConfiguration','vehicleTransmission', 'vendor', 'Владельцы', 'Владение', 'ПТС','Привод', 'Руль', 'Состояние', 'Таможня', 'sample', 'price'"
   ]
  },
  {
   "cell_type": "markdown",
   "metadata": {
    "papermill": {
     "duration": 0.033402,
     "end_time": "2020-10-26T12:47:02.866506",
     "exception": false,
     "start_time": "2020-10-26T12:47:02.833104",
     "status": "completed"
    },
    "tags": []
   },
   "source": [
    "# 3. EDA & Basic Data Cleaning\n",
    "\n",
    "Проведем анализ данных, сделаем базовый препроцессинг данных.\n",
    "\n",
    "### 3.1 Переименуем колонки с кириллицы на латиницу"
   ]
  },
  {
   "cell_type": "code",
   "execution_count": 19,
   "metadata": {
    "execution": {
     "iopub.execute_input": "2021-08-25T11:04:32.798976Z",
     "iopub.status.busy": "2021-08-25T11:04:32.798607Z",
     "iopub.status.idle": "2021-08-25T11:04:32.847146Z",
     "shell.execute_reply": "2021-08-25T11:04:32.84561Z",
     "shell.execute_reply.started": "2021-08-25T11:04:32.798941Z"
    },
    "scrolled": true
   },
   "outputs": [],
   "source": [
    "# Переименуем test  колонки\n",
    "test.rename(columns={\"Привод\": \"drivetrain\",\n",
    "                     \"Руль\": \"driveSide\",\n",
    "                     \"Состояние\": \"condition\",\n",
    "                     \"Владельцы\": \"ownersCount\",\n",
    "                     \"ПТС\": \"tcp\",\n",
    "                     \"Таможня\": \"customs\",\n",
    "                     \"Владение\": \"ownershipTime\",\n",
    "                     \"model_name\": \"model\"}, inplace=True)\n",
    "\n",
    "# Переименуем train  колонки\n",
    "train.rename(columns={\"Привод\": \"drivetrain\",\n",
    "                      \"Руль\": \"driveSide\",\n",
    "                      \"Состояние\": \"condition\",\n",
    "                      \"Владельцы\": \"ownersCount\",\n",
    "                      \"ПТС\": \"tcp\",\n",
    "                      \"Таможня\": \"customs\",\n",
    "                      \"Владение\": \"ownershipTime\"}, inplace=True)"
   ]
  },
  {
   "cell_type": "markdown",
   "metadata": {},
   "source": [
    "### 3.2 Предварительный анализ test данных\n",
    "\n",
    "Посмотрим на данные в test, которые нужно предсказывать, на особенности данных."
   ]
  },
  {
   "cell_type": "code",
   "execution_count": 20,
   "metadata": {
    "scrolled": true
   },
   "outputs": [],
   "source": [
    "#ProfileReport(test, title=\"Pandas Profiling Report for Test Dataset\")"
   ]
  },
  {
   "cell_type": "markdown",
   "metadata": {},
   "source": [
    "Выводы: во время последующего сбора данных и анализа обратить внимание на:\n",
    "1. Есть пропуски в test данных - нужно попробовать заполнить\n",
    "2. Представлено всего 12 брендов автомобилей\n",
    "3. Признаки, которые выглядят бесполезными для моделирования - car_url (уникальный для каждой записи), priceCurrencly (одинаковый у всех)\n",
    "4. Необходимо разобраться с признаками complectation_dict, description, equipment_dict, model_info, super_gen - посмотреть, можно ли извлечь доп. признаки\n",
    "5. Condition - у всех \"хорошее состояние\", обратить внимание, если в train будут записи и другим состоянием, может влиять на выбросы по цене.\n",
    "6. Customs - у всех \"растоможетн\", обратить внимание, если в train будут записи и другим состоянием, может влиять на выбросы по цене."
   ]
  },
  {
   "cell_type": "markdown",
   "metadata": {},
   "source": [
    "### 3.3 Сравним типы данных в test и train\n",
    "\n",
    "Найдем расхождения в типах данных для train и test, устраним их до анализа данных."
   ]
  },
  {
   "cell_type": "code",
   "execution_count": 21,
   "metadata": {
    "scrolled": true
   },
   "outputs": [],
   "source": [
    "# Создадим список с колонками, которые присутствуют и в train, и в test\n",
    "cols_intersection = list(set(test.columns).intersection(train.columns))"
   ]
  },
  {
   "cell_type": "code",
   "execution_count": 22,
   "metadata": {
    "scrolled": true
   },
   "outputs": [
    {
     "name": "stdout",
     "output_type": "stream",
     "text": [
      "Найдены расхождения в типах данных для:\n",
      "\t- колонки condition: для train - <class 'numpy.float64'>, для test - <class 'str'>\n",
      "\t- колонки enginePower: для train - <class 'numpy.float64'>, для test - <class 'str'>\n",
      "\t- колонки numberOfDoors: для train - <class 'numpy.float64'>, для test - <class 'numpy.int64'>\n",
      "\t- колонки ownersCount: для train - <class 'numpy.float64'>, для test - <class 'str'>\n",
      "\t- колонки customs: для train - <class 'numpy.bool_'>, для test - <class 'str'>\n",
      "\t- колонки modelDate: для train - <class 'numpy.float64'>, для test - <class 'numpy.int64'>\n"
     ]
    }
   ],
   "source": [
    "# Проверим, в каких колонках типы данных различаются у train и test\n",
    "cols_type_dif = []  # создаем список с колонками, в которых типы данных отличаются\n",
    "print(\"Найдены расхождения в типах данных для:\")\n",
    "\n",
    "for col in cols_intersection:\n",
    "    if type(test[col][0]) != type(train[col][0]):\n",
    "        print(\n",
    "            f\"\\t- колонки {col}: для train - {type(train[col][0])}, для test - {type(test[col][0])}\")\n",
    "        cols_type_dif.append(col)"
   ]
  },
  {
   "cell_type": "markdown",
   "metadata": {},
   "source": [
    "**ownersCount**\n",
    "\n",
    "Количество владельцев автомобиля (1 - один, 2 - два, 3 - 3 и более)."
   ]
  },
  {
   "cell_type": "code",
   "execution_count": 23,
   "metadata": {
    "scrolled": true
   },
   "outputs": [
    {
     "name": "stdout",
     "output_type": "stream",
     "text": [
      "Уникальные значения для train [ 3.  1.  2. nan]\n",
      "Уникальные значения для test ['3 или более' '1\\xa0владелец' '2\\xa0владельца']\n"
     ]
    }
   ],
   "source": [
    "print(\"Уникальные значения для train\", train.ownersCount.unique())\n",
    "print(\"Уникальные значения для test\", test.ownersCount.unique())"
   ]
  },
  {
   "cell_type": "markdown",
   "metadata": {},
   "source": [
    "Преобразуем значения test в числовые (float)."
   ]
  },
  {
   "cell_type": "code",
   "execution_count": 24,
   "metadata": {
    "scrolled": true
   },
   "outputs": [],
   "source": [
    "# Создаем словать с кодировкой значений в числовые\n",
    "ownersCount_dict = {\"3 или более\": 3.,\n",
    "                    \"1\\xa0владелец\": 1., \"2\\xa0владельца\": 2.}\n",
    "test['ownersCount'].replace(\n",
    "    to_replace=ownersCount_dict, inplace=True)  # заменяем значения в соответствии со словарем"
   ]
  },
  {
   "cell_type": "code",
   "execution_count": 25,
   "metadata": {
    "scrolled": true
   },
   "outputs": [
    {
     "name": "stdout",
     "output_type": "stream",
     "text": [
      "Уникальные значения для test [3. 1. 2.]\n"
     ]
    }
   ],
   "source": [
    "# Проверяем результаты преобразования\n",
    "print(\"Уникальные значения для test\", test.ownersCount.unique())"
   ]
  },
  {
   "cell_type": "markdown",
   "metadata": {},
   "source": [
    "**enginePower**\n",
    "\n",
    "Мощность л.с."
   ]
  },
  {
   "cell_type": "code",
   "execution_count": 26,
   "metadata": {
    "scrolled": true
   },
   "outputs": [
    {
     "name": "stdout",
     "output_type": "stream",
     "text": [
      "Пример значения для train [250.]\n",
      "Пример значения для test ['102 N12']\n"
     ]
    }
   ],
   "source": [
    "print(\"Пример значения для train\", train.enginePower.sample(1).values)\n",
    "print(\"Пример значения для test\", test.enginePower.sample(1).values)"
   ]
  },
  {
   "cell_type": "markdown",
   "metadata": {},
   "source": [
    "Преобразуем значения test в числовые (float)."
   ]
  },
  {
   "cell_type": "code",
   "execution_count": 27,
   "metadata": {
    "scrolled": true
   },
   "outputs": [
    {
     "data": {
      "text/plain": [
       "315"
      ]
     },
     "execution_count": 27,
     "metadata": {},
     "output_type": "execute_result"
    }
   ],
   "source": [
    "test.enginePower.nunique()"
   ]
  },
  {
   "cell_type": "code",
   "execution_count": 28,
   "metadata": {
    "scrolled": true
   },
   "outputs": [],
   "source": [
    "# Преобразовываем значения столбца, избавляемся от постфика N12\n",
    "test['enginePower'] = test['enginePower'].apply(\n",
    "    lambda x: float(x.split(\" \")[0]))"
   ]
  },
  {
   "cell_type": "code",
   "execution_count": 29,
   "metadata": {
    "scrolled": true
   },
   "outputs": [
    {
     "name": "stdout",
     "output_type": "stream",
     "text": [
      "Пример значения для test [110.]\n"
     ]
    }
   ],
   "source": [
    "# Посмотрим на результат преобразования\n",
    "print(\"Пример значения для test\", test.enginePower.sample(1).values)"
   ]
  },
  {
   "cell_type": "markdown",
   "metadata": {},
   "source": [
    "**numberOfDoors**\n",
    "\n",
    "Количество дверей."
   ]
  },
  {
   "cell_type": "code",
   "execution_count": 30,
   "metadata": {
    "scrolled": true
   },
   "outputs": [
    {
     "name": "stdout",
     "output_type": "stream",
     "text": [
      "Уникальные значения для train [ 4.  5.  3.  2. nan  0.]\n",
      "Уникальные значения для test [5 4 2 3 0]\n"
     ]
    }
   ],
   "source": [
    "print(\"Уникальные значения для train\", train.numberOfDoors.unique())\n",
    "print(\"Уникальные значения для test\", test.numberOfDoors.unique())"
   ]
  },
  {
   "cell_type": "markdown",
   "metadata": {},
   "source": [
    "Значения аналогичны, целые числа, приведем в train к int."
   ]
  },
  {
   "cell_type": "code",
   "execution_count": 31,
   "metadata": {
    "scrolled": true
   },
   "outputs": [],
   "source": [
    "# Конвертируем в int\n",
    "train['numberOfDoors'] = train['numberOfDoors'].astype('Int64')"
   ]
  },
  {
   "cell_type": "markdown",
   "metadata": {},
   "source": [
    "**customs**\n",
    "\n",
    "Информация, растоможен ли автомобиль: 0 - не растоможен, 1 - растоможен."
   ]
  },
  {
   "cell_type": "code",
   "execution_count": 32,
   "metadata": {
    "scrolled": true
   },
   "outputs": [
    {
     "name": "stdout",
     "output_type": "stream",
     "text": [
      "Уникальные значения для train [ True]\n",
      "Уникальные значения для test ['Растаможен']\n"
     ]
    }
   ],
   "source": [
    "print(\"Уникальные значения для train\", train.customs.unique())\n",
    "print(\"Уникальные значения для test\", test.customs.unique())"
   ]
  },
  {
   "cell_type": "markdown",
   "metadata": {},
   "source": [
    "Поскольку далее для моделирования нам понадобится числовая переменная, то сразу переведем в числовую 0 - не растоможен, 1 - растоможен, как для train, так и для test."
   ]
  },
  {
   "cell_type": "code",
   "execution_count": 33,
   "metadata": {
    "scrolled": true
   },
   "outputs": [],
   "source": [
    "# Делаем преобразование значений в int (0 или 1)\n",
    "train['customs'] = train['customs'].apply(lambda x: 1 if x == True else 0)\n",
    "test['customs'] = test['customs'].apply(\n",
    "    lambda x: 1 if x == \"Растаможен\" else 0)"
   ]
  },
  {
   "cell_type": "markdown",
   "metadata": {},
   "source": [
    "**condition**\n",
    "\n",
    "Состояние автомобиля: 0 - не требует ремонта , 1 - требует ремонта."
   ]
  },
  {
   "cell_type": "code",
   "execution_count": 34,
   "metadata": {
    "scrolled": true
   },
   "outputs": [
    {
     "name": "stdout",
     "output_type": "stream",
     "text": [
      "Уникальные значения для train [nan]\n",
      "Уникальные значения для test ['Не требует ремонта']\n"
     ]
    }
   ],
   "source": [
    "print(\"Уникальные значения для train\", train.condition.unique())\n",
    "print(\"Уникальные значения для test\", test.condition.unique())"
   ]
  },
  {
   "cell_type": "markdown",
   "metadata": {},
   "source": [
    "Поскольку далее для моделирования нам понадобится числовая переменная, то сразу переведем в числовую 0 - требует ремонта , 1 - не требует ремонта, как для train, так и для test."
   ]
  },
  {
   "cell_type": "code",
   "execution_count": 35,
   "metadata": {
    "scrolled": true
   },
   "outputs": [],
   "source": [
    "# Делаем преобразование значений в int (0 или 1)\n",
    "train['condition'] = train['condition'].apply(lambda x: 0 if pd.isna(x) else 1)\n",
    "test['condition'] = test['condition'].apply(\n",
    "    lambda x: 0 if x == \"Не требует ремонта\" else 1)"
   ]
  },
  {
   "cell_type": "markdown",
   "metadata": {},
   "source": [
    "**modelDate**\n",
    "\n",
    "Год выпуска модели автомобиля."
   ]
  },
  {
   "cell_type": "code",
   "execution_count": 36,
   "metadata": {
    "scrolled": true
   },
   "outputs": [
    {
     "name": "stdout",
     "output_type": "stream",
     "text": [
      "Уникальные значения для train [1990. 1982. 1988. 1976. 1983. 1979. 1986. 1991. 1978. 1987. 1992. 1938.\n",
      " 2010. 2014. 2000. 2016. 2004. 2012. 2008. 1996. 2003. 2015. 2011. 2007.\n",
      " 1999. 1994. 2009. 2018. 2001. 1997. 2006. 2019. 2013. 2017. 2002. 2005.\n",
      " 1980. 1984. 1998. 1966. 1975. 1937. 1936. 1949. 2020. 1995. 1981. 1972.\n",
      " 1977. 1989. 1968. 1985. 1958. 1971. 1956. 1955. 1970. 1963. 1973. 1964.\n",
      " 1957. 1993. 1960. 1927. 1908. 1932.   nan 1965. 1935. 1967. 1948. 1969.\n",
      " 1934. 1974. 1950. 1961. 1904. 1959. 1951.]\n",
      "Уникальные значения для test [2013 2017 2008 2009 2016 2012 2015 2010 2006 2000 2007 1994 2004 1999\n",
      " 2005 1976 2001 1969 1996 1998 1989 1934 2014 2011 2018 1986 1997 1990\n",
      " 2019 2002 1991 1987 1980 1982 1938 1988 2003 1983 1978 1979 1984 1992\n",
      " 1995 1993 1985 1974 1966 1977 1981 1972 1968 1975 1949 1937 1936 1973\n",
      " 1959 1958 2020 1965 1971 1904 1963 1955 1951 1960]\n"
     ]
    }
   ],
   "source": [
    "print(\"Уникальные значения для train\", train.modelDate.unique())\n",
    "print(\"Уникальные значения для test\", test.modelDate.unique())"
   ]
  },
  {
   "cell_type": "markdown",
   "metadata": {},
   "source": [
    "Годы - целые числа. Преобразуем train данные в int."
   ]
  },
  {
   "cell_type": "code",
   "execution_count": 37,
   "metadata": {
    "scrolled": true
   },
   "outputs": [],
   "source": [
    "train['modelDate'] = train['modelDate'].astype('Int64')"
   ]
  },
  {
   "cell_type": "markdown",
   "metadata": {},
   "source": [
    "**ownershipTime**\n",
    "\n",
    "Вемя владения автомобилем. \n",
    "\n",
    "Несмотря на то, что тип данных совпадает, формат хранения информации в train и test отличается."
   ]
  },
  {
   "cell_type": "code",
   "execution_count": 38,
   "metadata": {
    "scrolled": true
   },
   "outputs": [],
   "source": [
    "train['ownershipTime'] = train['ownershipTime'].fillna('no_data')"
   ]
  },
  {
   "cell_type": "code",
   "execution_count": 39,
   "metadata": {
    "scrolled": true
   },
   "outputs": [],
   "source": [
    "def months_to_sent(months):\n",
    "    if months == 1:\n",
    "        return f'{months} месяц'\n",
    "    elif 2 <= months <= 4:\n",
    "        return f'{months} месяца'\n",
    "    return f'{months} месяцев'\n",
    "\n",
    "\n",
    "def years_to_sent(years):\n",
    "    if 11 <= years <= 14 or 5 <= years % 10 <= 9 or years % 10 == 0:\n",
    "        return f'{years} лет'\n",
    "    elif years % 10 == 1:\n",
    "        return f'{years} год'\n",
    "    elif 2 <= years % 10 <= 4:\n",
    "        return f'{years} годa'\n",
    "\n",
    "\n",
    "def tenure(row):\n",
    "    \"\"\"\n",
    "    Функция, которая приводит содержимое ячейки train к тому же виду, как в test.\n",
    "    Вход: строка series (строка колонки).\n",
    "    Выход: возвращает вместо словаря информацию в виде \"x лет y месяцев\"\n",
    "    \"\"\"\n",
    "    row = re.findall('\\d+', str(row))  # находим все целые числа в строке\n",
    "    if row != []:\n",
    "        years = 2020 - (int(row[0])+1)  # 2020, т.к. данные собраны в 2020 году\n",
    "        months = 2 + (12 - int(row[1]))\n",
    "        if years < 0:\n",
    "            return months_to_sent(int(row[1]))\n",
    "        elif years == 0 and months < 12:\n",
    "            return months_to_sent(months)\n",
    "        elif years >= 0 and months == 12:\n",
    "            return years_to_sent(years + 1)\n",
    "        elif years >= 0 and months > 12:\n",
    "            return years_to_sent(years + 1)+' и '+months_to_sent(months - 12)\n",
    "        elif years > 0 and months < 12:\n",
    "            return years_to_sent(years)+' и '+months_to_sent(months)\n",
    "        return None\n",
    "\n",
    "\n",
    "train['ownershipTime'] = train['ownershipTime'].apply(tenure)"
   ]
  },
  {
   "cell_type": "markdown",
   "metadata": {},
   "source": [
    "### 3.4 Совмещаем test и train для обработки и анализа"
   ]
  },
  {
   "cell_type": "markdown",
   "metadata": {},
   "source": [
    "До совмещения test и train посмотрим, какие признаки можем извлечь из test/train, помимо колонок, которые в явном виде пересекаются между датафреймами."
   ]
  },
  {
   "cell_type": "code",
   "execution_count": 40,
   "metadata": {
    "scrolled": true
   },
   "outputs": [
    {
     "name": "stdout",
     "output_type": "stream",
     "text": [
      "Список колонок, которых нет в train, но есть в test: ['vendor', 'equipment_dict', 'priceCurrency', 'complectation_dict', 'image', 'car_url', 'parsing_unixtime', 'sell_id', 'model_info', 'super_gen']\n",
      "\n",
      "TEST DF:\n"
     ]
    },
    {
     "data": {
      "text/html": [
       "<div>\n",
       "<style scoped>\n",
       "    .dataframe tbody tr th:only-of-type {\n",
       "        vertical-align: middle;\n",
       "    }\n",
       "\n",
       "    .dataframe tbody tr th {\n",
       "        vertical-align: top;\n",
       "    }\n",
       "\n",
       "    .dataframe thead th {\n",
       "        text-align: right;\n",
       "    }\n",
       "</style>\n",
       "<table border=\"1\" class=\"dataframe\">\n",
       "  <thead>\n",
       "    <tr style=\"text-align: right;\">\n",
       "      <th></th>\n",
       "      <th>vendor</th>\n",
       "      <th>equipment_dict</th>\n",
       "      <th>priceCurrency</th>\n",
       "      <th>complectation_dict</th>\n",
       "      <th>image</th>\n",
       "      <th>car_url</th>\n",
       "      <th>parsing_unixtime</th>\n",
       "      <th>sell_id</th>\n",
       "      <th>model_info</th>\n",
       "      <th>super_gen</th>\n",
       "    </tr>\n",
       "  </thead>\n",
       "  <tbody>\n",
       "    <tr>\n",
       "      <th>24996</th>\n",
       "      <td>EUROPEAN</td>\n",
       "      <td>{\"airbag-driver\":true,\"aux\":true,\"usb\":true,\"e...</td>\n",
       "      <td>RUB</td>\n",
       "      <td>NaN</td>\n",
       "      <td>https://autoru.naydex.net/o9DBXQ270/5ac010hAY0...</td>\n",
       "      <td>https://auto.ru/cars/used/sale/volkswagen/golf...</td>\n",
       "      <td>1603219682</td>\n",
       "      <td>1098888018</td>\n",
       "      <td>{\"code\":\"GOLF\",\"name\":\"Golf\",\"ru_name\":\"Гольф\"...</td>\n",
       "      <td>{\"id\":\"20496559\",\"displacement\":1595,\"engine_t...</td>\n",
       "    </tr>\n",
       "    <tr>\n",
       "      <th>20832</th>\n",
       "      <td>JAPANESE</td>\n",
       "      <td>{\"cruise-control\":true,\"asr\":true,\"esp\":true,\"...</td>\n",
       "      <td>RUB</td>\n",
       "      <td>NaN</td>\n",
       "      <td>https://avatars.mds.yandex.net/get-autoru-vos/...</td>\n",
       "      <td>https://auto.ru/cars/used/sale/toyota/rav_4/11...</td>\n",
       "      <td>1603293250</td>\n",
       "      <td>1100240470</td>\n",
       "      <td>{\"code\":\"RAV_4\",\"name\":\"RAV4\",\"ru_name\":\"Рав4\"...</td>\n",
       "      <td>{\"id\":\"7277930\",\"displacement\":1987,\"engine_ty...</td>\n",
       "    </tr>\n",
       "    <tr>\n",
       "      <th>15164</th>\n",
       "      <td>JAPANESE</td>\n",
       "      <td>{\"cruise-control\":true,\"tinted-glass\":true,\"fr...</td>\n",
       "      <td>RUB</td>\n",
       "      <td>NaN</td>\n",
       "      <td>https://avatars.mds.yandex.net/get-autoru-vos/...</td>\n",
       "      <td>https://auto.ru/cars/used/sale/infiniti/g35/11...</td>\n",
       "      <td>1603285035</td>\n",
       "      <td>1100849456</td>\n",
       "      <td>{\"code\":\"G35\",\"name\":\"G\",\"ru_name\":\"G\",\"morpho...</td>\n",
       "      <td>{\"id\":\"2307014\",\"name\":\"35\",\"nameplate\":\"G35\",...</td>\n",
       "    </tr>\n",
       "  </tbody>\n",
       "</table>\n",
       "</div>"
      ],
      "text/plain": [
       "         vendor                                     equipment_dict  \\\n",
       "24996  EUROPEAN  {\"airbag-driver\":true,\"aux\":true,\"usb\":true,\"e...   \n",
       "20832  JAPANESE  {\"cruise-control\":true,\"asr\":true,\"esp\":true,\"...   \n",
       "15164  JAPANESE  {\"cruise-control\":true,\"tinted-glass\":true,\"fr...   \n",
       "\n",
       "      priceCurrency complectation_dict  \\\n",
       "24996           RUB                NaN   \n",
       "20832           RUB                NaN   \n",
       "15164           RUB                NaN   \n",
       "\n",
       "                                                   image  \\\n",
       "24996  https://autoru.naydex.net/o9DBXQ270/5ac010hAY0...   \n",
       "20832  https://avatars.mds.yandex.net/get-autoru-vos/...   \n",
       "15164  https://avatars.mds.yandex.net/get-autoru-vos/...   \n",
       "\n",
       "                                                 car_url  parsing_unixtime  \\\n",
       "24996  https://auto.ru/cars/used/sale/volkswagen/golf...        1603219682   \n",
       "20832  https://auto.ru/cars/used/sale/toyota/rav_4/11...        1603293250   \n",
       "15164  https://auto.ru/cars/used/sale/infiniti/g35/11...        1603285035   \n",
       "\n",
       "          sell_id                                         model_info  \\\n",
       "24996  1098888018  {\"code\":\"GOLF\",\"name\":\"Golf\",\"ru_name\":\"Гольф\"...   \n",
       "20832  1100240470  {\"code\":\"RAV_4\",\"name\":\"RAV4\",\"ru_name\":\"Рав4\"...   \n",
       "15164  1100849456  {\"code\":\"G35\",\"name\":\"G\",\"ru_name\":\"G\",\"morpho...   \n",
       "\n",
       "                                               super_gen  \n",
       "24996  {\"id\":\"20496559\",\"displacement\":1595,\"engine_t...  \n",
       "20832  {\"id\":\"7277930\",\"displacement\":1987,\"engine_ty...  \n",
       "15164  {\"id\":\"2307014\",\"name\":\"35\",\"nameplate\":\"G35\",...  "
      ]
     },
     "execution_count": 40,
     "metadata": {},
     "output_type": "execute_result"
    }
   ],
   "source": [
    "# Список колонок, которых нет в train, но есть в test\n",
    "dif_list_test = list(set(test.columns).difference(train.columns))\n",
    "print(\"Список колонок, которых нет в train, но есть в test:\", dif_list_test)\n",
    "\n",
    "# Посмотрим на данные в этих колонках\n",
    "print(\"\\nTEST DF:\")\n",
    "test[dif_list_test].sample(3)"
   ]
  },
  {
   "cell_type": "code",
   "execution_count": 41,
   "metadata": {
    "scrolled": true
   },
   "outputs": [
    {
     "name": "stdout",
     "output_type": "stream",
     "text": [
      "Список колонок, которых нет в test, но есть в train: ['hidden', 'Комплектация', 'start_date', 'price']\n",
      "\n",
      "TRAIN DF:\n"
     ]
    },
    {
     "data": {
      "text/html": [
       "<div>\n",
       "<style scoped>\n",
       "    .dataframe tbody tr th:only-of-type {\n",
       "        vertical-align: middle;\n",
       "    }\n",
       "\n",
       "    .dataframe tbody tr th {\n",
       "        vertical-align: top;\n",
       "    }\n",
       "\n",
       "    .dataframe thead th {\n",
       "        text-align: right;\n",
       "    }\n",
       "</style>\n",
       "<table border=\"1\" class=\"dataframe\">\n",
       "  <thead>\n",
       "    <tr style=\"text-align: right;\">\n",
       "      <th></th>\n",
       "      <th>hidden</th>\n",
       "      <th>Комплектация</th>\n",
       "      <th>start_date</th>\n",
       "      <th>price</th>\n",
       "    </tr>\n",
       "  </thead>\n",
       "  <tbody>\n",
       "    <tr>\n",
       "      <th>40289</th>\n",
       "      <td>NaN</td>\n",
       "      <td>{'id': '0'}</td>\n",
       "      <td>2020-08-03T10:08:01Z</td>\n",
       "      <td>369000.0</td>\n",
       "    </tr>\n",
       "    <tr>\n",
       "      <th>45770</th>\n",
       "      <td>NaN</td>\n",
       "      <td>{'id': '0'}</td>\n",
       "      <td>2020-01-11T18:57:37Z</td>\n",
       "      <td>950000.0</td>\n",
       "    </tr>\n",
       "    <tr>\n",
       "      <th>20192</th>\n",
       "      <td>NaN</td>\n",
       "      <td>{'id': '0'}</td>\n",
       "      <td>2020-06-02T16:00:00Z</td>\n",
       "      <td>290000.0</td>\n",
       "    </tr>\n",
       "  </tbody>\n",
       "</table>\n",
       "</div>"
      ],
      "text/plain": [
       "       hidden Комплектация            start_date     price\n",
       "40289     NaN  {'id': '0'}  2020-08-03T10:08:01Z  369000.0\n",
       "45770     NaN  {'id': '0'}  2020-01-11T18:57:37Z  950000.0\n",
       "20192     NaN  {'id': '0'}  2020-06-02T16:00:00Z  290000.0"
      ]
     },
     "execution_count": 41,
     "metadata": {},
     "output_type": "execute_result"
    }
   ],
   "source": [
    "# Список колонок, которых нет в test, но есть в train\n",
    "dif_list_train = list(set(train.columns).difference(test.columns))\n",
    "print(\"Список колонок, которых нет в test, но есть в train:\", dif_list_train)\n",
    "\n",
    "# Посмотрим на данные в этих колонках\n",
    "print(\"\\nTRAIN DF:\")\n",
    "train[dif_list_train].sample(3)"
   ]
  },
  {
   "cell_type": "markdown",
   "metadata": {},
   "source": [
    "Идеи для обогощений датасетов, чтобы получить общие данные для работы:\n",
    "- [x] Train: добавить колонку vendor, можно создать словарик соответсвия brand-vendor\n",
    "- [x] Train: model_name важная информация, нужно получить колонку. В train такая колонка есть - называется model. Унифицировать имена, привести к model (переименовать в test). Переименование добавлено выше в код, где переименовывались колонки.\n",
    "\n",
    "Также дополнительно в TEST найдено:\n",
    "- В признаке super_gen можно дополнительно доставть 1) acceleration (скорость разгона) 2) clearance_min 3) fuel_rate (расход топлива)\n",
    "- В признаке equipment_dict лежит полезная информация про комплектацию автомобиля. Посмотреть, есть ли что-то похожее в Train."
   ]
  },
  {
   "cell_type": "markdown",
   "metadata": {},
   "source": [
    "**Добавляем vendor в train**"
   ]
  },
  {
   "cell_type": "code",
   "execution_count": 42,
   "metadata": {
    "scrolled": true
   },
   "outputs": [
    {
     "data": {
      "text/plain": [
       "{'EUROPEAN': ['BMW', 'VOLKSWAGEN', 'MERCEDES', 'AUDI', 'SKODA', 'VOLVO'],\n",
       " 'JAPANESE': ['NISSAN', 'TOYOTA', 'MITSUBISHI', 'HONDA', 'INFINITI', 'LEXUS']}"
      ]
     },
     "execution_count": 42,
     "metadata": {},
     "output_type": "execute_result"
    }
   ],
   "source": [
    "# Создаем словарь из вендоров по брендам\n",
    "vendor_dict = test.groupby(['vendor'])['brand'].apply(\n",
    "    lambda grp: list(grp.value_counts().index)).to_dict()\n",
    "vendor_dict"
   ]
  },
  {
   "cell_type": "code",
   "execution_count": 43,
   "metadata": {
    "scrolled": true
   },
   "outputs": [
    {
     "name": "stdout",
     "output_type": "stream",
     "text": [
      "Список колонок, которых нет в test, но есть в train: ['KIA', 'RENAULT', 'PORSCHE', 'DODGE', 'GREAT_WALL', 'MINI', 'DAEWOO', 'SUZUKI', 'JEEP', 'GEELY', 'CHERY', 'JAGUAR', 'SUBARU', 'CHEVROLET', 'SSANG_YONG', 'CITROEN', 'HYUNDAI', 'PEUGEOT', 'LAND_ROVER', 'OPEL', 'MAZDA', 'CHRYSLER', 'CADILLAC', 'FORD']\n"
     ]
    }
   ],
   "source": [
    "# Список брендов, которых нет в test, но есть в train\n",
    "dif_list_brands = list(\n",
    "    set(train.brand.unique()).difference(test.brand.unique()))\n",
    "print(\"Список колонок, которых нет в test, но есть в train:\", dif_list_brands)"
   ]
  },
  {
   "cell_type": "code",
   "execution_count": 44,
   "metadata": {
    "scrolled": true
   },
   "outputs": [],
   "source": [
    "# Добавим в словарь vendor_dict недостающие бренды по существующим ключам\n",
    "eur_append = ['PORSCHE', 'LAND_ROVER', 'JAGUAR',\n",
    "              'MINI', 'RENAULT', 'OPEL', 'PEUGEOT', 'CITROEN']\n",
    "jap_append = ['SUBARU', 'MAZDA', 'SUZUKI']\n",
    "\n",
    "for brand in eur_append:\n",
    "    vendor_dict['EUROPEAN'].append(brand)\n",
    "for brand in jap_append:\n",
    "    vendor_dict['JAPANESE'].append(brand)"
   ]
  },
  {
   "cell_type": "code",
   "execution_count": 45,
   "metadata": {
    "scrolled": true
   },
   "outputs": [],
   "source": [
    "# Добавляем новые ключи\n",
    "vendor_dict.update({'AMERICAN': ['CHEVROLET', 'CHRYSLER', 'CADILLAC', 'JEEP', 'FORD', 'DODGE'],\n",
    "                    'ASIAN': ['HYUNDAI', 'DAEWOO', 'KIA', 'CHERY', 'SSANG_YONG', 'GEELY', 'GREAT_WALL']})"
   ]
  },
  {
   "cell_type": "code",
   "execution_count": 46,
   "metadata": {
    "scrolled": true
   },
   "outputs": [
    {
     "name": "stdout",
     "output_type": "stream",
     "text": [
      "{'EUROPEAN': ['BMW', 'VOLKSWAGEN', 'MERCEDES', 'AUDI', 'SKODA', 'VOLVO', 'PORSCHE', 'LAND_ROVER', 'JAGUAR', 'MINI', 'RENAULT', 'OPEL', 'PEUGEOT', 'CITROEN'], 'JAPANESE': ['NISSAN', 'TOYOTA', 'MITSUBISHI', 'HONDA', 'INFINITI', 'LEXUS', 'SUBARU', 'MAZDA', 'SUZUKI'], 'AMERICAN': ['CHEVROLET', 'CHRYSLER', 'CADILLAC', 'JEEP', 'FORD', 'DODGE'], 'ASIAN': ['HYUNDAI', 'DAEWOO', 'KIA', 'CHERY', 'SSANG_YONG', 'GEELY', 'GREAT_WALL']}\n"
     ]
    }
   ],
   "source": [
    "# Смотрим итоговый словарь\n",
    "print(vendor_dict)"
   ]
  },
  {
   "cell_type": "code",
   "execution_count": 47,
   "metadata": {
    "scrolled": true
   },
   "outputs": [],
   "source": [
    "# Создадим новый словарь для мапинга\n",
    "new_map = {str(x): str(k) for k, v in vendor_dict.items() for x in v}"
   ]
  },
  {
   "cell_type": "code",
   "execution_count": 48,
   "metadata": {
    "scrolled": true
   },
   "outputs": [],
   "source": [
    "# Создаем признак vendor в train\n",
    "train['vendor'] = train.brand.copy()\n",
    "train['vendor'] = train['vendor'].map(new_map)"
   ]
  },
  {
   "cell_type": "markdown",
   "metadata": {},
   "source": [
    "После завершения подготовительного этапа склеиваем два датафрейма."
   ]
  },
  {
   "cell_type": "code",
   "execution_count": 49,
   "metadata": {
    "execution": {
     "iopub.execute_input": "2021-08-25T11:04:32.849319Z",
     "iopub.status.busy": "2021-08-25T11:04:32.848959Z",
     "iopub.status.idle": "2021-08-25T11:04:33.002464Z",
     "shell.execute_reply": "2021-08-25T11:04:33.00091Z",
     "shell.execute_reply.started": "2021-08-25T11:04:32.849282Z"
    },
    "scrolled": true
   },
   "outputs": [],
   "source": [
    "# Для анализа склеиваем оба датафрейма по общим колонкам, добавляем признак sample\n",
    "train['train'] = 1  # помечаем где у нас трейн\n",
    "test['train'] = 0  # помечаем где у нас тест\n",
    "# в тесте у нас нет значения цены, мы его должны предсказать, поэтому пока просто заполняем нулями\n",
    "test['price'] = 0\n",
    "train['sell_id'] = 0  # поле понадобавиться для сабмита, оставляем\n",
    "\n",
    "data = pd.concat([train, test], axis=0, join=\"inner\", ignore_index=True)"
   ]
  },
  {
   "cell_type": "code",
   "execution_count": 50,
   "metadata": {
    "execution": {
     "iopub.execute_input": "2021-08-25T11:04:33.004963Z",
     "iopub.status.busy": "2021-08-25T11:04:33.004602Z",
     "iopub.status.idle": "2021-08-25T11:04:33.348904Z",
     "shell.execute_reply": "2021-08-25T11:04:33.347942Z",
     "shell.execute_reply.started": "2021-08-25T11:04:33.004927Z"
    },
    "papermill": {
     "duration": 0.042812,
     "end_time": "2020-10-26T12:47:02.943868",
     "exception": false,
     "start_time": "2020-10-26T12:47:02.901056",
     "status": "completed"
    },
    "scrolled": true,
    "tags": []
   },
   "outputs": [
    {
     "name": "stdout",
     "output_type": "stream",
     "text": [
      "<class 'pandas.core.frame.DataFrame'>\n",
      "RangeIndex: 124064 entries, 0 to 124063\n",
      "Data columns (total 26 columns):\n",
      " #   Column                Non-Null Count   Dtype  \n",
      "---  ------                --------------   -----  \n",
      " 0   bodyType              124063 non-null  object \n",
      " 1   brand                 124064 non-null  object \n",
      " 2   color                 124064 non-null  object \n",
      " 3   fuelType              124064 non-null  object \n",
      " 4   modelDate             124063 non-null  object \n",
      " 5   name                  124063 non-null  object \n",
      " 6   numberOfDoors         124063 non-null  object \n",
      " 7   productionDate        124064 non-null  int64  \n",
      " 8   vehicleConfiguration  124063 non-null  object \n",
      " 9   vehicleTransmission   124063 non-null  object \n",
      " 10  engineDisplacement    124063 non-null  object \n",
      " 11  enginePower           124063 non-null  float64\n",
      " 12  description           120810 non-null  object \n",
      " 13  mileage               124064 non-null  int64  \n",
      " 14  drivetrain            124063 non-null  object \n",
      " 15  driveSide             124064 non-null  object \n",
      " 16  condition             124064 non-null  int64  \n",
      " 17  ownersCount           110476 non-null  float64\n",
      " 18  tcp                   123702 non-null  object \n",
      " 19  customs               124064 non-null  int64  \n",
      " 20  ownershipTime         41196 non-null   object \n",
      " 21  price                 123654 non-null  float64\n",
      " 22  model                 124064 non-null  object \n",
      " 23  vendor                124064 non-null  object \n",
      " 24  train                 124064 non-null  int64  \n",
      " 25  sell_id               124064 non-null  int64  \n",
      "dtypes: float64(3), int64(6), object(17)\n",
      "memory usage: 24.6+ MB\n"
     ]
    }
   ],
   "source": [
    "# Посмотрим, что получилось\n",
    "data.info()"
   ]
  },
  {
   "cell_type": "code",
   "execution_count": 51,
   "metadata": {
    "scrolled": true
   },
   "outputs": [],
   "source": [
    "# Преобразуем modelDate в int\n",
    "data['modelDate'] = data['modelDate'].astype('Int64')"
   ]
  },
  {
   "cell_type": "code",
   "execution_count": 52,
   "metadata": {
    "execution": {
     "iopub.execute_input": "2021-08-25T11:04:33.35329Z",
     "iopub.status.busy": "2021-08-25T11:04:33.352944Z",
     "iopub.status.idle": "2021-08-25T11:04:33.388746Z",
     "shell.execute_reply": "2021-08-25T11:04:33.387255Z",
     "shell.execute_reply.started": "2021-08-25T11:04:33.353258Z"
    },
    "scrolled": true
   },
   "outputs": [
    {
     "data": {
      "text/html": [
       "<div>\n",
       "<style scoped>\n",
       "    .dataframe tbody tr th:only-of-type {\n",
       "        vertical-align: middle;\n",
       "    }\n",
       "\n",
       "    .dataframe tbody tr th {\n",
       "        vertical-align: top;\n",
       "    }\n",
       "\n",
       "    .dataframe thead th {\n",
       "        text-align: right;\n",
       "    }\n",
       "</style>\n",
       "<table border=\"1\" class=\"dataframe\">\n",
       "  <thead>\n",
       "    <tr style=\"text-align: right;\">\n",
       "      <th></th>\n",
       "      <th>bodyType</th>\n",
       "      <th>brand</th>\n",
       "      <th>color</th>\n",
       "      <th>fuelType</th>\n",
       "      <th>modelDate</th>\n",
       "      <th>name</th>\n",
       "      <th>numberOfDoors</th>\n",
       "      <th>productionDate</th>\n",
       "      <th>vehicleConfiguration</th>\n",
       "      <th>vehicleTransmission</th>\n",
       "      <th>...</th>\n",
       "      <th>condition</th>\n",
       "      <th>ownersCount</th>\n",
       "      <th>tcp</th>\n",
       "      <th>customs</th>\n",
       "      <th>ownershipTime</th>\n",
       "      <th>price</th>\n",
       "      <th>model</th>\n",
       "      <th>vendor</th>\n",
       "      <th>train</th>\n",
       "      <th>sell_id</th>\n",
       "    </tr>\n",
       "  </thead>\n",
       "  <tbody>\n",
       "    <tr>\n",
       "      <th>108865</th>\n",
       "      <td>внедорожник 5 дв.</td>\n",
       "      <td>TOYOTA</td>\n",
       "      <td>серебристый</td>\n",
       "      <td>бензин</td>\n",
       "      <td>2005</td>\n",
       "      <td>4.0 AT (249 л.с.) 4WD</td>\n",
       "      <td>5</td>\n",
       "      <td>2007</td>\n",
       "      <td>ALLROAD_5_DOORS AUTOMATIC 4.0</td>\n",
       "      <td>автоматическая</td>\n",
       "      <td>...</td>\n",
       "      <td>0</td>\n",
       "      <td>2.0</td>\n",
       "      <td>Оригинал</td>\n",
       "      <td>1</td>\n",
       "      <td>2 года и 3 месяца</td>\n",
       "      <td>0.0</td>\n",
       "      <td>FORTUNER</td>\n",
       "      <td>JAPANESE</td>\n",
       "      <td>0</td>\n",
       "      <td>1092823446</td>\n",
       "    </tr>\n",
       "    <tr>\n",
       "      <th>120510</th>\n",
       "      <td>лифтбек</td>\n",
       "      <td>SKODA</td>\n",
       "      <td>зелёный</td>\n",
       "      <td>бензин</td>\n",
       "      <td>1996</td>\n",
       "      <td>1.6 MT (101 л.с.)</td>\n",
       "      <td>5</td>\n",
       "      <td>1997</td>\n",
       "      <td>LIFTBACK MECHANICAL 1.6</td>\n",
       "      <td>механическая</td>\n",
       "      <td>...</td>\n",
       "      <td>0</td>\n",
       "      <td>3.0</td>\n",
       "      <td>Оригинал</td>\n",
       "      <td>1</td>\n",
       "      <td>2 месяца</td>\n",
       "      <td>0.0</td>\n",
       "      <td>OCTAVIA</td>\n",
       "      <td>EUROPEAN</td>\n",
       "      <td>0</td>\n",
       "      <td>1101343439</td>\n",
       "    </tr>\n",
       "    <tr>\n",
       "      <th>10687</th>\n",
       "      <td>Внедорожник 5 дв.</td>\n",
       "      <td>BMW</td>\n",
       "      <td>040001</td>\n",
       "      <td>бензин</td>\n",
       "      <td>1999</td>\n",
       "      <td>3.0i 3.0 AT (231 л.с.) 4WD</td>\n",
       "      <td>5</td>\n",
       "      <td>2001</td>\n",
       "      <td>ALLROAD_5_DOORS AUTOMATIC 3.0i</td>\n",
       "      <td>AUTOMATIC</td>\n",
       "      <td>...</td>\n",
       "      <td>0</td>\n",
       "      <td>3.0</td>\n",
       "      <td>DUPLICATE</td>\n",
       "      <td>1</td>\n",
       "      <td>None</td>\n",
       "      <td>650000.0</td>\n",
       "      <td>X5</td>\n",
       "      <td>EUROPEAN</td>\n",
       "      <td>1</td>\n",
       "      <td>0</td>\n",
       "    </tr>\n",
       "  </tbody>\n",
       "</table>\n",
       "<p>3 rows × 26 columns</p>\n",
       "</div>"
      ],
      "text/plain": [
       "                 bodyType   brand        color fuelType  modelDate  \\\n",
       "108865  внедорожник 5 дв.  TOYOTA  серебристый   бензин       2005   \n",
       "120510            лифтбек   SKODA      зелёный   бензин       1996   \n",
       "10687   Внедорожник 5 дв.     BMW       040001   бензин       1999   \n",
       "\n",
       "                              name numberOfDoors  productionDate  \\\n",
       "108865       4.0 AT (249 л.с.) 4WD             5            2007   \n",
       "120510           1.6 MT (101 л.с.)             5            1997   \n",
       "10687   3.0i 3.0 AT (231 л.с.) 4WD             5            2001   \n",
       "\n",
       "                  vehicleConfiguration vehicleTransmission  ... condition  \\\n",
       "108865   ALLROAD_5_DOORS AUTOMATIC 4.0      автоматическая  ...         0   \n",
       "120510         LIFTBACK MECHANICAL 1.6        механическая  ...         0   \n",
       "10687   ALLROAD_5_DOORS AUTOMATIC 3.0i           AUTOMATIC  ...         0   \n",
       "\n",
       "        ownersCount        tcp  customs      ownershipTime     price  \\\n",
       "108865          2.0   Оригинал        1  2 года и 3 месяца       0.0   \n",
       "120510          3.0   Оригинал        1           2 месяца       0.0   \n",
       "10687           3.0  DUPLICATE        1               None  650000.0   \n",
       "\n",
       "           model    vendor train     sell_id  \n",
       "108865  FORTUNER  JAPANESE     0  1092823446  \n",
       "120510   OCTAVIA  EUROPEAN     0  1101343439  \n",
       "10687         X5  EUROPEAN     1           0  \n",
       "\n",
       "[3 rows x 26 columns]"
      ]
     },
     "execution_count": 52,
     "metadata": {},
     "output_type": "execute_result"
    }
   ],
   "source": [
    "data.sample(3)"
   ]
  },
  {
   "cell_type": "markdown",
   "metadata": {},
   "source": [
    "Проведем предварительный анализ данных."
   ]
  },
  {
   "cell_type": "code",
   "execution_count": 53,
   "metadata": {
    "scrolled": true
   },
   "outputs": [],
   "source": [
    "# Запустим библиотеку для предварительного анализа данных\n",
    "#ProfileReport(data, title=\"Pandas Profiling Report for Merged Test and Train Dataset\")"
   ]
  },
  {
   "cell_type": "markdown",
   "metadata": {},
   "source": [
    "Выводы:\n",
    "1. Суммарно 124064 строки, 3.4% пропусков, есть дубликаты. Данные достаточно \"чистые\", пригодны для работы.\n",
    "2. В датасете 26 признаков. Типы переменных: числовых - 6, категориальных - 20.\n",
    "3. Идеи по очистке данных в колонках и вопросы для анализа данных:\n",
    "    - bodyType - убрать верхний и нижний регистр, сократить кол-во категорий, убрать информацию о количестве дверей, тк есть отдельный признак numberOfDoors.\n",
    "    - brand\t- что такое GREAT_WALL?\n",
    "    - color\t- коды перевести в цвета\n",
    "    - fuelType - разобраться, что такое универсал\n",
    "    - vehicleTransmission - рус и англ варианты унифицировать\n",
    "    - engineDisplacemen\t- унифицировать в объем, привести 2.0 и 2.0 LTR к одному значению\n",
    "    - numberOfDoors - разобраться с транспортом 0 дверей\n",
    "    - driveSide\t- рус и англ варианты унифицировать\n",
    "    - tcp - рус и англ варианты унифицировать\n",
    "    - description - кандидат на удаление, но можно извлечь новые признаки\n",
    "    - ownershipTime - извлечь длитальность владения авто на момент сбора объявления\n",
    " \n",
    "4. Признаки-кандидаты на удаление:\n",
    "    - customs, condition - кандидаты на удаление, т.к. у всех сток одинаковые значений.\n",
    "    - vehicleConfiguration - дублирует информацию из колонок vehicleTransmission, engineDisplacement, bodyType. Удалить признак после обработки пропусков.\n",
    "    - name - дублирует информацию из колонок engineDisplacement, vehicleTransmission, enginePower, drivetrain. Удалить признак после обработки пропусков.\n",
    "5. price - есть пропущенные значения, удалить строки из обучающей выборки.\n",
    "6. Корреляционный анализ:\n",
    "     - есть колинеарные признаки (productionDate - modelDate, mileage - modelDate/productionDate, ownersCount - modelDate/productionDat). Логично, что дата модели и дата производства связаны, также чем старше машина, тем больше пробег и тем большее количетсво владельцев авто)\n",
    "     - связь с целевой переменной: наименьшая корреляция с признаком NumberofDoors.\n",
    "7. Наибольшее количество пропусков в колонках ownershipCount, ownersCount. Можно попробовать предсказать количество, исходя из даты выпуска (т.к. признаки скоррелированы)."
   ]
  },
  {
   "cell_type": "markdown",
   "metadata": {},
   "source": [
    "Создадим список, в который будем добавлять колонки-кандидаты на удаление из датасета."
   ]
  },
  {
   "cell_type": "code",
   "execution_count": 54,
   "metadata": {
    "scrolled": true
   },
   "outputs": [],
   "source": [
    "# Создадим список и добавим колонки, которые планируем удалить по результатам предварительного анализа\n",
    "cols_removal = ['customs', 'condition', 'vehicleConfiguration', 'name']"
   ]
  },
  {
   "cell_type": "markdown",
   "metadata": {},
   "source": [
    "### 3.5 Базовая чистка данных\n",
    "\n",
    "Проведем чистку и дополнительную подготовку данных, исходя из идей выводов выше (пункт 3).\n",
    "\n",
    "- [x] color\t- коды перевести в цвета\n",
    "- [x] vehicleTransmission - рус и англ варианты унифицировать\n",
    "- [x] driveSide\t- рус и англ варианты унифицировать\n",
    "- [x] tcp - рус и англ варианты унифицировать\n",
    "- [x] bodyType - привести к нижнему регистру, т.к. часть данных указаны по разному."
   ]
  },
  {
   "cell_type": "markdown",
   "metadata": {},
   "source": [
    "**vehicleTransmission**\n",
    "\n",
    "Информация про коробку передач."
   ]
  },
  {
   "cell_type": "code",
   "execution_count": 55,
   "metadata": {
    "scrolled": true
   },
   "outputs": [
    {
     "data": {
      "text/plain": [
       "AUTOMATIC           49218\n",
       "MECHANICAL          25264\n",
       "автоматическая      19596\n",
       "ROBOT                7871\n",
       "механическая         7209\n",
       "VARIATOR             7024\n",
       "вариатор             3999\n",
       "роботизированная     3882\n",
       "Name: vehicleTransmission, dtype: int64"
      ]
     },
     "execution_count": 55,
     "metadata": {},
     "output_type": "execute_result"
    }
   ],
   "source": [
    "data.vehicleTransmission.value_counts()"
   ]
  },
  {
   "attachments": {
    "Screenshot%202021-08-27%20at%2015.10.31-2.png": {
     "image/png": "[encoded data removed]"
    }
   },
   "cell_type": "markdown",
   "metadata": {},
   "source": [
    "Посмотрим на значения на auto.ru. Все коробки делятся на автомат и механику. Автомат подразделяется на варианты.\n",
    "![Screenshot%202021-08-27%20at%2015.10.31-2.png](attachment:Screenshot%202021-08-27%20at%2015.10.31-2.png)"
   ]
  },
  {
   "cell_type": "markdown",
   "metadata": {},
   "source": [
    "Создадим из данного признака новый признак:\n",
    "- коробка передач (автомат, механика)"
   ]
  },
  {
   "cell_type": "code",
   "execution_count": 56,
   "metadata": {
    "scrolled": true
   },
   "outputs": [],
   "source": [
    "# Создаем колонку transmission со значениями \"автомат\" и \"механическая\"\n",
    "data['transmission'] = data.vehicleTransmission.copy()\n",
    "\n",
    "data['transmission'].replace(['AUTOMATIC', 'ROBOT', 'VARIATOR',\n",
    "                              'роботизированная', 'автоматическая', 'вариатор'], \"автомат\", inplace=True)\n",
    "data['transmission'].replace(\n",
    "    ['MECHANICAL', 'механическая'], \"механическая\", inplace=True)"
   ]
  },
  {
   "cell_type": "code",
   "execution_count": 57,
   "metadata": {
    "scrolled": true
   },
   "outputs": [],
   "source": [
    "# В колонке vehicleTransmission почистим данные значениями 'робот', 'автоматическая', 'вариатор' или \"механическая\"\n",
    "\n",
    "data['vehicleTransmission'].replace(\n",
    "    ['AUTOMATIC', 'автоматическая'], \"автоматическая\", inplace=True)\n",
    "data['vehicleTransmission'].replace(\n",
    "    ['ROBOT', 'роботизированная', ], \"робот\", inplace=True)\n",
    "data['vehicleTransmission'].replace(\n",
    "    ['VARIATOR', 'вариатор'], \"вариатор\", inplace=True)\n",
    "data['vehicleTransmission'].replace(['MECHANICAL', 'механическая'], \"механическая\", inplace=True)"
   ]
  },
  {
   "cell_type": "code",
   "execution_count": 58,
   "metadata": {
    "scrolled": true
   },
   "outputs": [
    {
     "data": {
      "text/plain": [
       "array(['механическая', 'автомат', nan], dtype=object)"
      ]
     },
     "execution_count": 58,
     "metadata": {},
     "output_type": "execute_result"
    }
   ],
   "source": [
    "# Проверим, какие значения получились\n",
    "data['transmission'].unique()"
   ]
  },
  {
   "cell_type": "markdown",
   "metadata": {},
   "source": [
    "**color**\n",
    "\n",
    "Цвет автомобиля."
   ]
  },
  {
   "cell_type": "code",
   "execution_count": 59,
   "metadata": {
    "scrolled": true
   },
   "outputs": [
    {
     "data": {
      "text/plain": [
       "array(['040001', 'EE1D19', '0000CC', 'CACECB', '007F00', 'FAFBFB',\n",
       "       '97948F', '22A0F8', '660099', '200204', 'C49648', 'DEA522',\n",
       "       '4A2197', 'FFD600', 'FF8649', 'FFC0CB', 'синий', 'чёрный', 'серый',\n",
       "       'коричневый', 'белый', 'пурпурный', 'бежевый', 'серебристый',\n",
       "       'красный', 'зелёный', 'жёлтый', 'голубой', 'оранжевый',\n",
       "       'фиолетовый', 'золотистый', 'розовый'], dtype=object)"
      ]
     },
     "execution_count": 59,
     "metadata": {},
     "output_type": "execute_result"
    }
   ],
   "source": [
    "# Посмотрим на представленные цвета\n",
    "data.color.unique()"
   ]
  },
  {
   "cell_type": "code",
   "execution_count": 60,
   "metadata": {
    "scrolled": true
   },
   "outputs": [],
   "source": [
    "# Создаем словать с кодировкой значений в цвета\n",
    "color_dict = {'040001': 'чёрный', 'EE1D19': 'красный', '0000CC': 'синий', 'CACECB': 'серебристый', '007F00': 'зелёный',\n",
    "              'FAFBFB': 'белый', '97948F': 'серый', '22A0F8': 'голубой', '660099': 'пурпурный', '200204': 'коричневый',\n",
    "              'C49648': 'бежевый', 'DEA522': 'золотистый', '4A2197': 'фиолетовый', 'FFD600': 'жёлтый',\n",
    "              'FF8649': 'оранжевый', 'FFC0CB': 'розовый'}\n",
    "\n",
    "data['color'].replace(to_replace=color_dict, inplace=True)"
   ]
  },
  {
   "cell_type": "code",
   "execution_count": 61,
   "metadata": {
    "scrolled": true
   },
   "outputs": [
    {
     "data": {
      "text/plain": [
       "array(['чёрный', 'красный', 'синий', 'серебристый', 'зелёный', 'белый',\n",
       "       'серый', 'голубой', 'пурпурный', 'коричневый', 'бежевый',\n",
       "       'золотистый', 'фиолетовый', 'жёлтый', 'оранжевый', 'розовый'],\n",
       "      dtype=object)"
      ]
     },
     "execution_count": 61,
     "metadata": {},
     "output_type": "execute_result"
    }
   ],
   "source": [
    "# Проверяем результат\n",
    "data.color.unique()"
   ]
  },
  {
   "cell_type": "markdown",
   "metadata": {},
   "source": [
    "**driveSide**\n",
    "\n",
    "Расположение руля"
   ]
  },
  {
   "cell_type": "code",
   "execution_count": 62,
   "metadata": {
    "scrolled": true
   },
   "outputs": [
    {
     "data": {
      "text/plain": [
       "array(['LEFT', 'RIGHT', 'Левый', 'Правый'], dtype=object)"
      ]
     },
     "execution_count": 62,
     "metadata": {},
     "output_type": "execute_result"
    }
   ],
   "source": [
    "data.driveSide.unique()"
   ]
  },
  {
   "cell_type": "code",
   "execution_count": 63,
   "metadata": {
    "scrolled": true
   },
   "outputs": [],
   "source": [
    "# Заменим анлоязычные значения на русские\n",
    "data['driveSide'] = data['driveSide'].map(\n",
    "    {'RIGHT': 'Правый', 'LEFT': 'Левый', 'Правый': 'Правый', 'Левый': 'Левый'})"
   ]
  },
  {
   "cell_type": "code",
   "execution_count": 64,
   "metadata": {
    "scrolled": true
   },
   "outputs": [],
   "source": [
    "# уберем верхний регистр\n",
    "data['driveSide'] = data['driveSide'].str.lower()"
   ]
  },
  {
   "cell_type": "markdown",
   "metadata": {},
   "source": [
    "**tcp**\n",
    "\n",
    "Оригинал ПТС"
   ]
  },
  {
   "cell_type": "code",
   "execution_count": 65,
   "metadata": {
    "scrolled": true
   },
   "outputs": [
    {
     "data": {
      "text/plain": [
       "array(['ORIGINAL', 'DUPLICATE', nan, 'Оригинал', 'Дубликат'], dtype=object)"
      ]
     },
     "execution_count": 65,
     "metadata": {},
     "output_type": "execute_result"
    }
   ],
   "source": [
    "data.tcp.unique()"
   ]
  },
  {
   "cell_type": "code",
   "execution_count": 66,
   "metadata": {
    "scrolled": true
   },
   "outputs": [
    {
     "data": {
      "text/plain": [
       "89378    Оригинал\n",
       "89379    Оригинал\n",
       "89380    Оригинал\n",
       "89381    Оригинал\n",
       "89382    Оригинал\n",
       "Name: tcp, dtype: object"
      ]
     },
     "execution_count": 66,
     "metadata": {},
     "output_type": "execute_result"
    }
   ],
   "source": [
    "data[data.train == 0].tcp.head()"
   ]
  },
  {
   "cell_type": "code",
   "execution_count": 67,
   "metadata": {
    "scrolled": true
   },
   "outputs": [],
   "source": [
    "# Заменим анлоязычные значения на русские\n",
    "data['tcp'] = data['tcp'].map(\n",
    "    {'ORIGINAL': 'Оригинал', 'DUPLICATE': 'Дубликат', 'Оригинал': 'Оригинал', 'Дубликат': 'Дубликат'})"
   ]
  },
  {
   "cell_type": "code",
   "execution_count": 68,
   "metadata": {
    "scrolled": true
   },
   "outputs": [],
   "source": [
    "# уберем верхний регистр\n",
    "data['tcp'] = data['tcp'].str.lower()"
   ]
  },
  {
   "cell_type": "markdown",
   "metadata": {},
   "source": [
    "**bodyType**\n",
    "\n",
    "Тип кузова."
   ]
  },
  {
   "cell_type": "code",
   "execution_count": 69,
   "metadata": {
    "scrolled": true
   },
   "outputs": [
    {
     "data": {
      "text/plain": [
       "Внедорожник 5 дв.              31885\n",
       "Седан                          30593\n",
       "седан                          13147\n",
       "внедорожник 5 дв.              12228\n",
       "Хэтчбек 5 дв.                   8668\n",
       "                               ...  \n",
       "Кабриолет JCW                      1\n",
       "Пикап Двойная кабина Double        1\n",
       "Седан 120                          1\n",
       "Минивэн Brawny                     1\n",
       "Родстер Roadster                   1\n",
       "Name: bodyType, Length: 192, dtype: int64"
      ]
     },
     "execution_count": 69,
     "metadata": {},
     "output_type": "execute_result"
    }
   ],
   "source": [
    "data.bodyType.value_counts()"
   ]
  },
  {
   "cell_type": "code",
   "execution_count": 70,
   "metadata": {
    "scrolled": true
   },
   "outputs": [],
   "source": [
    "# Приведем значения к нижнему регистру, уберем ряд дубликатов в значениях\n",
    "\n",
    "data['bodyType'] = data['bodyType'].apply(lambda x: str(x).lower())"
   ]
  },
  {
   "cell_type": "markdown",
   "metadata": {},
   "source": [
    "### 3.6 Дубликаты\n",
    "\n",
    "Определим количество дубликатов в данных в части train."
   ]
  },
  {
   "cell_type": "code",
   "execution_count": 71,
   "metadata": {
    "scrolled": true
   },
   "outputs": [
    {
     "name": "stdout",
     "output_type": "stream",
     "text": [
      "Количество дубликатов строк в train части датафрейма: 3577\n"
     ]
    }
   ],
   "source": [
    "print(\"Количество дубликатов строк в train части датафрейма:\",\n",
    "      data[data.train == 1].duplicated().sum())"
   ]
  },
  {
   "cell_type": "code",
   "execution_count": 72,
   "metadata": {
    "scrolled": true
   },
   "outputs": [],
   "source": [
    "# Удалим дубликаты из датасета\n",
    "data.drop_duplicates(inplace=True)"
   ]
  },
  {
   "cell_type": "markdown",
   "metadata": {},
   "source": [
    "### 3.7 Анализ пропусков\n",
    "\n",
    "Посмотрим вцелом на наличие пустых значений и определим стратегию работы с ними."
   ]
  },
  {
   "cell_type": "code",
   "execution_count": 73,
   "metadata": {
    "scrolled": true
   },
   "outputs": [],
   "source": [
    "def intitial_eda_checks(df, missing_percent):\n",
    "    '''\n",
    "    Функция принимает на вход датафрейм, а также заданный порог % пустых значений, который хотим обработать. \n",
    "    На выход выводит на экран информацию о сумме пустых значений для всех колонок, а также проце\n",
    "    '''\n",
    "    if df.isnull().sum().sum() > 0:\n",
    "        mask_total = df.isnull().sum().sort_values(ascending=False)\n",
    "        total = mask_total[mask_total > 0]\n",
    "\n",
    "        mask_percent = df.isnull().mean().sort_values(ascending=False)\n",
    "        percent = mask_percent[mask_percent > 0]\n",
    "\n",
    "        series = mask_percent[mask_percent > missing_percent]\n",
    "        columns = series.index.to_list()\n",
    "\n",
    "        missing_data = pd.DataFrame(pd.concat(\n",
    "            [total, round(percent*100, 2)], axis=1, keys=['Количество', '%']))\n",
    "        print('Сумма и процент значений NaN:\\n \\n')\n",
    "        display(missing_data)\n",
    "    else:\n",
    "        print('NaN значения не найдены.')"
   ]
  },
  {
   "cell_type": "code",
   "execution_count": 74,
   "metadata": {
    "scrolled": true
   },
   "outputs": [
    {
     "name": "stdout",
     "output_type": "stream",
     "text": [
      "Пропуски для TEST+TRAIN датафрейов.\n",
      "\n",
      "Сумма и процент значений NaN:\n",
      " \n",
      "\n"
     ]
    },
    {
     "data": {
      "text/html": [
       "<div>\n",
       "<style scoped>\n",
       "    .dataframe tbody tr th:only-of-type {\n",
       "        vertical-align: middle;\n",
       "    }\n",
       "\n",
       "    .dataframe tbody tr th {\n",
       "        vertical-align: top;\n",
       "    }\n",
       "\n",
       "    .dataframe thead th {\n",
       "        text-align: right;\n",
       "    }\n",
       "</style>\n",
       "<table border=\"1\" class=\"dataframe\">\n",
       "  <thead>\n",
       "    <tr style=\"text-align: right;\">\n",
       "      <th></th>\n",
       "      <th>Количество</th>\n",
       "      <th>%</th>\n",
       "    </tr>\n",
       "  </thead>\n",
       "  <tbody>\n",
       "    <tr>\n",
       "      <th>ownershipTime</th>\n",
       "      <td>79498</td>\n",
       "      <td>65.98</td>\n",
       "    </tr>\n",
       "    <tr>\n",
       "      <th>ownersCount</th>\n",
       "      <td>10554</td>\n",
       "      <td>8.76</td>\n",
       "    </tr>\n",
       "    <tr>\n",
       "      <th>description</th>\n",
       "      <td>3232</td>\n",
       "      <td>2.68</td>\n",
       "    </tr>\n",
       "    <tr>\n",
       "      <th>price</th>\n",
       "      <td>410</td>\n",
       "      <td>0.34</td>\n",
       "    </tr>\n",
       "    <tr>\n",
       "      <th>tcp</th>\n",
       "      <td>349</td>\n",
       "      <td>0.29</td>\n",
       "    </tr>\n",
       "    <tr>\n",
       "      <th>name</th>\n",
       "      <td>1</td>\n",
       "      <td>0.00</td>\n",
       "    </tr>\n",
       "    <tr>\n",
       "      <th>engineDisplacement</th>\n",
       "      <td>1</td>\n",
       "      <td>0.00</td>\n",
       "    </tr>\n",
       "    <tr>\n",
       "      <th>enginePower</th>\n",
       "      <td>1</td>\n",
       "      <td>0.00</td>\n",
       "    </tr>\n",
       "    <tr>\n",
       "      <th>drivetrain</th>\n",
       "      <td>1</td>\n",
       "      <td>0.00</td>\n",
       "    </tr>\n",
       "    <tr>\n",
       "      <th>numberOfDoors</th>\n",
       "      <td>1</td>\n",
       "      <td>0.00</td>\n",
       "    </tr>\n",
       "    <tr>\n",
       "      <th>transmission</th>\n",
       "      <td>1</td>\n",
       "      <td>0.00</td>\n",
       "    </tr>\n",
       "    <tr>\n",
       "      <th>vehicleConfiguration</th>\n",
       "      <td>1</td>\n",
       "      <td>0.00</td>\n",
       "    </tr>\n",
       "    <tr>\n",
       "      <th>modelDate</th>\n",
       "      <td>1</td>\n",
       "      <td>0.00</td>\n",
       "    </tr>\n",
       "    <tr>\n",
       "      <th>vehicleTransmission</th>\n",
       "      <td>1</td>\n",
       "      <td>0.00</td>\n",
       "    </tr>\n",
       "  </tbody>\n",
       "</table>\n",
       "</div>"
      ],
      "text/plain": [
       "                      Количество      %\n",
       "ownershipTime              79498  65.98\n",
       "ownersCount                10554   8.76\n",
       "description                 3232   2.68\n",
       "price                        410   0.34\n",
       "tcp                          349   0.29\n",
       "name                           1   0.00\n",
       "engineDisplacement             1   0.00\n",
       "enginePower                    1   0.00\n",
       "drivetrain                     1   0.00\n",
       "numberOfDoors                  1   0.00\n",
       "transmission                   1   0.00\n",
       "vehicleConfiguration           1   0.00\n",
       "modelDate                      1   0.00\n",
       "vehicleTransmission            1   0.00"
      ]
     },
     "metadata": {},
     "output_type": "display_data"
    }
   ],
   "source": [
    "# Запускаем функцию вывода всех пустых значений\n",
    "print(\"Пропуски для TEST+TRAIN датафрейов.\\n\")\n",
    "intitial_eda_checks(data, 0)"
   ]
  },
  {
   "cell_type": "code",
   "execution_count": 75,
   "metadata": {
    "scrolled": true
   },
   "outputs": [
    {
     "name": "stdout",
     "output_type": "stream",
     "text": [
      "Пропуски для TEST датафрейма.\n",
      "\n",
      "Сумма и процент значений NaN:\n",
      " \n",
      "\n"
     ]
    },
    {
     "data": {
      "text/html": [
       "<div>\n",
       "<style scoped>\n",
       "    .dataframe tbody tr th:only-of-type {\n",
       "        vertical-align: middle;\n",
       "    }\n",
       "\n",
       "    .dataframe tbody tr th {\n",
       "        vertical-align: top;\n",
       "    }\n",
       "\n",
       "    .dataframe thead th {\n",
       "        text-align: right;\n",
       "    }\n",
       "</style>\n",
       "<table border=\"1\" class=\"dataframe\">\n",
       "  <thead>\n",
       "    <tr style=\"text-align: right;\">\n",
       "      <th></th>\n",
       "      <th>Количество</th>\n",
       "      <th>%</th>\n",
       "    </tr>\n",
       "  </thead>\n",
       "  <tbody>\n",
       "    <tr>\n",
       "      <th>ownershipTime</th>\n",
       "      <td>22691</td>\n",
       "      <td>65.42</td>\n",
       "    </tr>\n",
       "    <tr>\n",
       "      <th>tcp</th>\n",
       "      <td>1</td>\n",
       "      <td>0.00</td>\n",
       "    </tr>\n",
       "  </tbody>\n",
       "</table>\n",
       "</div>"
      ],
      "text/plain": [
       "               Количество      %\n",
       "ownershipTime       22691  65.42\n",
       "tcp                     1   0.00"
      ]
     },
     "metadata": {},
     "output_type": "display_data"
    }
   ],
   "source": [
    "print(\"Пропуски для TEST датафрейма.\\n\")\n",
    "intitial_eda_checks(data[data.train == 0], 0)"
   ]
  },
  {
   "cell_type": "code",
   "execution_count": 76,
   "metadata": {
    "scrolled": true
   },
   "outputs": [
    {
     "data": {
      "image/png": "[encoded data removed]",
      "text/plain": [
       "<Figure size 432x288 with 1 Axes>"
      ]
     },
     "metadata": {},
     "output_type": "display_data"
    }
   ],
   "source": [
    "# Посмотрим, как распределены пропуски в части train\n",
    "ax = plt.axes()\n",
    "sns.heatmap(data[data.train == 1].isnull(),\n",
    "            yticklabels=False, cbar=False, cmap='Blues')\n",
    "ax.set_title('Распределение пропусков в TRAIN')\n",
    "plt.show()"
   ]
  },
  {
   "cell_type": "code",
   "execution_count": 77,
   "metadata": {
    "scrolled": true
   },
   "outputs": [
    {
     "data": {
      "image/png": "[encoded data removed]",
      "text/plain": [
       "<Figure size 432x288 with 1 Axes>"
      ]
     },
     "metadata": {},
     "output_type": "display_data"
    }
   ],
   "source": [
    "# Посмотрим, как распределены пропуски в части test\n",
    "ax = plt.axes()\n",
    "sns.heatmap(data[data.train == 0].isnull(),\n",
    "            yticklabels=False, cbar=False, cmap='Blues')\n",
    "ax.set_title('Распределение пропусков в TEST')\n",
    "plt.show()"
   ]
  },
  {
   "cell_type": "markdown",
   "metadata": {},
   "source": [
    "В таблице выведена информация по всем пустым значениям для всех столбцов основного рабочего датасета (data).\n",
    "\n",
    "Выводы и стратегия обработки:\n",
    "1. В 15 столбцах присутствуют пропуски.\n",
    "2. Test:\n",
    "    - [x] tcp: пропуск в одной записи, посмотреть на нее детально, попробовать восстановить или заполнить модой\n",
    "    - [x] ownershipTime: много пропусков (около 65%), проанализировать с чем скоррелирован признак, попробовать заполнить. Если заполнить не получится, то возможно, удалить из признаков для моделирования.\n",
    "3. Train + Test:\n",
    "    - [ ] ownersCount (10554) - можно построить мапинг с медианой/модой по группам в зависимости от года выпуска авто. Заполним пропуски на этапе детального анализа признака.\n",
    "    - [x] price (410) - значения с пропусками удалить из данных \n",
    "    - [x] tcp (310) - поисследовать пропуски и подумать над способами заполнения.\n",
    "    - [x] есть ряд столбцов, где присутсвует ровно один пропуск. Проверить гипотезу, что пропуски находятся в одной и той же строке.\n",
    "    - [x] description заполнить не удастся, колонка в таком виде, как есть, будет удаляться."
   ]
  },
  {
   "cell_type": "markdown",
   "metadata": {},
   "source": [
    "Займемся обработкой пропусков по описанной выше стратегии."
   ]
  },
  {
   "cell_type": "markdown",
   "metadata": {},
   "source": [
    "**price**"
   ]
  },
  {
   "cell_type": "code",
   "execution_count": 78,
   "metadata": {
    "scrolled": true
   },
   "outputs": [
    {
     "data": {
      "text/plain": [
       "1    410\n",
       "Name: train, dtype: int64"
      ]
     },
     "execution_count": 78,
     "metadata": {},
     "output_type": "execute_result"
    }
   ],
   "source": [
    "# Проверим, что price отсуствует именно в train данных и мы не затроним test\n",
    "data[data.price.isnull() == True]['train'].value_counts()"
   ]
  },
  {
   "cell_type": "code",
   "execution_count": 79,
   "metadata": {
    "scrolled": true
   },
   "outputs": [],
   "source": [
    "# Удаляем строки с price = NAN\n",
    "data.dropna(subset=['price'], inplace=True)"
   ]
  },
  {
   "cell_type": "markdown",
   "metadata": {},
   "source": [
    "**Гипотеза, что NAN с одной строкой - это одна и та же запись**"
   ]
  },
  {
   "cell_type": "code",
   "execution_count": 80,
   "metadata": {
    "scrolled": true
   },
   "outputs": [
    {
     "data": {
      "text/html": [
       "<div>\n",
       "<style scoped>\n",
       "    .dataframe tbody tr th:only-of-type {\n",
       "        vertical-align: middle;\n",
       "    }\n",
       "\n",
       "    .dataframe tbody tr th {\n",
       "        vertical-align: top;\n",
       "    }\n",
       "\n",
       "    .dataframe thead th {\n",
       "        text-align: right;\n",
       "    }\n",
       "</style>\n",
       "<table border=\"1\" class=\"dataframe\">\n",
       "  <thead>\n",
       "    <tr style=\"text-align: right;\">\n",
       "      <th></th>\n",
       "      <th>bodyType</th>\n",
       "      <th>brand</th>\n",
       "      <th>color</th>\n",
       "      <th>fuelType</th>\n",
       "      <th>modelDate</th>\n",
       "      <th>name</th>\n",
       "      <th>numberOfDoors</th>\n",
       "      <th>productionDate</th>\n",
       "      <th>vehicleConfiguration</th>\n",
       "      <th>vehicleTransmission</th>\n",
       "      <th>...</th>\n",
       "      <th>ownersCount</th>\n",
       "      <th>tcp</th>\n",
       "      <th>customs</th>\n",
       "      <th>ownershipTime</th>\n",
       "      <th>price</th>\n",
       "      <th>model</th>\n",
       "      <th>vendor</th>\n",
       "      <th>train</th>\n",
       "      <th>sell_id</th>\n",
       "      <th>transmission</th>\n",
       "    </tr>\n",
       "  </thead>\n",
       "  <tbody>\n",
       "    <tr>\n",
       "      <th>24624</th>\n",
       "      <td>nan</td>\n",
       "      <td>HONDA</td>\n",
       "      <td>серебристый</td>\n",
       "      <td>универсал</td>\n",
       "      <td>&lt;NA&gt;</td>\n",
       "      <td>NaN</td>\n",
       "      <td>&lt;NA&gt;</td>\n",
       "      <td>1989</td>\n",
       "      <td>NaN</td>\n",
       "      <td>NaN</td>\n",
       "      <td>...</td>\n",
       "      <td>3.0</td>\n",
       "      <td>оригинал</td>\n",
       "      <td>1</td>\n",
       "      <td>None</td>\n",
       "      <td>120000.0</td>\n",
       "      <td>CIVIC</td>\n",
       "      <td>JAPANESE</td>\n",
       "      <td>1</td>\n",
       "      <td>0</td>\n",
       "      <td>NaN</td>\n",
       "    </tr>\n",
       "  </tbody>\n",
       "</table>\n",
       "<p>1 rows × 27 columns</p>\n",
       "</div>"
      ],
      "text/plain": [
       "      bodyType  brand        color   fuelType  modelDate name numberOfDoors  \\\n",
       "24624      nan  HONDA  серебристый  универсал       <NA>  NaN          <NA>   \n",
       "\n",
       "       productionDate vehicleConfiguration vehicleTransmission  ...  \\\n",
       "24624            1989                  NaN                 NaN  ...   \n",
       "\n",
       "      ownersCount       tcp customs  ownershipTime     price  model    vendor  \\\n",
       "24624         3.0  оригинал       1           None  120000.0  CIVIC  JAPANESE   \n",
       "\n",
       "       train sell_id  transmission  \n",
       "24624      1       0           NaN  \n",
       "\n",
       "[1 rows x 27 columns]"
      ]
     },
     "execution_count": 80,
     "metadata": {},
     "output_type": "execute_result"
    }
   ],
   "source": [
    "data[data.modelDate.isnull() == True]"
   ]
  },
  {
   "cell_type": "code",
   "execution_count": 81,
   "metadata": {
    "scrolled": true
   },
   "outputs": [
    {
     "name": "stdout",
     "output_type": "stream",
     "text": [
      "Индекс строки к удалению: 24624\n"
     ]
    }
   ],
   "source": [
    "# Посмотрим, что за строка, где modelDate = NaN\n",
    "print(\"Индекс строки к удалению:\",\n",
    "      data[data.modelDate.isnull() == True].index[0])"
   ]
  },
  {
   "cell_type": "markdown",
   "metadata": {},
   "source": [
    "Действительно, в одной строке очень много пропусков, при этом машина 1989, недорогая. Удаляем."
   ]
  },
  {
   "cell_type": "code",
   "execution_count": 82,
   "metadata": {
    "scrolled": true
   },
   "outputs": [],
   "source": [
    "# Удаляем строку\n",
    "data.drop([24624], inplace=True)"
   ]
  },
  {
   "cell_type": "markdown",
   "metadata": {},
   "source": [
    "**tcp**\n",
    "\n",
    "Проверим гипотезу, что:\n",
    "- tcp пустой у новых машин\n",
    "- tcp пустой там, где это дубликат."
   ]
  },
  {
   "cell_type": "code",
   "execution_count": 83,
   "metadata": {
    "scrolled": true
   },
   "outputs": [
    {
     "data": {
      "text/html": [
       "<div>\n",
       "<style scoped>\n",
       "    .dataframe tbody tr th:only-of-type {\n",
       "        vertical-align: middle;\n",
       "    }\n",
       "\n",
       "    .dataframe tbody tr th {\n",
       "        vertical-align: top;\n",
       "    }\n",
       "\n",
       "    .dataframe thead th {\n",
       "        text-align: right;\n",
       "    }\n",
       "</style>\n",
       "<table border=\"1\" class=\"dataframe\">\n",
       "  <thead>\n",
       "    <tr style=\"text-align: right;\">\n",
       "      <th></th>\n",
       "      <th>bodyType</th>\n",
       "      <th>brand</th>\n",
       "      <th>color</th>\n",
       "      <th>fuelType</th>\n",
       "      <th>modelDate</th>\n",
       "      <th>name</th>\n",
       "      <th>numberOfDoors</th>\n",
       "      <th>productionDate</th>\n",
       "      <th>vehicleConfiguration</th>\n",
       "      <th>vehicleTransmission</th>\n",
       "      <th>...</th>\n",
       "      <th>ownersCount</th>\n",
       "      <th>tcp</th>\n",
       "      <th>customs</th>\n",
       "      <th>ownershipTime</th>\n",
       "      <th>price</th>\n",
       "      <th>model</th>\n",
       "      <th>vendor</th>\n",
       "      <th>train</th>\n",
       "      <th>sell_id</th>\n",
       "      <th>transmission</th>\n",
       "    </tr>\n",
       "  </thead>\n",
       "  <tbody>\n",
       "    <tr>\n",
       "      <th>4405</th>\n",
       "      <td>седан gran coupe</td>\n",
       "      <td>BMW</td>\n",
       "      <td>чёрный</td>\n",
       "      <td>бензин</td>\n",
       "      <td>2019</td>\n",
       "      <td>218i 1.5 AMT (140 л.с.)</td>\n",
       "      <td>4</td>\n",
       "      <td>2020</td>\n",
       "      <td>SEDAN ROBOT 218i</td>\n",
       "      <td>робот</td>\n",
       "      <td>...</td>\n",
       "      <td>NaN</td>\n",
       "      <td>NaN</td>\n",
       "      <td>1</td>\n",
       "      <td>None</td>\n",
       "      <td>2250000.0</td>\n",
       "      <td>2ER</td>\n",
       "      <td>EUROPEAN</td>\n",
       "      <td>1</td>\n",
       "      <td>0</td>\n",
       "      <td>автомат</td>\n",
       "    </tr>\n",
       "    <tr>\n",
       "      <th>69188</th>\n",
       "      <td>пикап двойная кабина crewmax</td>\n",
       "      <td>TOYOTA</td>\n",
       "      <td>серый</td>\n",
       "      <td>бензин</td>\n",
       "      <td>2013</td>\n",
       "      <td>CrewMax 5.7 AT (381 л.с.) 4WD</td>\n",
       "      <td>4</td>\n",
       "      <td>2020</td>\n",
       "      <td>PICKUP_TWO AUTOMATIC CrewMax</td>\n",
       "      <td>автоматическая</td>\n",
       "      <td>...</td>\n",
       "      <td>NaN</td>\n",
       "      <td>NaN</td>\n",
       "      <td>1</td>\n",
       "      <td>None</td>\n",
       "      <td>5971598.0</td>\n",
       "      <td>TUNDRA</td>\n",
       "      <td>JAPANESE</td>\n",
       "      <td>1</td>\n",
       "      <td>0</td>\n",
       "      <td>автомат</td>\n",
       "    </tr>\n",
       "    <tr>\n",
       "      <th>19391</th>\n",
       "      <td>пикап двойная кабина super crew</td>\n",
       "      <td>FORD</td>\n",
       "      <td>белый</td>\n",
       "      <td>дизель</td>\n",
       "      <td>2017</td>\n",
       "      <td>3.0d AT (250 л.с.) 4WD</td>\n",
       "      <td>4</td>\n",
       "      <td>2020</td>\n",
       "      <td>PICKUP_TWO AUTOMATIC 3.0d</td>\n",
       "      <td>автоматическая</td>\n",
       "      <td>...</td>\n",
       "      <td>NaN</td>\n",
       "      <td>NaN</td>\n",
       "      <td>1</td>\n",
       "      <td>None</td>\n",
       "      <td>10543873.0</td>\n",
       "      <td>F_150</td>\n",
       "      <td>AMERICAN</td>\n",
       "      <td>1</td>\n",
       "      <td>0</td>\n",
       "      <td>автомат</td>\n",
       "    </tr>\n",
       "  </tbody>\n",
       "</table>\n",
       "<p>3 rows × 27 columns</p>\n",
       "</div>"
      ],
      "text/plain": [
       "                              bodyType   brand   color fuelType  modelDate  \\\n",
       "4405                  седан gran coupe     BMW  чёрный   бензин       2019   \n",
       "69188     пикап двойная кабина crewmax  TOYOTA   серый   бензин       2013   \n",
       "19391  пикап двойная кабина super crew    FORD   белый   дизель       2017   \n",
       "\n",
       "                                name numberOfDoors  productionDate  \\\n",
       "4405         218i 1.5 AMT (140 л.с.)             4            2020   \n",
       "69188  CrewMax 5.7 AT (381 л.с.) 4WD             4            2020   \n",
       "19391         3.0d AT (250 л.с.) 4WD             4            2020   \n",
       "\n",
       "               vehicleConfiguration vehicleTransmission  ... ownersCount  tcp  \\\n",
       "4405               SEDAN ROBOT 218i               робот  ...         NaN  NaN   \n",
       "69188  PICKUP_TWO AUTOMATIC CrewMax      автоматическая  ...         NaN  NaN   \n",
       "19391     PICKUP_TWO AUTOMATIC 3.0d      автоматическая  ...         NaN  NaN   \n",
       "\n",
       "      customs  ownershipTime       price   model    vendor  train sell_id  \\\n",
       "4405        1           None   2250000.0     2ER  EUROPEAN      1       0   \n",
       "69188       1           None   5971598.0  TUNDRA  JAPANESE      1       0   \n",
       "19391       1           None  10543873.0   F_150  AMERICAN      1       0   \n",
       "\n",
       "       transmission  \n",
       "4405        автомат  \n",
       "69188       автомат  \n",
       "19391       автомат  \n",
       "\n",
       "[3 rows x 27 columns]"
      ]
     },
     "execution_count": 83,
     "metadata": {},
     "output_type": "execute_result"
    }
   ],
   "source": [
    "# Посмотрим на пример таких данных\n",
    "data[data.tcp.isnull() == True].sample(3)"
   ]
  },
  {
   "cell_type": "code",
   "execution_count": 84,
   "metadata": {
    "scrolled": true
   },
   "outputs": [
    {
     "data": {
      "text/html": [
       "<div>\n",
       "<style scoped>\n",
       "    .dataframe tbody tr th:only-of-type {\n",
       "        vertical-align: middle;\n",
       "    }\n",
       "\n",
       "    .dataframe tbody tr th {\n",
       "        vertical-align: top;\n",
       "    }\n",
       "\n",
       "    .dataframe thead th {\n",
       "        text-align: right;\n",
       "    }\n",
       "</style>\n",
       "<table border=\"1\" class=\"dataframe\">\n",
       "  <thead>\n",
       "    <tr style=\"text-align: right;\">\n",
       "      <th></th>\n",
       "      <th>mileage</th>\n",
       "      <th>ownersCount</th>\n",
       "    </tr>\n",
       "    <tr>\n",
       "      <th>productionDate</th>\n",
       "      <th></th>\n",
       "      <th></th>\n",
       "    </tr>\n",
       "  </thead>\n",
       "  <tbody>\n",
       "    <tr>\n",
       "      <th>1999</th>\n",
       "      <td>276000</td>\n",
       "      <td>3.0</td>\n",
       "    </tr>\n",
       "    <tr>\n",
       "      <th>2018</th>\n",
       "      <td>0</td>\n",
       "      <td>NaN</td>\n",
       "    </tr>\n",
       "    <tr>\n",
       "      <th>2019</th>\n",
       "      <td>0</td>\n",
       "      <td>NaN</td>\n",
       "    </tr>\n",
       "    <tr>\n",
       "      <th>2020</th>\n",
       "      <td>0</td>\n",
       "      <td>NaN</td>\n",
       "    </tr>\n",
       "  </tbody>\n",
       "</table>\n",
       "</div>"
      ],
      "text/plain": [
       "                mileage  ownersCount\n",
       "productionDate                      \n",
       "1999             276000          3.0\n",
       "2018                  0          NaN\n",
       "2019                  0          NaN\n",
       "2020                  0          NaN"
      ]
     },
     "execution_count": 84,
     "metadata": {},
     "output_type": "execute_result"
    }
   ],
   "source": [
    "# Сгруппируем данные по году выпуска и выведем медианный пробег и кол-во владельцев\n",
    "data[data.tcp.isnull() == True].groupby('productionDate')[\n",
    "    'mileage', 'ownersCount'].median()"
   ]
  },
  {
   "cell_type": "markdown",
   "metadata": {},
   "source": [
    "Действительно, выглядит так, что NAN - для новых машин и одной машины с теста. \n",
    "Стратегия заполнения:\n",
    "- для новых авто: новое значение \"новая\"\n",
    "- для 10412 из test: попробуем \"дубликат\""
   ]
  },
  {
   "cell_type": "code",
   "execution_count": 85,
   "metadata": {
    "scrolled": true
   },
   "outputs": [],
   "source": [
    "# Заполняем test значением дубликат\n",
    "data.tcp.loc[data[(data.tcp.isnull() == True) & (\n",
    "    data.train == 0)]['tcp'].index[0]] = 'дубликат'"
   ]
  },
  {
   "cell_type": "code",
   "execution_count": 86,
   "metadata": {
    "scrolled": true
   },
   "outputs": [
    {
     "data": {
      "text/plain": [
       "0    348\n",
       "Name: mileage, dtype: int64"
      ]
     },
     "execution_count": 86,
     "metadata": {},
     "output_type": "execute_result"
    }
   ],
   "source": [
    "# Смотрим, какой mileage у оставшихся записей. Удостоверимся, что это авто без пробега\n",
    "data[data.tcp.isnull() == True].mileage.value_counts()"
   ]
  },
  {
   "cell_type": "code",
   "execution_count": 87,
   "metadata": {
    "scrolled": true
   },
   "outputs": [],
   "source": [
    "# Заполняем значением \"новое авто\"\n",
    "data.tcp.fillna('новое_авто', inplace=True)"
   ]
  },
  {
   "cell_type": "code",
   "execution_count": 88,
   "metadata": {
    "scrolled": true
   },
   "outputs": [
    {
     "data": {
      "text/plain": [
       "оригинал      104833\n",
       "дубликат       14895\n",
       "новое_авто       348\n",
       "Name: tcp, dtype: int64"
      ]
     },
     "execution_count": 88,
     "metadata": {},
     "output_type": "execute_result"
    }
   ],
   "source": [
    "# Проверяем, что получилось\n",
    "data.tcp.value_counts()"
   ]
  },
  {
   "cell_type": "markdown",
   "metadata": {},
   "source": [
    "**description**"
   ]
  },
  {
   "cell_type": "code",
   "execution_count": 89,
   "metadata": {
    "scrolled": true
   },
   "outputs": [],
   "source": [
    "# добавим колонку в список на удаление перед построением модели\n",
    "cols_removal.append('description')"
   ]
  },
  {
   "cell_type": "markdown",
   "metadata": {},
   "source": [
    "**OwnershipTime**\n",
    "\n",
    "Попробуем восстановить информацию о времени владении, исходя из информации в productionDate."
   ]
  },
  {
   "cell_type": "markdown",
   "metadata": {},
   "source": [
    "Создадим на базе признака колонку, в которой поместим инфрмацию о количестве месяцев владения автомобилем."
   ]
  },
  {
   "cell_type": "code",
   "execution_count": 90,
   "metadata": {
    "scrolled": true
   },
   "outputs": [],
   "source": [
    "def num_of_months(row):\n",
    "    \"\"\"\n",
    "    Функция перевеодит формат данных \"x лет y месяца(ев)\" в количество месяцев.\n",
    "    Вход: строка series.\n",
    "    Выход: количество месяцев\n",
    "    \"\"\"\n",
    "    if pd.notnull(row) and row != 'no_data':\n",
    "        list_ownership = row.split()  # разделяем строку на список из месяца и лет\n",
    "        if len(list_ownership) == 2:  # если содержится информация только про годы\n",
    "            if list_ownership[1] in ['год', 'года', 'лет']:\n",
    "                return int(list_ownership[0])*12\n",
    "            return int(list_ownership[0])  # переводим год в месяцы\n",
    "        # случай, когда содержится инфо только про месяц\n",
    "        # прибавляем к годам*12 количетсво месяцев\n",
    "        return int(list_ownership[0])*12 + int(list_ownership[3])"
   ]
  },
  {
   "cell_type": "code",
   "execution_count": 91,
   "metadata": {
    "scrolled": true
   },
   "outputs": [],
   "source": [
    "# Создаем новый столбец с количеством месяцев владения\n",
    "data['ownershipTimeMonths'] = data['ownershipTime'].apply(num_of_months)"
   ]
  },
  {
   "cell_type": "code",
   "execution_count": 92,
   "metadata": {
    "scrolled": true
   },
   "outputs": [],
   "source": [
    "# Пока заполняем пропуски no_data, далее решаем, что сделать с признаком\n",
    "data['ownershipTime'] = data['ownershipTime'].fillna('no_data')"
   ]
  },
  {
   "cell_type": "code",
   "execution_count": 93,
   "metadata": {
    "scrolled": true
   },
   "outputs": [
    {
     "data": {
      "text/html": [
       "<div>\n",
       "<style scoped>\n",
       "    .dataframe tbody tr th:only-of-type {\n",
       "        vertical-align: middle;\n",
       "    }\n",
       "\n",
       "    .dataframe tbody tr th {\n",
       "        vertical-align: top;\n",
       "    }\n",
       "\n",
       "    .dataframe thead th {\n",
       "        text-align: right;\n",
       "    }\n",
       "</style>\n",
       "<table border=\"1\" class=\"dataframe\">\n",
       "  <thead>\n",
       "    <tr style=\"text-align: right;\">\n",
       "      <th></th>\n",
       "      <th>ownershipTime</th>\n",
       "      <th>ownershipTimeMonths</th>\n",
       "    </tr>\n",
       "  </thead>\n",
       "  <tbody>\n",
       "    <tr>\n",
       "      <th>12662</th>\n",
       "      <td>1 год и 3 месяца</td>\n",
       "      <td>15.0</td>\n",
       "    </tr>\n",
       "    <tr>\n",
       "      <th>14838</th>\n",
       "      <td>6 лет и 11 месяцев</td>\n",
       "      <td>83.0</td>\n",
       "    </tr>\n",
       "    <tr>\n",
       "      <th>90777</th>\n",
       "      <td>2 года и 5 месяцев</td>\n",
       "      <td>29.0</td>\n",
       "    </tr>\n",
       "    <tr>\n",
       "      <th>59669</th>\n",
       "      <td>1 год и 1 месяц</td>\n",
       "      <td>13.0</td>\n",
       "    </tr>\n",
       "    <tr>\n",
       "      <th>1813</th>\n",
       "      <td>2 годa и 11 месяцев</td>\n",
       "      <td>35.0</td>\n",
       "    </tr>\n",
       "  </tbody>\n",
       "</table>\n",
       "</div>"
      ],
      "text/plain": [
       "             ownershipTime  ownershipTimeMonths\n",
       "12662     1 год и 3 месяца                 15.0\n",
       "14838   6 лет и 11 месяцев                 83.0\n",
       "90777   2 года и 5 месяцев                 29.0\n",
       "59669      1 год и 1 месяц                 13.0\n",
       "1813   2 годa и 11 месяцев                 35.0"
      ]
     },
     "execution_count": 93,
     "metadata": {},
     "output_type": "execute_result"
    }
   ],
   "source": [
    "# Смотрим, что получилось\n",
    "data[data.ownershipTime != 'no_data'][[\n",
    "    'ownershipTime', 'ownershipTimeMonths']].sample(5)"
   ]
  },
  {
   "cell_type": "markdown",
   "metadata": {},
   "source": [
    "У 65% записей данные о времени владении отсутсвует. Проверим гипотезу, что есть какая-то взаимосвязь между ownershipTimeMonths и productionDate. Поисследуем, чтобы посмотреть, можем ли заполнить пропуски."
   ]
  },
  {
   "cell_type": "code",
   "execution_count": 94,
   "metadata": {
    "scrolled": true
   },
   "outputs": [],
   "source": [
    "# Извлечм орипнтировочную информацию о количестве месяцев после производства\n",
    "current_year = 2020  # год, в который собраны данные\n",
    "data['prodTimeMonths'] = data['productionDate'].apply(lambda x: (current_year - x)*12)"
   ]
  },
  {
   "cell_type": "code",
   "execution_count": 95,
   "metadata": {
    "scrolled": true
   },
   "outputs": [
    {
     "data": {
      "text/html": [
       "<div>\n",
       "<style scoped>\n",
       "    .dataframe tbody tr th:only-of-type {\n",
       "        vertical-align: middle;\n",
       "    }\n",
       "\n",
       "    .dataframe tbody tr th {\n",
       "        vertical-align: top;\n",
       "    }\n",
       "\n",
       "    .dataframe thead th {\n",
       "        text-align: right;\n",
       "    }\n",
       "</style>\n",
       "<table border=\"1\" class=\"dataframe\">\n",
       "  <thead>\n",
       "    <tr style=\"text-align: right;\">\n",
       "      <th></th>\n",
       "      <th>prodTimeMonths</th>\n",
       "      <th>ownershipTimeMonths</th>\n",
       "    </tr>\n",
       "  </thead>\n",
       "  <tbody>\n",
       "    <tr>\n",
       "      <th>count</th>\n",
       "      <td>40705.000000</td>\n",
       "      <td>40705.000000</td>\n",
       "    </tr>\n",
       "    <tr>\n",
       "      <th>mean</th>\n",
       "      <td>129.992089</td>\n",
       "      <td>48.562412</td>\n",
       "    </tr>\n",
       "    <tr>\n",
       "      <th>std</th>\n",
       "      <td>78.326136</td>\n",
       "      <td>43.414070</td>\n",
       "    </tr>\n",
       "    <tr>\n",
       "      <th>min</th>\n",
       "      <td>12.000000</td>\n",
       "      <td>1.000000</td>\n",
       "    </tr>\n",
       "    <tr>\n",
       "      <th>25%</th>\n",
       "      <td>84.000000</td>\n",
       "      <td>16.000000</td>\n",
       "    </tr>\n",
       "    <tr>\n",
       "      <th>50%</th>\n",
       "      <td>120.000000</td>\n",
       "      <td>36.000000</td>\n",
       "    </tr>\n",
       "    <tr>\n",
       "      <th>75%</th>\n",
       "      <td>168.000000</td>\n",
       "      <td>72.000000</td>\n",
       "    </tr>\n",
       "    <tr>\n",
       "      <th>max</th>\n",
       "      <td>1392.000000</td>\n",
       "      <td>514.000000</td>\n",
       "    </tr>\n",
       "  </tbody>\n",
       "</table>\n",
       "</div>"
      ],
      "text/plain": [
       "       prodTimeMonths  ownershipTimeMonths\n",
       "count    40705.000000         40705.000000\n",
       "mean       129.992089            48.562412\n",
       "std         78.326136            43.414070\n",
       "min         12.000000             1.000000\n",
       "25%         84.000000            16.000000\n",
       "50%        120.000000            36.000000\n",
       "75%        168.000000            72.000000\n",
       "max       1392.000000           514.000000"
      ]
     },
     "execution_count": 95,
     "metadata": {},
     "output_type": "execute_result"
    }
   ],
   "source": [
    "# Посмотрим, как распределены статистики по признакам\n",
    "data[(data.ownershipTimeMonths.isnull() == False) & (\n",
    "    data.productionDate != 2020)][['prodTimeMonths', 'ownershipTimeMonths']].describe()"
   ]
  },
  {
   "cell_type": "code",
   "execution_count": 96,
   "metadata": {
    "scrolled": true
   },
   "outputs": [],
   "source": [
    "# Добавим признак, показывающий во сколько раз время после производства больше времени владения\n",
    "data['prodTime_ownershipTime'] = data.apply(lambda x: x['prodTimeMonths']/x['ownershipTimeMonths'], axis = 1)"
   ]
  },
  {
   "cell_type": "code",
   "execution_count": 97,
   "metadata": {
    "scrolled": true
   },
   "outputs": [
    {
     "data": {
      "text/plain": [
       "count    40833.000000\n",
       "mean         9.179411\n",
       "std         21.506893\n",
       "min          0.000000\n",
       "25%          1.236364\n",
       "50%          2.689655\n",
       "75%          7.200000\n",
       "max        384.000000\n",
       "Name: prodTime_ownershipTime, dtype: float64"
      ]
     },
     "execution_count": 97,
     "metadata": {},
     "output_type": "execute_result"
    }
   ],
   "source": [
    "# Посмотрим статистики\n",
    "data.prodTime_ownershipTime.describe()"
   ]
  },
  {
   "cell_type": "code",
   "execution_count": 98,
   "metadata": {
    "scrolled": true
   },
   "outputs": [
    {
     "data": {
      "image/png": "[encoded data removed]",
      "text/plain": [
       "<Figure size 720x360 with 1 Axes>"
      ]
     },
     "metadata": {},
     "output_type": "display_data"
    }
   ],
   "source": [
    "# Посмотрим на графики\n",
    "fig, ax = plt.subplots(figsize=(10, 5))\n",
    "sns.scatterplot(data=data, x='prodTimeMonths', y=\"prodTime_ownershipTime\")\n",
    "ax.set_title('Распределение prodTime_ownershipTime во времени')\n",
    "plt.show()"
   ]
  },
  {
   "cell_type": "code",
   "execution_count": 99,
   "metadata": {
    "scrolled": true
   },
   "outputs": [
    {
     "data": {
      "image/png": "[encoded data removed]",
      "text/plain": [
       "<Figure size 720x360 with 1 Axes>"
      ]
     },
     "metadata": {},
     "output_type": "display_data"
    }
   ],
   "source": [
    "# Посмотрим на распределение признака\n",
    "fig, ax = plt.subplots(figsize=(10, 5))\n",
    "sns.distplot(data['prodTime_ownershipTime'])\n",
    "ax.set_title('Распределение prodTime_ownershipTime')\n",
    "plt.show()"
   ]
  },
  {
   "cell_type": "markdown",
   "metadata": {},
   "source": [
    "Видно, что есть какая-то группировка признака по классам, но пока не понятно, на базе какого признака наблюдается линейная зависимость по коэффициентам соотношения времени владения и времени после производства.\n",
    "\n",
    "Следующие шаги:\n",
    "1. План-минимум: заполнить для новых авто NAN нулями, внести признак, что время владения не указано. Возможно, что-то из этого получится. Текущий признак удалить.\n",
    "2. План-максимум: найти, каким образом заполнить недостающие значения."
   ]
  },
  {
   "cell_type": "code",
   "execution_count": 100,
   "metadata": {
    "scrolled": true
   },
   "outputs": [],
   "source": [
    "# Заполним нулями признак для новых автомобилей\n",
    "data['ownershipTimeMonths'].loc[(data['mileage'] == 0) & (data['ownershipTimeMonths'].isnull() == True)] = 0"
   ]
  },
  {
   "cell_type": "markdown",
   "metadata": {},
   "source": [
    "**ownershipTimeIsNull**\n",
    "\n",
    "Создадим новый признак, который показывает, заполнено ли время владения авто:\n",
    "- 1 - не заполнено\n",
    "- 0 - заполнено."
   ]
  },
  {
   "cell_type": "code",
   "execution_count": 101,
   "metadata": {
    "scrolled": true
   },
   "outputs": [],
   "source": [
    "# Создадим новый признак, что время владения не указано\n",
    "data['ownershipTimeIsNull'] = np.where(data['ownershipTimeMonths'].isnull(), 1, 0)"
   ]
  },
  {
   "cell_type": "code",
   "execution_count": 102,
   "metadata": {
    "scrolled": true
   },
   "outputs": [],
   "source": [
    "# Удалим служебные признаки, которые создавали для вычислений\n",
    "data.drop(['prodTime_ownershipTime', 'prodTimeMonths'], axis = 1, inplace = True)"
   ]
  },
  {
   "cell_type": "code",
   "execution_count": 103,
   "metadata": {
    "scrolled": true
   },
   "outputs": [],
   "source": [
    "# Добавим исходную колонку в список на удаление перед построением модели\n",
    "cols_removal.append('ownershipTime')\n",
    "cols_removal.append('ownershipTimeMonths')"
   ]
  },
  {
   "cell_type": "markdown",
   "metadata": {},
   "source": [
    "### 3.8 Извлечение дополнительных признаков из данных\n",
    "\n",
    "Посмотрим на данные и подумаем, какие дополнительные признаки можно \"извлечь\" из текущих данных без грубокого фиче инжениринга."
   ]
  },
  {
   "cell_type": "markdown",
   "metadata": {},
   "source": [
    "**ownershipTime**\n"
   ]
  },
  {
   "cell_type": "markdown",
   "metadata": {},
   "source": [
    "### Детальный анализ признаков"
   ]
  },
  {
   "cell_type": "markdown",
   "metadata": {},
   "source": [
    "Список вопросов для детального анализа из предварительного анализа:\n",
    "- [ ] fuelType - разобраться, что такое универсал\n",
    "- [ ] engineDisplacemen\t- разобраться, какие значения, унифицировать и/или сгенерировать новые признаки\n",
    "- [ ] description - кандидат на удаление, но можно извлечь новые признаки\n",
    "- [ ] numberOfDoors - разобраться с транспортом 0 дверей"
   ]
  },
  {
   "cell_type": "markdown",
   "metadata": {},
   "source": [
    "#### Группировка признаков на категориальные, бинарные и числовые\n",
    "\n",
    "Посмотрим, какие признаки могут относиться к категориальным, бинарным, числовым."
   ]
  },
  {
   "cell_type": "code",
   "execution_count": 104,
   "metadata": {
    "scrolled": true
   },
   "outputs": [
    {
     "data": {
      "text/plain": [
       "bodyType                  168\n",
       "brand                      36\n",
       "color                      16\n",
       "fuelType                    5\n",
       "modelDate                  78\n",
       "name                     4774\n",
       "numberOfDoors               5\n",
       "productionDate             80\n",
       "vehicleConfiguration     2023\n",
       "vehicleTransmission         4\n",
       "engineDisplacement        589\n",
       "enginePower               398\n",
       "description             99737\n",
       "mileage                 24304\n",
       "drivetrain                  3\n",
       "driveSide                   2\n",
       "condition                   1\n",
       "ownersCount                 4\n",
       "tcp                         3\n",
       "customs                     1\n",
       "ownershipTime             349\n",
       "price                    8169\n",
       "model                    1104\n",
       "vendor                      4\n",
       "train                       2\n",
       "sell_id                 34687\n",
       "transmission                2\n",
       "ownershipTimeMonths       309\n",
       "ownershipTimeIsNull         2\n",
       "dtype: int64"
      ]
     },
     "execution_count": 104,
     "metadata": {},
     "output_type": "execute_result"
    }
   ],
   "source": [
    "# Посмотрим, сколько уникальных значений\n",
    "data.nunique(dropna=False)"
   ]
  },
  {
   "cell_type": "code",
   "execution_count": 105,
   "metadata": {
    "scrolled": true
   },
   "outputs": [
    {
     "data": {
      "text/plain": [
       "bodyType                                                            седан\n",
       "brand                                                                AUDI\n",
       "color                                                             зелёный\n",
       "fuelType                                                           бензин\n",
       "modelDate                                                            1990\n",
       "name                                                    2.8 MT (174 л.с.)\n",
       "numberOfDoors                                                           4\n",
       "productionDate                                                       1993\n",
       "vehicleConfiguration                                 SEDAN MECHANICAL 2.8\n",
       "vehicleTransmission                                          механическая\n",
       "engineDisplacement                                                    2.8\n",
       "enginePower                                                           174\n",
       "description             Хорошая комплектация: климат, эл. стекла, эл. ...\n",
       "mileage                                                            200000\n",
       "drivetrain                                                       передний\n",
       "driveSide                                                           левый\n",
       "condition                                                               0\n",
       "ownersCount                                                             3\n",
       "tcp                                                              оригинал\n",
       "customs                                                                 1\n",
       "ownershipTime                                                     no_data\n",
       "price                                                               90000\n",
       "model                                                                 100\n",
       "vendor                                                           EUROPEAN\n",
       "train                                                                   1\n",
       "sell_id                                                                 0\n",
       "transmission                                                 механическая\n",
       "ownershipTimeMonths                                                   NaN\n",
       "ownershipTimeIsNull                                                     1\n",
       "Name: 5, dtype: object"
      ]
     },
     "execution_count": 105,
     "metadata": {},
     "output_type": "execute_result"
    }
   ],
   "source": [
    "# Выведем пример признаков на экран\n",
    "data.loc[5]"
   ]
  },
  {
   "cell_type": "code",
   "execution_count": 106,
   "metadata": {
    "scrolled": true
   },
   "outputs": [
    {
     "name": "stdout",
     "output_type": "stream",
     "text": [
      "Признаки для последующего удаления: ['customs', 'condition', 'vehicleConfiguration', 'name', 'description', 'ownershipTime', 'ownershipTimeMonths']\n"
     ]
    }
   ],
   "source": [
    "# Посмотрим, на колонки, которые планируем в последствие удалить, чтобы не включать их в анализ\n",
    "print(\"Признаки для последующего удаления:\", cols_removal)"
   ]
  },
  {
   "cell_type": "markdown",
   "metadata": {},
   "source": [
    "Исходя из количества уникальных значений, разделим все признаки на группу.\n",
    "\n",
    "1. Категориальные признаки: 'bodyType', 'brand', 'color', 'fuelType', 'drivetrain', 'tcp', 'model','vendor', 'automaticType'\n",
    "2. Бинарные признаки: - 'customs', 'condition' (не алазируем, т.к. все данные представленны одним значением признака), 'ownershipTimeIsNull', 'transmission', 'driveSide'\n",
    "3. Числовые признаки: 'modelDate', 'numberOfDoors', 'productionDate', 'engineDisplacement', 'enginePower', 'mileage', 'ownersCount'\n",
    "4. Даты: -\n",
    "5. Служебный признак (не анализируем): 'train', 'sell_id'\n",
    "6. Целевой: 'price'"
   ]
  },
  {
   "cell_type": "code",
   "execution_count": 107,
   "metadata": {
    "scrolled": true
   },
   "outputs": [
    {
     "name": "stdout",
     "output_type": "stream",
     "text": [
      "Кол-во столбцов, для дальнейшей работы после предварительного анализа: 22\n"
     ]
    }
   ],
   "source": [
    "# бинарные признаки\n",
    "bin_cols = ['ownershipTimeIsNull', 'driveSide', 'transmission']\n",
    "\n",
    "# категориальные переменные\n",
    "cat_cols = ['bodyType', 'brand', 'color', 'fuelType', 'drivetrain', 'tcp', 'model',\n",
    "            'engineDisplacement', 'vendor', 'vehicleTransmission', 'numberOfDoors', 'ownersCount']\n",
    "\n",
    "# числовые переменные\n",
    "num_cols = ['modelDate', 'productionDate',\n",
    "            'enginePower', 'mileage']\n",
    "\n",
    "# сервисные переменные\n",
    "service_cols = ['train', 'sell_id']\n",
    "\n",
    "# целевая переменная\n",
    "target_col = ['price']\n",
    "\n",
    "all_cols = bin_cols + cat_cols + num_cols + service_cols + target_col\n",
    "\n",
    "print(\"Кол-во столбцов, для дальнейшей работы после предварительного анализа:\", len(all_cols))"
   ]
  },
  {
   "cell_type": "markdown",
   "metadata": {},
   "source": [
    "#### Числовые переменные: распределение, корреляционный анализ, определение значимости\n",
    "\n",
    "###### Распределние численных признаков."
   ]
  },
  {
   "cell_type": "code",
   "execution_count": 108,
   "metadata": {
    "scrolled": true
   },
   "outputs": [
    {
     "data": {
      "text/plain": [
       "' # Построим распределение основных числовых признаков\\n\\nprint(\"Диаграмы распределения числовых признаков, взаимосвязь с целевой переменной\")\\n\\nfig, axes = plt.subplots(4, 3, figsize=(30, 40))\\nplt.subplots_adjust(wspace=0.5)\\naxes = axes.flatten()\\ni = 0\\n\\nfor col in num_cols:\\n    sns.distplot(data[col], ax=axes[i])\\n    i = i + 1\\n    sns.boxplot(data[col], ax=axes[i])\\n    i = i + 1\\n    sns.scatterplot(data=data[data[\\'train\\'] == 1],\\n                    x=col, y=\"price\", ax=axes[i])\\n    i = i + 1\\n'"
      ]
     },
     "execution_count": 108,
     "metadata": {},
     "output_type": "execute_result"
    }
   ],
   "source": [
    "\"\"\" # Построим распределение основных числовых признаков\n",
    "\n",
    "print(\"Диаграмы распределения числовых признаков, взаимосвязь с целевой переменной\")\n",
    "\n",
    "fig, axes = plt.subplots(4, 3, figsize=(30, 40))\n",
    "plt.subplots_adjust(wspace=0.5)\n",
    "axes = axes.flatten()\n",
    "i = 0\n",
    "\n",
    "for col in num_cols:\n",
    "    sns.distplot(data[col], ax=axes[i])\n",
    "    i = i + 1\n",
    "    sns.boxplot(data[col], ax=axes[i])\n",
    "    i = i + 1\n",
    "    sns.scatterplot(data=data[data['train'] == 1],\n",
    "                    x=col, y=\"price\", ax=axes[i])\n",
    "    i = i + 1\n",
    "\"\"\""
   ]
  },
  {
   "cell_type": "code",
   "execution_count": 109,
   "metadata": {
    "scrolled": true
   },
   "outputs": [
    {
     "name": "stdout",
     "output_type": "stream",
     "text": [
      "Основные статистики для числовых признаков.\n"
     ]
    },
    {
     "data": {
      "text/html": [
       "<div>\n",
       "<style scoped>\n",
       "    .dataframe tbody tr th:only-of-type {\n",
       "        vertical-align: middle;\n",
       "    }\n",
       "\n",
       "    .dataframe tbody tr th {\n",
       "        vertical-align: top;\n",
       "    }\n",
       "\n",
       "    .dataframe thead th {\n",
       "        text-align: right;\n",
       "    }\n",
       "</style>\n",
       "<table border=\"1\" class=\"dataframe\">\n",
       "  <thead>\n",
       "    <tr style=\"text-align: right;\">\n",
       "      <th></th>\n",
       "      <th>modelDate</th>\n",
       "      <th>productionDate</th>\n",
       "      <th>enginePower</th>\n",
       "      <th>mileage</th>\n",
       "    </tr>\n",
       "  </thead>\n",
       "  <tbody>\n",
       "    <tr>\n",
       "      <th>count</th>\n",
       "      <td>120076.000000</td>\n",
       "      <td>120076.000000</td>\n",
       "      <td>120076.000000</td>\n",
       "      <td>120076.000000</td>\n",
       "    </tr>\n",
       "    <tr>\n",
       "      <th>mean</th>\n",
       "      <td>2007.894142</td>\n",
       "      <td>2010.155010</td>\n",
       "      <td>175.934408</td>\n",
       "      <td>146058.040583</td>\n",
       "    </tr>\n",
       "    <tr>\n",
       "      <th>std</th>\n",
       "      <td>7.385829</td>\n",
       "      <td>6.995833</td>\n",
       "      <td>85.916687</td>\n",
       "      <td>101886.681110</td>\n",
       "    </tr>\n",
       "    <tr>\n",
       "      <th>min</th>\n",
       "      <td>1904.000000</td>\n",
       "      <td>1904.000000</td>\n",
       "      <td>11.000000</td>\n",
       "      <td>0.000000</td>\n",
       "    </tr>\n",
       "    <tr>\n",
       "      <th>25%</th>\n",
       "      <td>2004.000000</td>\n",
       "      <td>2007.000000</td>\n",
       "      <td>116.000000</td>\n",
       "      <td>75648.500000</td>\n",
       "    </tr>\n",
       "    <tr>\n",
       "      <th>50%</th>\n",
       "      <td>2009.000000</td>\n",
       "      <td>2011.000000</td>\n",
       "      <td>150.000000</td>\n",
       "      <td>138543.000000</td>\n",
       "    </tr>\n",
       "    <tr>\n",
       "      <th>75%</th>\n",
       "      <td>2013.000000</td>\n",
       "      <td>2015.000000</td>\n",
       "      <td>210.000000</td>\n",
       "      <td>200000.000000</td>\n",
       "    </tr>\n",
       "    <tr>\n",
       "      <th>max</th>\n",
       "      <td>2020.000000</td>\n",
       "      <td>2020.000000</td>\n",
       "      <td>800.000000</td>\n",
       "      <td>1000000.000000</td>\n",
       "    </tr>\n",
       "  </tbody>\n",
       "</table>\n",
       "</div>"
      ],
      "text/plain": [
       "           modelDate  productionDate    enginePower         mileage\n",
       "count  120076.000000   120076.000000  120076.000000   120076.000000\n",
       "mean     2007.894142     2010.155010     175.934408   146058.040583\n",
       "std         7.385829        6.995833      85.916687   101886.681110\n",
       "min      1904.000000     1904.000000      11.000000        0.000000\n",
       "25%      2004.000000     2007.000000     116.000000    75648.500000\n",
       "50%      2009.000000     2011.000000     150.000000   138543.000000\n",
       "75%      2013.000000     2015.000000     210.000000   200000.000000\n",
       "max      2020.000000     2020.000000     800.000000  1000000.000000"
      ]
     },
     "metadata": {},
     "output_type": "display_data"
    }
   ],
   "source": [
    "print(\"Основные статистики для числовых признаков.\")\n",
    "display(data[num_cols].describe())"
   ]
  },
  {
   "cell_type": "markdown",
   "metadata": {},
   "source": [
    "Выводы:\n",
    "\n",
    "1. После построения гистограмм стало очевидно, что распределения основных числовых переменных имеют тяжёлый левый или правый хвост, влияет на разбежку между средним и медианой: \n",
    "    - для того, чтобы сделать распределение данных переменных более нормальным, можно работать с логарифмированными величинами этих переменных\n",
    "    - поработать с выбросами\n",
    "    - подумать про группировку признаков по категориям.\n",
    "2. Распределние modelDate, productionDate очень схожи:\n",
    "    - проверить на признаки на мультиколлинеарность во время корреляционного анализа\n",
    "    - видно, что в среднем productionDate чуть позже, чем modelDate во времени, т.е. производство приосходит чуть с запозданием, что логично. Можно добавить новый признак - насколько новая модель, т.е. через сколько лет после появления модели был выпущен автомобиль.\n",
    "3. mileage: есть пик в 0 - признак нового авто.\n",
    "4. enginePower: 11 лс - что это за авто? Поисследовать\n",
    "5. Взаимосвязь признаков с таргетом:\n",
    "    - наблюдается прямая корреляция цены от года модели и года выпуска с исключениями для особо раритетных автомобилей (~до 1975 года).\n",
    "    - наблюдается обратная корреляция цены от пробега авто\n",
    "    - цена от мощности вдигателя зависит, но не так явно, как от других переменных."
   ]
  },
  {
   "cell_type": "markdown",
   "metadata": {},
   "source": [
    "###### Корреляционный анализ.\n",
    "\n",
    "Оценим корреляцию Пирсона для непрерывных переменных. Cильная корреляция между переменными вредна для линейных моделей из-за неустойчивости полученных оценок."
   ]
  },
  {
   "cell_type": "code",
   "execution_count": 110,
   "metadata": {
    "scrolled": true
   },
   "outputs": [
    {
     "data": {
      "image/png": "[encoded data removed]",
      "text/plain": [
       "<Figure size 432x288 with 2 Axes>"
      ]
     },
     "metadata": {},
     "output_type": "display_data"
    }
   ],
   "source": [
    "# Построим матрицу корреляций\n",
    "heatmap = sns.heatmap(data[num_cols + target_col].corr(), vmin=-1,\n",
    "                      vmax=1, annot=True, cmap='BrBG')\n",
    "heatmap.set_title('Матрица корреляций')\n",
    "plt.show()"
   ]
  },
  {
   "cell_type": "markdown",
   "metadata": {},
   "source": [
    "Вывод: \n",
    "1. Взаимосвязь пар числовых признаков по Пирсону достаточно сильная для productionDate, modelDate. При этом, у productionDate чуть большая корреляция с целевой переменной. Удалим признак modelDate.\n",
    "2. Достаточно сильная корреляция между productionDate и meleage - чем меньше год выпуска, тем больше пробег\n",
    "3. У всех числовых признаков достаточно высокая корреляция с целевой переменной, это хорошо."
   ]
  },
  {
   "cell_type": "code",
   "execution_count": 111,
   "metadata": {
    "scrolled": true
   },
   "outputs": [],
   "source": [
    "# Добавляем modelDate в список колонок на удаление.\n",
    "cols_removal.append('modelDate')"
   ]
  },
  {
   "cell_type": "markdown",
   "metadata": {},
   "source": [
    "###### Детальный анализ\n",
    "\n",
    "Посмотрим более пристально на признаки, которые не исключили из анализа."
   ]
  },
  {
   "cell_type": "markdown",
   "metadata": {},
   "source": [
    "**mileage**\n",
    "\n",
    "Дополнительно поисследуем признак."
   ]
  },
  {
   "cell_type": "code",
   "execution_count": 112,
   "metadata": {
    "scrolled": true
   },
   "outputs": [
    {
     "data": {
      "image/png": "[encoded data removed]",
      "text/plain": [
       "<Figure size 720x360 with 1 Axes>"
      ]
     },
     "metadata": {},
     "output_type": "display_data"
    }
   ],
   "source": [
    "# посмотрим на топ 5 годов выпуска авто\n",
    "fig, ax = plt.subplots(figsize=(10, 5))\n",
    "\n",
    "for x in (data['productionDate'].value_counts())[0:7].index:\n",
    "    data['mileage'][data['productionDate'] == x].hist(bins=50)\n",
    "\n",
    "ax.set_xlim(0, 700000)\n",
    "ax.set_ylim(0, 1750)\n",
    "\n",
    "plt.title(\"Распределение mileage по productionDate\")\n",
    "plt.show()"
   ]
  },
  {
   "cell_type": "markdown",
   "metadata": {},
   "source": [
    "Получается, что mileage имеет нормальное распределение, просто чем старше автомобиль, тем больше пробег, из-за мы видим смещение.\n",
    "\n",
    "Чтобы скорректировать признак и сделать его более информативным создадим новый признак в разделе создания признаков: km_per_year - показывает, сколько км в год проезжал автомобиль. Вычисляется, как mileage/productionDate(years) или mileage/ownershipTime. Решить, какой метод использовать."
   ]
  },
  {
   "cell_type": "markdown",
   "metadata": {},
   "source": [
    "**enginePower**\n",
    "\n",
    "Нужно поисследовать странное минимальное значение мощности."
   ]
  },
  {
   "cell_type": "code",
   "execution_count": 113,
   "metadata": {
    "scrolled": true
   },
   "outputs": [
    {
     "name": "stdout",
     "output_type": "stream",
     "text": [
      "Значение мощности двигателя (л.с.) на TEST\n"
     ]
    },
    {
     "data": {
      "text/plain": [
       "count    34686.000000\n",
       "mean       188.194142\n",
       "std         89.087035\n",
       "min         30.000000\n",
       "25%        125.000000\n",
       "50%        169.000000\n",
       "75%        233.000000\n",
       "max        639.000000\n",
       "Name: enginePower, dtype: float64"
      ]
     },
     "metadata": {},
     "output_type": "display_data"
    },
    {
     "name": "stdout",
     "output_type": "stream",
     "text": [
      "\n",
      "Значение мощности двигателя (л.с.) на TRAIN\n"
     ]
    },
    {
     "data": {
      "text/plain": [
       "count    85390.000000\n",
       "mean       170.954421\n",
       "std         84.086503\n",
       "min         11.000000\n",
       "25%        115.000000\n",
       "50%        150.000000\n",
       "75%        199.000000\n",
       "max        800.000000\n",
       "Name: enginePower, dtype: float64"
      ]
     },
     "metadata": {},
     "output_type": "display_data"
    }
   ],
   "source": [
    "print(\"Значение мощности двигателя (л.с.) на TEST\")\n",
    "display(data[data.train == 0]['enginePower'].describe())\n",
    "\n",
    "print(\"\\nЗначение мощности двигателя (л.с.) на TRAIN\")\n",
    "display(data[data.train == 1]['enginePower'].describe())"
   ]
  },
  {
   "cell_type": "markdown",
   "metadata": {},
   "source": [
    "Видим, что в Test минимум - больше, а максимум - меньше. Посмотрим, что это за авто и сколько их."
   ]
  },
  {
   "cell_type": "code",
   "execution_count": 114,
   "metadata": {
    "scrolled": true
   },
   "outputs": [
    {
     "name": "stdout",
     "output_type": "stream",
     "text": [
      "Строки, в которых мощность двигателя меньше 30 л.с.\n"
     ]
    },
    {
     "data": {
      "text/html": [
       "<div>\n",
       "<style scoped>\n",
       "    .dataframe tbody tr th:only-of-type {\n",
       "        vertical-align: middle;\n",
       "    }\n",
       "\n",
       "    .dataframe tbody tr th {\n",
       "        vertical-align: top;\n",
       "    }\n",
       "\n",
       "    .dataframe thead th {\n",
       "        text-align: right;\n",
       "    }\n",
       "</style>\n",
       "<table border=\"1\" class=\"dataframe\">\n",
       "  <thead>\n",
       "    <tr style=\"text-align: right;\">\n",
       "      <th></th>\n",
       "      <th>bodyType</th>\n",
       "      <th>brand</th>\n",
       "      <th>color</th>\n",
       "      <th>fuelType</th>\n",
       "      <th>modelDate</th>\n",
       "      <th>name</th>\n",
       "      <th>numberOfDoors</th>\n",
       "      <th>productionDate</th>\n",
       "      <th>vehicleConfiguration</th>\n",
       "      <th>vehicleTransmission</th>\n",
       "      <th>...</th>\n",
       "      <th>customs</th>\n",
       "      <th>ownershipTime</th>\n",
       "      <th>price</th>\n",
       "      <th>model</th>\n",
       "      <th>vendor</th>\n",
       "      <th>train</th>\n",
       "      <th>sell_id</th>\n",
       "      <th>transmission</th>\n",
       "      <th>ownershipTimeMonths</th>\n",
       "      <th>ownershipTimeIsNull</th>\n",
       "    </tr>\n",
       "  </thead>\n",
       "  <tbody>\n",
       "    <tr>\n",
       "      <th>22691</th>\n",
       "      <td>кабриолет</td>\n",
       "      <td>FORD</td>\n",
       "      <td>зелёный</td>\n",
       "      <td>бензин</td>\n",
       "      <td>1908</td>\n",
       "      <td>2.9 MT (20 л.с.)</td>\n",
       "      <td>2</td>\n",
       "      <td>1923</td>\n",
       "      <td>CABRIO MECHANICAL 2.9</td>\n",
       "      <td>механическая</td>\n",
       "      <td>...</td>\n",
       "      <td>1</td>\n",
       "      <td>no_data</td>\n",
       "      <td>3800000.0</td>\n",
       "      <td>MODEL_T</td>\n",
       "      <td>AMERICAN</td>\n",
       "      <td>1</td>\n",
       "      <td>0</td>\n",
       "      <td>механическая</td>\n",
       "      <td>NaN</td>\n",
       "      <td>1</td>\n",
       "    </tr>\n",
       "    <tr>\n",
       "      <th>22692</th>\n",
       "      <td>кабриолет</td>\n",
       "      <td>FORD</td>\n",
       "      <td>чёрный</td>\n",
       "      <td>бензин</td>\n",
       "      <td>1908</td>\n",
       "      <td>2.9 MT (20 л.с.)</td>\n",
       "      <td>2</td>\n",
       "      <td>1924</td>\n",
       "      <td>CABRIO MECHANICAL 2.9</td>\n",
       "      <td>механическая</td>\n",
       "      <td>...</td>\n",
       "      <td>1</td>\n",
       "      <td>no_data</td>\n",
       "      <td>3000000.0</td>\n",
       "      <td>MODEL_T</td>\n",
       "      <td>AMERICAN</td>\n",
       "      <td>1</td>\n",
       "      <td>0</td>\n",
       "      <td>механическая</td>\n",
       "      <td>NaN</td>\n",
       "      <td>1</td>\n",
       "    </tr>\n",
       "    <tr>\n",
       "      <th>59955</th>\n",
       "      <td>купе</td>\n",
       "      <td>RENAULT</td>\n",
       "      <td>белый</td>\n",
       "      <td>электро</td>\n",
       "      <td>2011</td>\n",
       "      <td>Electro AT (13 кВт)</td>\n",
       "      <td>2</td>\n",
       "      <td>2012</td>\n",
       "      <td>COUPE AUTOMATIC Electro</td>\n",
       "      <td>автоматическая</td>\n",
       "      <td>...</td>\n",
       "      <td>1</td>\n",
       "      <td>1 год и 3 месяца</td>\n",
       "      <td>449000.0</td>\n",
       "      <td>TWIZY</td>\n",
       "      <td>EUROPEAN</td>\n",
       "      <td>1</td>\n",
       "      <td>0</td>\n",
       "      <td>автомат</td>\n",
       "      <td>15.0</td>\n",
       "      <td>0</td>\n",
       "    </tr>\n",
       "    <tr>\n",
       "      <th>59956</th>\n",
       "      <td>купе</td>\n",
       "      <td>RENAULT</td>\n",
       "      <td>чёрный</td>\n",
       "      <td>электро</td>\n",
       "      <td>2011</td>\n",
       "      <td>Electro AT (9 кВт)</td>\n",
       "      <td>2</td>\n",
       "      <td>2016</td>\n",
       "      <td>COUPE AUTOMATIC Electro</td>\n",
       "      <td>автоматическая</td>\n",
       "      <td>...</td>\n",
       "      <td>1</td>\n",
       "      <td>1 год и 4 месяца</td>\n",
       "      <td>549000.0</td>\n",
       "      <td>TWIZY</td>\n",
       "      <td>EUROPEAN</td>\n",
       "      <td>1</td>\n",
       "      <td>0</td>\n",
       "      <td>автомат</td>\n",
       "      <td>16.0</td>\n",
       "      <td>0</td>\n",
       "    </tr>\n",
       "  </tbody>\n",
       "</table>\n",
       "<p>4 rows × 29 columns</p>\n",
       "</div>"
      ],
      "text/plain": [
       "        bodyType    brand    color fuelType  modelDate                 name  \\\n",
       "22691  кабриолет     FORD  зелёный   бензин       1908     2.9 MT (20 л.с.)   \n",
       "22692  кабриолет     FORD   чёрный   бензин       1908     2.9 MT (20 л.с.)   \n",
       "59955       купе  RENAULT    белый  электро       2011  Electro AT (13 кВт)   \n",
       "59956       купе  RENAULT   чёрный  электро       2011   Electro AT (9 кВт)   \n",
       "\n",
       "      numberOfDoors  productionDate     vehicleConfiguration  \\\n",
       "22691             2            1923    CABRIO MECHANICAL 2.9   \n",
       "22692             2            1924    CABRIO MECHANICAL 2.9   \n",
       "59955             2            2012  COUPE AUTOMATIC Electro   \n",
       "59956             2            2016  COUPE AUTOMATIC Electro   \n",
       "\n",
       "      vehicleTransmission  ... customs     ownershipTime      price    model  \\\n",
       "22691        механическая  ...       1           no_data  3800000.0  MODEL_T   \n",
       "22692        механическая  ...       1           no_data  3000000.0  MODEL_T   \n",
       "59955      автоматическая  ...       1  1 год и 3 месяца   449000.0    TWIZY   \n",
       "59956      автоматическая  ...       1  1 год и 4 месяца   549000.0    TWIZY   \n",
       "\n",
       "         vendor train  sell_id  transmission ownershipTimeMonths  \\\n",
       "22691  AMERICAN     1        0  механическая                 NaN   \n",
       "22692  AMERICAN     1        0  механическая                 NaN   \n",
       "59955  EUROPEAN     1        0       автомат                15.0   \n",
       "59956  EUROPEAN     1        0       автомат                16.0   \n",
       "\n",
       "       ownershipTimeIsNull  \n",
       "22691                    1  \n",
       "22692                    1  \n",
       "59955                    0  \n",
       "59956                    0  \n",
       "\n",
       "[4 rows x 29 columns]"
      ]
     },
     "execution_count": 114,
     "metadata": {},
     "output_type": "execute_result"
    }
   ],
   "source": [
    "print(\"Строки, в которых мощность двигателя меньше 30 л.с.\")\n",
    "data[data.enginePower < data[data.train == 0]['enginePower'].min()]"
   ]
  },
  {
   "cell_type": "code",
   "execution_count": 115,
   "metadata": {
    "scrolled": false
   },
   "outputs": [
    {
     "name": "stdout",
     "output_type": "stream",
     "text": [
      "Строки, в которых мощность двигателя более 639 л.с.\n"
     ]
    },
    {
     "data": {
      "text/html": [
       "<div>\n",
       "<style scoped>\n",
       "    .dataframe tbody tr th:only-of-type {\n",
       "        vertical-align: middle;\n",
       "    }\n",
       "\n",
       "    .dataframe tbody tr th {\n",
       "        vertical-align: top;\n",
       "    }\n",
       "\n",
       "    .dataframe thead th {\n",
       "        text-align: right;\n",
       "    }\n",
       "</style>\n",
       "<table border=\"1\" class=\"dataframe\">\n",
       "  <thead>\n",
       "    <tr style=\"text-align: right;\">\n",
       "      <th></th>\n",
       "      <th>bodyType</th>\n",
       "      <th>brand</th>\n",
       "      <th>color</th>\n",
       "      <th>fuelType</th>\n",
       "      <th>modelDate</th>\n",
       "      <th>name</th>\n",
       "      <th>numberOfDoors</th>\n",
       "      <th>productionDate</th>\n",
       "      <th>vehicleConfiguration</th>\n",
       "      <th>vehicleTransmission</th>\n",
       "      <th>...</th>\n",
       "      <th>customs</th>\n",
       "      <th>ownershipTime</th>\n",
       "      <th>price</th>\n",
       "      <th>model</th>\n",
       "      <th>vendor</th>\n",
       "      <th>train</th>\n",
       "      <th>sell_id</th>\n",
       "      <th>transmission</th>\n",
       "      <th>ownershipTimeMonths</th>\n",
       "      <th>ownershipTimeIsNull</th>\n",
       "    </tr>\n",
       "  </thead>\n",
       "  <tbody>\n",
       "    <tr>\n",
       "      <th>18731</th>\n",
       "      <td>купе srt</td>\n",
       "      <td>DODGE</td>\n",
       "      <td>синий</td>\n",
       "      <td>бензин</td>\n",
       "      <td>2014</td>\n",
       "      <td>Hellcat 6.2 AT (717 л.с.)</td>\n",
       "      <td>2</td>\n",
       "      <td>2016</td>\n",
       "      <td>COUPE AUTOMATIC Hellcat</td>\n",
       "      <td>автоматическая</td>\n",
       "      <td>...</td>\n",
       "      <td>1</td>\n",
       "      <td>1 год и 6 месяцев</td>\n",
       "      <td>6500000.0</td>\n",
       "      <td>CHALLENGER</td>\n",
       "      <td>AMERICAN</td>\n",
       "      <td>1</td>\n",
       "      <td>0</td>\n",
       "      <td>автомат</td>\n",
       "      <td>18.0</td>\n",
       "      <td>0</td>\n",
       "    </tr>\n",
       "    <tr>\n",
       "      <th>18733</th>\n",
       "      <td>купе srt</td>\n",
       "      <td>DODGE</td>\n",
       "      <td>серый</td>\n",
       "      <td>бензин</td>\n",
       "      <td>2014</td>\n",
       "      <td>Hellcat 6.2 AT (717 л.с.)</td>\n",
       "      <td>2</td>\n",
       "      <td>2016</td>\n",
       "      <td>COUPE AUTOMATIC Hellcat</td>\n",
       "      <td>автоматическая</td>\n",
       "      <td>...</td>\n",
       "      <td>1</td>\n",
       "      <td>no_data</td>\n",
       "      <td>5990000.0</td>\n",
       "      <td>CHALLENGER</td>\n",
       "      <td>AMERICAN</td>\n",
       "      <td>1</td>\n",
       "      <td>0</td>\n",
       "      <td>автомат</td>\n",
       "      <td>NaN</td>\n",
       "      <td>1</td>\n",
       "    </tr>\n",
       "    <tr>\n",
       "      <th>18832</th>\n",
       "      <td>пикап двойная кабина crew cab trx</td>\n",
       "      <td>DODGE</td>\n",
       "      <td>серый</td>\n",
       "      <td>бензин</td>\n",
       "      <td>2018</td>\n",
       "      <td>Crew Cab TRX 6.2 AT (702 л.с.) 4WD</td>\n",
       "      <td>4</td>\n",
       "      <td>2020</td>\n",
       "      <td>PICKUP_TWO AUTOMATIC Crew</td>\n",
       "      <td>автоматическая</td>\n",
       "      <td>...</td>\n",
       "      <td>1</td>\n",
       "      <td>no_data</td>\n",
       "      <td>14433255.0</td>\n",
       "      <td>RAM</td>\n",
       "      <td>AMERICAN</td>\n",
       "      <td>1</td>\n",
       "      <td>0</td>\n",
       "      <td>автомат</td>\n",
       "      <td>0.0</td>\n",
       "      <td>0</td>\n",
       "    </tr>\n",
       "    <tr>\n",
       "      <th>23483</th>\n",
       "      <td>купе</td>\n",
       "      <td>FORD</td>\n",
       "      <td>красный</td>\n",
       "      <td>бензин</td>\n",
       "      <td>2009</td>\n",
       "      <td>Shelby GT500 5.8 MT (662 л.с.)</td>\n",
       "      <td>2</td>\n",
       "      <td>2013</td>\n",
       "      <td>COUPE MECHANICAL Shelby</td>\n",
       "      <td>механическая</td>\n",
       "      <td>...</td>\n",
       "      <td>1</td>\n",
       "      <td>no_data</td>\n",
       "      <td>9980000.0</td>\n",
       "      <td>MUSTANG</td>\n",
       "      <td>AMERICAN</td>\n",
       "      <td>1</td>\n",
       "      <td>0</td>\n",
       "      <td>механическая</td>\n",
       "      <td>NaN</td>\n",
       "      <td>1</td>\n",
       "    </tr>\n",
       "    <tr>\n",
       "      <th>23485</th>\n",
       "      <td>купе</td>\n",
       "      <td>FORD</td>\n",
       "      <td>чёрный</td>\n",
       "      <td>бензин</td>\n",
       "      <td>2009</td>\n",
       "      <td>Shelby GT500 5.8 MT (662 л.с.)</td>\n",
       "      <td>2</td>\n",
       "      <td>2013</td>\n",
       "      <td>COUPE MECHANICAL Shelby</td>\n",
       "      <td>механическая</td>\n",
       "      <td>...</td>\n",
       "      <td>1</td>\n",
       "      <td>no_data</td>\n",
       "      <td>9000000.0</td>\n",
       "      <td>MUSTANG</td>\n",
       "      <td>AMERICAN</td>\n",
       "      <td>1</td>\n",
       "      <td>0</td>\n",
       "      <td>механическая</td>\n",
       "      <td>NaN</td>\n",
       "      <td>1</td>\n",
       "    </tr>\n",
       "    <tr>\n",
       "      <th>32411</th>\n",
       "      <td>внедорожник 5 дв. trackhawk</td>\n",
       "      <td>JEEP</td>\n",
       "      <td>белый</td>\n",
       "      <td>бензин</td>\n",
       "      <td>2013</td>\n",
       "      <td>Trackhawk 6.2 AT (717 л.с.) 4WD</td>\n",
       "      <td>5</td>\n",
       "      <td>2019</td>\n",
       "      <td>ALLROAD_5_DOORS AUTOMATIC Trackhawk</td>\n",
       "      <td>автоматическая</td>\n",
       "      <td>...</td>\n",
       "      <td>1</td>\n",
       "      <td>no_data</td>\n",
       "      <td>10300000.0</td>\n",
       "      <td>GRAND_CHEROKEE</td>\n",
       "      <td>AMERICAN</td>\n",
       "      <td>1</td>\n",
       "      <td>0</td>\n",
       "      <td>автомат</td>\n",
       "      <td>0.0</td>\n",
       "      <td>0</td>\n",
       "    </tr>\n",
       "    <tr>\n",
       "      <th>57242</th>\n",
       "      <td>седан</td>\n",
       "      <td>PORSCHE</td>\n",
       "      <td>серый</td>\n",
       "      <td>электро</td>\n",
       "      <td>2019</td>\n",
       "      <td>Turbo S Electro AT (561 кВт) 4WD</td>\n",
       "      <td>4</td>\n",
       "      <td>2020</td>\n",
       "      <td>SEDAN AUTOMATIC Turbo</td>\n",
       "      <td>автоматическая</td>\n",
       "      <td>...</td>\n",
       "      <td>1</td>\n",
       "      <td>no_data</td>\n",
       "      <td>16601327.0</td>\n",
       "      <td>TAYCAN</td>\n",
       "      <td>EUROPEAN</td>\n",
       "      <td>1</td>\n",
       "      <td>0</td>\n",
       "      <td>автомат</td>\n",
       "      <td>0.0</td>\n",
       "      <td>0</td>\n",
       "    </tr>\n",
       "    <tr>\n",
       "      <th>57246</th>\n",
       "      <td>седан</td>\n",
       "      <td>PORSCHE</td>\n",
       "      <td>белый</td>\n",
       "      <td>электро</td>\n",
       "      <td>2019</td>\n",
       "      <td>Turbo Electro AT (501 кВт) 4WD</td>\n",
       "      <td>4</td>\n",
       "      <td>2020</td>\n",
       "      <td>SEDAN AUTOMATIC Turbo</td>\n",
       "      <td>автоматическая</td>\n",
       "      <td>...</td>\n",
       "      <td>1</td>\n",
       "      <td>8 месяцев</td>\n",
       "      <td>13500000.0</td>\n",
       "      <td>TAYCAN</td>\n",
       "      <td>EUROPEAN</td>\n",
       "      <td>1</td>\n",
       "      <td>0</td>\n",
       "      <td>автомат</td>\n",
       "      <td>8.0</td>\n",
       "      <td>0</td>\n",
       "    </tr>\n",
       "    <tr>\n",
       "      <th>83909</th>\n",
       "      <td>внедорожник 5 дв.</td>\n",
       "      <td>MERCEDES</td>\n",
       "      <td>чёрный</td>\n",
       "      <td>бензин</td>\n",
       "      <td>2018</td>\n",
       "      <td>Brabus 700 4.0 AT (700 л.с.) 4WD</td>\n",
       "      <td>5</td>\n",
       "      <td>2020</td>\n",
       "      <td>ALLROAD_5_DOORS AUTOMATIC Brabus</td>\n",
       "      <td>автоматическая</td>\n",
       "      <td>...</td>\n",
       "      <td>1</td>\n",
       "      <td>no_data</td>\n",
       "      <td>29300000.0</td>\n",
       "      <td>G_KLASSE_AMG</td>\n",
       "      <td>EUROPEAN</td>\n",
       "      <td>1</td>\n",
       "      <td>0</td>\n",
       "      <td>автомат</td>\n",
       "      <td>0.0</td>\n",
       "      <td>0</td>\n",
       "    </tr>\n",
       "    <tr>\n",
       "      <th>83976</th>\n",
       "      <td>внедорожник 5 дв.</td>\n",
       "      <td>MERCEDES</td>\n",
       "      <td>чёрный</td>\n",
       "      <td>бензин</td>\n",
       "      <td>2018</td>\n",
       "      <td>Brabus 800 4.0 AT (800 л.с.) 4WD</td>\n",
       "      <td>5</td>\n",
       "      <td>2020</td>\n",
       "      <td>ALLROAD_5_DOORS AUTOMATIC Brabus</td>\n",
       "      <td>автоматическая</td>\n",
       "      <td>...</td>\n",
       "      <td>1</td>\n",
       "      <td>no_data</td>\n",
       "      <td>31600000.0</td>\n",
       "      <td>G_KLASSE_AMG</td>\n",
       "      <td>EUROPEAN</td>\n",
       "      <td>1</td>\n",
       "      <td>0</td>\n",
       "      <td>автомат</td>\n",
       "      <td>0.0</td>\n",
       "      <td>0</td>\n",
       "    </tr>\n",
       "  </tbody>\n",
       "</table>\n",
       "<p>10 rows × 29 columns</p>\n",
       "</div>"
      ],
      "text/plain": [
       "                                bodyType     brand    color fuelType  \\\n",
       "18731                           купе srt     DODGE    синий   бензин   \n",
       "18733                           купе srt     DODGE    серый   бензин   \n",
       "18832  пикап двойная кабина crew cab trx     DODGE    серый   бензин   \n",
       "23483                               купе      FORD  красный   бензин   \n",
       "23485                               купе      FORD   чёрный   бензин   \n",
       "32411        внедорожник 5 дв. trackhawk      JEEP    белый   бензин   \n",
       "57242                              седан   PORSCHE    серый  электро   \n",
       "57246                              седан   PORSCHE    белый  электро   \n",
       "83909                  внедорожник 5 дв.  MERCEDES   чёрный   бензин   \n",
       "83976                  внедорожник 5 дв.  MERCEDES   чёрный   бензин   \n",
       "\n",
       "       modelDate                                name numberOfDoors  \\\n",
       "18731       2014           Hellcat 6.2 AT (717 л.с.)             2   \n",
       "18733       2014           Hellcat 6.2 AT (717 л.с.)             2   \n",
       "18832       2018  Crew Cab TRX 6.2 AT (702 л.с.) 4WD             4   \n",
       "23483       2009      Shelby GT500 5.8 MT (662 л.с.)             2   \n",
       "23485       2009      Shelby GT500 5.8 MT (662 л.с.)             2   \n",
       "32411       2013     Trackhawk 6.2 AT (717 л.с.) 4WD             5   \n",
       "57242       2019    Turbo S Electro AT (561 кВт) 4WD             4   \n",
       "57246       2019      Turbo Electro AT (501 кВт) 4WD             4   \n",
       "83909       2018    Brabus 700 4.0 AT (700 л.с.) 4WD             5   \n",
       "83976       2018    Brabus 800 4.0 AT (800 л.с.) 4WD             5   \n",
       "\n",
       "       productionDate                 vehicleConfiguration  \\\n",
       "18731            2016              COUPE AUTOMATIC Hellcat   \n",
       "18733            2016              COUPE AUTOMATIC Hellcat   \n",
       "18832            2020            PICKUP_TWO AUTOMATIC Crew   \n",
       "23483            2013              COUPE MECHANICAL Shelby   \n",
       "23485            2013              COUPE MECHANICAL Shelby   \n",
       "32411            2019  ALLROAD_5_DOORS AUTOMATIC Trackhawk   \n",
       "57242            2020                SEDAN AUTOMATIC Turbo   \n",
       "57246            2020                SEDAN AUTOMATIC Turbo   \n",
       "83909            2020     ALLROAD_5_DOORS AUTOMATIC Brabus   \n",
       "83976            2020     ALLROAD_5_DOORS AUTOMATIC Brabus   \n",
       "\n",
       "      vehicleTransmission  ... customs      ownershipTime       price  \\\n",
       "18731      автоматическая  ...       1  1 год и 6 месяцев   6500000.0   \n",
       "18733      автоматическая  ...       1            no_data   5990000.0   \n",
       "18832      автоматическая  ...       1            no_data  14433255.0   \n",
       "23483        механическая  ...       1            no_data   9980000.0   \n",
       "23485        механическая  ...       1            no_data   9000000.0   \n",
       "32411      автоматическая  ...       1            no_data  10300000.0   \n",
       "57242      автоматическая  ...       1            no_data  16601327.0   \n",
       "57246      автоматическая  ...       1          8 месяцев  13500000.0   \n",
       "83909      автоматическая  ...       1            no_data  29300000.0   \n",
       "83976      автоматическая  ...       1            no_data  31600000.0   \n",
       "\n",
       "                model    vendor train  sell_id  transmission  \\\n",
       "18731      CHALLENGER  AMERICAN     1        0       автомат   \n",
       "18733      CHALLENGER  AMERICAN     1        0       автомат   \n",
       "18832             RAM  AMERICAN     1        0       автомат   \n",
       "23483         MUSTANG  AMERICAN     1        0  механическая   \n",
       "23485         MUSTANG  AMERICAN     1        0  механическая   \n",
       "32411  GRAND_CHEROKEE  AMERICAN     1        0       автомат   \n",
       "57242          TAYCAN  EUROPEAN     1        0       автомат   \n",
       "57246          TAYCAN  EUROPEAN     1        0       автомат   \n",
       "83909    G_KLASSE_AMG  EUROPEAN     1        0       автомат   \n",
       "83976    G_KLASSE_AMG  EUROPEAN     1        0       автомат   \n",
       "\n",
       "      ownershipTimeMonths  ownershipTimeIsNull  \n",
       "18731                18.0                    0  \n",
       "18733                 NaN                    1  \n",
       "18832                 0.0                    0  \n",
       "23483                 NaN                    1  \n",
       "23485                 NaN                    1  \n",
       "32411                 0.0                    0  \n",
       "57242                 0.0                    0  \n",
       "57246                 8.0                    0  \n",
       "83909                 0.0                    0  \n",
       "83976                 0.0                    0  \n",
       "\n",
       "[10 rows x 29 columns]"
      ]
     },
     "execution_count": 115,
     "metadata": {},
     "output_type": "execute_result"
    }
   ],
   "source": [
    "print(\"Строки, в которых мощность двигателя более 639 л.с.\")\n",
    "data[data.enginePower > data[data.train == 0]['enginePower'].max()]"
   ]
  },
  {
   "cell_type": "code",
   "execution_count": 116,
   "metadata": {
    "scrolled": true
   },
   "outputs": [],
   "source": [
    "# Таких строк немного, удалим из из дальнейшего анализа\n",
    "data.drop(data[(data.enginePower > data[data.train == 0]\n",
    "                ['enginePower'].max()) | (data.enginePower < data[data.train == 0]\n",
    "                                          ['enginePower'].min())].index, inplace=True)"
   ]
  },
  {
   "cell_type": "markdown",
   "metadata": {},
   "source": [
    "**productionDate/modelDate**\n",
    "\n",
    "Посмотрим повнимательнее на признак и попробуем проанализировать поглубже."
   ]
  },
  {
   "cell_type": "code",
   "execution_count": 117,
   "metadata": {
    "scrolled": true
   },
   "outputs": [
    {
     "name": "stdout",
     "output_type": "stream",
     "text": [
      "Значение года производства авто на TEST\n"
     ]
    },
    {
     "data": {
      "text/plain": [
       "count    34686.000000\n",
       "mean      2009.264602\n",
       "std          7.047661\n",
       "min       1904.000000\n",
       "25%       2006.000000\n",
       "50%       2011.000000\n",
       "75%       2014.000000\n",
       "max       2020.000000\n",
       "Name: productionDate, dtype: float64"
      ]
     },
     "metadata": {},
     "output_type": "display_data"
    },
    {
     "name": "stdout",
     "output_type": "stream",
     "text": [
      "\n",
      "Значение года производства авто на TRAIN\n"
     ]
    },
    {
     "data": {
      "text/plain": [
       "count    85376.000000\n",
       "mean      2010.517815\n",
       "std          6.929423\n",
       "min       1904.000000\n",
       "25%       2007.000000\n",
       "50%       2011.000000\n",
       "75%       2015.000000\n",
       "max       2020.000000\n",
       "Name: productionDate, dtype: float64"
      ]
     },
     "metadata": {},
     "output_type": "display_data"
    }
   ],
   "source": [
    "print(\"Значение года производства авто на TEST\")\n",
    "display(data[data.train == 0]['productionDate'].describe())\n",
    "\n",
    "print(\"\\nЗначение года производства авто на TRAIN\")\n",
    "display(data[data.train == 1]['productionDate'].describe())"
   ]
  },
  {
   "cell_type": "markdown",
   "metadata": {},
   "source": [
    "Минимальные значения, максимальные, медианные и среднии достаточно близки.\n",
    "\n",
    "Посмотрим на раритетные автомобили (30 летние машины, согласно классификации FIVA (Fédération Internationale des Véhicules Anciens), см https://ru.wikipedia.org/wiki/%D0%9A%D0%BB%D0%B0%D1%81%D1%81%D0%B8%D1%87%D0%B5%D1%81%D0%BA%D0%B8%D0%B9_%D0%B0%D0%B2%D1%82%D0%BE%D0%BC%D0%BE%D0%B1%D0%B8%D0%BB%D1%8C#%D0%A0%D0%BE%D1%81%D1%81%D0%B8%D1%8F).\n",
    "\n",
    "Можно будет добавить признак rarity."
   ]
  },
  {
   "cell_type": "code",
   "execution_count": 118,
   "metadata": {
    "scrolled": false
   },
   "outputs": [
    {
     "name": "stdout",
     "output_type": "stream",
     "text": [
      "В датасете содержится 1124 раритетных автомобилей.\n"
     ]
    }
   ],
   "source": [
    "# Посмотрим, сколько таких записей\n",
    "print(f\"В датасете содержится {len(data[data.productionDate < (current_year-30)]['productionDate'])} раритетных автомобилей.\")"
   ]
  },
  {
   "cell_type": "markdown",
   "metadata": {},
   "source": [
    "Детальнее посмотрим, как падает цена в зависимости от productionDate."
   ]
  },
  {
   "cell_type": "code",
   "execution_count": 119,
   "metadata": {
    "scrolled": true
   },
   "outputs": [
    {
     "data": {
      "image/png": "[encoded data removed]",
      "text/plain": [
       "<Figure size 720x360 with 1 Axes>"
      ]
     },
     "metadata": {},
     "output_type": "display_data"
    }
   ],
   "source": [
    "fig, ax = plt.subplots(figsize=(10, 5))\n",
    "\n",
    "ax.set_xlim(1970, 2021)\n",
    "ax.set_ylim(0, 30000000)\n",
    "ax.set_xticks(np.arange(1970, 2022, 3))\n",
    "\n",
    "sns.scatterplot(data=data[data['train'] == 1], x='productionDate', y=\"price\")\n",
    "\n",
    "plt.title(\"Распределение целевой переменной в зависимости от productionDate\\n\")\n",
    "plt.show()"
   ]
  },
  {
   "cell_type": "markdown",
   "metadata": {},
   "source": [
    "Можно найти много информации, что цена автомобиля значительно падает после 3-5 лет эксплуатации. На графиках даная динамика тоже прослеживается. Идеи для новых признаков:\n",
    "- prodDate_3Y - признак, что автомобилю уже 3 года\n",
    "- prodDate_5Y - признак, что автомобилю уже 5 лет."
   ]
  },
  {
   "cell_type": "markdown",
   "metadata": {},
   "source": [
    "#### Категориальные и бинарные переменные: конвертация в числовые\n",
    "\n",
    "##### Распределение признаков\n",
    "\n",
    "Посмотрим на распределение признаков."
   ]
  },
  {
   "cell_type": "code",
   "execution_count": 120,
   "metadata": {
    "scrolled": false
   },
   "outputs": [
    {
     "data": {
      "text/plain": [
       "'\\n# Построим распределение основных бинарных и категориальных признаков\\nprint(\"Распределение бинарных и категориальных признаков. Нажимите дважды для увелечения.\")\\n\\nfig, axes = plt.subplots(5, 3, figsize=(20, 35))\\nplt.subplots_adjust(wspace=0.5)\\naxes = axes.flatten()\\ni = 0\\n\\nfor col in (bin_cols + cat_cols):\\n    sns.histplot(data=data, x=data[col], ax=axes[i],\\n                 stat=\\'count\\', bins=data[col].nunique())\\n    plt.tight_layout()\\n    plt.xticks(rotation=45)\\n    plt.title(col)\\n    i = i + 1\\n'"
      ]
     },
     "execution_count": 120,
     "metadata": {},
     "output_type": "execute_result"
    }
   ],
   "source": [
    "\"\"\"\n",
    "# Построим распределение основных бинарных и категориальных признаков\n",
    "print(\"Распределение бинарных и категориальных признаков. Нажимите дважды для увелечения.\")\n",
    "\n",
    "fig, axes = plt.subplots(5, 3, figsize=(20, 35))\n",
    "plt.subplots_adjust(wspace=0.5)\n",
    "axes = axes.flatten()\n",
    "i = 0\n",
    "\n",
    "for col in (bin_cols + cat_cols):\n",
    "    sns.histplot(data=data, x=data[col], ax=axes[i],\n",
    "                 stat='count', bins=data[col].nunique())\n",
    "    plt.tight_layout()\n",
    "    plt.xticks(rotation=45)\n",
    "    plt.title(col)\n",
    "    i = i + 1\n",
    "\"\"\""
   ]
  },
  {
   "cell_type": "code",
   "execution_count": 121,
   "metadata": {
    "scrolled": true
   },
   "outputs": [],
   "source": [
    "def get_boxplot(column):\n",
    "    \"\"\"\n",
    "    Функция для отрисовки коробочной диаграммы для нечисловых признаков.\n",
    "    На вход получаем список колонок для отрисовки. \n",
    "    Отрисовываем относительно целевой переменной pricing, ограниченной по квантилю.\n",
    "    \"\"\"\n",
    "    fig, ax = plt.subplots(figsize=(14, 4))\n",
    "    sns.boxplot(x=column, y='price',\n",
    "                data=data[data['train'] == 1],\n",
    "                ax=ax)\n",
    "    plt.xticks(rotation=45)\n",
    "    # поскольку в price много выбросов, огриничимся 75% квантилем\n",
    "    ax.set_ylim(0, (data.price.quantile(0.75) + 6*(data.price.quantile(0.75) - data.price.quantile(0.25))))\n",
    "    ax.set_title('Boxplot для ' + column)\n",
    "    plt.show()"
   ]
  },
  {
   "cell_type": "code",
   "execution_count": 122,
   "metadata": {
    "scrolled": false
   },
   "outputs": [
    {
     "data": {
      "text/plain": [
       "'\\nfor col in (bin_cols + cat_cols):\\n    get_boxplot(col)'"
      ]
     },
     "execution_count": 122,
     "metadata": {},
     "output_type": "execute_result"
    }
   ],
   "source": [
    "\"\"\"\n",
    "for col in (bin_cols + cat_cols):\n",
    "    get_boxplot(col)\"\"\""
   ]
  },
  {
   "cell_type": "markdown",
   "metadata": {},
   "source": [
    "Выводы по всем графикам:\n",
    "1. Полностью сбалансированные признаки отсутсвуют.\n",
    "2. Особо несбалансированные признаки: \n",
    "    - [ ] driveSide - правосторонни машины в большинстве => поисследовать, есть ли левосторонние машины в тесте. Если нет, то удалить признак\n",
    "    - [ ] bodyType - огромное количество категорий, многие категории представлены единичными автомобилями => переструктурировать категории, уменьшить их количество, провести повторный анализ\n",
    "    - [ ] brand - много категорий, заметно, что есть массовые, среднепопулярные и редкие бренды авто. Поисследовать дополнительно и подумать над созданием новых признаков (престижные авто/люкс, популярные и т.д.)\n",
    "    - [ ] color - есть популярные цвета (черный, белый, серый, серебристый, синий) и редкие. Посмотреть дополнительно и создать новый признак о популярности цвета\n",
    "    - [ ] fuelType - есть типы топлива, которые в явном меньшинстве. Поисследовть и подумать, стоит ли делать группировку непопулярных типов топлива\n",
    "    - [ ] tcp - признак нового авто, возможно, вынести в отдельный признак\n",
    "    - [ ] model - очень много уникальных категорий, подумать, можно ли как-то доработать признак. Подумать про объединение brand + model\n",
    "    - [ ] engineDisplacement - очень много уникальных категорий, подумать, можно ли как-то доработать признак\n",
    "    - [ ] numberOfDoors - малое количество машин в 0-3 - изучить детальнее\n",
    "    - [ ] ownersCount - привалирует 3 и более, но были пропуски, необходимо решить, как заполнять.\n",
    "\n",
    "3. Сбалансированные признаки с заметно превалирующим классом:\n",
    "    - ownershipTimeIsNull - большая часть записей без указания времени владения\n",
    "    - transmission - автомат превалирует\n",
    "    - drivertrain - передний привод встречается чаще всего\n",
    "    - vendor - большее количество автомобилей европейского региона\n",
    "4. Зависимость с целевой переменной:\n",
    "    - ownershipTimeIsNull: машины без указания времени владения в среднем дешевле, чем машины с указанием времени владения\n",
    "    - driveSide: авто с правосторонним рулем в среднем дешевле машин с левосторонним рулем\n",
    "    - transmission: авто с АТ коробкой намного дороже MT, как и сам диапазон цен\n",
    "    - [ ] bodyType: анализ затруднителен, нужно дополнительно обрабатывать\n",
    "    - brand: большая разбежка цен от бренда. Выделяются престижные авто (porche, Cadillac, bmw, and Rover, Lexus и др), а есть дешевый сегмент (азиатские авто - Cherry, Daewoo, Great wall и др.). Также видны бренды, которые выпускают дорогие авто, но и есть модели для более дешевого сегмента.\n",
    "    - color: цены зависят от цвета, но большие цены представлены у цветов, количество авто по которым больше. \n",
    "    - [ ] fuelType: очень дорогие машины электро и дизель, возможно выделить отдельный признак, что машина “электрокар”\n",
    "    - drivetrain: полноприводные машины дороже всех, заднеприводные машины в среднем дешевле переднеприводных\n",
    "    - [ ] tcp: признак “новый авто” заметно повышает среднюю цену, однозначно вынести в отдельный признак. Авто с дубликатом ПТС дешевле чем те, что с оригиналом\n",
    "    - [ ]  model и engineDisplacement - так много данных, что анализ затруднителен. Сделать повторный после обработки\n",
    "    - vendor: в среднем, европейские и японские машины дороже американских и азиатских\n",
    "    - [ ] vehicleTransmission: в среднем разновидности автоматов особо не влияют на цену, проверить значимость признака тестом Стьюдента. Потенциально на исключение.\n",
    "    - numberOfDoors: в среднем самые дорогие авто - 2-х дверные, затем 5-дверные.\n",
    "    - ownersCount: чем больше владельцев, тем ниже средняя цена авто."
   ]
  },
  {
   "cell_type": "markdown",
   "metadata": {},
   "source": [
    "##### Преобразование бинарных переменных в числа\n",
    "Чтобы алгоритмы машинного обучения могли работать с категориальными данными, их нужно преобразовать в числа. Применим LabelEncoder ко всему набору бинарных переменных."
   ]
  },
  {
   "cell_type": "code",
   "execution_count": 123,
   "metadata": {
    "scrolled": true
   },
   "outputs": [
    {
     "data": {
      "text/html": [
       "<div>\n",
       "<style scoped>\n",
       "    .dataframe tbody tr th:only-of-type {\n",
       "        vertical-align: middle;\n",
       "    }\n",
       "\n",
       "    .dataframe tbody tr th {\n",
       "        vertical-align: top;\n",
       "    }\n",
       "\n",
       "    .dataframe thead th {\n",
       "        text-align: right;\n",
       "    }\n",
       "</style>\n",
       "<table border=\"1\" class=\"dataframe\">\n",
       "  <thead>\n",
       "    <tr style=\"text-align: right;\">\n",
       "      <th></th>\n",
       "      <th>ownershipTimeIsNull</th>\n",
       "      <th>driveSide</th>\n",
       "      <th>transmission</th>\n",
       "    </tr>\n",
       "  </thead>\n",
       "  <tbody>\n",
       "    <tr>\n",
       "      <th>71086</th>\n",
       "      <td>0</td>\n",
       "      <td>0</td>\n",
       "      <td>0</td>\n",
       "    </tr>\n",
       "    <tr>\n",
       "      <th>28417</th>\n",
       "      <td>1</td>\n",
       "      <td>0</td>\n",
       "      <td>0</td>\n",
       "    </tr>\n",
       "    <tr>\n",
       "      <th>33042</th>\n",
       "      <td>1</td>\n",
       "      <td>0</td>\n",
       "      <td>0</td>\n",
       "    </tr>\n",
       "    <tr>\n",
       "      <th>112426</th>\n",
       "      <td>1</td>\n",
       "      <td>0</td>\n",
       "      <td>0</td>\n",
       "    </tr>\n",
       "    <tr>\n",
       "      <th>39835</th>\n",
       "      <td>1</td>\n",
       "      <td>0</td>\n",
       "      <td>0</td>\n",
       "    </tr>\n",
       "    <tr>\n",
       "      <th>104664</th>\n",
       "      <td>1</td>\n",
       "      <td>0</td>\n",
       "      <td>0</td>\n",
       "    </tr>\n",
       "  </tbody>\n",
       "</table>\n",
       "</div>"
      ],
      "text/plain": [
       "        ownershipTimeIsNull  driveSide  transmission\n",
       "71086                     0          0             0\n",
       "28417                     1          0             0\n",
       "33042                     1          0             0\n",
       "112426                    1          0             0\n",
       "39835                     1          0             0\n",
       "104664                    1          0             0"
      ]
     },
     "execution_count": 123,
     "metadata": {},
     "output_type": "execute_result"
    }
   ],
   "source": [
    "# Для бинарных признаков мы будем использовать LabelEncoder\n",
    "label_encoder = LabelEncoder()\n",
    "\n",
    "for column in bin_cols:\n",
    "    data[column] = label_encoder.fit_transform(data[column])\n",
    "\n",
    "# Убедимся в преобразовании\n",
    "data[bin_cols].sample(6)"
   ]
  },
  {
   "cell_type": "markdown",
   "metadata": {},
   "source": [
    "##### Корреляционный анализ\n",
    "Оценим корреляцию Пирсона для категориальных и бинарных переменных. Cильная корреляция между переменными вредна для линейных моделей из-за неустойчивости полученных оценок."
   ]
  },
  {
   "cell_type": "code",
   "execution_count": 124,
   "metadata": {
    "scrolled": true
   },
   "outputs": [
    {
     "data": {
      "text/plain": [
       "Text(0.5, 1.0, 'Матрица корреляций для категориальных и бинарных признаков.')"
      ]
     },
     "execution_count": 124,
     "metadata": {},
     "output_type": "execute_result"
    },
    {
     "data": {
      "image/png": "[encoded data removed]",
      "text/plain": [
       "<Figure size 432x288 with 2 Axes>"
      ]
     },
     "metadata": {},
     "output_type": "display_data"
    }
   ],
   "source": [
    "# Построим матрицу корреляций\n",
    "#plt.figure(figsize=(10, 8))\n",
    "heatmap = sns.heatmap(data[bin_cols + cat_cols].corr(),\n",
    "                      vmin=-1, vmax=1, annot=True, cmap='BrBG')\n",
    "plt.xticks(rotation=45)\n",
    "heatmap.set_title('Матрица корреляций для категориальных и бинарных признаков.')"
   ]
  },
  {
   "cell_type": "markdown",
   "metadata": {},
   "source": [
    "Выводы:"
   ]
  },
  {
   "cell_type": "markdown",
   "metadata": {},
   "source": [
    "#### Анализ целевой переменной: price\n",
    "\n",
    "Проанализируем целевую переменную 'price'."
   ]
  },
  {
   "cell_type": "code",
   "execution_count": 125,
   "metadata": {},
   "outputs": [
    {
     "name": "stdout",
     "output_type": "stream",
     "text": [
      "count    8.537600e+04\n",
      "mean     1.236486e+06\n",
      "std      1.914012e+06\n",
      "min      1.600000e+04\n",
      "25%      3.500000e+05\n",
      "50%      6.300000e+05\n",
      "75%      1.350000e+06\n",
      "max      9.900000e+07\n",
      "Name: price, dtype: float64\n"
     ]
    }
   ],
   "source": [
    "# Посмотрим на основные статистики\n",
    "print(data[data.train == 1]['price'].describe())"
   ]
  },
  {
   "cell_type": "code",
   "execution_count": 126,
   "metadata": {
    "scrolled": true
   },
   "outputs": [
    {
     "data": {
      "image/png": "[encoded data removed]",
      "text/plain": [
       "<Figure size 720x360 with 1 Axes>"
      ]
     },
     "metadata": {},
     "output_type": "display_data"
    }
   ],
   "source": [
    "# Посмотрим на распределение целевой переменной\n",
    "fig, ax = plt.subplots(figsize=(10, 5))\n",
    "sns.histplot(data=data[data.train == 1], x='price')\n",
    "plt.title(\"Распределение целевой переменной \\n\")\n",
    "plt.show()"
   ]
  },
  {
   "cell_type": "markdown",
   "metadata": {},
   "source": [
    "Распределение цены с очень сильным правым хвостом, попробуем добавить доп. целевой признак, взяв логорифм от цены."
   ]
  },
  {
   "cell_type": "code",
   "execution_count": 127,
   "metadata": {
    "scrolled": true
   },
   "outputs": [],
   "source": [
    "# Добавляем новый признка\n",
    "data['price_log']=data['price'].apply(lambda x: np.log(x))\n",
    "\n",
    "# Добавим новый признак в список целевых\n",
    "target_col.append('price_log')"
   ]
  },
  {
   "cell_type": "code",
   "execution_count": 128,
   "metadata": {
    "scrolled": true
   },
   "outputs": [
    {
     "data": {
      "image/png": "[encoded data removed]",
      "text/plain": [
       "<Figure size 720x360 with 1 Axes>"
      ]
     },
     "metadata": {},
     "output_type": "display_data"
    }
   ],
   "source": [
    "# Посмотрим, как изменилось распределение целевой переменной\n",
    "fig, ax = plt.subplots(figsize=(10, 5))\n",
    "sns.histplot(data=data[data.train == 1], x='price_log')\n",
    "plt.title(\"Распределение целевой переменной \\n\")\n",
    "plt.show()"
   ]
  },
  {
   "cell_type": "markdown",
   "metadata": {},
   "source": [
    "Вывод: распределение выглядит, как нормальное. Можно будет попробовать использовать для моделирования."
   ]
  },
  {
   "cell_type": "markdown",
   "metadata": {},
   "source": [
    "**TO DO** \n",
    "\n",
    "Цена с учетом курса доллара"
   ]
  },
  {
   "cell_type": "markdown",
   "metadata": {},
   "source": [
    "### Анализ выбросов\n",
    "\n",
    "Проведем поиск, анализ и обработку выбросов."
   ]
  },
  {
   "cell_type": "code",
   "execution_count": 129,
   "metadata": {
    "scrolled": true
   },
   "outputs": [],
   "source": [
    "def iqr_analysis(series, mode=False):\n",
    "    \"\"\"\n",
    "    Функция выводит инфорамцию о границах выборосов для признака.\n",
    "    Если mode = True, возвращается верхняя и нижняя границы выбросов. Иначе, просто выводится информация на экран.\n",
    "    \"\"\"\n",
    "    IQR = series.quantile(0.75) - series.quantile(0.25)\n",
    "    perc25 = series.quantile(0.25)\n",
    "    perc75 = series.quantile(0.75)\n",
    "\n",
    "    f = perc25 - 1.5*IQR\n",
    "    l = perc75 + 1.5*IQR\n",
    "\n",
    "    if mode:\n",
    "        return f, l\n",
    "\n",
    "    print(\n",
    "        \"\\n25-й перцентиль: {},\".format(perc25),\n",
    "        \"\\n75-й перцентиль: {},\".format(perc75),\n",
    "        \"\\nIQR: {}, \".format(IQR),\n",
    "        \"\\nГраницы выбросов: [{f}, {l}].\".format(\n",
    "            f=perc25 - 1.5*IQR, l=perc75 + 1.5*IQR),\n",
    "        \"\\n\\nМинимальное значение признака: {}.\".format(series.min()),\n",
    "        \"\\nМаксимальное значение признака: {} .\\n\".format(series.max()))\n",
    "\n",
    "    if series.min() < f:\n",
    "        print(\"Найдены выбросы по нижней границе признака! Количество: {}, {}%\".format(series.where(\n",
    "            series < f).count(), round(series.where(series < f).count()/series.count()*100, 2)))\n",
    "    if series.max() > l:\n",
    "        print(\"Найдены выбросы по верхней границе признака! Количество: {}, {}%\".format(series.where(\n",
    "            series > l).count(), round(series.where(series > l).count()/series.count()*100, 2)))"
   ]
  },
  {
   "cell_type": "code",
   "execution_count": 130,
   "metadata": {},
   "outputs": [
    {
     "name": "stdout",
     "output_type": "stream",
     "text": [
      "Отчет о наличии выбросов в датасете.\n",
      "\n",
      "\n",
      "Признак:  ownershipTimeIsNull\n",
      "\n",
      "25-й перцентиль: 0.0, \n",
      "75-й перцентиль: 1.0, \n",
      "IQR: 1.0,  \n",
      "Границы выбросов: [-1.5, 2.5]. \n",
      "\n",
      "Минимальное значение признака: 0. \n",
      "Максимальное значение признака: 1 .\n",
      "\n",
      "----------------------------------------------------------------------------------------------------\n",
      "\n",
      "Признак:  driveSide\n",
      "\n",
      "25-й перцентиль: 0.0, \n",
      "75-й перцентиль: 0.0, \n",
      "IQR: 0.0,  \n",
      "Границы выбросов: [0.0, 0.0]. \n",
      "\n",
      "Минимальное значение признака: 0. \n",
      "Максимальное значение признака: 1 .\n",
      "\n",
      "Найдены выбросы по верхней границе признака! Количество: 3175, 2.64%\n",
      "----------------------------------------------------------------------------------------------------\n",
      "\n",
      "Признак:  transmission\n",
      "\n",
      "25-й перцентиль: 0.0, \n",
      "75-й перцентиль: 1.0, \n",
      "IQR: 1.0,  \n",
      "Границы выбросов: [-1.5, 2.5]. \n",
      "\n",
      "Минимальное значение признака: 0. \n",
      "Максимальное значение признака: 1 .\n",
      "\n",
      "----------------------------------------------------------------------------------------------------\n",
      "\n",
      "Признак:  modelDate\n",
      "\n",
      "25-й перцентиль: 2004.0, \n",
      "75-й перцентиль: 2013.0, \n",
      "IQR: 9.0,  \n",
      "Границы выбросов: [1990.5, 2026.5]. \n",
      "\n",
      "Минимальное значение признака: 1904. \n",
      "Максимальное значение признака: 2020 .\n",
      "\n",
      "Найдены выбросы по нижней границе признака! Количество: 3059, 2.55%\n",
      "----------------------------------------------------------------------------------------------------\n",
      "\n",
      "Признак:  productionDate\n",
      "\n",
      "25-й перцентиль: 2007.0, \n",
      "75-й перцентиль: 2015.0, \n",
      "IQR: 8.0,  \n",
      "Границы выбросов: [1995.0, 2027.0]. \n",
      "\n",
      "Минимальное значение признака: 1904. \n",
      "Максимальное значение признака: 2020 .\n",
      "\n",
      "Найдены выбросы по нижней границе признака! Количество: 3612, 3.01%\n",
      "----------------------------------------------------------------------------------------------------\n",
      "\n",
      "Признак:  enginePower\n",
      "\n",
      "25-й перцентиль: 116.0, \n",
      "75-й перцентиль: 210.0, \n",
      "IQR: 94.0,  \n",
      "Границы выбросов: [-25.0, 351.0]. \n",
      "\n",
      "Минимальное значение признака: 30.0. \n",
      "Максимальное значение признака: 639.0 .\n",
      "\n",
      "Найдены выбросы по верхней границе признака! Количество: 5539, 4.61%\n",
      "----------------------------------------------------------------------------------------------------\n",
      "\n",
      "Признак:  mileage\n",
      "\n",
      "25-й перцентиль: 75704.75, \n",
      "75-й перцентиль: 200000.0, \n",
      "IQR: 124295.25,  \n",
      "Границы выбросов: [-110738.125, 386442.875]. \n",
      "\n",
      "Минимальное значение признака: 0. \n",
      "Максимальное значение признака: 1000000 .\n",
      "\n",
      "Найдены выбросы по верхней границе признака! Количество: 2590, 2.16%\n",
      "----------------------------------------------------------------------------------------------------\n",
      "\n",
      "Признак:  price\n",
      "\n",
      "25-й перцентиль: 0.0, \n",
      "75-й перцентиль: 912095.0, \n",
      "IQR: 912095.0,  \n",
      "Границы выбросов: [-1368142.5, 2280237.5]. \n",
      "\n",
      "Минимальное значение признака: 0.0. \n",
      "Максимальное значение признака: 99000000.0 .\n",
      "\n",
      "Найдены выбросы по верхней границе признака! Количество: 11633, 9.69%\n",
      "----------------------------------------------------------------------------------------------------\n",
      "\n",
      "Признак:  price_log\n",
      "\n",
      "25-й перцентиль: -inf, \n",
      "75-й перцентиль: 13.723499189956677, \n",
      "IQR: inf,  \n",
      "Границы выбросов: [-inf, inf]. \n",
      "\n",
      "Минимальное значение признака: -inf. \n",
      "Максимальное значение признака: 18.410630408098864 .\n",
      "\n",
      "----------------------------------------------------------------------------------------------------\n"
     ]
    }
   ],
   "source": [
    "# Проанализируем выбросы для бинарных и номинативных признаков\n",
    "print(\"Отчет о наличии выбросов в датасете.\\n\")\n",
    "for col in (bin_cols + num_cols + target_col):\n",
    "    print(\"\\nПризнак: \", col)\n",
    "    iqr_analysis(data[col])\n",
    "    print(\"-\" * 100)"
   ]
  },
  {
   "cell_type": "markdown",
   "metadata": {},
   "source": [
    "Посмотрим детальнее на признаки, где были найдены выбросы. Основная идея: сравнить мин/макс границы по test датасету и удалить лишние данные, если их объем не очень большой."
   ]
  },
  {
   "cell_type": "markdown",
   "metadata": {},
   "source": [
    "### Генерация новых признаков"
   ]
  },
  {
   "cell_type": "markdown",
   "metadata": {},
   "source": [
    "Идеи по генерации новых признаков по результатам EDA:\n",
    "- [x] km_per_year - показывает, сколько км в год проезжал автомобиль. Вычисляется, как mileage/productionDate(years) или mileage/ownershipTime. Решить, какой метод использовать\n",
    "- [x] carNovelty - показывает, через сколько лет после выхода модели был выпущен автомобиль, т.е. modelDate - productionDate. Гипотеза, что чем меньше это число, тем выше будет цена\n",
    "- [x] rarity - признак, показывающий, что автомобиль раритетный (ему более 30 лет)\n",
    "- [x] prodDate_3Y - признак, что автомобилю уже 3 года\n",
    "- [x] prodDate_5Y - признак, что автомобилю уже 5 лет."
   ]
  },
  {
   "cell_type": "markdown",
   "metadata": {},
   "source": [
    "**km_per_year**\n",
    "\n",
    "Пробег авто км/год."
   ]
  },
  {
   "cell_type": "code",
   "execution_count": 131,
   "metadata": {
    "scrolled": true
   },
   "outputs": [],
   "source": [
    "def km_per_year(row):\n",
    "    \"\"\"\n",
    "    Функция делает пересчет км пробега автомобиля в года после года производства автомобиля.\n",
    "    Вход: строка датафрейма.\n",
    "    Выход: информация о км/год.\n",
    "    \"\"\"\n",
    "    if row['mileage'] != 0:\n",
    "        # обрабатываем случаи, когда мошина произведена в год сбора данных, чтоб не делить на 0\n",
    "        if current_year - row['productionDate'] == 0:\n",
    "            return row['mileage']\n",
    "        else:\n",
    "            return row['mileage']/(current_year - row['productionDate'])\n",
    "    return 0  # возвращаем 0, если машина без пробега (новая"
   ]
  },
  {
   "cell_type": "code",
   "execution_count": 132,
   "metadata": {
    "scrolled": true
   },
   "outputs": [],
   "source": [
    "# Добавим дополнительный признак 'km_per_year', который равен пробегу, поделенному на возраст авто,\n",
    "data['km_per_year'] = data.apply(km_per_year, axis =1)"
   ]
  },
  {
   "cell_type": "code",
   "execution_count": 133,
   "metadata": {
    "scrolled": true
   },
   "outputs": [],
   "source": [
    "# добавляем новые признак\n",
    "num_cols.append('km_per_year')"
   ]
  },
  {
   "cell_type": "markdown",
   "metadata": {},
   "source": [
    "**carNovelty**\n",
    "\n",
    "Новизна машины: через сколько лет после появления модели авто была произведена машина. "
   ]
  },
  {
   "cell_type": "code",
   "execution_count": 134,
   "metadata": {
    "scrolled": true
   },
   "outputs": [],
   "source": [
    "# Добавим'dateModelProdDiff', равный разнице между годом выпуска авто и годом начала производства модели\n",
    "data['carNovelty'] = data['productionDate'] - data['modelDate']"
   ]
  },
  {
   "cell_type": "code",
   "execution_count": 135,
   "metadata": {
    "scrolled": true
   },
   "outputs": [
    {
     "data": {
      "text/html": [
       "<div>\n",
       "<style scoped>\n",
       "    .dataframe tbody tr th:only-of-type {\n",
       "        vertical-align: middle;\n",
       "    }\n",
       "\n",
       "    .dataframe tbody tr th {\n",
       "        vertical-align: top;\n",
       "    }\n",
       "\n",
       "    .dataframe thead th {\n",
       "        text-align: right;\n",
       "    }\n",
       "</style>\n",
       "<table border=\"1\" class=\"dataframe\">\n",
       "  <thead>\n",
       "    <tr style=\"text-align: right;\">\n",
       "      <th></th>\n",
       "      <th>productionDate</th>\n",
       "      <th>modelDate</th>\n",
       "      <th>mileage</th>\n",
       "      <th>km_per_year</th>\n",
       "      <th>carNovelty</th>\n",
       "    </tr>\n",
       "  </thead>\n",
       "  <tbody>\n",
       "    <tr>\n",
       "      <th>120717</th>\n",
       "      <td>2014</td>\n",
       "      <td>2013</td>\n",
       "      <td>103000</td>\n",
       "      <td>17166.666667</td>\n",
       "      <td>1</td>\n",
       "    </tr>\n",
       "    <tr>\n",
       "      <th>37660</th>\n",
       "      <td>2016</td>\n",
       "      <td>2016</td>\n",
       "      <td>118000</td>\n",
       "      <td>29500.000000</td>\n",
       "      <td>0</td>\n",
       "    </tr>\n",
       "    <tr>\n",
       "      <th>41060</th>\n",
       "      <td>2013</td>\n",
       "      <td>2011</td>\n",
       "      <td>111000</td>\n",
       "      <td>15857.142857</td>\n",
       "      <td>2</td>\n",
       "    </tr>\n",
       "    <tr>\n",
       "      <th>23794</th>\n",
       "      <td>2020</td>\n",
       "      <td>2016</td>\n",
       "      <td>0</td>\n",
       "      <td>0.000000</td>\n",
       "      <td>4</td>\n",
       "    </tr>\n",
       "    <tr>\n",
       "      <th>95924</th>\n",
       "      <td>2007</td>\n",
       "      <td>2006</td>\n",
       "      <td>188000</td>\n",
       "      <td>14461.538462</td>\n",
       "      <td>1</td>\n",
       "    </tr>\n",
       "  </tbody>\n",
       "</table>\n",
       "</div>"
      ],
      "text/plain": [
       "        productionDate  modelDate  mileage   km_per_year  carNovelty\n",
       "120717            2014       2013   103000  17166.666667           1\n",
       "37660             2016       2016   118000  29500.000000           0\n",
       "41060             2013       2011   111000  15857.142857           2\n",
       "23794             2020       2016        0      0.000000           4\n",
       "95924             2007       2006   188000  14461.538462           1"
      ]
     },
     "execution_count": 135,
     "metadata": {},
     "output_type": "execute_result"
    }
   ],
   "source": [
    "# Посмотрим, что получилось\n",
    "data[['productionDate', 'modelDate', 'mileage', 'km_per_year', 'carNovelty']].sample(5)"
   ]
  },
  {
   "cell_type": "code",
   "execution_count": 136,
   "metadata": {
    "scrolled": true
   },
   "outputs": [],
   "source": [
    "# добавляем новые признак\n",
    "num_cols.append('carNovelty')"
   ]
  },
  {
   "cell_type": "markdown",
   "metadata": {},
   "source": [
    "**rarity** \n",
    "\n",
    "Раритетные авто (более 30 лет). Строим на базе modelDate.\n",
    "\n",
    "Значения:\n",
    "* 5 - авто нераритетный\n",
    "* 4 - Class F — с 1 января 1961 по 31 декабря 1970\n",
    "* 3 - Class E (Post War) — с 1 января 1946 по 31 декабря 1960\n",
    "* 2 - Class D (Post Vintage) — с 1 января 1931 по 31 декабря 1945\n",
    "* 1 - Class C (Vintage) — с 1 января 1919 по 31 декабря 1930\n",
    "* Class B (Veteran) — с 1 января 1905 по 31 декабря 1918 (таких авто в выборке нет)\n",
    "* 0 - Class A (Ancestor) — выпуска до 31 декабря 1904 года."
   ]
  },
  {
   "cell_type": "code",
   "execution_count": 137,
   "metadata": {
    "scrolled": true
   },
   "outputs": [],
   "source": [
    "# Зададим основные раритетные категории\n",
    "rar_cat = pd.cut(data.modelDate, bins=[0, 1905, 1919, 1931, 1946, 1961, 1971, current_year+1],\n",
    "                 labels=['Class A (Ancestor)', 'Class B (Veteran)', 'Class C (Vintage)', 'Class D (Post Vintage)', \n",
    "                         'Class E (Post War)', 'class F', 'нераритетный'])\n",
    "data.insert(20, 'rarity', rar_cat)"
   ]
  },
  {
   "cell_type": "code",
   "execution_count": 138,
   "metadata": {
    "scrolled": true
   },
   "outputs": [],
   "source": [
    "# Преобразуем признак age_group в числовой\n",
    "# label_encoder = LabelEncoder()\n",
    "# data['rarity'] = label_encoder.fit_transform(data['rarity'])"
   ]
  },
  {
   "cell_type": "code",
   "execution_count": 139,
   "metadata": {
    "scrolled": true
   },
   "outputs": [
    {
     "name": "stdout",
     "output_type": "stream",
     "text": [
      "Количество автомобилей по раритетности с указанием диапазонов годов моделей\n"
     ]
    },
    {
     "data": {
      "text/html": [
       "<div>\n",
       "<style scoped>\n",
       "    .dataframe tbody tr th:only-of-type {\n",
       "        vertical-align: middle;\n",
       "    }\n",
       "\n",
       "    .dataframe tbody tr th {\n",
       "        vertical-align: top;\n",
       "    }\n",
       "\n",
       "    .dataframe thead th {\n",
       "        text-align: right;\n",
       "    }\n",
       "</style>\n",
       "<table border=\"1\" class=\"dataframe\">\n",
       "  <thead>\n",
       "    <tr style=\"text-align: right;\">\n",
       "      <th></th>\n",
       "      <th>min</th>\n",
       "      <th>max</th>\n",
       "      <th>count</th>\n",
       "    </tr>\n",
       "    <tr>\n",
       "      <th>rarity</th>\n",
       "      <th></th>\n",
       "      <th></th>\n",
       "      <th></th>\n",
       "    </tr>\n",
       "  </thead>\n",
       "  <tbody>\n",
       "    <tr>\n",
       "      <th>Class A (Ancestor)</th>\n",
       "      <td>1904</td>\n",
       "      <td>1904</td>\n",
       "      <td>2</td>\n",
       "    </tr>\n",
       "    <tr>\n",
       "      <th>Class B (Veteran)</th>\n",
       "      <td>&lt;NA&gt;</td>\n",
       "      <td>&lt;NA&gt;</td>\n",
       "      <td>0</td>\n",
       "    </tr>\n",
       "    <tr>\n",
       "      <th>Class C (Vintage)</th>\n",
       "      <td>1927</td>\n",
       "      <td>1927</td>\n",
       "      <td>3</td>\n",
       "    </tr>\n",
       "    <tr>\n",
       "      <th>Class D (Post Vintage)</th>\n",
       "      <td>1932</td>\n",
       "      <td>1938</td>\n",
       "      <td>37</td>\n",
       "    </tr>\n",
       "    <tr>\n",
       "      <th>Class E (Post War)</th>\n",
       "      <td>1948</td>\n",
       "      <td>1961</td>\n",
       "      <td>46</td>\n",
       "    </tr>\n",
       "    <tr>\n",
       "      <th>class F</th>\n",
       "      <td>1963</td>\n",
       "      <td>1971</td>\n",
       "      <td>40</td>\n",
       "    </tr>\n",
       "    <tr>\n",
       "      <th>нераритетный</th>\n",
       "      <td>1972</td>\n",
       "      <td>2020</td>\n",
       "      <td>119934</td>\n",
       "    </tr>\n",
       "  </tbody>\n",
       "</table>\n",
       "</div>"
      ],
      "text/plain": [
       "                         min   max   count\n",
       "rarity                                    \n",
       "Class A (Ancestor)      1904  1904       2\n",
       "Class B (Veteran)       <NA>  <NA>       0\n",
       "Class C (Vintage)       1927  1927       3\n",
       "Class D (Post Vintage)  1932  1938      37\n",
       "Class E (Post War)      1948  1961      46\n",
       "class F                 1963  1971      40\n",
       "нераритетный            1972  2020  119934"
      ]
     },
     "execution_count": 139,
     "metadata": {},
     "output_type": "execute_result"
    }
   ],
   "source": [
    "# Посмотрим на результат\n",
    "print(\"Количество автомобилей по раритетности с указанием диапазонов годов моделей\")\n",
    "data.groupby('rarity')['modelDate'].agg(['min', 'max', 'count'])"
   ]
  },
  {
   "cell_type": "code",
   "execution_count": 140,
   "metadata": {
    "scrolled": true
   },
   "outputs": [
    {
     "name": "stdout",
     "output_type": "stream",
     "text": [
      "Медианная цена по групам раритетности\n"
     ]
    },
    {
     "data": {
      "text/html": [
       "<div>\n",
       "<style scoped>\n",
       "    .dataframe tbody tr th:only-of-type {\n",
       "        vertical-align: middle;\n",
       "    }\n",
       "\n",
       "    .dataframe tbody tr th {\n",
       "        vertical-align: top;\n",
       "    }\n",
       "\n",
       "    .dataframe thead th {\n",
       "        text-align: right;\n",
       "    }\n",
       "</style>\n",
       "<table border=\"1\" class=\"dataframe\">\n",
       "  <thead>\n",
       "    <tr style=\"text-align: right;\">\n",
       "      <th></th>\n",
       "      <th>median</th>\n",
       "    </tr>\n",
       "    <tr>\n",
       "      <th>rarity</th>\n",
       "      <th></th>\n",
       "    </tr>\n",
       "  </thead>\n",
       "  <tbody>\n",
       "    <tr>\n",
       "      <th>Class A (Ancestor)</th>\n",
       "      <td>6000000.0</td>\n",
       "    </tr>\n",
       "    <tr>\n",
       "      <th>Class B (Veteran)</th>\n",
       "      <td>NaN</td>\n",
       "    </tr>\n",
       "    <tr>\n",
       "      <th>Class C (Vintage)</th>\n",
       "      <td>4500000.0</td>\n",
       "    </tr>\n",
       "    <tr>\n",
       "      <th>Class D (Post Vintage)</th>\n",
       "      <td>550000.0</td>\n",
       "    </tr>\n",
       "    <tr>\n",
       "      <th>Class E (Post War)</th>\n",
       "      <td>2000000.0</td>\n",
       "    </tr>\n",
       "    <tr>\n",
       "      <th>class F</th>\n",
       "      <td>1000000.0</td>\n",
       "    </tr>\n",
       "    <tr>\n",
       "      <th>нераритетный</th>\n",
       "      <td>392000.0</td>\n",
       "    </tr>\n",
       "  </tbody>\n",
       "</table>\n",
       "</div>"
      ],
      "text/plain": [
       "                           median\n",
       "rarity                           \n",
       "Class A (Ancestor)      6000000.0\n",
       "Class B (Veteran)             NaN\n",
       "Class C (Vintage)       4500000.0\n",
       "Class D (Post Vintage)   550000.0\n",
       "Class E (Post War)      2000000.0\n",
       "class F                 1000000.0\n",
       "нераритетный             392000.0"
      ]
     },
     "execution_count": 140,
     "metadata": {},
     "output_type": "execute_result"
    }
   ],
   "source": [
    "# Посмотрим на медианную цену по группам\n",
    "print(\"Медианная цена по групам раритетности\")\n",
    "data.groupby('rarity')['price'].agg(['median'])"
   ]
  },
  {
   "cell_type": "code",
   "execution_count": 141,
   "metadata": {
    "scrolled": true
   },
   "outputs": [],
   "source": [
    "# Добавим новый признак к категориальным\n",
    "cat_cols.append('rarity')"
   ]
  },
  {
   "cell_type": "markdown",
   "metadata": {},
   "source": [
    "**prodDate_3Y, prodDate_5Y**\n",
    "\n",
    "- prodDate_3Y - признак, что автомобилю уже 3 года\n",
    "- prodDate_5Y - признак, что автомобилю уже 5 лет."
   ]
  },
  {
   "cell_type": "code",
   "execution_count": 142,
   "metadata": {
    "scrolled": true
   },
   "outputs": [],
   "source": [
    "# Добавляем новые признаки\n",
    "data['prodDate_3Y'] = data['productionDate']>=(current_year-3)\n",
    "data['prodDate_5Y'] = (data['productionDate']>=current_year-5)&(data['productionDate']<current_year-3)"
   ]
  },
  {
   "cell_type": "code",
   "execution_count": 143,
   "metadata": {
    "scrolled": true
   },
   "outputs": [
    {
     "data": {
      "text/html": [
       "<div>\n",
       "<style scoped>\n",
       "    .dataframe tbody tr th:only-of-type {\n",
       "        vertical-align: middle;\n",
       "    }\n",
       "\n",
       "    .dataframe tbody tr th {\n",
       "        vertical-align: top;\n",
       "    }\n",
       "\n",
       "    .dataframe thead th {\n",
       "        text-align: right;\n",
       "    }\n",
       "</style>\n",
       "<table border=\"1\" class=\"dataframe\">\n",
       "  <thead>\n",
       "    <tr style=\"text-align: right;\">\n",
       "      <th></th>\n",
       "      <th>prodDate_3Y</th>\n",
       "      <th>prodDate_5Y</th>\n",
       "      <th>productionDate</th>\n",
       "    </tr>\n",
       "  </thead>\n",
       "  <tbody>\n",
       "    <tr>\n",
       "      <th>31496</th>\n",
       "      <td>False</td>\n",
       "      <td>False</td>\n",
       "      <td>2008</td>\n",
       "    </tr>\n",
       "    <tr>\n",
       "      <th>66937</th>\n",
       "      <td>False</td>\n",
       "      <td>False</td>\n",
       "      <td>1982</td>\n",
       "    </tr>\n",
       "    <tr>\n",
       "      <th>70607</th>\n",
       "      <td>False</td>\n",
       "      <td>False</td>\n",
       "      <td>2008</td>\n",
       "    </tr>\n",
       "  </tbody>\n",
       "</table>\n",
       "</div>"
      ],
      "text/plain": [
       "       prodDate_3Y  prodDate_5Y  productionDate\n",
       "31496        False        False            2008\n",
       "66937        False        False            1982\n",
       "70607        False        False            2008"
      ]
     },
     "execution_count": 143,
     "metadata": {},
     "output_type": "execute_result"
    }
   ],
   "source": [
    "# Проверяем результат\n",
    "data[['prodDate_3Y', 'prodDate_5Y', 'productionDate']].sample(3)"
   ]
  },
  {
   "cell_type": "code",
   "execution_count": 160,
   "metadata": {},
   "outputs": [],
   "source": [
    "data['prodDate_3Y'] = label_encoder.fit_transform(data['prodDate_3Y'])"
   ]
  },
  {
   "cell_type": "code",
   "execution_count": 161,
   "metadata": {},
   "outputs": [],
   "source": [
    "data['prodDate_5Y'] = label_encoder.fit_transform(data['prodDate_5Y'])"
   ]
  },
  {
   "cell_type": "code",
   "execution_count": 144,
   "metadata": {
    "scrolled": true
   },
   "outputs": [],
   "source": [
    "# Добавляем новые признаки\n",
    "bin_cols.append('prodDate_3Y')\n",
    "bin_cols.append('prodDate_5Y')"
   ]
  },
  {
   "cell_type": "markdown",
   "metadata": {},
   "source": [
    "### Анализ взаимосвязи признаков между собой\n"
   ]
  },
  {
   "cell_type": "code",
   "execution_count": 145,
   "metadata": {
    "scrolled": true
   },
   "outputs": [
    {
     "data": {
      "image/png": "[encoded data removed]",
      "text/plain": [
       "<Figure size 2160x1080 with 2 Axes>"
      ]
     },
     "metadata": {},
     "output_type": "display_data"
    }
   ],
   "source": [
    "# Построим матрицу корреляций\n",
    "plt.figure(figsize=(30, 15))\n",
    "heatmap = sns.heatmap(data.corr(), vmin=-1, vmax=1, annot=True, cmap='BrBG')\n",
    "heatmap.set_title('Матрица корреляций')\n",
    "plt.show()"
   ]
  },
  {
   "cell_type": "markdown",
   "metadata": {},
   "source": [
    "### Анализ взаимосвязи признаков с таргетом"
   ]
  },
  {
   "cell_type": "code",
   "execution_count": null,
   "metadata": {
    "scrolled": true
   },
   "outputs": [],
   "source": []
  },
  {
   "cell_type": "markdown",
   "metadata": {},
   "source": [
    "### Препроцессинг перед моделированием"
   ]
  },
  {
   "cell_type": "markdown",
   "metadata": {},
   "source": [
    "#### Удаление признаков перед моделированием"
   ]
  },
  {
   "cell_type": "code",
   "execution_count": 146,
   "metadata": {},
   "outputs": [],
   "source": [
    "# удаляем признаки, которые решили удалить по ходу анализа\n",
    "data.drop(cols_removal, axis=1, inplace=True)"
   ]
  },
  {
   "cell_type": "markdown",
   "metadata": {
    "papermill": {
     "duration": 0.033657,
     "end_time": "2020-10-26T12:47:03.29162",
     "exception": false,
     "start_time": "2020-10-26T12:47:03.257963",
     "status": "completed"
    },
    "tags": []
   },
   "source": [
    "#### Label Encoding"
   ]
  },
  {
   "cell_type": "code",
   "execution_count": 147,
   "metadata": {},
   "outputs": [],
   "source": [
    "data['ownersCount'].fillna(data['ownersCount'].median(), inplace = True)"
   ]
  },
  {
   "cell_type": "code",
   "execution_count": 148,
   "metadata": {
    "papermill": {
     "duration": 0.10809,
     "end_time": "2020-10-26T12:47:03.549533",
     "exception": false,
     "start_time": "2020-10-26T12:47:03.441443",
     "status": "completed"
    },
    "scrolled": true,
    "tags": []
   },
   "outputs": [],
   "source": [
    "# Labels encoding\n",
    "cols_to_encode = list(set(data.columns) & set(cat_cols))\n",
    "for colum in cols_to_encode:\n",
    "    data[colum] = data[colum].astype('category').cat.codes"
   ]
  },
  {
   "cell_type": "code",
   "execution_count": 150,
   "metadata": {},
   "outputs": [
    {
     "name": "stdout",
     "output_type": "stream",
     "text": [
      "<class 'pandas.core.frame.DataFrame'>\n",
      "Int64Index: 120062 entries, 0 to 124063\n",
      "Data columns (total 27 columns):\n",
      " #   Column               Non-Null Count   Dtype  \n",
      "---  ------               --------------   -----  \n",
      " 0   bodyType             120062 non-null  int16  \n",
      " 1   brand                120062 non-null  int8   \n",
      " 2   color                120062 non-null  int8   \n",
      " 3   fuelType             120062 non-null  int8   \n",
      " 4   numberOfDoors        120062 non-null  int8   \n",
      " 5   productionDate       120062 non-null  int64  \n",
      " 6   vehicleTransmission  120062 non-null  int8   \n",
      " 7   engineDisplacement   120062 non-null  int16  \n",
      " 8   enginePower          120062 non-null  float64\n",
      " 9   mileage              120062 non-null  int64  \n",
      " 10  drivetrain           120062 non-null  int8   \n",
      " 11  driveSide            120062 non-null  int64  \n",
      " 12  ownersCount          120062 non-null  int8   \n",
      " 13  tcp                  120062 non-null  int8   \n",
      " 14  rarity               120062 non-null  int8   \n",
      " 15  price                120062 non-null  float64\n",
      " 16  model                120062 non-null  int16  \n",
      " 17  vendor               120062 non-null  int8   \n",
      " 18  train                120062 non-null  int64  \n",
      " 19  sell_id              120062 non-null  int64  \n",
      " 20  transmission         120062 non-null  int64  \n",
      " 21  ownershipTimeIsNull  120062 non-null  int64  \n",
      " 22  price_log            120062 non-null  float64\n",
      " 23  km_per_year          120062 non-null  float64\n",
      " 24  carNovelty           120062 non-null  Int64  \n",
      " 25  prodDate_3Y          120062 non-null  bool   \n",
      " 26  prodDate_5Y          120062 non-null  bool   \n",
      "dtypes: Int64(1), bool(2), float64(4), int16(3), int64(7), int8(10)\n",
      "memory usage: 19.1 MB\n"
     ]
    }
   ],
   "source": [
    "data.info()"
   ]
  },
  {
   "cell_type": "code",
   "execution_count": 149,
   "metadata": {},
   "outputs": [
    {
     "data": {
      "text/html": [
       "<div>\n",
       "<style scoped>\n",
       "    .dataframe tbody tr th:only-of-type {\n",
       "        vertical-align: middle;\n",
       "    }\n",
       "\n",
       "    .dataframe tbody tr th {\n",
       "        vertical-align: top;\n",
       "    }\n",
       "\n",
       "    .dataframe thead th {\n",
       "        text-align: right;\n",
       "    }\n",
       "</style>\n",
       "<table border=\"1\" class=\"dataframe\">\n",
       "  <thead>\n",
       "    <tr style=\"text-align: right;\">\n",
       "      <th></th>\n",
       "      <th>bodyType</th>\n",
       "      <th>brand</th>\n",
       "      <th>color</th>\n",
       "      <th>fuelType</th>\n",
       "      <th>numberOfDoors</th>\n",
       "      <th>productionDate</th>\n",
       "      <th>vehicleTransmission</th>\n",
       "      <th>engineDisplacement</th>\n",
       "      <th>enginePower</th>\n",
       "      <th>mileage</th>\n",
       "      <th>...</th>\n",
       "      <th>vendor</th>\n",
       "      <th>train</th>\n",
       "      <th>sell_id</th>\n",
       "      <th>transmission</th>\n",
       "      <th>ownershipTimeIsNull</th>\n",
       "      <th>price_log</th>\n",
       "      <th>km_per_year</th>\n",
       "      <th>carNovelty</th>\n",
       "      <th>prodDate_3Y</th>\n",
       "      <th>prodDate_5Y</th>\n",
       "    </tr>\n",
       "  </thead>\n",
       "  <tbody>\n",
       "    <tr>\n",
       "      <th>91994</th>\n",
       "      <td>49</td>\n",
       "      <td>0</td>\n",
       "      <td>15</td>\n",
       "      <td>0</td>\n",
       "      <td>4</td>\n",
       "      <td>2016</td>\n",
       "      <td>3</td>\n",
       "      <td>71</td>\n",
       "      <td>249.0</td>\n",
       "      <td>68225</td>\n",
       "      <td>...</td>\n",
       "      <td>2</td>\n",
       "      <td>0</td>\n",
       "      <td>1101255588</td>\n",
       "      <td>0</td>\n",
       "      <td>1</td>\n",
       "      <td>-inf</td>\n",
       "      <td>17056.25</td>\n",
       "      <td>2</td>\n",
       "      <td>False</td>\n",
       "      <td>True</td>\n",
       "    </tr>\n",
       "  </tbody>\n",
       "</table>\n",
       "<p>1 rows × 27 columns</p>\n",
       "</div>"
      ],
      "text/plain": [
       "       bodyType  brand  color  fuelType  numberOfDoors  productionDate  \\\n",
       "91994        49      0     15         0              4            2016   \n",
       "\n",
       "       vehicleTransmission  engineDisplacement  enginePower  mileage  ...  \\\n",
       "91994                    3                  71        249.0    68225  ...   \n",
       "\n",
       "       vendor  train     sell_id  transmission  ownershipTimeIsNull  \\\n",
       "91994       2      0  1101255588             0                    1   \n",
       "\n",
       "       price_log  km_per_year  carNovelty  prodDate_3Y  prodDate_5Y  \n",
       "91994       -inf     17056.25           2        False         True  \n",
       "\n",
       "[1 rows x 27 columns]"
      ]
     },
     "execution_count": 149,
     "metadata": {},
     "output_type": "execute_result"
    }
   ],
   "source": [
    "data.sample()"
   ]
  },
  {
   "cell_type": "markdown",
   "metadata": {},
   "source": [
    "**One-Hot Encoding**"
   ]
  },
  {
   "cell_type": "markdown",
   "metadata": {},
   "source": [
    "!!!\n",
    "**Временно** \n",
    "\n",
    "Заполним ownersCount медианой, удалить после фин анализа"
   ]
  },
  {
   "cell_type": "code",
   "execution_count": null,
   "metadata": {},
   "outputs": [],
   "source": [
    "\"\"\" \n",
    "# Попробуем OneHotEncoder для кодирования категориальных признаков\n",
    "cols_to_encode = list(set(data.columns) & set(cat_cols))\n",
    "\n",
    "ohe = OneHotEncoder(sparse=False)\n",
    "\n",
    "for col in cols_to_encode:\n",
    "    df_one = pd.DataFrame(ohe.fit_transform(data[[col]]))\n",
    "    df_one.columns = ohe.get_feature_names([f'hot_{col}'])\n",
    "    data = data.drop(col, axis=1)  # удаляем колонку, которую кодировали\n",
    "    data = pd.concat([data.reset_index(drop=True), df_one.reset_index(drop=True)], axis=1)\n",
    "\"\"\""
   ]
  },
  {
   "cell_type": "code",
   "execution_count": 162,
   "metadata": {},
   "outputs": [
    {
     "name": "stdout",
     "output_type": "stream",
     "text": [
      "<class 'pandas.core.frame.DataFrame'>\n",
      "Int64Index: 120062 entries, 0 to 124063\n",
      "Data columns (total 27 columns):\n",
      " #   Column               Non-Null Count   Dtype  \n",
      "---  ------               --------------   -----  \n",
      " 0   bodyType             120062 non-null  int16  \n",
      " 1   brand                120062 non-null  int8   \n",
      " 2   color                120062 non-null  int8   \n",
      " 3   fuelType             120062 non-null  int8   \n",
      " 4   numberOfDoors        120062 non-null  int8   \n",
      " 5   productionDate       120062 non-null  int64  \n",
      " 6   vehicleTransmission  120062 non-null  int8   \n",
      " 7   engineDisplacement   120062 non-null  int16  \n",
      " 8   enginePower          120062 non-null  float64\n",
      " 9   mileage              120062 non-null  int64  \n",
      " 10  drivetrain           120062 non-null  int8   \n",
      " 11  driveSide            120062 non-null  int64  \n",
      " 12  ownersCount          120062 non-null  int8   \n",
      " 13  tcp                  120062 non-null  int8   \n",
      " 14  rarity               120062 non-null  int8   \n",
      " 15  price                120062 non-null  float64\n",
      " 16  model                120062 non-null  int16  \n",
      " 17  vendor               120062 non-null  int8   \n",
      " 18  train                120062 non-null  int64  \n",
      " 19  sell_id              120062 non-null  int64  \n",
      " 20  transmission         120062 non-null  int64  \n",
      " 21  ownershipTimeIsNull  120062 non-null  int64  \n",
      " 22  price_log            120062 non-null  float64\n",
      " 23  km_per_year          120062 non-null  float64\n",
      " 24  carNovelty           120062 non-null  Int64  \n",
      " 25  prodDate_3Y          120062 non-null  int64  \n",
      " 26  prodDate_5Y          120062 non-null  int64  \n",
      "dtypes: Int64(1), float64(4), int16(3), int64(9), int8(10)\n",
      "memory usage: 20.7 MB\n"
     ]
    }
   ],
   "source": [
    "data.info()"
   ]
  },
  {
   "cell_type": "code",
   "execution_count": null,
   "metadata": {},
   "outputs": [],
   "source": []
  },
  {
   "cell_type": "markdown",
   "metadata": {},
   "source": [
    "**Стандартизация числовых признаков**"
   ]
  },
  {
   "cell_type": "code",
   "execution_count": null,
   "metadata": {},
   "outputs": [],
   "source": [
    "# Стандартизация числовых переменных\n",
    "#cols_to_scale = list(set(data.columns) & set(num_cols))\n",
    "#data[cols_to_scale] = StandardScaler().fit_transform(data[cols_to_scale].values)"
   ]
  },
  {
   "cell_type": "markdown",
   "metadata": {},
   "source": [
    "####   Выделим тестовую и тренировочную части\n"
   ]
  },
  {
   "cell_type": "code",
   "execution_count": 163,
   "metadata": {
    "papermill": {
     "duration": 0.071275,
     "end_time": "2020-10-26T12:47:03.754",
     "exception": false,
     "start_time": "2020-10-26T12:47:03.682725",
     "status": "completed"
    },
    "scrolled": true,
    "tags": []
   },
   "outputs": [],
   "source": [
    "X = data.query('train == 1').drop(['train'] + target_col, axis=1)\n",
    "X_sub = data.query('train == 0').drop(['train'] + target_col, axis=1)"
   ]
  },
  {
   "cell_type": "code",
   "execution_count": 175,
   "metadata": {
    "scrolled": true
   },
   "outputs": [],
   "source": [
    "y = data.query('train == 1')['price'].values"
   ]
  },
  {
   "cell_type": "code",
   "execution_count": 176,
   "metadata": {},
   "outputs": [
    {
     "data": {
      "text/plain": [
       "((85376, 24), (34686, 24), (85376,))"
      ]
     },
     "execution_count": 176,
     "metadata": {},
     "output_type": "execute_result"
    }
   ],
   "source": [
    "X.shape, X_sub.shape, y.shape"
   ]
  },
  {
   "cell_type": "markdown",
   "metadata": {
    "papermill": {
     "duration": 0.035737,
     "end_time": "2020-10-26T12:47:03.826552",
     "exception": false,
     "start_time": "2020-10-26T12:47:03.790815",
     "status": "completed"
    },
    "tags": []
   },
   "source": [
    "#### Train Split"
   ]
  },
  {
   "cell_type": "code",
   "execution_count": 177,
   "metadata": {
    "papermill": {
     "duration": 0.059208,
     "end_time": "2020-10-26T12:47:03.923564",
     "exception": false,
     "start_time": "2020-10-26T12:47:03.864356",
     "status": "completed"
    },
    "scrolled": true,
    "tags": []
   },
   "outputs": [],
   "source": [
    "X_train, X_test, y_train, y_test = train_test_split(\n",
    "    X, y, test_size=VAL_SIZE, shuffle=True, random_state=RANDOM_SEED)"
   ]
  },
  {
   "cell_type": "markdown",
   "metadata": {},
   "source": [
    "# 5. Model 1. Создадим \"наивную\" модель \n",
    "Эта модель будет предсказывать среднюю цену по модели двигателя (engineDisplacement). \n",
    "C ней будем сравнивать другие модели.\n",
    "\n",
    "\n"
   ]
  },
  {
   "cell_type": "code",
   "execution_count": 178,
   "metadata": {
    "scrolled": true
   },
   "outputs": [],
   "source": [
    "tmp_train = X_train.copy()\n",
    "tmp_train['price'] = y_train"
   ]
  },
  {
   "cell_type": "code",
   "execution_count": 179,
   "metadata": {
    "scrolled": true
   },
   "outputs": [
    {
     "name": "stdout",
     "output_type": "stream",
     "text": [
      "Точность наивной модели по метрике MAPE: nan%\n"
     ]
    }
   ],
   "source": [
    "# Находим median по экземплярам mileage в трейне и размечаем тест\n",
    "predict = X_test['mileage'].map(\n",
    "    tmp_train.groupby('mileage')['price'].median())\n",
    "\n",
    "# оцениваем точность\n",
    "print(\n",
    "    f\"Точность наивной модели по метрике MAPE: {(mape(y_test, predict.values))*100:0.2f}%\")"
   ]
  },
  {
   "cell_type": "markdown",
   "metadata": {
    "papermill": {
     "duration": 0.037164,
     "end_time": "2020-10-26T12:47:03.997616",
     "exception": false,
     "start_time": "2020-10-26T12:47:03.960452",
     "status": "completed"
    },
    "tags": []
   },
   "source": [
    "# 6. Model 2 : CatBoost\n",
    "![](https://pbs.twimg.com/media/DP-jUCyXcAArRTo.png:large)   \n",
    "\n",
    "\n",
    "У нас в данных практически все признаки категориальные. Специально для работы с такими данными была создана очень удобная библиотека CatBoost от Яндекса. [https://catboost.ai](http://)     \n",
    "На данный момент **CatBoost является одной из лучших библиотек для табличных данных!**\n",
    "\n",
    "#### Полезные видео о CatBoost (на русском):\n",
    "* [Доклад про CatBoost](https://youtu.be/9ZrfErvm97M)\n",
    "* [Свежий Туториал от команды CatBoost (практическая часть)](https://youtu.be/wQt4kgAOgV0) "
   ]
  },
  {
   "cell_type": "markdown",
   "metadata": {
    "papermill": {
     "duration": 0.035833,
     "end_time": "2020-10-26T12:47:04.149539",
     "exception": false,
     "start_time": "2020-10-26T12:47:04.113706",
     "status": "completed"
    },
    "tags": []
   },
   "source": [
    "## Fit"
   ]
  },
  {
   "cell_type": "code",
   "execution_count": 170,
   "metadata": {},
   "outputs": [
    {
     "data": {
      "text/plain": [
       "Index(['bodyType', 'brand', 'color', 'fuelType', 'numberOfDoors',\n",
       "       'productionDate', 'vehicleTransmission', 'engineDisplacement',\n",
       "       'enginePower', 'mileage', 'drivetrain', 'driveSide', 'ownersCount',\n",
       "       'tcp', 'rarity', 'model', 'vendor', 'sell_id', 'transmission',\n",
       "       'ownershipTimeIsNull', 'km_per_year', 'carNovelty', 'prodDate_3Y',\n",
       "       'prodDate_5Y'],\n",
       "      dtype='object')"
      ]
     },
     "execution_count": 170,
     "metadata": {},
     "output_type": "execute_result"
    }
   ],
   "source": [
    "X_train.columns"
   ]
  },
  {
   "cell_type": "code",
   "execution_count": 171,
   "metadata": {},
   "outputs": [],
   "source": [
    "tmp = ['bodyType']"
   ]
  },
  {
   "cell_type": "code",
   "execution_count": 180,
   "metadata": {},
   "outputs": [
    {
     "data": {
      "text/plain": [
       "array([ 280000.,  335000., 2060000., ..., 7829000.,  250000.,  170000.])"
      ]
     },
     "execution_count": 180,
     "metadata": {},
     "output_type": "execute_result"
    }
   ],
   "source": [
    "y_train"
   ]
  },
  {
   "cell_type": "code",
   "execution_count": 181,
   "metadata": {
    "papermill": {
     "duration": 67.991521,
     "end_time": "2020-10-26T12:48:12.178488",
     "exception": false,
     "start_time": "2020-10-26T12:47:04.186967",
     "status": "completed"
    },
    "scrolled": true,
    "tags": []
   },
   "outputs": [
    {
     "ename": "TypeError",
     "evalue": "Cannot convert IntegerArray to numpy.ndarray",
     "output_type": "error",
     "traceback": [
      "\u001b[0;31m---------------------------------------------------------------------------\u001b[0m",
      "\u001b[0;31mTypeError\u001b[0m                                 Traceback (most recent call last)",
      "\u001b[0;32m<ipython-input-181-91efc590a083>\u001b[0m in \u001b[0;36m<module>\u001b[0;34m\u001b[0m\n\u001b[1;32m      5\u001b[0m                           \u001b[0msilent\u001b[0m\u001b[0;34m=\u001b[0m\u001b[0;32mTrue\u001b[0m\u001b[0;34m,\u001b[0m\u001b[0;34m\u001b[0m\u001b[0;34m\u001b[0m\u001b[0m\n\u001b[1;32m      6\u001b[0m                           )\n\u001b[0;32m----> 7\u001b[0;31m model.fit(X_train[tmp], y_train,\n\u001b[0m\u001b[1;32m      8\u001b[0m           \u001b[0;31m# cat_features=cat_features_ids,\u001b[0m\u001b[0;34m\u001b[0m\u001b[0;34m\u001b[0m\u001b[0;34m\u001b[0m\u001b[0m\n\u001b[1;32m      9\u001b[0m           \u001b[0meval_set\u001b[0m\u001b[0;34m=\u001b[0m\u001b[0;34m(\u001b[0m\u001b[0mX_test\u001b[0m\u001b[0;34m,\u001b[0m \u001b[0my_test\u001b[0m\u001b[0;34m)\u001b[0m\u001b[0;34m,\u001b[0m\u001b[0;34m\u001b[0m\u001b[0;34m\u001b[0m\u001b[0m\n",
      "\u001b[0;32m~/opt/anaconda3/lib/python3.8/site-packages/catboost/core.py\u001b[0m in \u001b[0;36mfit\u001b[0;34m(self, X, y, cat_features, sample_weight, baseline, use_best_model, eval_set, verbose, logging_level, plot, column_description, verbose_eval, metric_period, silent, early_stopping_rounds, save_snapshot, snapshot_file, snapshot_interval, init_model, callbacks, log_cout, log_cerr)\u001b[0m\n\u001b[1;32m   5256\u001b[0m             \u001b[0mCatBoostRegressor\u001b[0m\u001b[0;34m.\u001b[0m\u001b[0m_check_is_compatible_loss\u001b[0m\u001b[0;34m(\u001b[0m\u001b[0mparams\u001b[0m\u001b[0;34m[\u001b[0m\u001b[0;34m'loss_function'\u001b[0m\u001b[0;34m]\u001b[0m\u001b[0;34m)\u001b[0m\u001b[0;34m\u001b[0m\u001b[0;34m\u001b[0m\u001b[0m\n\u001b[1;32m   5257\u001b[0m \u001b[0;34m\u001b[0m\u001b[0m\n\u001b[0;32m-> 5258\u001b[0;31m         return self._fit(X, y, cat_features, None, None, None, sample_weight, None, None, None, None, baseline,\n\u001b[0m\u001b[1;32m   5259\u001b[0m                          \u001b[0muse_best_model\u001b[0m\u001b[0;34m,\u001b[0m \u001b[0meval_set\u001b[0m\u001b[0;34m,\u001b[0m \u001b[0mverbose\u001b[0m\u001b[0;34m,\u001b[0m \u001b[0mlogging_level\u001b[0m\u001b[0;34m,\u001b[0m \u001b[0mplot\u001b[0m\u001b[0;34m,\u001b[0m \u001b[0mcolumn_description\u001b[0m\u001b[0;34m,\u001b[0m\u001b[0;34m\u001b[0m\u001b[0;34m\u001b[0m\u001b[0m\n\u001b[1;32m   5260\u001b[0m                          \u001b[0mverbose_eval\u001b[0m\u001b[0;34m,\u001b[0m \u001b[0mmetric_period\u001b[0m\u001b[0;34m,\u001b[0m \u001b[0msilent\u001b[0m\u001b[0;34m,\u001b[0m \u001b[0mearly_stopping_rounds\u001b[0m\u001b[0;34m,\u001b[0m\u001b[0;34m\u001b[0m\u001b[0;34m\u001b[0m\u001b[0m\n",
      "\u001b[0;32m~/opt/anaconda3/lib/python3.8/site-packages/catboost/core.py\u001b[0m in \u001b[0;36m_fit\u001b[0;34m(self, X, y, cat_features, text_features, embedding_features, pairs, sample_weight, group_id, group_weight, subgroup_id, pairs_weight, baseline, use_best_model, eval_set, verbose, logging_level, plot, column_description, verbose_eval, metric_period, silent, early_stopping_rounds, save_snapshot, snapshot_file, snapshot_interval, init_model, callbacks, log_cout, log_cerr)\u001b[0m\n\u001b[1;32m   1979\u001b[0m             \u001b[0;32mraise\u001b[0m \u001b[0mCatBoostError\u001b[0m\u001b[0;34m(\u001b[0m\u001b[0;34m\"y may be None only when X is an instance of catboost.Pool or string\"\u001b[0m\u001b[0;34m)\u001b[0m\u001b[0;34m\u001b[0m\u001b[0;34m\u001b[0m\u001b[0m\n\u001b[1;32m   1980\u001b[0m \u001b[0;34m\u001b[0m\u001b[0m\n\u001b[0;32m-> 1981\u001b[0;31m         train_params = self._prepare_train_params(\n\u001b[0m\u001b[1;32m   1982\u001b[0m             \u001b[0mX\u001b[0m\u001b[0;34m=\u001b[0m\u001b[0mX\u001b[0m\u001b[0;34m,\u001b[0m \u001b[0my\u001b[0m\u001b[0;34m=\u001b[0m\u001b[0my\u001b[0m\u001b[0;34m,\u001b[0m \u001b[0mcat_features\u001b[0m\u001b[0;34m=\u001b[0m\u001b[0mcat_features\u001b[0m\u001b[0;34m,\u001b[0m \u001b[0mtext_features\u001b[0m\u001b[0;34m=\u001b[0m\u001b[0mtext_features\u001b[0m\u001b[0;34m,\u001b[0m \u001b[0membedding_features\u001b[0m\u001b[0;34m=\u001b[0m\u001b[0membedding_features\u001b[0m\u001b[0;34m,\u001b[0m\u001b[0;34m\u001b[0m\u001b[0;34m\u001b[0m\u001b[0m\n\u001b[1;32m   1983\u001b[0m             \u001b[0mpairs\u001b[0m\u001b[0;34m=\u001b[0m\u001b[0mpairs\u001b[0m\u001b[0;34m,\u001b[0m \u001b[0msample_weight\u001b[0m\u001b[0;34m=\u001b[0m\u001b[0msample_weight\u001b[0m\u001b[0;34m,\u001b[0m \u001b[0mgroup_id\u001b[0m\u001b[0;34m=\u001b[0m\u001b[0mgroup_id\u001b[0m\u001b[0;34m,\u001b[0m \u001b[0mgroup_weight\u001b[0m\u001b[0;34m=\u001b[0m\u001b[0mgroup_weight\u001b[0m\u001b[0;34m,\u001b[0m\u001b[0;34m\u001b[0m\u001b[0;34m\u001b[0m\u001b[0m\n",
      "\u001b[0;32m~/opt/anaconda3/lib/python3.8/site-packages/catboost/core.py\u001b[0m in \u001b[0;36m_prepare_train_params\u001b[0;34m(self, X, y, cat_features, text_features, embedding_features, pairs, sample_weight, group_id, group_weight, subgroup_id, pairs_weight, baseline, use_best_model, eval_set, verbose, logging_level, plot, column_description, verbose_eval, metric_period, silent, early_stopping_rounds, save_snapshot, snapshot_file, snapshot_interval, init_model, callbacks)\u001b[0m\n\u001b[1;32m   1933\u001b[0m                     \u001b[0;32mraise\u001b[0m \u001b[0mCatBoostError\u001b[0m\u001b[0;34m(\u001b[0m\u001b[0;34m\"'eval_set' tuple contains at least one None value\"\u001b[0m\u001b[0;34m)\u001b[0m\u001b[0;34m\u001b[0m\u001b[0;34m\u001b[0m\u001b[0m\n\u001b[1;32m   1934\u001b[0m                 eval_sets.append(\n\u001b[0;32m-> 1935\u001b[0;31m                     Pool(\n\u001b[0m\u001b[1;32m   1936\u001b[0m                         \u001b[0meval_set\u001b[0m\u001b[0;34m[\u001b[0m\u001b[0;36m0\u001b[0m\u001b[0;34m]\u001b[0m\u001b[0;34m,\u001b[0m\u001b[0;34m\u001b[0m\u001b[0;34m\u001b[0m\u001b[0m\n\u001b[1;32m   1937\u001b[0m                         \u001b[0meval_set\u001b[0m\u001b[0;34m[\u001b[0m\u001b[0;36m1\u001b[0m\u001b[0;34m]\u001b[0m\u001b[0;34m,\u001b[0m\u001b[0;34m\u001b[0m\u001b[0;34m\u001b[0m\u001b[0m\n",
      "\u001b[0;32m~/opt/anaconda3/lib/python3.8/site-packages/catboost/core.py\u001b[0m in \u001b[0;36m__init__\u001b[0;34m(self, data, label, cat_features, text_features, embedding_features, column_description, pairs, delimiter, has_header, ignore_csv_quoting, weight, group_id, group_weight, subgroup_id, pairs_weight, baseline, feature_names, thread_count, log_cout, log_cerr)\u001b[0m\n\u001b[1;32m    617\u001b[0m                     )\n\u001b[1;32m    618\u001b[0m \u001b[0;34m\u001b[0m\u001b[0m\n\u001b[0;32m--> 619\u001b[0;31m                 \u001b[0mself\u001b[0m\u001b[0;34m.\u001b[0m\u001b[0m_init\u001b[0m\u001b[0;34m(\u001b[0m\u001b[0mdata\u001b[0m\u001b[0;34m,\u001b[0m \u001b[0mlabel\u001b[0m\u001b[0;34m,\u001b[0m \u001b[0mcat_features\u001b[0m\u001b[0;34m,\u001b[0m \u001b[0mtext_features\u001b[0m\u001b[0;34m,\u001b[0m \u001b[0membedding_features\u001b[0m\u001b[0;34m,\u001b[0m \u001b[0mpairs\u001b[0m\u001b[0;34m,\u001b[0m \u001b[0mweight\u001b[0m\u001b[0;34m,\u001b[0m \u001b[0mgroup_id\u001b[0m\u001b[0;34m,\u001b[0m \u001b[0mgroup_weight\u001b[0m\u001b[0;34m,\u001b[0m \u001b[0msubgroup_id\u001b[0m\u001b[0;34m,\u001b[0m \u001b[0mpairs_weight\u001b[0m\u001b[0;34m,\u001b[0m \u001b[0mbaseline\u001b[0m\u001b[0;34m,\u001b[0m \u001b[0mfeature_names\u001b[0m\u001b[0;34m,\u001b[0m \u001b[0mthread_count\u001b[0m\u001b[0;34m)\u001b[0m\u001b[0;34m\u001b[0m\u001b[0;34m\u001b[0m\u001b[0m\n\u001b[0m\u001b[1;32m    620\u001b[0m         \u001b[0msuper\u001b[0m\u001b[0;34m(\u001b[0m\u001b[0mPool\u001b[0m\u001b[0;34m,\u001b[0m \u001b[0mself\u001b[0m\u001b[0;34m)\u001b[0m\u001b[0;34m.\u001b[0m\u001b[0m__init__\u001b[0m\u001b[0;34m(\u001b[0m\u001b[0;34m)\u001b[0m\u001b[0;34m\u001b[0m\u001b[0;34m\u001b[0m\u001b[0m\n\u001b[1;32m    621\u001b[0m \u001b[0;34m\u001b[0m\u001b[0m\n",
      "\u001b[0;32m~/opt/anaconda3/lib/python3.8/site-packages/catboost/core.py\u001b[0m in \u001b[0;36m_init\u001b[0;34m(self, data, label, cat_features, text_features, embedding_features, pairs, weight, group_id, group_weight, subgroup_id, pairs_weight, baseline, feature_names, thread_count)\u001b[0m\n\u001b[1;32m   1133\u001b[0m             \u001b[0mbaseline\u001b[0m \u001b[0;34m=\u001b[0m \u001b[0mnp\u001b[0m\u001b[0;34m.\u001b[0m\u001b[0mreshape\u001b[0m\u001b[0;34m(\u001b[0m\u001b[0mbaseline\u001b[0m\u001b[0;34m,\u001b[0m \u001b[0;34m(\u001b[0m\u001b[0msamples_count\u001b[0m\u001b[0;34m,\u001b[0m \u001b[0;34m-\u001b[0m\u001b[0;36m1\u001b[0m\u001b[0;34m)\u001b[0m\u001b[0;34m)\u001b[0m\u001b[0;34m\u001b[0m\u001b[0;34m\u001b[0m\u001b[0m\n\u001b[1;32m   1134\u001b[0m             \u001b[0mself\u001b[0m\u001b[0;34m.\u001b[0m\u001b[0m_check_baseline_shape\u001b[0m\u001b[0;34m(\u001b[0m\u001b[0mbaseline\u001b[0m\u001b[0;34m,\u001b[0m \u001b[0msamples_count\u001b[0m\u001b[0;34m)\u001b[0m\u001b[0;34m\u001b[0m\u001b[0;34m\u001b[0m\u001b[0m\n\u001b[0;32m-> 1135\u001b[0;31m         \u001b[0mself\u001b[0m\u001b[0;34m.\u001b[0m\u001b[0m_init_pool\u001b[0m\u001b[0;34m(\u001b[0m\u001b[0mdata\u001b[0m\u001b[0;34m,\u001b[0m \u001b[0mlabel\u001b[0m\u001b[0;34m,\u001b[0m \u001b[0mcat_features\u001b[0m\u001b[0;34m,\u001b[0m \u001b[0mtext_features\u001b[0m\u001b[0;34m,\u001b[0m \u001b[0membedding_features\u001b[0m\u001b[0;34m,\u001b[0m \u001b[0mpairs\u001b[0m\u001b[0;34m,\u001b[0m \u001b[0mweight\u001b[0m\u001b[0;34m,\u001b[0m \u001b[0mgroup_id\u001b[0m\u001b[0;34m,\u001b[0m \u001b[0mgroup_weight\u001b[0m\u001b[0;34m,\u001b[0m \u001b[0msubgroup_id\u001b[0m\u001b[0;34m,\u001b[0m \u001b[0mpairs_weight\u001b[0m\u001b[0;34m,\u001b[0m \u001b[0mbaseline\u001b[0m\u001b[0;34m,\u001b[0m \u001b[0mfeature_names\u001b[0m\u001b[0;34m,\u001b[0m \u001b[0mthread_count\u001b[0m\u001b[0;34m)\u001b[0m\u001b[0;34m\u001b[0m\u001b[0;34m\u001b[0m\u001b[0m\n\u001b[0m\u001b[1;32m   1136\u001b[0m \u001b[0;34m\u001b[0m\u001b[0m\n\u001b[1;32m   1137\u001b[0m \u001b[0;34m\u001b[0m\u001b[0m\n",
      "\u001b[0;32m_catboost.pyx\u001b[0m in \u001b[0;36m_catboost._PoolBase._init_pool\u001b[0;34m()\u001b[0m\n",
      "\u001b[0;32m_catboost.pyx\u001b[0m in \u001b[0;36m_catboost._PoolBase._init_pool\u001b[0;34m()\u001b[0m\n",
      "\u001b[0;32m_catboost.pyx\u001b[0m in \u001b[0;36m_catboost._PoolBase._init_features_order_layout_pool\u001b[0;34m()\u001b[0m\n",
      "\u001b[0;32m_catboost.pyx\u001b[0m in \u001b[0;36m_catboost._set_features_order_data_pd_data_frame\u001b[0;34m()\u001b[0m\n",
      "\u001b[0;31mTypeError\u001b[0m: Cannot convert IntegerArray to numpy.ndarray"
     ]
    }
   ],
   "source": [
    "model = CatBoostRegressor(iterations=5000,\n",
    "                          random_seed=RANDOM_SEED,\n",
    "                          eval_metric='MAPE',\n",
    "                          custom_metric=['R2', 'MAE'],\n",
    "                          silent=True,\n",
    "                          )\n",
    "model.fit(X_train[tmp], y_train,\n",
    "          # cat_features=cat_features_ids,\n",
    "          eval_set=(X_test, y_test),\n",
    "          verbose_eval=0,\n",
    "          use_best_model=True,\n",
    "          # plot=True\n",
    "          )\n",
    "\n",
    "model.save_model('catboost_single_model_baseline.model')"
   ]
  },
  {
   "cell_type": "code",
   "execution_count": null,
   "metadata": {
    "scrolled": true
   },
   "outputs": [],
   "source": [
    "# оцениваем точность\n",
    "predict = model.predict(X_test)\n",
    "print(f\"Точность модели по метрике MAPE: {(mape(y_test, predict))*100:0.2f}%\")"
   ]
  },
  {
   "cell_type": "markdown",
   "metadata": {
    "papermill": {
     "duration": 0.088891,
     "end_time": "2020-10-26T12:48:12.562943",
     "exception": false,
     "start_time": "2020-10-26T12:48:12.474052",
     "status": "completed"
    },
    "tags": []
   },
   "source": [
    "Вот так просто со старта, даже не трогая сами данные и не подбирая настройки catboosta, получаем модель с уровнем ошибки в 18%!"
   ]
  },
  {
   "cell_type": "markdown",
   "metadata": {},
   "source": [
    "### Log Traget\n",
    "Попробуем взять таргет в логорифм - это позволит уменьшить влияние выбросов на обучение модели (используем для этого np.log и np.exp).    \n",
    "В принциепе мы можем использовать любое приобразование на целевую переменную. Например деление на курс доллара, евро или гречки :) в дату сбора данных, смотрим дату парсинга в тесте в **parsing_unixtime**"
   ]
  },
  {
   "cell_type": "code",
   "execution_count": null,
   "metadata": {
    "scrolled": true
   },
   "outputs": [],
   "source": [
    "np.log(y_train)"
   ]
  },
  {
   "cell_type": "code",
   "execution_count": null,
   "metadata": {
    "scrolled": true
   },
   "outputs": [],
   "source": [
    "model = CatBoostRegressor(iterations=5000,\n",
    "                          random_seed=RANDOM_SEED,\n",
    "                          eval_metric='MAPE',\n",
    "                          custom_metric=['R2', 'MAE'],\n",
    "                          silent=True,\n",
    "                          )\n",
    "model.fit(X_train, np.log(y_train),\n",
    "          # cat_features=cat_features_ids,\n",
    "          eval_set=(X_test, np.log(y_test)),\n",
    "          verbose_eval=0,\n",
    "          use_best_model=True,\n",
    "          # plot=True\n",
    "          )\n",
    "\n",
    "model.save_model('catboost_single_model_2_baseline.model')"
   ]
  },
  {
   "cell_type": "code",
   "execution_count": null,
   "metadata": {
    "scrolled": true
   },
   "outputs": [],
   "source": [
    "predict_test = np.exp(model.predict(X_test))\n",
    "predict_submission = np.exp(model.predict(X_sub))"
   ]
  },
  {
   "cell_type": "code",
   "execution_count": null,
   "metadata": {
    "scrolled": true
   },
   "outputs": [],
   "source": [
    "print(\n",
    "    f\"Точность модели по метрике MAPE: {(mape(y_test, predict_test))*100:0.2f}%\")"
   ]
  },
  {
   "cell_type": "markdown",
   "metadata": {},
   "source": [
    "Как видим точность возросла до 15%, а что будет на ЛБ?"
   ]
  },
  {
   "cell_type": "markdown",
   "metadata": {},
   "source": [
    "# Model 3. Lazypredict\n"
   ]
  },
  {
   "cell_type": "code",
   "execution_count": null,
   "metadata": {
    "scrolled": true
   },
   "outputs": [],
   "source": [
    "pip install lazypredict"
   ]
  },
  {
   "cell_type": "code",
   "execution_count": null,
   "metadata": {
    "scrolled": true
   },
   "outputs": [],
   "source": [
    "import lazypredict"
   ]
  },
  {
   "cell_type": "code",
   "execution_count": null,
   "metadata": {
    "scrolled": true
   },
   "outputs": [],
   "source": [
    "from lazypredict.Supervised import LazyRegressor\n",
    "\n",
    "#reg = LazyRegressor(verbose=0, ignore_warnings=False, custom_metric=None)\n",
    "#models, predictions = reg.fit(X_train, X_test, y_train, y_test)\n",
    "\n",
    "# print(models)"
   ]
  },
  {
   "cell_type": "markdown",
   "metadata": {
    "papermill": {
     "duration": 0.085876,
     "end_time": "2020-10-26T12:48:12.734207",
     "exception": false,
     "start_time": "2020-10-26T12:48:12.648331",
     "status": "completed"
    },
    "tags": []
   },
   "source": [
    "# 7. Submission"
   ]
  },
  {
   "cell_type": "code",
   "execution_count": null,
   "metadata": {
    "papermill": {
     "duration": 0.628302,
     "end_time": "2020-10-26T12:48:13.763488",
     "exception": false,
     "start_time": "2020-10-26T12:48:13.135186",
     "status": "completed"
    },
    "scrolled": true,
    "tags": []
   },
   "outputs": [],
   "source": [
    "sample_submission['price'] = predict_submission\n",
    "sample_submission.to_csv(f'submission_2_v{VERSION}.csv', index=False)\n",
    "sample_submission.head(10)"
   ]
  },
  {
   "cell_type": "markdown",
   "metadata": {
    "papermill": {
     "duration": 0.083769,
     "end_time": "2020-10-26T12:48:13.930562",
     "exception": false,
     "start_time": "2020-10-26T12:48:13.846793",
     "status": "completed"
    },
    "tags": []
   },
   "source": [
    "В итоге получили **MAPE 27%** на ЛБ!\n",
    "\n",
    "Большая разница в ошибке может указывать на то что тест и трейн имеют различия по выборке или то что данные в трейне могли уже устареть и их нужно обновлять."
   ]
  },
  {
   "cell_type": "markdown",
   "metadata": {
    "papermill": {
     "duration": 0.087712,
     "end_time": "2020-10-26T12:48:14.104388",
     "exception": false,
     "start_time": "2020-10-26T12:48:14.016676",
     "status": "completed"
    },
    "tags": []
   },
   "source": [
    "# What's next?\n",
    "Или что еще можно сделать, чтоб улучшить результат:\n",
    "\n",
    "* [x] Спарсить свежие данные \n",
    "* [ ] Посмотреть, что можно извлечь из признаков или как еще можно обработать признаки\n",
    "* [ ] Сгенерировать новые признаки\n",
    "* [ ] Попробовать подобрать параметры модели\n",
    "* [ ] Попробовать другие алгоритмы и библиотеки ML\n",
    "* [ ] Сделать Ансамбль моделей, Blending, Stacking"
   ]
  },
  {
   "cell_type": "markdown",
   "metadata": {},
   "source": [
    "Подробный чек лист: https://docs.google.com/spreadsheets/d/1I_ErM3U0Cs7Rs1obyZbIEGtVn-H47pHNCi4xdDgUmXY/edit?usp=sharing"
   ]
  }
 ],
 "metadata": {
  "kernelspec": {
   "display_name": "Python 3",
   "language": "python",
   "name": "python3"
  },
  "language_info": {
   "codemirror_mode": {
    "name": "ipython",
    "version": 3
   },
   "file_extension": ".py",
   "mimetype": "text/x-python",
   "name": "python",
   "nbconvert_exporter": "python",
   "pygments_lexer": "ipython3",
   "version": "3.8.10"
  }
 },
 "nbformat": 4,
 "nbformat_minor": 4
}
