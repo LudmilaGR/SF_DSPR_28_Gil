{
 "cells": [
  {
   "cell_type": "markdown",
   "metadata": {
    "papermill": {
     "duration": 0.029718,
     "end_time": "2020-10-26T12:46:41.276296",
     "exception": false,
     "start_time": "2020-10-26T12:46:41.246578",
     "status": "completed"
    },
    "tags": []
   },
   "source": [
    "<img src=\"https://whatcar.vn/media/2018/09/car-lot-940x470.jpg\"/>\n",
    "\n",
    "# Прогнозирование стоимости автомобиля по характеристикам\n",
    "\n",
    "* Работу выполнили Людмила Григорьева и Юлия Гиль\n",
    "* Группа DSPR-28"
   ]
  },
  {
   "cell_type": "markdown",
   "metadata": {},
   "source": [
    "# Содержание\n",
    "\n",
    "1. [IMPORT, FUNCTIONS, SETUP](#1)\n",
    "2. [DDATA & PRELIMINARY ANALYSIS](#2)\n",
    "3. [EDA](#3) \n",
    "4. [NAÏVE MODEL](#4)\n",
    "5. [MODEL IMPROVEMENTS](#5)\n",
    "    * \n",
    "6. [SUBMISSION](#6)\n",
    "7. [SUMMARY](#7)"
   ]
  },
  {
   "cell_type": "markdown",
   "metadata": {},
   "source": [
    "<a id=\"1\"></a>\n",
    "# 1. Import, Functions, Setup"
   ]
  },
  {
   "cell_type": "code",
   "execution_count": 1,
   "metadata": {},
   "outputs": [
    {
     "name": "stdout",
     "output_type": "stream",
     "text": [
      "Requirement already satisfied: catboost in /Users/yuliyagil/opt/anaconda3/lib/python3.8/site-packages (0.26.1)\n",
      "Requirement already satisfied: matplotlib in /Users/yuliyagil/opt/anaconda3/lib/python3.8/site-packages (from catboost) (3.3.4)\n",
      "Requirement already satisfied: graphviz in /Users/yuliyagil/opt/anaconda3/lib/python3.8/site-packages (from catboost) (0.17)\n",
      "Requirement already satisfied: plotly in /Users/yuliyagil/opt/anaconda3/lib/python3.8/site-packages (from catboost) (4.14.3)\n",
      "Requirement already satisfied: scipy in /Users/yuliyagil/opt/anaconda3/lib/python3.8/site-packages (from catboost) (1.5.4)\n",
      "Requirement already satisfied: numpy>=1.16.0 in /Users/yuliyagil/opt/anaconda3/lib/python3.8/site-packages (from catboost) (1.19.1)\n",
      "Requirement already satisfied: six in /Users/yuliyagil/opt/anaconda3/lib/python3.8/site-packages (from catboost) (1.15.0)\n",
      "Requirement already satisfied: pandas>=0.24.0 in /Users/yuliyagil/opt/anaconda3/lib/python3.8/site-packages (from catboost) (1.0.5)\n",
      "Requirement already satisfied: pytz>=2017.2 in /Users/yuliyagil/opt/anaconda3/lib/python3.8/site-packages (from pandas>=0.24.0->catboost) (2021.1)\n",
      "Requirement already satisfied: python-dateutil>=2.6.1 in /Users/yuliyagil/opt/anaconda3/lib/python3.8/site-packages (from pandas>=0.24.0->catboost) (2.8.1)\n",
      "Requirement already satisfied: cycler>=0.10 in /Users/yuliyagil/opt/anaconda3/lib/python3.8/site-packages (from matplotlib->catboost) (0.10.0)\n",
      "Requirement already satisfied: pillow>=6.2.0 in /Users/yuliyagil/opt/anaconda3/lib/python3.8/site-packages (from matplotlib->catboost) (8.2.0)\n",
      "Requirement already satisfied: pyparsing!=2.0.4,!=2.1.2,!=2.1.6,>=2.0.3 in /Users/yuliyagil/opt/anaconda3/lib/python3.8/site-packages (from matplotlib->catboost) (2.4.7)\n",
      "Requirement already satisfied: kiwisolver>=1.0.1 in /Users/yuliyagil/opt/anaconda3/lib/python3.8/site-packages (from matplotlib->catboost) (1.3.1)\n",
      "Requirement already satisfied: retrying>=1.3.3 in /Users/yuliyagil/opt/anaconda3/lib/python3.8/site-packages (from plotly->catboost) (1.3.3)\n"
     ]
    }
   ],
   "source": [
    "!pip3 install catboost"
   ]
  },
  {
   "cell_type": "code",
   "execution_count": 2,
   "metadata": {},
   "outputs": [
    {
     "name": "stdout",
     "output_type": "stream",
     "text": [
      "Requirement already satisfied: pandas-profiling in /Users/yuliyagil/opt/anaconda3/lib/python3.8/site-packages (2.11.0)\n",
      "Requirement already satisfied: jinja2>=2.11.1 in /Users/yuliyagil/opt/anaconda3/lib/python3.8/site-packages (from pandas-profiling) (3.0.0)\n",
      "Requirement already satisfied: numpy>=1.16.0 in /Users/yuliyagil/opt/anaconda3/lib/python3.8/site-packages (from pandas-profiling) (1.19.1)\n",
      "Requirement already satisfied: pandas!=1.0.0,!=1.0.1,!=1.0.2,!=1.1.0,>=0.25.3 in /Users/yuliyagil/opt/anaconda3/lib/python3.8/site-packages (from pandas-profiling) (1.0.5)\n",
      "Requirement already satisfied: confuse>=1.0.0 in /Users/yuliyagil/opt/anaconda3/lib/python3.8/site-packages (from pandas-profiling) (1.4.0)\n",
      "Requirement already satisfied: missingno>=0.4.2 in /Users/yuliyagil/opt/anaconda3/lib/python3.8/site-packages (from pandas-profiling) (0.4.2)\n",
      "Requirement already satisfied: attrs>=19.3.0 in /Users/yuliyagil/opt/anaconda3/lib/python3.8/site-packages (from pandas-profiling) (21.2.0)\n",
      "Requirement already satisfied: phik>=0.10.0 in /Users/yuliyagil/opt/anaconda3/lib/python3.8/site-packages (from pandas-profiling) (0.11.2)\n",
      "Requirement already satisfied: tqdm>=4.48.2 in /Users/yuliyagil/opt/anaconda3/lib/python3.8/site-packages (from pandas-profiling) (4.56.0)\n",
      "Requirement already satisfied: visions[type_image_path]==0.6.0 in /Users/yuliyagil/opt/anaconda3/lib/python3.8/site-packages (from pandas-profiling) (0.6.0)\n",
      "Requirement already satisfied: scipy>=1.4.1 in /Users/yuliyagil/opt/anaconda3/lib/python3.8/site-packages (from pandas-profiling) (1.5.4)\n",
      "Requirement already satisfied: matplotlib>=3.2.0 in /Users/yuliyagil/opt/anaconda3/lib/python3.8/site-packages (from pandas-profiling) (3.3.4)\n",
      "Requirement already satisfied: tangled-up-in-unicode>=0.0.6 in /Users/yuliyagil/opt/anaconda3/lib/python3.8/site-packages (from pandas-profiling) (0.0.7)\n",
      "Requirement already satisfied: requests>=2.24.0 in /Users/yuliyagil/opt/anaconda3/lib/python3.8/site-packages (from pandas-profiling) (2.25.1)\n",
      "Requirement already satisfied: ipywidgets>=7.5.1 in /Users/yuliyagil/opt/anaconda3/lib/python3.8/site-packages (from pandas-profiling) (7.6.3)\n",
      "Requirement already satisfied: seaborn>=0.10.1 in /Users/yuliyagil/opt/anaconda3/lib/python3.8/site-packages (from pandas-profiling) (0.11.1)\n",
      "Requirement already satisfied: htmlmin>=0.1.12 in /Users/yuliyagil/opt/anaconda3/lib/python3.8/site-packages (from pandas-profiling) (0.1.12)\n",
      "Requirement already satisfied: joblib in /Users/yuliyagil/opt/anaconda3/lib/python3.8/site-packages (from pandas-profiling) (1.0.0)\n",
      "Requirement already satisfied: networkx>=2.4 in /Users/yuliyagil/opt/anaconda3/lib/python3.8/site-packages (from visions[type_image_path]==0.6.0->pandas-profiling) (2.5.1)\n",
      "Requirement already satisfied: imagehash in /Users/yuliyagil/opt/anaconda3/lib/python3.8/site-packages (from visions[type_image_path]==0.6.0->pandas-profiling) (4.2.0)\n",
      "Requirement already satisfied: Pillow in /Users/yuliyagil/opt/anaconda3/lib/python3.8/site-packages (from visions[type_image_path]==0.6.0->pandas-profiling) (8.2.0)\n",
      "Requirement already satisfied: pyyaml in /Users/yuliyagil/opt/anaconda3/lib/python3.8/site-packages (from confuse>=1.0.0->pandas-profiling) (5.3.1)\n",
      "Requirement already satisfied: ipython>=4.0.0 in /Users/yuliyagil/opt/anaconda3/lib/python3.8/site-packages (from ipywidgets>=7.5.1->pandas-profiling) (7.22.0)\n",
      "Requirement already satisfied: nbformat>=4.2.0 in /Users/yuliyagil/opt/anaconda3/lib/python3.8/site-packages (from ipywidgets>=7.5.1->pandas-profiling) (5.1.3)\n",
      "Requirement already satisfied: ipykernel>=4.5.1 in /Users/yuliyagil/opt/anaconda3/lib/python3.8/site-packages (from ipywidgets>=7.5.1->pandas-profiling) (5.3.4)\n",
      "Requirement already satisfied: jupyterlab-widgets>=1.0.0 in /Users/yuliyagil/opt/anaconda3/lib/python3.8/site-packages (from ipywidgets>=7.5.1->pandas-profiling) (1.0.0)\n",
      "Requirement already satisfied: traitlets>=4.3.1 in /Users/yuliyagil/opt/anaconda3/lib/python3.8/site-packages (from ipywidgets>=7.5.1->pandas-profiling) (5.0.5)\n",
      "Requirement already satisfied: widgetsnbextension~=3.5.0 in /Users/yuliyagil/opt/anaconda3/lib/python3.8/site-packages (from ipywidgets>=7.5.1->pandas-profiling) (3.5.1)\n",
      "Requirement already satisfied: appnope in /Users/yuliyagil/opt/anaconda3/lib/python3.8/site-packages (from ipykernel>=4.5.1->ipywidgets>=7.5.1->pandas-profiling) (0.1.2)\n",
      "Requirement already satisfied: jupyter-client in /Users/yuliyagil/opt/anaconda3/lib/python3.8/site-packages (from ipykernel>=4.5.1->ipywidgets>=7.5.1->pandas-profiling) (6.1.12)\n",
      "Requirement already satisfied: tornado>=4.2 in /Users/yuliyagil/opt/anaconda3/lib/python3.8/site-packages (from ipykernel>=4.5.1->ipywidgets>=7.5.1->pandas-profiling) (6.1)\n",
      "Requirement already satisfied: pickleshare in /Users/yuliyagil/opt/anaconda3/lib/python3.8/site-packages (from ipython>=4.0.0->ipywidgets>=7.5.1->pandas-profiling) (0.7.5)\n",
      "Requirement already satisfied: decorator in /Users/yuliyagil/opt/anaconda3/lib/python3.8/site-packages (from ipython>=4.0.0->ipywidgets>=7.5.1->pandas-profiling) (4.4.2)\n",
      "Requirement already satisfied: backcall in /Users/yuliyagil/opt/anaconda3/lib/python3.8/site-packages (from ipython>=4.0.0->ipywidgets>=7.5.1->pandas-profiling) (0.2.0)\n",
      "Requirement already satisfied: pygments in /Users/yuliyagil/opt/anaconda3/lib/python3.8/site-packages (from ipython>=4.0.0->ipywidgets>=7.5.1->pandas-profiling) (2.9.0)\n",
      "Requirement already satisfied: prompt-toolkit!=3.0.0,!=3.0.1,<3.1.0,>=2.0.0 in /Users/yuliyagil/opt/anaconda3/lib/python3.8/site-packages (from ipython>=4.0.0->ipywidgets>=7.5.1->pandas-profiling) (3.0.17)\n",
      "Requirement already satisfied: setuptools>=18.5 in /Users/yuliyagil/opt/anaconda3/lib/python3.8/site-packages (from ipython>=4.0.0->ipywidgets>=7.5.1->pandas-profiling) (52.0.0.post20210125)\n",
      "Requirement already satisfied: jedi>=0.16 in /Users/yuliyagil/opt/anaconda3/lib/python3.8/site-packages (from ipython>=4.0.0->ipywidgets>=7.5.1->pandas-profiling) (0.17.2)\n",
      "Requirement already satisfied: pexpect>4.3 in /Users/yuliyagil/opt/anaconda3/lib/python3.8/site-packages (from ipython>=4.0.0->ipywidgets>=7.5.1->pandas-profiling) (4.8.0)\n",
      "Requirement already satisfied: parso<0.8.0,>=0.7.0 in /Users/yuliyagil/opt/anaconda3/lib/python3.8/site-packages (from jedi>=0.16->ipython>=4.0.0->ipywidgets>=7.5.1->pandas-profiling) (0.7.0)\n",
      "Requirement already satisfied: MarkupSafe>=2.0.0rc2 in /Users/yuliyagil/opt/anaconda3/lib/python3.8/site-packages (from jinja2>=2.11.1->pandas-profiling) (2.0.1)\n",
      "Requirement already satisfied: kiwisolver>=1.0.1 in /Users/yuliyagil/opt/anaconda3/lib/python3.8/site-packages (from matplotlib>=3.2.0->pandas-profiling) (1.3.1)\n",
      "Requirement already satisfied: cycler>=0.10 in /Users/yuliyagil/opt/anaconda3/lib/python3.8/site-packages (from matplotlib>=3.2.0->pandas-profiling) (0.10.0)\n",
      "Requirement already satisfied: pyparsing!=2.0.4,!=2.1.2,!=2.1.6,>=2.0.3 in /Users/yuliyagil/opt/anaconda3/lib/python3.8/site-packages (from matplotlib>=3.2.0->pandas-profiling) (2.4.7)\n",
      "Requirement already satisfied: python-dateutil>=2.1 in /Users/yuliyagil/opt/anaconda3/lib/python3.8/site-packages (from matplotlib>=3.2.0->pandas-profiling) (2.8.1)\n",
      "Requirement already satisfied: six in /Users/yuliyagil/opt/anaconda3/lib/python3.8/site-packages (from cycler>=0.10->matplotlib>=3.2.0->pandas-profiling) (1.15.0)\n",
      "Requirement already satisfied: jsonschema!=2.5.0,>=2.4 in /Users/yuliyagil/opt/anaconda3/lib/python3.8/site-packages (from nbformat>=4.2.0->ipywidgets>=7.5.1->pandas-profiling) (3.2.0)\n",
      "Requirement already satisfied: ipython-genutils in /Users/yuliyagil/opt/anaconda3/lib/python3.8/site-packages (from nbformat>=4.2.0->ipywidgets>=7.5.1->pandas-profiling) (0.2.0)\n",
      "Requirement already satisfied: jupyter-core in /Users/yuliyagil/opt/anaconda3/lib/python3.8/site-packages (from nbformat>=4.2.0->ipywidgets>=7.5.1->pandas-profiling) (4.7.1)\n",
      "Requirement already satisfied: pyrsistent>=0.14.0 in /Users/yuliyagil/opt/anaconda3/lib/python3.8/site-packages (from jsonschema!=2.5.0,>=2.4->nbformat>=4.2.0->ipywidgets>=7.5.1->pandas-profiling) (0.17.3)\n",
      "Requirement already satisfied: pytz>=2017.2 in /Users/yuliyagil/opt/anaconda3/lib/python3.8/site-packages (from pandas!=1.0.0,!=1.0.1,!=1.0.2,!=1.1.0,>=0.25.3->pandas-profiling) (2021.1)\n",
      "Requirement already satisfied: ptyprocess>=0.5 in /Users/yuliyagil/opt/anaconda3/lib/python3.8/site-packages (from pexpect>4.3->ipython>=4.0.0->ipywidgets>=7.5.1->pandas-profiling) (0.7.0)\n"
     ]
    },
    {
     "name": "stdout",
     "output_type": "stream",
     "text": [
      "Requirement already satisfied: wcwidth in /Users/yuliyagil/opt/anaconda3/lib/python3.8/site-packages (from prompt-toolkit!=3.0.0,!=3.0.1,<3.1.0,>=2.0.0->ipython>=4.0.0->ipywidgets>=7.5.1->pandas-profiling) (0.2.5)\n",
      "Requirement already satisfied: urllib3<1.27,>=1.21.1 in /Users/yuliyagil/opt/anaconda3/lib/python3.8/site-packages (from requests>=2.24.0->pandas-profiling) (1.26.4)\n",
      "Requirement already satisfied: idna<3,>=2.5 in /Users/yuliyagil/opt/anaconda3/lib/python3.8/site-packages (from requests>=2.24.0->pandas-profiling) (2.10)\n",
      "Requirement already satisfied: chardet<5,>=3.0.2 in /Users/yuliyagil/opt/anaconda3/lib/python3.8/site-packages (from requests>=2.24.0->pandas-profiling) (4.0.0)\n",
      "Requirement already satisfied: certifi>=2017.4.17 in /Users/yuliyagil/opt/anaconda3/lib/python3.8/site-packages (from requests>=2.24.0->pandas-profiling) (2021.5.30)\n",
      "Requirement already satisfied: notebook>=4.4.1 in /Users/yuliyagil/opt/anaconda3/lib/python3.8/site-packages (from widgetsnbextension~=3.5.0->ipywidgets>=7.5.1->pandas-profiling) (6.4.0)\n",
      "Requirement already satisfied: argon2-cffi in /Users/yuliyagil/opt/anaconda3/lib/python3.8/site-packages (from notebook>=4.4.1->widgetsnbextension~=3.5.0->ipywidgets>=7.5.1->pandas-profiling) (20.1.0)\n",
      "Requirement already satisfied: Send2Trash>=1.5.0 in /Users/yuliyagil/opt/anaconda3/lib/python3.8/site-packages (from notebook>=4.4.1->widgetsnbextension~=3.5.0->ipywidgets>=7.5.1->pandas-profiling) (1.5.0)\n",
      "Requirement already satisfied: terminado>=0.8.3 in /Users/yuliyagil/opt/anaconda3/lib/python3.8/site-packages (from notebook>=4.4.1->widgetsnbextension~=3.5.0->ipywidgets>=7.5.1->pandas-profiling) (0.9.4)\n",
      "Requirement already satisfied: prometheus-client in /Users/yuliyagil/opt/anaconda3/lib/python3.8/site-packages (from notebook>=4.4.1->widgetsnbextension~=3.5.0->ipywidgets>=7.5.1->pandas-profiling) (0.11.0)\n",
      "Requirement already satisfied: nbconvert in /Users/yuliyagil/opt/anaconda3/lib/python3.8/site-packages (from notebook>=4.4.1->widgetsnbextension~=3.5.0->ipywidgets>=7.5.1->pandas-profiling) (6.0.7)\n",
      "Requirement already satisfied: pyzmq>=17 in /Users/yuliyagil/opt/anaconda3/lib/python3.8/site-packages (from notebook>=4.4.1->widgetsnbextension~=3.5.0->ipywidgets>=7.5.1->pandas-profiling) (20.0.0)\n",
      "Requirement already satisfied: cffi>=1.0.0 in /Users/yuliyagil/opt/anaconda3/lib/python3.8/site-packages (from argon2-cffi->notebook>=4.4.1->widgetsnbextension~=3.5.0->ipywidgets>=7.5.1->pandas-profiling) (1.14.5)\n",
      "Requirement already satisfied: pycparser in /Users/yuliyagil/opt/anaconda3/lib/python3.8/site-packages (from cffi>=1.0.0->argon2-cffi->notebook>=4.4.1->widgetsnbextension~=3.5.0->ipywidgets>=7.5.1->pandas-profiling) (2.20)\n",
      "Requirement already satisfied: PyWavelets in /Users/yuliyagil/opt/anaconda3/lib/python3.8/site-packages (from imagehash->visions[type_image_path]==0.6.0->pandas-profiling) (1.1.1)\n",
      "Requirement already satisfied: jupyterlab-pygments in /Users/yuliyagil/opt/anaconda3/lib/python3.8/site-packages (from nbconvert->notebook>=4.4.1->widgetsnbextension~=3.5.0->ipywidgets>=7.5.1->pandas-profiling) (0.1.2)\n",
      "Requirement already satisfied: mistune<2,>=0.8.1 in /Users/yuliyagil/opt/anaconda3/lib/python3.8/site-packages (from nbconvert->notebook>=4.4.1->widgetsnbextension~=3.5.0->ipywidgets>=7.5.1->pandas-profiling) (0.8.4)\n",
      "Requirement already satisfied: defusedxml in /Users/yuliyagil/opt/anaconda3/lib/python3.8/site-packages (from nbconvert->notebook>=4.4.1->widgetsnbextension~=3.5.0->ipywidgets>=7.5.1->pandas-profiling) (0.7.1)\n",
      "Requirement already satisfied: entrypoints>=0.2.2 in /Users/yuliyagil/opt/anaconda3/lib/python3.8/site-packages (from nbconvert->notebook>=4.4.1->widgetsnbextension~=3.5.0->ipywidgets>=7.5.1->pandas-profiling) (0.3)\n",
      "Requirement already satisfied: testpath in /Users/yuliyagil/opt/anaconda3/lib/python3.8/site-packages (from nbconvert->notebook>=4.4.1->widgetsnbextension~=3.5.0->ipywidgets>=7.5.1->pandas-profiling) (0.4.4)\n",
      "Requirement already satisfied: bleach in /Users/yuliyagil/opt/anaconda3/lib/python3.8/site-packages (from nbconvert->notebook>=4.4.1->widgetsnbextension~=3.5.0->ipywidgets>=7.5.1->pandas-profiling) (3.3.0)\n",
      "Requirement already satisfied: nbclient<0.6.0,>=0.5.0 in /Users/yuliyagil/opt/anaconda3/lib/python3.8/site-packages (from nbconvert->notebook>=4.4.1->widgetsnbextension~=3.5.0->ipywidgets>=7.5.1->pandas-profiling) (0.5.3)\n",
      "Requirement already satisfied: pandocfilters>=1.4.1 in /Users/yuliyagil/opt/anaconda3/lib/python3.8/site-packages (from nbconvert->notebook>=4.4.1->widgetsnbextension~=3.5.0->ipywidgets>=7.5.1->pandas-profiling) (1.4.3)\n",
      "Requirement already satisfied: nest-asyncio in /Users/yuliyagil/opt/anaconda3/lib/python3.8/site-packages (from nbclient<0.6.0,>=0.5.0->nbconvert->notebook>=4.4.1->widgetsnbextension~=3.5.0->ipywidgets>=7.5.1->pandas-profiling) (1.5.1)\n",
      "Requirement already satisfied: async-generator in /Users/yuliyagil/opt/anaconda3/lib/python3.8/site-packages (from nbclient<0.6.0,>=0.5.0->nbconvert->notebook>=4.4.1->widgetsnbextension~=3.5.0->ipywidgets>=7.5.1->pandas-profiling) (1.10)\n",
      "Requirement already satisfied: packaging in /Users/yuliyagil/opt/anaconda3/lib/python3.8/site-packages (from bleach->nbconvert->notebook>=4.4.1->widgetsnbextension~=3.5.0->ipywidgets>=7.5.1->pandas-profiling) (20.9)\n",
      "Requirement already satisfied: webencodings in /Users/yuliyagil/opt/anaconda3/lib/python3.8/site-packages (from bleach->nbconvert->notebook>=4.4.1->widgetsnbextension~=3.5.0->ipywidgets>=7.5.1->pandas-profiling) (0.5.1)\n",
      "Note: you may need to restart the kernel to use updated packages.\n"
     ]
    }
   ],
   "source": [
    "pip install pandas-profiling"
   ]
  },
  {
   "cell_type": "code",
   "execution_count": 3,
   "metadata": {
    "_cell_guid": "b1076dfc-b9ad-4769-8c92-a6c4dae69d19",
    "_uuid": "8f2839f25d086af736a60e9eeb907d3b93b6e0e5",
    "execution": {
     "iopub.execute_input": "2021-08-25T11:04:23.401994Z",
     "iopub.status.busy": "2021-08-25T11:04:23.400259Z",
     "iopub.status.idle": "2021-08-25T11:04:23.413459Z",
     "shell.execute_reply": "2021-08-25T11:04:23.411604Z",
     "shell.execute_reply.started": "2021-08-25T11:04:23.401937Z"
    },
    "papermill": {
     "duration": 1.219772,
     "end_time": "2020-10-26T12:46:42.581597",
     "exception": false,
     "start_time": "2020-10-26T12:46:41.361825",
     "status": "completed"
    },
    "tags": []
   },
   "outputs": [],
   "source": [
    "import numpy as np\n",
    "import pandas as pd\n",
    "import sys\n",
    "import re\n",
    "import seaborn as sns\n",
    "import matplotlib.pyplot as plt\n",
    "import warnings\n",
    "\n",
    "from pandas_profiling import ProfileReport\n",
    "from sklearn.model_selection import train_test_split\n",
    "from sklearn.model_selection import KFold\n",
    "from tqdm.notebook import tqdm\n",
    "from catboost import CatBoostRegressor\n",
    "from sklearn.preprocessing import LabelEncoder\n",
    "\n",
    "%matplotlib inline\n",
    "warnings.simplefilter('ignore')\n",
    "sns.set()"
   ]
  },
  {
   "cell_type": "code",
   "execution_count": 4,
   "metadata": {
    "_kg_hide-input": true,
    "execution": {
     "iopub.execute_input": "2021-08-25T11:04:23.417239Z",
     "iopub.status.busy": "2021-08-25T11:04:23.416559Z",
     "iopub.status.idle": "2021-08-25T11:04:23.433238Z",
     "shell.execute_reply": "2021-08-25T11:04:23.431761Z",
     "shell.execute_reply.started": "2021-08-25T11:04:23.417183Z"
    },
    "papermill": {
     "duration": 0.040034,
     "end_time": "2020-10-26T12:46:42.650603",
     "exception": false,
     "start_time": "2020-10-26T12:46:42.610569",
     "status": "completed"
    },
    "tags": []
   },
   "outputs": [
    {
     "name": "stdout",
     "output_type": "stream",
     "text": [
      "Python       : 3.8.10 (default, May 19 2021, 11:01:55) \n",
      "Numpy        : 1.19.1\n"
     ]
    }
   ],
   "source": [
    "print('Python       :', sys.version.split('\\n')[0])\n",
    "print('Numpy        :', np.__version__)"
   ]
  },
  {
   "cell_type": "code",
   "execution_count": 5,
   "metadata": {
    "_kg_hide-input": true,
    "execution": {
     "iopub.execute_input": "2021-08-25T11:04:23.436128Z",
     "iopub.status.busy": "2021-08-25T11:04:23.435535Z",
     "iopub.status.idle": "2021-08-25T11:04:25.598024Z",
     "shell.execute_reply": "2021-08-25T11:04:25.595679Z",
     "shell.execute_reply.started": "2021-08-25T11:04:23.436089Z"
    },
    "papermill": {
     "duration": 5.172536,
     "end_time": "2020-10-26T12:46:47.852593",
     "exception": false,
     "start_time": "2020-10-26T12:46:42.680057",
     "status": "completed"
    },
    "tags": []
   },
   "outputs": [],
   "source": [
    "# зафиксируем версию пакетов, чтобы эксперименты были воспроизводимы:\n",
    "!pip freeze > requirements.txt"
   ]
  },
  {
   "cell_type": "code",
   "execution_count": 6,
   "metadata": {
    "execution": {
     "iopub.execute_input": "2021-08-25T11:04:25.60077Z",
     "iopub.status.busy": "2021-08-25T11:04:25.600253Z",
     "iopub.status.idle": "2021-08-25T11:04:25.605541Z",
     "shell.execute_reply": "2021-08-25T11:04:25.604709Z",
     "shell.execute_reply.started": "2021-08-25T11:04:25.60071Z"
    },
    "papermill": {
     "duration": 0.039842,
     "end_time": "2020-10-26T12:46:47.922434",
     "exception": false,
     "start_time": "2020-10-26T12:46:47.882592",
     "status": "completed"
    },
    "tags": []
   },
   "outputs": [],
   "source": [
    "# всегда фиксируйте RANDOM_SEED, чтобы ваши эксперименты были воспроизводимы!\n",
    "RANDOM_SEED = 42"
   ]
  },
  {
   "cell_type": "markdown",
   "metadata": {},
   "source": [
    "## Functions"
   ]
  },
  {
   "cell_type": "code",
   "execution_count": 7,
   "metadata": {
    "_kg_hide-input": true,
    "execution": {
     "iopub.execute_input": "2021-08-25T11:04:25.607405Z",
     "iopub.status.busy": "2021-08-25T11:04:25.606972Z",
     "iopub.status.idle": "2021-08-25T11:04:25.62468Z",
     "shell.execute_reply": "2021-08-25T11:04:25.622999Z",
     "shell.execute_reply.started": "2021-08-25T11:04:25.607362Z"
    }
   },
   "outputs": [],
   "source": [
    "def mape(y_true, y_pred):\n",
    "    return np.mean(np.abs((y_pred-y_true)/y_true))"
   ]
  },
  {
   "cell_type": "markdown",
   "metadata": {
    "papermill": {
     "duration": 0.028837,
     "end_time": "2020-10-26T12:46:47.981435",
     "exception": false,
     "start_time": "2020-10-26T12:46:47.952598",
     "status": "completed"
    },
    "tags": []
   },
   "source": [
    "## Setup"
   ]
  },
  {
   "cell_type": "code",
   "execution_count": 8,
   "metadata": {
    "execution": {
     "iopub.execute_input": "2021-08-25T11:04:25.629321Z",
     "iopub.status.busy": "2021-08-25T11:04:25.628695Z",
     "iopub.status.idle": "2021-08-25T11:04:25.644386Z",
     "shell.execute_reply": "2021-08-25T11:04:25.641774Z",
     "shell.execute_reply.started": "2021-08-25T11:04:25.629265Z"
    },
    "papermill": {
     "duration": 0.039969,
     "end_time": "2020-10-26T12:46:48.052728",
     "exception": false,
     "start_time": "2020-10-26T12:46:48.012759",
     "status": "completed"
    },
    "tags": []
   },
   "outputs": [],
   "source": [
    "VERSION = 16\n",
    "# подключил к ноутбуку внешний датасет\n",
    "DIR_TRAIN = '../input/parsing-all-moscow-auto-ru-09-09-2020/'\n",
    "DIR_TEST = '../input/sf-dst-car-price-prediction/'\n",
    "VAL_SIZE = 0.20   # 20%"
   ]
  },
  {
   "cell_type": "markdown",
   "metadata": {
    "papermill": {
     "duration": 0.030254,
     "end_time": "2020-10-26T12:46:48.112586",
     "exception": false,
     "start_time": "2020-10-26T12:46:48.082332",
     "status": "completed"
    },
    "tags": []
   },
   "source": [
    "<a id=\"2\"></a>\n",
    "# 2. DATA & PRELIMINARY ANALYSIS"
   ]
  },
  {
   "cell_type": "markdown",
   "metadata": {},
   "source": [
    "## Data Storage"
   ]
  },
  {
   "cell_type": "code",
   "execution_count": 9,
   "metadata": {
    "execution": {
     "iopub.execute_input": "2021-08-25T11:04:25.647644Z",
     "iopub.status.busy": "2021-08-25T11:04:25.647068Z",
     "iopub.status.idle": "2021-08-25T11:04:26.416522Z",
     "shell.execute_reply": "2021-08-25T11:04:26.415025Z",
     "shell.execute_reply.started": "2021-08-25T11:04:25.647589Z"
    },
    "papermill": {
     "duration": 0.783211,
     "end_time": "2020-10-26T12:46:48.925418",
     "exception": false,
     "start_time": "2020-10-26T12:46:48.142207",
     "status": "completed"
    },
    "tags": []
   },
   "outputs": [
    {
     "name": "stdout",
     "output_type": "stream",
     "text": [
      "ls: ../input: No such file or directory\r\n"
     ]
    }
   ],
   "source": [
    "!ls '../input'"
   ]
  },
  {
   "cell_type": "code",
   "execution_count": 10,
   "metadata": {
    "_cell_guid": "79c7e3d0-c299-4dcb-8224-4455121ee9b0",
    "_uuid": "d629ff2d2480ee46fbb7e2d37f6b5fab8052498a",
    "execution": {
     "iopub.execute_input": "2021-08-25T11:04:26.419412Z",
     "iopub.status.busy": "2021-08-25T11:04:26.418986Z",
     "iopub.status.idle": "2021-08-25T11:04:32.223441Z",
     "shell.execute_reply": "2021-08-25T11:04:32.222029Z",
     "shell.execute_reply.started": "2021-08-25T11:04:26.419369Z"
    },
    "papermill": {
     "duration": 13.16556,
     "end_time": "2020-10-26T12:47:02.12133",
     "exception": false,
     "start_time": "2020-10-26T12:46:48.95577",
     "status": "completed"
    },
    "tags": []
   },
   "outputs": [
    {
     "data": {
      "text/plain": [
       "\" train = pd.read_csv(DIR_TRAIN+'all_auto_ru_09_09_2020.csv') # датасет для обучения модели\\ntest = pd.read_csv(DIR_TEST+'test.csv')\\nsample_submission = pd.read_csv(DIR_TEST+'sample_submission.csv')\""
      ]
     },
     "execution_count": 10,
     "metadata": {},
     "output_type": "execute_result"
    }
   ],
   "source": [
    "# Подключение с Kaggle\n",
    "\"\"\" train = pd.read_csv(DIR_TRAIN+'all_auto_ru_09_09_2020.csv') # датасет для обучения модели\n",
    "test = pd.read_csv(DIR_TEST+'test.csv')\n",
    "sample_submission = pd.read_csv(DIR_TEST+'sample_submission.csv')\"\"\""
   ]
  },
  {
   "cell_type": "code",
   "execution_count": 11,
   "metadata": {},
   "outputs": [],
   "source": [
    "# Подключение при работе в Jupyter/Github\n",
    "# подключение тестового train датасета\n",
    "train = pd.read_csv('all_auto_ru_09_09_2020.csv')\n",
    "#train2 = pd.read_csv('autoru_res.csv', sep=\",\")\n",
    "test = pd.read_csv('test.csv')\n",
    "sample_submission = pd.read_csv('sample_submission.csv')"
   ]
  },
  {
   "cell_type": "code",
   "execution_count": 12,
   "metadata": {},
   "outputs": [
    {
     "data": {
      "text/html": [
       "<div>\n",
       "<style scoped>\n",
       "    .dataframe tbody tr th:only-of-type {\n",
       "        vertical-align: middle;\n",
       "    }\n",
       "\n",
       "    .dataframe tbody tr th {\n",
       "        vertical-align: top;\n",
       "    }\n",
       "\n",
       "    .dataframe thead th {\n",
       "        text-align: right;\n",
       "    }\n",
       "</style>\n",
       "<table border=\"1\" class=\"dataframe\">\n",
       "  <thead>\n",
       "    <tr style=\"text-align: right;\">\n",
       "      <th></th>\n",
       "      <th>bodyType</th>\n",
       "      <th>brand</th>\n",
       "      <th>color</th>\n",
       "      <th>fuelType</th>\n",
       "      <th>modelDate</th>\n",
       "      <th>name</th>\n",
       "      <th>numberOfDoors</th>\n",
       "      <th>productionDate</th>\n",
       "      <th>vehicleConfiguration</th>\n",
       "      <th>vehicleTransmission</th>\n",
       "      <th>...</th>\n",
       "      <th>Руль</th>\n",
       "      <th>Состояние</th>\n",
       "      <th>Владельцы</th>\n",
       "      <th>ПТС</th>\n",
       "      <th>Таможня</th>\n",
       "      <th>Владение</th>\n",
       "      <th>price</th>\n",
       "      <th>start_date</th>\n",
       "      <th>hidden</th>\n",
       "      <th>model</th>\n",
       "    </tr>\n",
       "  </thead>\n",
       "  <tbody>\n",
       "    <tr>\n",
       "      <th>0</th>\n",
       "      <td>Седан</td>\n",
       "      <td>AUDI</td>\n",
       "      <td>040001</td>\n",
       "      <td>бензин</td>\n",
       "      <td>1990.0</td>\n",
       "      <td>2.8 MT (174 л.с.) 4WD</td>\n",
       "      <td>4.0</td>\n",
       "      <td>1991</td>\n",
       "      <td>SEDAN MECHANICAL 2.8</td>\n",
       "      <td>MECHANICAL</td>\n",
       "      <td>...</td>\n",
       "      <td>LEFT</td>\n",
       "      <td>NaN</td>\n",
       "      <td>3.0</td>\n",
       "      <td>ORIGINAL</td>\n",
       "      <td>True</td>\n",
       "      <td>NaN</td>\n",
       "      <td>200000.0</td>\n",
       "      <td>2019-10-03T08:09:11Z</td>\n",
       "      <td>NaN</td>\n",
       "      <td>100</td>\n",
       "    </tr>\n",
       "    <tr>\n",
       "      <th>1</th>\n",
       "      <td>Седан</td>\n",
       "      <td>AUDI</td>\n",
       "      <td>EE1D19</td>\n",
       "      <td>бензин</td>\n",
       "      <td>1982.0</td>\n",
       "      <td>1.8 MT (90 л.с.)</td>\n",
       "      <td>4.0</td>\n",
       "      <td>1986</td>\n",
       "      <td>SEDAN MECHANICAL 1.8</td>\n",
       "      <td>MECHANICAL</td>\n",
       "      <td>...</td>\n",
       "      <td>LEFT</td>\n",
       "      <td>NaN</td>\n",
       "      <td>3.0</td>\n",
       "      <td>ORIGINAL</td>\n",
       "      <td>True</td>\n",
       "      <td>NaN</td>\n",
       "      <td>60000.0</td>\n",
       "      <td>2020-09-06T06:49:40Z</td>\n",
       "      <td>NaN</td>\n",
       "      <td>100</td>\n",
       "    </tr>\n",
       "    <tr>\n",
       "      <th>2</th>\n",
       "      <td>Универсал 5 дв.</td>\n",
       "      <td>AUDI</td>\n",
       "      <td>0000CC</td>\n",
       "      <td>бензин</td>\n",
       "      <td>1988.0</td>\n",
       "      <td>2.3 MT (136 л.с.) 4WD</td>\n",
       "      <td>5.0</td>\n",
       "      <td>1989</td>\n",
       "      <td>WAGON_5_DOORS MECHANICAL 2.3</td>\n",
       "      <td>MECHANICAL</td>\n",
       "      <td>...</td>\n",
       "      <td>LEFT</td>\n",
       "      <td>NaN</td>\n",
       "      <td>3.0</td>\n",
       "      <td>ORIGINAL</td>\n",
       "      <td>True</td>\n",
       "      <td>NaN</td>\n",
       "      <td>99000.0</td>\n",
       "      <td>2020-09-02T14:04:21Z</td>\n",
       "      <td>NaN</td>\n",
       "      <td>100</td>\n",
       "    </tr>\n",
       "    <tr>\n",
       "      <th>3</th>\n",
       "      <td>Седан</td>\n",
       "      <td>AUDI</td>\n",
       "      <td>CACECB</td>\n",
       "      <td>бензин</td>\n",
       "      <td>1988.0</td>\n",
       "      <td>1.8 MT (90 л.с.)</td>\n",
       "      <td>4.0</td>\n",
       "      <td>1989</td>\n",
       "      <td>SEDAN MECHANICAL 1.8</td>\n",
       "      <td>MECHANICAL</td>\n",
       "      <td>...</td>\n",
       "      <td>LEFT</td>\n",
       "      <td>NaN</td>\n",
       "      <td>3.0</td>\n",
       "      <td>ORIGINAL</td>\n",
       "      <td>True</td>\n",
       "      <td>NaN</td>\n",
       "      <td>65000.0</td>\n",
       "      <td>2020-08-23T17:40:09Z</td>\n",
       "      <td>NaN</td>\n",
       "      <td>100</td>\n",
       "    </tr>\n",
       "    <tr>\n",
       "      <th>4</th>\n",
       "      <td>Седан</td>\n",
       "      <td>AUDI</td>\n",
       "      <td>040001</td>\n",
       "      <td>бензин</td>\n",
       "      <td>1990.0</td>\n",
       "      <td>2.0 MT (101 л.с.)</td>\n",
       "      <td>4.0</td>\n",
       "      <td>1991</td>\n",
       "      <td>SEDAN MECHANICAL 2.0</td>\n",
       "      <td>MECHANICAL</td>\n",
       "      <td>...</td>\n",
       "      <td>LEFT</td>\n",
       "      <td>NaN</td>\n",
       "      <td>3.0</td>\n",
       "      <td>DUPLICATE</td>\n",
       "      <td>True</td>\n",
       "      <td>NaN</td>\n",
       "      <td>100000.0</td>\n",
       "      <td>2020-09-08T09:22:07Z</td>\n",
       "      <td>NaN</td>\n",
       "      <td>100</td>\n",
       "    </tr>\n",
       "  </tbody>\n",
       "</table>\n",
       "<p>5 rows × 26 columns</p>\n",
       "</div>"
      ],
      "text/plain": [
       "          bodyType brand   color fuelType  modelDate                   name  \\\n",
       "0            Седан  AUDI  040001   бензин     1990.0  2.8 MT (174 л.с.) 4WD   \n",
       "1            Седан  AUDI  EE1D19   бензин     1982.0       1.8 MT (90 л.с.)   \n",
       "2  Универсал 5 дв.  AUDI  0000CC   бензин     1988.0  2.3 MT (136 л.с.) 4WD   \n",
       "3            Седан  AUDI  CACECB   бензин     1988.0       1.8 MT (90 л.с.)   \n",
       "4            Седан  AUDI  040001   бензин     1990.0      2.0 MT (101 л.с.)   \n",
       "\n",
       "   numberOfDoors  productionDate          vehicleConfiguration  \\\n",
       "0            4.0            1991          SEDAN MECHANICAL 2.8   \n",
       "1            4.0            1986          SEDAN MECHANICAL 1.8   \n",
       "2            5.0            1989  WAGON_5_DOORS MECHANICAL 2.3   \n",
       "3            4.0            1989          SEDAN MECHANICAL 1.8   \n",
       "4            4.0            1991          SEDAN MECHANICAL 2.0   \n",
       "\n",
       "  vehicleTransmission  ...  Руль  Состояние Владельцы        ПТС Таможня  \\\n",
       "0          MECHANICAL  ...  LEFT        NaN       3.0   ORIGINAL    True   \n",
       "1          MECHANICAL  ...  LEFT        NaN       3.0   ORIGINAL    True   \n",
       "2          MECHANICAL  ...  LEFT        NaN       3.0   ORIGINAL    True   \n",
       "3          MECHANICAL  ...  LEFT        NaN       3.0   ORIGINAL    True   \n",
       "4          MECHANICAL  ...  LEFT        NaN       3.0  DUPLICATE    True   \n",
       "\n",
       "  Владение     price            start_date  hidden model  \n",
       "0      NaN  200000.0  2019-10-03T08:09:11Z     NaN   100  \n",
       "1      NaN   60000.0  2020-09-06T06:49:40Z     NaN   100  \n",
       "2      NaN   99000.0  2020-09-02T14:04:21Z     NaN   100  \n",
       "3      NaN   65000.0  2020-08-23T17:40:09Z     NaN   100  \n",
       "4      NaN  100000.0  2020-09-08T09:22:07Z     NaN   100  \n",
       "\n",
       "[5 rows x 26 columns]"
      ]
     },
     "execution_count": 12,
     "metadata": {},
     "output_type": "execute_result"
    }
   ],
   "source": [
    "train.head()"
   ]
  },
  {
   "cell_type": "code",
   "execution_count": 13,
   "metadata": {},
   "outputs": [
    {
     "data": {
      "text/html": [
       "<div>\n",
       "<style scoped>\n",
       "    .dataframe tbody tr th:only-of-type {\n",
       "        vertical-align: middle;\n",
       "    }\n",
       "\n",
       "    .dataframe tbody tr th {\n",
       "        vertical-align: top;\n",
       "    }\n",
       "\n",
       "    .dataframe thead th {\n",
       "        text-align: right;\n",
       "    }\n",
       "</style>\n",
       "<table border=\"1\" class=\"dataframe\">\n",
       "  <thead>\n",
       "    <tr style=\"text-align: right;\">\n",
       "      <th></th>\n",
       "      <th>bodyType</th>\n",
       "      <th>brand</th>\n",
       "      <th>car_url</th>\n",
       "      <th>color</th>\n",
       "      <th>complectation_dict</th>\n",
       "      <th>description</th>\n",
       "      <th>engineDisplacement</th>\n",
       "      <th>enginePower</th>\n",
       "      <th>equipment_dict</th>\n",
       "      <th>fuelType</th>\n",
       "      <th>...</th>\n",
       "      <th>vehicleConfiguration</th>\n",
       "      <th>vehicleTransmission</th>\n",
       "      <th>vendor</th>\n",
       "      <th>Владельцы</th>\n",
       "      <th>Владение</th>\n",
       "      <th>ПТС</th>\n",
       "      <th>Привод</th>\n",
       "      <th>Руль</th>\n",
       "      <th>Состояние</th>\n",
       "      <th>Таможня</th>\n",
       "    </tr>\n",
       "  </thead>\n",
       "  <tbody>\n",
       "    <tr>\n",
       "      <th>0</th>\n",
       "      <td>лифтбек</td>\n",
       "      <td>SKODA</td>\n",
       "      <td>https://auto.ru/cars/used/sale/skoda/octavia/1...</td>\n",
       "      <td>синий</td>\n",
       "      <td>NaN</td>\n",
       "      <td>Все автомобили, представленные в продаже, прох...</td>\n",
       "      <td>1.2 LTR</td>\n",
       "      <td>105 N12</td>\n",
       "      <td>{\"engine-proof\":true,\"tinted-glass\":true,\"airb...</td>\n",
       "      <td>бензин</td>\n",
       "      <td>...</td>\n",
       "      <td>LIFTBACK ROBOT 1.2</td>\n",
       "      <td>роботизированная</td>\n",
       "      <td>EUROPEAN</td>\n",
       "      <td>3 или более</td>\n",
       "      <td>NaN</td>\n",
       "      <td>Оригинал</td>\n",
       "      <td>передний</td>\n",
       "      <td>Левый</td>\n",
       "      <td>Не требует ремонта</td>\n",
       "      <td>Растаможен</td>\n",
       "    </tr>\n",
       "    <tr>\n",
       "      <th>1</th>\n",
       "      <td>лифтбек</td>\n",
       "      <td>SKODA</td>\n",
       "      <td>https://auto.ru/cars/used/sale/skoda/octavia/1...</td>\n",
       "      <td>чёрный</td>\n",
       "      <td>NaN</td>\n",
       "      <td>ЛОТ: 01217195\\nАвтопрага Север\\nДанный автомоб...</td>\n",
       "      <td>1.6 LTR</td>\n",
       "      <td>110 N12</td>\n",
       "      <td>{\"cruise-control\":true,\"asr\":true,\"esp\":true,\"...</td>\n",
       "      <td>бензин</td>\n",
       "      <td>...</td>\n",
       "      <td>LIFTBACK MECHANICAL 1.6</td>\n",
       "      <td>механическая</td>\n",
       "      <td>EUROPEAN</td>\n",
       "      <td>1 владелец</td>\n",
       "      <td>NaN</td>\n",
       "      <td>Оригинал</td>\n",
       "      <td>передний</td>\n",
       "      <td>Левый</td>\n",
       "      <td>Не требует ремонта</td>\n",
       "      <td>Растаможен</td>\n",
       "    </tr>\n",
       "    <tr>\n",
       "      <th>2</th>\n",
       "      <td>лифтбек</td>\n",
       "      <td>SKODA</td>\n",
       "      <td>https://auto.ru/cars/used/sale/skoda/superb/11...</td>\n",
       "      <td>серый</td>\n",
       "      <td>{\"id\":\"20026336\",\"name\":\"Ambition\",\"available_...</td>\n",
       "      <td>Все автомобили, представленные в продаже, прох...</td>\n",
       "      <td>1.8 LTR</td>\n",
       "      <td>152 N12</td>\n",
       "      <td>{\"cruise-control\":true,\"tinted-glass\":true,\"es...</td>\n",
       "      <td>бензин</td>\n",
       "      <td>...</td>\n",
       "      <td>LIFTBACK ROBOT 1.8</td>\n",
       "      <td>роботизированная</td>\n",
       "      <td>EUROPEAN</td>\n",
       "      <td>1 владелец</td>\n",
       "      <td>NaN</td>\n",
       "      <td>Оригинал</td>\n",
       "      <td>передний</td>\n",
       "      <td>Левый</td>\n",
       "      <td>Не требует ремонта</td>\n",
       "      <td>Растаможен</td>\n",
       "    </tr>\n",
       "    <tr>\n",
       "      <th>3</th>\n",
       "      <td>лифтбек</td>\n",
       "      <td>SKODA</td>\n",
       "      <td>https://auto.ru/cars/used/sale/skoda/octavia/1...</td>\n",
       "      <td>коричневый</td>\n",
       "      <td>{\"id\":\"20803582\",\"name\":\"Ambition\",\"available_...</td>\n",
       "      <td>КОМПЛЕКТ ЗИМНЕЙ (ЛЕТНЕЙ) РЕЗИНЫ ПО СЕЗОНУ В ПО...</td>\n",
       "      <td>1.6 LTR</td>\n",
       "      <td>110 N12</td>\n",
       "      <td>{\"cruise-control\":true,\"roller-blind-for-rear-...</td>\n",
       "      <td>бензин</td>\n",
       "      <td>...</td>\n",
       "      <td>LIFTBACK AUTOMATIC 1.6</td>\n",
       "      <td>автоматическая</td>\n",
       "      <td>EUROPEAN</td>\n",
       "      <td>1 владелец</td>\n",
       "      <td>NaN</td>\n",
       "      <td>Оригинал</td>\n",
       "      <td>передний</td>\n",
       "      <td>Левый</td>\n",
       "      <td>Не требует ремонта</td>\n",
       "      <td>Растаможен</td>\n",
       "    </tr>\n",
       "    <tr>\n",
       "      <th>4</th>\n",
       "      <td>лифтбек</td>\n",
       "      <td>SKODA</td>\n",
       "      <td>https://auto.ru/cars/used/sale/skoda/octavia/1...</td>\n",
       "      <td>белый</td>\n",
       "      <td>NaN</td>\n",
       "      <td>ЛОТ: 01220889\\nАвтопрага Север\\n\\nВы можете по...</td>\n",
       "      <td>1.8 LTR</td>\n",
       "      <td>152 N12</td>\n",
       "      <td>{\"cruise-control\":true,\"asr\":true,\"esp\":true,\"...</td>\n",
       "      <td>бензин</td>\n",
       "      <td>...</td>\n",
       "      <td>LIFTBACK AUTOMATIC 1.8</td>\n",
       "      <td>автоматическая</td>\n",
       "      <td>EUROPEAN</td>\n",
       "      <td>1 владелец</td>\n",
       "      <td>NaN</td>\n",
       "      <td>Оригинал</td>\n",
       "      <td>передний</td>\n",
       "      <td>Левый</td>\n",
       "      <td>Не требует ремонта</td>\n",
       "      <td>Растаможен</td>\n",
       "    </tr>\n",
       "  </tbody>\n",
       "</table>\n",
       "<p>5 rows × 32 columns</p>\n",
       "</div>"
      ],
      "text/plain": [
       "  bodyType  brand                                            car_url  \\\n",
       "0  лифтбек  SKODA  https://auto.ru/cars/used/sale/skoda/octavia/1...   \n",
       "1  лифтбек  SKODA  https://auto.ru/cars/used/sale/skoda/octavia/1...   \n",
       "2  лифтбек  SKODA  https://auto.ru/cars/used/sale/skoda/superb/11...   \n",
       "3  лифтбек  SKODA  https://auto.ru/cars/used/sale/skoda/octavia/1...   \n",
       "4  лифтбек  SKODA  https://auto.ru/cars/used/sale/skoda/octavia/1...   \n",
       "\n",
       "        color                                 complectation_dict  \\\n",
       "0       синий                                                NaN   \n",
       "1      чёрный                                                NaN   \n",
       "2       серый  {\"id\":\"20026336\",\"name\":\"Ambition\",\"available_...   \n",
       "3  коричневый  {\"id\":\"20803582\",\"name\":\"Ambition\",\"available_...   \n",
       "4       белый                                                NaN   \n",
       "\n",
       "                                         description engineDisplacement  \\\n",
       "0  Все автомобили, представленные в продаже, прох...            1.2 LTR   \n",
       "1  ЛОТ: 01217195\\nАвтопрага Север\\nДанный автомоб...            1.6 LTR   \n",
       "2  Все автомобили, представленные в продаже, прох...            1.8 LTR   \n",
       "3  КОМПЛЕКТ ЗИМНЕЙ (ЛЕТНЕЙ) РЕЗИНЫ ПО СЕЗОНУ В ПО...            1.6 LTR   \n",
       "4  ЛОТ: 01220889\\nАвтопрага Север\\n\\nВы можете по...            1.8 LTR   \n",
       "\n",
       "  enginePower                                     equipment_dict fuelType  \\\n",
       "0     105 N12  {\"engine-proof\":true,\"tinted-glass\":true,\"airb...   бензин   \n",
       "1     110 N12  {\"cruise-control\":true,\"asr\":true,\"esp\":true,\"...   бензин   \n",
       "2     152 N12  {\"cruise-control\":true,\"tinted-glass\":true,\"es...   бензин   \n",
       "3     110 N12  {\"cruise-control\":true,\"roller-blind-for-rear-...   бензин   \n",
       "4     152 N12  {\"cruise-control\":true,\"asr\":true,\"esp\":true,\"...   бензин   \n",
       "\n",
       "   ...     vehicleConfiguration  vehicleTransmission    vendor    Владельцы  \\\n",
       "0  ...       LIFTBACK ROBOT 1.2     роботизированная  EUROPEAN  3 или более   \n",
       "1  ...  LIFTBACK MECHANICAL 1.6         механическая  EUROPEAN   1 владелец   \n",
       "2  ...       LIFTBACK ROBOT 1.8     роботизированная  EUROPEAN   1 владелец   \n",
       "3  ...   LIFTBACK AUTOMATIC 1.6       автоматическая  EUROPEAN   1 владелец   \n",
       "4  ...   LIFTBACK AUTOMATIC 1.8       автоматическая  EUROPEAN   1 владелец   \n",
       "\n",
       "  Владение       ПТС    Привод   Руль           Состояние     Таможня  \n",
       "0      NaN  Оригинал  передний  Левый  Не требует ремонта  Растаможен  \n",
       "1      NaN  Оригинал  передний  Левый  Не требует ремонта  Растаможен  \n",
       "2      NaN  Оригинал  передний  Левый  Не требует ремонта  Растаможен  \n",
       "3      NaN  Оригинал  передний  Левый  Не требует ремонта  Растаможен  \n",
       "4      NaN  Оригинал  передний  Левый  Не требует ремонта  Растаможен  \n",
       "\n",
       "[5 rows x 32 columns]"
      ]
     },
     "execution_count": 13,
     "metadata": {},
     "output_type": "execute_result"
    }
   ],
   "source": [
    "test.head()"
   ]
  },
  {
   "cell_type": "code",
   "execution_count": 14,
   "metadata": {
    "execution": {
     "iopub.execute_input": "2021-08-25T11:04:32.275268Z",
     "iopub.status.busy": "2021-08-25T11:04:32.274922Z",
     "iopub.status.idle": "2021-08-25T11:04:32.461351Z",
     "shell.execute_reply": "2021-08-25T11:04:32.459854Z",
     "shell.execute_reply.started": "2021-08-25T11:04:32.275216Z"
    },
    "papermill": {
     "duration": 0.22352,
     "end_time": "2020-10-26T12:47:02.502166",
     "exception": false,
     "start_time": "2020-10-26T12:47:02.278646",
     "status": "completed"
    },
    "tags": []
   },
   "outputs": [
    {
     "name": "stdout",
     "output_type": "stream",
     "text": [
      "<class 'pandas.core.frame.DataFrame'>\n",
      "RangeIndex: 89378 entries, 0 to 89377\n",
      "Data columns (total 26 columns):\n",
      " #   Column                Non-Null Count  Dtype  \n",
      "---  ------                --------------  -----  \n",
      " 0   bodyType              89377 non-null  object \n",
      " 1   brand                 89378 non-null  object \n",
      " 2   color                 89378 non-null  object \n",
      " 3   fuelType              89378 non-null  object \n",
      " 4   modelDate             89377 non-null  float64\n",
      " 5   name                  89377 non-null  object \n",
      " 6   numberOfDoors         89377 non-null  float64\n",
      " 7   productionDate        89378 non-null  int64  \n",
      " 8   vehicleConfiguration  89377 non-null  object \n",
      " 9   vehicleTransmission   89377 non-null  object \n",
      " 10  engineDisplacement    89377 non-null  object \n",
      " 11  enginePower           89377 non-null  float64\n",
      " 12  description           86124 non-null  object \n",
      " 13  mileage               89378 non-null  int64  \n",
      " 14  Комплектация          89378 non-null  object \n",
      " 15  Привод                89377 non-null  object \n",
      " 16  Руль                  89378 non-null  object \n",
      " 17  Состояние             0 non-null      float64\n",
      " 18  Владельцы             75790 non-null  float64\n",
      " 19  ПТС                   89017 non-null  object \n",
      " 20  Таможня               89378 non-null  bool   \n",
      " 21  Владение              29201 non-null  object \n",
      " 22  price                 88968 non-null  float64\n",
      " 23  start_date            89378 non-null  object \n",
      " 24  hidden                0 non-null      float64\n",
      " 25  model                 89378 non-null  object \n",
      "dtypes: bool(1), float64(7), int64(2), object(16)\n",
      "memory usage: 17.1+ MB\n"
     ]
    }
   ],
   "source": [
    "train.info()"
   ]
  },
  {
   "cell_type": "code",
   "execution_count": 15,
   "metadata": {
    "execution": {
     "iopub.execute_input": "2021-08-25T11:04:32.463343Z",
     "iopub.status.busy": "2021-08-25T11:04:32.462975Z",
     "iopub.status.idle": "2021-08-25T11:04:32.496176Z",
     "shell.execute_reply": "2021-08-25T11:04:32.494517Z",
     "shell.execute_reply.started": "2021-08-25T11:04:32.463307Z"
    },
    "papermill": {
     "duration": 0.069985,
     "end_time": "2020-10-26T12:47:02.604497",
     "exception": false,
     "start_time": "2020-10-26T12:47:02.534512",
     "status": "completed"
    },
    "tags": []
   },
   "outputs": [
    {
     "data": {
      "text/html": [
       "<div>\n",
       "<style scoped>\n",
       "    .dataframe tbody tr th:only-of-type {\n",
       "        vertical-align: middle;\n",
       "    }\n",
       "\n",
       "    .dataframe tbody tr th {\n",
       "        vertical-align: top;\n",
       "    }\n",
       "\n",
       "    .dataframe thead th {\n",
       "        text-align: right;\n",
       "    }\n",
       "</style>\n",
       "<table border=\"1\" class=\"dataframe\">\n",
       "  <thead>\n",
       "    <tr style=\"text-align: right;\">\n",
       "      <th></th>\n",
       "      <th>bodyType</th>\n",
       "      <th>brand</th>\n",
       "      <th>car_url</th>\n",
       "      <th>color</th>\n",
       "      <th>complectation_dict</th>\n",
       "      <th>description</th>\n",
       "      <th>engineDisplacement</th>\n",
       "      <th>enginePower</th>\n",
       "      <th>equipment_dict</th>\n",
       "      <th>fuelType</th>\n",
       "      <th>...</th>\n",
       "      <th>vehicleConfiguration</th>\n",
       "      <th>vehicleTransmission</th>\n",
       "      <th>vendor</th>\n",
       "      <th>Владельцы</th>\n",
       "      <th>Владение</th>\n",
       "      <th>ПТС</th>\n",
       "      <th>Привод</th>\n",
       "      <th>Руль</th>\n",
       "      <th>Состояние</th>\n",
       "      <th>Таможня</th>\n",
       "    </tr>\n",
       "  </thead>\n",
       "  <tbody>\n",
       "    <tr>\n",
       "      <th>0</th>\n",
       "      <td>лифтбек</td>\n",
       "      <td>SKODA</td>\n",
       "      <td>https://auto.ru/cars/used/sale/skoda/octavia/1...</td>\n",
       "      <td>синий</td>\n",
       "      <td>NaN</td>\n",
       "      <td>Все автомобили, представленные в продаже, прох...</td>\n",
       "      <td>1.2 LTR</td>\n",
       "      <td>105 N12</td>\n",
       "      <td>{\"engine-proof\":true,\"tinted-glass\":true,\"airb...</td>\n",
       "      <td>бензин</td>\n",
       "      <td>...</td>\n",
       "      <td>LIFTBACK ROBOT 1.2</td>\n",
       "      <td>роботизированная</td>\n",
       "      <td>EUROPEAN</td>\n",
       "      <td>3 или более</td>\n",
       "      <td>NaN</td>\n",
       "      <td>Оригинал</td>\n",
       "      <td>передний</td>\n",
       "      <td>Левый</td>\n",
       "      <td>Не требует ремонта</td>\n",
       "      <td>Растаможен</td>\n",
       "    </tr>\n",
       "    <tr>\n",
       "      <th>1</th>\n",
       "      <td>лифтбек</td>\n",
       "      <td>SKODA</td>\n",
       "      <td>https://auto.ru/cars/used/sale/skoda/octavia/1...</td>\n",
       "      <td>чёрный</td>\n",
       "      <td>NaN</td>\n",
       "      <td>ЛОТ: 01217195\\nАвтопрага Север\\nДанный автомоб...</td>\n",
       "      <td>1.6 LTR</td>\n",
       "      <td>110 N12</td>\n",
       "      <td>{\"cruise-control\":true,\"asr\":true,\"esp\":true,\"...</td>\n",
       "      <td>бензин</td>\n",
       "      <td>...</td>\n",
       "      <td>LIFTBACK MECHANICAL 1.6</td>\n",
       "      <td>механическая</td>\n",
       "      <td>EUROPEAN</td>\n",
       "      <td>1 владелец</td>\n",
       "      <td>NaN</td>\n",
       "      <td>Оригинал</td>\n",
       "      <td>передний</td>\n",
       "      <td>Левый</td>\n",
       "      <td>Не требует ремонта</td>\n",
       "      <td>Растаможен</td>\n",
       "    </tr>\n",
       "    <tr>\n",
       "      <th>2</th>\n",
       "      <td>лифтбек</td>\n",
       "      <td>SKODA</td>\n",
       "      <td>https://auto.ru/cars/used/sale/skoda/superb/11...</td>\n",
       "      <td>серый</td>\n",
       "      <td>{\"id\":\"20026336\",\"name\":\"Ambition\",\"available_...</td>\n",
       "      <td>Все автомобили, представленные в продаже, прох...</td>\n",
       "      <td>1.8 LTR</td>\n",
       "      <td>152 N12</td>\n",
       "      <td>{\"cruise-control\":true,\"tinted-glass\":true,\"es...</td>\n",
       "      <td>бензин</td>\n",
       "      <td>...</td>\n",
       "      <td>LIFTBACK ROBOT 1.8</td>\n",
       "      <td>роботизированная</td>\n",
       "      <td>EUROPEAN</td>\n",
       "      <td>1 владелец</td>\n",
       "      <td>NaN</td>\n",
       "      <td>Оригинал</td>\n",
       "      <td>передний</td>\n",
       "      <td>Левый</td>\n",
       "      <td>Не требует ремонта</td>\n",
       "      <td>Растаможен</td>\n",
       "    </tr>\n",
       "    <tr>\n",
       "      <th>3</th>\n",
       "      <td>лифтбек</td>\n",
       "      <td>SKODA</td>\n",
       "      <td>https://auto.ru/cars/used/sale/skoda/octavia/1...</td>\n",
       "      <td>коричневый</td>\n",
       "      <td>{\"id\":\"20803582\",\"name\":\"Ambition\",\"available_...</td>\n",
       "      <td>КОМПЛЕКТ ЗИМНЕЙ (ЛЕТНЕЙ) РЕЗИНЫ ПО СЕЗОНУ В ПО...</td>\n",
       "      <td>1.6 LTR</td>\n",
       "      <td>110 N12</td>\n",
       "      <td>{\"cruise-control\":true,\"roller-blind-for-rear-...</td>\n",
       "      <td>бензин</td>\n",
       "      <td>...</td>\n",
       "      <td>LIFTBACK AUTOMATIC 1.6</td>\n",
       "      <td>автоматическая</td>\n",
       "      <td>EUROPEAN</td>\n",
       "      <td>1 владелец</td>\n",
       "      <td>NaN</td>\n",
       "      <td>Оригинал</td>\n",
       "      <td>передний</td>\n",
       "      <td>Левый</td>\n",
       "      <td>Не требует ремонта</td>\n",
       "      <td>Растаможен</td>\n",
       "    </tr>\n",
       "    <tr>\n",
       "      <th>4</th>\n",
       "      <td>лифтбек</td>\n",
       "      <td>SKODA</td>\n",
       "      <td>https://auto.ru/cars/used/sale/skoda/octavia/1...</td>\n",
       "      <td>белый</td>\n",
       "      <td>NaN</td>\n",
       "      <td>ЛОТ: 01220889\\nАвтопрага Север\\n\\nВы можете по...</td>\n",
       "      <td>1.8 LTR</td>\n",
       "      <td>152 N12</td>\n",
       "      <td>{\"cruise-control\":true,\"asr\":true,\"esp\":true,\"...</td>\n",
       "      <td>бензин</td>\n",
       "      <td>...</td>\n",
       "      <td>LIFTBACK AUTOMATIC 1.8</td>\n",
       "      <td>автоматическая</td>\n",
       "      <td>EUROPEAN</td>\n",
       "      <td>1 владелец</td>\n",
       "      <td>NaN</td>\n",
       "      <td>Оригинал</td>\n",
       "      <td>передний</td>\n",
       "      <td>Левый</td>\n",
       "      <td>Не требует ремонта</td>\n",
       "      <td>Растаможен</td>\n",
       "    </tr>\n",
       "  </tbody>\n",
       "</table>\n",
       "<p>5 rows × 32 columns</p>\n",
       "</div>"
      ],
      "text/plain": [
       "  bodyType  brand                                            car_url  \\\n",
       "0  лифтбек  SKODA  https://auto.ru/cars/used/sale/skoda/octavia/1...   \n",
       "1  лифтбек  SKODA  https://auto.ru/cars/used/sale/skoda/octavia/1...   \n",
       "2  лифтбек  SKODA  https://auto.ru/cars/used/sale/skoda/superb/11...   \n",
       "3  лифтбек  SKODA  https://auto.ru/cars/used/sale/skoda/octavia/1...   \n",
       "4  лифтбек  SKODA  https://auto.ru/cars/used/sale/skoda/octavia/1...   \n",
       "\n",
       "        color                                 complectation_dict  \\\n",
       "0       синий                                                NaN   \n",
       "1      чёрный                                                NaN   \n",
       "2       серый  {\"id\":\"20026336\",\"name\":\"Ambition\",\"available_...   \n",
       "3  коричневый  {\"id\":\"20803582\",\"name\":\"Ambition\",\"available_...   \n",
       "4       белый                                                NaN   \n",
       "\n",
       "                                         description engineDisplacement  \\\n",
       "0  Все автомобили, представленные в продаже, прох...            1.2 LTR   \n",
       "1  ЛОТ: 01217195\\nАвтопрага Север\\nДанный автомоб...            1.6 LTR   \n",
       "2  Все автомобили, представленные в продаже, прох...            1.8 LTR   \n",
       "3  КОМПЛЕКТ ЗИМНЕЙ (ЛЕТНЕЙ) РЕЗИНЫ ПО СЕЗОНУ В ПО...            1.6 LTR   \n",
       "4  ЛОТ: 01220889\\nАвтопрага Север\\n\\nВы можете по...            1.8 LTR   \n",
       "\n",
       "  enginePower                                     equipment_dict fuelType  \\\n",
       "0     105 N12  {\"engine-proof\":true,\"tinted-glass\":true,\"airb...   бензин   \n",
       "1     110 N12  {\"cruise-control\":true,\"asr\":true,\"esp\":true,\"...   бензин   \n",
       "2     152 N12  {\"cruise-control\":true,\"tinted-glass\":true,\"es...   бензин   \n",
       "3     110 N12  {\"cruise-control\":true,\"roller-blind-for-rear-...   бензин   \n",
       "4     152 N12  {\"cruise-control\":true,\"asr\":true,\"esp\":true,\"...   бензин   \n",
       "\n",
       "   ...     vehicleConfiguration  vehicleTransmission    vendor    Владельцы  \\\n",
       "0  ...       LIFTBACK ROBOT 1.2     роботизированная  EUROPEAN  3 или более   \n",
       "1  ...  LIFTBACK MECHANICAL 1.6         механическая  EUROPEAN   1 владелец   \n",
       "2  ...       LIFTBACK ROBOT 1.8     роботизированная  EUROPEAN   1 владелец   \n",
       "3  ...   LIFTBACK AUTOMATIC 1.6       автоматическая  EUROPEAN   1 владелец   \n",
       "4  ...   LIFTBACK AUTOMATIC 1.8       автоматическая  EUROPEAN   1 владелец   \n",
       "\n",
       "  Владение       ПТС    Привод   Руль           Состояние     Таможня  \n",
       "0      NaN  Оригинал  передний  Левый  Не требует ремонта  Растаможен  \n",
       "1      NaN  Оригинал  передний  Левый  Не требует ремонта  Растаможен  \n",
       "2      NaN  Оригинал  передний  Левый  Не требует ремонта  Растаможен  \n",
       "3      NaN  Оригинал  передний  Левый  Не требует ремонта  Растаможен  \n",
       "4      NaN  Оригинал  передний  Левый  Не требует ремонта  Растаможен  \n",
       "\n",
       "[5 rows x 32 columns]"
      ]
     },
     "execution_count": 15,
     "metadata": {},
     "output_type": "execute_result"
    }
   ],
   "source": [
    "test.head(5)"
   ]
  },
  {
   "cell_type": "code",
   "execution_count": 16,
   "metadata": {
    "execution": {
     "iopub.execute_input": "2021-08-25T11:04:32.498456Z",
     "iopub.status.busy": "2021-08-25T11:04:32.49808Z",
     "iopub.status.idle": "2021-08-25T11:04:32.618252Z",
     "shell.execute_reply": "2021-08-25T11:04:32.617117Z",
     "shell.execute_reply.started": "2021-08-25T11:04:32.498408Z"
    },
    "papermill": {
     "duration": 0.160401,
     "end_time": "2020-10-26T12:47:02.798587",
     "exception": false,
     "start_time": "2020-10-26T12:47:02.638186",
     "status": "completed"
    },
    "tags": []
   },
   "outputs": [
    {
     "name": "stdout",
     "output_type": "stream",
     "text": [
      "<class 'pandas.core.frame.DataFrame'>\n",
      "RangeIndex: 34686 entries, 0 to 34685\n",
      "Data columns (total 32 columns):\n",
      " #   Column                Non-Null Count  Dtype \n",
      "---  ------                --------------  ----- \n",
      " 0   bodyType              34686 non-null  object\n",
      " 1   brand                 34686 non-null  object\n",
      " 2   car_url               34686 non-null  object\n",
      " 3   color                 34686 non-null  object\n",
      " 4   complectation_dict    6418 non-null   object\n",
      " 5   description           34686 non-null  object\n",
      " 6   engineDisplacement    34686 non-null  object\n",
      " 7   enginePower           34686 non-null  object\n",
      " 8   equipment_dict        24690 non-null  object\n",
      " 9   fuelType              34686 non-null  object\n",
      " 10  image                 34686 non-null  object\n",
      " 11  mileage               34686 non-null  int64 \n",
      " 12  modelDate             34686 non-null  int64 \n",
      " 13  model_info            34686 non-null  object\n",
      " 14  model_name            34686 non-null  object\n",
      " 15  name                  34686 non-null  object\n",
      " 16  numberOfDoors         34686 non-null  int64 \n",
      " 17  parsing_unixtime      34686 non-null  int64 \n",
      " 18  priceCurrency         34686 non-null  object\n",
      " 19  productionDate        34686 non-null  int64 \n",
      " 20  sell_id               34686 non-null  int64 \n",
      " 21  super_gen             34686 non-null  object\n",
      " 22  vehicleConfiguration  34686 non-null  object\n",
      " 23  vehicleTransmission   34686 non-null  object\n",
      " 24  vendor                34686 non-null  object\n",
      " 25  Владельцы             34686 non-null  object\n",
      " 26  Владение              11995 non-null  object\n",
      " 27  ПТС                   34685 non-null  object\n",
      " 28  Привод                34686 non-null  object\n",
      " 29  Руль                  34686 non-null  object\n",
      " 30  Состояние             34686 non-null  object\n",
      " 31  Таможня               34686 non-null  object\n",
      "dtypes: int64(6), object(26)\n",
      "memory usage: 8.5+ MB\n"
     ]
    }
   ],
   "source": [
    "test.info()"
   ]
  },
  {
   "cell_type": "markdown",
   "metadata": {},
   "source": [
    "## Web Data Extracting (auto.ru)"
   ]
  },
  {
   "cell_type": "markdown",
   "metadata": {},
   "source": [
    "Посмотрим на список колонок, которые есть в test, но нет в подключенном train."
   ]
  },
  {
   "cell_type": "code",
   "execution_count": 17,
   "metadata": {
    "execution": {
     "iopub.execute_input": "2021-08-25T11:04:32.620167Z",
     "iopub.status.busy": "2021-08-25T11:04:32.619832Z",
     "iopub.status.idle": "2021-08-25T11:04:32.65548Z",
     "shell.execute_reply": "2021-08-25T11:04:32.654553Z",
     "shell.execute_reply.started": "2021-08-25T11:04:32.620131Z"
    }
   },
   "outputs": [
    {
     "name": "stdout",
     "output_type": "stream",
     "text": [
      "Список колонок, которых нет в train, но есть в test: ['model_info', 'parsing_unixtime', 'priceCurrency', 'model_name', 'car_url', 'sell_id', 'vendor', 'super_gen', 'complectation_dict', 'image', 'equipment_dict']\n"
     ]
    },
    {
     "data": {
      "text/html": [
       "<div>\n",
       "<style scoped>\n",
       "    .dataframe tbody tr th:only-of-type {\n",
       "        vertical-align: middle;\n",
       "    }\n",
       "\n",
       "    .dataframe tbody tr th {\n",
       "        vertical-align: top;\n",
       "    }\n",
       "\n",
       "    .dataframe thead th {\n",
       "        text-align: right;\n",
       "    }\n",
       "</style>\n",
       "<table border=\"1\" class=\"dataframe\">\n",
       "  <thead>\n",
       "    <tr style=\"text-align: right;\">\n",
       "      <th></th>\n",
       "      <th>model_info</th>\n",
       "      <th>parsing_unixtime</th>\n",
       "      <th>priceCurrency</th>\n",
       "      <th>model_name</th>\n",
       "      <th>car_url</th>\n",
       "      <th>sell_id</th>\n",
       "      <th>vendor</th>\n",
       "      <th>super_gen</th>\n",
       "      <th>complectation_dict</th>\n",
       "      <th>image</th>\n",
       "      <th>equipment_dict</th>\n",
       "    </tr>\n",
       "  </thead>\n",
       "  <tbody>\n",
       "    <tr>\n",
       "      <th>33656</th>\n",
       "      <td>{\"code\":\"X4\",\"name\":\"X4\",\"ru_name\":\"Х4\",\"morph...</td>\n",
       "      <td>1603643974</td>\n",
       "      <td>RUB</td>\n",
       "      <td>X4</td>\n",
       "      <td>https://auto.ru/cars/used/sale/bmw/x4/11013623...</td>\n",
       "      <td>1101362347</td>\n",
       "      <td>EUROPEAN</td>\n",
       "      <td>{\"id\":\"21204195\",\"name\":\"20d\",\"nameplate\":\"20d...</td>\n",
       "      <td>NaN</td>\n",
       "      <td>https://autoru.naydex.net/FwiuJ8975/366aceFl8F...</td>\n",
       "      <td>{\"cruise-control\":true,\"asr\":true,\"tinted-glas...</td>\n",
       "    </tr>\n",
       "    <tr>\n",
       "      <th>19753</th>\n",
       "      <td>{\"code\":\"HARRIER\",\"name\":\"Harrier\",\"ru_name\":\"...</td>\n",
       "      <td>1603289111</td>\n",
       "      <td>RUB</td>\n",
       "      <td>HARRIER</td>\n",
       "      <td>https://auto.ru/cars/used/sale/toyota/harrier/...</td>\n",
       "      <td>1099762884</td>\n",
       "      <td>JAPANESE</td>\n",
       "      <td>{\"id\":\"8305254\",\"displacement\":2362,\"engine_ty...</td>\n",
       "      <td>NaN</td>\n",
       "      <td>https://autoru.naydex.net/LxPU17803/f5b8d77S/u...</td>\n",
       "      <td>{\"adaptive-light\":true,\"airbag-driver\":true,\"u...</td>\n",
       "    </tr>\n",
       "    <tr>\n",
       "      <th>33054</th>\n",
       "      <td>{\"code\":\"BLUEBIRD\",\"name\":\"Bluebird\",\"ru_name\"...</td>\n",
       "      <td>1603610368</td>\n",
       "      <td>RUB</td>\n",
       "      <td>BLUEBIRD</td>\n",
       "      <td>https://auto.ru/cars/used/sale/nissan/bluebird...</td>\n",
       "      <td>1099796722</td>\n",
       "      <td>JAPANESE</td>\n",
       "      <td>{\"id\":\"20395468\",\"displacement\":1769,\"engine_t...</td>\n",
       "      <td>NaN</td>\n",
       "      <td>https://autoru.naydex.net/1xsMU7627/eea2057RFg...</td>\n",
       "      <td>{\"electro-window-back\":true,\"alloy-wheel-disks...</td>\n",
       "    </tr>\n",
       "  </tbody>\n",
       "</table>\n",
       "</div>"
      ],
      "text/plain": [
       "                                              model_info  parsing_unixtime  \\\n",
       "33656  {\"code\":\"X4\",\"name\":\"X4\",\"ru_name\":\"Х4\",\"morph...        1603643974   \n",
       "19753  {\"code\":\"HARRIER\",\"name\":\"Harrier\",\"ru_name\":\"...        1603289111   \n",
       "33054  {\"code\":\"BLUEBIRD\",\"name\":\"Bluebird\",\"ru_name\"...        1603610368   \n",
       "\n",
       "      priceCurrency model_name  \\\n",
       "33656           RUB         X4   \n",
       "19753           RUB    HARRIER   \n",
       "33054           RUB   BLUEBIRD   \n",
       "\n",
       "                                                 car_url     sell_id  \\\n",
       "33656  https://auto.ru/cars/used/sale/bmw/x4/11013623...  1101362347   \n",
       "19753  https://auto.ru/cars/used/sale/toyota/harrier/...  1099762884   \n",
       "33054  https://auto.ru/cars/used/sale/nissan/bluebird...  1099796722   \n",
       "\n",
       "         vendor                                          super_gen  \\\n",
       "33656  EUROPEAN  {\"id\":\"21204195\",\"name\":\"20d\",\"nameplate\":\"20d...   \n",
       "19753  JAPANESE  {\"id\":\"8305254\",\"displacement\":2362,\"engine_ty...   \n",
       "33054  JAPANESE  {\"id\":\"20395468\",\"displacement\":1769,\"engine_t...   \n",
       "\n",
       "      complectation_dict                                              image  \\\n",
       "33656                NaN  https://autoru.naydex.net/FwiuJ8975/366aceFl8F...   \n",
       "19753                NaN  https://autoru.naydex.net/LxPU17803/f5b8d77S/u...   \n",
       "33054                NaN  https://autoru.naydex.net/1xsMU7627/eea2057RFg...   \n",
       "\n",
       "                                          equipment_dict  \n",
       "33656  {\"cruise-control\":true,\"asr\":true,\"tinted-glas...  \n",
       "19753  {\"adaptive-light\":true,\"airbag-driver\":true,\"u...  \n",
       "33054  {\"electro-window-back\":true,\"alloy-wheel-disks...  "
      ]
     },
     "execution_count": 17,
     "metadata": {},
     "output_type": "execute_result"
    }
   ],
   "source": [
    "# Список колонок, которых нет в train\n",
    "dif_list = list(set(test.columns).difference(train.columns))\n",
    "print(\"Список колонок, которых нет в train, но есть в test:\", dif_list)\n",
    "\n",
    "# Посмотрим на данные в этих колонках\n",
    "test[dif_list].sample(3)"
   ]
  },
  {
   "cell_type": "code",
   "execution_count": 18,
   "metadata": {
    "execution": {
     "iopub.execute_input": "2021-08-25T11:04:32.657295Z",
     "iopub.status.busy": "2021-08-25T11:04:32.656787Z",
     "iopub.status.idle": "2021-08-25T11:04:32.796494Z",
     "shell.execute_reply": "2021-08-25T11:04:32.794988Z",
     "shell.execute_reply.started": "2021-08-25T11:04:32.65725Z"
    }
   },
   "outputs": [
    {
     "name": "stdout",
     "output_type": "stream",
     "text": [
      "model_info 954\n",
      "parsing_unixtime 34686\n",
      "priceCurrency 1\n",
      "model_name 544\n",
      "car_url 34686\n",
      "sell_id 34686\n",
      "vendor 2\n",
      "super_gen 5890\n",
      "complectation_dict 2364\n",
      "image 34557\n",
      "equipment_dict 23705\n"
     ]
    }
   ],
   "source": [
    "# Посмотрим на колическтво уникальных значений\n",
    "for item in dif_list:\n",
    "    print(item, test[item].nunique())"
   ]
  },
  {
   "cell_type": "markdown",
   "metadata": {},
   "source": [
    "Выводы:\n",
    "1. Из информации car_url видим, что данные собирались с сайта auto.ru, будем парсить данные оттуда\n",
    "2. Следующие поля из test можно не парсить и удалить далее при анализе, т.к. они уникальны для каждой записи: car_url и priceCurrency, т.к. всего одно значение (RUB). Car_url оставим, чтоб можно было посмотреть информацию о машине.\n",
    "3. Ограничимся для начала двумя вендорами: EUROPEAN, JAPANESE\n",
    "4. Цену автомобиля собираем в RUB\n",
    "5. Собираем информацию по полям: 'bodyType', 'brand', 'car_url', 'color', 'complectation_dict', 'description', 'engineDisplacement', 'enginePower', 'equipment_dict','fuelType', 'image', 'mileage', 'modelDate', 'model_info', 'model_name','name', 'numberOfDoors', 'parsing_unixtime', 'priceCurrency','productionDate', 'sell_id', 'super_gen', 'vehicleConfiguration','vehicleTransmission', 'vendor', 'Владельцы', 'Владение', 'ПТС','Привод', 'Руль', 'Состояние', 'Таможня', 'sample', 'price'"
   ]
  },
  {
   "cell_type": "markdown",
   "metadata": {
    "papermill": {
     "duration": 0.033402,
     "end_time": "2020-10-26T12:47:02.866506",
     "exception": false,
     "start_time": "2020-10-26T12:47:02.833104",
     "status": "completed"
    },
    "tags": []
   },
   "source": [
    "# 3. EDA & Basic Data Cleaning\n",
    "\n",
    "Проведем анализ данных, сделаем базовый препроцессинг данных.\n",
    "\n",
    "### 3.1 Переименуем колонки с кириллицы на латиницу"
   ]
  },
  {
   "cell_type": "code",
   "execution_count": 19,
   "metadata": {
    "execution": {
     "iopub.execute_input": "2021-08-25T11:04:32.798976Z",
     "iopub.status.busy": "2021-08-25T11:04:32.798607Z",
     "iopub.status.idle": "2021-08-25T11:04:32.847146Z",
     "shell.execute_reply": "2021-08-25T11:04:32.84561Z",
     "shell.execute_reply.started": "2021-08-25T11:04:32.798941Z"
    }
   },
   "outputs": [],
   "source": [
    "# Переименуем test  колонки\n",
    "test.rename(columns={\"Привод\": \"drivetrain\",\n",
    "                     \"Руль\": \"driveSide\",\n",
    "                     \"Состояние\": \"condition\",\n",
    "                     \"Владельцы\": \"ownersCount\",\n",
    "                     \"ПТС\": \"tcp\",\n",
    "                     \"Таможня\": \"customs\",\n",
    "                     \"Владение\": \"ownershipTime\",\n",
    "                     \"model_name\": \"model\"}, inplace=True)\n",
    "\n",
    "# Переименуем train  колонки\n",
    "train.rename(columns={\"Привод\": \"drivetrain\",\n",
    "                      \"Руль\": \"driveSide\",\n",
    "                      \"Состояние\": \"condition\",\n",
    "                      \"Владельцы\": \"ownersCount\",\n",
    "                      \"ПТС\": \"tcp\",\n",
    "                      \"Таможня\": \"customs\",\n",
    "                      \"Владение\": \"ownershipTime\"}, inplace=True)"
   ]
  },
  {
   "cell_type": "markdown",
   "metadata": {},
   "source": [
    "### 3.2 Предварительный анализ test данных\n",
    "\n",
    "Посмотрим на данные в test, которые нужно предсказывать, на особенности данных."
   ]
  },
  {
   "cell_type": "code",
   "execution_count": 20,
   "metadata": {},
   "outputs": [],
   "source": [
    "#ProfileReport(test, title=\"Pandas Profiling Report for Test Dataset\")"
   ]
  },
  {
   "cell_type": "markdown",
   "metadata": {},
   "source": [
    "Выводы: во время последующего сбора данных и анализа обратить внимание на:\n",
    "1. Есть пропуски в test данных - нужно попробовать заполнить\n",
    "2. Представлено всего 12 брендов автомобилей\n",
    "3. Признаки, которые выглядят бесполезными для моделирования - car_url (уникальный для каждой записи), priceCurrencly (одинаковый у всех)\n",
    "4. Необходимо разобраться с признаками complectation_dict, description, equipment_dict, model_info, super_gen - посмотреть, можно ли извлечь доп. признаки\n",
    "5. Condition - у всех \"хорошее состояние\", обратить внимание, если в train будут записи и другим состоянием, может влиять на выбросы по цене.\n",
    "6. Customs - у всех \"растоможетн\", обратить внимание, если в train будут записи и другим состоянием, может влиять на выбросы по цене."
   ]
  },
  {
   "cell_type": "markdown",
   "metadata": {},
   "source": [
    "### 3.3 Сравним типы данных в test и train\n",
    "\n",
    "Найдем расхождения в типах данных для train и test, устраним их до анализа данных."
   ]
  },
  {
   "cell_type": "code",
   "execution_count": 21,
   "metadata": {},
   "outputs": [],
   "source": [
    "# Создадим список с колонками, которые присутствуют и в train, и в test\n",
    "cols_intersection = list(set(test.columns).intersection(train.columns))"
   ]
  },
  {
   "cell_type": "code",
   "execution_count": 22,
   "metadata": {},
   "outputs": [
    {
     "name": "stdout",
     "output_type": "stream",
     "text": [
      "Найдены расхождения в типах данных для:\n",
      "\t- колонки condition: для train - <class 'numpy.float64'>, для test - <class 'str'>\n",
      "\t- колонки customs: для train - <class 'numpy.bool_'>, для test - <class 'str'>\n",
      "\t- колонки ownersCount: для train - <class 'numpy.float64'>, для test - <class 'str'>\n",
      "\t- колонки enginePower: для train - <class 'numpy.float64'>, для test - <class 'str'>\n",
      "\t- колонки numberOfDoors: для train - <class 'numpy.float64'>, для test - <class 'numpy.int64'>\n",
      "\t- колонки modelDate: для train - <class 'numpy.float64'>, для test - <class 'numpy.int64'>\n"
     ]
    }
   ],
   "source": [
    "# Проверим, в каких колонках типы данных различаются у train и test\n",
    "cols_type_dif = []  # создаем список с колонками, в которых типы данных отличаются\n",
    "print(\"Найдены расхождения в типах данных для:\")\n",
    "\n",
    "for col in cols_intersection:\n",
    "    if type(test[col][0]) != type(train[col][0]):\n",
    "        print(\n",
    "            f\"\\t- колонки {col}: для train - {type(train[col][0])}, для test - {type(test[col][0])}\")\n",
    "        cols_type_dif.append(col)"
   ]
  },
  {
   "cell_type": "markdown",
   "metadata": {},
   "source": [
    "**ownersCount**\n",
    "\n",
    "Количество владельцев автомобиля (1 - один, 2 - два, 3 - 3 и более)."
   ]
  },
  {
   "cell_type": "code",
   "execution_count": 23,
   "metadata": {},
   "outputs": [
    {
     "name": "stdout",
     "output_type": "stream",
     "text": [
      "Уникальные значения для train [ 3.  1.  2. nan]\n",
      "Уникальные значения для test ['3 или более' '1\\xa0владелец' '2\\xa0владельца']\n"
     ]
    }
   ],
   "source": [
    "print(\"Уникальные значения для train\", train.ownersCount.unique())\n",
    "print(\"Уникальные значения для test\", test.ownersCount.unique())"
   ]
  },
  {
   "cell_type": "markdown",
   "metadata": {},
   "source": [
    "Преобразуем значения test в числовые (float)."
   ]
  },
  {
   "cell_type": "code",
   "execution_count": 24,
   "metadata": {},
   "outputs": [],
   "source": [
    "# Создаем словать с кодировкой значений в числовые\n",
    "ownersCount_dict = {\"3 или более\": 3.,\n",
    "                    \"1\\xa0владелец\": 1., \"2\\xa0владельца\": 2.}\n",
    "test['ownersCount'].replace(\n",
    "    to_replace=ownersCount_dict, inplace=True)  # заменяем значения в соответствии со словарем"
   ]
  },
  {
   "cell_type": "code",
   "execution_count": 25,
   "metadata": {},
   "outputs": [
    {
     "name": "stdout",
     "output_type": "stream",
     "text": [
      "Уникальные значения для test [3. 1. 2.]\n"
     ]
    }
   ],
   "source": [
    "# Проверяем результаты преобразования\n",
    "print(\"Уникальные значения для test\", test.ownersCount.unique())"
   ]
  },
  {
   "cell_type": "markdown",
   "metadata": {},
   "source": [
    "**enginePower**\n",
    "\n",
    "Мощность л.с."
   ]
  },
  {
   "cell_type": "code",
   "execution_count": 26,
   "metadata": {},
   "outputs": [
    {
     "name": "stdout",
     "output_type": "stream",
     "text": [
      "Пример значения для train [150.]\n",
      "Пример значения для test ['130 N12']\n"
     ]
    }
   ],
   "source": [
    "print(\"Пример значения для train\", train.enginePower.sample(1).values)\n",
    "print(\"Пример значения для test\", test.enginePower.sample(1).values)"
   ]
  },
  {
   "cell_type": "markdown",
   "metadata": {},
   "source": [
    "Преобразуем значения test в числовые (float)."
   ]
  },
  {
   "cell_type": "code",
   "execution_count": 27,
   "metadata": {},
   "outputs": [
    {
     "data": {
      "text/plain": [
       "315"
      ]
     },
     "execution_count": 27,
     "metadata": {},
     "output_type": "execute_result"
    }
   ],
   "source": [
    "test.enginePower.nunique()"
   ]
  },
  {
   "cell_type": "code",
   "execution_count": 28,
   "metadata": {},
   "outputs": [],
   "source": [
    "# Преобразовываем значения столбца, избавляемся от постфика N12\n",
    "test['enginePower'] = test['enginePower'].apply(\n",
    "    lambda x: float(x.split(\" \")[0]))"
   ]
  },
  {
   "cell_type": "code",
   "execution_count": 29,
   "metadata": {},
   "outputs": [
    {
     "name": "stdout",
     "output_type": "stream",
     "text": [
      "Пример значения для test [180.]\n"
     ]
    }
   ],
   "source": [
    "# Посмотрим на результат преобразования\n",
    "print(\"Пример значения для test\", test.enginePower.sample(1).values)"
   ]
  },
  {
   "cell_type": "markdown",
   "metadata": {},
   "source": [
    "**numberOfDoors**\n",
    "\n",
    "Количество дверей."
   ]
  },
  {
   "cell_type": "code",
   "execution_count": 30,
   "metadata": {},
   "outputs": [
    {
     "name": "stdout",
     "output_type": "stream",
     "text": [
      "Уникальные значения для train [ 4.  5.  3.  2. nan  0.]\n",
      "Уникальные значения для test [5 4 2 3 0]\n"
     ]
    }
   ],
   "source": [
    "print(\"Уникальные значения для train\", train.numberOfDoors.unique())\n",
    "print(\"Уникальные значения для test\", test.numberOfDoors.unique())"
   ]
  },
  {
   "cell_type": "markdown",
   "metadata": {},
   "source": [
    "Значения аналогичны, целые числа, приведем в train к int."
   ]
  },
  {
   "cell_type": "code",
   "execution_count": 31,
   "metadata": {},
   "outputs": [],
   "source": [
    "# Конвертируем в int\n",
    "train['numberOfDoors'] = train['numberOfDoors'].astype('Int64')"
   ]
  },
  {
   "cell_type": "markdown",
   "metadata": {},
   "source": [
    "**customs**\n",
    "\n",
    "Информация, растоможен ли автомобиль: 0 - не растоможен, 1 - растоможен."
   ]
  },
  {
   "cell_type": "code",
   "execution_count": 32,
   "metadata": {},
   "outputs": [
    {
     "name": "stdout",
     "output_type": "stream",
     "text": [
      "Уникальные значения для train [ True]\n",
      "Уникальные значения для test ['Растаможен']\n"
     ]
    }
   ],
   "source": [
    "print(\"Уникальные значения для train\", train.customs.unique())\n",
    "print(\"Уникальные значения для test\", test.customs.unique())"
   ]
  },
  {
   "cell_type": "markdown",
   "metadata": {},
   "source": [
    "Поскольку далее для моделирования нам понадобится числовая переменная, то сразу переведем в числовую 0 - не растоможен, 1 - растоможен, как для train, так и для test."
   ]
  },
  {
   "cell_type": "code",
   "execution_count": 33,
   "metadata": {},
   "outputs": [],
   "source": [
    "# Делаем преобразование значений в int (0 или 1)\n",
    "train['customs'] = train['customs'].apply(lambda x: 1 if x == True else 0)\n",
    "test['customs'] = test['customs'].apply(\n",
    "    lambda x: 1 if x == \"Растаможен\" else 0)"
   ]
  },
  {
   "cell_type": "markdown",
   "metadata": {},
   "source": [
    "**condition**\n",
    "\n",
    "Состояние автомобиля: 0 - не требует ремонта , 1 - требует ремонта."
   ]
  },
  {
   "cell_type": "code",
   "execution_count": 34,
   "metadata": {},
   "outputs": [
    {
     "name": "stdout",
     "output_type": "stream",
     "text": [
      "Уникальные значения для train [nan]\n",
      "Уникальные значения для test ['Не требует ремонта']\n"
     ]
    }
   ],
   "source": [
    "print(\"Уникальные значения для train\", train.condition.unique())\n",
    "print(\"Уникальные значения для test\", test.condition.unique())"
   ]
  },
  {
   "cell_type": "markdown",
   "metadata": {},
   "source": [
    "Поскольку далее для моделирования нам понадобится числовая переменная, то сразу переведем в числовую 0 - требует ремонта , 1 - не требует ремонта, как для train, так и для test."
   ]
  },
  {
   "cell_type": "code",
   "execution_count": 35,
   "metadata": {},
   "outputs": [],
   "source": [
    "# Делаем преобразование значений в int (0 или 1)\n",
    "train['condition'] = train['condition'].apply(lambda x: 0 if pd.isna(x) else 1)\n",
    "test['condition'] = test['condition'].apply(\n",
    "    lambda x: 0 if x == \"Не требует ремонта\" else 1)"
   ]
  },
  {
   "cell_type": "markdown",
   "metadata": {},
   "source": [
    "**modelDate**\n",
    "\n",
    "Год выпуска модели автомобиля."
   ]
  },
  {
   "cell_type": "code",
   "execution_count": 36,
   "metadata": {},
   "outputs": [
    {
     "name": "stdout",
     "output_type": "stream",
     "text": [
      "Уникальные значения для train [1990. 1982. 1988. 1976. 1983. 1979. 1986. 1991. 1978. 1987. 1992. 1938.\n",
      " 2010. 2014. 2000. 2016. 2004. 2012. 2008. 1996. 2003. 2015. 2011. 2007.\n",
      " 1999. 1994. 2009. 2018. 2001. 1997. 2006. 2019. 2013. 2017. 2002. 2005.\n",
      " 1980. 1984. 1998. 1966. 1975. 1937. 1936. 1949. 2020. 1995. 1981. 1972.\n",
      " 1977. 1989. 1968. 1985. 1958. 1971. 1956. 1955. 1970. 1963. 1973. 1964.\n",
      " 1957. 1993. 1960. 1927. 1908. 1932.   nan 1965. 1935. 1967. 1948. 1969.\n",
      " 1934. 1974. 1950. 1961. 1904. 1959. 1951.]\n",
      "Уникальные значения для test [2013 2017 2008 2009 2016 2012 2015 2010 2006 2000 2007 1994 2004 1999\n",
      " 2005 1976 2001 1969 1996 1998 1989 1934 2014 2011 2018 1986 1997 1990\n",
      " 2019 2002 1991 1987 1980 1982 1938 1988 2003 1983 1978 1979 1984 1992\n",
      " 1995 1993 1985 1974 1966 1977 1981 1972 1968 1975 1949 1937 1936 1973\n",
      " 1959 1958 2020 1965 1971 1904 1963 1955 1951 1960]\n"
     ]
    }
   ],
   "source": [
    "print(\"Уникальные значения для train\", train.modelDate.unique())\n",
    "print(\"Уникальные значения для test\", test.modelDate.unique())"
   ]
  },
  {
   "cell_type": "markdown",
   "metadata": {},
   "source": [
    "Годы - целые числа. Преобразуем train данные в int."
   ]
  },
  {
   "cell_type": "code",
   "execution_count": 37,
   "metadata": {},
   "outputs": [],
   "source": [
    "train['modelDate'] = train['modelDate'].astype('Int64')"
   ]
  },
  {
   "cell_type": "markdown",
   "metadata": {},
   "source": [
    "**ownershipTime**\n",
    "\n",
    "Вемя владения автомобилем. \n",
    "\n",
    "Несмотря на то, что тип данных совпадает, формат хранения информации в train и test отличается."
   ]
  },
  {
   "cell_type": "code",
   "execution_count": 38,
   "metadata": {},
   "outputs": [],
   "source": [
    "train['ownershipTime'] = train['ownershipTime'].fillna('no_data')"
   ]
  },
  {
   "cell_type": "code",
   "execution_count": 39,
   "metadata": {},
   "outputs": [],
   "source": [
    "def months_to_sent(months):\n",
    "    if months == 1:\n",
    "        return f'{months} месяц'\n",
    "    elif 2 <= months <= 4:\n",
    "        return f'{months} месяца'\n",
    "    return f'{months} месяцев'\n",
    "\n",
    "\n",
    "def years_to_sent(years):\n",
    "    if 11 <= years <= 14 or 5 <= years % 10 <= 9 or years % 10 == 0:\n",
    "        return f'{years} лет'\n",
    "    elif years % 10 == 1:\n",
    "        return f'{years} год'\n",
    "    elif 2 <= years % 10 <= 4:\n",
    "        return f'{years} годa'\n",
    "\n",
    "\n",
    "def tenure(row):\n",
    "    \"\"\"\n",
    "    Функция, которая приводит содержимое ячейки train к тому же виду, как в test.\n",
    "    Вход: строка series (строка колонки).\n",
    "    Выход: возвращает вместо словаря информацию в виде \"x лет y месяцев\"\n",
    "    \"\"\"\n",
    "    row = re.findall('\\d+', str(row))  # находим все целые числа в строке\n",
    "    if row != []:\n",
    "        years = 2020 - (int(row[0])+1)  # 2020, т.к. данные собраны в 2020 году\n",
    "        months = 2 + (12 - int(row[1]))\n",
    "        if years < 0:\n",
    "            return months_to_sent(int(row[1]))\n",
    "        elif years == 0 and months < 12:\n",
    "            return months_to_sent(months)\n",
    "        elif years >= 0 and months == 12:\n",
    "            return years_to_sent(years + 1)\n",
    "        elif years >= 0 and months > 12:\n",
    "            return years_to_sent(years + 1)+' и '+months_to_sent(months - 12)\n",
    "        elif years > 0 and months < 12:\n",
    "            return years_to_sent(years)+' и '+months_to_sent(months)\n",
    "        return None\n",
    "\n",
    "\n",
    "train['ownershipTime'] = train['ownershipTime'].apply(tenure)"
   ]
  },
  {
   "cell_type": "markdown",
   "metadata": {},
   "source": [
    "### 3.4 Совмещаем test и train для обработки и анализа"
   ]
  },
  {
   "cell_type": "markdown",
   "metadata": {},
   "source": [
    "До совмещения test и train посмотрим, какие признаки можем извлечь из test/train, помимо колонок, которые в явном виде пересекаются между датафреймами."
   ]
  },
  {
   "cell_type": "code",
   "execution_count": 40,
   "metadata": {},
   "outputs": [
    {
     "name": "stdout",
     "output_type": "stream",
     "text": [
      "Список колонок, которых нет в train, но есть в test: ['model_info', 'parsing_unixtime', 'priceCurrency', 'car_url', 'sell_id', 'vendor', 'super_gen', 'complectation_dict', 'image', 'equipment_dict']\n",
      "\n",
      "TEST DF:\n"
     ]
    },
    {
     "data": {
      "text/html": [
       "<div>\n",
       "<style scoped>\n",
       "    .dataframe tbody tr th:only-of-type {\n",
       "        vertical-align: middle;\n",
       "    }\n",
       "\n",
       "    .dataframe tbody tr th {\n",
       "        vertical-align: top;\n",
       "    }\n",
       "\n",
       "    .dataframe thead th {\n",
       "        text-align: right;\n",
       "    }\n",
       "</style>\n",
       "<table border=\"1\" class=\"dataframe\">\n",
       "  <thead>\n",
       "    <tr style=\"text-align: right;\">\n",
       "      <th></th>\n",
       "      <th>model_info</th>\n",
       "      <th>parsing_unixtime</th>\n",
       "      <th>priceCurrency</th>\n",
       "      <th>car_url</th>\n",
       "      <th>sell_id</th>\n",
       "      <th>vendor</th>\n",
       "      <th>super_gen</th>\n",
       "      <th>complectation_dict</th>\n",
       "      <th>image</th>\n",
       "      <th>equipment_dict</th>\n",
       "    </tr>\n",
       "  </thead>\n",
       "  <tbody>\n",
       "    <tr>\n",
       "      <th>595</th>\n",
       "      <td>{\"code\":\"SUPERB\",\"name\":\"Superb\",\"ru_name\":\"Су...</td>\n",
       "      <td>1603228552</td>\n",
       "      <td>RUB</td>\n",
       "      <td>https://auto.ru/cars/used/sale/skoda/superb/10...</td>\n",
       "      <td>1098391362</td>\n",
       "      <td>EUROPEAN</td>\n",
       "      <td>{\"id\":\"7769268\",\"displacement\":1984,\"engine_ty...</td>\n",
       "      <td>NaN</td>\n",
       "      <td>https://avatars.mds.yandex.net/get-autoru-vos/...</td>\n",
       "      <td>{\"engine-proof\":true,\"cruise-control\":true,\"as...</td>\n",
       "    </tr>\n",
       "    <tr>\n",
       "      <th>27500</th>\n",
       "      <td>{\"code\":\"LANCER\",\"name\":\"Lancer\",\"ru_name\":\"Ла...</td>\n",
       "      <td>1603262929</td>\n",
       "      <td>RUB</td>\n",
       "      <td>https://auto.ru/cars/used/sale/mitsubishi/lanc...</td>\n",
       "      <td>1100797212</td>\n",
       "      <td>JAPANESE</td>\n",
       "      <td>{\"id\":\"7846997\",\"displacement\":1590,\"engine_ty...</td>\n",
       "      <td>NaN</td>\n",
       "      <td>https://autoru.naydex.net/mcQh17801/f1b5751dCi...</td>\n",
       "      <td>{\"alloy-wheel-disks\":true,\"ptf\":true,\"airbag-d...</td>\n",
       "    </tr>\n",
       "    <tr>\n",
       "      <th>33734</th>\n",
       "      <td>{\"code\":\"3ER\",\"name\":\"3 серии\",\"ru_name\":\"3 се...</td>\n",
       "      <td>1603645121</td>\n",
       "      <td>RUB</td>\n",
       "      <td>https://auto.ru/cars/used/sale/bmw/3er/1101245...</td>\n",
       "      <td>1101245376</td>\n",
       "      <td>EUROPEAN</td>\n",
       "      <td>{\"id\":\"9289777\",\"name\":\"320\",\"nameplate\":\"320d...</td>\n",
       "      <td>NaN</td>\n",
       "      <td>https://autoru.naydex.net/FwiuJ8975/366aceFl8F...</td>\n",
       "      <td>{\"asr\":true,\"start-stop-function\":true,\"esp\":t...</td>\n",
       "    </tr>\n",
       "  </tbody>\n",
       "</table>\n",
       "</div>"
      ],
      "text/plain": [
       "                                              model_info  parsing_unixtime  \\\n",
       "595    {\"code\":\"SUPERB\",\"name\":\"Superb\",\"ru_name\":\"Су...        1603228552   \n",
       "27500  {\"code\":\"LANCER\",\"name\":\"Lancer\",\"ru_name\":\"Ла...        1603262929   \n",
       "33734  {\"code\":\"3ER\",\"name\":\"3 серии\",\"ru_name\":\"3 се...        1603645121   \n",
       "\n",
       "      priceCurrency                                            car_url  \\\n",
       "595             RUB  https://auto.ru/cars/used/sale/skoda/superb/10...   \n",
       "27500           RUB  https://auto.ru/cars/used/sale/mitsubishi/lanc...   \n",
       "33734           RUB  https://auto.ru/cars/used/sale/bmw/3er/1101245...   \n",
       "\n",
       "          sell_id    vendor  \\\n",
       "595    1098391362  EUROPEAN   \n",
       "27500  1100797212  JAPANESE   \n",
       "33734  1101245376  EUROPEAN   \n",
       "\n",
       "                                               super_gen complectation_dict  \\\n",
       "595    {\"id\":\"7769268\",\"displacement\":1984,\"engine_ty...                NaN   \n",
       "27500  {\"id\":\"7846997\",\"displacement\":1590,\"engine_ty...                NaN   \n",
       "33734  {\"id\":\"9289777\",\"name\":\"320\",\"nameplate\":\"320d...                NaN   \n",
       "\n",
       "                                                   image  \\\n",
       "595    https://avatars.mds.yandex.net/get-autoru-vos/...   \n",
       "27500  https://autoru.naydex.net/mcQh17801/f1b5751dCi...   \n",
       "33734  https://autoru.naydex.net/FwiuJ8975/366aceFl8F...   \n",
       "\n",
       "                                          equipment_dict  \n",
       "595    {\"engine-proof\":true,\"cruise-control\":true,\"as...  \n",
       "27500  {\"alloy-wheel-disks\":true,\"ptf\":true,\"airbag-d...  \n",
       "33734  {\"asr\":true,\"start-stop-function\":true,\"esp\":t...  "
      ]
     },
     "execution_count": 40,
     "metadata": {},
     "output_type": "execute_result"
    }
   ],
   "source": [
    "# Список колонок, которых нет в train, но есть в test\n",
    "dif_list_test = list(set(test.columns).difference(train.columns))\n",
    "print(\"Список колонок, которых нет в train, но есть в test:\", dif_list_test)\n",
    "\n",
    "# Посмотрим на данные в этих колонках\n",
    "print(\"\\nTEST DF:\")\n",
    "test[dif_list_test].sample(3)"
   ]
  },
  {
   "cell_type": "code",
   "execution_count": 41,
   "metadata": {},
   "outputs": [
    {
     "name": "stdout",
     "output_type": "stream",
     "text": [
      "Список колонок, которых нет в test, но есть в train: ['start_date', 'hidden', 'price', 'Комплектация']\n",
      "\n",
      "TRAIN DF:\n"
     ]
    },
    {
     "data": {
      "text/html": [
       "<div>\n",
       "<style scoped>\n",
       "    .dataframe tbody tr th:only-of-type {\n",
       "        vertical-align: middle;\n",
       "    }\n",
       "\n",
       "    .dataframe tbody tr th {\n",
       "        vertical-align: top;\n",
       "    }\n",
       "\n",
       "    .dataframe thead th {\n",
       "        text-align: right;\n",
       "    }\n",
       "</style>\n",
       "<table border=\"1\" class=\"dataframe\">\n",
       "  <thead>\n",
       "    <tr style=\"text-align: right;\">\n",
       "      <th></th>\n",
       "      <th>start_date</th>\n",
       "      <th>hidden</th>\n",
       "      <th>price</th>\n",
       "      <th>Комплектация</th>\n",
       "    </tr>\n",
       "  </thead>\n",
       "  <tbody>\n",
       "    <tr>\n",
       "      <th>5995</th>\n",
       "      <td>2020-09-08T18:00:07Z</td>\n",
       "      <td>NaN</td>\n",
       "      <td>1490000.0</td>\n",
       "      <td>{'id': '0'}</td>\n",
       "    </tr>\n",
       "    <tr>\n",
       "      <th>4185</th>\n",
       "      <td>2020-09-02T20:51:49Z</td>\n",
       "      <td>NaN</td>\n",
       "      <td>500000.0</td>\n",
       "      <td>{'id': '0'}</td>\n",
       "    </tr>\n",
       "    <tr>\n",
       "      <th>52584</th>\n",
       "      <td>2020-08-07T11:19:22Z</td>\n",
       "      <td>NaN</td>\n",
       "      <td>125000.0</td>\n",
       "      <td>{'id': '0'}</td>\n",
       "    </tr>\n",
       "  </tbody>\n",
       "</table>\n",
       "</div>"
      ],
      "text/plain": [
       "                 start_date  hidden      price Комплектация\n",
       "5995   2020-09-08T18:00:07Z     NaN  1490000.0  {'id': '0'}\n",
       "4185   2020-09-02T20:51:49Z     NaN   500000.0  {'id': '0'}\n",
       "52584  2020-08-07T11:19:22Z     NaN   125000.0  {'id': '0'}"
      ]
     },
     "execution_count": 41,
     "metadata": {},
     "output_type": "execute_result"
    }
   ],
   "source": [
    "# Список колонок, которых нет в test, но есть в train\n",
    "dif_list_train = list(set(train.columns).difference(test.columns))\n",
    "print(\"Список колонок, которых нет в test, но есть в train:\", dif_list_train)\n",
    "\n",
    "# Посмотрим на данные в этих колонках\n",
    "print(\"\\nTRAIN DF:\")\n",
    "train[dif_list_train].sample(3)"
   ]
  },
  {
   "cell_type": "markdown",
   "metadata": {},
   "source": [
    "Идеи для обогощений датасетов, чтобы получить общие данные для работы:\n",
    "- [x] Train: добавить колонку vendor, можно создать словарик соответсвия brand-vendor\n",
    "- [x] Train: model_name важная информация, нужно получить колонку. В train такая колонка есть - называется model. Унифицировать имена, привести к model (переименовать в test). Переименование добавлено выше в код, где переименовывались колонки.\n",
    "\n",
    "Также дополнительно в TEST найдено:\n",
    "- В признаке super_gen можно дополнительно доставть 1) acceleration (скорость разгона) 2) clearance_min 3) fuel_rate (расход топлива)\n",
    "- В признаке equipment_dict лежит полезная информация про комплектацию автомобиля. Посмотреть, есть ли что-то похожее в Train."
   ]
  },
  {
   "cell_type": "markdown",
   "metadata": {},
   "source": [
    "**Добавляем vendor в train**"
   ]
  },
  {
   "cell_type": "code",
   "execution_count": 42,
   "metadata": {},
   "outputs": [
    {
     "data": {
      "text/plain": [
       "{'EUROPEAN': ['BMW', 'VOLKSWAGEN', 'MERCEDES', 'AUDI', 'SKODA', 'VOLVO'],\n",
       " 'JAPANESE': ['NISSAN', 'TOYOTA', 'MITSUBISHI', 'HONDA', 'INFINITI', 'LEXUS']}"
      ]
     },
     "execution_count": 42,
     "metadata": {},
     "output_type": "execute_result"
    }
   ],
   "source": [
    "# Создаем словарь из вендоров по брендам\n",
    "vendor_dict = test.groupby(['vendor'])['brand'].apply(\n",
    "    lambda grp: list(grp.value_counts().index)).to_dict()\n",
    "vendor_dict"
   ]
  },
  {
   "cell_type": "code",
   "execution_count": 43,
   "metadata": {},
   "outputs": [
    {
     "name": "stdout",
     "output_type": "stream",
     "text": [
      "Список колонок, которых нет в test, но есть в train: ['CADILLAC', 'FORD', 'KIA', 'MAZDA', 'DODGE', 'SUBARU', 'OPEL', 'CHEVROLET', 'SUZUKI', 'SSANG_YONG', 'GREAT_WALL', 'CHRYSLER', 'LAND_ROVER', 'MINI', 'RENAULT', 'PEUGEOT', 'PORSCHE', 'CITROEN', 'HYUNDAI', 'JAGUAR', 'GEELY', 'JEEP', 'DAEWOO', 'CHERY']\n"
     ]
    }
   ],
   "source": [
    "# Список брендов, которых нет в test, но есть в train\n",
    "dif_list_brands = list(\n",
    "    set(train.brand.unique()).difference(test.brand.unique()))\n",
    "print(\"Список колонок, которых нет в test, но есть в train:\", dif_list_brands)"
   ]
  },
  {
   "cell_type": "code",
   "execution_count": 44,
   "metadata": {},
   "outputs": [],
   "source": [
    "# Добавим в словарь vendor_dict недостающие бренды по существующим ключам\n",
    "eur_append = ['PORSCHE', 'LAND_ROVER', 'JAGUAR',\n",
    "              'MINI', 'RENAULT', 'OPEL', 'PEUGEOT', 'CITROEN']\n",
    "jap_append = ['SUBARU', 'MAZDA', 'SUZUKI']\n",
    "\n",
    "for brand in eur_append:\n",
    "    vendor_dict['EUROPEAN'].append(brand)\n",
    "for brand in jap_append:\n",
    "    vendor_dict['JAPANESE'].append(brand)"
   ]
  },
  {
   "cell_type": "code",
   "execution_count": 45,
   "metadata": {},
   "outputs": [],
   "source": [
    "# Добавляем новые ключи\n",
    "vendor_dict.update({'AMERICAN': ['CHEVROLET', 'CHRYSLER', 'CADILLAC', 'JEEP', 'FORD', 'DODGE'],\n",
    "                    'ASIAN': ['HYUNDAI', 'DAEWOO', 'KIA', 'CHERY', 'SSANG_YONG', 'GEELY', 'GREAT_WALL']})"
   ]
  },
  {
   "cell_type": "code",
   "execution_count": 46,
   "metadata": {},
   "outputs": [
    {
     "name": "stdout",
     "output_type": "stream",
     "text": [
      "{'EUROPEAN': ['BMW', 'VOLKSWAGEN', 'MERCEDES', 'AUDI', 'SKODA', 'VOLVO', 'PORSCHE', 'LAND_ROVER', 'JAGUAR', 'MINI', 'RENAULT', 'OPEL', 'PEUGEOT', 'CITROEN'], 'JAPANESE': ['NISSAN', 'TOYOTA', 'MITSUBISHI', 'HONDA', 'INFINITI', 'LEXUS', 'SUBARU', 'MAZDA', 'SUZUKI'], 'AMERICAN': ['CHEVROLET', 'CHRYSLER', 'CADILLAC', 'JEEP', 'FORD', 'DODGE'], 'ASIAN': ['HYUNDAI', 'DAEWOO', 'KIA', 'CHERY', 'SSANG_YONG', 'GEELY', 'GREAT_WALL']}\n"
     ]
    }
   ],
   "source": [
    "# Смотрим итоговый словарь\n",
    "print(vendor_dict)"
   ]
  },
  {
   "cell_type": "code",
   "execution_count": 47,
   "metadata": {},
   "outputs": [],
   "source": [
    "# Создадим новый словарь для мапинга\n",
    "new_map = {str(x): str(k) for k, v in vendor_dict.items() for x in v}"
   ]
  },
  {
   "cell_type": "code",
   "execution_count": 48,
   "metadata": {},
   "outputs": [],
   "source": [
    "# Создаем признак vendor в train\n",
    "train['vendor'] = train.brand.copy()\n",
    "train['vendor'] = train['vendor'].map(new_map)"
   ]
  },
  {
   "cell_type": "markdown",
   "metadata": {},
   "source": [
    "После завершения подготовительного этапа склеиваем два датафрейма."
   ]
  },
  {
   "cell_type": "code",
   "execution_count": 49,
   "metadata": {
    "execution": {
     "iopub.execute_input": "2021-08-25T11:04:32.849319Z",
     "iopub.status.busy": "2021-08-25T11:04:32.848959Z",
     "iopub.status.idle": "2021-08-25T11:04:33.002464Z",
     "shell.execute_reply": "2021-08-25T11:04:33.00091Z",
     "shell.execute_reply.started": "2021-08-25T11:04:32.849282Z"
    }
   },
   "outputs": [],
   "source": [
    "# Для анализа склеиваем оба датафрейма по общим колонкам, добавляем признак sample\n",
    "train['train'] = 1  # помечаем где у нас трейн\n",
    "test['train'] = 0  # помечаем где у нас тест\n",
    "# в тесте у нас нет значения цены, мы его должны предсказать, поэтому пока просто заполняем нулями\n",
    "test['price'] = 0\n",
    "train['sell_id'] = 0  # поле понадобавиться для сабмита, оставляем\n",
    "\n",
    "data = pd.concat([train, test], axis=0, join=\"inner\", ignore_index=True)"
   ]
  },
  {
   "cell_type": "code",
   "execution_count": 50,
   "metadata": {
    "execution": {
     "iopub.execute_input": "2021-08-25T11:04:33.004963Z",
     "iopub.status.busy": "2021-08-25T11:04:33.004602Z",
     "iopub.status.idle": "2021-08-25T11:04:33.348904Z",
     "shell.execute_reply": "2021-08-25T11:04:33.347942Z",
     "shell.execute_reply.started": "2021-08-25T11:04:33.004927Z"
    },
    "papermill": {
     "duration": 0.042812,
     "end_time": "2020-10-26T12:47:02.943868",
     "exception": false,
     "start_time": "2020-10-26T12:47:02.901056",
     "status": "completed"
    },
    "tags": []
   },
   "outputs": [
    {
     "name": "stdout",
     "output_type": "stream",
     "text": [
      "<class 'pandas.core.frame.DataFrame'>\n",
      "RangeIndex: 124064 entries, 0 to 124063\n",
      "Data columns (total 26 columns):\n",
      " #   Column                Non-Null Count   Dtype  \n",
      "---  ------                --------------   -----  \n",
      " 0   bodyType              124063 non-null  object \n",
      " 1   brand                 124064 non-null  object \n",
      " 2   color                 124064 non-null  object \n",
      " 3   fuelType              124064 non-null  object \n",
      " 4   modelDate             124063 non-null  object \n",
      " 5   name                  124063 non-null  object \n",
      " 6   numberOfDoors         124063 non-null  object \n",
      " 7   productionDate        124064 non-null  int64  \n",
      " 8   vehicleConfiguration  124063 non-null  object \n",
      " 9   vehicleTransmission   124063 non-null  object \n",
      " 10  engineDisplacement    124063 non-null  object \n",
      " 11  enginePower           124063 non-null  float64\n",
      " 12  description           120810 non-null  object \n",
      " 13  mileage               124064 non-null  int64  \n",
      " 14  drivetrain            124063 non-null  object \n",
      " 15  driveSide             124064 non-null  object \n",
      " 16  condition             124064 non-null  int64  \n",
      " 17  ownersCount           110476 non-null  float64\n",
      " 18  tcp                   123702 non-null  object \n",
      " 19  customs               124064 non-null  int64  \n",
      " 20  ownershipTime         41196 non-null   object \n",
      " 21  price                 123654 non-null  float64\n",
      " 22  model                 124064 non-null  object \n",
      " 23  vendor                124064 non-null  object \n",
      " 24  train                 124064 non-null  int64  \n",
      " 25  sell_id               124064 non-null  int64  \n",
      "dtypes: float64(3), int64(6), object(17)\n",
      "memory usage: 24.6+ MB\n"
     ]
    }
   ],
   "source": [
    "# Посмотрим, что получилось\n",
    "data.info()"
   ]
  },
  {
   "cell_type": "code",
   "execution_count": 51,
   "metadata": {},
   "outputs": [],
   "source": [
    "# Преобразуем modelDate в int\n",
    "data['modelDate'] = data['modelDate'].astype('Int64')"
   ]
  },
  {
   "cell_type": "code",
   "execution_count": 52,
   "metadata": {
    "execution": {
     "iopub.execute_input": "2021-08-25T11:04:33.35329Z",
     "iopub.status.busy": "2021-08-25T11:04:33.352944Z",
     "iopub.status.idle": "2021-08-25T11:04:33.388746Z",
     "shell.execute_reply": "2021-08-25T11:04:33.387255Z",
     "shell.execute_reply.started": "2021-08-25T11:04:33.353258Z"
    }
   },
   "outputs": [
    {
     "data": {
      "text/html": [
       "<div>\n",
       "<style scoped>\n",
       "    .dataframe tbody tr th:only-of-type {\n",
       "        vertical-align: middle;\n",
       "    }\n",
       "\n",
       "    .dataframe tbody tr th {\n",
       "        vertical-align: top;\n",
       "    }\n",
       "\n",
       "    .dataframe thead th {\n",
       "        text-align: right;\n",
       "    }\n",
       "</style>\n",
       "<table border=\"1\" class=\"dataframe\">\n",
       "  <thead>\n",
       "    <tr style=\"text-align: right;\">\n",
       "      <th></th>\n",
       "      <th>bodyType</th>\n",
       "      <th>brand</th>\n",
       "      <th>color</th>\n",
       "      <th>fuelType</th>\n",
       "      <th>modelDate</th>\n",
       "      <th>name</th>\n",
       "      <th>numberOfDoors</th>\n",
       "      <th>productionDate</th>\n",
       "      <th>vehicleConfiguration</th>\n",
       "      <th>vehicleTransmission</th>\n",
       "      <th>...</th>\n",
       "      <th>condition</th>\n",
       "      <th>ownersCount</th>\n",
       "      <th>tcp</th>\n",
       "      <th>customs</th>\n",
       "      <th>ownershipTime</th>\n",
       "      <th>price</th>\n",
       "      <th>model</th>\n",
       "      <th>vendor</th>\n",
       "      <th>train</th>\n",
       "      <th>sell_id</th>\n",
       "    </tr>\n",
       "  </thead>\n",
       "  <tbody>\n",
       "    <tr>\n",
       "      <th>108216</th>\n",
       "      <td>купе-хардтоп</td>\n",
       "      <td>MERCEDES</td>\n",
       "      <td>голубой</td>\n",
       "      <td>бензин</td>\n",
       "      <td>2009</td>\n",
       "      <td>250 1.8 AT (204 л.с.)</td>\n",
       "      <td>2</td>\n",
       "      <td>2011</td>\n",
       "      <td>COUPE_HARDTOP AUTOMATIC 1.8</td>\n",
       "      <td>автоматическая</td>\n",
       "      <td>...</td>\n",
       "      <td>0</td>\n",
       "      <td>2.0</td>\n",
       "      <td>Оригинал</td>\n",
       "      <td>1</td>\n",
       "      <td>NaN</td>\n",
       "      <td>0.0</td>\n",
       "      <td>E_KLASSE</td>\n",
       "      <td>EUROPEAN</td>\n",
       "      <td>0</td>\n",
       "      <td>1101196139</td>\n",
       "    </tr>\n",
       "    <tr>\n",
       "      <th>53770</th>\n",
       "      <td>Хэтчбек 3 дв.</td>\n",
       "      <td>OPEL</td>\n",
       "      <td>EE1D19</td>\n",
       "      <td>бензин</td>\n",
       "      <td>2006</td>\n",
       "      <td>1.2 AMT (80 л.с.)</td>\n",
       "      <td>3</td>\n",
       "      <td>2007</td>\n",
       "      <td>HATCHBACK_3_DOORS ROBOT 1.2</td>\n",
       "      <td>ROBOT</td>\n",
       "      <td>...</td>\n",
       "      <td>0</td>\n",
       "      <td>3.0</td>\n",
       "      <td>ORIGINAL</td>\n",
       "      <td>1</td>\n",
       "      <td>1 год и 5 месяцев</td>\n",
       "      <td>240000.0</td>\n",
       "      <td>CORSA</td>\n",
       "      <td>EUROPEAN</td>\n",
       "      <td>1</td>\n",
       "      <td>0</td>\n",
       "    </tr>\n",
       "    <tr>\n",
       "      <th>60035</th>\n",
       "      <td>Хэтчбек 5 дв.</td>\n",
       "      <td>SKODA</td>\n",
       "      <td>EE1D19</td>\n",
       "      <td>бензин</td>\n",
       "      <td>2010</td>\n",
       "      <td>1.2 AMT (105 л.с.)</td>\n",
       "      <td>5</td>\n",
       "      <td>2012</td>\n",
       "      <td>HATCHBACK_5_DOORS ROBOT 1.2</td>\n",
       "      <td>ROBOT</td>\n",
       "      <td>...</td>\n",
       "      <td>0</td>\n",
       "      <td>2.0</td>\n",
       "      <td>ORIGINAL</td>\n",
       "      <td>1</td>\n",
       "      <td>None</td>\n",
       "      <td>359000.0</td>\n",
       "      <td>FABIA</td>\n",
       "      <td>EUROPEAN</td>\n",
       "      <td>1</td>\n",
       "      <td>0</td>\n",
       "    </tr>\n",
       "  </tbody>\n",
       "</table>\n",
       "<p>3 rows × 26 columns</p>\n",
       "</div>"
      ],
      "text/plain": [
       "             bodyType     brand    color fuelType  modelDate  \\\n",
       "108216   купе-хардтоп  MERCEDES  голубой   бензин       2009   \n",
       "53770   Хэтчбек 3 дв.      OPEL   EE1D19   бензин       2006   \n",
       "60035   Хэтчбек 5 дв.     SKODA   EE1D19   бензин       2010   \n",
       "\n",
       "                         name numberOfDoors  productionDate  \\\n",
       "108216  250 1.8 AT (204 л.с.)             2            2011   \n",
       "53770       1.2 AMT (80 л.с.)             3            2007   \n",
       "60035      1.2 AMT (105 л.с.)             5            2012   \n",
       "\n",
       "               vehicleConfiguration vehicleTransmission  ... condition  \\\n",
       "108216  COUPE_HARDTOP AUTOMATIC 1.8      автоматическая  ...         0   \n",
       "53770   HATCHBACK_3_DOORS ROBOT 1.2               ROBOT  ...         0   \n",
       "60035   HATCHBACK_5_DOORS ROBOT 1.2               ROBOT  ...         0   \n",
       "\n",
       "        ownersCount       tcp  customs      ownershipTime     price     model  \\\n",
       "108216          2.0  Оригинал        1                NaN       0.0  E_KLASSE   \n",
       "53770           3.0  ORIGINAL        1  1 год и 5 месяцев  240000.0     CORSA   \n",
       "60035           2.0  ORIGINAL        1               None  359000.0     FABIA   \n",
       "\n",
       "          vendor train     sell_id  \n",
       "108216  EUROPEAN     0  1101196139  \n",
       "53770   EUROPEAN     1           0  \n",
       "60035   EUROPEAN     1           0  \n",
       "\n",
       "[3 rows x 26 columns]"
      ]
     },
     "execution_count": 52,
     "metadata": {},
     "output_type": "execute_result"
    }
   ],
   "source": [
    "data.sample(3)"
   ]
  },
  {
   "cell_type": "markdown",
   "metadata": {},
   "source": [
    "Проведем предварительный анализ данных."
   ]
  },
  {
   "cell_type": "code",
   "execution_count": 53,
   "metadata": {},
   "outputs": [],
   "source": [
    "# Запустим библиотеку для предварительного анализа данных\n",
    "#ProfileReport(data, title=\"Pandas Profiling Report for Merged Test and Train Dataset\")"
   ]
  },
  {
   "cell_type": "markdown",
   "metadata": {},
   "source": [
    "Выводы:\n",
    "1. Суммарно 124064 строки, 3.4% пропусков, есть дубликаты. Данные достаточно \"чистые\", пригодны для работы.\n",
    "2. В датасете 26 признаков. Типы переменных: числовых - 6, категориальных - 20.\n",
    "3. Идеи по очистке данных в колонках и вопросы для анализа данных:\n",
    "    - bodyType - убрать верхний и нижний регистр, сократить кол-во категорий, убрать информацию о количестве дверей, тк есть отдельный признак numberOfDoors.\n",
    "    - brand\t- что такое GREAT_WALL?\n",
    "    - color\t- коды перевести в цвета\n",
    "    - fuelType - разобраться, что такое универсал\n",
    "    - vehicleTransmission - рус и англ варианты унифицировать\n",
    "    - engineDisplacemen\t- унифицировать в объем, привести 2.0 и 2.0 LTR к одному значению\n",
    "    - numberOfDoors - разобраться с транспортом 0 дверей\n",
    "    - driveSide\t- рус и англ варианты унифицировать\n",
    "    - tcp - рус и англ варианты унифицировать\n",
    "    - description - кандидат на удаление, но можно извлечь новые признаки\n",
    "    - ownershipTime - извлечь длитальность владения авто на момент сбора объявления\n",
    " \n",
    "4. Признаки-кандидаты на удаление:\n",
    "    - customs, condition - кандидаты на удаление, т.к. у всех сток одинаковые значений.\n",
    "    - vehicleConfiguration - дублирует информацию из колонок vehicleTransmission, engineDisplacement, bodyType. Удалить признак после обработки пропусков.\n",
    "    - name - дублирует информацию из колонок engineDisplacement, vehicleTransmission, enginePower, drivetrain. Удалить признак после обработки пропусков.\n",
    "5. price - есть пропущенные значения, удалить строки из обучающей выборки.\n",
    "6. Корреляционный анализ:\n",
    "     - есть колинеарные признаки (productionDate - modelDate, mileage - modelDate/productionDate, ownersCount - modelDate/productionDat). Логично, что дата модели и дата производства связаны, также чем старше машина, тем больше пробег и тем большее количетсво владельцев авто)\n",
    "     - связь с целевой переменной: наименьшая корреляция с признаком NumberofDoors.\n",
    "7. Наибольшее количество пропусков в колонках ownershipCount, ownersCount. Можно попробовать предсказать количество, исходя из даты выпуска (т.к. признаки скоррелированы)."
   ]
  },
  {
   "cell_type": "markdown",
   "metadata": {},
   "source": [
    "Создадим список, в который будем добавлять колонки-кандидаты на удаление из датасета."
   ]
  },
  {
   "cell_type": "code",
   "execution_count": 54,
   "metadata": {},
   "outputs": [],
   "source": [
    "# Создадим список и добавим колонки, которые планируем удалить по результатам предварительного анализа\n",
    "cols_removal = ['customs', 'condition', 'vehicleConfiguration', 'name']"
   ]
  },
  {
   "cell_type": "markdown",
   "metadata": {},
   "source": [
    "### 3.5 Базовая чистка данных\n",
    "\n",
    "Проведем чистку и дополнительную подготовку данных, исходя из идей выводов выше (пункт 3).\n",
    "\n",
    "- [x] color\t- коды перевести в цвета\n",
    "- [x] vehicleTransmission - рус и англ варианты унифицировать\n",
    "- [x] driveSide\t- рус и англ варианты унифицировать\n",
    "- [x] tcp - рус и англ варианты унифицировать\n",
    "- [x] bodyType - привести к нижнему регистру, т.к. часть данных указаны по разному."
   ]
  },
  {
   "cell_type": "markdown",
   "metadata": {},
   "source": [
    "**vehicleTransmission**\n",
    "\n",
    "Информация про коробку передач."
   ]
  },
  {
   "cell_type": "code",
   "execution_count": 55,
   "metadata": {},
   "outputs": [
    {
     "data": {
      "text/plain": [
       "AUTOMATIC           49218\n",
       "MECHANICAL          25264\n",
       "автоматическая      19596\n",
       "ROBOT                7871\n",
       "механическая         7209\n",
       "VARIATOR             7024\n",
       "вариатор             3999\n",
       "роботизированная     3882\n",
       "Name: vehicleTransmission, dtype: int64"
      ]
     },
     "execution_count": 55,
     "metadata": {},
     "output_type": "execute_result"
    }
   ],
   "source": [
    "data.vehicleTransmission.value_counts()"
   ]
  },
  {
   "attachments": {
    "Screenshot%202021-08-27%20at%2015.10.31-2.png": {
     "image/png": "[encoded data removed]"
    }
   },
   "cell_type": "markdown",
   "metadata": {},
   "source": [
    "Посмотрим на значения на auto.ru. Все коробки делятся на автомат и механику. Автомат подразделяется на варианты.\n",
    "![Screenshot%202021-08-27%20at%2015.10.31-2.png](attachment:Screenshot%202021-08-27%20at%2015.10.31-2.png)"
   ]
  },
  {
   "cell_type": "markdown",
   "metadata": {},
   "source": [
    "Создадим из данного признака два новых признака:\n",
    "- коробка передач (автомат, механика)\n",
    "- для автомата создадим признак (тип автомата)."
   ]
  },
  {
   "cell_type": "code",
   "execution_count": 56,
   "metadata": {},
   "outputs": [],
   "source": [
    "# Создаем колонку transmission со значениями \"автомат\" и \"механическая\"\n",
    "data['transmission'] = data.vehicleTransmission.copy()\n",
    "\n",
    "data['transmission'].replace(['AUTOMATIC', 'ROBOT', 'VARIATOR',\n",
    "                              'роботизированная', 'автоматическая', 'вариатор'], \"автомат\", inplace=True)\n",
    "data['transmission'].replace(\n",
    "    ['MECHANICAL', 'механическая'], \"механическая\", inplace=True)"
   ]
  },
  {
   "cell_type": "code",
   "execution_count": 57,
   "metadata": {},
   "outputs": [],
   "source": [
    "# Создаем колонку automate_type со значениями 'робот', 'автоматическая', 'вариатор' или 0 для \"механическая\"\n",
    "\n",
    "data['automaticType'] = data.vehicleTransmission.copy()\n",
    "\n",
    "data['automaticType'].replace(\n",
    "    ['AUTOMATIC', 'автоматическая'], \"автоматическая\", inplace=True)\n",
    "data['automaticType'].replace(\n",
    "    ['ROBOT', 'роботизированная', ], \"робот\", inplace=True)\n",
    "data['automaticType'].replace(\n",
    "    ['VARIATOR', 'вариатор'], \"вариатор\", inplace=True)\n",
    "data['automaticType'].replace(['MECHANICAL', 'механическая'], 0, inplace=True)"
   ]
  },
  {
   "cell_type": "code",
   "execution_count": 58,
   "metadata": {},
   "outputs": [
    {
     "data": {
      "text/plain": [
       "array(['механическая', 'автомат', nan], dtype=object)"
      ]
     },
     "execution_count": 58,
     "metadata": {},
     "output_type": "execute_result"
    }
   ],
   "source": [
    "# Проверим, какие значения получились\n",
    "data['transmission'].unique()"
   ]
  },
  {
   "cell_type": "code",
   "execution_count": 59,
   "metadata": {},
   "outputs": [
    {
     "data": {
      "text/plain": [
       "array([0, 'автоматическая', 'робот', 'вариатор', nan], dtype=object)"
      ]
     },
     "execution_count": 59,
     "metadata": {},
     "output_type": "execute_result"
    }
   ],
   "source": [
    "# Проверим, какие значения получились\n",
    "data['automaticType'].unique()"
   ]
  },
  {
   "cell_type": "code",
   "execution_count": 60,
   "metadata": {},
   "outputs": [],
   "source": [
    "# Добавляем в колонки на удаление обработаный признак\n",
    "cols_removal.append('vehicleTransmission')"
   ]
  },
  {
   "cell_type": "markdown",
   "metadata": {},
   "source": [
    "**color**\n",
    "\n",
    "Цвет автомобиля."
   ]
  },
  {
   "cell_type": "code",
   "execution_count": 61,
   "metadata": {},
   "outputs": [
    {
     "data": {
      "text/plain": [
       "array(['040001', 'EE1D19', '0000CC', 'CACECB', '007F00', 'FAFBFB',\n",
       "       '97948F', '22A0F8', '660099', '200204', 'C49648', 'DEA522',\n",
       "       '4A2197', 'FFD600', 'FF8649', 'FFC0CB', 'синий', 'чёрный', 'серый',\n",
       "       'коричневый', 'белый', 'пурпурный', 'бежевый', 'серебристый',\n",
       "       'красный', 'зелёный', 'жёлтый', 'голубой', 'оранжевый',\n",
       "       'фиолетовый', 'золотистый', 'розовый'], dtype=object)"
      ]
     },
     "execution_count": 61,
     "metadata": {},
     "output_type": "execute_result"
    }
   ],
   "source": [
    "# Посмотрим на представленные цвета\n",
    "data.color.unique()"
   ]
  },
  {
   "cell_type": "code",
   "execution_count": 62,
   "metadata": {},
   "outputs": [],
   "source": [
    "# Создаем словать с кодировкой значений в цвета\n",
    "color_dict = {'040001': 'чёрный', 'EE1D19': 'красный', '0000CC': 'синий', 'CACECB': 'серебристый', '007F00': 'зелёный',\n",
    "              'FAFBFB': 'белый', '97948F': 'серый', '22A0F8': 'голубой', '660099': 'пурпурный', '200204': 'коричневый',\n",
    "              'C49648': 'бежевый', 'DEA522': 'золотистый', '4A2197': 'фиолетовый', 'FFD600': 'жёлтый',\n",
    "              'FF8649': 'оранжевый', 'FFC0CB': 'розовый'}\n",
    "\n",
    "data['color'].replace(to_replace=color_dict, inplace=True)"
   ]
  },
  {
   "cell_type": "code",
   "execution_count": 63,
   "metadata": {},
   "outputs": [
    {
     "data": {
      "text/plain": [
       "array(['чёрный', 'красный', 'синий', 'серебристый', 'зелёный', 'белый',\n",
       "       'серый', 'голубой', 'пурпурный', 'коричневый', 'бежевый',\n",
       "       'золотистый', 'фиолетовый', 'жёлтый', 'оранжевый', 'розовый'],\n",
       "      dtype=object)"
      ]
     },
     "execution_count": 63,
     "metadata": {},
     "output_type": "execute_result"
    }
   ],
   "source": [
    "# Проверяем результат\n",
    "data.color.unique()"
   ]
  },
  {
   "cell_type": "markdown",
   "metadata": {},
   "source": [
    "**driveSide**\n",
    "\n",
    "Расположение руля"
   ]
  },
  {
   "cell_type": "code",
   "execution_count": 64,
   "metadata": {},
   "outputs": [
    {
     "data": {
      "text/plain": [
       "array(['LEFT', 'RIGHT', 'Левый', 'Правый'], dtype=object)"
      ]
     },
     "execution_count": 64,
     "metadata": {},
     "output_type": "execute_result"
    }
   ],
   "source": [
    "data.driveSide.unique()"
   ]
  },
  {
   "cell_type": "code",
   "execution_count": 65,
   "metadata": {},
   "outputs": [],
   "source": [
    "# Заменим анлоязычные значения на русские\n",
    "data['driveSide'] = data['driveSide'].map(\n",
    "    {'RIGHT': 'Правый', 'LEFT': 'Левый', 'Правый': 'Правый', 'Левый': 'Левый'})"
   ]
  },
  {
   "cell_type": "code",
   "execution_count": 66,
   "metadata": {},
   "outputs": [],
   "source": [
    "# уберем верхний регистр\n",
    "data['driveSide'] = data['driveSide'].str.lower()"
   ]
  },
  {
   "cell_type": "markdown",
   "metadata": {},
   "source": [
    "**tcp**\n",
    "\n",
    "Оригинал ПТС"
   ]
  },
  {
   "cell_type": "code",
   "execution_count": 67,
   "metadata": {},
   "outputs": [
    {
     "data": {
      "text/plain": [
       "array(['ORIGINAL', 'DUPLICATE', nan, 'Оригинал', 'Дубликат'], dtype=object)"
      ]
     },
     "execution_count": 67,
     "metadata": {},
     "output_type": "execute_result"
    }
   ],
   "source": [
    "data.tcp.unique()"
   ]
  },
  {
   "cell_type": "code",
   "execution_count": 68,
   "metadata": {},
   "outputs": [
    {
     "data": {
      "text/plain": [
       "89378    Оригинал\n",
       "89379    Оригинал\n",
       "89380    Оригинал\n",
       "89381    Оригинал\n",
       "89382    Оригинал\n",
       "Name: tcp, dtype: object"
      ]
     },
     "execution_count": 68,
     "metadata": {},
     "output_type": "execute_result"
    }
   ],
   "source": [
    "data[data.train == 0].tcp.head()"
   ]
  },
  {
   "cell_type": "code",
   "execution_count": 69,
   "metadata": {},
   "outputs": [],
   "source": [
    "# Заменим анлоязычные значения на русские\n",
    "data['tcp'] = data['tcp'].map(\n",
    "    {'ORIGINAL': 'Оригинал', 'DUPLICATE': 'Дубликат', 'Оригинал': 'Оригинал', 'Дубликат': 'Дубликат'})"
   ]
  },
  {
   "cell_type": "code",
   "execution_count": 70,
   "metadata": {},
   "outputs": [],
   "source": [
    "# уберем верхний регистр\n",
    "data['tcp'] = data['tcp'].str.lower()"
   ]
  },
  {
   "cell_type": "markdown",
   "metadata": {},
   "source": [
    "**bodyType**\n",
    "\n",
    "Тип кузова."
   ]
  },
  {
   "cell_type": "code",
   "execution_count": 71,
   "metadata": {},
   "outputs": [
    {
     "data": {
      "text/plain": [
       "Внедорожник 5 дв.          31885\n",
       "Седан                      30593\n",
       "седан                      13147\n",
       "внедорожник 5 дв.          12228\n",
       "Хэтчбек 5 дв.               8668\n",
       "                           ...  \n",
       "Хэтчбек 5 дв. EU               1\n",
       "Универсал 5 дв. XC             1\n",
       "Седан T140                     1\n",
       "Универсал 5 дв. Shuttle        1\n",
       "Минивэн Regius                 1\n",
       "Name: bodyType, Length: 192, dtype: int64"
      ]
     },
     "execution_count": 71,
     "metadata": {},
     "output_type": "execute_result"
    }
   ],
   "source": [
    "data.bodyType.value_counts()"
   ]
  },
  {
   "cell_type": "code",
   "execution_count": 72,
   "metadata": {},
   "outputs": [],
   "source": [
    "# Приведем значения к нижнему регистру, уберем ряд дубликатов в значениях\n",
    "\n",
    "data['bodyType'] = data['bodyType'].apply(lambda x: str(x).lower())"
   ]
  },
  {
   "cell_type": "markdown",
   "metadata": {},
   "source": [
    "### 3.6 Дубликаты\n",
    "\n",
    "Определим количество дубликатов в данных в части train."
   ]
  },
  {
   "cell_type": "code",
   "execution_count": 73,
   "metadata": {},
   "outputs": [
    {
     "name": "stdout",
     "output_type": "stream",
     "text": [
      "Количество дубликатов строк в train части датафрейма: 3577\n"
     ]
    }
   ],
   "source": [
    "print(\"Количество дубликатов строк в train части датафрейма:\",\n",
    "      data[data.train == 1].duplicated().sum())"
   ]
  },
  {
   "cell_type": "code",
   "execution_count": 74,
   "metadata": {},
   "outputs": [],
   "source": [
    "# Удалим дубликаты из датасета\n",
    "data.drop_duplicates(inplace=True)"
   ]
  },
  {
   "cell_type": "markdown",
   "metadata": {},
   "source": [
    "### 3.7 Анализ пропусков\n",
    "\n",
    "Посмотрим вцелом на наличие пустых значений и определим стратегию работы с ними."
   ]
  },
  {
   "cell_type": "code",
   "execution_count": 75,
   "metadata": {},
   "outputs": [],
   "source": [
    "def intitial_eda_checks(df, missing_percent):\n",
    "    '''\n",
    "    Функция принимает на вход датафрейм, а также заданный порог % пустых значений, который хотим обработать. \n",
    "    На выход выводит на экран информацию о сумме пустых значений для всех колонок, а также проце\n",
    "    '''\n",
    "    if df.isnull().sum().sum() > 0:\n",
    "        mask_total = df.isnull().sum().sort_values(ascending=False)\n",
    "        total = mask_total[mask_total > 0]\n",
    "\n",
    "        mask_percent = df.isnull().mean().sort_values(ascending=False)\n",
    "        percent = mask_percent[mask_percent > 0]\n",
    "\n",
    "        series = mask_percent[mask_percent > missing_percent]\n",
    "        columns = series.index.to_list()\n",
    "\n",
    "        missing_data = pd.DataFrame(pd.concat(\n",
    "            [total, round(percent*100, 2)], axis=1, keys=['Количество', '%']))\n",
    "        print('Сумма и процент значений NaN:\\n \\n')\n",
    "        display(missing_data)\n",
    "    else:\n",
    "        print('NaN значения не найдены.')"
   ]
  },
  {
   "cell_type": "code",
   "execution_count": 182,
   "metadata": {},
   "outputs": [
    {
     "name": "stdout",
     "output_type": "stream",
     "text": [
      "Пропуски для TEST+TRAIN датафрейов.\n",
      "\n",
      "Сумма и процент значений NaN:\n",
      " \n",
      "\n"
     ]
    },
    {
     "data": {
      "text/html": [
       "<div>\n",
       "<style scoped>\n",
       "    .dataframe tbody tr th:only-of-type {\n",
       "        vertical-align: middle;\n",
       "    }\n",
       "\n",
       "    .dataframe tbody tr th {\n",
       "        vertical-align: top;\n",
       "    }\n",
       "\n",
       "    .dataframe thead th {\n",
       "        text-align: right;\n",
       "    }\n",
       "</style>\n",
       "<table border=\"1\" class=\"dataframe\">\n",
       "  <thead>\n",
       "    <tr style=\"text-align: right;\">\n",
       "      <th></th>\n",
       "      <th>Количество</th>\n",
       "      <th>%</th>\n",
       "    </tr>\n",
       "  </thead>\n",
       "  <tbody>\n",
       "    <tr>\n",
       "      <th>ownershipTimeMonths</th>\n",
       "      <td>79233</td>\n",
       "      <td>65.99</td>\n",
       "    </tr>\n",
       "    <tr>\n",
       "      <th>ownersCount</th>\n",
       "      <td>10530</td>\n",
       "      <td>8.77</td>\n",
       "    </tr>\n",
       "    <tr>\n",
       "      <th>description</th>\n",
       "      <td>3212</td>\n",
       "      <td>2.68</td>\n",
       "    </tr>\n",
       "  </tbody>\n",
       "</table>\n",
       "</div>"
      ],
      "text/plain": [
       "                     Количество      %\n",
       "ownershipTimeMonths       79233  65.99\n",
       "ownersCount               10530   8.77\n",
       "description                3212   2.68"
      ]
     },
     "metadata": {},
     "output_type": "display_data"
    }
   ],
   "source": [
    "# Запускаем функцию вывода всех пустых значений\n",
    "print(\"Пропуски для TEST+TRAIN датафрейов.\\n\")\n",
    "intitial_eda_checks(data, 0)"
   ]
  },
  {
   "cell_type": "code",
   "execution_count": 77,
   "metadata": {},
   "outputs": [
    {
     "name": "stdout",
     "output_type": "stream",
     "text": [
      "Пропуски для TEST датафрейма.\n",
      "\n",
      "Сумма и процент значений NaN:\n",
      " \n",
      "\n"
     ]
    },
    {
     "data": {
      "text/html": [
       "<div>\n",
       "<style scoped>\n",
       "    .dataframe tbody tr th:only-of-type {\n",
       "        vertical-align: middle;\n",
       "    }\n",
       "\n",
       "    .dataframe tbody tr th {\n",
       "        vertical-align: top;\n",
       "    }\n",
       "\n",
       "    .dataframe thead th {\n",
       "        text-align: right;\n",
       "    }\n",
       "</style>\n",
       "<table border=\"1\" class=\"dataframe\">\n",
       "  <thead>\n",
       "    <tr style=\"text-align: right;\">\n",
       "      <th></th>\n",
       "      <th>Количество</th>\n",
       "      <th>%</th>\n",
       "    </tr>\n",
       "  </thead>\n",
       "  <tbody>\n",
       "    <tr>\n",
       "      <th>ownershipTime</th>\n",
       "      <td>22691</td>\n",
       "      <td>65.42</td>\n",
       "    </tr>\n",
       "    <tr>\n",
       "      <th>tcp</th>\n",
       "      <td>1</td>\n",
       "      <td>0.00</td>\n",
       "    </tr>\n",
       "  </tbody>\n",
       "</table>\n",
       "</div>"
      ],
      "text/plain": [
       "               Количество      %\n",
       "ownershipTime       22691  65.42\n",
       "tcp                     1   0.00"
      ]
     },
     "metadata": {},
     "output_type": "display_data"
    }
   ],
   "source": [
    "print(\"Пропуски для TEST датафрейма.\\n\")\n",
    "intitial_eda_checks(data[data.train == 0], 0)"
   ]
  },
  {
   "cell_type": "code",
   "execution_count": 78,
   "metadata": {},
   "outputs": [
    {
     "data": {
      "image/png": "[encoded data removed]",
      "text/plain": [
       "<Figure size 432x288 with 1 Axes>"
      ]
     },
     "metadata": {},
     "output_type": "display_data"
    }
   ],
   "source": [
    "# Посмотрим, как распределены пропуски в части train\n",
    "ax = plt.axes()\n",
    "sns.heatmap(data[data.train == 1].isnull(),\n",
    "            yticklabels=False, cbar=False, cmap='Blues')\n",
    "ax.set_title('Распределение пропусков в TRAIN')\n",
    "plt.show()"
   ]
  },
  {
   "cell_type": "code",
   "execution_count": 79,
   "metadata": {},
   "outputs": [
    {
     "data": {
      "image/png": "[encoded data removed]",
      "text/plain": [
       "<Figure size 432x288 with 1 Axes>"
      ]
     },
     "metadata": {},
     "output_type": "display_data"
    }
   ],
   "source": [
    "# Посмотрим, как распределены пропуски в части test\n",
    "ax = plt.axes()\n",
    "sns.heatmap(data[data.train == 0].isnull(),\n",
    "            yticklabels=False, cbar=False, cmap='Blues')\n",
    "ax.set_title('Распределение пропусков в TEST')\n",
    "plt.show()"
   ]
  },
  {
   "cell_type": "markdown",
   "metadata": {},
   "source": [
    "В таблице выведена информация по всем пустым значениям для всех столбцов основного рабочего датасета (data).\n",
    "\n",
    "Выводы и стратегия обработки:\n",
    "1. В 15 столбцах присутствуют пропуски.\n",
    "2. Test:\n",
    "    - [x] tcp: пропуск в одной записи, посмотреть на нее детально, попробовать восстановить или заполнить модой\n",
    "    - [x] ownershipTime: много пропусков (около 65%), проанализировать с чем скоррелирован признак, попробовать заполнить. Если заполнить не получится, то возможно, удалить из признаков для моделирования.\n",
    "3. Train + Test:\n",
    "    - [ ] ownersCount (10554) - можно построить мапинг с медианой/модой по группам в зависимости от года выпуска авто. Заполним пропуски на этапе детального анализа признака.\n",
    "    - [x] price (410) - значения с пропусками удалить из данных \n",
    "    - [x] tcp (310) - поисследовать пропуски и подумать над способами заполнения.\n",
    "    - [x] есть ряд столбцов, где присутсвует ровно один пропуск. Проверить гипотезу, что пропуски находятся в одной и той же строке.\n",
    "    - [x] description заполнить не удастся, колонка в таком виде, как есть, будет удаляться."
   ]
  },
  {
   "cell_type": "markdown",
   "metadata": {},
   "source": [
    "Займемся обработкой пропусков по описанной выше стратегии."
   ]
  },
  {
   "cell_type": "markdown",
   "metadata": {},
   "source": [
    "**price**"
   ]
  },
  {
   "cell_type": "code",
   "execution_count": 80,
   "metadata": {},
   "outputs": [
    {
     "data": {
      "text/plain": [
       "1    410\n",
       "Name: train, dtype: int64"
      ]
     },
     "execution_count": 80,
     "metadata": {},
     "output_type": "execute_result"
    }
   ],
   "source": [
    "# Проверим, что price отсуствует именно в train данных и мы не затроним test\n",
    "data[data.price.isnull() == True]['train'].value_counts()"
   ]
  },
  {
   "cell_type": "code",
   "execution_count": 81,
   "metadata": {},
   "outputs": [],
   "source": [
    "# Удаляем строки с price = NAN\n",
    "data.dropna(subset=['price'], inplace=True)"
   ]
  },
  {
   "cell_type": "markdown",
   "metadata": {},
   "source": [
    "**Гипотеза, что NAN с одной строкой - это одна и та же запись**"
   ]
  },
  {
   "cell_type": "code",
   "execution_count": 82,
   "metadata": {},
   "outputs": [
    {
     "data": {
      "text/html": [
       "<div>\n",
       "<style scoped>\n",
       "    .dataframe tbody tr th:only-of-type {\n",
       "        vertical-align: middle;\n",
       "    }\n",
       "\n",
       "    .dataframe tbody tr th {\n",
       "        vertical-align: top;\n",
       "    }\n",
       "\n",
       "    .dataframe thead th {\n",
       "        text-align: right;\n",
       "    }\n",
       "</style>\n",
       "<table border=\"1\" class=\"dataframe\">\n",
       "  <thead>\n",
       "    <tr style=\"text-align: right;\">\n",
       "      <th></th>\n",
       "      <th>bodyType</th>\n",
       "      <th>brand</th>\n",
       "      <th>color</th>\n",
       "      <th>fuelType</th>\n",
       "      <th>modelDate</th>\n",
       "      <th>name</th>\n",
       "      <th>numberOfDoors</th>\n",
       "      <th>productionDate</th>\n",
       "      <th>vehicleConfiguration</th>\n",
       "      <th>vehicleTransmission</th>\n",
       "      <th>...</th>\n",
       "      <th>tcp</th>\n",
       "      <th>customs</th>\n",
       "      <th>ownershipTime</th>\n",
       "      <th>price</th>\n",
       "      <th>model</th>\n",
       "      <th>vendor</th>\n",
       "      <th>train</th>\n",
       "      <th>sell_id</th>\n",
       "      <th>transmission</th>\n",
       "      <th>automaticType</th>\n",
       "    </tr>\n",
       "  </thead>\n",
       "  <tbody>\n",
       "    <tr>\n",
       "      <th>24624</th>\n",
       "      <td>nan</td>\n",
       "      <td>HONDA</td>\n",
       "      <td>серебристый</td>\n",
       "      <td>универсал</td>\n",
       "      <td>&lt;NA&gt;</td>\n",
       "      <td>NaN</td>\n",
       "      <td>&lt;NA&gt;</td>\n",
       "      <td>1989</td>\n",
       "      <td>NaN</td>\n",
       "      <td>NaN</td>\n",
       "      <td>...</td>\n",
       "      <td>оригинал</td>\n",
       "      <td>1</td>\n",
       "      <td>None</td>\n",
       "      <td>120000.0</td>\n",
       "      <td>CIVIC</td>\n",
       "      <td>JAPANESE</td>\n",
       "      <td>1</td>\n",
       "      <td>0</td>\n",
       "      <td>NaN</td>\n",
       "      <td>NaN</td>\n",
       "    </tr>\n",
       "  </tbody>\n",
       "</table>\n",
       "<p>1 rows × 28 columns</p>\n",
       "</div>"
      ],
      "text/plain": [
       "      bodyType  brand        color   fuelType  modelDate name numberOfDoors  \\\n",
       "24624      nan  HONDA  серебристый  универсал       <NA>  NaN          <NA>   \n",
       "\n",
       "       productionDate vehicleConfiguration vehicleTransmission  ...       tcp  \\\n",
       "24624            1989                  NaN                 NaN  ...  оригинал   \n",
       "\n",
       "       customs ownershipTime     price  model    vendor  train  sell_id  \\\n",
       "24624        1          None  120000.0  CIVIC  JAPANESE      1        0   \n",
       "\n",
       "      transmission  automaticType  \n",
       "24624          NaN            NaN  \n",
       "\n",
       "[1 rows x 28 columns]"
      ]
     },
     "execution_count": 82,
     "metadata": {},
     "output_type": "execute_result"
    }
   ],
   "source": [
    "data[data.modelDate.isnull() == True]"
   ]
  },
  {
   "cell_type": "code",
   "execution_count": 83,
   "metadata": {},
   "outputs": [
    {
     "name": "stdout",
     "output_type": "stream",
     "text": [
      "Индекс строки к удалению: 24624\n"
     ]
    }
   ],
   "source": [
    "# Посмотрим, что за строка, где modelDate = NaN\n",
    "print(\"Индекс строки к удалению:\",\n",
    "      data[data.modelDate.isnull() == True].index[0])"
   ]
  },
  {
   "cell_type": "markdown",
   "metadata": {},
   "source": [
    "Действительно, в одной строке очень много пропусков, при этом машина 1989, недорогая. Удаляем."
   ]
  },
  {
   "cell_type": "code",
   "execution_count": 84,
   "metadata": {},
   "outputs": [],
   "source": [
    "# Удаляем строку\n",
    "data.drop([24624], inplace=True)"
   ]
  },
  {
   "cell_type": "markdown",
   "metadata": {},
   "source": [
    "**tcp**\n",
    "\n",
    "Проверим гипотезу, что:\n",
    "- tcp пустой у новых машин\n",
    "- tcp пустой там, где это дубликат."
   ]
  },
  {
   "cell_type": "code",
   "execution_count": 85,
   "metadata": {},
   "outputs": [
    {
     "data": {
      "text/html": [
       "<div>\n",
       "<style scoped>\n",
       "    .dataframe tbody tr th:only-of-type {\n",
       "        vertical-align: middle;\n",
       "    }\n",
       "\n",
       "    .dataframe tbody tr th {\n",
       "        vertical-align: top;\n",
       "    }\n",
       "\n",
       "    .dataframe thead th {\n",
       "        text-align: right;\n",
       "    }\n",
       "</style>\n",
       "<table border=\"1\" class=\"dataframe\">\n",
       "  <thead>\n",
       "    <tr style=\"text-align: right;\">\n",
       "      <th></th>\n",
       "      <th>bodyType</th>\n",
       "      <th>brand</th>\n",
       "      <th>color</th>\n",
       "      <th>fuelType</th>\n",
       "      <th>modelDate</th>\n",
       "      <th>name</th>\n",
       "      <th>numberOfDoors</th>\n",
       "      <th>productionDate</th>\n",
       "      <th>vehicleConfiguration</th>\n",
       "      <th>vehicleTransmission</th>\n",
       "      <th>...</th>\n",
       "      <th>tcp</th>\n",
       "      <th>customs</th>\n",
       "      <th>ownershipTime</th>\n",
       "      <th>price</th>\n",
       "      <th>model</th>\n",
       "      <th>vendor</th>\n",
       "      <th>train</th>\n",
       "      <th>sell_id</th>\n",
       "      <th>transmission</th>\n",
       "      <th>automaticType</th>\n",
       "    </tr>\n",
       "  </thead>\n",
       "  <tbody>\n",
       "    <tr>\n",
       "      <th>10002</th>\n",
       "      <td>внедорожник 5 дв.</td>\n",
       "      <td>BMW</td>\n",
       "      <td>чёрный</td>\n",
       "      <td>дизель</td>\n",
       "      <td>2018</td>\n",
       "      <td>25d 2.0d AT (231 л.с.) 4WD</td>\n",
       "      <td>5</td>\n",
       "      <td>2020</td>\n",
       "      <td>ALLROAD_5_DOORS AUTOMATIC 25d</td>\n",
       "      <td>AUTOMATIC</td>\n",
       "      <td>...</td>\n",
       "      <td>NaN</td>\n",
       "      <td>1</td>\n",
       "      <td>None</td>\n",
       "      <td>4979900.0</td>\n",
       "      <td>X5</td>\n",
       "      <td>EUROPEAN</td>\n",
       "      <td>1</td>\n",
       "      <td>0</td>\n",
       "      <td>автомат</td>\n",
       "      <td>автоматическая</td>\n",
       "    </tr>\n",
       "    <tr>\n",
       "      <th>17382</th>\n",
       "      <td>минивэн xl</td>\n",
       "      <td>CITROEN</td>\n",
       "      <td>чёрный</td>\n",
       "      <td>дизель</td>\n",
       "      <td>2016</td>\n",
       "      <td>XL 2.0d AT (150 л.с.)</td>\n",
       "      <td>5</td>\n",
       "      <td>2020</td>\n",
       "      <td>MINIVAN AUTOMATIC XL</td>\n",
       "      <td>AUTOMATIC</td>\n",
       "      <td>...</td>\n",
       "      <td>NaN</td>\n",
       "      <td>1</td>\n",
       "      <td>None</td>\n",
       "      <td>3179900.0</td>\n",
       "      <td>SPACETOURER</td>\n",
       "      <td>EUROPEAN</td>\n",
       "      <td>1</td>\n",
       "      <td>0</td>\n",
       "      <td>автомат</td>\n",
       "      <td>автоматическая</td>\n",
       "    </tr>\n",
       "    <tr>\n",
       "      <th>49424</th>\n",
       "      <td>внедорожник 5 дв.</td>\n",
       "      <td>NISSAN</td>\n",
       "      <td>белый</td>\n",
       "      <td>бензин</td>\n",
       "      <td>2017</td>\n",
       "      <td>2.0 CVT (144 л.с.)</td>\n",
       "      <td>5</td>\n",
       "      <td>2020</td>\n",
       "      <td>ALLROAD_5_DOORS VARIATOR 2.0</td>\n",
       "      <td>VARIATOR</td>\n",
       "      <td>...</td>\n",
       "      <td>NaN</td>\n",
       "      <td>1</td>\n",
       "      <td>None</td>\n",
       "      <td>1825300.0</td>\n",
       "      <td>QASHQAI</td>\n",
       "      <td>JAPANESE</td>\n",
       "      <td>1</td>\n",
       "      <td>0</td>\n",
       "      <td>автомат</td>\n",
       "      <td>вариатор</td>\n",
       "    </tr>\n",
       "  </tbody>\n",
       "</table>\n",
       "<p>3 rows × 28 columns</p>\n",
       "</div>"
      ],
      "text/plain": [
       "                bodyType    brand   color fuelType  modelDate  \\\n",
       "10002  внедорожник 5 дв.      BMW  чёрный   дизель       2018   \n",
       "17382         минивэн xl  CITROEN  чёрный   дизель       2016   \n",
       "49424  внедорожник 5 дв.   NISSAN   белый   бензин       2017   \n",
       "\n",
       "                             name numberOfDoors  productionDate  \\\n",
       "10002  25d 2.0d AT (231 л.с.) 4WD             5            2020   \n",
       "17382       XL 2.0d AT (150 л.с.)             5            2020   \n",
       "49424          2.0 CVT (144 л.с.)             5            2020   \n",
       "\n",
       "                vehicleConfiguration vehicleTransmission  ...  tcp  customs  \\\n",
       "10002  ALLROAD_5_DOORS AUTOMATIC 25d           AUTOMATIC  ...  NaN        1   \n",
       "17382           MINIVAN AUTOMATIC XL           AUTOMATIC  ...  NaN        1   \n",
       "49424   ALLROAD_5_DOORS VARIATOR 2.0            VARIATOR  ...  NaN        1   \n",
       "\n",
       "      ownershipTime      price        model    vendor  train  sell_id  \\\n",
       "10002          None  4979900.0           X5  EUROPEAN      1        0   \n",
       "17382          None  3179900.0  SPACETOURER  EUROPEAN      1        0   \n",
       "49424          None  1825300.0      QASHQAI  JAPANESE      1        0   \n",
       "\n",
       "      transmission   automaticType  \n",
       "10002      автомат  автоматическая  \n",
       "17382      автомат  автоматическая  \n",
       "49424      автомат        вариатор  \n",
       "\n",
       "[3 rows x 28 columns]"
      ]
     },
     "execution_count": 85,
     "metadata": {},
     "output_type": "execute_result"
    }
   ],
   "source": [
    "# Посмотрим на пример таких данных\n",
    "data[data.tcp.isnull() == True].sample(3)"
   ]
  },
  {
   "cell_type": "code",
   "execution_count": 86,
   "metadata": {},
   "outputs": [
    {
     "data": {
      "text/html": [
       "<div>\n",
       "<style scoped>\n",
       "    .dataframe tbody tr th:only-of-type {\n",
       "        vertical-align: middle;\n",
       "    }\n",
       "\n",
       "    .dataframe tbody tr th {\n",
       "        vertical-align: top;\n",
       "    }\n",
       "\n",
       "    .dataframe thead th {\n",
       "        text-align: right;\n",
       "    }\n",
       "</style>\n",
       "<table border=\"1\" class=\"dataframe\">\n",
       "  <thead>\n",
       "    <tr style=\"text-align: right;\">\n",
       "      <th></th>\n",
       "      <th>mileage</th>\n",
       "      <th>ownersCount</th>\n",
       "    </tr>\n",
       "    <tr>\n",
       "      <th>productionDate</th>\n",
       "      <th></th>\n",
       "      <th></th>\n",
       "    </tr>\n",
       "  </thead>\n",
       "  <tbody>\n",
       "    <tr>\n",
       "      <th>1999</th>\n",
       "      <td>276000</td>\n",
       "      <td>3.0</td>\n",
       "    </tr>\n",
       "    <tr>\n",
       "      <th>2018</th>\n",
       "      <td>0</td>\n",
       "      <td>NaN</td>\n",
       "    </tr>\n",
       "    <tr>\n",
       "      <th>2019</th>\n",
       "      <td>0</td>\n",
       "      <td>NaN</td>\n",
       "    </tr>\n",
       "    <tr>\n",
       "      <th>2020</th>\n",
       "      <td>0</td>\n",
       "      <td>NaN</td>\n",
       "    </tr>\n",
       "  </tbody>\n",
       "</table>\n",
       "</div>"
      ],
      "text/plain": [
       "                mileage  ownersCount\n",
       "productionDate                      \n",
       "1999             276000          3.0\n",
       "2018                  0          NaN\n",
       "2019                  0          NaN\n",
       "2020                  0          NaN"
      ]
     },
     "execution_count": 86,
     "metadata": {},
     "output_type": "execute_result"
    }
   ],
   "source": [
    "# Сгруппируем данные по году выпуска и выведем медианный пробег и кол-во владельцев\n",
    "data[data.tcp.isnull() == True].groupby('productionDate')[\n",
    "    'mileage', 'ownersCount'].median()"
   ]
  },
  {
   "cell_type": "markdown",
   "metadata": {},
   "source": [
    "Действительно, выглядит так, что NAN - для новых машин и одной машины с теста. \n",
    "Стратегия заполнения:\n",
    "- для новых авто: новое значение \"новая\"\n",
    "- для 10412 из test: попробуем \"дубликат\""
   ]
  },
  {
   "cell_type": "code",
   "execution_count": 87,
   "metadata": {},
   "outputs": [],
   "source": [
    "# Заполняем test значением дубликат\n",
    "data.tcp.loc[data[(data.tcp.isnull() == True) & (\n",
    "    data.train == 0)]['tcp'].index[0]] = 'дубликат'"
   ]
  },
  {
   "cell_type": "code",
   "execution_count": 88,
   "metadata": {},
   "outputs": [
    {
     "data": {
      "text/plain": [
       "0    348\n",
       "Name: mileage, dtype: int64"
      ]
     },
     "execution_count": 88,
     "metadata": {},
     "output_type": "execute_result"
    }
   ],
   "source": [
    "# Смотрим, какой mileage у оставшихся записей. Удостоверимся, что это авто без пробега\n",
    "data[data.tcp.isnull() == True].mileage.value_counts()"
   ]
  },
  {
   "cell_type": "code",
   "execution_count": 89,
   "metadata": {},
   "outputs": [],
   "source": [
    "# Заполняем значением \"новое авто\"\n",
    "data.tcp.fillna('новое_авто', inplace=True)"
   ]
  },
  {
   "cell_type": "code",
   "execution_count": 90,
   "metadata": {},
   "outputs": [
    {
     "data": {
      "text/plain": [
       "оригинал      104833\n",
       "дубликат       14895\n",
       "новое_авто       348\n",
       "Name: tcp, dtype: int64"
      ]
     },
     "execution_count": 90,
     "metadata": {},
     "output_type": "execute_result"
    }
   ],
   "source": [
    "# Проверяем, что получилось\n",
    "data.tcp.value_counts()"
   ]
  },
  {
   "cell_type": "markdown",
   "metadata": {},
   "source": [
    "**description**"
   ]
  },
  {
   "cell_type": "code",
   "execution_count": 91,
   "metadata": {},
   "outputs": [],
   "source": [
    "# добавим колонку в список на удаление перед построением модели\n",
    "cols_removal.append('description')"
   ]
  },
  {
   "cell_type": "markdown",
   "metadata": {},
   "source": [
    "**OwnershipTime**\n",
    "\n",
    "Попробуем восстановить информацию о времени владении, исходя из информации в productionDate."
   ]
  },
  {
   "cell_type": "markdown",
   "metadata": {},
   "source": [
    "Создадим на базе признака колонку, в которой поместим инфрмацию о количестве месяцев владения автомобилем."
   ]
  },
  {
   "cell_type": "code",
   "execution_count": 93,
   "metadata": {},
   "outputs": [],
   "source": [
    "def num_of_months(row):\n",
    "    \"\"\"\n",
    "    Функция перевеодит формат данных \"x лет y месяца(ев)\" в количество месяцев.\n",
    "    Вход: строка series.\n",
    "    Выход: количество месяцев\n",
    "    \"\"\"\n",
    "    if pd.notnull(row) and row != 'no_data':\n",
    "        list_ownership = row.split()  # разделяем строку на список из месяца и лет\n",
    "        if len(list_ownership) == 2:  # если содержится информация только про годы\n",
    "            if list_ownership[1] in ['год', 'года', 'лет']:\n",
    "                return int(list_ownership[0])*12\n",
    "            return int(list_ownership[0])  # переводим год в месяцы\n",
    "        # случай, когда содержится инфо только про месяц\n",
    "        # прибавляем к годам*12 количетсво месяцев\n",
    "        return int(list_ownership[0])*12 + int(list_ownership[3])"
   ]
  },
  {
   "cell_type": "code",
   "execution_count": 94,
   "metadata": {},
   "outputs": [],
   "source": [
    "# Создаем новый столбец с количеством месяцев владения\n",
    "data['ownershipTimeMonths'] = data['ownershipTime'].apply(num_of_months)"
   ]
  },
  {
   "cell_type": "code",
   "execution_count": 92,
   "metadata": {},
   "outputs": [],
   "source": [
    "# Пока заполняем пропуски no_data, далее решаем, что сделать с признаком\n",
    "data['ownershipTime'] = data['ownershipTime'].fillna('no_data')"
   ]
  },
  {
   "cell_type": "code",
   "execution_count": 95,
   "metadata": {},
   "outputs": [
    {
     "data": {
      "text/html": [
       "<div>\n",
       "<style scoped>\n",
       "    .dataframe tbody tr th:only-of-type {\n",
       "        vertical-align: middle;\n",
       "    }\n",
       "\n",
       "    .dataframe tbody tr th {\n",
       "        vertical-align: top;\n",
       "    }\n",
       "\n",
       "    .dataframe thead th {\n",
       "        text-align: right;\n",
       "    }\n",
       "</style>\n",
       "<table border=\"1\" class=\"dataframe\">\n",
       "  <thead>\n",
       "    <tr style=\"text-align: right;\">\n",
       "      <th></th>\n",
       "      <th>ownershipTime</th>\n",
       "      <th>ownershipTimeMonths</th>\n",
       "    </tr>\n",
       "  </thead>\n",
       "  <tbody>\n",
       "    <tr>\n",
       "      <th>12800</th>\n",
       "      <td>1 месяц</td>\n",
       "      <td>1.0</td>\n",
       "    </tr>\n",
       "    <tr>\n",
       "      <th>106899</th>\n",
       "      <td>3 года и 10 месяцев</td>\n",
       "      <td>46.0</td>\n",
       "    </tr>\n",
       "    <tr>\n",
       "      <th>6485</th>\n",
       "      <td>1 год и 5 месяцев</td>\n",
       "      <td>17.0</td>\n",
       "    </tr>\n",
       "    <tr>\n",
       "      <th>31188</th>\n",
       "      <td>10 лет</td>\n",
       "      <td>120.0</td>\n",
       "    </tr>\n",
       "    <tr>\n",
       "      <th>37309</th>\n",
       "      <td>3 годa и 8 месяцев</td>\n",
       "      <td>44.0</td>\n",
       "    </tr>\n",
       "  </tbody>\n",
       "</table>\n",
       "</div>"
      ],
      "text/plain": [
       "              ownershipTime  ownershipTimeMonths\n",
       "12800               1 месяц                  1.0\n",
       "106899  3 года и 10 месяцев                 46.0\n",
       "6485      1 год и 5 месяцев                 17.0\n",
       "31188                10 лет                120.0\n",
       "37309    3 годa и 8 месяцев                 44.0"
      ]
     },
     "execution_count": 95,
     "metadata": {},
     "output_type": "execute_result"
    }
   ],
   "source": [
    "# Смотрим, что получилось\n",
    "data[data.ownershipTime != 'no_data'][[\n",
    "    'ownershipTime', 'ownershipTimeMonths']].sample(5)"
   ]
  },
  {
   "cell_type": "code",
   "execution_count": 191,
   "metadata": {},
   "outputs": [],
   "source": [
    "data['prodTimeMonths'] = data['productionDate'].apply(lambda x: (current_year - x)*12)"
   ]
  },
  {
   "cell_type": "code",
   "execution_count": 194,
   "metadata": {},
   "outputs": [
    {
     "data": {
      "text/html": [
       "<div>\n",
       "<style scoped>\n",
       "    .dataframe tbody tr th:only-of-type {\n",
       "        vertical-align: middle;\n",
       "    }\n",
       "\n",
       "    .dataframe tbody tr th {\n",
       "        vertical-align: top;\n",
       "    }\n",
       "\n",
       "    .dataframe thead th {\n",
       "        text-align: right;\n",
       "    }\n",
       "</style>\n",
       "<table border=\"1\" class=\"dataframe\">\n",
       "  <thead>\n",
       "    <tr style=\"text-align: right;\">\n",
       "      <th></th>\n",
       "      <th>prodTimeMonths</th>\n",
       "      <th>ownershipTimeMonths</th>\n",
       "    </tr>\n",
       "  </thead>\n",
       "  <tbody>\n",
       "    <tr>\n",
       "      <th>count</th>\n",
       "      <td>40702.000000</td>\n",
       "      <td>40702.000000</td>\n",
       "    </tr>\n",
       "    <tr>\n",
       "      <th>mean</th>\n",
       "      <td>129.996953</td>\n",
       "      <td>48.564788</td>\n",
       "    </tr>\n",
       "    <tr>\n",
       "      <th>std</th>\n",
       "      <td>78.326732</td>\n",
       "      <td>43.414786</td>\n",
       "    </tr>\n",
       "    <tr>\n",
       "      <th>min</th>\n",
       "      <td>12.000000</td>\n",
       "      <td>1.000000</td>\n",
       "    </tr>\n",
       "    <tr>\n",
       "      <th>25%</th>\n",
       "      <td>84.000000</td>\n",
       "      <td>16.000000</td>\n",
       "    </tr>\n",
       "    <tr>\n",
       "      <th>50%</th>\n",
       "      <td>120.000000</td>\n",
       "      <td>36.000000</td>\n",
       "    </tr>\n",
       "    <tr>\n",
       "      <th>75%</th>\n",
       "      <td>168.000000</td>\n",
       "      <td>72.000000</td>\n",
       "    </tr>\n",
       "    <tr>\n",
       "      <th>max</th>\n",
       "      <td>1392.000000</td>\n",
       "      <td>514.000000</td>\n",
       "    </tr>\n",
       "  </tbody>\n",
       "</table>\n",
       "</div>"
      ],
      "text/plain": [
       "       prodTimeMonths  ownershipTimeMonths\n",
       "count    40702.000000         40702.000000\n",
       "mean       129.996953            48.564788\n",
       "std         78.326732            43.414786\n",
       "min         12.000000             1.000000\n",
       "25%         84.000000            16.000000\n",
       "50%        120.000000            36.000000\n",
       "75%        168.000000            72.000000\n",
       "max       1392.000000           514.000000"
      ]
     },
     "execution_count": 194,
     "metadata": {},
     "output_type": "execute_result"
    }
   ],
   "source": [
    "data[(data.ownershipTimeMonths.isnull() == False) & (\n",
    "    data.productionDate != 2020)][['prodTimeMonths', 'ownershipTimeMonths']].describe()"
   ]
  },
  {
   "cell_type": "code",
   "execution_count": 189,
   "metadata": {},
   "outputs": [
    {
     "ename": "ValueError",
     "evalue": "The truth value of a Series is ambiguous. Use a.empty, a.bool(), a.item(), a.any() or a.all().",
     "output_type": "error",
     "traceback": [
      "\u001b[0;31m---------------------------------------------------------------------------\u001b[0m",
      "\u001b[0;31mValueError\u001b[0m                                Traceback (most recent call last)",
      "\u001b[0;32m<ipython-input-189-c8b209eac073>\u001b[0m in \u001b[0;36m<module>\u001b[0;34m\u001b[0m\n\u001b[1;32m      1\u001b[0m \u001b[0;31m# Заполним пропуски для новых автомобилей нулями\u001b[0m\u001b[0;34m\u001b[0m\u001b[0;34m\u001b[0m\u001b[0;34m\u001b[0m\u001b[0m\n\u001b[0;32m----> 2\u001b[0;31m data.ownershipTimeMonths = data.ownershipTimeMonths.apply(\n\u001b[0m\u001b[1;32m      3\u001b[0m     lambda x: 0 if ((data.mileage == 0) & (data.productionDate == 2020)) else x)\n",
      "\u001b[0;32m~/opt/anaconda3/lib/python3.8/site-packages/pandas/core/series.py\u001b[0m in \u001b[0;36mapply\u001b[0;34m(self, func, convert_dtype, args, **kwds)\u001b[0m\n\u001b[1;32m   3846\u001b[0m             \u001b[0;32melse\u001b[0m\u001b[0;34m:\u001b[0m\u001b[0;34m\u001b[0m\u001b[0;34m\u001b[0m\u001b[0m\n\u001b[1;32m   3847\u001b[0m                 \u001b[0mvalues\u001b[0m \u001b[0;34m=\u001b[0m \u001b[0mself\u001b[0m\u001b[0;34m.\u001b[0m\u001b[0mastype\u001b[0m\u001b[0;34m(\u001b[0m\u001b[0mobject\u001b[0m\u001b[0;34m)\u001b[0m\u001b[0;34m.\u001b[0m\u001b[0mvalues\u001b[0m\u001b[0;34m\u001b[0m\u001b[0;34m\u001b[0m\u001b[0m\n\u001b[0;32m-> 3848\u001b[0;31m                 \u001b[0mmapped\u001b[0m \u001b[0;34m=\u001b[0m \u001b[0mlib\u001b[0m\u001b[0;34m.\u001b[0m\u001b[0mmap_infer\u001b[0m\u001b[0;34m(\u001b[0m\u001b[0mvalues\u001b[0m\u001b[0;34m,\u001b[0m \u001b[0mf\u001b[0m\u001b[0;34m,\u001b[0m \u001b[0mconvert\u001b[0m\u001b[0;34m=\u001b[0m\u001b[0mconvert_dtype\u001b[0m\u001b[0;34m)\u001b[0m\u001b[0;34m\u001b[0m\u001b[0;34m\u001b[0m\u001b[0m\n\u001b[0m\u001b[1;32m   3849\u001b[0m \u001b[0;34m\u001b[0m\u001b[0m\n\u001b[1;32m   3850\u001b[0m         \u001b[0;32mif\u001b[0m \u001b[0mlen\u001b[0m\u001b[0;34m(\u001b[0m\u001b[0mmapped\u001b[0m\u001b[0;34m)\u001b[0m \u001b[0;32mand\u001b[0m \u001b[0misinstance\u001b[0m\u001b[0;34m(\u001b[0m\u001b[0mmapped\u001b[0m\u001b[0;34m[\u001b[0m\u001b[0;36m0\u001b[0m\u001b[0;34m]\u001b[0m\u001b[0;34m,\u001b[0m \u001b[0mSeries\u001b[0m\u001b[0;34m)\u001b[0m\u001b[0;34m:\u001b[0m\u001b[0;34m\u001b[0m\u001b[0;34m\u001b[0m\u001b[0m\n",
      "\u001b[0;32mpandas/_libs/lib.pyx\u001b[0m in \u001b[0;36mpandas._libs.lib.map_infer\u001b[0;34m()\u001b[0m\n",
      "\u001b[0;32m<ipython-input-189-c8b209eac073>\u001b[0m in \u001b[0;36m<lambda>\u001b[0;34m(x)\u001b[0m\n\u001b[1;32m      1\u001b[0m \u001b[0;31m# Заполним пропуски для новых автомобилей нулями\u001b[0m\u001b[0;34m\u001b[0m\u001b[0;34m\u001b[0m\u001b[0;34m\u001b[0m\u001b[0m\n\u001b[1;32m      2\u001b[0m data.ownershipTimeMonths = data.ownershipTimeMonths.apply(\n\u001b[0;32m----> 3\u001b[0;31m     lambda x: 0 if ((data.mileage == 0) & (data.productionDate == 2020)) else x)\n\u001b[0m",
      "\u001b[0;32m~/opt/anaconda3/lib/python3.8/site-packages/pandas/core/generic.py\u001b[0m in \u001b[0;36m__nonzero__\u001b[0;34m(self)\u001b[0m\n\u001b[1;32m   1476\u001b[0m \u001b[0;34m\u001b[0m\u001b[0m\n\u001b[1;32m   1477\u001b[0m     \u001b[0;32mdef\u001b[0m \u001b[0m__nonzero__\u001b[0m\u001b[0;34m(\u001b[0m\u001b[0mself\u001b[0m\u001b[0;34m)\u001b[0m\u001b[0;34m:\u001b[0m\u001b[0;34m\u001b[0m\u001b[0;34m\u001b[0m\u001b[0m\n\u001b[0;32m-> 1478\u001b[0;31m         raise ValueError(\n\u001b[0m\u001b[1;32m   1479\u001b[0m             \u001b[0;34mf\"The truth value of a {type(self).__name__} is ambiguous. \"\u001b[0m\u001b[0;34m\u001b[0m\u001b[0;34m\u001b[0m\u001b[0m\n\u001b[1;32m   1480\u001b[0m             \u001b[0;34m\"Use a.empty, a.bool(), a.item(), a.any() or a.all().\"\u001b[0m\u001b[0;34m\u001b[0m\u001b[0;34m\u001b[0m\u001b[0m\n",
      "\u001b[0;31mValueError\u001b[0m: The truth value of a Series is ambiguous. Use a.empty, a.bool(), a.item(), a.any() or a.all()."
     ]
    }
   ],
   "source": [
    "# Заполним пропуски для новых автомобилей нулями\n",
    "data.ownershipTimeMonths.loc[data[(data.ownershipTimeMonths.isnull(\n",
    ") == True)]['ownershipTimeMonths'].index[0]] = 'дубликат'\n",
    "\n",
    "data.ownershipTimeMonths = data.ownershipTimeMonths.apply(\n",
    "    lambda x: 0 if ((data.mileage == 0) & (data.productionDate == 2020)) else x)"
   ]
  },
  {
   "cell_type": "code",
   "execution_count": 190,
   "metadata": {},
   "outputs": [
    {
     "data": {
      "text/html": [
       "<div>\n",
       "<style scoped>\n",
       "    .dataframe tbody tr th:only-of-type {\n",
       "        vertical-align: middle;\n",
       "    }\n",
       "\n",
       "    .dataframe tbody tr th {\n",
       "        vertical-align: top;\n",
       "    }\n",
       "\n",
       "    .dataframe thead th {\n",
       "        text-align: right;\n",
       "    }\n",
       "</style>\n",
       "<table border=\"1\" class=\"dataframe\">\n",
       "  <thead>\n",
       "    <tr style=\"text-align: right;\">\n",
       "      <th></th>\n",
       "      <th>bodyType</th>\n",
       "      <th>brand</th>\n",
       "      <th>color</th>\n",
       "      <th>fuelType</th>\n",
       "      <th>modelDate</th>\n",
       "      <th>name</th>\n",
       "      <th>numberOfDoors</th>\n",
       "      <th>productionDate</th>\n",
       "      <th>vehicleConfiguration</th>\n",
       "      <th>vehicleTransmission</th>\n",
       "      <th>...</th>\n",
       "      <th>vendor</th>\n",
       "      <th>train</th>\n",
       "      <th>sell_id</th>\n",
       "      <th>transmission</th>\n",
       "      <th>automaticType</th>\n",
       "      <th>ownershipTimeMonths</th>\n",
       "      <th>km_per_year</th>\n",
       "      <th>carNovelty</th>\n",
       "      <th>prodDate_3Y</th>\n",
       "      <th>prodDate_5Y</th>\n",
       "    </tr>\n",
       "  </thead>\n",
       "  <tbody>\n",
       "    <tr>\n",
       "      <th>0</th>\n",
       "      <td>седан</td>\n",
       "      <td>AUDI</td>\n",
       "      <td>чёрный</td>\n",
       "      <td>бензин</td>\n",
       "      <td>1990</td>\n",
       "      <td>2.8 MT (174 л.с.) 4WD</td>\n",
       "      <td>4</td>\n",
       "      <td>1991</td>\n",
       "      <td>SEDAN MECHANICAL 2.8</td>\n",
       "      <td>MECHANICAL</td>\n",
       "      <td>...</td>\n",
       "      <td>EUROPEAN</td>\n",
       "      <td>1</td>\n",
       "      <td>0</td>\n",
       "      <td>механическая</td>\n",
       "      <td>0</td>\n",
       "      <td>NaN</td>\n",
       "      <td>12068.965517</td>\n",
       "      <td>1</td>\n",
       "      <td>False</td>\n",
       "      <td>False</td>\n",
       "    </tr>\n",
       "    <tr>\n",
       "      <th>1</th>\n",
       "      <td>седан</td>\n",
       "      <td>AUDI</td>\n",
       "      <td>красный</td>\n",
       "      <td>бензин</td>\n",
       "      <td>1982</td>\n",
       "      <td>1.8 MT (90 л.с.)</td>\n",
       "      <td>4</td>\n",
       "      <td>1986</td>\n",
       "      <td>SEDAN MECHANICAL 1.8</td>\n",
       "      <td>MECHANICAL</td>\n",
       "      <td>...</td>\n",
       "      <td>EUROPEAN</td>\n",
       "      <td>1</td>\n",
       "      <td>0</td>\n",
       "      <td>механическая</td>\n",
       "      <td>0</td>\n",
       "      <td>NaN</td>\n",
       "      <td>5100.705882</td>\n",
       "      <td>4</td>\n",
       "      <td>False</td>\n",
       "      <td>False</td>\n",
       "    </tr>\n",
       "    <tr>\n",
       "      <th>2</th>\n",
       "      <td>универсал 5 дв.</td>\n",
       "      <td>AUDI</td>\n",
       "      <td>синий</td>\n",
       "      <td>бензин</td>\n",
       "      <td>1988</td>\n",
       "      <td>2.3 MT (136 л.с.) 4WD</td>\n",
       "      <td>5</td>\n",
       "      <td>1989</td>\n",
       "      <td>WAGON_5_DOORS MECHANICAL 2.3</td>\n",
       "      <td>MECHANICAL</td>\n",
       "      <td>...</td>\n",
       "      <td>EUROPEAN</td>\n",
       "      <td>1</td>\n",
       "      <td>0</td>\n",
       "      <td>механическая</td>\n",
       "      <td>0</td>\n",
       "      <td>NaN</td>\n",
       "      <td>7419.354839</td>\n",
       "      <td>1</td>\n",
       "      <td>False</td>\n",
       "      <td>False</td>\n",
       "    </tr>\n",
       "    <tr>\n",
       "      <th>3</th>\n",
       "      <td>седан</td>\n",
       "      <td>AUDI</td>\n",
       "      <td>серебристый</td>\n",
       "      <td>бензин</td>\n",
       "      <td>1988</td>\n",
       "      <td>1.8 MT (90 л.с.)</td>\n",
       "      <td>4</td>\n",
       "      <td>1989</td>\n",
       "      <td>SEDAN MECHANICAL 1.8</td>\n",
       "      <td>MECHANICAL</td>\n",
       "      <td>...</td>\n",
       "      <td>EUROPEAN</td>\n",
       "      <td>1</td>\n",
       "      <td>0</td>\n",
       "      <td>механическая</td>\n",
       "      <td>0</td>\n",
       "      <td>NaN</td>\n",
       "      <td>7741.935484</td>\n",
       "      <td>1</td>\n",
       "      <td>False</td>\n",
       "      <td>False</td>\n",
       "    </tr>\n",
       "    <tr>\n",
       "      <th>4</th>\n",
       "      <td>седан</td>\n",
       "      <td>AUDI</td>\n",
       "      <td>чёрный</td>\n",
       "      <td>бензин</td>\n",
       "      <td>1990</td>\n",
       "      <td>2.0 MT (101 л.с.)</td>\n",
       "      <td>4</td>\n",
       "      <td>1991</td>\n",
       "      <td>SEDAN MECHANICAL 2.0</td>\n",
       "      <td>MECHANICAL</td>\n",
       "      <td>...</td>\n",
       "      <td>EUROPEAN</td>\n",
       "      <td>1</td>\n",
       "      <td>0</td>\n",
       "      <td>механическая</td>\n",
       "      <td>0</td>\n",
       "      <td>NaN</td>\n",
       "      <td>10344.827586</td>\n",
       "      <td>1</td>\n",
       "      <td>False</td>\n",
       "      <td>False</td>\n",
       "    </tr>\n",
       "    <tr>\n",
       "      <th>...</th>\n",
       "      <td>...</td>\n",
       "      <td>...</td>\n",
       "      <td>...</td>\n",
       "      <td>...</td>\n",
       "      <td>...</td>\n",
       "      <td>...</td>\n",
       "      <td>...</td>\n",
       "      <td>...</td>\n",
       "      <td>...</td>\n",
       "      <td>...</td>\n",
       "      <td>...</td>\n",
       "      <td>...</td>\n",
       "      <td>...</td>\n",
       "      <td>...</td>\n",
       "      <td>...</td>\n",
       "      <td>...</td>\n",
       "      <td>...</td>\n",
       "      <td>...</td>\n",
       "      <td>...</td>\n",
       "      <td>...</td>\n",
       "      <td>...</td>\n",
       "    </tr>\n",
       "    <tr>\n",
       "      <th>124054</th>\n",
       "      <td>внедорожник 5 дв.</td>\n",
       "      <td>BMW</td>\n",
       "      <td>серебристый</td>\n",
       "      <td>дизель</td>\n",
       "      <td>2003</td>\n",
       "      <td>3.0d 3.0d AT (218 л.с.) 4WD</td>\n",
       "      <td>5</td>\n",
       "      <td>2003</td>\n",
       "      <td>ALLROAD_5_DOORS AUTOMATIC 3.0</td>\n",
       "      <td>автоматическая</td>\n",
       "      <td>...</td>\n",
       "      <td>EUROPEAN</td>\n",
       "      <td>0</td>\n",
       "      <td>1101368987</td>\n",
       "      <td>автомат</td>\n",
       "      <td>автоматическая</td>\n",
       "      <td>NaN</td>\n",
       "      <td>21764.705882</td>\n",
       "      <td>0</td>\n",
       "      <td>False</td>\n",
       "      <td>False</td>\n",
       "    </tr>\n",
       "    <tr>\n",
       "      <th>124055</th>\n",
       "      <td>седан</td>\n",
       "      <td>BMW</td>\n",
       "      <td>чёрный</td>\n",
       "      <td>бензин</td>\n",
       "      <td>1998</td>\n",
       "      <td>318i 1.9 AT (118 л.с.)</td>\n",
       "      <td>4</td>\n",
       "      <td>2001</td>\n",
       "      <td>SEDAN AUTOMATIC 1.9</td>\n",
       "      <td>автоматическая</td>\n",
       "      <td>...</td>\n",
       "      <td>EUROPEAN</td>\n",
       "      <td>0</td>\n",
       "      <td>1101369375</td>\n",
       "      <td>автомат</td>\n",
       "      <td>автоматическая</td>\n",
       "      <td>NaN</td>\n",
       "      <td>11193.578947</td>\n",
       "      <td>3</td>\n",
       "      <td>False</td>\n",
       "      <td>False</td>\n",
       "    </tr>\n",
       "    <tr>\n",
       "      <th>124060</th>\n",
       "      <td>седан</td>\n",
       "      <td>BMW</td>\n",
       "      <td>чёрный</td>\n",
       "      <td>дизель</td>\n",
       "      <td>2016</td>\n",
       "      <td>520d xDrive 2.0d AT (190 л.с.) 4WD</td>\n",
       "      <td>4</td>\n",
       "      <td>2018</td>\n",
       "      <td>SEDAN AUTOMATIC 2.0</td>\n",
       "      <td>автоматическая</td>\n",
       "      <td>...</td>\n",
       "      <td>EUROPEAN</td>\n",
       "      <td>0</td>\n",
       "      <td>1101369581</td>\n",
       "      <td>автомат</td>\n",
       "      <td>автоматическая</td>\n",
       "      <td>NaN</td>\n",
       "      <td>49000.000000</td>\n",
       "      <td>2</td>\n",
       "      <td>True</td>\n",
       "      <td>False</td>\n",
       "    </tr>\n",
       "    <tr>\n",
       "      <th>124061</th>\n",
       "      <td>седан</td>\n",
       "      <td>BMW</td>\n",
       "      <td>серый</td>\n",
       "      <td>бензин</td>\n",
       "      <td>1995</td>\n",
       "      <td>523i 2.5 AT (170 л.с.)</td>\n",
       "      <td>4</td>\n",
       "      <td>1997</td>\n",
       "      <td>SEDAN AUTOMATIC 2.5</td>\n",
       "      <td>автоматическая</td>\n",
       "      <td>...</td>\n",
       "      <td>EUROPEAN</td>\n",
       "      <td>0</td>\n",
       "      <td>1101364889</td>\n",
       "      <td>автомат</td>\n",
       "      <td>автоматическая</td>\n",
       "      <td>NaN</td>\n",
       "      <td>15652.173913</td>\n",
       "      <td>2</td>\n",
       "      <td>False</td>\n",
       "      <td>False</td>\n",
       "    </tr>\n",
       "    <tr>\n",
       "      <th>124062</th>\n",
       "      <td>внедорожник 5 дв.</td>\n",
       "      <td>BMW</td>\n",
       "      <td>коричневый</td>\n",
       "      <td>дизель</td>\n",
       "      <td>2012</td>\n",
       "      <td>20d 2.0d AT (184 л.с.) 4WD</td>\n",
       "      <td>5</td>\n",
       "      <td>2013</td>\n",
       "      <td>ALLROAD_5_DOORS AUTOMATIC 2.0</td>\n",
       "      <td>автоматическая</td>\n",
       "      <td>...</td>\n",
       "      <td>EUROPEAN</td>\n",
       "      <td>0</td>\n",
       "      <td>1101362518</td>\n",
       "      <td>автомат</td>\n",
       "      <td>автоматическая</td>\n",
       "      <td>NaN</td>\n",
       "      <td>12928.571429</td>\n",
       "      <td>1</td>\n",
       "      <td>False</td>\n",
       "      <td>False</td>\n",
       "    </tr>\n",
       "  </tbody>\n",
       "</table>\n",
       "<p>79233 rows × 34 columns</p>\n",
       "</div>"
      ],
      "text/plain": [
       "                 bodyType brand        color fuelType  modelDate  \\\n",
       "0                   седан  AUDI       чёрный   бензин       1990   \n",
       "1                   седан  AUDI      красный   бензин       1982   \n",
       "2         универсал 5 дв.  AUDI        синий   бензин       1988   \n",
       "3                   седан  AUDI  серебристый   бензин       1988   \n",
       "4                   седан  AUDI       чёрный   бензин       1990   \n",
       "...                   ...   ...          ...      ...        ...   \n",
       "124054  внедорожник 5 дв.   BMW  серебристый   дизель       2003   \n",
       "124055              седан   BMW       чёрный   бензин       1998   \n",
       "124060              седан   BMW       чёрный   дизель       2016   \n",
       "124061              седан   BMW        серый   бензин       1995   \n",
       "124062  внедорожник 5 дв.   BMW   коричневый   дизель       2012   \n",
       "\n",
       "                                      name numberOfDoors  productionDate  \\\n",
       "0                    2.8 MT (174 л.с.) 4WD             4            1991   \n",
       "1                         1.8 MT (90 л.с.)             4            1986   \n",
       "2                    2.3 MT (136 л.с.) 4WD             5            1989   \n",
       "3                         1.8 MT (90 л.с.)             4            1989   \n",
       "4                        2.0 MT (101 л.с.)             4            1991   \n",
       "...                                    ...           ...             ...   \n",
       "124054         3.0d 3.0d AT (218 л.с.) 4WD             5            2003   \n",
       "124055              318i 1.9 AT (118 л.с.)             4            2001   \n",
       "124060  520d xDrive 2.0d AT (190 л.с.) 4WD             4            2018   \n",
       "124061              523i 2.5 AT (170 л.с.)             4            1997   \n",
       "124062          20d 2.0d AT (184 л.с.) 4WD             5            2013   \n",
       "\n",
       "                 vehicleConfiguration vehicleTransmission  ...    vendor  \\\n",
       "0                SEDAN MECHANICAL 2.8          MECHANICAL  ...  EUROPEAN   \n",
       "1                SEDAN MECHANICAL 1.8          MECHANICAL  ...  EUROPEAN   \n",
       "2        WAGON_5_DOORS MECHANICAL 2.3          MECHANICAL  ...  EUROPEAN   \n",
       "3                SEDAN MECHANICAL 1.8          MECHANICAL  ...  EUROPEAN   \n",
       "4                SEDAN MECHANICAL 2.0          MECHANICAL  ...  EUROPEAN   \n",
       "...                               ...                 ...  ...       ...   \n",
       "124054  ALLROAD_5_DOORS AUTOMATIC 3.0      автоматическая  ...  EUROPEAN   \n",
       "124055            SEDAN AUTOMATIC 1.9      автоматическая  ...  EUROPEAN   \n",
       "124060            SEDAN AUTOMATIC 2.0      автоматическая  ...  EUROPEAN   \n",
       "124061            SEDAN AUTOMATIC 2.5      автоматическая  ...  EUROPEAN   \n",
       "124062  ALLROAD_5_DOORS AUTOMATIC 2.0      автоматическая  ...  EUROPEAN   \n",
       "\n",
       "        train     sell_id  transmission   automaticType ownershipTimeMonths  \\\n",
       "0           1           0  механическая               0                 NaN   \n",
       "1           1           0  механическая               0                 NaN   \n",
       "2           1           0  механическая               0                 NaN   \n",
       "3           1           0  механическая               0                 NaN   \n",
       "4           1           0  механическая               0                 NaN   \n",
       "...       ...         ...           ...             ...                 ...   \n",
       "124054      0  1101368987       автомат  автоматическая                 NaN   \n",
       "124055      0  1101369375       автомат  автоматическая                 NaN   \n",
       "124060      0  1101369581       автомат  автоматическая                 NaN   \n",
       "124061      0  1101364889       автомат  автоматическая                 NaN   \n",
       "124062      0  1101362518       автомат  автоматическая                 NaN   \n",
       "\n",
       "         km_per_year  carNovelty prodDate_3Y  prodDate_5Y  \n",
       "0       12068.965517           1       False        False  \n",
       "1        5100.705882           4       False        False  \n",
       "2        7419.354839           1       False        False  \n",
       "3        7741.935484           1       False        False  \n",
       "4       10344.827586           1       False        False  \n",
       "...              ...         ...         ...          ...  \n",
       "124054  21764.705882           0       False        False  \n",
       "124055  11193.578947           3       False        False  \n",
       "124060  49000.000000           2        True        False  \n",
       "124061  15652.173913           2       False        False  \n",
       "124062  12928.571429           1       False        False  \n",
       "\n",
       "[79233 rows x 34 columns]"
      ]
     },
     "execution_count": 190,
     "metadata": {},
     "output_type": "execute_result"
    }
   ],
   "source": [
    "data[data.ownershipTimeMonths.isnull() == True]"
   ]
  },
  {
   "cell_type": "code",
   "execution_count": null,
   "metadata": {},
   "outputs": [],
   "source": []
  },
  {
   "cell_type": "code",
   "execution_count": 187,
   "metadata": {},
   "outputs": [
    {
     "data": {
      "text/plain": [
       "332     NaN\n",
       "333     NaN\n",
       "336     NaN\n",
       "339     NaN\n",
       "342     NaN\n",
       "         ..\n",
       "88272   NaN\n",
       "88273   NaN\n",
       "88275   NaN\n",
       "88278   NaN\n",
       "88420   NaN\n",
       "Name: ownershipTimeMonths, Length: 9533, dtype: float64"
      ]
     },
     "execution_count": 187,
     "metadata": {},
     "output_type": "execute_result"
    }
   ],
   "source": [
    "data[(data.mileage==0) & (data.productionDate == 2020)].ownershipTimeMonths"
   ]
  },
  {
   "cell_type": "code",
   "execution_count": 96,
   "metadata": {},
   "outputs": [],
   "source": [
    "# Добавим исходную колонку в список на удаление перед построением модели\n",
    "cols_removal.append('ownershipTime')"
   ]
  },
  {
   "cell_type": "code",
   "execution_count": null,
   "metadata": {},
   "outputs": [],
   "source": []
  },
  {
   "cell_type": "markdown",
   "metadata": {},
   "source": [
    "### 3.8 Извлечение дополнительных признаков из данных\n",
    "\n",
    "Посмотрим на данные и подумаем, какие дополнительные признаки можно \"извлечь\" из текущих данных без грубокого фиче инжениринга."
   ]
  },
  {
   "cell_type": "markdown",
   "metadata": {},
   "source": [
    "**ownershipTime**\n"
   ]
  },
  {
   "cell_type": "markdown",
   "metadata": {},
   "source": [
    "### Детальный анализ признаков"
   ]
  },
  {
   "cell_type": "markdown",
   "metadata": {},
   "source": [
    "Список вопросов для детального анализа из предварительного анализа:\n",
    "- [ ] fuelType - разобраться, что такое универсал\n",
    "- [ ] engineDisplacemen\t- разобраться, какие значения, унифицировать и/или сгенерировать новые признаки\n",
    "- [ ] description - кандидат на удаление, но можно извлечь новые признаки\n",
    "- [ ] numberOfDoors - разобраться с транспортом 0 дверей"
   ]
  },
  {
   "cell_type": "markdown",
   "metadata": {},
   "source": [
    "#### Группировка признаков на категориальные, бинарные и числовые\n",
    "\n",
    "Посмотрим, какие признаки могут относиться к категориальным, бинарным, числовым."
   ]
  },
  {
   "cell_type": "code",
   "execution_count": 97,
   "metadata": {},
   "outputs": [
    {
     "data": {
      "text/plain": [
       "bodyType                  168\n",
       "brand                      36\n",
       "color                      16\n",
       "fuelType                    5\n",
       "modelDate                  78\n",
       "name                     4774\n",
       "numberOfDoors               5\n",
       "productionDate             80\n",
       "vehicleConfiguration     2023\n",
       "vehicleTransmission         8\n",
       "engineDisplacement        589\n",
       "enginePower               398\n",
       "description             99737\n",
       "mileage                 24304\n",
       "drivetrain                  3\n",
       "driveSide                   2\n",
       "condition                   1\n",
       "ownersCount                 4\n",
       "tcp                         3\n",
       "customs                     1\n",
       "ownershipTime             349\n",
       "price                    8169\n",
       "model                    1104\n",
       "vendor                      4\n",
       "train                       2\n",
       "sell_id                 34687\n",
       "transmission                2\n",
       "automaticType               4\n",
       "ownershipTimeMonths       308\n",
       "dtype: int64"
      ]
     },
     "execution_count": 97,
     "metadata": {},
     "output_type": "execute_result"
    }
   ],
   "source": [
    "# Посмотрим, сколько уникальных значений\n",
    "data.nunique(dropna=False)"
   ]
  },
  {
   "cell_type": "code",
   "execution_count": 98,
   "metadata": {},
   "outputs": [
    {
     "data": {
      "text/plain": [
       "bodyType                                                            седан\n",
       "brand                                                                AUDI\n",
       "color                                                             зелёный\n",
       "fuelType                                                           бензин\n",
       "modelDate                                                            1990\n",
       "name                                                    2.8 MT (174 л.с.)\n",
       "numberOfDoors                                                           4\n",
       "productionDate                                                       1993\n",
       "vehicleConfiguration                                 SEDAN MECHANICAL 2.8\n",
       "vehicleTransmission                                            MECHANICAL\n",
       "engineDisplacement                                                    2.8\n",
       "enginePower                                                           174\n",
       "description             Хорошая комплектация: климат, эл. стекла, эл. ...\n",
       "mileage                                                            200000\n",
       "drivetrain                                                       передний\n",
       "driveSide                                                           левый\n",
       "condition                                                               0\n",
       "ownersCount                                                             3\n",
       "tcp                                                              оригинал\n",
       "customs                                                                 1\n",
       "ownershipTime                                                     no_data\n",
       "price                                                               90000\n",
       "model                                                                 100\n",
       "vendor                                                           EUROPEAN\n",
       "train                                                                   1\n",
       "sell_id                                                                 0\n",
       "transmission                                                 механическая\n",
       "automaticType                                                           0\n",
       "ownershipTimeMonths                                                   NaN\n",
       "Name: 5, dtype: object"
      ]
     },
     "execution_count": 98,
     "metadata": {},
     "output_type": "execute_result"
    }
   ],
   "source": [
    "# Выведем пример признаков на экран\n",
    "data.loc[5]"
   ]
  },
  {
   "cell_type": "code",
   "execution_count": 99,
   "metadata": {},
   "outputs": [
    {
     "name": "stdout",
     "output_type": "stream",
     "text": [
      "Признаки для последующего удаления: ['customs', 'condition', 'vehicleConfiguration', 'name', 'vehicleTransmission', 'description', 'ownershipTime']\n"
     ]
    }
   ],
   "source": [
    "# Посмотрим, на колонки, которые планируем в последствие удалить, чтобы не включать их в анализ\n",
    "print(\"Признаки для последующего удаления:\", cols_removal)"
   ]
  },
  {
   "cell_type": "markdown",
   "metadata": {},
   "source": [
    "Исходя из количества уникальных значений, разделим все признаки на группу.\n",
    "\n",
    "1. Категориальные признаки: 'bodyType', 'brand', 'color', 'fuelType', 'drivetrain', 'driveSide', 'tcp', 'model','vendor', 'transmission', 'automaticType'\n",
    "2. Бинарные признаки: - 'customs', 'condition' (не алазируем, т.к. все данные представленны одним значением признака)\n",
    "3. Числовые признаки: 'modelDate', 'numberOfDoors', 'productionDate', 'engineDisplacement', 'enginePower', 'mileage', 'ownersCount'\n",
    "4. Даты: -\n",
    "5. Служебный признак (не анализируем): 'train', 'sell_id'\n",
    "6. Целевой: 'price'"
   ]
  },
  {
   "cell_type": "code",
   "execution_count": 100,
   "metadata": {},
   "outputs": [
    {
     "name": "stdout",
     "output_type": "stream",
     "text": [
      "Кол-во столбцов, для дальнейшей работы после предварительного анализа: 22\n"
     ]
    }
   ],
   "source": [
    "# бинарные признаки\n",
    "bin_cols = []\n",
    "\n",
    "# категориальные переменные\n",
    "cat_cols = ['bodyType', 'brand', 'color', 'fuelType', 'drivetrain', 'driveSide', 'tcp', 'model',\n",
    "            'engineDisplacement', 'vendor', 'transmission', 'automaticType', 'numberOfDoors', 'ownersCount']\n",
    "\n",
    "# числовые переменные\n",
    "num_cols = ['modelDate', 'productionDate',\n",
    "            'enginePower', 'mileage', 'ownershipTimeMonths']\n",
    "\n",
    "# сервисные переменные\n",
    "servis_cols = ['train', 'sell_id']\n",
    "\n",
    "# целевая переменная\n",
    "target_col = ['price']\n",
    "\n",
    "all_cols = bin_cols + cat_cols + num_cols + servis_cols + target_col\n",
    "\n",
    "print(\"Кол-во столбцов, для дальнейшей работы после предварительного анализа:\", len(all_cols))"
   ]
  },
  {
   "cell_type": "markdown",
   "metadata": {},
   "source": [
    "#### Числовые переменные: распределение, корреляционный анализ, определение значимости\n",
    "\n",
    "###### Распределние численных признаков."
   ]
  },
  {
   "cell_type": "code",
   "execution_count": 101,
   "metadata": {},
   "outputs": [
    {
     "name": "stdout",
     "output_type": "stream",
     "text": [
      "Диаграмы распределения числовых признаков, взаимосвязь с целевой переменной\n"
     ]
    },
    {
     "data": {
      "image/png": "[encoded data removed]",
      "text/plain": [
       "<Figure size 2160x2880 with 15 Axes>"
      ]
     },
     "metadata": {},
     "output_type": "display_data"
    }
   ],
   "source": [
    "# Построим распределение основных числовых признаков\n",
    "\n",
    "print(\"Диаграмы распределения числовых признаков, взаимосвязь с целевой переменной\")\n",
    "\n",
    "fig, axes = plt.subplots(5, 3, figsize=(30, 40))\n",
    "plt.subplots_adjust(wspace=0.5)\n",
    "axes = axes.flatten()\n",
    "i = 0\n",
    "\n",
    "for col in num_cols:\n",
    "    sns.distplot(data[col], ax=axes[i])\n",
    "    i = i + 1\n",
    "    sns.boxplot(data[col], ax=axes[i])\n",
    "    i = i + 1\n",
    "    sns.scatterplot(data=data[data['train'] == 1],\n",
    "                    x=col, y=\"price\", ax=axes[i])\n",
    "    i = i + 1"
   ]
  },
  {
   "cell_type": "code",
   "execution_count": 102,
   "metadata": {},
   "outputs": [
    {
     "name": "stdout",
     "output_type": "stream",
     "text": [
      "Основные статистики для числовых признаков.\n"
     ]
    },
    {
     "data": {
      "text/html": [
       "<div>\n",
       "<style scoped>\n",
       "    .dataframe tbody tr th:only-of-type {\n",
       "        vertical-align: middle;\n",
       "    }\n",
       "\n",
       "    .dataframe tbody tr th {\n",
       "        vertical-align: top;\n",
       "    }\n",
       "\n",
       "    .dataframe thead th {\n",
       "        text-align: right;\n",
       "    }\n",
       "</style>\n",
       "<table border=\"1\" class=\"dataframe\">\n",
       "  <thead>\n",
       "    <tr style=\"text-align: right;\">\n",
       "      <th></th>\n",
       "      <th>modelDate</th>\n",
       "      <th>productionDate</th>\n",
       "      <th>enginePower</th>\n",
       "      <th>mileage</th>\n",
       "      <th>ownershipTimeMonths</th>\n",
       "    </tr>\n",
       "  </thead>\n",
       "  <tbody>\n",
       "    <tr>\n",
       "      <th>count</th>\n",
       "      <td>120076.000000</td>\n",
       "      <td>120076.000000</td>\n",
       "      <td>120076.000000</td>\n",
       "      <td>120076.000000</td>\n",
       "      <td>40833.000000</td>\n",
       "    </tr>\n",
       "    <tr>\n",
       "      <th>mean</th>\n",
       "      <td>2007.894142</td>\n",
       "      <td>2010.155010</td>\n",
       "      <td>175.934408</td>\n",
       "      <td>146058.040583</td>\n",
       "      <td>48.425832</td>\n",
       "    </tr>\n",
       "    <tr>\n",
       "      <th>std</th>\n",
       "      <td>7.385829</td>\n",
       "      <td>6.995833</td>\n",
       "      <td>85.916687</td>\n",
       "      <td>101886.681110</td>\n",
       "      <td>43.414584</td>\n",
       "    </tr>\n",
       "    <tr>\n",
       "      <th>min</th>\n",
       "      <td>1904.000000</td>\n",
       "      <td>1904.000000</td>\n",
       "      <td>11.000000</td>\n",
       "      <td>0.000000</td>\n",
       "      <td>1.000000</td>\n",
       "    </tr>\n",
       "    <tr>\n",
       "      <th>25%</th>\n",
       "      <td>2004.000000</td>\n",
       "      <td>2007.000000</td>\n",
       "      <td>116.000000</td>\n",
       "      <td>75648.500000</td>\n",
       "      <td>16.000000</td>\n",
       "    </tr>\n",
       "    <tr>\n",
       "      <th>50%</th>\n",
       "      <td>2009.000000</td>\n",
       "      <td>2011.000000</td>\n",
       "      <td>150.000000</td>\n",
       "      <td>138543.000000</td>\n",
       "      <td>35.000000</td>\n",
       "    </tr>\n",
       "    <tr>\n",
       "      <th>75%</th>\n",
       "      <td>2013.000000</td>\n",
       "      <td>2015.000000</td>\n",
       "      <td>210.000000</td>\n",
       "      <td>200000.000000</td>\n",
       "      <td>72.000000</td>\n",
       "    </tr>\n",
       "    <tr>\n",
       "      <th>max</th>\n",
       "      <td>2020.000000</td>\n",
       "      <td>2020.000000</td>\n",
       "      <td>800.000000</td>\n",
       "      <td>1000000.000000</td>\n",
       "      <td>514.000000</td>\n",
       "    </tr>\n",
       "  </tbody>\n",
       "</table>\n",
       "</div>"
      ],
      "text/plain": [
       "           modelDate  productionDate    enginePower         mileage  \\\n",
       "count  120076.000000   120076.000000  120076.000000   120076.000000   \n",
       "mean     2007.894142     2010.155010     175.934408   146058.040583   \n",
       "std         7.385829        6.995833      85.916687   101886.681110   \n",
       "min      1904.000000     1904.000000      11.000000        0.000000   \n",
       "25%      2004.000000     2007.000000     116.000000    75648.500000   \n",
       "50%      2009.000000     2011.000000     150.000000   138543.000000   \n",
       "75%      2013.000000     2015.000000     210.000000   200000.000000   \n",
       "max      2020.000000     2020.000000     800.000000  1000000.000000   \n",
       "\n",
       "       ownershipTimeMonths  \n",
       "count         40833.000000  \n",
       "mean             48.425832  \n",
       "std              43.414584  \n",
       "min               1.000000  \n",
       "25%              16.000000  \n",
       "50%              35.000000  \n",
       "75%              72.000000  \n",
       "max             514.000000  "
      ]
     },
     "metadata": {},
     "output_type": "display_data"
    }
   ],
   "source": [
    "print(\"Основные статистики для числовых признаков.\")\n",
    "display(data[num_cols].describe())"
   ]
  },
  {
   "cell_type": "markdown",
   "metadata": {},
   "source": [
    "Выводы:\n",
    "\n",
    "1. После построения гистограмм стало очевидно, что распределения основных числовых переменных имеют тяжёлый левый или правый хвост, влияет на разбежку между средним и медианой: \n",
    "    - для того, чтобы сделать распределение данных переменных более нормальным, можно работать с логарифмированными величинами этих переменных\n",
    "    - поработать с выбросами\n",
    "    - подумать про группировку признаков по категориям.\n",
    "2. Распределние modelDate, productionDate очень схожи:\n",
    "    - проверить на признаки на мультиколлинеарность во время корреляционного анализа\n",
    "    - видно, что в среднем productionDate чуть позже, чем modelDate во времени, т.е. производство приосходит чуть с запозданием, что логично. Можно добавить новый признак - насколько новая модель, т.е. через сколько лет после появления модели был выпущен автомобиль.\n",
    "3. mileage: есть пик в 0 - признак нового авто.\n",
    "4. enginePower: 11 лс - что это за авто? Поисследовать\n",
    "5. Взаимосвязь признаков с таргетом:\n",
    "    - наблюдается прямая корреляция цены от года модели и года выпуска с исключениями для особо раритетных автомобилей (~до 1975 года).\n",
    "    - наблюдается обратная корреляция цены от пробега авто\n",
    "    - цена от мощности вдигателя зависит, но не так явно, как от других переменных."
   ]
  },
  {
   "cell_type": "markdown",
   "metadata": {},
   "source": [
    "###### Корреляционный анализ.\n",
    "\n",
    "Оценим корреляцию Пирсона для непрерывных переменных. Cильная корреляция между переменными вредна для линейных моделей из-за неустойчивости полученных оценок."
   ]
  },
  {
   "cell_type": "code",
   "execution_count": 103,
   "metadata": {},
   "outputs": [
    {
     "data": {
      "image/png": "[encoded data removed]",
      "text/plain": [
       "<Figure size 432x288 with 2 Axes>"
      ]
     },
     "metadata": {},
     "output_type": "display_data"
    }
   ],
   "source": [
    "# Построим матрицу корреляций\n",
    "heatmap = sns.heatmap(data[num_cols + target_col].corr(), vmin=-1,\n",
    "                      vmax=1, annot=True, cmap='BrBG')\n",
    "heatmap.set_title('Матрица корреляций')\n",
    "plt.show()"
   ]
  },
  {
   "cell_type": "markdown",
   "metadata": {},
   "source": [
    "Вывод: \n",
    "1. Взаимосвязь пар числовых признаков по Пирсону достаточно сильная для productionDate, modelDate. При этом, у productionDate чуть большая корреляция с целевой переменной. Удалим признак modelDate.\n",
    "2. Достаточно сильная корреляция между productionDate и meleage - чем меньше год выпуска, тем больше пробег\n",
    "3. У всех числовых признаков достаточно высокая корреляция с целевой переменной, это хорошо."
   ]
  },
  {
   "cell_type": "code",
   "execution_count": 104,
   "metadata": {},
   "outputs": [],
   "source": [
    "# Добавляем modelDate в список колонок на удаление.\n",
    "cols_removal.append('modelDate')"
   ]
  },
  {
   "cell_type": "markdown",
   "metadata": {},
   "source": [
    "###### Детальный анализ\n",
    "\n",
    "Посмотрим более пристально на признаки, которые не исключили из анализа."
   ]
  },
  {
   "cell_type": "markdown",
   "metadata": {},
   "source": [
    "**mileage**\n",
    "\n",
    "Дополнительно поисследуем признак."
   ]
  },
  {
   "cell_type": "code",
   "execution_count": 160,
   "metadata": {},
   "outputs": [
    {
     "data": {
      "image/png": "[encoded data removed]",
      "text/plain": [
       "<Figure size 720x360 with 1 Axes>"
      ]
     },
     "metadata": {},
     "output_type": "display_data"
    }
   ],
   "source": [
    "# посмотрим на топ 5 годов выпуска авто\n",
    "fig, ax = plt.subplots(figsize=(10, 5))\n",
    "\n",
    "for x in (data['productionDate'].value_counts())[0:7].index:\n",
    "    data['mileage'][data['productionDate'] == x].hist(bins=50)\n",
    "\n",
    "ax.set_xlim(0, 700000)\n",
    "ax.set_ylim(0, 1750)\n",
    "\n",
    "plt.title(\"Распределение mileage по productionDate\")\n",
    "plt.show()"
   ]
  },
  {
   "cell_type": "markdown",
   "metadata": {},
   "source": [
    "Получается, что mileage имеет нормальное распределение, просто чем старше автомобиль, тем больше пробег, из-за мы видим смещение.\n",
    "\n",
    "Чтобы скорректировать признак и сделать его более информативным создадим новый признак в разделе создания признаков: km_per_year - показывает, сколько км в год проезжал автомобиль. Вычисляется, как mileage/productionDate(years) или mileage/ownershipTime. Решить, какой метод использовать."
   ]
  },
  {
   "cell_type": "markdown",
   "metadata": {},
   "source": [
    "**enginePower**\n",
    "\n",
    "Нужно поисследовать странное минимальное значение мощности."
   ]
  },
  {
   "cell_type": "code",
   "execution_count": 106,
   "metadata": {},
   "outputs": [
    {
     "name": "stdout",
     "output_type": "stream",
     "text": [
      "Значение мощности двигателя (л.с.) на TEST\n"
     ]
    },
    {
     "data": {
      "text/plain": [
       "count    34686.000000\n",
       "mean       188.194142\n",
       "std         89.087035\n",
       "min         30.000000\n",
       "25%        125.000000\n",
       "50%        169.000000\n",
       "75%        233.000000\n",
       "max        639.000000\n",
       "Name: enginePower, dtype: float64"
      ]
     },
     "metadata": {},
     "output_type": "display_data"
    },
    {
     "name": "stdout",
     "output_type": "stream",
     "text": [
      "\n",
      "Значение мощности двигателя (л.с.) на TRAIN\n"
     ]
    },
    {
     "data": {
      "text/plain": [
       "count    85390.000000\n",
       "mean       170.954421\n",
       "std         84.086503\n",
       "min         11.000000\n",
       "25%        115.000000\n",
       "50%        150.000000\n",
       "75%        199.000000\n",
       "max        800.000000\n",
       "Name: enginePower, dtype: float64"
      ]
     },
     "metadata": {},
     "output_type": "display_data"
    }
   ],
   "source": [
    "print(\"Значение мощности двигателя (л.с.) на TEST\")\n",
    "display(data[data.train == 0]['enginePower'].describe())\n",
    "\n",
    "print(\"\\nЗначение мощности двигателя (л.с.) на TRAIN\")\n",
    "display(data[data.train == 1]['enginePower'].describe())"
   ]
  },
  {
   "cell_type": "markdown",
   "metadata": {},
   "source": [
    "Видим, что в Test минимум - больше, а максимум - меньше. Посмотрим, что это за авто и сколько их."
   ]
  },
  {
   "cell_type": "code",
   "execution_count": 107,
   "metadata": {},
   "outputs": [
    {
     "name": "stdout",
     "output_type": "stream",
     "text": [
      "Строки, в которых мощность двигателя меньше 30 л.с.\n"
     ]
    },
    {
     "data": {
      "text/html": [
       "<div>\n",
       "<style scoped>\n",
       "    .dataframe tbody tr th:only-of-type {\n",
       "        vertical-align: middle;\n",
       "    }\n",
       "\n",
       "    .dataframe tbody tr th {\n",
       "        vertical-align: top;\n",
       "    }\n",
       "\n",
       "    .dataframe thead th {\n",
       "        text-align: right;\n",
       "    }\n",
       "</style>\n",
       "<table border=\"1\" class=\"dataframe\">\n",
       "  <thead>\n",
       "    <tr style=\"text-align: right;\">\n",
       "      <th></th>\n",
       "      <th>bodyType</th>\n",
       "      <th>brand</th>\n",
       "      <th>color</th>\n",
       "      <th>fuelType</th>\n",
       "      <th>modelDate</th>\n",
       "      <th>name</th>\n",
       "      <th>numberOfDoors</th>\n",
       "      <th>productionDate</th>\n",
       "      <th>vehicleConfiguration</th>\n",
       "      <th>vehicleTransmission</th>\n",
       "      <th>...</th>\n",
       "      <th>customs</th>\n",
       "      <th>ownershipTime</th>\n",
       "      <th>price</th>\n",
       "      <th>model</th>\n",
       "      <th>vendor</th>\n",
       "      <th>train</th>\n",
       "      <th>sell_id</th>\n",
       "      <th>transmission</th>\n",
       "      <th>automaticType</th>\n",
       "      <th>ownershipTimeMonths</th>\n",
       "    </tr>\n",
       "  </thead>\n",
       "  <tbody>\n",
       "    <tr>\n",
       "      <th>22691</th>\n",
       "      <td>кабриолет</td>\n",
       "      <td>FORD</td>\n",
       "      <td>зелёный</td>\n",
       "      <td>бензин</td>\n",
       "      <td>1908</td>\n",
       "      <td>2.9 MT (20 л.с.)</td>\n",
       "      <td>2</td>\n",
       "      <td>1923</td>\n",
       "      <td>CABRIO MECHANICAL 2.9</td>\n",
       "      <td>MECHANICAL</td>\n",
       "      <td>...</td>\n",
       "      <td>1</td>\n",
       "      <td>no_data</td>\n",
       "      <td>3800000.0</td>\n",
       "      <td>MODEL_T</td>\n",
       "      <td>AMERICAN</td>\n",
       "      <td>1</td>\n",
       "      <td>0</td>\n",
       "      <td>механическая</td>\n",
       "      <td>0</td>\n",
       "      <td>NaN</td>\n",
       "    </tr>\n",
       "    <tr>\n",
       "      <th>22692</th>\n",
       "      <td>кабриолет</td>\n",
       "      <td>FORD</td>\n",
       "      <td>чёрный</td>\n",
       "      <td>бензин</td>\n",
       "      <td>1908</td>\n",
       "      <td>2.9 MT (20 л.с.)</td>\n",
       "      <td>2</td>\n",
       "      <td>1924</td>\n",
       "      <td>CABRIO MECHANICAL 2.9</td>\n",
       "      <td>MECHANICAL</td>\n",
       "      <td>...</td>\n",
       "      <td>1</td>\n",
       "      <td>no_data</td>\n",
       "      <td>3000000.0</td>\n",
       "      <td>MODEL_T</td>\n",
       "      <td>AMERICAN</td>\n",
       "      <td>1</td>\n",
       "      <td>0</td>\n",
       "      <td>механическая</td>\n",
       "      <td>0</td>\n",
       "      <td>NaN</td>\n",
       "    </tr>\n",
       "    <tr>\n",
       "      <th>59955</th>\n",
       "      <td>купе</td>\n",
       "      <td>RENAULT</td>\n",
       "      <td>белый</td>\n",
       "      <td>электро</td>\n",
       "      <td>2011</td>\n",
       "      <td>Electro AT (13 кВт)</td>\n",
       "      <td>2</td>\n",
       "      <td>2012</td>\n",
       "      <td>COUPE AUTOMATIC Electro</td>\n",
       "      <td>AUTOMATIC</td>\n",
       "      <td>...</td>\n",
       "      <td>1</td>\n",
       "      <td>1 год и 3 месяца</td>\n",
       "      <td>449000.0</td>\n",
       "      <td>TWIZY</td>\n",
       "      <td>EUROPEAN</td>\n",
       "      <td>1</td>\n",
       "      <td>0</td>\n",
       "      <td>автомат</td>\n",
       "      <td>автоматическая</td>\n",
       "      <td>15.0</td>\n",
       "    </tr>\n",
       "    <tr>\n",
       "      <th>59956</th>\n",
       "      <td>купе</td>\n",
       "      <td>RENAULT</td>\n",
       "      <td>чёрный</td>\n",
       "      <td>электро</td>\n",
       "      <td>2011</td>\n",
       "      <td>Electro AT (9 кВт)</td>\n",
       "      <td>2</td>\n",
       "      <td>2016</td>\n",
       "      <td>COUPE AUTOMATIC Electro</td>\n",
       "      <td>AUTOMATIC</td>\n",
       "      <td>...</td>\n",
       "      <td>1</td>\n",
       "      <td>1 год и 4 месяца</td>\n",
       "      <td>549000.0</td>\n",
       "      <td>TWIZY</td>\n",
       "      <td>EUROPEAN</td>\n",
       "      <td>1</td>\n",
       "      <td>0</td>\n",
       "      <td>автомат</td>\n",
       "      <td>автоматическая</td>\n",
       "      <td>16.0</td>\n",
       "    </tr>\n",
       "  </tbody>\n",
       "</table>\n",
       "<p>4 rows × 29 columns</p>\n",
       "</div>"
      ],
      "text/plain": [
       "        bodyType    brand    color fuelType  modelDate                 name  \\\n",
       "22691  кабриолет     FORD  зелёный   бензин       1908     2.9 MT (20 л.с.)   \n",
       "22692  кабриолет     FORD   чёрный   бензин       1908     2.9 MT (20 л.с.)   \n",
       "59955       купе  RENAULT    белый  электро       2011  Electro AT (13 кВт)   \n",
       "59956       купе  RENAULT   чёрный  электро       2011   Electro AT (9 кВт)   \n",
       "\n",
       "      numberOfDoors  productionDate     vehicleConfiguration  \\\n",
       "22691             2            1923    CABRIO MECHANICAL 2.9   \n",
       "22692             2            1924    CABRIO MECHANICAL 2.9   \n",
       "59955             2            2012  COUPE AUTOMATIC Electro   \n",
       "59956             2            2016  COUPE AUTOMATIC Electro   \n",
       "\n",
       "      vehicleTransmission  ... customs     ownershipTime      price    model  \\\n",
       "22691          MECHANICAL  ...       1           no_data  3800000.0  MODEL_T   \n",
       "22692          MECHANICAL  ...       1           no_data  3000000.0  MODEL_T   \n",
       "59955           AUTOMATIC  ...       1  1 год и 3 месяца   449000.0    TWIZY   \n",
       "59956           AUTOMATIC  ...       1  1 год и 4 месяца   549000.0    TWIZY   \n",
       "\n",
       "         vendor train  sell_id  transmission   automaticType  \\\n",
       "22691  AMERICAN     1        0  механическая               0   \n",
       "22692  AMERICAN     1        0  механическая               0   \n",
       "59955  EUROPEAN     1        0       автомат  автоматическая   \n",
       "59956  EUROPEAN     1        0       автомат  автоматическая   \n",
       "\n",
       "       ownershipTimeMonths  \n",
       "22691                  NaN  \n",
       "22692                  NaN  \n",
       "59955                 15.0  \n",
       "59956                 16.0  \n",
       "\n",
       "[4 rows x 29 columns]"
      ]
     },
     "execution_count": 107,
     "metadata": {},
     "output_type": "execute_result"
    }
   ],
   "source": [
    "print(\"Строки, в которых мощность двигателя меньше 30 л.с.\")\n",
    "data[data.enginePower < data[data.train == 0]['enginePower'].min()]"
   ]
  },
  {
   "cell_type": "code",
   "execution_count": 108,
   "metadata": {
    "scrolled": true
   },
   "outputs": [
    {
     "name": "stdout",
     "output_type": "stream",
     "text": [
      "Строки, в которых мощность двигателя более 639 л.с.\n"
     ]
    },
    {
     "data": {
      "text/html": [
       "<div>\n",
       "<style scoped>\n",
       "    .dataframe tbody tr th:only-of-type {\n",
       "        vertical-align: middle;\n",
       "    }\n",
       "\n",
       "    .dataframe tbody tr th {\n",
       "        vertical-align: top;\n",
       "    }\n",
       "\n",
       "    .dataframe thead th {\n",
       "        text-align: right;\n",
       "    }\n",
       "</style>\n",
       "<table border=\"1\" class=\"dataframe\">\n",
       "  <thead>\n",
       "    <tr style=\"text-align: right;\">\n",
       "      <th></th>\n",
       "      <th>bodyType</th>\n",
       "      <th>brand</th>\n",
       "      <th>color</th>\n",
       "      <th>fuelType</th>\n",
       "      <th>modelDate</th>\n",
       "      <th>name</th>\n",
       "      <th>numberOfDoors</th>\n",
       "      <th>productionDate</th>\n",
       "      <th>vehicleConfiguration</th>\n",
       "      <th>vehicleTransmission</th>\n",
       "      <th>...</th>\n",
       "      <th>customs</th>\n",
       "      <th>ownershipTime</th>\n",
       "      <th>price</th>\n",
       "      <th>model</th>\n",
       "      <th>vendor</th>\n",
       "      <th>train</th>\n",
       "      <th>sell_id</th>\n",
       "      <th>transmission</th>\n",
       "      <th>automaticType</th>\n",
       "      <th>ownershipTimeMonths</th>\n",
       "    </tr>\n",
       "  </thead>\n",
       "  <tbody>\n",
       "    <tr>\n",
       "      <th>18731</th>\n",
       "      <td>купе srt</td>\n",
       "      <td>DODGE</td>\n",
       "      <td>синий</td>\n",
       "      <td>бензин</td>\n",
       "      <td>2014</td>\n",
       "      <td>Hellcat 6.2 AT (717 л.с.)</td>\n",
       "      <td>2</td>\n",
       "      <td>2016</td>\n",
       "      <td>COUPE AUTOMATIC Hellcat</td>\n",
       "      <td>AUTOMATIC</td>\n",
       "      <td>...</td>\n",
       "      <td>1</td>\n",
       "      <td>1 год и 6 месяцев</td>\n",
       "      <td>6500000.0</td>\n",
       "      <td>CHALLENGER</td>\n",
       "      <td>AMERICAN</td>\n",
       "      <td>1</td>\n",
       "      <td>0</td>\n",
       "      <td>автомат</td>\n",
       "      <td>автоматическая</td>\n",
       "      <td>18.0</td>\n",
       "    </tr>\n",
       "    <tr>\n",
       "      <th>18733</th>\n",
       "      <td>купе srt</td>\n",
       "      <td>DODGE</td>\n",
       "      <td>серый</td>\n",
       "      <td>бензин</td>\n",
       "      <td>2014</td>\n",
       "      <td>Hellcat 6.2 AT (717 л.с.)</td>\n",
       "      <td>2</td>\n",
       "      <td>2016</td>\n",
       "      <td>COUPE AUTOMATIC Hellcat</td>\n",
       "      <td>AUTOMATIC</td>\n",
       "      <td>...</td>\n",
       "      <td>1</td>\n",
       "      <td>no_data</td>\n",
       "      <td>5990000.0</td>\n",
       "      <td>CHALLENGER</td>\n",
       "      <td>AMERICAN</td>\n",
       "      <td>1</td>\n",
       "      <td>0</td>\n",
       "      <td>автомат</td>\n",
       "      <td>автоматическая</td>\n",
       "      <td>NaN</td>\n",
       "    </tr>\n",
       "    <tr>\n",
       "      <th>18832</th>\n",
       "      <td>пикап двойная кабина crew cab trx</td>\n",
       "      <td>DODGE</td>\n",
       "      <td>серый</td>\n",
       "      <td>бензин</td>\n",
       "      <td>2018</td>\n",
       "      <td>Crew Cab TRX 6.2 AT (702 л.с.) 4WD</td>\n",
       "      <td>4</td>\n",
       "      <td>2020</td>\n",
       "      <td>PICKUP_TWO AUTOMATIC Crew</td>\n",
       "      <td>AUTOMATIC</td>\n",
       "      <td>...</td>\n",
       "      <td>1</td>\n",
       "      <td>no_data</td>\n",
       "      <td>14433255.0</td>\n",
       "      <td>RAM</td>\n",
       "      <td>AMERICAN</td>\n",
       "      <td>1</td>\n",
       "      <td>0</td>\n",
       "      <td>автомат</td>\n",
       "      <td>автоматическая</td>\n",
       "      <td>NaN</td>\n",
       "    </tr>\n",
       "    <tr>\n",
       "      <th>23483</th>\n",
       "      <td>купе</td>\n",
       "      <td>FORD</td>\n",
       "      <td>красный</td>\n",
       "      <td>бензин</td>\n",
       "      <td>2009</td>\n",
       "      <td>Shelby GT500 5.8 MT (662 л.с.)</td>\n",
       "      <td>2</td>\n",
       "      <td>2013</td>\n",
       "      <td>COUPE MECHANICAL Shelby</td>\n",
       "      <td>MECHANICAL</td>\n",
       "      <td>...</td>\n",
       "      <td>1</td>\n",
       "      <td>no_data</td>\n",
       "      <td>9980000.0</td>\n",
       "      <td>MUSTANG</td>\n",
       "      <td>AMERICAN</td>\n",
       "      <td>1</td>\n",
       "      <td>0</td>\n",
       "      <td>механическая</td>\n",
       "      <td>0</td>\n",
       "      <td>NaN</td>\n",
       "    </tr>\n",
       "    <tr>\n",
       "      <th>23485</th>\n",
       "      <td>купе</td>\n",
       "      <td>FORD</td>\n",
       "      <td>чёрный</td>\n",
       "      <td>бензин</td>\n",
       "      <td>2009</td>\n",
       "      <td>Shelby GT500 5.8 MT (662 л.с.)</td>\n",
       "      <td>2</td>\n",
       "      <td>2013</td>\n",
       "      <td>COUPE MECHANICAL Shelby</td>\n",
       "      <td>MECHANICAL</td>\n",
       "      <td>...</td>\n",
       "      <td>1</td>\n",
       "      <td>no_data</td>\n",
       "      <td>9000000.0</td>\n",
       "      <td>MUSTANG</td>\n",
       "      <td>AMERICAN</td>\n",
       "      <td>1</td>\n",
       "      <td>0</td>\n",
       "      <td>механическая</td>\n",
       "      <td>0</td>\n",
       "      <td>NaN</td>\n",
       "    </tr>\n",
       "    <tr>\n",
       "      <th>32411</th>\n",
       "      <td>внедорожник 5 дв. trackhawk</td>\n",
       "      <td>JEEP</td>\n",
       "      <td>белый</td>\n",
       "      <td>бензин</td>\n",
       "      <td>2013</td>\n",
       "      <td>Trackhawk 6.2 AT (717 л.с.) 4WD</td>\n",
       "      <td>5</td>\n",
       "      <td>2019</td>\n",
       "      <td>ALLROAD_5_DOORS AUTOMATIC Trackhawk</td>\n",
       "      <td>AUTOMATIC</td>\n",
       "      <td>...</td>\n",
       "      <td>1</td>\n",
       "      <td>no_data</td>\n",
       "      <td>10300000.0</td>\n",
       "      <td>GRAND_CHEROKEE</td>\n",
       "      <td>AMERICAN</td>\n",
       "      <td>1</td>\n",
       "      <td>0</td>\n",
       "      <td>автомат</td>\n",
       "      <td>автоматическая</td>\n",
       "      <td>NaN</td>\n",
       "    </tr>\n",
       "    <tr>\n",
       "      <th>57242</th>\n",
       "      <td>седан</td>\n",
       "      <td>PORSCHE</td>\n",
       "      <td>серый</td>\n",
       "      <td>электро</td>\n",
       "      <td>2019</td>\n",
       "      <td>Turbo S Electro AT (561 кВт) 4WD</td>\n",
       "      <td>4</td>\n",
       "      <td>2020</td>\n",
       "      <td>SEDAN AUTOMATIC Turbo</td>\n",
       "      <td>AUTOMATIC</td>\n",
       "      <td>...</td>\n",
       "      <td>1</td>\n",
       "      <td>no_data</td>\n",
       "      <td>16601327.0</td>\n",
       "      <td>TAYCAN</td>\n",
       "      <td>EUROPEAN</td>\n",
       "      <td>1</td>\n",
       "      <td>0</td>\n",
       "      <td>автомат</td>\n",
       "      <td>автоматическая</td>\n",
       "      <td>NaN</td>\n",
       "    </tr>\n",
       "    <tr>\n",
       "      <th>57246</th>\n",
       "      <td>седан</td>\n",
       "      <td>PORSCHE</td>\n",
       "      <td>белый</td>\n",
       "      <td>электро</td>\n",
       "      <td>2019</td>\n",
       "      <td>Turbo Electro AT (501 кВт) 4WD</td>\n",
       "      <td>4</td>\n",
       "      <td>2020</td>\n",
       "      <td>SEDAN AUTOMATIC Turbo</td>\n",
       "      <td>AUTOMATIC</td>\n",
       "      <td>...</td>\n",
       "      <td>1</td>\n",
       "      <td>8 месяцев</td>\n",
       "      <td>13500000.0</td>\n",
       "      <td>TAYCAN</td>\n",
       "      <td>EUROPEAN</td>\n",
       "      <td>1</td>\n",
       "      <td>0</td>\n",
       "      <td>автомат</td>\n",
       "      <td>автоматическая</td>\n",
       "      <td>8.0</td>\n",
       "    </tr>\n",
       "    <tr>\n",
       "      <th>83909</th>\n",
       "      <td>внедорожник 5 дв.</td>\n",
       "      <td>MERCEDES</td>\n",
       "      <td>чёрный</td>\n",
       "      <td>бензин</td>\n",
       "      <td>2018</td>\n",
       "      <td>Brabus 700 4.0 AT (700 л.с.) 4WD</td>\n",
       "      <td>5</td>\n",
       "      <td>2020</td>\n",
       "      <td>ALLROAD_5_DOORS AUTOMATIC Brabus</td>\n",
       "      <td>AUTOMATIC</td>\n",
       "      <td>...</td>\n",
       "      <td>1</td>\n",
       "      <td>no_data</td>\n",
       "      <td>29300000.0</td>\n",
       "      <td>G_KLASSE_AMG</td>\n",
       "      <td>EUROPEAN</td>\n",
       "      <td>1</td>\n",
       "      <td>0</td>\n",
       "      <td>автомат</td>\n",
       "      <td>автоматическая</td>\n",
       "      <td>NaN</td>\n",
       "    </tr>\n",
       "    <tr>\n",
       "      <th>83976</th>\n",
       "      <td>внедорожник 5 дв.</td>\n",
       "      <td>MERCEDES</td>\n",
       "      <td>чёрный</td>\n",
       "      <td>бензин</td>\n",
       "      <td>2018</td>\n",
       "      <td>Brabus 800 4.0 AT (800 л.с.) 4WD</td>\n",
       "      <td>5</td>\n",
       "      <td>2020</td>\n",
       "      <td>ALLROAD_5_DOORS AUTOMATIC Brabus</td>\n",
       "      <td>AUTOMATIC</td>\n",
       "      <td>...</td>\n",
       "      <td>1</td>\n",
       "      <td>no_data</td>\n",
       "      <td>31600000.0</td>\n",
       "      <td>G_KLASSE_AMG</td>\n",
       "      <td>EUROPEAN</td>\n",
       "      <td>1</td>\n",
       "      <td>0</td>\n",
       "      <td>автомат</td>\n",
       "      <td>автоматическая</td>\n",
       "      <td>NaN</td>\n",
       "    </tr>\n",
       "  </tbody>\n",
       "</table>\n",
       "<p>10 rows × 29 columns</p>\n",
       "</div>"
      ],
      "text/plain": [
       "                                bodyType     brand    color fuelType  \\\n",
       "18731                           купе srt     DODGE    синий   бензин   \n",
       "18733                           купе srt     DODGE    серый   бензин   \n",
       "18832  пикап двойная кабина crew cab trx     DODGE    серый   бензин   \n",
       "23483                               купе      FORD  красный   бензин   \n",
       "23485                               купе      FORD   чёрный   бензин   \n",
       "32411        внедорожник 5 дв. trackhawk      JEEP    белый   бензин   \n",
       "57242                              седан   PORSCHE    серый  электро   \n",
       "57246                              седан   PORSCHE    белый  электро   \n",
       "83909                  внедорожник 5 дв.  MERCEDES   чёрный   бензин   \n",
       "83976                  внедорожник 5 дв.  MERCEDES   чёрный   бензин   \n",
       "\n",
       "       modelDate                                name numberOfDoors  \\\n",
       "18731       2014           Hellcat 6.2 AT (717 л.с.)             2   \n",
       "18733       2014           Hellcat 6.2 AT (717 л.с.)             2   \n",
       "18832       2018  Crew Cab TRX 6.2 AT (702 л.с.) 4WD             4   \n",
       "23483       2009      Shelby GT500 5.8 MT (662 л.с.)             2   \n",
       "23485       2009      Shelby GT500 5.8 MT (662 л.с.)             2   \n",
       "32411       2013     Trackhawk 6.2 AT (717 л.с.) 4WD             5   \n",
       "57242       2019    Turbo S Electro AT (561 кВт) 4WD             4   \n",
       "57246       2019      Turbo Electro AT (501 кВт) 4WD             4   \n",
       "83909       2018    Brabus 700 4.0 AT (700 л.с.) 4WD             5   \n",
       "83976       2018    Brabus 800 4.0 AT (800 л.с.) 4WD             5   \n",
       "\n",
       "       productionDate                 vehicleConfiguration  \\\n",
       "18731            2016              COUPE AUTOMATIC Hellcat   \n",
       "18733            2016              COUPE AUTOMATIC Hellcat   \n",
       "18832            2020            PICKUP_TWO AUTOMATIC Crew   \n",
       "23483            2013              COUPE MECHANICAL Shelby   \n",
       "23485            2013              COUPE MECHANICAL Shelby   \n",
       "32411            2019  ALLROAD_5_DOORS AUTOMATIC Trackhawk   \n",
       "57242            2020                SEDAN AUTOMATIC Turbo   \n",
       "57246            2020                SEDAN AUTOMATIC Turbo   \n",
       "83909            2020     ALLROAD_5_DOORS AUTOMATIC Brabus   \n",
       "83976            2020     ALLROAD_5_DOORS AUTOMATIC Brabus   \n",
       "\n",
       "      vehicleTransmission  ... customs      ownershipTime       price  \\\n",
       "18731           AUTOMATIC  ...       1  1 год и 6 месяцев   6500000.0   \n",
       "18733           AUTOMATIC  ...       1            no_data   5990000.0   \n",
       "18832           AUTOMATIC  ...       1            no_data  14433255.0   \n",
       "23483          MECHANICAL  ...       1            no_data   9980000.0   \n",
       "23485          MECHANICAL  ...       1            no_data   9000000.0   \n",
       "32411           AUTOMATIC  ...       1            no_data  10300000.0   \n",
       "57242           AUTOMATIC  ...       1            no_data  16601327.0   \n",
       "57246           AUTOMATIC  ...       1          8 месяцев  13500000.0   \n",
       "83909           AUTOMATIC  ...       1            no_data  29300000.0   \n",
       "83976           AUTOMATIC  ...       1            no_data  31600000.0   \n",
       "\n",
       "                model    vendor train  sell_id  transmission   automaticType  \\\n",
       "18731      CHALLENGER  AMERICAN     1        0       автомат  автоматическая   \n",
       "18733      CHALLENGER  AMERICAN     1        0       автомат  автоматическая   \n",
       "18832             RAM  AMERICAN     1        0       автомат  автоматическая   \n",
       "23483         MUSTANG  AMERICAN     1        0  механическая               0   \n",
       "23485         MUSTANG  AMERICAN     1        0  механическая               0   \n",
       "32411  GRAND_CHEROKEE  AMERICAN     1        0       автомат  автоматическая   \n",
       "57242          TAYCAN  EUROPEAN     1        0       автомат  автоматическая   \n",
       "57246          TAYCAN  EUROPEAN     1        0       автомат  автоматическая   \n",
       "83909    G_KLASSE_AMG  EUROPEAN     1        0       автомат  автоматическая   \n",
       "83976    G_KLASSE_AMG  EUROPEAN     1        0       автомат  автоматическая   \n",
       "\n",
       "       ownershipTimeMonths  \n",
       "18731                 18.0  \n",
       "18733                  NaN  \n",
       "18832                  NaN  \n",
       "23483                  NaN  \n",
       "23485                  NaN  \n",
       "32411                  NaN  \n",
       "57242                  NaN  \n",
       "57246                  8.0  \n",
       "83909                  NaN  \n",
       "83976                  NaN  \n",
       "\n",
       "[10 rows x 29 columns]"
      ]
     },
     "execution_count": 108,
     "metadata": {},
     "output_type": "execute_result"
    }
   ],
   "source": [
    "print(\"Строки, в которых мощность двигателя более 639 л.с.\")\n",
    "data[data.enginePower > data[data.train == 0]['enginePower'].max()]"
   ]
  },
  {
   "cell_type": "code",
   "execution_count": 109,
   "metadata": {},
   "outputs": [],
   "source": [
    "# Таких строк немного, удалим из из дальнейшего анализа\n",
    "data.drop(data[(data.enginePower > data[data.train == 0]\n",
    "                ['enginePower'].max()) | (data.enginePower < data[data.train == 0]\n",
    "                                          ['enginePower'].min())].index, inplace=True)"
   ]
  },
  {
   "cell_type": "markdown",
   "metadata": {},
   "source": [
    "**productionDate/modelDate**\n",
    "\n",
    "Посмотрим повнимательнее на признак и попробуем проанализировать поглубже."
   ]
  },
  {
   "cell_type": "code",
   "execution_count": 110,
   "metadata": {},
   "outputs": [
    {
     "name": "stdout",
     "output_type": "stream",
     "text": [
      "Значение года производства авто на TEST\n"
     ]
    },
    {
     "data": {
      "text/plain": [
       "count    34686.000000\n",
       "mean      2009.264602\n",
       "std          7.047661\n",
       "min       1904.000000\n",
       "25%       2006.000000\n",
       "50%       2011.000000\n",
       "75%       2014.000000\n",
       "max       2020.000000\n",
       "Name: productionDate, dtype: float64"
      ]
     },
     "metadata": {},
     "output_type": "display_data"
    },
    {
     "name": "stdout",
     "output_type": "stream",
     "text": [
      "\n",
      "Значение года производства авто на TRAIN\n"
     ]
    },
    {
     "data": {
      "text/plain": [
       "count    85376.000000\n",
       "mean      2010.517815\n",
       "std          6.929423\n",
       "min       1904.000000\n",
       "25%       2007.000000\n",
       "50%       2011.000000\n",
       "75%       2015.000000\n",
       "max       2020.000000\n",
       "Name: productionDate, dtype: float64"
      ]
     },
     "metadata": {},
     "output_type": "display_data"
    }
   ],
   "source": [
    "print(\"Значение года производства авто на TEST\")\n",
    "display(data[data.train == 0]['productionDate'].describe())\n",
    "\n",
    "print(\"\\nЗначение года производства авто на TRAIN\")\n",
    "display(data[data.train == 1]['productionDate'].describe())"
   ]
  },
  {
   "cell_type": "markdown",
   "metadata": {},
   "source": [
    "Минимальные значения, максимальные, медианные и среднии достаточно близки.\n",
    "\n",
    "Посмотрим на раритетные автомобили (30 летние машины, согласно классификации FIVA (Fédération Internationale des Véhicules Anciens), см https://ru.wikipedia.org/wiki/%D0%9A%D0%BB%D0%B0%D1%81%D1%81%D0%B8%D1%87%D0%B5%D1%81%D0%BA%D0%B8%D0%B9_%D0%B0%D0%B2%D1%82%D0%BE%D0%BC%D0%BE%D0%B1%D0%B8%D0%BB%D1%8C#%D0%A0%D0%BE%D1%81%D1%81%D0%B8%D1%8F).\n",
    "\n",
    "Можно будет добавить признак rarity."
   ]
  },
  {
   "cell_type": "code",
   "execution_count": 111,
   "metadata": {},
   "outputs": [],
   "source": [
    "current_year = 2020  # год, в который собраны данные"
   ]
  },
  {
   "cell_type": "code",
   "execution_count": 112,
   "metadata": {
    "scrolled": true
   },
   "outputs": [
    {
     "name": "stdout",
     "output_type": "stream",
     "text": [
      "В датасете содержится 1124 раритетных автомобилей.\n"
     ]
    }
   ],
   "source": [
    "# Посмотрим, сколько таких записей\n",
    "print(f\"В датасете содержится {len(data[data.productionDate < (current_year-30)]['productionDate'])} раритетных автомобилей.\")"
   ]
  },
  {
   "cell_type": "markdown",
   "metadata": {},
   "source": [
    "Детальнее посмотрим, как падает цена в зависимости от productionDate."
   ]
  },
  {
   "cell_type": "code",
   "execution_count": 169,
   "metadata": {},
   "outputs": [
    {
     "data": {
      "image/png": "[encoded data removed]",
      "text/plain": [
       "<Figure size 720x360 with 1 Axes>"
      ]
     },
     "metadata": {},
     "output_type": "display_data"
    }
   ],
   "source": [
    "fig, ax = plt.subplots(figsize=(10, 5))\n",
    "\n",
    "ax.set_xlim(1970, 2021)\n",
    "ax.set_ylim(0, 30000000)\n",
    "ax.set_xticks(np.arange(1970, 2022, 3))\n",
    "\n",
    "sns.scatterplot(data=data[data['train'] == 1], x='productionDate', y=\"price\")\n",
    "\n",
    "plt.title(\"Распределение целевой переменной в зависимости от productionDate\\n\")\n",
    "plt.show()"
   ]
  },
  {
   "cell_type": "markdown",
   "metadata": {},
   "source": [
    "Можно найти много информации, что цена автомобиля значительно падает после 3-5 лет эксплуатации. На графиках даная динамика тоже прослеживается. Идеи для новых признаков:\n",
    "- prodDate_3Y - признак, что автомобилю уже 3 года\n",
    "- prodDate_5Y - признак, что автомобилю уже 5 лет."
   ]
  },
  {
   "cell_type": "markdown",
   "metadata": {},
   "source": [
    "**ownershipTimeMonths**"
   ]
  },
  {
   "cell_type": "code",
   "execution_count": null,
   "metadata": {},
   "outputs": [],
   "source": []
  },
  {
   "cell_type": "code",
   "execution_count": null,
   "metadata": {},
   "outputs": [],
   "source": []
  },
  {
   "cell_type": "markdown",
   "metadata": {},
   "source": [
    "### Анализ выбросов\n"
   ]
  },
  {
   "cell_type": "code",
   "execution_count": null,
   "metadata": {},
   "outputs": [],
   "source": []
  },
  {
   "cell_type": "code",
   "execution_count": null,
   "metadata": {},
   "outputs": [],
   "source": []
  },
  {
   "cell_type": "markdown",
   "metadata": {},
   "source": [
    "### Анализ взаимосвязи признаков между собой\n"
   ]
  },
  {
   "cell_type": "code",
   "execution_count": null,
   "metadata": {},
   "outputs": [],
   "source": []
  },
  {
   "cell_type": "code",
   "execution_count": null,
   "metadata": {},
   "outputs": [],
   "source": []
  },
  {
   "cell_type": "markdown",
   "metadata": {},
   "source": [
    "### Анализ взаимосвязи признаков с таргетом"
   ]
  },
  {
   "cell_type": "code",
   "execution_count": null,
   "metadata": {},
   "outputs": [],
   "source": []
  },
  {
   "cell_type": "code",
   "execution_count": null,
   "metadata": {},
   "outputs": [],
   "source": []
  },
  {
   "cell_type": "markdown",
   "metadata": {},
   "source": [
    "### Генерация новых признаков"
   ]
  },
  {
   "cell_type": "markdown",
   "metadata": {},
   "source": [
    "Идеи по генерации новых признаков по результатам EDA:\n",
    "- [x] km_per_year - показывает, сколько км в год проезжал автомобиль. Вычисляется, как mileage/productionDate(years) или mileage/ownershipTime. Решить, какой метод использовать\n",
    "- [x] carNovelty - показывает, через сколько лет после выхода модели был выпущен автомобиль, т.е. modelDate - productionDate. Гипотеза, что чем меньше это число, тем выше будет цена\n",
    "- [x] rarity - признак, показывающий, что автомобиль раритетный (ему более 30 лет)\n",
    "- [x] prodDate_3Y - признак, что автомобилю уже 3 года\n",
    "- [x] prodDate_5Y - признак, что автомобилю уже 5 лет."
   ]
  },
  {
   "cell_type": "markdown",
   "metadata": {},
   "source": [
    "**km_per_year**\n",
    "\n",
    "Пробег авто км/год."
   ]
  },
  {
   "cell_type": "code",
   "execution_count": 113,
   "metadata": {},
   "outputs": [],
   "source": [
    "def km_per_year(row):\n",
    "    \"\"\"\n",
    "    Функция делает пересчет км пробега автомобиля в года после года производства автомобиля.\n",
    "    Вход: строка датафрейма.\n",
    "    Выход: информация о км/год.\n",
    "    \"\"\"\n",
    "    if row['mileage'] != 0:\n",
    "        # обрабатываем случаи, когда мошина произведена в год сбора данных, чтоб не делить на 0\n",
    "        if current_year - row['productionDate'] == 0:\n",
    "            return row['mileage']\n",
    "        else:\n",
    "            return row['mileage']/(current_year - row['productionDate'])\n",
    "    return 0  # возвращаем 0, если машина без пробега (новая"
   ]
  },
  {
   "cell_type": "code",
   "execution_count": 114,
   "metadata": {},
   "outputs": [],
   "source": [
    "# Добавим дополнительный признак 'km_per_year', который равен пробегу, поделенному на возраст авто,\n",
    "data['km_per_year'] = data.apply(km_per_year, axis =1)"
   ]
  },
  {
   "cell_type": "code",
   "execution_count": 115,
   "metadata": {},
   "outputs": [],
   "source": [
    "# добавляем новые признак\n",
    "num_cols.append('km_per_year')"
   ]
  },
  {
   "cell_type": "markdown",
   "metadata": {},
   "source": [
    "**carNovelty**\n",
    "\n",
    "Новизна машины: через сколько лет после появления модели авто была произведена машина. "
   ]
  },
  {
   "cell_type": "code",
   "execution_count": 116,
   "metadata": {},
   "outputs": [],
   "source": [
    "# Добавим'dateModelProdDiff', равный разнице между годом выпуска авто и годом начала производства модели\n",
    "data['carNovelty'] = data['productionDate'] - data['modelDate']"
   ]
  },
  {
   "cell_type": "code",
   "execution_count": 117,
   "metadata": {},
   "outputs": [
    {
     "data": {
      "text/html": [
       "<div>\n",
       "<style scoped>\n",
       "    .dataframe tbody tr th:only-of-type {\n",
       "        vertical-align: middle;\n",
       "    }\n",
       "\n",
       "    .dataframe tbody tr th {\n",
       "        vertical-align: top;\n",
       "    }\n",
       "\n",
       "    .dataframe thead th {\n",
       "        text-align: right;\n",
       "    }\n",
       "</style>\n",
       "<table border=\"1\" class=\"dataframe\">\n",
       "  <thead>\n",
       "    <tr style=\"text-align: right;\">\n",
       "      <th></th>\n",
       "      <th>productionDate</th>\n",
       "      <th>modelDate</th>\n",
       "      <th>mileage</th>\n",
       "      <th>km_per_year</th>\n",
       "      <th>carNovelty</th>\n",
       "    </tr>\n",
       "  </thead>\n",
       "  <tbody>\n",
       "    <tr>\n",
       "      <th>35311</th>\n",
       "      <td>2020</td>\n",
       "      <td>2017</td>\n",
       "      <td>0</td>\n",
       "      <td>0.000000</td>\n",
       "      <td>3</td>\n",
       "    </tr>\n",
       "    <tr>\n",
       "      <th>75218</th>\n",
       "      <td>2018</td>\n",
       "      <td>2016</td>\n",
       "      <td>58000</td>\n",
       "      <td>29000.000000</td>\n",
       "      <td>2</td>\n",
       "    </tr>\n",
       "    <tr>\n",
       "      <th>71827</th>\n",
       "      <td>2011</td>\n",
       "      <td>2011</td>\n",
       "      <td>153000</td>\n",
       "      <td>17000.000000</td>\n",
       "      <td>0</td>\n",
       "    </tr>\n",
       "    <tr>\n",
       "      <th>65713</th>\n",
       "      <td>2013</td>\n",
       "      <td>2011</td>\n",
       "      <td>140000</td>\n",
       "      <td>20000.000000</td>\n",
       "      <td>2</td>\n",
       "    </tr>\n",
       "    <tr>\n",
       "      <th>95165</th>\n",
       "      <td>1991</td>\n",
       "      <td>1989</td>\n",
       "      <td>315000</td>\n",
       "      <td>10862.068966</td>\n",
       "      <td>2</td>\n",
       "    </tr>\n",
       "  </tbody>\n",
       "</table>\n",
       "</div>"
      ],
      "text/plain": [
       "       productionDate  modelDate  mileage   km_per_year  carNovelty\n",
       "35311            2020       2017        0      0.000000           3\n",
       "75218            2018       2016    58000  29000.000000           2\n",
       "71827            2011       2011   153000  17000.000000           0\n",
       "65713            2013       2011   140000  20000.000000           2\n",
       "95165            1991       1989   315000  10862.068966           2"
      ]
     },
     "execution_count": 117,
     "metadata": {},
     "output_type": "execute_result"
    }
   ],
   "source": [
    "# Посмотрим, что получилось\n",
    "data[['productionDate', 'modelDate', 'mileage', 'km_per_year', 'carNovelty']].sample(5)"
   ]
  },
  {
   "cell_type": "code",
   "execution_count": 118,
   "metadata": {},
   "outputs": [],
   "source": [
    "# добавляем новые признак\n",
    "num_cols.append('carNovelty')"
   ]
  },
  {
   "cell_type": "markdown",
   "metadata": {},
   "source": [
    "**rarity** \n",
    "\n",
    "Раритетные авто (более 30 лет). Строим на базе modelDate.\n",
    "\n",
    "Значения:\n",
    "* 5 - авто нераритетный\n",
    "* 4 - Class F — с 1 января 1961 по 31 декабря 1970\n",
    "* 3 - Class E (Post War) — с 1 января 1946 по 31 декабря 1960\n",
    "* 2 - Class D (Post Vintage) — с 1 января 1931 по 31 декабря 1945\n",
    "* 1 - Class C (Vintage) — с 1 января 1919 по 31 декабря 1930\n",
    "* Class B (Veteran) — с 1 января 1905 по 31 декабря 1918 (таких авто в выборке нет)\n",
    "* 0 - Class A (Ancestor) — выпуска до 31 декабря 1904 года."
   ]
  },
  {
   "cell_type": "code",
   "execution_count": 119,
   "metadata": {},
   "outputs": [],
   "source": [
    "# Зададим основные раритетные категории\n",
    "rar_cat = pd.cut(data.modelDate, bins=[0, 1905, 1919, 1931, 1946, 1961, 1971, current_year+1],\n",
    "                 labels=['Class A (Ancestor)', 'Class B (Veteran)', 'Class C (Vintage)', 'Class D (Post Vintage)', \n",
    "                         'Class E (Post War)', 'class F', 'нераритетный'])\n",
    "data.insert(20, 'rarity', rar_cat)"
   ]
  },
  {
   "cell_type": "code",
   "execution_count": 120,
   "metadata": {},
   "outputs": [],
   "source": [
    "# Преобразуем признак age_group в числовой\n",
    "label_encoder = LabelEncoder()\n",
    "data['rarity'] = label_encoder.fit_transform(data['rarity'])"
   ]
  },
  {
   "cell_type": "code",
   "execution_count": 137,
   "metadata": {},
   "outputs": [
    {
     "name": "stdout",
     "output_type": "stream",
     "text": [
      "Количество автомобилей по раритетности с указанием диапазонов годов моделей\n"
     ]
    },
    {
     "data": {
      "text/html": [
       "<div>\n",
       "<style scoped>\n",
       "    .dataframe tbody tr th:only-of-type {\n",
       "        vertical-align: middle;\n",
       "    }\n",
       "\n",
       "    .dataframe tbody tr th {\n",
       "        vertical-align: top;\n",
       "    }\n",
       "\n",
       "    .dataframe thead th {\n",
       "        text-align: right;\n",
       "    }\n",
       "</style>\n",
       "<table border=\"1\" class=\"dataframe\">\n",
       "  <thead>\n",
       "    <tr style=\"text-align: right;\">\n",
       "      <th></th>\n",
       "      <th>min</th>\n",
       "      <th>max</th>\n",
       "      <th>count</th>\n",
       "    </tr>\n",
       "    <tr>\n",
       "      <th>rarity</th>\n",
       "      <th></th>\n",
       "      <th></th>\n",
       "      <th></th>\n",
       "    </tr>\n",
       "  </thead>\n",
       "  <tbody>\n",
       "    <tr>\n",
       "      <th>0</th>\n",
       "      <td>1904</td>\n",
       "      <td>1904</td>\n",
       "      <td>2</td>\n",
       "    </tr>\n",
       "    <tr>\n",
       "      <th>1</th>\n",
       "      <td>1927</td>\n",
       "      <td>1927</td>\n",
       "      <td>3</td>\n",
       "    </tr>\n",
       "    <tr>\n",
       "      <th>2</th>\n",
       "      <td>1932</td>\n",
       "      <td>1938</td>\n",
       "      <td>37</td>\n",
       "    </tr>\n",
       "    <tr>\n",
       "      <th>3</th>\n",
       "      <td>1948</td>\n",
       "      <td>1961</td>\n",
       "      <td>46</td>\n",
       "    </tr>\n",
       "    <tr>\n",
       "      <th>4</th>\n",
       "      <td>1963</td>\n",
       "      <td>1971</td>\n",
       "      <td>40</td>\n",
       "    </tr>\n",
       "    <tr>\n",
       "      <th>5</th>\n",
       "      <td>1972</td>\n",
       "      <td>2020</td>\n",
       "      <td>119934</td>\n",
       "    </tr>\n",
       "  </tbody>\n",
       "</table>\n",
       "</div>"
      ],
      "text/plain": [
       "         min   max   count\n",
       "rarity                    \n",
       "0       1904  1904       2\n",
       "1       1927  1927       3\n",
       "2       1932  1938      37\n",
       "3       1948  1961      46\n",
       "4       1963  1971      40\n",
       "5       1972  2020  119934"
      ]
     },
     "execution_count": 137,
     "metadata": {},
     "output_type": "execute_result"
    }
   ],
   "source": [
    "# Посмотрим на результат\n",
    "print(\"Количество автомобилей по раритетности с указанием диапазонов годов моделей\")\n",
    "data.groupby('rarity')['modelDate'].agg(['min', 'max', 'count'])"
   ]
  },
  {
   "cell_type": "code",
   "execution_count": 136,
   "metadata": {},
   "outputs": [
    {
     "name": "stdout",
     "output_type": "stream",
     "text": [
      "Медианная цена по групам раритетности\n"
     ]
    },
    {
     "data": {
      "text/html": [
       "<div>\n",
       "<style scoped>\n",
       "    .dataframe tbody tr th:only-of-type {\n",
       "        vertical-align: middle;\n",
       "    }\n",
       "\n",
       "    .dataframe tbody tr th {\n",
       "        vertical-align: top;\n",
       "    }\n",
       "\n",
       "    .dataframe thead th {\n",
       "        text-align: right;\n",
       "    }\n",
       "</style>\n",
       "<table border=\"1\" class=\"dataframe\">\n",
       "  <thead>\n",
       "    <tr style=\"text-align: right;\">\n",
       "      <th></th>\n",
       "      <th>median</th>\n",
       "    </tr>\n",
       "    <tr>\n",
       "      <th>rarity</th>\n",
       "      <th></th>\n",
       "    </tr>\n",
       "  </thead>\n",
       "  <tbody>\n",
       "    <tr>\n",
       "      <th>0</th>\n",
       "      <td>6000000.0</td>\n",
       "    </tr>\n",
       "    <tr>\n",
       "      <th>1</th>\n",
       "      <td>4500000.0</td>\n",
       "    </tr>\n",
       "    <tr>\n",
       "      <th>2</th>\n",
       "      <td>550000.0</td>\n",
       "    </tr>\n",
       "    <tr>\n",
       "      <th>3</th>\n",
       "      <td>2000000.0</td>\n",
       "    </tr>\n",
       "    <tr>\n",
       "      <th>4</th>\n",
       "      <td>1000000.0</td>\n",
       "    </tr>\n",
       "    <tr>\n",
       "      <th>5</th>\n",
       "      <td>392000.0</td>\n",
       "    </tr>\n",
       "  </tbody>\n",
       "</table>\n",
       "</div>"
      ],
      "text/plain": [
       "           median\n",
       "rarity           \n",
       "0       6000000.0\n",
       "1       4500000.0\n",
       "2        550000.0\n",
       "3       2000000.0\n",
       "4       1000000.0\n",
       "5        392000.0"
      ]
     },
     "execution_count": 136,
     "metadata": {},
     "output_type": "execute_result"
    }
   ],
   "source": [
    "# Посмотрим на медианную цену по группам\n",
    "print(\"Медианная цена по групам раритетности\")\n",
    "data.groupby('rarity')['price'].agg(['median'])"
   ]
  },
  {
   "cell_type": "code",
   "execution_count": 121,
   "metadata": {},
   "outputs": [],
   "source": [
    "# Добавим новый признак к категориальным\n",
    "cat_cols.append('rarity')"
   ]
  },
  {
   "cell_type": "markdown",
   "metadata": {},
   "source": [
    "**prodDate_3Y, prodDate_5Y**\n",
    "\n",
    "- prodDate_3Y - признак, что автомобилю уже 3 года\n",
    "- prodDate_5Y - признак, что автомобилю уже 5 лет."
   ]
  },
  {
   "cell_type": "code",
   "execution_count": 177,
   "metadata": {},
   "outputs": [],
   "source": [
    "# Добавляем новые признаки\n",
    "data['prodDate_3Y'] = data['productionDate']>=(current_year-3)\n",
    "data['prodDate_5Y'] = (data['productionDate']>=current_year-5)&(data['productionDate']<current_year-3)"
   ]
  },
  {
   "cell_type": "code",
   "execution_count": 180,
   "metadata": {},
   "outputs": [
    {
     "data": {
      "text/html": [
       "<div>\n",
       "<style scoped>\n",
       "    .dataframe tbody tr th:only-of-type {\n",
       "        vertical-align: middle;\n",
       "    }\n",
       "\n",
       "    .dataframe tbody tr th {\n",
       "        vertical-align: top;\n",
       "    }\n",
       "\n",
       "    .dataframe thead th {\n",
       "        text-align: right;\n",
       "    }\n",
       "</style>\n",
       "<table border=\"1\" class=\"dataframe\">\n",
       "  <thead>\n",
       "    <tr style=\"text-align: right;\">\n",
       "      <th></th>\n",
       "      <th>prodDate_3Y</th>\n",
       "      <th>prodDate_5Y</th>\n",
       "      <th>productionDate</th>\n",
       "    </tr>\n",
       "  </thead>\n",
       "  <tbody>\n",
       "    <tr>\n",
       "      <th>37230</th>\n",
       "      <td>False</td>\n",
       "      <td>False</td>\n",
       "      <td>2010</td>\n",
       "    </tr>\n",
       "    <tr>\n",
       "      <th>105511</th>\n",
       "      <td>True</td>\n",
       "      <td>False</td>\n",
       "      <td>2017</td>\n",
       "    </tr>\n",
       "    <tr>\n",
       "      <th>29027</th>\n",
       "      <td>False</td>\n",
       "      <td>True</td>\n",
       "      <td>2016</td>\n",
       "    </tr>\n",
       "  </tbody>\n",
       "</table>\n",
       "</div>"
      ],
      "text/plain": [
       "        prodDate_3Y  prodDate_5Y  productionDate\n",
       "37230         False        False            2010\n",
       "105511         True        False            2017\n",
       "29027         False         True            2016"
      ]
     },
     "execution_count": 180,
     "metadata": {},
     "output_type": "execute_result"
    }
   ],
   "source": [
    "# Проверяем результат\n",
    "data[['prodDate_3Y', 'prodDate_5Y', 'productionDate']].sample(3)"
   ]
  },
  {
   "cell_type": "code",
   "execution_count": 181,
   "metadata": {},
   "outputs": [],
   "source": [
    "# Добавляем новые признаки\n",
    "bin_cols.append('prodDate_3Y')\n",
    "bin_cols.append('prodDate_5Y')"
   ]
  },
  {
   "cell_type": "code",
   "execution_count": null,
   "metadata": {},
   "outputs": [],
   "source": []
  },
  {
   "cell_type": "code",
   "execution_count": null,
   "metadata": {},
   "outputs": [],
   "source": []
  },
  {
   "cell_type": "code",
   "execution_count": null,
   "metadata": {},
   "outputs": [],
   "source": []
  },
  {
   "cell_type": "code",
   "execution_count": null,
   "metadata": {},
   "outputs": [],
   "source": []
  },
  {
   "cell_type": "code",
   "execution_count": null,
   "metadata": {},
   "outputs": [],
   "source": []
  },
  {
   "cell_type": "code",
   "execution_count": null,
   "metadata": {},
   "outputs": [],
   "source": []
  },
  {
   "cell_type": "code",
   "execution_count": null,
   "metadata": {
    "papermill": {
     "duration": 0.156124,
     "end_time": "2020-10-26T12:47:03.134605",
     "exception": false,
     "start_time": "2020-10-26T12:47:02.978481",
     "status": "completed"
    },
    "tags": []
   },
   "outputs": [],
   "source": [
    "train.dropna(subset=['productionDate', 'mileage'], inplace=True)\n",
    "train.dropna(subset=['price'], inplace=True)"
   ]
  },
  {
   "cell_type": "code",
   "execution_count": null,
   "metadata": {
    "papermill": {
     "duration": 0.054414,
     "end_time": "2020-10-26T12:47:03.223614",
     "exception": false,
     "start_time": "2020-10-26T12:47:03.1692",
     "status": "completed"
    },
    "tags": []
   },
   "outputs": [],
   "source": [
    "# для baseline просто возьму пару схожих признаков без полной обработки\n",
    "columns = ['bodyType', 'brand', 'productionDate',\n",
    "           'engineDisplacement', 'mileage']\n",
    "df_train = train[columns]\n",
    "df_test = test[columns]"
   ]
  },
  {
   "cell_type": "code",
   "execution_count": null,
   "metadata": {},
   "outputs": [],
   "source": [
    "y = train['price']"
   ]
  },
  {
   "cell_type": "markdown",
   "metadata": {
    "papermill": {
     "duration": 0.033657,
     "end_time": "2020-10-26T12:47:03.29162",
     "exception": false,
     "start_time": "2020-10-26T12:47:03.257963",
     "status": "completed"
    },
    "tags": []
   },
   "source": [
    "### Label Encoding"
   ]
  },
  {
   "cell_type": "code",
   "execution_count": null,
   "metadata": {
    "papermill": {
     "duration": 0.080223,
     "end_time": "2020-10-26T12:47:03.406196",
     "exception": false,
     "start_time": "2020-10-26T12:47:03.325973",
     "status": "completed"
    },
    "tags": []
   },
   "outputs": [],
   "source": [
    "# ВАЖНО! дря корректной обработки признаков объединяем трейн и тест в один датасет\n",
    "df_train['sample'] = 1  # помечаем где у нас трейн\n",
    "df_test['sample'] = 0  # помечаем где у нас тест\n",
    "\n",
    "data = df_test.append(df_train, sort=False).reset_index(\n",
    "    drop=True)  # объединяем"
   ]
  },
  {
   "cell_type": "code",
   "execution_count": null,
   "metadata": {
    "papermill": {
     "duration": 0.10809,
     "end_time": "2020-10-26T12:47:03.549533",
     "exception": false,
     "start_time": "2020-10-26T12:47:03.441443",
     "status": "completed"
    },
    "tags": []
   },
   "outputs": [],
   "source": [
    "for colum in ['bodyType', 'brand', 'engineDisplacement']:\n",
    "    data[colum] = data[colum].astype('category').cat.codes"
   ]
  },
  {
   "cell_type": "code",
   "execution_count": null,
   "metadata": {
    "papermill": {
     "duration": 0.06183,
     "end_time": "2020-10-26T12:47:03.646867",
     "exception": false,
     "start_time": "2020-10-26T12:47:03.585037",
     "status": "completed"
    },
    "tags": []
   },
   "outputs": [],
   "source": [
    "data"
   ]
  },
  {
   "cell_type": "code",
   "execution_count": null,
   "metadata": {
    "papermill": {
     "duration": 0.071275,
     "end_time": "2020-10-26T12:47:03.754",
     "exception": false,
     "start_time": "2020-10-26T12:47:03.682725",
     "status": "completed"
    },
    "tags": []
   },
   "outputs": [],
   "source": [
    "X = data.query('sample == 1').drop(['sample'], axis=1)\n",
    "X_sub = data.query('sample == 0').drop(['sample'], axis=1)"
   ]
  },
  {
   "cell_type": "markdown",
   "metadata": {
    "papermill": {
     "duration": 0.035737,
     "end_time": "2020-10-26T12:47:03.826552",
     "exception": false,
     "start_time": "2020-10-26T12:47:03.790815",
     "status": "completed"
    },
    "tags": []
   },
   "source": [
    "## Train Split"
   ]
  },
  {
   "cell_type": "code",
   "execution_count": null,
   "metadata": {
    "papermill": {
     "duration": 0.059208,
     "end_time": "2020-10-26T12:47:03.923564",
     "exception": false,
     "start_time": "2020-10-26T12:47:03.864356",
     "status": "completed"
    },
    "tags": []
   },
   "outputs": [],
   "source": [
    "X_train, X_test, y_train, y_test = train_test_split(\n",
    "    X, y, test_size=VAL_SIZE, shuffle=True, random_state=RANDOM_SEED)"
   ]
  },
  {
   "cell_type": "markdown",
   "metadata": {},
   "source": [
    "# 5. Model 1. Создадим \"наивную\" модель \n",
    "Эта модель будет предсказывать среднюю цену по модели двигателя (engineDisplacement). \n",
    "C ней будем сравнивать другие модели.\n",
    "\n",
    "\n"
   ]
  },
  {
   "cell_type": "code",
   "execution_count": null,
   "metadata": {},
   "outputs": [],
   "source": [
    "tmp_train = X_train.copy()\n",
    "tmp_train['price'] = y_train"
   ]
  },
  {
   "cell_type": "code",
   "execution_count": null,
   "metadata": {},
   "outputs": [],
   "source": [
    "# Находим median по экземплярам engineDisplacement в трейне и размечаем тест\n",
    "predict = X_test['engineDisplacement'].map(\n",
    "    tmp_train.groupby('engineDisplacement')['price'].median())\n",
    "\n",
    "# оцениваем точность\n",
    "print(\n",
    "    f\"Точность наивной модели по метрике MAPE: {(mape(y_test, predict.values))*100:0.2f}%\")"
   ]
  },
  {
   "cell_type": "markdown",
   "metadata": {
    "papermill": {
     "duration": 0.037164,
     "end_time": "2020-10-26T12:47:03.997616",
     "exception": false,
     "start_time": "2020-10-26T12:47:03.960452",
     "status": "completed"
    },
    "tags": []
   },
   "source": [
    "# 6. Model 2 : CatBoost\n",
    "![](https://pbs.twimg.com/media/DP-jUCyXcAArRTo.png:large)   \n",
    "\n",
    "\n",
    "У нас в данных практически все признаки категориальные. Специально для работы с такими данными была создана очень удобная библиотека CatBoost от Яндекса. [https://catboost.ai](http://)     \n",
    "На данный момент **CatBoost является одной из лучших библиотек для табличных данных!**\n",
    "\n",
    "#### Полезные видео о CatBoost (на русском):\n",
    "* [Доклад про CatBoost](https://youtu.be/9ZrfErvm97M)\n",
    "* [Свежий Туториал от команды CatBoost (практическая часть)](https://youtu.be/wQt4kgAOgV0) "
   ]
  },
  {
   "cell_type": "markdown",
   "metadata": {
    "papermill": {
     "duration": 0.035833,
     "end_time": "2020-10-26T12:47:04.149539",
     "exception": false,
     "start_time": "2020-10-26T12:47:04.113706",
     "status": "completed"
    },
    "tags": []
   },
   "source": [
    "## Fit"
   ]
  },
  {
   "cell_type": "code",
   "execution_count": null,
   "metadata": {
    "papermill": {
     "duration": 67.991521,
     "end_time": "2020-10-26T12:48:12.178488",
     "exception": false,
     "start_time": "2020-10-26T12:47:04.186967",
     "status": "completed"
    },
    "tags": []
   },
   "outputs": [],
   "source": [
    "model = CatBoostRegressor(iterations=5000,\n",
    "                          random_seed=RANDOM_SEED,\n",
    "                          eval_metric='MAPE',\n",
    "                          custom_metric=['R2', 'MAE'],\n",
    "                          silent=True,\n",
    "                          )\n",
    "model.fit(X_train, y_train,\n",
    "          # cat_features=cat_features_ids,\n",
    "          eval_set=(X_test, y_test),\n",
    "          verbose_eval=0,\n",
    "          use_best_model=True,\n",
    "          # plot=True\n",
    "          )\n",
    "\n",
    "model.save_model('catboost_single_model_baseline.model')"
   ]
  },
  {
   "cell_type": "code",
   "execution_count": null,
   "metadata": {},
   "outputs": [],
   "source": [
    "# оцениваем точность\n",
    "predict = model.predict(X_test)\n",
    "print(f\"Точность модели по метрике MAPE: {(mape(y_test, predict))*100:0.2f}%\")"
   ]
  },
  {
   "cell_type": "markdown",
   "metadata": {
    "papermill": {
     "duration": 0.088891,
     "end_time": "2020-10-26T12:48:12.562943",
     "exception": false,
     "start_time": "2020-10-26T12:48:12.474052",
     "status": "completed"
    },
    "tags": []
   },
   "source": [
    "Вот так просто со старта, даже не трогая сами данные и не подбирая настройки catboosta, получаем модель с уровнем ошибки в 18%!"
   ]
  },
  {
   "cell_type": "markdown",
   "metadata": {},
   "source": [
    "### Log Traget\n",
    "Попробуем взять таргет в логорифм - это позволит уменьшить влияние выбросов на обучение модели (используем для этого np.log и np.exp).    \n",
    "В принциепе мы можем использовать любое приобразование на целевую переменную. Например деление на курс доллара, евро или гречки :) в дату сбора данных, смотрим дату парсинга в тесте в **parsing_unixtime**"
   ]
  },
  {
   "cell_type": "code",
   "execution_count": null,
   "metadata": {},
   "outputs": [],
   "source": [
    "np.log(y_train)"
   ]
  },
  {
   "cell_type": "code",
   "execution_count": null,
   "metadata": {},
   "outputs": [],
   "source": [
    "model = CatBoostRegressor(iterations=5000,\n",
    "                          random_seed=RANDOM_SEED,\n",
    "                          eval_metric='MAPE',\n",
    "                          custom_metric=['R2', 'MAE'],\n",
    "                          silent=True,\n",
    "                          )\n",
    "model.fit(X_train, np.log(y_train),\n",
    "          # cat_features=cat_features_ids,\n",
    "          eval_set=(X_test, np.log(y_test)),\n",
    "          verbose_eval=0,\n",
    "          use_best_model=True,\n",
    "          # plot=True\n",
    "          )\n",
    "\n",
    "model.save_model('catboost_single_model_2_baseline.model')"
   ]
  },
  {
   "cell_type": "code",
   "execution_count": null,
   "metadata": {},
   "outputs": [],
   "source": [
    "predict_test = np.exp(model.predict(X_test))\n",
    "predict_submission = np.exp(model.predict(X_sub))"
   ]
  },
  {
   "cell_type": "code",
   "execution_count": null,
   "metadata": {},
   "outputs": [],
   "source": [
    "print(\n",
    "    f\"Точность модели по метрике MAPE: {(mape(y_test, predict_test))*100:0.2f}%\")"
   ]
  },
  {
   "cell_type": "markdown",
   "metadata": {},
   "source": [
    "Как видим точность возросла до 15%, а что будет на ЛБ?"
   ]
  },
  {
   "cell_type": "markdown",
   "metadata": {},
   "source": [
    "# Model 3. Lazypredict\n"
   ]
  },
  {
   "cell_type": "code",
   "execution_count": null,
   "metadata": {},
   "outputs": [],
   "source": [
    "pip install lazypredict"
   ]
  },
  {
   "cell_type": "code",
   "execution_count": null,
   "metadata": {},
   "outputs": [],
   "source": [
    "import lazypredict"
   ]
  },
  {
   "cell_type": "code",
   "execution_count": null,
   "metadata": {},
   "outputs": [],
   "source": [
    "from lazypredict.Supervised import LazyRegressor\n",
    "\n",
    "#reg = LazyRegressor(verbose=0, ignore_warnings=False, custom_metric=None)\n",
    "#models, predictions = reg.fit(X_train, X_test, y_train, y_test)\n",
    "\n",
    "# print(models)"
   ]
  },
  {
   "cell_type": "markdown",
   "metadata": {
    "papermill": {
     "duration": 0.085876,
     "end_time": "2020-10-26T12:48:12.734207",
     "exception": false,
     "start_time": "2020-10-26T12:48:12.648331",
     "status": "completed"
    },
    "tags": []
   },
   "source": [
    "# 7. Submission"
   ]
  },
  {
   "cell_type": "code",
   "execution_count": null,
   "metadata": {
    "papermill": {
     "duration": 0.628302,
     "end_time": "2020-10-26T12:48:13.763488",
     "exception": false,
     "start_time": "2020-10-26T12:48:13.135186",
     "status": "completed"
    },
    "tags": []
   },
   "outputs": [],
   "source": [
    "sample_submission['price'] = predict_submission\n",
    "sample_submission.to_csv(f'submission_2_v{VERSION}.csv', index=False)\n",
    "sample_submission.head(10)"
   ]
  },
  {
   "cell_type": "markdown",
   "metadata": {
    "papermill": {
     "duration": 0.083769,
     "end_time": "2020-10-26T12:48:13.930562",
     "exception": false,
     "start_time": "2020-10-26T12:48:13.846793",
     "status": "completed"
    },
    "tags": []
   },
   "source": [
    "В итоге получили **MAPE 27%** на ЛБ!\n",
    "\n",
    "Большая разница в ошибке может указывать на то что тест и трейн имеют различия по выборке или то что данные в трейне могли уже устареть и их нужно обновлять."
   ]
  },
  {
   "cell_type": "markdown",
   "metadata": {
    "papermill": {
     "duration": 0.087712,
     "end_time": "2020-10-26T12:48:14.104388",
     "exception": false,
     "start_time": "2020-10-26T12:48:14.016676",
     "status": "completed"
    },
    "tags": []
   },
   "source": [
    "# What's next?\n",
    "Или что еще можно сделать, чтоб улучшить результат:\n",
    "\n",
    "* Спарсить свежие данные \n",
    "* Посмотреть, что можно извлечь из признаков или как еще можно обработать признаки\n",
    "* Сгенерировать новые признаки\n",
    "* Попробовать подобрать параметры модели\n",
    "* Попробовать другие алгоритмы и библиотеки ML\n",
    "* Сделать Ансамбль моделей, Blending, Stacking"
   ]
  },
  {
   "cell_type": "markdown",
   "metadata": {},
   "source": [
    "Подробный чек лист: https://docs.google.com/spreadsheets/d/1I_ErM3U0Cs7Rs1obyZbIEGtVn-H47pHNCi4xdDgUmXY/edit?usp=sharing"
   ]
  }
 ],
 "metadata": {
  "kernelspec": {
   "display_name": "Python 3",
   "language": "python",
   "name": "python3"
  },
  "language_info": {
   "codemirror_mode": {
    "name": "ipython",
    "version": 3
   },
   "file_extension": ".py",
   "mimetype": "text/x-python",
   "name": "python",
   "nbconvert_exporter": "python",
   "pygments_lexer": "ipython3",
   "version": "3.8.10"
  }
 },
 "nbformat": 4,
 "nbformat_minor": 4
}
