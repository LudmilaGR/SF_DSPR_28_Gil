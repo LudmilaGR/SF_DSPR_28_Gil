{
 "cells": [
  {
   "cell_type": "markdown",
   "metadata": {
    "papermill": {
     "duration": 0.029718,
     "end_time": "2020-10-26T12:46:41.276296",
     "exception": false,
     "start_time": "2020-10-26T12:46:41.246578",
     "status": "completed"
    },
    "tags": []
   },
   "source": [
    "<img src=\"https://whatcar.vn/media/2018/09/car-lot-940x470.jpg\"/>\n",
    "\n",
    "# Прогнозирование стоимости автомобиля по характеристикам\n",
    "\n",
    "* Работу выполнили Людмила Григорьева и Юлия Гиль\n",
    "* Группа DSPR-28\n",
    "* Дата сдачи 08.09.2021"
   ]
  },
  {
   "cell_type": "markdown",
   "metadata": {},
   "source": [
    "# <a id=\"0\"></a>Table of Contents\n",
    "\n",
    "0. [TABLE OF CONTENTS](#0)\n",
    "1. [IMPORT, FUNCTIONS, SETUP](#1)\n",
    "2. [DDATA & PRELIMINARY ANALYSIS](#2)\n",
    "3. [EDA](#3) \n",
    "4. [NAÏVE MODEL](#4)\n",
    "5. [MODEL IMPROVEMENTS](#5)\n",
    "    * \n",
    "6. [SUBMISSION](#6)\n",
    "7. [SUMMARY](#7)"
   ]
  },
  {
   "cell_type": "markdown",
   "metadata": {},
   "source": [
    "<a id=\"1\"></a>\n",
    "# 1. IMPORT, FUNCTIONS, SETUP"
   ]
  },
  {
   "cell_type": "code",
   "execution_count": 1,
   "metadata": {
    "scrolled": true
   },
   "outputs": [],
   "source": [
    "#!pip3 install catboost"
   ]
  },
  {
   "cell_type": "code",
   "execution_count": 2,
   "metadata": {
    "scrolled": false
   },
   "outputs": [],
   "source": [
    "#pip install pandas-profiling"
   ]
  },
  {
   "cell_type": "code",
   "execution_count": 3,
   "metadata": {
    "_cell_guid": "b1076dfc-b9ad-4769-8c92-a6c4dae69d19",
    "_uuid": "8f2839f25d086af736a60e9eeb907d3b93b6e0e5",
    "execution": {
     "iopub.execute_input": "2021-08-25T11:04:23.401994Z",
     "iopub.status.busy": "2021-08-25T11:04:23.400259Z",
     "iopub.status.idle": "2021-08-25T11:04:23.413459Z",
     "shell.execute_reply": "2021-08-25T11:04:23.411604Z",
     "shell.execute_reply.started": "2021-08-25T11:04:23.401937Z"
    },
    "papermill": {
     "duration": 1.219772,
     "end_time": "2020-10-26T12:46:42.581597",
     "exception": false,
     "start_time": "2020-10-26T12:46:41.361825",
     "status": "completed"
    },
    "scrolled": false,
    "tags": []
   },
   "outputs": [],
   "source": [
    "import numpy as np\n",
    "import pandas as pd\n",
    "import sys\n",
    "import re\n",
    "import seaborn as sns\n",
    "import matplotlib.pyplot as plt\n",
    "import warnings\n",
    "\n",
    "from pandas_profiling import ProfileReport\n",
    "from sklearn.model_selection import train_test_split\n",
    "from sklearn.model_selection import KFold\n",
    "from tqdm.notebook import tqdm\n",
    "from catboost import CatBoostRegressor\n",
    "from sklearn.preprocessing import LabelEncoder, OneHotEncoder, StandardScaler, MultiLabelBinarizer\n",
    "from sklearn.feature_extraction.text import CountVectorizer\n",
    "from scipy.stats import ttest_ind\n",
    "from itertools import combinations\n",
    "from sklearn.feature_selection import f_regression, mutual_info_regression \n",
    "\n",
    "%matplotlib inline\n",
    "warnings.simplefilter('ignore')\n",
    "sns.set()"
   ]
  },
  {
   "cell_type": "code",
   "execution_count": 4,
   "metadata": {
    "_kg_hide-input": true,
    "execution": {
     "iopub.execute_input": "2021-08-25T11:04:23.417239Z",
     "iopub.status.busy": "2021-08-25T11:04:23.416559Z",
     "iopub.status.idle": "2021-08-25T11:04:23.433238Z",
     "shell.execute_reply": "2021-08-25T11:04:23.431761Z",
     "shell.execute_reply.started": "2021-08-25T11:04:23.417183Z"
    },
    "papermill": {
     "duration": 0.040034,
     "end_time": "2020-10-26T12:46:42.650603",
     "exception": false,
     "start_time": "2020-10-26T12:46:42.610569",
     "status": "completed"
    },
    "scrolled": false,
    "tags": []
   },
   "outputs": [
    {
     "name": "stdout",
     "output_type": "stream",
     "text": [
      "Python       : 3.8.8 (default, Apr 13 2021, 15:08:03) [MSC v.1916 64 bit (AMD64)]\n",
      "Numpy        : 1.19.1\n"
     ]
    }
   ],
   "source": [
    "print('Python       :', sys.version.split('\\n')[0])\n",
    "print('Numpy        :', np.__version__)"
   ]
  },
  {
   "cell_type": "code",
   "execution_count": 5,
   "metadata": {
    "_kg_hide-input": true,
    "execution": {
     "iopub.execute_input": "2021-08-25T11:04:23.436128Z",
     "iopub.status.busy": "2021-08-25T11:04:23.435535Z",
     "iopub.status.idle": "2021-08-25T11:04:25.598024Z",
     "shell.execute_reply": "2021-08-25T11:04:25.595679Z",
     "shell.execute_reply.started": "2021-08-25T11:04:23.436089Z"
    },
    "papermill": {
     "duration": 5.172536,
     "end_time": "2020-10-26T12:46:47.852593",
     "exception": false,
     "start_time": "2020-10-26T12:46:42.680057",
     "status": "completed"
    },
    "scrolled": false,
    "tags": []
   },
   "outputs": [],
   "source": [
    "# зафиксируем версию пакетов, чтобы эксперименты были воспроизводимы:\n",
    "!pip freeze > requirements.txt"
   ]
  },
  {
   "cell_type": "code",
   "execution_count": 6,
   "metadata": {
    "execution": {
     "iopub.execute_input": "2021-08-25T11:04:25.60077Z",
     "iopub.status.busy": "2021-08-25T11:04:25.600253Z",
     "iopub.status.idle": "2021-08-25T11:04:25.605541Z",
     "shell.execute_reply": "2021-08-25T11:04:25.604709Z",
     "shell.execute_reply.started": "2021-08-25T11:04:25.60071Z"
    },
    "papermill": {
     "duration": 0.039842,
     "end_time": "2020-10-26T12:46:47.922434",
     "exception": false,
     "start_time": "2020-10-26T12:46:47.882592",
     "status": "completed"
    },
    "scrolled": false,
    "tags": []
   },
   "outputs": [],
   "source": [
    "# всегда фиксируйте RANDOM_SEED, чтобы ваши эксперименты были воспроизводимы\n",
    "RANDOM_SEED = 42"
   ]
  },
  {
   "cell_type": "markdown",
   "metadata": {},
   "source": [
    "## Functions\n",
    "\n",
    "В данном блоке собраны пользовательские функции."
   ]
  },
  {
   "cell_type": "code",
   "execution_count": null,
   "metadata": {
    "_kg_hide-input": true,
    "execution": {
     "iopub.execute_input": "2021-08-25T11:04:25.607405Z",
     "iopub.status.busy": "2021-08-25T11:04:25.606972Z",
     "iopub.status.idle": "2021-08-25T11:04:25.62468Z",
     "shell.execute_reply": "2021-08-25T11:04:25.622999Z",
     "shell.execute_reply.started": "2021-08-25T11:04:25.607362Z"
    },
    "scrolled": false
   },
   "outputs": [],
   "source": [
    "def mape(y_true, y_pred):\n",
    "    \"\"\"\n",
    "    Функция возвращает метрику MAPE.\n",
    "    На вход получает массив реальных и предсказанных значений y.\n",
    "    \"\"\"\n",
    "    return np.mean(np.abs((y_pred-y_true)/y_true))"
   ]
  },
  {
   "cell_type": "code",
   "execution_count": null,
   "metadata": {
    "scrolled": false
   },
   "outputs": [],
   "source": [
    "def months_to_sent(months):\n",
    "    \"\"\"\n",
    "    Функция, которая принимает на вход количество месяцев, а возвращает строку в формате \"x  месяц(-а -ев)\"\n",
    "    \"\"\"\n",
    "    if months == 1:\n",
    "        return f'{months} месяц'\n",
    "    elif 2 <= months <= 4:\n",
    "        return f'{months} месяца'\n",
    "    return f'{months} месяцев'\n",
    "\n",
    "\n",
    "def years_to_sent(years):\n",
    "    if 11 <= years <= 14 or 5 <= years % 10 <= 9 or years % 10 == 0:\n",
    "        return f'{years} лет'\n",
    "    elif years % 10 == 1:\n",
    "        return f'{years} год'\n",
    "    elif 2 <= years % 10 <= 4:\n",
    "        return f'{years} годa'\n",
    "\n",
    "\n",
    "def tenure(row):\n",
    "    \"\"\"\n",
    "    Функция, которая приводит содержимое ячейки \"Владение\"  train к тому же виду, как в test.\n",
    "    Вход: строка series (строка колонки).\n",
    "    Выход: возвращает вместо словаря информацию в виде \"x лет y месяцев\"\n",
    "    \"\"\"\n",
    "    row = re.findall('\\d+', str(row))  # находим все целые числа в строке\n",
    "    if row != []:\n",
    "        years = 2020 - (int(row[0])+1)  # 2020, т.к. данные собраны в 2020 году\n",
    "        months = 2 + (12 - int(row[1]))\n",
    "        if years < 0:\n",
    "            return months_to_sent(int(row[1]))\n",
    "        elif years == 0 and months < 12:\n",
    "            return months_to_sent(months)\n",
    "        elif years >= 0 and months == 12:\n",
    "            return years_to_sent(years + 1)\n",
    "        elif years >= 0 and months > 12:\n",
    "            return years_to_sent(years + 1)+' и '+months_to_sent(months - 12)\n",
    "        elif years > 0 and months < 12:\n",
    "            return years_to_sent(years)+' и '+months_to_sent(months)\n",
    "        return None"
   ]
  },
  {
   "cell_type": "code",
   "execution_count": null,
   "metadata": {
    "scrolled": true
   },
   "outputs": [],
   "source": [
    "def num_of_km(row):\n",
    "    \"\"\"\n",
    "    Функция перевеодит формат данных \"y yyy км\" в количество месяцев.\n",
    "    Вход: строка series.\n",
    "    Выход: количество км.\n",
    "    \"\"\"\n",
    "    if pd.notnull(row):\n",
    "        # разделяем строку на список из чисел и значения км\n",
    "        list_km = row.split(' ')\n",
    "        # print(list_km)\n",
    "        if len(list_km) == 2:  # если содержится информация в км до 999\n",
    "            if list_km[1] in ['км']:\n",
    "                return int(list_km[0])\n",
    "        return int(list_km[0]+list_km[1])  # км более 1000"
   ]
  },
  {
   "cell_type": "code",
   "execution_count": null,
   "metadata": {},
   "outputs": [],
   "source": [
    "def convert_engineDisplacement_to_float(row):\n",
    "    row = str(row)\n",
    "    volume = re.findall('\\d\\.\\d', row)\n",
    "    if volume == []:\n",
    "        return None\n",
    "    return float(volume[0])"
   ]
  },
  {
   "cell_type": "code",
   "execution_count": null,
   "metadata": {
    "scrolled": false
   },
   "outputs": [],
   "source": [
    "def intitial_eda_checks(df, missing_percent):\n",
    "    '''\n",
    "    Функция принимает на вход датафрейм, а также заданный порог % пустых значений, который хотим обработать. \n",
    "    На выход выводит на экран информацию о сумме пустых значений для всех колонок, а также проце\n",
    "    '''\n",
    "    if df.isnull().sum().sum() > 0:\n",
    "        mask_total = df.isnull().sum().sort_values(ascending=False)\n",
    "        total = mask_total[mask_total > 0]\n",
    "\n",
    "        mask_percent = df.isnull().mean().sort_values(ascending=False)\n",
    "        percent = mask_percent[mask_percent > 0]\n",
    "\n",
    "        series = mask_percent[mask_percent > missing_percent]\n",
    "        columns = series.index.to_list()\n",
    "\n",
    "        missing_data = pd.DataFrame(pd.concat(\n",
    "            [total, round(percent*100, 2)], axis=1, keys=['Количество', '%']))\n",
    "        print('Сумма и процент значений NaN:\\n \\n')\n",
    "        display(missing_data)\n",
    "    else:\n",
    "        print('NaN значения не найдены.')"
   ]
  },
  {
   "cell_type": "code",
   "execution_count": null,
   "metadata": {
    "scrolled": false
   },
   "outputs": [],
   "source": [
    "def num_of_months(row):\n",
    "    \"\"\"\n",
    "    Функция перевеодит формат данных \"x лет y месяца(ев)\" в количество месяцев.\n",
    "    Вход: строка series.\n",
    "    Выход: количество месяцев\n",
    "    \"\"\"\n",
    "    if pd.notnull(row) and row != 'no_data':\n",
    "        list_ownership = row.split()  # разделяем строку на список из месяца и лет\n",
    "        if len(list_ownership) == 2:  # если содержится информация только про годы\n",
    "            if list_ownership[1] in ['год', 'года', 'лет']:\n",
    "                return int(list_ownership[0])*12\n",
    "            return int(list_ownership[0])  # переводим год в месяцы\n",
    "        # случай, когда содержится инфо только про месяц\n",
    "        # прибавляем к годам*12 количетсво месяцев\n",
    "        return int(list_ownership[0])*12 + int(list_ownership[3])"
   ]
  },
  {
   "cell_type": "code",
   "execution_count": null,
   "metadata": {
    "scrolled": false
   },
   "outputs": [],
   "source": [
    "def get_boxplot(column):\n",
    "    \"\"\"\n",
    "    Функция для отрисовки коробочной диаграммы для нечисловых признаков.\n",
    "    На вход получаем список колонок для отрисовки. \n",
    "    Отрисовываем относительно целевой переменной pricing, ограниченной по квантилю.\n",
    "    \"\"\"\n",
    "    fig, ax = plt.subplots(figsize=(25, 5))\n",
    "    plt.subplots_adjust(wspace=0.5)\n",
    "    sns.boxplot(x=column, y='price',\n",
    "                data=data[data['train'] == 1],\n",
    "                ax=ax)\n",
    "    plt.xticks(rotation=45)\n",
    "    # поскольку в price много выбросов, огриничимся 75% квантилем\n",
    "    ax.set_ylim(0, (data.price.quantile(0.75) + 8 *\n",
    "                    (data.price.quantile(0.75) - data.price.quantile(0.25))))\n",
    "    ax.set_title('Boxplot для ' + column)\n",
    "    plt.show()"
   ]
  },
  {
   "cell_type": "code",
   "execution_count": null,
   "metadata": {},
   "outputs": [],
   "source": [
    "def analyze_cat_cols(col):\n",
    "    fig, axes = plt.subplots(figsize=(25, 5))\n",
    "\n",
    "    # Посчитаем среднее значение количества объявлений по всем брендам\n",
    "    mean = data[col].value_counts().values.mean()\n",
    "    x = data[col].unique()\n",
    "\n",
    "    sns.histplot(data=data, x=data[col],\n",
    "                 stat='count', bins=data[col].nunique())\n",
    "    axes.plot(x, [mean for i in x], '--', color='r')\n",
    "\n",
    "    # sns.distplot(data['brand'])\n",
    "    plt.xticks(rotation=45)\n",
    "    plt.title('Распределение количества объясвлений по '+col)\n",
    "    plt.show()\n",
    "\n",
    "    get_boxplot(col)"
   ]
  },
  {
   "cell_type": "code",
   "execution_count": null,
   "metadata": {
    "scrolled": false
   },
   "outputs": [],
   "source": [
    "def km_per_year(row):\n",
    "    \"\"\"\n",
    "    Функция делает пересчет км пробега автомобиля в года после года производства автомобиля.\n",
    "    Вход: строка датафрейма.\n",
    "    Выход: информация о км/год.\n",
    "    \"\"\"\n",
    "    if row['mileage'] != 0:\n",
    "        # обрабатываем случаи, когда мошина произведена в год сбора данных, чтоб не делить на 0\n",
    "        if row['parsing_date'].year - row['productionDate'] == 0:\n",
    "            return row['mileage']\n",
    "        else:\n",
    "            return row['mileage']/(row['parsing_date'].year - row['productionDate'])\n",
    "    return 0  # возвращаем 0, если машина без пробега (новая"
   ]
  },
  {
   "cell_type": "code",
   "execution_count": null,
   "metadata": {
    "scrolled": true
   },
   "outputs": [],
   "source": [
    "def prod_date_range(row, year_lim):\n",
    "    \"\"\"\n",
    "    Создает столбец с информацией, старше ли авто, чем year_lim.\n",
    "    Вход: строка, установленный лимит.\n",
    "    Выход: 1 - если авто старше, 0 - если нет.\n",
    "    \"\"\"\n",
    "    if (row['parsing_date'].year-row['productionDate']) >= year_lim:\n",
    "        return 1\n",
    "    return 0"
   ]
  },
  {
   "cell_type": "code",
   "execution_count": null,
   "metadata": {
    "scrolled": false
   },
   "outputs": [],
   "source": [
    "def iqr_analysis(series, mode=False):\n",
    "    \"\"\"\n",
    "    Функция выводит инфорамцию о границах выборосов для признака.\n",
    "    Если mode = True, возвращается верхняя и нижняя границы выбросов. Иначе, просто выводится информация на экран.\n",
    "    \"\"\"\n",
    "    IQR = series.quantile(0.75) - series.quantile(0.25)\n",
    "    perc25 = series.quantile(0.25)\n",
    "    perc75 = series.quantile(0.75)\n",
    "\n",
    "    f = perc25 - 1.5*IQR\n",
    "    l = perc75 + 1.5*IQR\n",
    "\n",
    "    if mode:\n",
    "        return f, l\n",
    "\n",
    "    print(\n",
    "        \"\\n25-й перцентиль: {},\".format(perc25),\n",
    "        \"\\n75-й перцентиль: {},\".format(perc75),\n",
    "        \"\\nIQR: {}, \".format(IQR),\n",
    "        \"\\nГраницы выбросов: [{f}, {l}].\".format(\n",
    "            f=perc25 - 1.5*IQR, l=perc75 + 1.5*IQR),\n",
    "        \"\\n\\nМинимальное значение признака: {}.\".format(series.min()),\n",
    "        \"\\nМаксимальное значение признака: {} .\\n\".format(series.max()))\n",
    "\n",
    "    if series.min() < f:\n",
    "        print(\"Найдены выбросы по нижней границе признака! Количество: {}, {}%\".format(series.where(\n",
    "            series < f).count(), round(series.where(series < f).count()/series.count()*100, 2)))\n",
    "    if series.max() > l:\n",
    "        print(\"Найдены выбросы по верхней границе признака! Количество: {}, {}%\".format(series.where(\n",
    "            series > l).count(), round(series.where(series > l).count()/series.count()*100, 2)))"
   ]
  },
  {
   "cell_type": "code",
   "execution_count": null,
   "metadata": {},
   "outputs": [],
   "source": [
    "def get_stat_dif(column):\n",
    "    \"\"\" \n",
    "    Поиск статистически значимых различий для колонки с помощью теста Стьюдента.\n",
    "    \"\"\"\n",
    "    cols = data.loc[:, column].value_counts().index[:]\n",
    "    combinations_all = list(combinations(cols, 2))\n",
    "\n",
    "    tmp = data[data['train'] == 1]\n",
    "\n",
    "    for comb in combinations_all:\n",
    "        if ttest_ind(tmp.loc[data[data['train'] == 1].loc[:, column] == comb[0], 'price'],\n",
    "                     tmp.loc[data[data['train'] == 1].loc[:, column] == comb[1], 'price']).pvalue <= 0.05/len(combinations_all):  # учли поправку Бонферони\n",
    "            # print('Найдены статистически значимые различия для колонки и комбинаций', column, comb)\n",
    "            pass\n",
    "        else:\n",
    "            print(\n",
    "                'Не найдены статистически значимые различия для колонки и комбинации', column, comb)\n",
    "            return column\n",
    "            break"
   ]
  },
  {
   "cell_type": "code",
   "execution_count": null,
   "metadata": {},
   "outputs": [],
   "source": []
  },
  {
   "cell_type": "markdown",
   "metadata": {
    "papermill": {
     "duration": 0.028837,
     "end_time": "2020-10-26T12:46:47.981435",
     "exception": false,
     "start_time": "2020-10-26T12:46:47.952598",
     "status": "completed"
    },
    "tags": []
   },
   "source": [
    "## Setup"
   ]
  },
  {
   "cell_type": "code",
   "execution_count": null,
   "metadata": {
    "execution": {
     "iopub.execute_input": "2021-08-25T11:04:25.629321Z",
     "iopub.status.busy": "2021-08-25T11:04:25.628695Z",
     "iopub.status.idle": "2021-08-25T11:04:25.644386Z",
     "shell.execute_reply": "2021-08-25T11:04:25.641774Z",
     "shell.execute_reply.started": "2021-08-25T11:04:25.629265Z"
    },
    "papermill": {
     "duration": 0.039969,
     "end_time": "2020-10-26T12:46:48.052728",
     "exception": false,
     "start_time": "2020-10-26T12:46:48.012759",
     "status": "completed"
    },
    "scrolled": false,
    "tags": []
   },
   "outputs": [],
   "source": [
    "VERSION = 16\n",
    "# подключил к ноутбуку внешний датасет\n",
    "DIR_TRAIN = '../input/parsing-all-moscow-auto-ru-09-09-2020/'\n",
    "DIR_TEST = '../input/sf-dst-car-price-prediction/'\n",
    "VAL_SIZE = 0.20   # 20%"
   ]
  },
  {
   "cell_type": "markdown",
   "metadata": {
    "papermill": {
     "duration": 0.030254,
     "end_time": "2020-10-26T12:46:48.112586",
     "exception": false,
     "start_time": "2020-10-26T12:46:48.082332",
     "status": "completed"
    },
    "tags": []
   },
   "source": [
    "<a id=\"2\"></a>\n",
    "# 2. DATA & PRELIMINARY ANALYSIS"
   ]
  },
  {
   "cell_type": "markdown",
   "metadata": {},
   "source": [
    "## Data Storage"
   ]
  },
  {
   "cell_type": "code",
   "execution_count": null,
   "metadata": {
    "execution": {
     "iopub.execute_input": "2021-08-25T11:04:25.647644Z",
     "iopub.status.busy": "2021-08-25T11:04:25.647068Z",
     "iopub.status.idle": "2021-08-25T11:04:26.416522Z",
     "shell.execute_reply": "2021-08-25T11:04:26.415025Z",
     "shell.execute_reply.started": "2021-08-25T11:04:25.647589Z"
    },
    "papermill": {
     "duration": 0.783211,
     "end_time": "2020-10-26T12:46:48.925418",
     "exception": false,
     "start_time": "2020-10-26T12:46:48.142207",
     "status": "completed"
    },
    "scrolled": false,
    "tags": []
   },
   "outputs": [],
   "source": [
    "!ls '../input'"
   ]
  },
  {
   "cell_type": "code",
   "execution_count": null,
   "metadata": {
    "_cell_guid": "79c7e3d0-c299-4dcb-8224-4455121ee9b0",
    "_uuid": "d629ff2d2480ee46fbb7e2d37f6b5fab8052498a",
    "execution": {
     "iopub.execute_input": "2021-08-25T11:04:26.419412Z",
     "iopub.status.busy": "2021-08-25T11:04:26.418986Z",
     "iopub.status.idle": "2021-08-25T11:04:32.223441Z",
     "shell.execute_reply": "2021-08-25T11:04:32.222029Z",
     "shell.execute_reply.started": "2021-08-25T11:04:26.419369Z"
    },
    "papermill": {
     "duration": 13.16556,
     "end_time": "2020-10-26T12:47:02.12133",
     "exception": false,
     "start_time": "2020-10-26T12:46:48.95577",
     "status": "completed"
    },
    "scrolled": false,
    "tags": []
   },
   "outputs": [],
   "source": [
    "# Подключение с Kaggle\n",
    "\"\"\" train = pd.read_csv(DIR_TRAIN+'all_auto_ru_09_09_2020.csv') # датасет для обучения модели\n",
    "test = pd.read_csv(DIR_TEST+'test.csv')\n",
    "sample_submission = pd.read_csv(DIR_TEST+'sample_submission.csv')\"\"\""
   ]
  },
  {
   "cell_type": "code",
   "execution_count": null,
   "metadata": {
    "scrolled": false
   },
   "outputs": [],
   "source": [
    "# Подключение при работе в Jupyter/Github\n",
    "# подключение тестового train датасета\n",
    "train = pd.read_csv('all_auto_ru_09_09_2020.csv')\n",
    "test = pd.read_csv('test.csv')\n",
    "sample_submission = pd.read_csv('sample_submission.csv')"
   ]
  },
  {
   "cell_type": "code",
   "execution_count": null,
   "metadata": {
    "scrolled": true
   },
   "outputs": [],
   "source": [
    "train.head()"
   ]
  },
  {
   "cell_type": "code",
   "execution_count": null,
   "metadata": {
    "scrolled": false
   },
   "outputs": [],
   "source": [
    "test.head()"
   ]
  },
  {
   "cell_type": "code",
   "execution_count": null,
   "metadata": {
    "execution": {
     "iopub.execute_input": "2021-08-25T11:04:32.275268Z",
     "iopub.status.busy": "2021-08-25T11:04:32.274922Z",
     "iopub.status.idle": "2021-08-25T11:04:32.461351Z",
     "shell.execute_reply": "2021-08-25T11:04:32.459854Z",
     "shell.execute_reply.started": "2021-08-25T11:04:32.275216Z"
    },
    "papermill": {
     "duration": 0.22352,
     "end_time": "2020-10-26T12:47:02.502166",
     "exception": false,
     "start_time": "2020-10-26T12:47:02.278646",
     "status": "completed"
    },
    "scrolled": true,
    "tags": []
   },
   "outputs": [],
   "source": [
    "train.info()"
   ]
  },
  {
   "cell_type": "code",
   "execution_count": null,
   "metadata": {
    "execution": {
     "iopub.execute_input": "2021-08-25T11:04:32.498456Z",
     "iopub.status.busy": "2021-08-25T11:04:32.49808Z",
     "iopub.status.idle": "2021-08-25T11:04:32.618252Z",
     "shell.execute_reply": "2021-08-25T11:04:32.617117Z",
     "shell.execute_reply.started": "2021-08-25T11:04:32.498408Z"
    },
    "papermill": {
     "duration": 0.160401,
     "end_time": "2020-10-26T12:47:02.798587",
     "exception": false,
     "start_time": "2020-10-26T12:47:02.638186",
     "status": "completed"
    },
    "scrolled": true,
    "tags": []
   },
   "outputs": [],
   "source": [
    "test.info()"
   ]
  },
  {
   "cell_type": "markdown",
   "metadata": {},
   "source": [
    "## Web Data Extracting (auto.ru)"
   ]
  },
  {
   "cell_type": "markdown",
   "metadata": {},
   "source": [
    "Посмотрим на список колонок, которые есть в test, но нет в подключенном train."
   ]
  },
  {
   "cell_type": "code",
   "execution_count": null,
   "metadata": {
    "execution": {
     "iopub.execute_input": "2021-08-25T11:04:32.620167Z",
     "iopub.status.busy": "2021-08-25T11:04:32.619832Z",
     "iopub.status.idle": "2021-08-25T11:04:32.65548Z",
     "shell.execute_reply": "2021-08-25T11:04:32.654553Z",
     "shell.execute_reply.started": "2021-08-25T11:04:32.620131Z"
    },
    "scrolled": false
   },
   "outputs": [],
   "source": [
    "# Список колонок, которых нет в train\n",
    "dif_list = list(set(test.columns).difference(train.columns))\n",
    "print(\"Список колонок, которых нет в train, но есть в test:\", dif_list)\n",
    "\n",
    "# Посмотрим на данные в этих колонках\n",
    "test[dif_list].sample(3)"
   ]
  },
  {
   "cell_type": "code",
   "execution_count": null,
   "metadata": {
    "execution": {
     "iopub.execute_input": "2021-08-25T11:04:32.657295Z",
     "iopub.status.busy": "2021-08-25T11:04:32.656787Z",
     "iopub.status.idle": "2021-08-25T11:04:32.796494Z",
     "shell.execute_reply": "2021-08-25T11:04:32.794988Z",
     "shell.execute_reply.started": "2021-08-25T11:04:32.65725Z"
    },
    "scrolled": false
   },
   "outputs": [],
   "source": [
    "# Посмотрим на колическтво уникальных значений\n",
    "for item in dif_list:\n",
    "    print(item, test[item].nunique())"
   ]
  },
  {
   "cell_type": "markdown",
   "metadata": {},
   "source": [
    "Выводы:\n",
    "1. Из информации car_url видим, что данные собирались с сайта auto.ru, будем парсить данные оттуда\n",
    "2. Следующие поля из test можно не парсить и удалить далее при анализе, т.к. они уникальны для каждой записи: car_url и priceCurrency, т.к. всего одно значение (RUB). Car_url оставим, чтоб можно было посмотреть информацию о машине.\n",
    "3. Ограничимся для начала двумя вендорами: EUROPEAN, JAPANESE\n",
    "4. Цену автомобиля собираем в RUB\n",
    "5. Собираем информацию по полям: 'bodyType', 'brand', 'car_url', 'color', 'complectation_dict', 'description', 'engineDisplacement', 'enginePower', 'equipment_dict','fuelType', 'image', 'mileage', 'modelDate', 'model_info', 'model_name','name', 'numberOfDoors', 'parsing_unixtime', 'priceCurrency','productionDate', 'sell_id', 'super_gen', 'vehicleConfiguration','vehicleTransmission', 'vendor', 'Владельцы', 'Владение', 'ПТС','Привод', 'Руль', 'Состояние', 'Таможня', 'sample', 'price'"
   ]
  },
  {
   "cell_type": "markdown",
   "metadata": {
    "collapsed": true,
    "scrolled": true
   },
   "source": [
    "Код парсинга новых данных доступе в отдельном ноутбуке.\n",
    "\n",
    "27.08.2021 нами получен список со ссылками на 137559 объявлений по выбранным маркам автомобилей по всем регионам, 29.08.2021 этот список был обновлен, в результате чего было получено дополнительно еще 133 объявления. В итоге парсинга нами были получены данные для обучающего датасета в размере `137685` записей."
   ]
  },
  {
   "cell_type": "code",
   "execution_count": null,
   "metadata": {
    "scrolled": false
   },
   "outputs": [],
   "source": [
    "# Добавим датафрейм с новыми данными\n",
    "train_new = pd.read_csv('all_car_27_08_2021_data_12_brands.csv', sep=\",\")"
   ]
  },
  {
   "cell_type": "code",
   "execution_count": null,
   "metadata": {
    "scrolled": false
   },
   "outputs": [],
   "source": [
    "train_new.info()"
   ]
  },
  {
   "cell_type": "code",
   "execution_count": null,
   "metadata": {
    "scrolled": false
   },
   "outputs": [],
   "source": [
    "train_new.head()"
   ]
  },
  {
   "cell_type": "code",
   "execution_count": null,
   "metadata": {
    "scrolled": true
   },
   "outputs": [],
   "source": [
    "# Сразу удалим колонку с дубликатом урал\n",
    "train_new.drop('Unnamed: 0', axis=1, inplace=True)"
   ]
  },
  {
   "cell_type": "markdown",
   "metadata": {
    "papermill": {
     "duration": 0.033402,
     "end_time": "2020-10-26T12:47:02.866506",
     "exception": false,
     "start_time": "2020-10-26T12:47:02.833104",
     "status": "completed"
    },
    "tags": []
   },
   "source": [
    "# 3. EDA & Basic Data Cleaning\n",
    "\n",
    "Проведем анализ данных, сделаем базовый препроцессинг данных.\n",
    "\n",
    "### 3.1 Переименуем колонки с кириллицы на латиницу"
   ]
  },
  {
   "cell_type": "code",
   "execution_count": null,
   "metadata": {
    "execution": {
     "iopub.execute_input": "2021-08-25T11:04:32.798976Z",
     "iopub.status.busy": "2021-08-25T11:04:32.798607Z",
     "iopub.status.idle": "2021-08-25T11:04:32.847146Z",
     "shell.execute_reply": "2021-08-25T11:04:32.84561Z",
     "shell.execute_reply.started": "2021-08-25T11:04:32.798941Z"
    },
    "scrolled": false
   },
   "outputs": [],
   "source": [
    "# Переименуем test  колонки\n",
    "test.rename(columns={\"Привод\": \"drivetrain\",\n",
    "                     \"Руль\": \"driveSide\",\n",
    "                     \"Состояние\": \"condition\",\n",
    "                     \"Владельцы\": \"ownersCount\",\n",
    "                     \"ПТС\": \"tcp\",\n",
    "                     \"Таможня\": \"customs\",\n",
    "                     \"Владение\": \"ownershipTime\",\n",
    "                     \"model_name\": \"model\"}, inplace=True)\n",
    "\n",
    "# Переименуем train  колонки\n",
    "train.rename(columns={\"Привод\": \"drivetrain\",\n",
    "                      \"Руль\": \"driveSide\",\n",
    "                      \"Состояние\": \"condition\",\n",
    "                      \"Владельцы\": \"ownersCount\",\n",
    "                      \"ПТС\": \"tcp\",\n",
    "                      \"Таможня\": \"customs\",\n",
    "                      \"Владение\": \"ownershipTime\"}, inplace=True)\n",
    "\n",
    "# Переименуем train_new  колонки\n",
    "train_new.rename(columns={\"Привод\": \"drivetrain\",\n",
    "                          \"Руль\": \"driveSide\",\n",
    "                          \"Состояние\": \"condition\",\n",
    "                          \"Владельцы\": \"ownersCount\",\n",
    "                          \"ПТС\": \"tcp\",\n",
    "                          \"Таможня\": \"customs\",\n",
    "                          \"Владение\": \"ownershipTime\",\n",
    "                          \"model_name\": \"model\"}, inplace=True)"
   ]
  },
  {
   "cell_type": "markdown",
   "metadata": {},
   "source": [
    "### 3.2 Предварительный анализ test данных\n",
    "\n",
    "Посмотрим на данные в test, которые нужно предсказывать, на особенности данных."
   ]
  },
  {
   "cell_type": "code",
   "execution_count": null,
   "metadata": {
    "scrolled": false
   },
   "outputs": [],
   "source": [
    "#ProfileReport(test, title=\"Pandas Profiling Report for Test Dataset\")"
   ]
  },
  {
   "cell_type": "markdown",
   "metadata": {},
   "source": [
    "Выводы: во время последующего сбора данных и анализа обратить внимание на:\n",
    "1. Есть пропуски в test данных - нужно попробовать заполнить\n",
    "2. Представлено всего 12 брендов автомобилей\n",
    "3. Признаки, которые выглядят бесполезными для моделирования - car_url (уникальный для каждой записи), priceCurrencly (одинаковый у всех)\n",
    "4. Необходимо разобраться с признаками complectation_dict, description, equipment_dict, model_info, super_gen - посмотреть, можно ли извлечь доп. признаки\n",
    "5. Condition - у всех \"хорошее состояние\", обратить внимание, если в train будут записи и другим состоянием, может влиять на выбросы по цене.\n",
    "6. Customs - у всех \"растоможетн\", обратить внимание, если в train будут записи и другим состоянием, может влиять на выбросы по цене."
   ]
  },
  {
   "cell_type": "markdown",
   "metadata": {},
   "source": [
    "### 3.3 Сравним типы данных в test и train\n",
    "\n",
    "Найдем расхождения в типах данных для train и test, устраним их до анализа данных."
   ]
  },
  {
   "cell_type": "code",
   "execution_count": null,
   "metadata": {
    "scrolled": false
   },
   "outputs": [],
   "source": [
    "# Создадим список с колонками, которые присутствуют и в train, и в test\n",
    "cols_intersection = list(set(test.columns).intersection(train.columns))"
   ]
  },
  {
   "cell_type": "code",
   "execution_count": null,
   "metadata": {
    "scrolled": false
   },
   "outputs": [],
   "source": [
    "# Проверим, в каких колонках типы данных различаются у train и test\n",
    "cols_type_dif = []  # создаем список с колонками, в которых типы данных отличаются\n",
    "print(\"Найдены расхождения в типах данных для:\")\n",
    "\n",
    "for col in cols_intersection:\n",
    "    if type(test[col][0]) != type(train[col][0]):\n",
    "        print(\n",
    "            f\"\\t- колонки {col}: для train - {type(train[col][0])}, для test - {type(test[col][0])}\")\n",
    "        cols_type_dif.append(col)"
   ]
  },
  {
   "cell_type": "code",
   "execution_count": null,
   "metadata": {
    "scrolled": true
   },
   "outputs": [],
   "source": [
    "# Создадим список с колонками, которые присутствуют и в train, и в test\n",
    "cols_intersection_2 = list(set(test.columns).intersection(train_new.columns))"
   ]
  },
  {
   "cell_type": "code",
   "execution_count": null,
   "metadata": {
    "scrolled": true
   },
   "outputs": [],
   "source": [
    "# Проверим, в каких колонках типы данных различаются у train и test\n",
    "cols_type_dif = []  # создаем список с колонками, в которых типы данных отличаются\n",
    "print(\"Найдены расхождения в типах данных для:\")\n",
    "\n",
    "for col in cols_intersection_2:\n",
    "    if type(test[col][0]) != type(train_new[col][0]):\n",
    "        print(\n",
    "            f\"\\t- колонки {col}: для train_new - {type(train_new[col][0])}, для test - {type(test[col][0])}\")\n",
    "        cols_type_dif.append(col)"
   ]
  },
  {
   "cell_type": "markdown",
   "metadata": {},
   "source": [
    "**ownersCount**\n",
    "\n",
    "Количество владельцев автомобиля (1 - один, 2 - два, 3 - 3 и более)."
   ]
  },
  {
   "cell_type": "code",
   "execution_count": null,
   "metadata": {
    "scrolled": false
   },
   "outputs": [],
   "source": [
    "print(\"Уникальные значения для train\", train.ownersCount.unique())\n",
    "print(\"Уникальные значения для train_new\", train_new.ownersCount.unique())\n",
    "print(\"Уникальные значения для test\", test.ownersCount.unique())"
   ]
  },
  {
   "cell_type": "markdown",
   "metadata": {},
   "source": [
    "Преобразуем значения test, train_new в числовые (float)."
   ]
  },
  {
   "cell_type": "code",
   "execution_count": null,
   "metadata": {
    "scrolled": false
   },
   "outputs": [],
   "source": [
    "# Создаем словать с кодировкой значений в числовые\n",
    "ownersCount_dict = {\"3 или более\": 3.,\n",
    "                    \"1\\xa0владелец\": 1., \"2\\xa0владельца\": 2.}\n",
    "test['ownersCount'].replace(\n",
    "    to_replace=ownersCount_dict, inplace=True)  # заменяем значения в соответствии со словарем"
   ]
  },
  {
   "cell_type": "code",
   "execution_count": null,
   "metadata": {
    "scrolled": true
   },
   "outputs": [],
   "source": [
    "ownersCount_dict = {\n",
    "    \"1 владелец\": 1., \"2 владельца\": 2., \"3 или более\": 3.}\n",
    "train_new['ownersCount'].replace(\n",
    "    to_replace=ownersCount_dict, inplace=True)  # заменяем значения в соответствии со словарем"
   ]
  },
  {
   "cell_type": "code",
   "execution_count": null,
   "metadata": {
    "scrolled": false
   },
   "outputs": [],
   "source": [
    "# Проверяем результаты преобразования\n",
    "print(\"Уникальные значения для test\", test.ownersCount.unique())\n",
    "print(\"Уникальные значения для train_new\", train_new.ownersCount.unique())"
   ]
  },
  {
   "cell_type": "markdown",
   "metadata": {},
   "source": [
    "**enginePower**\n",
    "\n",
    "Мощность л.с."
   ]
  },
  {
   "cell_type": "code",
   "execution_count": null,
   "metadata": {
    "scrolled": false
   },
   "outputs": [],
   "source": [
    "print(\"Пример значения для train\", train.enginePower.sample(1).values)\n",
    "print(\"Пример значения для train_new\", train_new.enginePower.sample(1).values)\n",
    "print(\"Пример значения для test\", test.enginePower.sample(1).values)"
   ]
  },
  {
   "cell_type": "markdown",
   "metadata": {},
   "source": [
    "Преобразуем значения test, train_new в числовые (float)."
   ]
  },
  {
   "cell_type": "code",
   "execution_count": null,
   "metadata": {
    "scrolled": false
   },
   "outputs": [],
   "source": [
    "# Преобразовываем значения столбца, избавляемся от постфика N12\n",
    "test['enginePower'] = test['enginePower'].apply(\n",
    "    lambda x: float(x.split(\" \")[0]))\n",
    "train_new['enginePower'] = train_new['enginePower'].apply(\n",
    "    lambda x: float(x.split(\" \")[0]))"
   ]
  },
  {
   "cell_type": "code",
   "execution_count": null,
   "metadata": {
    "scrolled": false
   },
   "outputs": [],
   "source": [
    "# Посмотрим на результат преобразования\n",
    "print(\"Пример значения для test\", test.enginePower.sample(1).values)\n",
    "print(\"Пример значения для train_new\", train_new.enginePower.sample(1).values)"
   ]
  },
  {
   "cell_type": "markdown",
   "metadata": {},
   "source": [
    "**numberOfDoors**\n",
    "\n",
    "Количество дверей."
   ]
  },
  {
   "cell_type": "code",
   "execution_count": null,
   "metadata": {
    "scrolled": false
   },
   "outputs": [],
   "source": [
    "print(\"Уникальные значения для train\", train.numberOfDoors.unique())\n",
    "print(\"Уникальные значения для train_new\", train_new.numberOfDoors.unique())\n",
    "print(\"Уникальные значения для test\", test.numberOfDoors.unique())"
   ]
  },
  {
   "cell_type": "markdown",
   "metadata": {},
   "source": [
    "Значения аналогичны, целые числа, приведем в train к int."
   ]
  },
  {
   "cell_type": "code",
   "execution_count": null,
   "metadata": {
    "scrolled": false
   },
   "outputs": [],
   "source": [
    "# Конвертируем в int\n",
    "train['numberOfDoors'] = train['numberOfDoors'].astype('Int64')"
   ]
  },
  {
   "cell_type": "markdown",
   "metadata": {},
   "source": [
    "**customs**\n",
    "\n",
    "Информация, растоможен ли автомобиль: 0 - не растоможен, 1 - растоможен."
   ]
  },
  {
   "cell_type": "code",
   "execution_count": null,
   "metadata": {
    "scrolled": false
   },
   "outputs": [],
   "source": [
    "print(\"Уникальные значения для train\", train.customs.unique())\n",
    "print(\"Уникальные значения для train_new\", train_new.customs.unique())\n",
    "print(\"Уникальные значения для test\", test.customs.unique())"
   ]
  },
  {
   "cell_type": "markdown",
   "metadata": {},
   "source": [
    "Поскольку далее для моделирования нам понадобится числовая переменная, то сразу переведем в числовую 0 - не растоможен, 1 - растоможен, как для train, так и для test."
   ]
  },
  {
   "cell_type": "code",
   "execution_count": null,
   "metadata": {
    "scrolled": false
   },
   "outputs": [],
   "source": [
    "# Делаем преобразование значений в int (0 или 1)\n",
    "train['customs'] = train['customs'].apply(lambda x: 1 if x == True else 0)\n",
    "test['customs'] = test['customs'].apply(\n",
    "    lambda x: 1 if x == \"Растаможен\" else 0)\n",
    "train_new['customs'] = train_new['customs'].apply(\n",
    "    lambda x: 1 if x == \"Растаможен\" else 0)"
   ]
  },
  {
   "cell_type": "markdown",
   "metadata": {},
   "source": [
    "**condition**\n",
    "\n",
    "Состояние автомобиля: 0 - не требует ремонта , 1 - требует ремонта."
   ]
  },
  {
   "cell_type": "code",
   "execution_count": null,
   "metadata": {
    "scrolled": false
   },
   "outputs": [],
   "source": [
    "print(\"Уникальные значения для train\", train.condition.unique())\n",
    "print(\"Уникальные значения для train_new\", train_new.condition.unique())\n",
    "print(\"Уникальные значения для test\", test.condition.unique())"
   ]
  },
  {
   "cell_type": "markdown",
   "metadata": {},
   "source": [
    "Поскольку далее для моделирования нам понадобится числовая переменная, то сразу переведем в числовую 0 - требует ремонта , 1 - не требует ремонта, как для train, так и для test."
   ]
  },
  {
   "cell_type": "code",
   "execution_count": null,
   "metadata": {
    "scrolled": false
   },
   "outputs": [],
   "source": [
    "# Делаем преобразование значений в int (0 или 1)\n",
    "train['condition'] = train['condition'].apply(lambda x: 0 if pd.isna(x) else 1)\n",
    "test['condition'] = test['condition'].apply(\n",
    "    lambda x: 0 if x == \"Не требует ремонта\" else 1)\n",
    "train_new['condition'] = train_new['condition'].apply(\n",
    "    lambda x: 0 if x == \"Не требует ремонта\" else 1)"
   ]
  },
  {
   "cell_type": "markdown",
   "metadata": {},
   "source": [
    "**modelDate**\n",
    "\n",
    "Год выпуска модели автомобиля."
   ]
  },
  {
   "cell_type": "code",
   "execution_count": null,
   "metadata": {
    "scrolled": false
   },
   "outputs": [],
   "source": [
    "print(\"Уникальные значения для train\", train.modelDate.unique())\n",
    "print(\"Уникальные значения для train_new\", train_new.modelDate.unique())\n",
    "print(\"Уникальные значения для test\", test.modelDate.unique())"
   ]
  },
  {
   "cell_type": "markdown",
   "metadata": {},
   "source": [
    "Годы - целые числа. Преобразуем train данные в int."
   ]
  },
  {
   "cell_type": "code",
   "execution_count": null,
   "metadata": {
    "scrolled": false
   },
   "outputs": [],
   "source": [
    "train['modelDate'] = train['modelDate'].astype('Int64')"
   ]
  },
  {
   "cell_type": "markdown",
   "metadata": {},
   "source": [
    "**ownershipTime**\n",
    "\n",
    "Вемя владения автомобилем. \n",
    "\n",
    "Несмотря на то, что тип данных совпадает, формат хранения информации в train и test отличается."
   ]
  },
  {
   "cell_type": "code",
   "execution_count": null,
   "metadata": {},
   "outputs": [],
   "source": [
    "# Применяем функцию по очистке данных и приведению их к такому же виду, как в test выборке.\n",
    "train['ownershipTime'] = train['ownershipTime'].apply(tenure)"
   ]
  },
  {
   "cell_type": "code",
   "execution_count": null,
   "metadata": {
    "scrolled": false
   },
   "outputs": [],
   "source": [
    "train['ownershipTime'] = train['ownershipTime'].fillna('no_data')"
   ]
  },
  {
   "cell_type": "markdown",
   "metadata": {},
   "source": [
    "**mileage**\n",
    "\n",
    "Пробег. Для данных в train_new указаны км и есть пробелы, нужно привести к числовому формату."
   ]
  },
  {
   "cell_type": "code",
   "execution_count": null,
   "metadata": {
    "scrolled": true
   },
   "outputs": [],
   "source": [
    "print(\"Пример значения для train\",\n",
    "      train[train['mileage'].isnull() == False]['mileage'].sample(1).values)\n",
    "print(\"Пример значения для train_new\",\n",
    "      train_new[train_new['mileage'].isnull() == False]['mileage'].sample(1).values)\n",
    "print(\"Пример значения для test\",\n",
    "      test[test['mileage'].isnull() == False]['mileage'].sample(1).values)"
   ]
  },
  {
   "cell_type": "code",
   "execution_count": null,
   "metadata": {
    "scrolled": true
   },
   "outputs": [],
   "source": [
    "train_new['mileage'] = train_new['mileage'].apply(num_of_km)"
   ]
  },
  {
   "cell_type": "markdown",
   "metadata": {},
   "source": [
    "**engineDisplacement**\n",
    "\n",
    "Объем двигателя в литрах, нужно привести к общему формату во всех датасетах."
   ]
  },
  {
   "cell_type": "code",
   "execution_count": null,
   "metadata": {},
   "outputs": [],
   "source": [
    "print(\"Пример значения для train\", train[train['engineDisplacement'].isnull(\n",
    ") == False]['engineDisplacement'].sample(1).values)\n",
    "print(\"Пример значения для train_new\", train_new[train_new['engineDisplacement'].isnull(\n",
    ") == False]['engineDisplacement'].sample(1).values)\n",
    "print(\"Пример значения для test\", test[test['engineDisplacement'].isnull(\n",
    ") == False]['engineDisplacement'].sample(1).values)"
   ]
  },
  {
   "cell_type": "markdown",
   "metadata": {},
   "source": [
    "_train['engineDisplacement']_\n",
    "\n",
    "Необходимо вытащить мощность из текущего поля, но извлечь из engineDisplacement не получится, зато вся информация есть в поле name, где после строкового названия перечислен объем в формате числа с точкой (.). "
   ]
  },
  {
   "cell_type": "code",
   "execution_count": null,
   "metadata": {},
   "outputs": [],
   "source": [
    "train['engineDisplacement'] = train['name'].apply(\n",
    "    convert_engineDisplacement_to_float)"
   ]
  },
  {
   "cell_type": "code",
   "execution_count": null,
   "metadata": {},
   "outputs": [],
   "source": [
    "# Сразу проверим пропуски\n",
    "len(train[train['engineDisplacement'].isna()])"
   ]
  },
  {
   "cell_type": "code",
   "execution_count": null,
   "metadata": {},
   "outputs": [],
   "source": [
    "train[train['engineDisplacement'].isna()].fuelType.unique()"
   ]
  },
  {
   "cell_type": "markdown",
   "metadata": {},
   "source": [
    "_train_new['engineDisplacement'], test['engineDisplacement']_\n",
    "\n",
    "Избавимся от LTR в наименовании объема двигателя и конвертируем во float."
   ]
  },
  {
   "cell_type": "code",
   "execution_count": null,
   "metadata": {},
   "outputs": [],
   "source": [
    "train_new['engineDisplacement'] = train_new['engineDisplacement'].apply(\n",
    "    convert_engineDisplacement_to_float)\n",
    "\n",
    "test[test['engineDisplacement'] == ' LTR']['engineDisplacement'].replace(\n",
    "    \" LTR\", \"0.0 LTR\", inplace=True)\n",
    "test['engineDisplacement'] = test['engineDisplacement'].apply(\n",
    "    convert_engineDisplacement_to_float)"
   ]
  },
  {
   "cell_type": "markdown",
   "metadata": {},
   "source": [
    "### 3.4 Совмещаем test, train, train_new для обработки и анализа"
   ]
  },
  {
   "cell_type": "markdown",
   "metadata": {},
   "source": [
    "До совмещения test и train посмотрим, какие признаки можем извлечь из test/train, помимо колонок, которые в явном виде пересекаются между датафреймами."
   ]
  },
  {
   "cell_type": "code",
   "execution_count": null,
   "metadata": {
    "scrolled": false
   },
   "outputs": [],
   "source": [
    "# Список колонок, которых нет в train, но есть в test\n",
    "dif_list_test = list(set(test.columns).difference(train.columns))\n",
    "print(\"Список колонок, которых нет в train, но есть в test:\", dif_list_test)\n",
    "\n",
    "# Посмотрим на данные в этих колонках\n",
    "print(\"\\nTEST DF:\")\n",
    "test[dif_list_test].sample(3)"
   ]
  },
  {
   "cell_type": "code",
   "execution_count": null,
   "metadata": {
    "scrolled": false
   },
   "outputs": [],
   "source": [
    "# Список колонок, которых нет в test, но есть в train\n",
    "dif_list_train = list(set(train.columns).difference(test.columns))\n",
    "print(\"Список колонок, которых нет в test, но есть в train:\", dif_list_train)\n",
    "\n",
    "# Посмотрим на данные в этих колонках\n",
    "print(\"\\nTRAIN DF:\")\n",
    "train[dif_list_train].sample(3)"
   ]
  },
  {
   "cell_type": "code",
   "execution_count": null,
   "metadata": {
    "scrolled": true
   },
   "outputs": [],
   "source": [
    "# Список колонок, которых нет в train_new, но есть в test\n",
    "dif_list_test_new = list(set(test.columns).difference(train_new.columns))\n",
    "print(\"Список колонок, которых нет в train_new, но есть в test:\", dif_list_test_new)\n",
    "\n",
    "# Посмотрим на данные в этих колонках\n",
    "print(\"\\nTEST DF:\")\n",
    "test[dif_list_test_new].sample(3)"
   ]
  },
  {
   "cell_type": "code",
   "execution_count": null,
   "metadata": {
    "scrolled": true
   },
   "outputs": [],
   "source": [
    "# Список колонок, которых нет в test, но есть в train\n",
    "dif_list_train_new = list(set(train_new.columns).difference(test.columns))\n",
    "print(\"Список колонок, которых нет в test, но есть в train_new:\", dif_list_train_new)\n",
    "\n",
    "# Посмотрим на данные в этих колонках\n",
    "print(\"\\nTRAIN DF:\")\n",
    "train_new[dif_list_train_new].sample(3)"
   ]
  },
  {
   "cell_type": "markdown",
   "metadata": {},
   "source": [
    "Идеи для обогощений датасетов, чтобы получить общие данные для работы:\n",
    "- [x] Train, Train_new: добавить колонку vendor, можно создать словарик соответсвия brand-vendor\n",
    "- [x] Train, Train_new: model_name важная информация, нужно получить колонку. В train такая колонка есть - называется model. Унифицировать имена, привести к model (переименовать в test). Переименование добавлено выше в код, где переименовывались колонки.\n",
    "- [x] All: поскольку все данные парсились в разное время, то добавим колонку parsing_date для всех датафреймов.\n",
    "\n",
    "Также дополнительно в TEST найдено:\n",
    "- В признаке super_gen можно дополнительно доставть 1) acceleration (скорость разгона) 2) clearance_min 3) fuel_rate (расход топлива)\n",
    "- В признаке equipment_dict лежит полезная информация про комплектацию автомобиля. Посмотреть, есть ли что-то похожее в Train."
   ]
  },
  {
   "cell_type": "markdown",
   "metadata": {},
   "source": [
    "**Добавляем vendor в train**"
   ]
  },
  {
   "cell_type": "code",
   "execution_count": null,
   "metadata": {
    "scrolled": false
   },
   "outputs": [],
   "source": [
    "# Создаем словарь из вендоров по брендам\n",
    "vendor_dict = test.groupby(['vendor'])['brand'].apply(\n",
    "    lambda grp: list(grp.value_counts().index)).to_dict()\n",
    "vendor_dict"
   ]
  },
  {
   "cell_type": "code",
   "execution_count": null,
   "metadata": {
    "scrolled": false
   },
   "outputs": [],
   "source": [
    "# Список брендов, которых нет в test, но есть в train\n",
    "dif_list_brands = list(\n",
    "    set(train.brand.unique()).difference(test.brand.unique()))\n",
    "print(\"Список колонок, которых нет в test, но есть в train:\", dif_list_brands)"
   ]
  },
  {
   "cell_type": "code",
   "execution_count": null,
   "metadata": {
    "scrolled": false
   },
   "outputs": [],
   "source": [
    "# Добавим в словарь vendor_dict недостающие бренды по существующим ключам\n",
    "eur_append = ['PORSCHE', 'LAND_ROVER', 'JAGUAR',\n",
    "              'MINI', 'RENAULT', 'OPEL', 'PEUGEOT', 'CITROEN']\n",
    "jap_append = ['SUBARU', 'MAZDA', 'SUZUKI']\n",
    "\n",
    "for brand in eur_append:\n",
    "    vendor_dict['EUROPEAN'].append(brand)\n",
    "for brand in jap_append:\n",
    "    vendor_dict['JAPANESE'].append(brand)"
   ]
  },
  {
   "cell_type": "code",
   "execution_count": null,
   "metadata": {
    "scrolled": false
   },
   "outputs": [],
   "source": [
    "# Добавляем новые ключи\n",
    "vendor_dict.update({'AMERICAN': ['CHEVROLET', 'CHRYSLER', 'CADILLAC', 'JEEP', 'FORD', 'DODGE'],\n",
    "                    'ASIAN': ['HYUNDAI', 'DAEWOO', 'KIA', 'CHERY', 'SSANG_YONG', 'GEELY', 'GREAT_WALL']})"
   ]
  },
  {
   "cell_type": "code",
   "execution_count": null,
   "metadata": {
    "scrolled": true
   },
   "outputs": [],
   "source": [
    "# Смотрим итоговый словарь\n",
    "print(vendor_dict)"
   ]
  },
  {
   "cell_type": "code",
   "execution_count": null,
   "metadata": {
    "scrolled": false
   },
   "outputs": [],
   "source": [
    "# Создадим новый словарь для мапинга\n",
    "new_map = {str(x): str(k) for k, v in vendor_dict.items() for x in v}"
   ]
  },
  {
   "cell_type": "code",
   "execution_count": null,
   "metadata": {
    "scrolled": false
   },
   "outputs": [],
   "source": [
    "# Создаем признак vendor в train\n",
    "train['vendor'] = train.brand.copy()\n",
    "train['vendor'] = train['vendor'].map(new_map)"
   ]
  },
  {
   "cell_type": "code",
   "execution_count": null,
   "metadata": {
    "scrolled": true
   },
   "outputs": [],
   "source": [
    "# Создаем признак vendor в train\n",
    "train_new['vendor'] = train_new.brand.copy()\n",
    "train_new['vendor'] = train_new['vendor'].map(new_map)"
   ]
  },
  {
   "cell_type": "markdown",
   "metadata": {},
   "source": [
    "**Добавляем parsing_date во все датасеты**\n",
    "\n",
    "- test: берем признак из parsing_unixtime\n",
    "- train: берем признак из имени файла (09.09.2020)\n",
    "- train_new: берем признак из parsing_unixtime"
   ]
  },
  {
   "cell_type": "code",
   "execution_count": null,
   "metadata": {
    "scrolled": true
   },
   "outputs": [],
   "source": [
    "# Добавляем фиксированную дату в train\n",
    "train['parsing_date'] = '2020-09-09'\n",
    "train['parsing_date'] = pd.to_datetime(train['parsing_date'])"
   ]
  },
  {
   "cell_type": "code",
   "execution_count": null,
   "metadata": {
    "scrolled": true
   },
   "outputs": [],
   "source": [
    "# Добавляем колонку из unixtime в test, train_new\n",
    "train_new['parsing_date'] = pd.to_datetime(\n",
    "    train_new.parsing_unixtime, unit='s')\n",
    "train_new['parsing_date'] = pd.to_datetime(\n",
    "    train_new['parsing_date']).dt.floor('d')\n",
    "\n",
    "test['parsing_date'] = pd.to_datetime(test['parsing_unixtime'], unit='s')\n",
    "test['parsing_date'] = pd.to_datetime(test['parsing_date']).dt.floor('d')"
   ]
  },
  {
   "cell_type": "code",
   "execution_count": null,
   "metadata": {},
   "outputs": [],
   "source": [
    "# Поскольку это служебный признак, то мы его сразу добавляем в список на удаление\n",
    "# Создадим список и добавим колонки, которые планируем удалить по результатам предварительного анализа\n",
    "cols_removal = ['parsing_date']"
   ]
  },
  {
   "cell_type": "markdown",
   "metadata": {},
   "source": [
    "После завершения подготовительного этапа склеиваем два датафрейма."
   ]
  },
  {
   "cell_type": "code",
   "execution_count": null,
   "metadata": {
    "execution": {
     "iopub.execute_input": "2021-08-25T11:04:32.849319Z",
     "iopub.status.busy": "2021-08-25T11:04:32.848959Z",
     "iopub.status.idle": "2021-08-25T11:04:33.002464Z",
     "shell.execute_reply": "2021-08-25T11:04:33.00091Z",
     "shell.execute_reply.started": "2021-08-25T11:04:32.849282Z"
    },
    "scrolled": false
   },
   "outputs": [],
   "source": [
    "# Для анализа склеиваем оба датафрейма по общим колонкам, добавляем признак sample\n",
    "train['train'] = 1  # помечаем где у нас трейн\n",
    "train_new['train'] = 1  # помечаем где у нас трейн\n",
    "test['train'] = 0  # помечаем где у нас тест\n",
    "# в тесте у нас нет значения цены, мы его должны предсказать, поэтому пока просто заполняем нулями\n",
    "test['price'] = 0\n",
    "train['sell_id'] = 0  # поле понадобавиться для сабмита, оставляем\n",
    "train_new['sell_id'] = 0  # поле понадобавиться для сабмита, оставляем\n",
    "\n",
    "data = pd.concat([train, test, train_new], axis=0,\n",
    "                 join=\"inner\", ignore_index=True)"
   ]
  },
  {
   "cell_type": "code",
   "execution_count": null,
   "metadata": {
    "execution": {
     "iopub.execute_input": "2021-08-25T11:04:33.004963Z",
     "iopub.status.busy": "2021-08-25T11:04:33.004602Z",
     "iopub.status.idle": "2021-08-25T11:04:33.348904Z",
     "shell.execute_reply": "2021-08-25T11:04:33.347942Z",
     "shell.execute_reply.started": "2021-08-25T11:04:33.004927Z"
    },
    "papermill": {
     "duration": 0.042812,
     "end_time": "2020-10-26T12:47:02.943868",
     "exception": false,
     "start_time": "2020-10-26T12:47:02.901056",
     "status": "completed"
    },
    "scrolled": false,
    "tags": []
   },
   "outputs": [],
   "source": [
    "# Посмотрим, что получилось\n",
    "data.info()"
   ]
  },
  {
   "cell_type": "code",
   "execution_count": null,
   "metadata": {
    "scrolled": false
   },
   "outputs": [],
   "source": [
    "# Преобразуем modelDate в int\n",
    "data['modelDate'] = data['modelDate'].astype('Int64')"
   ]
  },
  {
   "cell_type": "code",
   "execution_count": null,
   "metadata": {
    "execution": {
     "iopub.execute_input": "2021-08-25T11:04:33.35329Z",
     "iopub.status.busy": "2021-08-25T11:04:33.352944Z",
     "iopub.status.idle": "2021-08-25T11:04:33.388746Z",
     "shell.execute_reply": "2021-08-25T11:04:33.387255Z",
     "shell.execute_reply.started": "2021-08-25T11:04:33.353258Z"
    },
    "scrolled": false
   },
   "outputs": [],
   "source": [
    "data.sample(3)"
   ]
  },
  {
   "cell_type": "markdown",
   "metadata": {},
   "source": [
    "Проведем предварительный анализ данных."
   ]
  },
  {
   "cell_type": "code",
   "execution_count": null,
   "metadata": {
    "scrolled": false
   },
   "outputs": [],
   "source": [
    "# Запустим библиотеку для предварительного анализа данных\n",
    "#ProfileReport(data, title=\"Pandas Profiling Report for Merged Test and Train Datasets\")"
   ]
  },
  {
   "cell_type": "markdown",
   "metadata": {},
   "source": [
    "Выводы:\n",
    "1. Суммарно 261749 строки, 6.1% пропусков, 53.1 дубликатов. Данные достаточно \"чистые\", пригодны для работы.\n",
    "2. В датасете 27 признаков. Типы переменных: числовых - 7, категориальных - 18, неопределенный - 1.\n",
    "3. Идеи по очистке данных в колонках и вопросы для анализа данных:\n",
    "    - bodyType - убрать верхний и нижний регистр, сократить кол-во категорий, убрать информацию о количестве дверей, тк есть отдельный признак numberOfDoors.\n",
    "    - color\t- коды перевести в цвета\n",
    "    - fuelType - разобраться, что такое универсал\n",
    "    - vehicleTransmission - рус и англ варианты унифицировать\n",
    "    - numberOfDoors - разобраться с транспортом 0 дверей\n",
    "    - driveSide\t- рус и англ варианты унифицировать\n",
    "    - tcp - рус и англ варианты унифицировать\n",
    "    - description - кандидат на удаление, но можно извлечь новые признаки\n",
    "    - ownershipTime - кандидат на удаление, т.к. много пропусков\n",
    "    - price - есть пропуски, т.к. целевая переменная не заполняем, а удаляем строки.\n",
    " \n",
    "4. Признаки-кандидаты на удаление:\n",
    "    - vehicleConfiguration - дублирует информацию из колонок vehicleTransmission, engineDisplacement, bodyType. Удалить признак после обработки пропусков.\n",
    "    - name - дублирует информацию из колонок engineDisplacement, vehicleTransmission, enginePower, drivetrain. Удалить признак после обработки пропусков\n",
    "5. price - есть пропущенные значения, удалить строки из обучающей выборки.\n",
    "6. Корреляционный анализ:\n",
    "     - есть колинеарные признаки:\n",
    "         - (productionDate - modelDate, mileage - modelDate/productionDate, ownersCount - modelDate/productionDat). Логично, что дата модели и дата производства связаны, также чем старше машина, тем больше пробег и тем большее количетсво владельцев авто)\n",
    "         - conditions, customs - некорретные коэффициенты, нужно анализировать.\n",
    "7. Наибольшее количество пропусков в колонках ownershipCount, ownersCount. Можно попробовать предсказать количество, исходя из даты выпуска (т.к. признаки скоррелированы)."
   ]
  },
  {
   "cell_type": "markdown",
   "metadata": {},
   "source": [
    "Создадим список, в который будем добавлять колонки-кандидаты на удаление из датасета."
   ]
  },
  {
   "cell_type": "code",
   "execution_count": null,
   "metadata": {
    "scrolled": false
   },
   "outputs": [],
   "source": [
    "# Создадим список и добавим колонки, которые планируем удалить по результатам предварительного анализа\n",
    "cols_removal.append('vehicleConfiguration')\n",
    "cols_removal.append('name')"
   ]
  },
  {
   "cell_type": "markdown",
   "metadata": {},
   "source": [
    "### 3.5 Базовая чистка данных\n",
    "\n",
    "Проведем чистку и дополнительную подготовку данных, исходя из идей выводов выше (пункт 3).\n",
    "\n",
    "- [x] color\t- коды перевести в цвета\n",
    "- [x] vehicleTransmission - рус и англ варианты унифицировать\n",
    "- [x] driveSide\t- рус и англ варианты унифицировать\n",
    "- [x] tcp - рус и англ варианты унифицировать\n",
    "- [x] bodyType - привести к нижнему регистру, т.к. часть данных указаны по разному."
   ]
  },
  {
   "cell_type": "markdown",
   "metadata": {},
   "source": [
    "**vehicleTransmission**\n",
    "\n",
    "Информация про коробку передач."
   ]
  },
  {
   "cell_type": "code",
   "execution_count": null,
   "metadata": {
    "scrolled": false
   },
   "outputs": [],
   "source": [
    "data.vehicleTransmission.value_counts()"
   ]
  },
  {
   "attachments": {
    "Screenshot%202021-08-27%20at%2015.10.31-2.png": {
     "image/png": "[encoded data removed]"
    }
   },
   "cell_type": "markdown",
   "metadata": {},
   "source": [
    "Посмотрим на значения на auto.ru. Все коробки делятся на автомат и механику. Автомат подразделяется на варианты.\n",
    "![Screenshot%202021-08-27%20at%2015.10.31-2.png](attachment:Screenshot%202021-08-27%20at%2015.10.31-2.png)"
   ]
  },
  {
   "cell_type": "markdown",
   "metadata": {},
   "source": [
    "Создадим из данного признака новый признак:\n",
    "- коробка передач (автомат, механика)"
   ]
  },
  {
   "cell_type": "code",
   "execution_count": null,
   "metadata": {
    "scrolled": false
   },
   "outputs": [],
   "source": [
    "# Создаем колонку transmission со значениями \"автомат\" и \"механическая\"\n",
    "data['transmission'] = data.vehicleTransmission.copy()\n",
    "\n",
    "data['transmission'].replace(['AUTOMATIC', 'ROBOT', 'VARIATOR',\n",
    "                              'роботизированная', 'автоматическая', 'вариатор'], \"автомат\", inplace=True)\n",
    "data['transmission'].replace(\n",
    "    ['MECHANICAL', 'механическая'], \"механическая\", inplace=True)"
   ]
  },
  {
   "cell_type": "code",
   "execution_count": null,
   "metadata": {
    "scrolled": false
   },
   "outputs": [],
   "source": [
    "# В колонке vehicleTransmission почистим данные значениями 'робот', 'автоматическая', 'вариатор' или \"механическая\"\n",
    "\n",
    "data['vehicleTransmission'].replace(\n",
    "    ['AUTOMATIC', 'автоматическая'], \"автоматическая\", inplace=True)\n",
    "data['vehicleTransmission'].replace(\n",
    "    ['ROBOT', 'роботизированная', ], \"робот\", inplace=True)\n",
    "data['vehicleTransmission'].replace(\n",
    "    ['VARIATOR', 'вариатор'], \"вариатор\", inplace=True)\n",
    "data['vehicleTransmission'].replace(\n",
    "    ['MECHANICAL', 'механическая'], \"механическая\", inplace=True)"
   ]
  },
  {
   "cell_type": "code",
   "execution_count": null,
   "metadata": {
    "scrolled": false
   },
   "outputs": [],
   "source": [
    "# Проверим, какие значения получились\n",
    "print(data['transmission'].unique())\n",
    "print(data['vehicleTransmission'].unique())"
   ]
  },
  {
   "cell_type": "markdown",
   "metadata": {},
   "source": [
    "**color**\n",
    "\n",
    "Цвет автомобиля."
   ]
  },
  {
   "cell_type": "code",
   "execution_count": null,
   "metadata": {
    "scrolled": false
   },
   "outputs": [],
   "source": [
    "# Посмотрим на представленные цвета\n",
    "data.color.unique()"
   ]
  },
  {
   "cell_type": "code",
   "execution_count": null,
   "metadata": {
    "scrolled": false
   },
   "outputs": [],
   "source": [
    "# Создаем словать с кодировкой значений в цвета\n",
    "color_dict = {'040001': 'чёрный', 'EE1D19': 'красный', '0000CC': 'синий', 'CACECB': 'серебристый', '007F00': 'зелёный',\n",
    "              'FAFBFB': 'белый', '97948F': 'серый', '22A0F8': 'голубой', '660099': 'пурпурный', '200204': 'коричневый',\n",
    "              'C49648': 'бежевый', 'DEA522': 'золотистый', '4A2197': 'фиолетовый', 'FFD600': 'жёлтый',\n",
    "              'FF8649': 'оранжевый', 'FFC0CB': 'розовый'}\n",
    "\n",
    "data['color'].replace(to_replace=color_dict, inplace=True)"
   ]
  },
  {
   "cell_type": "code",
   "execution_count": null,
   "metadata": {
    "scrolled": false
   },
   "outputs": [],
   "source": [
    "# Проверяем результат\n",
    "data.color.unique()"
   ]
  },
  {
   "cell_type": "markdown",
   "metadata": {},
   "source": [
    "**driveSide**\n",
    "\n",
    "Расположение руля"
   ]
  },
  {
   "cell_type": "code",
   "execution_count": null,
   "metadata": {
    "scrolled": false
   },
   "outputs": [],
   "source": [
    "data.driveSide.unique()"
   ]
  },
  {
   "cell_type": "code",
   "execution_count": null,
   "metadata": {
    "scrolled": false
   },
   "outputs": [],
   "source": [
    "# Заменим анлоязычные значения на русские\n",
    "data['driveSide'] = data['driveSide'].map(\n",
    "    {'RIGHT': 'Правый', 'LEFT': 'Левый', 'Правый': 'Правый', 'Левый': 'Левый'})"
   ]
  },
  {
   "cell_type": "code",
   "execution_count": null,
   "metadata": {
    "scrolled": false
   },
   "outputs": [],
   "source": [
    "# Уберем верхний регистр\n",
    "data['driveSide'] = data['driveSide'].str.lower()"
   ]
  },
  {
   "cell_type": "code",
   "execution_count": null,
   "metadata": {
    "scrolled": true
   },
   "outputs": [],
   "source": [
    "# Проверяем результат\n",
    "data.driveSide.unique()"
   ]
  },
  {
   "cell_type": "markdown",
   "metadata": {},
   "source": [
    "**tcp**\n",
    "\n",
    "Оригинал ПТС"
   ]
  },
  {
   "cell_type": "code",
   "execution_count": null,
   "metadata": {
    "scrolled": false
   },
   "outputs": [],
   "source": [
    "data.tcp.unique()"
   ]
  },
  {
   "cell_type": "code",
   "execution_count": null,
   "metadata": {
    "scrolled": false
   },
   "outputs": [],
   "source": [
    "data[data.train == 0].tcp.head()"
   ]
  },
  {
   "cell_type": "code",
   "execution_count": null,
   "metadata": {
    "scrolled": false
   },
   "outputs": [],
   "source": [
    "# Заменим анлоязычные значения на русские\n",
    "data['tcp'] = data['tcp'].map(\n",
    "    {'ORIGINAL': 'Оригинал', 'DUPLICATE': 'Дубликат', 'Оригинал': 'Оригинал', 'Дубликат': 'Дубликат'})"
   ]
  },
  {
   "cell_type": "code",
   "execution_count": null,
   "metadata": {
    "scrolled": false
   },
   "outputs": [],
   "source": [
    "# Уберем верхний регистр\n",
    "data['tcp'] = data['tcp'].str.lower()"
   ]
  },
  {
   "cell_type": "code",
   "execution_count": null,
   "metadata": {
    "scrolled": true
   },
   "outputs": [],
   "source": [
    "# Проверяем результат\n",
    "data.tcp.unique()"
   ]
  },
  {
   "cell_type": "markdown",
   "metadata": {},
   "source": [
    "**bodyType**\n",
    "\n",
    "Тип кузова."
   ]
  },
  {
   "cell_type": "code",
   "execution_count": null,
   "metadata": {
    "scrolled": false
   },
   "outputs": [],
   "source": [
    "data.bodyType.value_counts()"
   ]
  },
  {
   "cell_type": "code",
   "execution_count": null,
   "metadata": {
    "scrolled": false
   },
   "outputs": [],
   "source": [
    "# Приведем значения к нижнему регистру, уберем ряд дубликатов в значениях\n",
    "data['bodyType'] = data['bodyType'].apply(lambda x: str(x).lower())"
   ]
  },
  {
   "cell_type": "markdown",
   "metadata": {},
   "source": [
    "Огромное количество категорий, многие категории представлены единичными автомобилями => переструктурировать категории, уменьшить их количество, провести повторный анализ."
   ]
  },
  {
   "cell_type": "code",
   "execution_count": null,
   "metadata": {},
   "outputs": [],
   "source": [
    "# Заменяем весь \"зоопарк\" типов кузова на основные, согласна поиску по типу кузова на auto.ru\n",
    "data['bodyType'].replace(regex={r'внедорожник.*': 'внедорожник',\n",
    "                                r'седан.*': 'седан',\n",
    "                                r'хэтчбек.*': 'хэтчбек',\n",
    "                                r'купе.*': 'купе',  r'тарга.*': 'тарга', r'микровэн.*': 'микровэн',\n",
    "                                r'пикап.*': 'пикап', r'родстер.*': 'родстер',\n",
    "                                r'универсал.*': 'универсал', r'лифтбек.*': 'лифтбек',\n",
    "                                r'минивэн.*': 'минивэн', r'компактвэн.*': 'компактвэн',\n",
    "                                r'лимузин.*': 'лимузин', r'фургон.*': 'фургон', r'кабриолет.*': 'кабриолет'\n",
    "                                },\n",
    "                         inplace=True)"
   ]
  },
  {
   "cell_type": "code",
   "execution_count": null,
   "metadata": {},
   "outputs": [],
   "source": [
    "print(\"Уникальные значения типа кузова после очистки:\", data.bodyType.unique())"
   ]
  },
  {
   "cell_type": "code",
   "execution_count": null,
   "metadata": {
    "scrolled": true
   },
   "outputs": [],
   "source": [
    "# Посмотрим на результи\n",
    "pd.DataFrame(data['bodyType'].value_counts(normalize=True))"
   ]
  },
  {
   "cell_type": "markdown",
   "metadata": {},
   "source": [
    "### 3.6 Дубликаты\n",
    "\n",
    "Определим количество дубликатов в данных в части train."
   ]
  },
  {
   "cell_type": "code",
   "execution_count": null,
   "metadata": {
    "scrolled": false
   },
   "outputs": [],
   "source": [
    "print(\"Количество дубликатов строк в train части датафрейма:\",\n",
    "      data[data.train == 1].duplicated().sum())"
   ]
  },
  {
   "cell_type": "code",
   "execution_count": null,
   "metadata": {
    "scrolled": false
   },
   "outputs": [],
   "source": [
    "# Удалим дубликаты из датасета\n",
    "data.drop_duplicates(inplace=True)"
   ]
  },
  {
   "cell_type": "code",
   "execution_count": null,
   "metadata": {
    "scrolled": true
   },
   "outputs": [],
   "source": [
    "print(f\"Для анализа осталось {len(data)} записей.\")"
   ]
  },
  {
   "cell_type": "markdown",
   "metadata": {},
   "source": [
    "### 3.7 Анализ пропусков\n",
    "\n",
    "Посмотрим вцелом на наличие пустых значений и определим стратегию работы с ними."
   ]
  },
  {
   "cell_type": "code",
   "execution_count": null,
   "metadata": {
    "scrolled": false
   },
   "outputs": [],
   "source": [
    "# Запускаем функцию вывода всех пустых значений\n",
    "print(\"Пропуски для TEST+TRAIN датафрейов.\\n\")\n",
    "intitial_eda_checks(data, 0)"
   ]
  },
  {
   "cell_type": "code",
   "execution_count": null,
   "metadata": {
    "scrolled": true
   },
   "outputs": [],
   "source": [
    "print(\"Пропуски для TEST датафрейма.\\n\")\n",
    "intitial_eda_checks(data[data.train == 0], 0)"
   ]
  },
  {
   "cell_type": "code",
   "execution_count": null,
   "metadata": {
    "scrolled": false
   },
   "outputs": [],
   "source": [
    "# Посмотрим, как распределены пропуски в части train\n",
    "ax = plt.axes()\n",
    "sns.heatmap(data[data.train == 1].isnull(),\n",
    "            yticklabels=False, cbar=False, cmap='Blues')\n",
    "ax.set_title('Распределение пропусков в TRAIN')\n",
    "plt.show()"
   ]
  },
  {
   "cell_type": "code",
   "execution_count": null,
   "metadata": {
    "scrolled": false
   },
   "outputs": [],
   "source": [
    "# Посмотрим, как распределены пропуски в части test\n",
    "ax = plt.axes()\n",
    "sns.heatmap(data[data.train == 0].isnull(),\n",
    "            yticklabels=False, cbar=False, cmap='Blues')\n",
    "ax.set_title('Распределение пропусков в TEST')\n",
    "plt.show()"
   ]
  },
  {
   "cell_type": "markdown",
   "metadata": {},
   "source": [
    "В таблице выведена информация по всем пустым значениям для всех столбцов основного рабочего датасета (data).\n",
    "\n",
    "Выводы и стратегия обработки:\n",
    "1. В 17 столбцах присутствуют пропуски.\n",
    "2. Test:\n",
    "    - [x] tcp: пропуск в одной записи, посмотреть на нее детально, попробовать восстановить или заполнить модой\n",
    "    - [x] ownershipTime: много пропусков (около 65%), проанализировать с чем скоррелирован признак, попробовать заполнить. Если заполнить не получится, то возможно, удалить из признаков для моделирования.\n",
    "3. Train + Test:\n",
    "    - [x] ownersCount (11111) - можно построить мапинг с медианой/модой по группам в зависимости от года выпуска авто. \n",
    "    - [x] price (742) - значения с пропусками удалить из данных \n",
    "    - [x] tcp (844) - поисследовать пропуски и подумать над способами заполнения.\n",
    "    - [x] есть ряд столбцов, где присутсвует ровно один пропуск или одинаковое количество. Проверить гипотезу, что пропуски находятся в одной и той же строке.\n",
    "    - [x] description заполнить не удастся, колонка в таком виде, как есть, будет удаляться."
   ]
  },
  {
   "cell_type": "markdown",
   "metadata": {},
   "source": [
    "Займемся обработкой пропусков по описанной выше стратегии."
   ]
  },
  {
   "cell_type": "markdown",
   "metadata": {},
   "source": [
    "**price**"
   ]
  },
  {
   "cell_type": "code",
   "execution_count": null,
   "metadata": {
    "scrolled": false
   },
   "outputs": [],
   "source": [
    "# Проверим, что price отсуствует именно в train данных и мы не затроним test\n",
    "data[data.price.isnull() == True]['train'].value_counts()"
   ]
  },
  {
   "cell_type": "code",
   "execution_count": null,
   "metadata": {
    "scrolled": false
   },
   "outputs": [],
   "source": [
    "# Удаляем строки с price = NAN\n",
    "data.dropna(subset=['price'], inplace=True)"
   ]
  },
  {
   "cell_type": "markdown",
   "metadata": {},
   "source": [
    "**Гипотеза, что NAN с одной строкой - это одна и та же запись**"
   ]
  },
  {
   "cell_type": "code",
   "execution_count": null,
   "metadata": {
    "scrolled": true
   },
   "outputs": [],
   "source": [
    "# Посмотрим на запись\n",
    "data[data.modelDate.isnull() == True]"
   ]
  },
  {
   "cell_type": "code",
   "execution_count": null,
   "metadata": {
    "scrolled": false
   },
   "outputs": [],
   "source": [
    "# Посмотрим, что за строка, где modelDate = NaN\n",
    "print(\"Индекс строки к удалению:\",\n",
    "      data[data.modelDate.isnull() == True].index[0])"
   ]
  },
  {
   "cell_type": "markdown",
   "metadata": {},
   "source": [
    "Действительно, в одной строке очень много пропусков, при этом машина 1989, недорогая. Удаляем."
   ]
  },
  {
   "cell_type": "code",
   "execution_count": null,
   "metadata": {
    "scrolled": false
   },
   "outputs": [],
   "source": [
    "# Удаляем строку\n",
    "data.drop([24624], inplace=True)"
   ]
  },
  {
   "cell_type": "markdown",
   "metadata": {},
   "source": [
    "Посмотрим таким же споосбом на 495 строк, где есть пропуски по 'mileage', drivetran, model, driveSide."
   ]
  },
  {
   "cell_type": "code",
   "execution_count": null,
   "metadata": {},
   "outputs": [],
   "source": [
    "# Посмотрим на записи\n",
    "print(\"Даты парсинга объясвлений:\",\n",
    "      data[data.mileage.isnull() == True]['parsing_date'].unique())\n",
    "print(\"Длина датафрейма с пустыми 'mileage', drivetran, model, driveSide:\", len(data[(data.mileage.isnull() == True) &\n",
    "                                                                                     (data.drivetrain.isnull() == True) &\n",
    "                                                                                     (data.model.isnull() == True) &\n",
    "                                                                                     (data.driveSide.isnull() == True)]))"
   ]
  },
  {
   "cell_type": "markdown",
   "metadata": {},
   "source": [
    "Гипотеза подтвердилась, в принципе можно заполнить все пропуски достаточно точно, за исключение mileage, но пока исключим строки из анализа."
   ]
  },
  {
   "cell_type": "code",
   "execution_count": null,
   "metadata": {},
   "outputs": [],
   "source": [
    "# Удалим строки с пропусками\n",
    "data.drop(data[(data.mileage.isnull() == True) &\n",
    "               (data.drivetrain.isnull() == True) &\n",
    "               (data.model.isnull() == True) &\n",
    "               (data.driveSide.isnull() == True)].index, inplace=True)"
   ]
  },
  {
   "cell_type": "markdown",
   "metadata": {},
   "source": [
    "**tcp**\n",
    "\n",
    "Проверим гипотезу, что:\n",
    "- tcp пустой у новых машин\n",
    "- tcp пустой там, где это дубликат."
   ]
  },
  {
   "cell_type": "code",
   "execution_count": null,
   "metadata": {
    "scrolled": false
   },
   "outputs": [],
   "source": [
    "# Посмотрим на пример таких данных\n",
    "data[data.tcp.isnull() == True].sample(3)"
   ]
  },
  {
   "cell_type": "code",
   "execution_count": null,
   "metadata": {
    "scrolled": false
   },
   "outputs": [],
   "source": [
    "# Сгруппируем данные по году выпуска и выведем медианный пробег и кол-во владельцев\n",
    "data[data.tcp.isnull() == True].groupby('productionDate')[\n",
    "    'mileage', 'ownersCount'].median()"
   ]
  },
  {
   "cell_type": "markdown",
   "metadata": {},
   "source": [
    "Действительно, выглядит так, что NAN - для новых машин и одной машины с теста. \n",
    "Стратегия заполнения:\n",
    "- для новых авто: оставляем \"оригинал\", но добавляем признак, \"новое авто\"\n",
    "- для 10412 из test: попробуем \"дубликат\""
   ]
  },
  {
   "cell_type": "code",
   "execution_count": null,
   "metadata": {
    "scrolled": false
   },
   "outputs": [],
   "source": [
    "# Заполняем test значением дубликат\n",
    "data.tcp.loc[data[(data.tcp.isnull() == True) & (\n",
    "    data.train == 0)]['tcp'].index[0]] = 'дубликат'"
   ]
  },
  {
   "cell_type": "code",
   "execution_count": null,
   "metadata": {
    "scrolled": false
   },
   "outputs": [],
   "source": [
    "# Смотрим, какой mileage у оставшихся записей. Удостоверимся, что это авто без пробега\n",
    "data[data.tcp.isnull() == True].mileage.value_counts()"
   ]
  },
  {
   "cell_type": "code",
   "execution_count": null,
   "metadata": {
    "scrolled": false
   },
   "outputs": [],
   "source": [
    "# Заполняем значением \"новое авто\"\n",
    "data.tcp.fillna('оригинал', inplace=True)"
   ]
  },
  {
   "cell_type": "code",
   "execution_count": null,
   "metadata": {
    "scrolled": false
   },
   "outputs": [],
   "source": [
    "# Проверяем, что получилось\n",
    "data.tcp.value_counts()"
   ]
  },
  {
   "cell_type": "markdown",
   "metadata": {},
   "source": [
    "**description**\n",
    "\n",
    "Пропуски заполнить проблематично, перед постраением модели признак удалим, пока оставим. Идея для нового признака - наличие описания (да/нет)."
   ]
  },
  {
   "cell_type": "code",
   "execution_count": null,
   "metadata": {
    "scrolled": false
   },
   "outputs": [],
   "source": [
    "# добавим колонку в список на удаление перед построением модели\n",
    "cols_removal.append('description')"
   ]
  },
  {
   "cell_type": "markdown",
   "metadata": {},
   "source": [
    "**OwnershipTime**\n",
    "\n",
    "Попробуем восстановить информацию о времени владении, исходя из информации в productionDate."
   ]
  },
  {
   "cell_type": "markdown",
   "metadata": {},
   "source": [
    "Создадим на базе признака колонку, в которой поместим информацию о количестве месяцев владения автомобилем."
   ]
  },
  {
   "cell_type": "code",
   "execution_count": null,
   "metadata": {
    "scrolled": false
   },
   "outputs": [],
   "source": [
    "# Создаем новый столбец с количеством месяцев владения\n",
    "data['ownershipTimeMonths'] = data['ownershipTime'].apply(num_of_months)"
   ]
  },
  {
   "cell_type": "code",
   "execution_count": null,
   "metadata": {
    "scrolled": false
   },
   "outputs": [],
   "source": [
    "# Пока заполняем пропуски no_data, далее решаем, что сделать с признаком\n",
    "data['ownershipTime'] = data['ownershipTime'].fillna('no_data')"
   ]
  },
  {
   "cell_type": "code",
   "execution_count": null,
   "metadata": {
    "scrolled": false
   },
   "outputs": [],
   "source": [
    "# Смотрим, что получилось\n",
    "data[data.ownershipTime != 'no_data'][[\n",
    "    'ownershipTime', 'ownershipTimeMonths']].sample(5)"
   ]
  },
  {
   "cell_type": "markdown",
   "metadata": {},
   "source": [
    "У 65% записей данные о времени владении отсутсвует. Проверим гипотезу, что есть какая-то взаимосвязь между ownershipTimeMonths и productionDate. Поисследуем, чтобы посмотреть, можем ли заполнить пропуски."
   ]
  },
  {
   "cell_type": "code",
   "execution_count": null,
   "metadata": {
    "scrolled": false
   },
   "outputs": [],
   "source": [
    "# Извлечм орипнтировочную информацию о количестве месяцев после производства\n",
    "data['prodTimeMonths'] = data.apply(lambda x: (\n",
    "    x['parsing_date'].year - x['productionDate'])*12, axis=1)"
   ]
  },
  {
   "cell_type": "code",
   "execution_count": null,
   "metadata": {
    "scrolled": false
   },
   "outputs": [],
   "source": [
    "# Посмотрим, как распределены статистики по признакам\n",
    "data[(data.ownershipTimeMonths.isnull() == False) & (\n",
    "    data.productionDate != 2020)][['prodTimeMonths', 'ownershipTimeMonths']].describe()"
   ]
  },
  {
   "cell_type": "code",
   "execution_count": null,
   "metadata": {
    "scrolled": false
   },
   "outputs": [],
   "source": [
    "# Добавим признак, показывающий во сколько раз время после производства больше времени владения\n",
    "data['prodTime_ownershipTime'] = data.apply(\n",
    "    lambda x: x['prodTimeMonths']/x['ownershipTimeMonths'], axis=1)"
   ]
  },
  {
   "cell_type": "code",
   "execution_count": null,
   "metadata": {
    "scrolled": false
   },
   "outputs": [],
   "source": [
    "# Посмотрим статистики\n",
    "data.prodTime_ownershipTime.describe()"
   ]
  },
  {
   "cell_type": "code",
   "execution_count": null,
   "metadata": {
    "scrolled": false
   },
   "outputs": [],
   "source": [
    "# Посмотрим на графики\n",
    "fig, ax = plt.subplots(figsize=(10, 5))\n",
    "#sns.scatterplot(data=data, x='prodTimeMonths', y=\"prodTime_ownershipTime\")\n",
    "ax.set_title('Распределение prodTime_ownershipTime во времени')\n",
    "plt.show()"
   ]
  },
  {
   "cell_type": "code",
   "execution_count": null,
   "metadata": {
    "scrolled": false
   },
   "outputs": [],
   "source": [
    "# Посмотрим на распределение признака\n",
    "fig, ax = plt.subplots(figsize=(10, 5))\n",
    "sns.distplot(data['prodTime_ownershipTime'])\n",
    "ax.set_title('Распределение prodTime_ownershipTime')\n",
    "plt.show()"
   ]
  },
  {
   "cell_type": "markdown",
   "metadata": {},
   "source": [
    "Видно, что есть какая-то группировка признака по классам, но пока не понятно, на базе какого признака наблюдается линейная зависимость по коэффициентам соотношения времени владения и времени после производства.\n",
    "\n",
    "Следующие шаги:\n",
    "1. План-минимум: заполнить для новых авто NAN нулями, внести признак, что время владения не указано. Возможно, что-то из этого получится. Текущий признак удалить.\n",
    "2. План-максимум: найти, каким образом заполнить недостающие значения."
   ]
  },
  {
   "cell_type": "code",
   "execution_count": null,
   "metadata": {
    "scrolled": false
   },
   "outputs": [],
   "source": [
    "# Заполним нулями признак для новых автомобилей\n",
    "data['ownershipTimeMonths'].loc[(data['mileage'] == 0) & (\n",
    "    data['ownershipTimeMonths'].isnull() == True)] = 0"
   ]
  },
  {
   "cell_type": "code",
   "execution_count": null,
   "metadata": {
    "scrolled": false
   },
   "outputs": [],
   "source": [
    "# Удалим служебные признаки, которые создавали для вычислений\n",
    "data.drop(['prodTime_ownershipTime', 'prodTimeMonths'], axis=1, inplace=True)"
   ]
  },
  {
   "cell_type": "code",
   "execution_count": null,
   "metadata": {
    "scrolled": false
   },
   "outputs": [],
   "source": [
    "# Добавим исходную колонку в список на удаление перед построением модели\n",
    "cols_removal.append('ownershipTime')\n",
    "cols_removal.append('ownershipTimeMonths')"
   ]
  },
  {
   "cell_type": "markdown",
   "metadata": {},
   "source": [
    "**ownersCount**\n",
    "\n",
    "Количество владельцев."
   ]
  },
  {
   "cell_type": "code",
   "execution_count": null,
   "metadata": {},
   "outputs": [],
   "source": [
    "# Все пропуски по значению находятся в train части\n",
    "data[data.ownersCount.isnull() == True].train.value_counts()"
   ]
  },
  {
   "cell_type": "code",
   "execution_count": null,
   "metadata": {},
   "outputs": [],
   "source": [
    "# Посмотрим по данным с незаполненным количетсвом владельцев медианные значения метрик.\n",
    "data[data.ownersCount.isnull() == True].groupby('productionDate').median()"
   ]
  },
  {
   "cell_type": "markdown",
   "metadata": {},
   "source": [
    "Интересно: пробег везде по 0. Посомтрим уникальные значения пробега по отфильтрованным данным."
   ]
  },
  {
   "cell_type": "code",
   "execution_count": null,
   "metadata": {
    "scrolled": true
   },
   "outputs": [],
   "source": [
    "data[data.ownersCount.isnull() == True]['mileage'].describe()"
   ]
  },
  {
   "cell_type": "markdown",
   "metadata": {},
   "source": [
    "Всё явно, владельцы не заполнены, потому что это новые авто. Заполняем пропуски 0."
   ]
  },
  {
   "cell_type": "code",
   "execution_count": null,
   "metadata": {},
   "outputs": [],
   "source": [
    "# Заполняем пропуски 0\n",
    "data['ownersCount'].fillna(0, inplace=True)"
   ]
  },
  {
   "cell_type": "code",
   "execution_count": null,
   "metadata": {},
   "outputs": [],
   "source": [
    "# Приведем значение признака из float в int\n",
    "data['ownersCount'] = data['ownersCount'].astype('int64')"
   ]
  },
  {
   "cell_type": "markdown",
   "metadata": {},
   "source": [
    "### 3.8 Детальный анализ признаков"
   ]
  },
  {
   "cell_type": "markdown",
   "metadata": {},
   "source": [
    "#### Группировка признаков на категориальные, бинарные и числовые\n",
    "\n",
    "Посмотрим, какие признаки могут относиться к категориальным, бинарным, числовым."
   ]
  },
  {
   "cell_type": "code",
   "execution_count": null,
   "metadata": {
    "scrolled": false
   },
   "outputs": [],
   "source": [
    "# Посмотрим, сколько уникальных значений\n",
    "print(\"Количество уникальных категорий в признаках.\")\n",
    "data.nunique(dropna=False)"
   ]
  },
  {
   "cell_type": "code",
   "execution_count": null,
   "metadata": {
    "scrolled": false
   },
   "outputs": [],
   "source": [
    "# Выведем пример признаков на экран\n",
    "print(\"Выведем пример значений признаков одной из записей датасета.\")\n",
    "data.loc[5]"
   ]
  },
  {
   "cell_type": "code",
   "execution_count": null,
   "metadata": {
    "scrolled": false
   },
   "outputs": [],
   "source": [
    "# Посмотрим, на колонки, которые планируем в последствие удалить, чтобы не включать их в анализ\n",
    "print(\"Признаки для последующего удаления:\", cols_removal)"
   ]
  },
  {
   "cell_type": "code",
   "execution_count": null,
   "metadata": {
    "scrolled": false
   },
   "outputs": [],
   "source": [
    "# Создадим списки с разными категориями признаков\n",
    "# бинарные признаки\n",
    "bin_cols = ['condition', 'customs', 'driveSide', 'transmission', 'tcp']\n",
    "\n",
    "# категориальные переменные\n",
    "cat_cols = ['bodyType', 'brand', 'color', 'fuelType', 'drivetrain',\n",
    "            'model', 'vendor', 'vehicleTransmission', 'numberOfDoors', 'ownersCount']\n",
    "\n",
    "# числовые переменные\n",
    "num_cols = ['modelDate', 'productionDate',\n",
    "            'enginePower', 'mileage', 'engineDisplacement']\n",
    "\n",
    "# сервисные переменные\n",
    "service_cols = ['train', 'sell_id', 'parsing_date']\n",
    "\n",
    "# целевая переменная\n",
    "target_col = ['price']\n",
    "\n",
    "all_cols = bin_cols + cat_cols + num_cols + service_cols + target_col\n",
    "\n",
    "print(\"Кол-во столбцов, для дальнейшей работы после предварительного анализа:\", len(all_cols))"
   ]
  },
  {
   "cell_type": "markdown",
   "metadata": {},
   "source": [
    "#### Числовые переменные: распределение, корреляционный анализ, определение значимости\n",
    "\n",
    "###### Распределние численных признаков."
   ]
  },
  {
   "cell_type": "code",
   "execution_count": null,
   "metadata": {
    "scrolled": false
   },
   "outputs": [],
   "source": [
    "\"\"\"  \n",
    "# Построим распределение основных числовых признаков\n",
    "\n",
    "print(\"Диаграмы распределения числовых признаков, взаимосвязь с целевой переменной\")\n",
    "\n",
    "fig, axes = plt.subplots(5, 3, figsize=(30, 40))\n",
    "plt.subplots_adjust(wspace=0.5)\n",
    "axes = axes.flatten()\n",
    "i = 0\n",
    "\n",
    "for col in num_cols:\n",
    "    sns.distplot(data[col], ax=axes[i])\n",
    "    i = i + 1\n",
    "    sns.boxplot(data[col], ax=axes[i])\n",
    "    i = i + 1\n",
    "    sns.scatterplot(data=data[data['train'] == 1],\n",
    "                    x=col, y=\"price\", ax=axes[i])\n",
    "    i = i + 1\n",
    "\"\"\""
   ]
  },
  {
   "cell_type": "code",
   "execution_count": null,
   "metadata": {
    "scrolled": false
   },
   "outputs": [],
   "source": [
    "print(\"Основные статистики для числовых признаков.\")\n",
    "display(data[num_cols].describe())"
   ]
  },
  {
   "cell_type": "markdown",
   "metadata": {},
   "source": [
    "Выводы:\n",
    "\n",
    "1. После построения гистограмм стало очевидно, что распределения основных числовых переменных имеют тяжёлый левый или правый хвост, влияет на разбежку между средним и медианой: \n",
    "    - для того, чтобы сделать распределение данных переменных более нормальным, можно работать с логарифмированными величинами этих переменных\n",
    "    - поработать с выбросами\n",
    "    - подумать про группировку признаков по категориям.\n",
    "2. Распределние modelDate, productionDate очень схожи:\n",
    "    - проверить на признаки на мультиколлинеарность во время корреляционного анализа\n",
    "    - видно, что в среднем productionDate чуть позже, чем modelDate во времени, т.е. производство приосходит чуть с запозданием, что логично. Можно добавить новый признак - насколько новая модель, т.е. через сколько лет после появления модели был выпущен автомобиль.\n",
    "3. mileage: есть пик в 0 - признак нового авто.\n",
    "4. enginePower: 11 лс - что это за авто? Поисследовать\n",
    "5. engineDisplacement: основная масса авто - 2.0 л, есть разброс.\n",
    "5. Взаимосвязь признаков с таргетом:\n",
    "    - наблюдается прямая корреляция цены от года модели и года выпуска с исключениями для особо раритетных автомобилей (~до 1975 года).\n",
    "    - наблюдается обратная корреляция цены от пробега авто\n",
    "    - цена от мощности вдигателя и объема двигателя зависит, но не так явно, как от других переменных."
   ]
  },
  {
   "cell_type": "markdown",
   "metadata": {},
   "source": [
    "###### Корреляционный анализ.\n",
    "\n",
    "Оценим корреляцию Пирсона для непрерывных переменных. Cильная корреляция между переменными вредна для линейных моделей из-за неустойчивости полученных оценок."
   ]
  },
  {
   "cell_type": "code",
   "execution_count": null,
   "metadata": {
    "scrolled": false
   },
   "outputs": [],
   "source": [
    "# Построим матрицу корреляций\n",
    "heatmap = sns.heatmap(data[num_cols + target_col].corr(), vmin=-1,\n",
    "                      vmax=1, annot=True, cmap='BrBG')\n",
    "heatmap.set_title('Матрица корреляций')\n",
    "plt.show()"
   ]
  },
  {
   "cell_type": "markdown",
   "metadata": {},
   "source": [
    "Вывод: \n",
    "1. Взаимосвязь пар числовых признаков по Пирсону достаточно сильная для productionDate, modelDate. При этом, у productionDate чуть большая корреляция с целевой переменной. Удалим признак modelDate.\n",
    "2. Достаточно сильная корреляция между productionDate и meleage - чем меньше год выпуска, тем больше пробег\n",
    "3. engineDisplacement и enginePower достаточно сильно скоррелированы (0.84). Для моделирования оставить один признак - enginePower, т.к. он сильнее влияет на price.\n",
    "4. У всех числовых признаков достаточно высокая корреляция с целевой переменной, это хорошо."
   ]
  },
  {
   "cell_type": "code",
   "execution_count": null,
   "metadata": {
    "scrolled": false
   },
   "outputs": [],
   "source": [
    "# Добавляем modelDate в список колонок на удаление.\n",
    "cols_removal.append('modelDate')\n",
    "cols_removal.append('engineDisplacement')"
   ]
  },
  {
   "cell_type": "markdown",
   "metadata": {},
   "source": [
    "###### Дополнительный анализ числовых признаков\n",
    "\n",
    "Посмотрим более пристально на признаки, которые не исключили из анализа."
   ]
  },
  {
   "cell_type": "markdown",
   "metadata": {},
   "source": [
    "**mileage**\n",
    "\n",
    "Дополнительно поисследуем признак."
   ]
  },
  {
   "cell_type": "code",
   "execution_count": null,
   "metadata": {
    "scrolled": false
   },
   "outputs": [],
   "source": [
    "# Посмотрим на топ 5 годов выпуска авто\n",
    "fig, ax = plt.subplots(figsize=(10, 5))\n",
    "\n",
    "for x in (data['productionDate'].value_counts())[0:7].index:\n",
    "    data['mileage'][data['productionDate'] == x].hist(bins=50)\n",
    "\n",
    "ax.set_xlim(0, 700000)\n",
    "ax.set_ylim(0, 1750)\n",
    "\n",
    "plt.title(\"Распределение mileage по productionDate\")\n",
    "plt.show()"
   ]
  },
  {
   "cell_type": "markdown",
   "metadata": {},
   "source": [
    "Получается, что mileage имеет нормальное распределение, просто чем старше автомобиль, тем больше пробег, из-за мы видим смещение.\n",
    "\n",
    "Чтобы скорректировать признак и сделать его более информативным создадим новый признак в разделе создания признаков: km_per_year - показывает, сколько км в год проезжал автомобиль. Вычисляется, как mileage/productionDate(years) или mileage/ownershipTime. Решить, какой метод использовать."
   ]
  },
  {
   "cell_type": "markdown",
   "metadata": {},
   "source": [
    "**enginePower**\n",
    "\n",
    "Нужно поисследовать странное минимальное значение мощности."
   ]
  },
  {
   "cell_type": "code",
   "execution_count": null,
   "metadata": {
    "scrolled": false
   },
   "outputs": [],
   "source": [
    "print(\"Значение мощности двигателя (л.с.) на TEST\")\n",
    "display(data[data.train == 0]['enginePower'].describe())\n",
    "\n",
    "print(\"\\nЗначение мощности двигателя (л.с.) на TRAIN\")\n",
    "display(data[data.train == 1]['enginePower'].describe())"
   ]
  },
  {
   "cell_type": "markdown",
   "metadata": {},
   "source": [
    "Видим, что в Test минимум - больше, а максимум - меньше. Посмотрим, что это за авто и сколько их."
   ]
  },
  {
   "cell_type": "code",
   "execution_count": null,
   "metadata": {
    "scrolled": false
   },
   "outputs": [],
   "source": [
    "print(\"Строки, в которых мощность двигателя меньше 30 л.с.\")\n",
    "data[data.enginePower < data[data.train == 0]['enginePower'].min()]"
   ]
  },
  {
   "cell_type": "code",
   "execution_count": null,
   "metadata": {
    "scrolled": false
   },
   "outputs": [],
   "source": [
    "print(\"Строки, в которых мощность двигателя более 639 л.с.\")\n",
    "data[data.enginePower > data[data.train == 0]['enginePower'].max()]"
   ]
  },
  {
   "cell_type": "markdown",
   "metadata": {},
   "source": [
    "Таких строк немного, удалим из из дальнейшего анализа. Более того, большинство записей не входят в список 12 брендов из test выборки."
   ]
  },
  {
   "cell_type": "code",
   "execution_count": null,
   "metadata": {
    "scrolled": false
   },
   "outputs": [],
   "source": [
    "# Таких строк немного, удалим из из дальнейшего анализа\n",
    "data.drop(data[(data.enginePower > data[data.train == 0]\n",
    "                ['enginePower'].max()) | (data.enginePower < data[data.train == 0]\n",
    "                                          ['enginePower'].min())].index, inplace=True)"
   ]
  },
  {
   "cell_type": "markdown",
   "metadata": {},
   "source": [
    "**productionDate/modelDate**\n",
    "\n",
    "Посмотрим повнимательнее на признак и попробуем проанализировать поглубже."
   ]
  },
  {
   "cell_type": "code",
   "execution_count": null,
   "metadata": {
    "scrolled": false
   },
   "outputs": [],
   "source": [
    "print(\"Значение года производства авто на TEST\")\n",
    "display(data[data.train == 0]['productionDate'].describe())\n",
    "\n",
    "print(\"\\nЗначение года производства авто на TRAIN\")\n",
    "display(data[data.train == 1]['productionDate'].describe())"
   ]
  },
  {
   "cell_type": "markdown",
   "metadata": {},
   "source": [
    "Минимальные значения, максимальные, медианные и среднии достаточно близки.\n",
    "\n",
    "Посмотрим на раритетные автомобили (30 летние машины, согласно классификации FIVA (Fédération Internationale des Véhicules Anciens), см \n",
    "[Wiki Article](https://ru.wikipedia.org/wiki/%D0%9A%D0%BB%D0%B0%D1%81%D1%81%D0%B8%D1%87%D0%B5%D1%81%D0%BA%D0%B8%D0%B9_%D0%B0%D0%B2%D1%82%D0%BE%D0%BC%D0%BE%D0%B1%D0%B8%D0%BB%D1%8C#%D0%A0%D0%BE%D1%81%D1%81%D0%B8%D1%8F).\n",
    "\n",
    "В части фиче инжениринга можно будет добавить признак rarity."
   ]
  },
  {
   "cell_type": "code",
   "execution_count": null,
   "metadata": {
    "scrolled": false
   },
   "outputs": [],
   "source": [
    "# Посмотрим, сколько таких записей\n",
    "print(\n",
    "    f\"В датасете содержится {len(data[data.productionDate < (data['parsing_date'].max().year-30)]['productionDate'])} раритетных автомобилей.\")"
   ]
  },
  {
   "cell_type": "markdown",
   "metadata": {},
   "source": [
    "Детальнее посмотрим, как падает цена в зависимости от productionDate."
   ]
  },
  {
   "cell_type": "code",
   "execution_count": null,
   "metadata": {
    "scrolled": false
   },
   "outputs": [],
   "source": [
    "fig, ax = plt.subplots(figsize=(10, 5))\n",
    "\n",
    "ax.set_xlim(1970, 2021)\n",
    "ax.set_ylim(0, 30000000)\n",
    "ax.set_xticks(np.arange(1970, 2022, 3))\n",
    "\n",
    "sns.scatterplot(data=data[data['train'] == 1], x='productionDate', y=\"price\")\n",
    "\n",
    "plt.title(\"Распределение целевой переменной в зависимости от productionDate\\n\")\n",
    "plt.show()"
   ]
  },
  {
   "cell_type": "markdown",
   "metadata": {},
   "source": [
    "Можно найти много информации, что цена автомобиля значительно падает после 3-5 лет эксплуатации. На графиках даная динамика тоже прослеживается. Идеи для новых признаков:\n",
    "- prodDate_3Y - признак, что автомобилю уже 3 года\n",
    "- prodDate_5Y - признак, что автомобилю уже 5 лет."
   ]
  },
  {
   "cell_type": "markdown",
   "metadata": {},
   "source": [
    "#### Категориальные и бинарные переменные: конвертация в числовые\n",
    "\n",
    "##### Распределение признаков\n",
    "\n",
    "Посмотрим на распределение признаков."
   ]
  },
  {
   "cell_type": "code",
   "execution_count": null,
   "metadata": {
    "scrolled": false
   },
   "outputs": [],
   "source": [
    "\"\"\"\n",
    "# Построим распределение основных бинарных и категориальных признаков\n",
    "print(\"Распределение бинарных и категориальных признаков. Нажимите дважды для увелечения.\")\n",
    "\n",
    "fig, axes = plt.subplots(4, 4, figsize=(35, 35))\n",
    "plt.subplots_adjust(wspace=0.5)\n",
    "axes = axes.flatten()\n",
    "i = 0\n",
    "\n",
    "for col in (bin_cols + cat_cols):\n",
    "    sns.histplot(data=data, x=data[col], ax=axes[i],\n",
    "                 stat='count', bins=data[col].nunique())\n",
    "    plt.tight_layout()\n",
    "    plt.xticks(rotation=45)\n",
    "    plt.title(col)\n",
    "    i = i + 1\n",
    "\"\"\""
   ]
  },
  {
   "cell_type": "code",
   "execution_count": null,
   "metadata": {
    "scrolled": false
   },
   "outputs": [],
   "source": [
    "# Построим график boxplot\n",
    "\"\"\"print(\"Boxplot нечисловых признаков и их зависимость от цены.\")\n",
    "for col in (bin_cols + cat_cols):    \n",
    "    get_boxplot(col)\"\"\""
   ]
  },
  {
   "cell_type": "markdown",
   "metadata": {},
   "source": [
    "Выводы по всем графикам:\n",
    "1. Полностью сбалансированные признаки отсутсвуют.\n",
    "2. Особо несбалансированные признаки: \n",
    "    - [x] driveSide - правосторонни машины в большинстве => поисследовать, есть ли левосторонние машины в тесте. Если нет, то удалить признак\n",
    "    - bodyType - некоторые категории представлены небольшим количеством машин, но boxplot показывает значительные различия и распределение по ценам. Идея схлопнуть малочисленные категории в other кажется не очень хорошей, т.к. разброс медианных цен очень большой для этих категорий. Оставлим пока признак, как есть.\n",
    "    - [x] brand - много категорий, заметно, что есть массовые, среднепопулярные и редкие бренды авто. Поисследовать дополнительно и подумать над созданием новых признаков (престижные авто/люкс, популярные и т.д.)\n",
    "    - [x] color - есть популярные цвета (черный, белый, серый, серебристый, синий) и редкие. Посмотреть дополнительно и создать новый признак о популярности цвета\n",
    "    - [x] fuelType - есть типы топлива, которые в явном меньшинстве. Поисследовть и подумать, стоит ли делать группировку непопулярных типов топлива\n",
    "    - tcp - несбалансированный признак, но пока оставляем в модели\n",
    "    - [x] model - очень много уникальных категорий, подумать, можно ли как-то доработать признак. Подумать про объединение brand + model\n",
    "    - [x] numberOfDoors - малое количество машин в 0-3 - изучить детальнее\n",
    "\n",
    "3. Сбалансированные признаки с заметно превалирующим классом:\n",
    "    - ownershipTimeIsNull - большая часть записей без указания времени владения\n",
    "    - transmission - автомат превалирует\n",
    "    - drivertrain - передний привод встречается чаще всего\n",
    "    - vendor - большее количество автомобилей европейского региона\n",
    "    - ownersCount - привалирует 3 и более.\n",
    "4. Неинформативные признаки: conditions, customs - после манипуляций с данными в признаках осталось только одно значение. Удаляем из анализа.\n",
    "5. Зависимость с целевой переменной:\n",
    "    - ownershipTimeIsNull: машины без указания времени владения в среднем дешевле, чем машины с указанием времени владения\n",
    "    - driveSide: авто с правосторонним рулем в среднем дешевле машин с левосторонним рулем\n",
    "    - transmission: авто с АТ коробкой намного дороже MT, как и сам диапазон цен\n",
    "    - bodyType: признак, который значительно влияет на распределение цен\n",
    "    - brand: большая разбежка цен от бренда. Выделяются престижные авто (porche, Cadillac, bmw, and Rover, Lexus и др), а есть дешевый сегмент (азиатские авто - Cherry, Daewoo, Great wall и др.). Также видны бренды, которые выпускают дорогие авто, но и есть модели для более дешевого сегмента.\n",
    "    - color: цены зависят от цвета, но большие цены представлены у цветов, количество авто по которым больше. \n",
    "    - fuelType: очень дорогие машины электро и дизель, возможно выделить отдельный признак, что машина “электрокар”\n",
    "    - drivetrain: полноприводные машины дороже всех, заднеприводные машины в среднем дешевле переднеприводных\n",
    "    - tcp: авто с дубликатом ПТС дешевле чем те, что с оригиналом\n",
    "    - model - данных много, но видно, что присутствую колебания цены в зависимости от модели\n",
    "    - vendor: в среднем, европейские и японские машины дороже американских и азиатских\n",
    "    - vehicleTransmission: в среднем разновидности автоматов особо не влияют на цену, проверить значимость признака тестом Стьюдента. Потенциально на исключение.\n",
    "    - numberOfDoors: в среднем самые дорогие авто - 2-х дверные, затем 5-дверные.\n",
    "    - ownersCount: чем больше владельцев, тем ниже средняя цена авто."
   ]
  },
  {
   "cell_type": "code",
   "execution_count": null,
   "metadata": {},
   "outputs": [],
   "source": [
    "# Добавляем modelDate в список колонок на удаление.\n",
    "cols_removal.append('condition')\n",
    "cols_removal.append('customs')"
   ]
  },
  {
   "cell_type": "markdown",
   "metadata": {},
   "source": [
    "###### Дополнительный анализ бинарных и категориальных признаков\n",
    "\n",
    "Посмотрим более пристально на признаки, которые не исключили из анализа и по которым возникли вопросы/требуется дополнительное исследование после предварительного анализа."
   ]
  },
  {
   "cell_type": "markdown",
   "metadata": {},
   "source": [
    "**driveSide**\n",
    "\n",
    "Правосторонние машины в большинстве => поисследовать, есть ли левосторонние машины в тесте. Если нет, то удалить признак."
   ]
  },
  {
   "cell_type": "code",
   "execution_count": null,
   "metadata": {},
   "outputs": [],
   "source": [
    "# Проверяем распределение признака в test\n",
    "test.driveSide.value_counts(normalize=True)"
   ]
  },
  {
   "cell_type": "markdown",
   "metadata": {},
   "source": [
    "4% данных в тесте левосторонние. Оставляем, как есть, т.е. обоготить данные пока не можем."
   ]
  },
  {
   "cell_type": "markdown",
   "metadata": {},
   "source": [
    "**brand**\n",
    "\n",
    "Марка машины."
   ]
  },
  {
   "cell_type": "code",
   "execution_count": null,
   "metadata": {},
   "outputs": [],
   "source": [
    "print(\n",
    "    f'Список категорий brand в test, которые не представлены в train: \\n{list(set(data[data.train == 0].brand.unique()).difference(data[data.train == 1].brand.unique()))}')\n",
    "print(\n",
    "    f'\\nСписок зачений brand в train, по которым не нужно делать предсказания в test: \\n{list(set(data[data.train == 1].brand.unique()).difference(data[data.train == 0].brand.unique()))}')"
   ]
  },
  {
   "cell_type": "code",
   "execution_count": null,
   "metadata": {},
   "outputs": [],
   "source": [
    "# Посмотрим внимательно на графики еще раз\n",
    "analyze_cat_cols('brand')"
   ]
  },
  {
   "cell_type": "markdown",
   "metadata": {},
   "source": [
    "Можно создать новые признаки:\n",
    "- флаг популярного авто: за ориентир взять значение data['brand'].value_counts() > data['brand'].value_counts().values.mean()\n",
    "- обычно на цену сильно влияет класс автомобиля (brand + bodyType) попробовать добавить признак с помощью метода главных компонент.\n",
    "\n",
    "Также в train присутсвует значительно большее количество брендов, чем в трейне. Учитывать при обработке выбросов."
   ]
  },
  {
   "cell_type": "markdown",
   "metadata": {},
   "source": [
    "**model**\n",
    "\n",
    "Модель машины."
   ]
  },
  {
   "cell_type": "code",
   "execution_count": null,
   "metadata": {
    "scrolled": true
   },
   "outputs": [],
   "source": [
    "print(\n",
    "    f'Список категорий brand в test, которые не представлены в train: \\n{list(set(data[data.train == 0].model.unique()).difference(data[data.train == 1].model.unique()))}')\n",
    "print(\n",
    "    f'\\nСписок зачений brand в train, по которым не нужно делать предсказания в test: \\n{list(set(data[data.train == 1].model.unique()).difference(data[data.train == 0].model.unique()))}')"
   ]
  },
  {
   "cell_type": "code",
   "execution_count": null,
   "metadata": {},
   "outputs": [],
   "source": [
    "test[test.productionDate.isin([1994, 1997])][['driveSide', 'enginePower', 'productionDate']]"
   ]
  },
  {
   "cell_type": "markdown",
   "metadata": {},
   "source": [
    "Вывод: \n",
    "- признак пока оставляем неизменным, можно добавить новый признак популярности модели среди брендов\n",
    "- в тесте есть модели, по которым нет данных в трейне - может влиять на ошибки предсказания."
   ]
  },
  {
   "cell_type": "markdown",
   "metadata": {},
   "source": [
    "**color**\n",
    "\n",
    "Есть популярные цвета (черный, белый, серый, серебристый, синий) и редкие. Посмотреть дополнительно и создать новый признак о популярности цвета."
   ]
  },
  {
   "cell_type": "code",
   "execution_count": null,
   "metadata": {},
   "outputs": [],
   "source": [
    "print(\n",
    "    f'Список категорий brand в test, которые не представлены в train: \\n{list(set(data[data.train == 0].color.unique()).difference(data[data.train == 1].color.unique()))}')\n",
    "print(\n",
    "    f'\\nСписок зачений brand в train, по которым не нужно делать предсказания в test: \\n{list(set(data[data.train == 1].color.unique()).difference(data[data.train == 0].color.unique()))}')"
   ]
  },
  {
   "cell_type": "code",
   "execution_count": null,
   "metadata": {},
   "outputs": [],
   "source": [
    "# Посмотрим внимательно на графики еще раз\n",
    "analyze_cat_cols('color')"
   ]
  },
  {
   "cell_type": "markdown",
   "metadata": {},
   "source": [
    "Создадим признак популярного авто: за ориентир взять значение data['color'].value_counts() > data['color'].value_counts().values.mean()\n",
    "\n",
    "Перечень категорий цветов идентичен в train и test."
   ]
  },
  {
   "cell_type": "markdown",
   "metadata": {},
   "source": [
    "**fuelType**\n",
    "\n",
    "Есть типы топлива, которые в явном меньшинстве. Поисследовть и подумать, стоит ли делать группировку непопулярных типов топлива."
   ]
  },
  {
   "cell_type": "code",
   "execution_count": null,
   "metadata": {},
   "outputs": [],
   "source": [
    "print(\n",
    "    f'Список категорий brand в test, которые не представлены в train: \\n{list(set(data[data.train == 0].fuelType.unique()).difference(data[data.train == 1].fuelType.unique()))}')\n",
    "print(\n",
    "    f'\\nСписок зачений brand в train, по которым не нужно делать предсказания в test: \\n{list(set(data[data.train == 1].fuelType.unique()).difference(data[data.train == 0].fuelType.unique()))}')"
   ]
  },
  {
   "cell_type": "code",
   "execution_count": null,
   "metadata": {},
   "outputs": [],
   "source": [
    "# Посмотрим внимательно на графики еще раз\n",
    "analyze_cat_cols('fuelType')"
   ]
  },
  {
   "cell_type": "code",
   "execution_count": null,
   "metadata": {},
   "outputs": [],
   "source": [
    "print(\n",
    "    f'Список зачений по fuelType в трейне:= {list(data[data.train ==0].fuelType.unique())}')\n",
    "print(\n",
    "    f'Список зачений по fuelType в тесте:= {list(data[data.train ==0].fuelType.unique())}')"
   ]
  },
  {
   "cell_type": "code",
   "execution_count": null,
   "metadata": {
    "scrolled": true
   },
   "outputs": [],
   "source": [
    "# Посмотрим, какие бренды представлены в \"электро\" типе топлива в трейне и тесте\n",
    "data[data['fuelType'] == 'электро'].groupby(\n",
    "    ['train', 'brand'])['bodyType'].count()"
   ]
  },
  {
   "cell_type": "markdown",
   "metadata": {},
   "source": [
    "Выводы:\n",
    "- перечень категорий цветов идентичен в train и test.\n",
    "- категории для данного признака оставим, как есть, т.к. сильно влияет на распределение цен\n",
    "- идея для генерации нового признака - добавить флаг \"электрокар\"\n",
    "- использовать информацию по распределению типа топлива-брен между трейн и тестом для обработки выбросов. Возможно, какие-то данные придется удалить"
   ]
  },
  {
   "cell_type": "markdown",
   "metadata": {},
   "source": [
    "**numberOfDoors**\n",
    "\n",
    "Во время предварительнго анализа появилась идея изучить значение 0 - выброс/ошибка или валидная запись."
   ]
  },
  {
   "cell_type": "code",
   "execution_count": null,
   "metadata": {},
   "outputs": [],
   "source": [
    "# Посмотрим на записи с кол-вом дверей менее 2\n",
    "data[data.numberOfDoors < 2]"
   ]
  },
  {
   "cell_type": "markdown",
   "metadata": {},
   "source": [
    "Все в порядке - это раритетные машины, более того 1 из test, 1 из train, оставляем."
   ]
  },
  {
   "cell_type": "markdown",
   "metadata": {},
   "source": [
    "**description**\n",
    "\n",
    "Посмотрим на признак повнимательнее и подумаем, что мы можем из него извлечь."
   ]
  },
  {
   "cell_type": "code",
   "execution_count": null,
   "metadata": {},
   "outputs": [],
   "source": [
    "# Описание в трейне\n",
    "data[data.train == 1]['description'].iloc[1]"
   ]
  },
  {
   "cell_type": "code",
   "execution_count": null,
   "metadata": {},
   "outputs": [],
   "source": [
    "# Описание в тесте\n",
    "data[data.train == 0]['description'].iloc[3]"
   ]
  },
  {
   "cell_type": "markdown",
   "metadata": {},
   "source": [
    "Для анализа всего текста времени нет, но можно попробовать извлечь признаки количества слов в объявлении."
   ]
  },
  {
   "cell_type": "markdown",
   "metadata": {},
   "source": [
    "##### Преобразование бинарных переменных в числа\n",
    "Чтобы алгоритмы машинного обучения могли работать с категориальными данными, их нужно преобразовать в числа. Применим LabelEncoder ко всему набору бинарных переменных."
   ]
  },
  {
   "cell_type": "code",
   "execution_count": null,
   "metadata": {
    "scrolled": false
   },
   "outputs": [],
   "source": [
    "# Для бинарных признаков мы будем использовать LabelEncoder\n",
    "label_encoder = LabelEncoder()\n",
    "\n",
    "for column in bin_cols:\n",
    "    data[column] = label_encoder.fit_transform(data[column])\n",
    "\n",
    "# Убедимся в преобразовании\n",
    "data[bin_cols].sample(6)"
   ]
  },
  {
   "cell_type": "markdown",
   "metadata": {},
   "source": [
    "#### Анализ целевой переменной: price\n",
    "\n",
    "Проанализируем целевую переменную 'price'."
   ]
  },
  {
   "cell_type": "code",
   "execution_count": null,
   "metadata": {
    "scrolled": false
   },
   "outputs": [],
   "source": [
    "# Посмотрим на основные статистики\n",
    "print(data[data.train == 1]['price'].describe())"
   ]
  },
  {
   "cell_type": "code",
   "execution_count": null,
   "metadata": {
    "scrolled": false
   },
   "outputs": [],
   "source": [
    "# Посмотрим на распределение целевой переменной\n",
    "fig, ax = plt.subplots(figsize=(10, 5))\n",
    "sns.histplot(data=data[data.train == 1], x='price')\n",
    "plt.title(\"Распределение целевой переменной \\n\")\n",
    "plt.show()"
   ]
  },
  {
   "cell_type": "markdown",
   "metadata": {},
   "source": [
    "Распределение цены с очень сильным правым хвостом, попробуем добавить доп. целевой признак, взяв логорифм от цены."
   ]
  },
  {
   "cell_type": "markdown",
   "metadata": {},
   "source": [
    "##### price_log\n",
    "\n",
    "Логарифм от цены."
   ]
  },
  {
   "cell_type": "code",
   "execution_count": null,
   "metadata": {
    "scrolled": false
   },
   "outputs": [],
   "source": [
    "# Добавляем новый признка\n",
    "data['price_log'] = data['price'].apply(lambda x: np.log(x))\n",
    "\n",
    "# Добавим новый признак в список целевых\n",
    "target_col.append('price_log')"
   ]
  },
  {
   "cell_type": "code",
   "execution_count": null,
   "metadata": {
    "scrolled": false
   },
   "outputs": [],
   "source": [
    "# Посмотрим, как изменилось распределение целевой переменной\n",
    "fig, ax = plt.subplots(figsize=(10, 5))\n",
    "sns.histplot(data=data[data.train == 1], x='price_log')\n",
    "plt.title(\"Распределение целевой переменной \\n\")\n",
    "plt.show()"
   ]
  },
  {
   "cell_type": "markdown",
   "metadata": {},
   "source": [
    "Вывод: распределение выглядит, как нормальное. Можно будет попробовать использовать для моделирования."
   ]
  },
  {
   "cell_type": "markdown",
   "metadata": {},
   "source": [
    "##### price_usd\n",
    "\n",
    "Цена с учетом курса доллара.\n",
    "\n",
    "Поскольку на для всех данных есть информация о дате подачи объявления, точный перевод цены в доллары затруднителен. Однако, есть информация о дате парсинга объявления и можем допустить, что на момент парсинга цена была удовлетворительной для продавца."
   ]
  },
  {
   "cell_type": "code",
   "execution_count": null,
   "metadata": {},
   "outputs": [],
   "source": [
    "# Создаем столбец с курсом USD-RUB на дату парсинга\n",
    "data['RUB_USD_rate'] = data['parsing_date'].copy().apply(lambda x: x.strftime(\n",
    "    \"%Y-%m-%d\"))\n",
    "\n",
    "data['RUB_USD_rate'] = data['RUB_USD_rate'].map(\n",
    "    {'2020-09-09': 75.2048, '2020-10-20': 77.3423,\n",
    "     '2020-10-19': 77.6500, '2020-10-21': 76.7229,\n",
    "     '2020-10-24': 76.1235, '2020-10-25': 76.1235,\n",
    "     '2020-10-26': 76.4950, '2021-08-29': 73.5503,\n",
    "     '2021-08-30': 73.5048, '2021-08-31': 73.2274})"
   ]
  },
  {
   "cell_type": "code",
   "execution_count": null,
   "metadata": {},
   "outputs": [],
   "source": [
    "# Рассчитываем price_usd\n",
    "data['price_usd'] = data.apply(lambda x: x.price/x.RUB_USD_rate, axis=1)"
   ]
  },
  {
   "cell_type": "code",
   "execution_count": null,
   "metadata": {},
   "outputs": [],
   "source": [
    "# Сразу удалим служебный признак с курсом валют\n",
    "# data.drop('RUB_USD_rate', axis=1, inplace=True)"
   ]
  },
  {
   "cell_type": "code",
   "execution_count": null,
   "metadata": {},
   "outputs": [],
   "source": [
    "# Добавим новый признак в список целевых\n",
    "target_col.append('price_usd')"
   ]
  },
  {
   "cell_type": "code",
   "execution_count": null,
   "metadata": {},
   "outputs": [],
   "source": [
    "# Добавим новый признак в список сервисных\n",
    "service_cols.append('RUB_USD_rate')"
   ]
  },
  {
   "cell_type": "markdown",
   "metadata": {},
   "source": [
    "### 3.9 Генерация новых признаков"
   ]
  },
  {
   "cell_type": "markdown",
   "metadata": {},
   "source": [
    "Идеи по генерации новых признаков по результатам EDA:\n",
    "- [x] km_per_year - показывает, сколько км в год проезжал автомобиль. Вычисляется, как mileage/productionDate(years) или mileage/ownershipTime. Решить, какой метод использовать\n",
    "- [x] carNovelty - показывает, через сколько лет после выхода модели был выпущен автомобиль, т.е. modelDate - productionDate. Гипотеза, что чем меньше это число, тем выше будет цена\n",
    "- [x] rarity - признак, показывающий, что автомобиль раритетный (ему более 30 лет)\n",
    "- [x] prodDate_3Y - признак, что автомобилю уже 3 года\n",
    "- [x] prodDate_5Y - признак, что автомобилю уже 5 лет\n",
    "- [x] newCar - признак для обозначения новых авто, пробег равен 0\n",
    "- [x] descriptionIsNull - признак, показывающий наличие или отсутствие объясления\n",
    "- [x] ownershipTimeIsNull - показывает, заполнено ли время владения авто: 1 - не заполнено, 0 - заполнено\n",
    "- [x] colorPopular - признак для обозначения, что авто популярного цвета: 1 - популярного, 0 - непопулярного\n",
    "- [x] brandPopular - признак для обозначения, что авто популярной марки: 1 - популярного, 0 - непопулярного\n",
    "- [x] modelPopular - признак для обозначения, что авто популярной модели в рамках бренда: 1 - популярного, 0 - непопулярного"
   ]
  },
  {
   "cell_type": "code",
   "execution_count": null,
   "metadata": {},
   "outputs": [],
   "source": [
    "# Для упрощения повторного анализа для новых признаков добавим списки\n",
    "cat_cols_new = []\n",
    "num_cols_new = []\n",
    "bin_cols_new = []"
   ]
  },
  {
   "cell_type": "markdown",
   "metadata": {},
   "source": [
    "**km_per_year**\n",
    "\n",
    "Пробег авто км/год."
   ]
  },
  {
   "cell_type": "code",
   "execution_count": null,
   "metadata": {
    "scrolled": false
   },
   "outputs": [],
   "source": [
    "# Добавим дополнительный признак 'km_per_year', который равен пробегу, поделенному на возраст авто,\n",
    "data['km_per_year'] = data.apply(km_per_year, axis=1)"
   ]
  },
  {
   "cell_type": "code",
   "execution_count": null,
   "metadata": {},
   "outputs": [],
   "source": [
    "print(\"Диаграмы распределения km_per_year признака, взаимосвязь с целевой переменной\")\n",
    "\n",
    "fig, axes = plt.subplots(1, 3, figsize=(20, 5))\n",
    "plt.subplots_adjust(wspace=0.5)\n",
    "axes = axes.flatten()\n",
    "\n",
    "sns.distplot(data['km_per_year'], ax=axes[0])\n",
    "sns.boxplot(data['km_per_year'], ax=axes[1])\n",
    "sns.scatterplot(data=data[data['train'] == 1],\n",
    "                x='km_per_year', y=\"price\", ax=axes[2])"
   ]
  },
  {
   "cell_type": "markdown",
   "metadata": {},
   "source": [
    "Вывод: думали, что распределение будет нормальным, если разделить пробег на возраст автомобиля, но все равно есть правых хвост. Или убрать выбросы, или попробовать логорифмирование."
   ]
  },
  {
   "cell_type": "code",
   "execution_count": null,
   "metadata": {
    "scrolled": false
   },
   "outputs": [],
   "source": [
    "# добавляем новые признак\n",
    "num_cols.append('km_per_year')"
   ]
  },
  {
   "cell_type": "code",
   "execution_count": null,
   "metadata": {},
   "outputs": [],
   "source": [
    "num_cols_new.append('km_per_year')"
   ]
  },
  {
   "cell_type": "markdown",
   "metadata": {},
   "source": [
    "**carNovelty**\n",
    "\n",
    "Новизна машины: через сколько лет после появления модели авто была произведена машина. "
   ]
  },
  {
   "cell_type": "code",
   "execution_count": null,
   "metadata": {
    "scrolled": false
   },
   "outputs": [],
   "source": [
    "# Добавим'dateModelProdDiff', равный разнице между годом выпуска авто и годом начала производства модели\n",
    "data['carNovelty'] = data['productionDate'] - data['modelDate']"
   ]
  },
  {
   "cell_type": "code",
   "execution_count": null,
   "metadata": {
    "scrolled": false
   },
   "outputs": [],
   "source": [
    "# Посмотрим, что получилось\n",
    "data[['productionDate', 'modelDate', 'mileage',\n",
    "      'km_per_year', 'carNovelty']].sample(5)"
   ]
  },
  {
   "cell_type": "code",
   "execution_count": null,
   "metadata": {
    "scrolled": false
   },
   "outputs": [],
   "source": [
    "# Заменим отрицательные значение на 0\n",
    "data['carNovelty'] = data['carNovelty'].apply(lambda x: 0 if x < 0 else x)"
   ]
  },
  {
   "cell_type": "code",
   "execution_count": null,
   "metadata": {
    "scrolled": false
   },
   "outputs": [],
   "source": [
    "data.carNovelty.unique()"
   ]
  },
  {
   "cell_type": "code",
   "execution_count": null,
   "metadata": {
    "scrolled": false
   },
   "outputs": [],
   "source": [
    "# добавляем новые признак\n",
    "num_cols.append('carNovelty')"
   ]
  },
  {
   "cell_type": "code",
   "execution_count": null,
   "metadata": {},
   "outputs": [],
   "source": [
    "num_cols_new.append('carNovelty')"
   ]
  },
  {
   "cell_type": "markdown",
   "metadata": {},
   "source": [
    "**rarity** \n",
    "\n",
    "Раритетные авто (более 30 лет). Строим на базе modelDate.\n",
    "\n",
    "Значения:\n",
    "* 5 - авто нераритетный\n",
    "* 4 - Class F — с 1 января 1961 по 31 декабря 1970\n",
    "* 3 - Class E (Post War) — с 1 января 1946 по 31 декабря 1960\n",
    "* 2 - Class D (Post Vintage) — с 1 января 1931 по 31 декабря 1945\n",
    "* 1 - Class C (Vintage) — с 1 января 1919 по 31 декабря 1930\n",
    "* Class B (Veteran) — с 1 января 1905 по 31 декабря 1918 (таких авто в выборке нет)\n",
    "* 0 - Class A (Ancestor) — выпуска до 31 декабря 1904 года."
   ]
  },
  {
   "cell_type": "code",
   "execution_count": null,
   "metadata": {
    "scrolled": false
   },
   "outputs": [],
   "source": [
    "# Зададим основные раритетные категории\n",
    "rar_cat = pd.cut(data.modelDate, bins=[0, 1905, 1919, 1931, 1946, 1961, 1971, 2022],\n",
    "                 labels=['Class A (Ancestor)', 'Class B (Veteran)', 'Class C (Vintage)', 'Class D (Post Vintage)',\n",
    "                         'Class E (Post War)', 'class F', 'нераритетный'])\n",
    "data.insert(20, 'rarity', rar_cat)"
   ]
  },
  {
   "cell_type": "code",
   "execution_count": null,
   "metadata": {
    "scrolled": false
   },
   "outputs": [],
   "source": [
    "# Преобразуем признак age_group в числовой\n",
    "# label_encoder = LabelEncoder()\n",
    "# data['rarity'] = label_encoder.fit_transform(data['rarity'])"
   ]
  },
  {
   "cell_type": "code",
   "execution_count": null,
   "metadata": {
    "scrolled": false
   },
   "outputs": [],
   "source": [
    "# Посмотрим на результат\n",
    "print(\"Количество автомобилей по раритетности с указанием диапазонов годов моделей\")\n",
    "data.groupby('rarity')['modelDate'].agg(['min', 'max', 'count'])"
   ]
  },
  {
   "cell_type": "code",
   "execution_count": null,
   "metadata": {
    "scrolled": false
   },
   "outputs": [],
   "source": [
    "# Посмотрим на медианную цену по группам\n",
    "print(\"Медианная цена по групам раритетности\")\n",
    "data.groupby('rarity')['price'].agg(['median'])"
   ]
  },
  {
   "cell_type": "code",
   "execution_count": null,
   "metadata": {
    "scrolled": false
   },
   "outputs": [],
   "source": [
    "# Добавим новый признак к категориальным\n",
    "cat_cols.append('rarity')"
   ]
  },
  {
   "cell_type": "code",
   "execution_count": null,
   "metadata": {},
   "outputs": [],
   "source": [
    "cat_cols_new.append('rarity')"
   ]
  },
  {
   "cell_type": "markdown",
   "metadata": {},
   "source": [
    "**prodDate_3Y, prodDate_5Y**\n",
    "\n",
    "- prodDate_3Y - признак, что автомобилю уже 3 года\n",
    "- prodDate_5Y - признак, что автомобилю уже 5 лет."
   ]
  },
  {
   "cell_type": "code",
   "execution_count": null,
   "metadata": {
    "scrolled": false
   },
   "outputs": [],
   "source": [
    "# Добавляем новые признаки\n",
    "#data['prodDate_3Y'] = data['productionDate']>=(current_year-3)\n",
    "#data['prodDate_5Y'] = (data['productionDate']>=current_year-5)&(data['productionDate']<current_year-3)\n",
    "\n",
    "data['prodDate_3Y'] = data.apply(prod_date_range, year_lim=3, axis=1)\n",
    "data['prodDate_5Y'] = data.apply(prod_date_range, year_lim=5, axis=1)"
   ]
  },
  {
   "cell_type": "code",
   "execution_count": null,
   "metadata": {
    "scrolled": false
   },
   "outputs": [],
   "source": [
    "# Проверяем результат\n",
    "data[['prodDate_3Y', 'prodDate_5Y',\n",
    "      'productionDate', 'parsing_date']].sample(3)"
   ]
  },
  {
   "cell_type": "code",
   "execution_count": null,
   "metadata": {
    "scrolled": false
   },
   "outputs": [],
   "source": [
    "# Добавляем новые признаки\n",
    "bin_cols.append('prodDate_3Y')\n",
    "bin_cols.append('prodDate_5Y')"
   ]
  },
  {
   "cell_type": "code",
   "execution_count": null,
   "metadata": {},
   "outputs": [],
   "source": [
    "bin_cols_new.append('prodDate_3Y')\n",
    "bin_cols_new.append('prodDate_5Y')"
   ]
  },
  {
   "cell_type": "markdown",
   "metadata": {},
   "source": [
    "**ownershipTimeIsNull**\n",
    "\n",
    "Создадим новый признак, который показывает, заполнено ли время владения авто:\n",
    "- 1 - не заполнено\n",
    "- 0 - заполнено."
   ]
  },
  {
   "cell_type": "code",
   "execution_count": null,
   "metadata": {
    "scrolled": false
   },
   "outputs": [],
   "source": [
    "# Создадим новый признак, что время владения не указано\n",
    "data['ownershipTimeIsNull'] = np.where(\n",
    "    data['ownershipTimeMonths'].isnull(), 1, 0)"
   ]
  },
  {
   "cell_type": "code",
   "execution_count": null,
   "metadata": {},
   "outputs": [],
   "source": [
    "# Добавляем новые признаки\n",
    "bin_cols.append('ownershipTimeIsNull')"
   ]
  },
  {
   "cell_type": "code",
   "execution_count": null,
   "metadata": {},
   "outputs": [],
   "source": [
    "bin_cols_new.append('ownershipTimeIsNull')"
   ]
  },
  {
   "cell_type": "markdown",
   "metadata": {},
   "source": [
    "**descriptionIsNull**\n",
    "\n",
    "Создадим новый признак, который показывает, заполнено ли описание авто:\n",
    "- 1 - не заполнено\n",
    "- 0 - заполнено."
   ]
  },
  {
   "cell_type": "code",
   "execution_count": null,
   "metadata": {
    "scrolled": false
   },
   "outputs": [],
   "source": [
    "# Создадим новый признак, что время владения не указано\n",
    "data['descriptionIsNull'] = np.where(data['description'].isnull(), 1, 0)"
   ]
  },
  {
   "cell_type": "code",
   "execution_count": null,
   "metadata": {},
   "outputs": [],
   "source": [
    "# Пример данных\n",
    "data[['descriptionIsNull', 'description']].sample(1)"
   ]
  },
  {
   "cell_type": "code",
   "execution_count": null,
   "metadata": {},
   "outputs": [],
   "source": [
    "# Добавляем новые признаки\n",
    "bin_cols.append('descriptionIsNull')"
   ]
  },
  {
   "cell_type": "code",
   "execution_count": null,
   "metadata": {},
   "outputs": [],
   "source": [
    "bin_cols_new.append('descriptionIsNull')"
   ]
  },
  {
   "cell_type": "markdown",
   "metadata": {},
   "source": [
    "**newCar**\n",
    "\n",
    "Признак для обозначения новых авто. Основной критери - пробег, равный 0:\n",
    "- 1 - новая машина\n",
    "- 0 - машина с пробегом."
   ]
  },
  {
   "cell_type": "code",
   "execution_count": null,
   "metadata": {},
   "outputs": [],
   "source": [
    "# Создадим новый признак\n",
    "data['newCar'] = data.apply(lambda x: 1 if x['mileage'] == 0 else 0, axis=1)"
   ]
  },
  {
   "cell_type": "code",
   "execution_count": null,
   "metadata": {},
   "outputs": [],
   "source": [
    "# Распределение признака\n",
    "data['newCar'].value_counts()"
   ]
  },
  {
   "cell_type": "code",
   "execution_count": null,
   "metadata": {},
   "outputs": [],
   "source": [
    "# Добавляем новые признаки\n",
    "bin_cols.append('newCar')"
   ]
  },
  {
   "cell_type": "code",
   "execution_count": null,
   "metadata": {},
   "outputs": [],
   "source": [
    "bin_cols_new.append('newCar')"
   ]
  },
  {
   "cell_type": "markdown",
   "metadata": {},
   "source": [
    "**brandPopular**\n",
    "- [x] флаг популярного авто: за ориентир взять значение data['brand'].value_counts() > data['brand'].value_counts().values.mean() или добавить соотношение кол-ва машин бренда к общему кол-ву объявлений\n",
    "- [ ] обычно на цену сильно влияет класс автомобиля (brand + bodyType) попробовать добавить признак с помощью метода главных компонент"
   ]
  },
  {
   "cell_type": "code",
   "execution_count": null,
   "metadata": {},
   "outputs": [],
   "source": [
    "# Создадим датафрейс со значениями количества аавтомобилей в выборке по маркам\n",
    "brand_df = pd.DataFrame(data['brand'].value_counts())\n",
    "# Среднее по всем значениям бренда\n",
    "mean_brand = data['brand'].value_counts().values.mean()\n",
    "# Добавляем признак во временный датафрейм\n",
    "brand_df['brandPopular'] = brand_df.brand.apply(\n",
    "    lambda x: 1 if x >= mean_brand else 0)\n",
    "# Удалим ненужный столбец\n",
    "brand_df.drop('brand', axis=1, inplace=True)\n",
    "# Создаем словарь популярности брендов\n",
    "dict_brand = brand_df.to_dict()['brandPopular']\n",
    "# Создаем новый признак\n",
    "data['brandPopular'] = data.brand.copy()\n",
    "data['brandPopular'].replace(to_replace=dict_brand, inplace=True)\n",
    "# Проверяем результат\n",
    "data[['brand', 'brandPopular']].sample(10)"
   ]
  },
  {
   "cell_type": "code",
   "execution_count": null,
   "metadata": {},
   "outputs": [],
   "source": [
    "# Добавляем новый признак\n",
    "bin_cols.append('brandPopular')\n",
    "bin_cols_new.append('brandPopular')"
   ]
  },
  {
   "cell_type": "markdown",
   "metadata": {},
   "source": [
    "**modelPopular**\n",
    "\n",
    "Добавить признак популярности модели. "
   ]
  },
  {
   "cell_type": "code",
   "execution_count": null,
   "metadata": {},
   "outputs": [],
   "source": [
    "model_dict = {}\n",
    "\n",
    "for item in data.brand.unique():\n",
    "    model_df = pd.DataFrame(data[data.brand == item]['model'].value_counts())\n",
    "    # Среднее по всем значениям моделей бренда\n",
    "    mean_model = data[data.brand == item]['model'].value_counts().values.mean()\n",
    "    # Добавляем признак во временный датафрейм\n",
    "    model_df['modelPopular'] = model_df.model.apply(\n",
    "        lambda x: 1 if x >= mean_model else 0)\n",
    "    # Удалим ненужный столбец\n",
    "    model_df.drop('model', axis=1, inplace=True)\n",
    "    # Создаем словарь популярности брендов\n",
    "    dict_model_per_brand = model_df.to_dict()['modelPopular']\n",
    "    model_dict.update(dict_model_per_brand)\n",
    "\n",
    "# Создаем новый признак\n",
    "data['modelPopular'] = data.model.copy()\n",
    "data['modelPopular'].replace(to_replace=model_dict, inplace=True)\n",
    "# Проверяем результат\n",
    "data[['model', 'modelPopular']].sample(10)"
   ]
  },
  {
   "cell_type": "code",
   "execution_count": null,
   "metadata": {},
   "outputs": [],
   "source": [
    "# Добавляем новый признак\n",
    "bin_cols.append('modelPopular')\n",
    "bin_cols_new.append('modelPopular')"
   ]
  },
  {
   "cell_type": "markdown",
   "metadata": {},
   "source": [
    "**colorPopular**\n",
    "\n",
    "Создадим признак популярного цвета авто. Популярным считаем цвет, который встречается чаще, чем среднее по всем значениям распределения цвета в выборке:\n",
    "- 1 - популярный цвет\n",
    "- 0 - непопулярный цвет."
   ]
  },
  {
   "cell_type": "code",
   "execution_count": null,
   "metadata": {},
   "outputs": [],
   "source": [
    "# Создадим отдельный датафрейм color_df со столбцами color, counts, colorPopularity\n",
    "color_df = pd.DataFrame(data['color'].value_counts()).reset_index()\n",
    "\n",
    "# Среднее по всем значениям цвета\n",
    "mean = color_df.color.mean()\n",
    "\n",
    "# Добавляем признак\n",
    "color_df['colorPopular'] = color_df.color.apply(lambda x: round(x/mean, 2))\n",
    "\n",
    "# Удаляем лишние колонки и переименовываем\n",
    "color_df.drop('color', axis=1, inplace=True)\n",
    "color_df.rename(columns={\"index\": \"color\"}, inplace=True)\n",
    "\n",
    "# Посмотрим на результат\n",
    "display(color_df)\n",
    "\n",
    "# Мержим с датасетом\n",
    "data = pd.merge(data, color_df, on=\"color\", how=\"left\")\n",
    "\n",
    "# Выведем на экран итоговые пример\n",
    "\n",
    "data[['color', 'colorPopular']].sample(5)"
   ]
  },
  {
   "cell_type": "code",
   "execution_count": null,
   "metadata": {},
   "outputs": [],
   "source": [
    "# Вариант не числового а бинарного кодирования популярности авто\n",
    "data['colorPopular'] = data['colorPopular'].apply(lambda x: 1 if x >= 1 else 0)"
   ]
  },
  {
   "cell_type": "markdown",
   "metadata": {},
   "source": [
    "Вариант бинарного кодирования оказал лучшее влияние на метрику качества, чем числовые знаения долей цвета автомобиля. Оставляем признак в бинарном виде."
   ]
  },
  {
   "cell_type": "code",
   "execution_count": null,
   "metadata": {},
   "outputs": [],
   "source": [
    "data[['color', 'colorPopular']].sample(5)"
   ]
  },
  {
   "cell_type": "code",
   "execution_count": null,
   "metadata": {},
   "outputs": [],
   "source": [
    "# Добавляем новый признак\n",
    "bin_cols.append('colorPopular')\n",
    "bin_cols_new.append('colorPopular')"
   ]
  },
  {
   "cell_type": "markdown",
   "metadata": {},
   "source": [
    "**description_words_count**\n",
    "\n",
    "Признак количества слов в описании."
   ]
  },
  {
   "cell_type": "code",
   "execution_count": null,
   "metadata": {},
   "outputs": [],
   "source": [
    "# Заполним пропуски\n",
    "data['description'] = data['description'].fillna('[]')\n",
    "# Создаем новый признак количества слов в описании\n",
    "data['description_words_count'] = data['description'].apply(\n",
    "    lambda x: len(x.split()))"
   ]
  },
  {
   "cell_type": "code",
   "execution_count": null,
   "metadata": {},
   "outputs": [],
   "source": [
    "# Добавляем новый признак\n",
    "num_cols.append('description_words_count')\n",
    "num_cols_new.append('description_words_count')"
   ]
  },
  {
   "cell_type": "markdown",
   "metadata": {},
   "source": [
    "**Посмотрим на распределение новых признаков**"
   ]
  },
  {
   "cell_type": "code",
   "execution_count": null,
   "metadata": {},
   "outputs": [],
   "source": [
    "\"\"\" \n",
    "print(\"Диаграмы распределения новых числовых признаков, взаимосвязь с целевой переменной\")\n",
    "\n",
    "fig, axes = plt.subplots(len(num_cols_new), 3, figsize=(30, 20))\n",
    "plt.subplots_adjust(wspace=0.5)\n",
    "axes = axes.flatten()\n",
    "i = 0\n",
    "\n",
    "for col in num_cols_new:\n",
    "    sns.distplot(data[col], ax=axes[i])\n",
    "    i = i + 1\n",
    "    sns.boxplot(data[col], ax=axes[i])\n",
    "    i = i + 1\n",
    "    sns.scatterplot(data=data[data['train'] == 1],\n",
    "                    x=col, y=\"price\", ax=axes[i])\n",
    "    i = i + 1\n",
    "\"\"\""
   ]
  },
  {
   "cell_type": "code",
   "execution_count": null,
   "metadata": {},
   "outputs": [],
   "source": [
    "# Посмотрим внимательно на графики еще раз\n",
    "for col in (bin_cols_new+cat_cols_new):\n",
    "    print(\"Графики для переменной \", col)\n",
    "    # analyze_cat_cols(col)\n",
    "    print(\"\\n\")"
   ]
  },
  {
   "cell_type": "markdown",
   "metadata": {},
   "source": [
    "Выводы:\n",
    "- у числовых признаков опять тяжелый правый хвост. Попробовать работу с выбросами и логарифмирование признаков.\n",
    "- визуально добавленные признаки статистически значимы и оказывают влияние на формирование цены. Проверим это на этапе отбора признаков."
   ]
  },
  {
   "cell_type": "markdown",
   "metadata": {},
   "source": [
    "### 3.10 Анализ и обработка выбросов\n",
    "\n",
    "Признаки проанализированы, новые признаки созданы.\n",
    "Проведем поиск, анализ и обработку выбросов для числовых и категориальных признаков. Бинарные признаки не смотрим, т.к. мы их анализировали ранее и в них содержатся допустимые значения [0, 1]."
   ]
  },
  {
   "cell_type": "code",
   "execution_count": null,
   "metadata": {
    "scrolled": false
   },
   "outputs": [],
   "source": [
    "# Проанализируем выбросы для категориальных и номинативных признаков\n",
    "print(\"Отчет о наличии выбросов в датасете.\\n\")\n",
    "for col in (num_cols + target_col):\n",
    "    print(\"\\nПризнак: \", col)\n",
    "    iqr_analysis(data[col])\n",
    "    print(\"-\" * 100)"
   ]
  },
  {
   "cell_type": "markdown",
   "metadata": {},
   "source": [
    "Посмотрим детальнее на признаки, где были найдены выбросы. Основная идея: сравнить мин/макс границы по test датасету и удалить лишние данные, если их объем не очень большой."
   ]
  },
  {
   "cell_type": "markdown",
   "metadata": {},
   "source": [
    "Оставляем выбросы по признакам modelDate, productionDate, carNovelty - выбросы оставляем, т.к. в test выборке были значения с раратитными авто, которые нужно предсказывать.\n",
    "\n",
    "По остальным выбросам проведем анализ и обработку."
   ]
  },
  {
   "cell_type": "markdown",
   "metadata": {},
   "source": [
    "**enginePower**\n",
    "\n",
    "_Границы выбросов: [-24.0, 352.0]._\n",
    "\n",
    "_Минимальное значение признака: 30.0. \n",
    "Максимальное значение признака: 639.0 ._\n",
    "\n",
    "_Найдены выбросы по верхней границе признака! Количество: 5633, 4.64%_"
   ]
  },
  {
   "cell_type": "code",
   "execution_count": null,
   "metadata": {},
   "outputs": [],
   "source": [
    "# Посмотрим на максимальные значения признака в test\n",
    "test.enginePower.max()"
   ]
  },
  {
   "cell_type": "code",
   "execution_count": null,
   "metadata": {},
   "outputs": [],
   "source": [
    "# Посмотрим на распределение выбросов\n",
    "fig, ax = plt.subplots(figsize=(10, 5))\n",
    "sns.histplot(data=data[(data.enginePower > 352)], x='enginePower', hue = 'train')\n",
    "plt.title(\"Распределение выбросов EnginePower в датасете \\n\")\n",
    "plt.show()"
   ]
  },
  {
   "cell_type": "code",
   "execution_count": null,
   "metadata": {},
   "outputs": [],
   "source": [
    "# Посмотрим на распределение выбросов\n",
    "fig, ax = plt.subplots(figsize=(10, 5))\n",
    "sns.regplot(data=data[(data.enginePower > 352) & (\n",
    "    data.train == 1)], x=\"enginePower\", y=\"price\")\n",
    "plt.title(\"Зависимость price от EnginePower в train на выбросах по EnginePower \\n\")\n",
    "plt.show()"
   ]
  },
  {
   "cell_type": "markdown",
   "metadata": {},
   "source": [
    "Вывод: \n",
    "- Выбросы по признаку представлены как в train, так и в test части. Удалять строки нельзя, т.к. необходимо строить предсказания по большим значениям enginePower\n",
    "- Цена варьтруется и увеличивается с увеличением мощности двигателя, заменять выбросы на другую величину не стоит\n",
    "- Можно попробовать логарифмировать переменную.\n",
    "\n",
    "Резюме: выбросы оставляем."
   ]
  },
  {
   "cell_type": "markdown",
   "metadata": {},
   "source": [
    "**mileage**\n",
    "\n",
    "_Границы выбросов: [-112500.0, 387500.0]._\n",
    "\n",
    "_Минимальное значение признака: 0.0. \n",
    "Максимальное значение признака: 1000000.0 ._\n",
    "\n",
    "_Найдены выбросы по верхней границе признака! Количество: 2559, 2.11%_"
   ]
  },
  {
   "cell_type": "code",
   "execution_count": null,
   "metadata": {},
   "outputs": [],
   "source": [
    "# Посмотрим на максимальные значения признака в test\n",
    "test.mileage.max()"
   ]
  },
  {
   "cell_type": "code",
   "execution_count": null,
   "metadata": {},
   "outputs": [],
   "source": [
    "# Посмотрим на распределение выбросов\n",
    "fig, ax = plt.subplots(figsize=(10, 5))\n",
    "sns.histplot(data=data[(data.mileage > 385000)], x='mileage', hue = 'train')\n",
    "plt.title(\"Распределение выбросов mileage в датасете \\n\")\n",
    "plt.show()"
   ]
  },
  {
   "cell_type": "code",
   "execution_count": null,
   "metadata": {},
   "outputs": [],
   "source": [
    "# Посмотрим на распределение выбросов\n",
    "fig, ax = plt.subplots(figsize=(10, 7))\n",
    "sns.regplot(data=data[(data.mileage > 385000) & (\n",
    "    data.train == 1)], x=\"mileage\", y=\"price\")\n",
    "plt.title(\"Зависимость price от mileage в train на выбросах по mileage \\n\")\n",
    "plt.show()"
   ]
  },
  {
   "cell_type": "markdown",
   "metadata": {},
   "source": [
    "Вывод: \n",
    "- Выбросы по признаку представлены как в train, так и в test части. Удалять строки нельзя, т.к. необходимо строить предсказания по большим значениям mileage\n",
    "- Цена варьтруется и снижается с увеличением пробега, но есть и увеличение цены на макимальных значениях пробега (раритетные авто?), заменять выбросы на другую величину не стоит\n",
    "- Можно попробовать логарифмировать переменную.\n",
    "\n",
    "Резюме: выбросы оставляем."
   ]
  },
  {
   "cell_type": "markdown",
   "metadata": {},
   "source": [
    "**engineDisplacement**\n",
    "\n",
    "Признак позднее исключается из анализа.\n",
    "\n",
    "_Границы выбросов: [0.2500000000000002, 3.8499999999999996]._\n",
    "\n",
    "_Минимальное значение признака: 0.0. \n",
    "Максимальное значение признака: 8.4._\n",
    "\n",
    "_Найдены выбросы по нижней границе признака! Количество: 2, 0.0%_\n",
    "\n",
    "_Найдены выбросы по верхней границе признака! Количество: 8407, 6.93%_"
   ]
  },
  {
   "cell_type": "code",
   "execution_count": null,
   "metadata": {},
   "outputs": [],
   "source": [
    "# Посмотрим на максимальные значения признака в test\n",
    "test.engineDisplacement.max()"
   ]
  },
  {
   "cell_type": "code",
   "execution_count": null,
   "metadata": {},
   "outputs": [],
   "source": [
    "# Посмотрим на минимальное значения признака в test\n",
    "test.engineDisplacement.min()"
   ]
  },
  {
   "cell_type": "code",
   "execution_count": null,
   "metadata": {},
   "outputs": [],
   "source": [
    "# Посмотрим на распределение выбросов\n",
    "fig, ax = plt.subplots(figsize=(10, 5))\n",
    "sns.histplot(data=data[(data.engineDisplacement > 3.85)], x='engineDisplacement', hue = 'train')\n",
    "plt.title(\"Распределение выбросов engineDisplacement в датасете \\n\")\n",
    "plt.show()"
   ]
  },
  {
   "cell_type": "code",
   "execution_count": null,
   "metadata": {},
   "outputs": [],
   "source": [
    "# Посмотрим на распределение выбросов\n",
    "fig, ax = plt.subplots(figsize=(10, 7))\n",
    "sns.regplot(data=data[(data.mileage > 3.85) & (\n",
    "    data.train == 1)], x=\"engineDisplacement\", y=\"price\")\n",
    "plt.title(\"Зависимость price от engineDisplacement в train на выбросах по engineDisplacement \\n\")\n",
    "plt.show()"
   ]
  },
  {
   "cell_type": "code",
   "execution_count": null,
   "metadata": {},
   "outputs": [],
   "source": [
    "# Посмотрим на записи, которые привышают максимальный порог test-а\n",
    "data[(data.engineDisplacement > 6.6)].describe()"
   ]
  },
  {
   "cell_type": "markdown",
   "metadata": {},
   "source": [
    "Вывод: \n",
    "- Выбросы по признаку представлены как в train, так и в test части. При этом пороговое (максимальное) значение в test ниже, чем граница выбросов.\n",
    "- Цена варьтруется и увеличивается с увеличением объема двигателя\n",
    "- Можно попробовать логарифмировать переменную.\n",
    "- Также можно попробовать обработать выбросы заменой в строках > 6.6 литров на максимальное значение из теста. Записи удалять не хочется, т.к. представлены старые автомобили.\n",
    "\n",
    "Резюме: заменяем значения в части выбросов."
   ]
  },
  {
   "cell_type": "code",
   "execution_count": null,
   "metadata": {},
   "outputs": [],
   "source": [
    "# Заменяем выбросы на максимальное значение признака в тесте\n",
    "#data.engineDisplacement = data.engineDisplacement.apply(lambda x: test.engineDisplacement.max(\n",
    "#) if x > test.engineDisplacement.max() else x)"
   ]
  },
  {
   "cell_type": "markdown",
   "metadata": {},
   "source": [
    "**description_words_count**\n",
    "\n",
    "_Границы выбросов: [-153.5, 314.5]._\n",
    "\n",
    "_Минимальное значение признака: 0._ \n",
    "_Максимальное значение признака: 4545._\n",
    "\n",
    "_Найдены выбросы по верхней границе признака! Количество: 11097, 9.13%_"
   ]
  },
  {
   "cell_type": "code",
   "execution_count": null,
   "metadata": {},
   "outputs": [],
   "source": [
    "# Посмотрим на распределение выбросов\n",
    "fig, ax = plt.subplots(figsize=(10, 5))\n",
    "sns.histplot(data=data[(data.description_words_count > 315)], x='description_words_count', hue = 'train')\n",
    "plt.title(\"Распределение выбросов description_words_count в датасете \\n\")\n",
    "plt.show()"
   ]
  },
  {
   "cell_type": "code",
   "execution_count": null,
   "metadata": {},
   "outputs": [],
   "source": [
    "# Посмотрим на распределение выбросов\n",
    "fig, ax = plt.subplots(figsize=(10, 7))\n",
    "sns.regplot(data=data[(data.description_words_count > 315) & (\n",
    "    data.train == 1)], x=\"description_words_count\", y=\"price\")\n",
    "plt.title(\"Зависимость price от engineDisplacement в train на выбросах по engineDisplacement \\n\")\n",
    "plt.show()"
   ]
  },
  {
   "cell_type": "markdown",
   "metadata": {},
   "source": [
    "Вывод: \n",
    "- Выбросы по признаку представлены как в train, так и в test части. \n",
    "- Выбросов после 2500 немного, но цена заметно увеличивается, поэтому пока оставим без изменений\n",
    "- Можно попробовать логарифмировать переменную.\n",
    "\n",
    "Резюме: выбросы пока оставляем."
   ]
  },
  {
   "cell_type": "markdown",
   "metadata": {},
   "source": [
    "**price**\n",
    "\n",
    "_Границы выбросов: [-1417500.0, 2362500.0]._\n",
    "\n",
    "_Минимальное значение признака: 0.0._ \n",
    "_Максимальное значение признака: 99000000.0._\n",
    "\n",
    "_Найдены выбросы по верхней границе признака! Количество: 11649, 9.59%_\n",
    "\n",
    "Проанализировать, но вообще, log значение выбросы не содержит, а мы его используем в моделях."
   ]
  },
  {
   "cell_type": "code",
   "execution_count": null,
   "metadata": {},
   "outputs": [],
   "source": [
    "# Посмотрим на распределение выбросов\n",
    "fig, ax = plt.subplots(figsize=(10, 5))\n",
    "sns.histplot(data=data[(data.price > 23362500)&(data.train == 1)], x='price')\n",
    "plt.title(\"Распределение выбросов price в датасете \\n\")\n",
    "plt.show()"
   ]
  },
  {
   "cell_type": "code",
   "execution_count": null,
   "metadata": {},
   "outputs": [],
   "source": [
    "data[(data.price > 23362500)&(data.train == 1)].describe(include=object)"
   ]
  },
  {
   "cell_type": "code",
   "execution_count": null,
   "metadata": {},
   "outputs": [],
   "source": [
    "# Посмотрим, какие машины имеют особо высокие цены\n",
    "data[(data.price > 23362500)&(data.train == 1)].groupby(['brand', 'model'])['price'].agg(['count', 'max'])\n",
    "# Добавим список моделей в список\n",
    "models_list = data[(data.price > 23362500)&(data.train == 1)].model.values"
   ]
  },
  {
   "cell_type": "code",
   "execution_count": null,
   "metadata": {},
   "outputs": [],
   "source": [
    "# Вспомним, сколько авто таких моделей присутствует в тесте\n",
    "data[(data.model.isin(models_list)) & (data.train == 0)].groupby(\n",
    "    ['brand', 'model'])['model'].count()"
   ]
  },
  {
   "cell_type": "markdown",
   "metadata": {},
   "source": [
    "Вывод: есть очень дорогие авто, которые представлены и в стестовой выборке.\n",
    "\n",
    "Самый дорогой автомобиль - PORSCHE\t918_SPYDER, бренд PORSCHE в тестовой выборке отсутствует, удалим этот выброс."
   ]
  },
  {
   "cell_type": "code",
   "execution_count": null,
   "metadata": {},
   "outputs": [],
   "source": [
    "# Удаляем строку\n",
    "#data.drop([data[data.model == '918_SPYDER'].index[0]], inplace=True)"
   ]
  },
  {
   "cell_type": "markdown",
   "metadata": {},
   "source": [
    "**Логарифмирование числовых признаков**\n",
    "\n",
    "Поскольку многие числовые переменные имеют смещенное распределение влево/вправо попробуем логарифмировать часть признаков."
   ]
  },
  {
   "cell_type": "code",
   "execution_count": null,
   "metadata": {},
   "outputs": [],
   "source": [
    "cols_to_log = ['enginePower', 'mileage', 'engineDisplacement', 'description_words_count']\n",
    "# Применим логарифмирование ко всем числовым признакам\n",
    "for col in cols_to_log:\n",
    "    data[col] = data[col].apply(lambda w: np.log(w+1))"
   ]
  },
  {
   "cell_type": "code",
   "execution_count": null,
   "metadata": {},
   "outputs": [],
   "source": [
    "\"\"\"\n",
    "# Посмотрим, как изменилось распределение\n",
    "print(\"Диаграмы распределения числовых признаков после логарифмирования.\")\n",
    "fig, axes = plt.subplots(len(cols_to_log), figsize=(10, 15))\n",
    "axes = axes.flatten()\n",
    "i = 0\n",
    "\n",
    "for col in cols_to_log:\n",
    "    sns.distplot(data[col], ax=axes[i])\n",
    "    plt.title(col)\n",
    "    i = i + 1\n",
    "\"\"\""
   ]
  },
  {
   "cell_type": "markdown",
   "metadata": {},
   "source": [
    "Вывод: логарифмирование позволило привести признаки к более нормальному распределению. Оставим в таком виде."
   ]
  },
  {
   "cell_type": "markdown",
   "metadata": {},
   "source": [
    "### 3.11 Отбор признаков для моделирования\n",
    "\n",
    "#### Корреляционный анализ числовых признаков"
   ]
  },
  {
   "cell_type": "code",
   "execution_count": null,
   "metadata": {
    "scrolled": false
   },
   "outputs": [],
   "source": [
    "# Построим матрицу корреляций\n",
    "plt.figure(figsize=(6, 4))\n",
    "heatmap = sns.heatmap(data[data['train'] == 1][num_cols +\n",
    "                                               target_col].corr(), vmin=-1, vmax=1, annot=True, cmap='BrBG')\n",
    "heatmap.set_title('Матрица корреляций')\n",
    "plt.show()"
   ]
  },
  {
   "cell_type": "code",
   "execution_count": null,
   "metadata": {},
   "outputs": [],
   "source": [
    "# Подсветим те значения, где коэффициент корреляции больше заданного порога\n",
    "plt.figure(figsize=(6, 4))\n",
    "heatmap = sns.heatmap(abs(data[data['train'] == 1][num_cols].corr(\n",
    ")) > 0.8, vmin=-1, vmax=1, annot=True, cmap='BrBG')\n",
    "heatmap.set_title('Матрица корреляций, где значение корреляция > 0.8')\n",
    "plt.show()"
   ]
  },
  {
   "cell_type": "markdown",
   "metadata": {},
   "source": [
    "Сформируем список признаков, которые коллинеарны. Для этого выставим критерий наличия корреляции больше 0.8 или -0.8."
   ]
  },
  {
   "cell_type": "code",
   "execution_count": null,
   "metadata": {},
   "outputs": [],
   "source": [
    "# Сформируем сет со скоррелированными признаками\n",
    "correlated_features = set()\n",
    "\n",
    "# Удаляем целевые и служебные переменные из матрицы коррелиций, тк корреляция с ней, - хорошо для модели\n",
    "correlation_matrix = data[data['train'] == 1][num_cols].corr()\n",
    "\n",
    "for i in range(len(correlation_matrix.columns)):\n",
    "    for j in range(i):\n",
    "        if abs(correlation_matrix.iloc[i, j]) > 0.8:\n",
    "            colname = correlation_matrix.columns[j]\n",
    "            correlated_features.add(colname)\n",
    "\n",
    "print('Список скоррелированных признаков на удаление из обучения модели:',\n",
    "      correlated_features)"
   ]
  },
  {
   "cell_type": "markdown",
   "metadata": {},
   "source": [
    "Вывод: найдены сильно скоррелированные признаки, но мы это уже видели во время анализа ранее и добавили признаки в список на исключение."
   ]
  },
  {
   "cell_type": "markdown",
   "metadata": {},
   "source": [
    "#### Удаление признаков перед моделированием"
   ]
  },
  {
   "cell_type": "code",
   "execution_count": null,
   "metadata": {
    "scrolled": false
   },
   "outputs": [],
   "source": [
    "# Удаляем признаки из датасета, которые решили удалить по ходу анализа\n",
    "data.drop(cols_removal, axis=1, inplace=True)"
   ]
  },
  {
   "cell_type": "code",
   "execution_count": null,
   "metadata": {},
   "outputs": [],
   "source": [
    "# Смотрим, какие признаки остались\n",
    "print(\"После обработки остались следующие признаки:\", data.columns)"
   ]
  },
  {
   "cell_type": "markdown",
   "metadata": {},
   "source": [
    "**Кодирование категориальных признаков**"
   ]
  },
  {
   "cell_type": "markdown",
   "metadata": {},
   "source": [
    "Основная логика выбора способа кодирования:\n",
    "- если у признака есть какая-то зависимость от порядкового номера категории или какая-то количественно выраженная разница между категориями, то используем label encodeing \n",
    "- если такого свойства нет и в списке большое количество значений, то пробуем one-hot-encoding."
   ]
  },
  {
   "cell_type": "code",
   "execution_count": null,
   "metadata": {},
   "outputs": [],
   "source": [
    "# Выведем список всех категориальных признаков и количество уникальных значений после всех оброаботок\n",
    "data[list(set(data.columns) & set(cat_cols))].nunique()"
   ]
  },
  {
   "cell_type": "code",
   "execution_count": null,
   "metadata": {},
   "outputs": [],
   "source": [
    "# Попробуем закодировать следующие признаки через label encoding, т.к. они порядковые и немногочисленные\n",
    "labels_col = ['ownersCount', 'numberOfDoors']"
   ]
  },
  {
   "cell_type": "code",
   "execution_count": null,
   "metadata": {},
   "outputs": [],
   "source": [
    "# Попробуем закодировать следующие признаки через one hot encoding, т.к. они многочисленные и в них отсутсвует четкий порядок"
   ]
  },
  {
   "cell_type": "code",
   "execution_count": null,
   "metadata": {},
   "outputs": [],
   "source": [
    "one_hot_cols = ['fuelType', 'color', 'model', 'drivetrain',\n",
    "               'vendor', 'brand', 'vehicleTransmission', 'bodyType', 'rarity']"
   ]
  },
  {
   "cell_type": "markdown",
   "metadata": {
    "papermill": {
     "duration": 0.033657,
     "end_time": "2020-10-26T12:47:03.29162",
     "exception": false,
     "start_time": "2020-10-26T12:47:03.257963",
     "status": "completed"
    },
    "tags": []
   },
   "source": [
    "#### Label Encoding"
   ]
  },
  {
   "cell_type": "code",
   "execution_count": null,
   "metadata": {
    "papermill": {
     "duration": 0.10809,
     "end_time": "2020-10-26T12:47:03.549533",
     "exception": false,
     "start_time": "2020-10-26T12:47:03.441443",
     "status": "completed"
    },
    "scrolled": false,
    "tags": []
   },
   "outputs": [],
   "source": [
    "# Labels encoding for all\n",
    "#cols_to_encode = list(set(data.columns) & set(cat_cols))\n",
    "#for colum in cols_to_encode:\n",
    "#    data[colum] = data[colum].astype('category').cat.codes"
   ]
  },
  {
   "cell_type": "code",
   "execution_count": null,
   "metadata": {},
   "outputs": [],
   "source": [
    "# Labels encoding for chosen set\n",
    "cols_to_encode_lab = labels_col\n",
    "for colum in cols_to_encode_lab:\n",
    "    data[colum] = data[colum].astype('category').cat.codes"
   ]
  },
  {
   "cell_type": "markdown",
   "metadata": {},
   "source": [
    "**One-Hot Encoding**"
   ]
  },
  {
   "cell_type": "code",
   "execution_count": null,
   "metadata": {
    "scrolled": false
   },
   "outputs": [],
   "source": [
    "# Попробуем OneHotEncoder для кодирования категориальных признаков\n",
    "cols_to_encode = one_hot_cols\n",
    "\n",
    "ohe = OneHotEncoder(sparse=False)\n",
    "\n",
    "for col in cols_to_encode:\n",
    "    df_one = pd.DataFrame(ohe.fit_transform(data[[col]]))\n",
    "    df_one.columns = ohe.get_feature_names([f'hot_{col}'])\n",
    "    data = data.drop(col, axis=1)  # удаляем колонку, которую кодировали\n",
    "    data = pd.concat([data.reset_index(drop=True), df_one.reset_index(drop=True)], axis=1)"
   ]
  },
  {
   "cell_type": "markdown",
   "metadata": {
    "scrolled": false
   },
   "source": [
    "####  Поиск статистически значимых различий с помощью теста Стьюдента\n",
    "\n",
    "Проверим, есть ли статистическая разница в распределении цен по категориальным и бинарным признакам, с помощью теста Стьюдента. Проверим нулевую гипотезу о том, что распределения цен по различным параметрам неразличимы."
   ]
  },
  {
   "cell_type": "code",
   "execution_count": null,
   "metadata": {},
   "outputs": [],
   "source": [
    "\"\"\"\n",
    "# Создадим список с колонками, которые удалим из данных ввиду их статистической незначимости\n",
    "cat_cols_remove = []\n",
    "\n",
    "# Проходим по колонкам, которые исключали из корреляционного анализа\n",
    "for column in (list(set(data.columns).difference(num_cols+service_cols+target_col+labels_col))):\n",
    "    #print(\"\\n\\nПроверяется колонка:\", column)\n",
    "    cat_cols_remove.append(get_stat_dif(column))\n",
    "\"\"\""
   ]
  },
  {
   "cell_type": "markdown",
   "metadata": {},
   "source": [
    "Вывод: присутсвуют признаки, для которых, не все значения категорий влияют на целевую переменную, такие признаки можно удалить."
   ]
  },
  {
   "cell_type": "code",
   "execution_count": null,
   "metadata": {},
   "outputs": [],
   "source": [
    "#print(cat_cols_remove)"
   ]
  },
  {
   "cell_type": "code",
   "execution_count": null,
   "metadata": {},
   "outputs": [],
   "source": [
    "#for item in cat_cols_remove:\n",
    "#    if item == None:\n",
    "#        cat_cols_remove.remove(item)"
   ]
  },
  {
   "cell_type": "code",
   "execution_count": null,
   "metadata": {},
   "outputs": [],
   "source": [
    "cat_cols_remove = ['hot_model_BT_50', 'hot_model_BASSARA', 'hot_model_TIGGO_4', 'hot_model_607', 'hot_model_VELLFIRE', 'hot_model_Fit', 'hot_model_FAIRLADY_Z', 'hot_model_AVALON', 'hot_model_CIRRUS', 'hot_model_JUKE_NISMO', 'hot_model_SILVIA', 'hot_model_S5', 'hot_model_BB', 'hot_model_QX4', 'hot_model_COOLBEAR', 'hot_model_TIGRA', 'hot_model_ARISTO', 'hot_model_Pathfinder', 'hot_model_CLIO_RS', 'hot_model_Crown', 'hot_model_AXELA', 'hot_model_NITRO', 'hot_model_DURANGO', 'hot_model_SOLIO', 'hot_model_I10', 'hot_model_TAUNUS', 'hot_model_STINGER', 'hot_model_NADIA', 'hot_model_106', 'hot_model_CLARUS', 'hot_model_SIMPLEX', 'hot_model_4RUNNER', 'hot_model_Note', 'hot_model_DS3', 'hot_model_Navara (Frontier)', 'hot_model_CEED_GT', 'hot_model_CAPRICE', 'hot_model_Accord', 'hot_model_PROCEED_MARVIE', 'hot_model_300_LETTER_SERIES', 'hot_model_KALOS', 'hot_model_ROOMY', 'hot_model_GS', 'hot_model_PAJERO_MINI', 'hot_model_FORENZA', 'hot_model_CROWN_VICTORIA', 'hot_model_PRESEA', 'hot_model_FREDA', 'hot_model_EQUINOX', 'hot_model_A-Класс', 'hot_model_ATOS', 'hot_model_FIESTA_ST', 'hot_model_PATROL', 'hot_model_SC', 'hot_model_918_SPYDER', 'hot_model_INTEGRA', 'hot_model_V40_CC', 'hot_model_PAO', 'hot_model_HARRIER', 'hot_model_QX56', 'hot_model_VANETTE', 'hot_model_WINGLE_UP', 'hot_model_02', 'hot_model_C6', 'hot_model_Presage', 'hot_model_Auris', 'hot_model_MEGANE_RS', 'hot_model_DINGO', 'hot_model_INSPIRE', 'hot_model_QUEST', 'hot_model_I_MIEV', 'hot_model_SAMURAI', 'hot_model_B_KLASSE', 'hot_model_760', 'hot_model_S4', 'hot_model_CAPELLA', 'hot_model_STREAM', 'hot_model_Ipsum', 'hot_model_MARCH', 'hot_model_FORESTER', 'hot_model_MISTRAL', 'hot_model_Passo', 'hot_model_AGILA', 'hot_model_EMGRAND_7', 'hot_model_FTO', 'hot_model_Tiida', 'hot_model_BONUS_3', 'hot_model_X3_M', 'hot_model_121', 'hot_model_CEDRIC', 'hot_model_QUORIS', 'hot_model_CORSA_OPC', 'hot_model_GRANDEUR', 'hot_model_IMPREZA_WRX_STI', 'hot_model_PASSO', 'hot_model_SLK_KLASSE_AMG', 'hot_model_Pajero Sport', 'hot_model_140', 'hot_model_COROLLA_II', 'hot_model_SIGNUM', 'hot_model_BX', 'hot_model_Karoq', 'hot_model_V8', 'hot_model_DS5', 'hot_model_QASHQAI_PLUS_2', 'hot_model_Sentra', 'hot_model_DAMAS', 'hot_model_VERSO_S', 'hot_model_20', 'hot_model_300C', 'hot_model_Cefiro', 'hot_model_SLC_KLASSE', 'hot_model_CROWN_MAJESTA', 'hot_model_N_WGN', 'hot_bodyType_фастбек', 'hot_model_WINDOM', 'hot_model_TRACKER', 'hot_model_CALIFORNIA', 'hot_model_Carina E', 'hot_model_ATLAS', 'hot_model_STEPWAGON', 'hot_model_RODIUS', 'hot_model_AYGO', 'hot_model_EUNOS_100', 'hot_model_90', 'hot_model_NAVARA', 'hot_model_CORRADO', 'hot_model_FAMILIA', 'hot_model_FIT', 'hot_model_944', 'hot_model_ISTANA', 'hot_model_VITARA', 'hot_model_LAFESTA', 'hot_model_TARO', 'hot_model_LIBETY_NA', 'hot_model_HIACE', 'hot_model_Rasheen', 'hot_model_XG', 'hot_model_PREMIO', 'hot_model_W114', 'hot_model_FREESTYLE', 'hot_model_XSARA', 'hot_model_PERI', 'hot_model_SPARKY', 'hot_model_OTTI', 'hot_model_ALMERA_TINO', 'hot_model_I30_N', 'hot_model_ORION', 'hot_model_GLB', 'hot_model_180SX', 'hot_model_AIRTREK', 'hot_model_RAFAGA', 'hot_model_Q30', 'hot_model_FLORID', 'hot_model_X4_M', 'hot_model_COWRY', 'hot_model_SAMBAR', 'hot_model_LOGO', 'hot_model_920', 'hot_model_HOVER_M4', 'hot_model_Teana', 'hot_model_REGIUS', 'hot_model_DEER', 'hot_model_VERISA', 'hot_model_EXPLORER_SPORT_TRAC', 'hot_model_LITE_ACE', 'hot_model_Amarok', 'hot_model_HOVER_M2', 'hot_model_TACOMA', 'hot_model_Odyssey', 'hot_model_C-HR', 'hot_model_SCIROCCO', 'hot_model_MAGNUM', 'hot_model_EDIX', 'hot_model_TIGGO_7', 'hot_model_100_SERIES', 'hot_model_MOBILIO', 'hot_model_4007', 'hot_model_RX_7', 'hot_model_CORONA_EXIV', 'hot_model_MOCO', 'hot_model_ACTY', 'hot_model_RIDGELINE', 'hot_model_KLUGER', 'hot_model_SSR', 'hot_model_AIRWAVE', 'hot_model_LANCER_EVOLUTION', 'hot_model_RENO', 'hot_model_AQUA', 'hot_model_TYPE_3', 'hot_model_Civic', 'hot_model_Vitz', 'hot_model_ELEMENT', 'hot_model_VIPER', 'hot_model_March', 'hot_model_TTS', 'hot_model_HUSTLER', 'hot_model_NP300', 'hot_model_XEDOS_9', 'hot_model_ORIENTAL_SON', 'hot_model_BIANTE', 'hot_fuelType_газ', 'hot_model_CLUBMAN', 'hot_model_FREED', 'hot_model_RSQ3', 'hot_model_HATCH', 'hot_model_Galant', 'hot_model_SEDONA', 'hot_model_Touran', 'hot_model_301', 'hot_model_RS3', 'hot_model_NOAH', 'hot_model_I3', 'hot_model_DS4', 'hot_model_MARK_X', 'hot_model_Passat', 'hot_model_G-Класс', 'hot_model_PRAIRIE', 'hot_model_JUMPY', 'hot_model_Tiguan', 'hot_model_MX_6', 'hot_model_Bora', 'hot_model_POPULAR', 'hot_model_SIDEKICK', 'hot_model_K5_BLAZER', 'hot_model_GLORIA', 'hot_model_V40', 'hot_model_STARLET', 'hot_model_SIENTA', 'hot_model_LANTRA', 'hot_model_N_BOX', 'hot_model_Eclipse Cross', 'hot_model_PASEO', 'hot_model_CAYMAN_GT4', 'hot_model_X_TRAIL', 'hot_model_DS', 'hot_model_CAMRY', 'hot_model_XEDOS_6', 'hot_model_URVAN', 'hot_model_COMMANDER', 'hot_model_RETONA', 'hot_model_HILUX_SURF', 'hot_model_VOLT', 'hot_model_PREMACY', 'hot_model_Z3M', 'hot_model_ARTEON', 'hot_model_Patrol', 'hot_model_PRIMASTAR', 'hot_model_ARKANA', 'hot_model_PRESIDENT', 'hot_model_Golf', 'hot_model_AVANCIER', 'hot_model_C70', 'hot_model_NEMO', 'hot_model_280ZX', 'hot_model_WISH', 'hot_model_CARINA_ED', 'hot_model_CIVIC_TYPE_R', 'hot_model_MOBILIO_SPIKE', 'hot_model_1007', 'hot_model_PROBE', 'hot_model_6 серии', 'hot_model_ASTRO', 'hot_model_DOKKER', 'hot_model_ORIGIN', 'hot_model_Montero', 'hot_model_ALERO', 'hot_model_CHARIOT', 'hot_model_LHS', 'hot_model_CORSICA', 'hot_model_TERRANO_REGULUS', 'hot_model_TOWN_AND_COUNTRY', 'hot_model_ODYSSEY', 'hot_model_GRANDLAND_X', 'hot_model_CROSSTOUR', 'hot_model_H200', 'hot_model_DUET', 'hot_model_STAGEA', 'hot_model_MUSSO', 'hot_model_BREVIS', 'hot_model_TICO', 'hot_model_PRIUSPLUS', 'hot_model_GL-Класс', 'hot_model_LUMINA', 'hot_model_806', 'hot_model_MR_S', 'hot_model_KAROQ', 'hot_model_CAMI', 'hot_model_CITAN', 'hot_model_PRESAGE', 'hot_model_TINO', 'hot_model_VISION', 'hot_model_KORANDO_SPORTS', 'hot_model_SUCCEED', 'hot_model_CATERA', 'hot_model_Caddy', 'hot_model_FUGA', 'hot_model_S7', 'hot_model_GC6', 'hot_model_LANCER_RALLIART', 'hot_model_Lancer', 'hot_model_GAIA', 'hot_model_C-Класс', 'hot_model_TIGGO_2', 'hot_model_200SX', 'hot_model_Pilot', 'hot_model_CX_3', 'hot_model_CAROL', 'hot_model_S_TYPE', 'hot_model_S70', 'hot_model_PASSPORT', 'hot_model_YARIS_VERSO', 'hot_model_BEETLE', 'hot_model_TUCSON', 'hot_model_RC_F', 'hot_model_FABIA_RS', 'hot_model_LUPO', 'hot_model_AERIO', 'hot_model_S6', 'hot_model_EX', 'hot_model_OUTLANDER', 'hot_model_XJS', 'hot_model_XV', 'hot_model_C30', 'hot_model_R2', 'hot_model_Transporter', 'hot_model_L400', 'hot_model_SPACE_GEAR', 'hot_model_REGIUSACE', 'hot_model_DELICA_D2', 'hot_model_VIGOR', 'hot_model_MX_5', 'hot_model_VERNA', 'hot_model_605', 'hot_model_VOXY', 'hot_model_100NX', 'hot_model_SC7', 'hot_model_RC', 'hot_model_VERSO', 'hot_model_OLYMPIA', 'hot_model_IST', 'hot_model_COROLLA_VERSO', 'hot_model_Z3', 'hot_model_C_KLASSE', 'hot_model_GLC Coupe', 'hot_model_FR_V', 'hot_model_ALLEX', 'hot_model_PRELUDE', 'hot_model_LASER', 'hot_model_PRIDE', 'hot_model_928', 'hot_model_BRZ', 'hot_model_CARNIVAL', 'hot_model_Legend', 'hot_model_508', 'hot_model_CONCORDE', 'hot_model_Eos', 'hot_model_XFR', 'hot_model_MALIBU', 'hot_model_AUTOZAM_AZ3', 'hot_model_RACTIS', 'hot_model_Fabia', 'hot_model_FOCUS_NA', 'hot_model_KIX', 'hot_model_TIGGO_5', 'hot_model_QQ', 'hot_model_C3_AIRCROSS', 'hot_model_HS', 'hot_model_AVANTE', 'hot_model_Camry', 'hot_model_440', 'hot_model_CHARGER', 'hot_model_MR2', 'hot_model_CHAIRMAN', 'hot_model_K3', 'hot_model_RVR', 'hot_model_CAMRY_SOLARA', 'hot_model_SERIES_III', 'hot_model_ECHO', 'hot_model_M_KLASSE_AMG', 'hot_model_CITY', 'hot_model_A1', 'hot_model_SANTAMO', 'hot_model_5', 'hot_model_DAYZ', 'hot_model_WAGON_R_PLUS', 'hot_model_RANGER', 'hot_model_EMGRAND_GT', 'hot_model_LANCER_CARGO', 'hot_model_FAVORIT', 'hot_model_ELGRAND', 'hot_model_3008', 'hot_model_Primera', 'hot_model_C_CROSSER', 'hot_model_KIZASHI', 'hot_model_C2', 'hot_model_924', 'hot_model_CL_KLASSE', 'hot_model_Corolla Verso', 'hot_model_SOARER', 'hot_model_VIANO', 'hot_model_STAVIC', 'hot_model_CRETA', 'hot_model_DION', 'hot_model_Murano', 'hot_model_DAKOTA', 'hot_model_RCZ', 'hot_model_JAZZ', 'hot_model_TOURNEO_CUSTOM', 'hot_model_PATRIOT', 'hot_model_350Z', 'hot_model_GRAND_CHEROKEE', 'hot_model_R1', 'hot_model_CAVALIER', 'hot_model_326', 'hot_model_EXPEDITION', 'hot_model_VECTRA_OPC', 'hot_model_Q60', 'hot_model_GLA_CLASS_AMG', 'hot_model_Vezel', 'hot_model_GLK-Класс', 'hot_model_Superb', 'hot_model_LEGACY_LANCASTER', 'hot_model_Serena', 'hot_model_ESQUIRE', 'hot_model_SPADE', 'hot_model_Qashqai', 'hot_model_SLK_KLASSE', 'hot_model_Sprinter Trueno', 'hot_model_JOURNEY', 'hot_model_Terrano', 'hot_model_K900', 'hot_model_N_ONE', 'hot_model_Outlander', 'hot_model_IPSUM', 'hot_model_GRAND_HIACE', 'hot_model_PACIFICA', 'hot_model_G', 'hot_model_Hilux', 'hot_model_ARMADA', 'hot_model_IS', 'hot_model_QASHQAI', 'hot_model_CALIBRA', 'hot_color_оранжевый', 'hot_model_Vito', 'hot_model_STELLA', 'hot_model_SVX', 'hot_model_AVALANCHE', 'hot_model_S2000', 'hot_model_FJ_CRUISER', 'hot_model_SEVILLE', 'hot_model_MONZA', 'hot_model_LEGEND', 'hot_model_LEAF', 'hot_model_BLUEBIRD', 'hot_model_VEL_SATIS', 'hot_model_ODYSSEY_NA', 'hot_model_M3', 'hot_model_MINICAB', 'hot_model_L200', 'hot_model_STS', 'hot_model_FUNCARGO', 'hot_model_TAURUS', 'hot_model_XJ', 'hot_model_NEW_YORKER', 'hot_model_M-Класс', 'hot_model_ORTHIA', 'hot_model_WRX_STI', 'hot_model_DATSUN', 'hot_model_Q', 'hot_model_A2', 'hot_model_TUSCANI', 'hot_model_IGNIS', 'hot_model_300M', 'hot_model_LANTIS', 'hot_model_PILOT', 'hot_model_ATS', 'hot_model_MARK_X_ZIO', 'hot_model_BLADE', 'hot_model_DISCOVERY', 'hot_model_CR_X', 'hot_model_Juke', 'hot_model_VITA', 'hot_model_RAV4', 'hot_model_RS5', 'hot_model_300ZX', 'hot_model_DART', 'hot_model_VENZA', 'hot_model_JOICE', 'hot_model_ECONOLINE', 'hot_model_ESPACE', 'hot_model_LE_BARON', 'hot_model_Corolla', 'hot_model_CT', 'hot_model_FUSION_NA', 'hot_model_MAGNUS', 'hot_model_TWINGO', 'hot_model_Rapid', 'hot_model_ECOSPORT', 'hot_model_Jetta', 'hot_model_LATITUDE', 'hot_model_JX', 'hot_model_CROSSROAD', 'hot_model_TRAVIQ', 'hot_model_XF', 'hot_model_4008', 'hot_model_AVENSIS_VERSO', 'hot_model_CELSIOR', 'hot_model_Pajero', 'hot_model_Z', 'hot_color_серый', 'hot_model_WILL_CYPHA', 'hot_model_SQ5', 'hot_model_CROSS_EASTAR', 'hot_model_XJR', 'hot_model_CLK-Класс', 'hot_model_LIBERO', 'hot_model_IQ', 'hot_model_RAIDER', 'hot_model_ZX', 'hot_model_306', 'hot_model_Passat CC', 'hot_model_WINDSTORM', 'hot_model_SELTOS', 'hot_model_V60', 'hot_model_RS 5', 'hot_model_KAPTUR', 'hot_model_COUGAR', 'hot_model_XK', 'hot_model_SABER', 'hot_model_PROGRES', 'hot_model_VEROSSA', 'hot_model_OCTAVIA_RS', 'hot_model_PORTE', 'hot_model_S3', 'hot_model_Yeti', 'hot_model_A5', 'hot_model_TYPE_2', 'hot_model_CRUZE_HR', 'hot_model_SIENNA', 'hot_model_FLEETWOOD', 'hot_model_2GRANDTOURER', 'hot_model_CADDY', 'hot_model_CTS_V', 'hot_model_EVANDA', 'hot_model_DOMINGO', 'hot_model_MURANO', 'hot_model_WAGON_R', 'hot_model_XANTIA', 'hot_model_EVERY', 'hot_model_ASCOT', 'hot_model_968', 'hot_model_I', 'hot_model_PROTEGE', 'hot_model_PROBOX', 'hot_model_COROLLA_RUMION', 'hot_model_2ACTIVETOURER', 'hot_model_W110', 'hot_model_GOLF_R', 'hot_model_VENTURE', 'hot_model_ELYSION', 'hot_model_SAFARI', 'hot_model_2 серии Gran Tourer', 'hot_model_CLC_KLASSE', 'hot_model_QX30', 'hot_model_Bluebird', 'hot_model_CR_Z', 'hot_model_PEGASUS', 'hot_model_BRONCO', 'hot_model_ASPIRE', 'hot_model_CAYMAN', 'hot_model_OPTIMA', 'hot_model_AVENIR', 'hot_model_W189', 'hot_model_VELOSTER', 'hot_model_RAY', 'hot_model_B_SERIES', 'hot_model_TRAJET', 'hot_model_CLA', 'hot_model_203', 'hot_model_AVANTIME', 'hot_model_6_MPS', 'hot_model_EXCURSION', 'hot_model_RAUM', 'hot_model_MONTE_CARLO', 'hot_model_S_MX', 'hot_model_ADMIRAL', 'hot_model_PICNIC', 'hot_model_JUSTY', 'hot_model_CONTOUR', 'hot_model_DOMANI', 'hot_model_SPLASH', 'hot_model_VIVA', 'hot_model_DIAMANTE', 'hot_model_GLA', 'hot_model_KA', 'hot_model_LARGO', 'hot_model_GOLF_GTI', 'hot_model_SPRINTER_MARINO', 'hot_model_SLC_KLASSE_AMG', 'hot_model_LAUREL', 'hot_model_EFINI_MS_8', 'hot_model_CONCERTO', 'hot_model_405', 'hot_model_CLIPPER_RIO', 'hot_model_PLATZ', 'hot_model_ALTIMA', 'hot_model_CROSSFIRE', 'hot_model_Jeep J', 'hot_model_CR-V', 'hot_model_KORANDO', 'hot_model_EUROVAN', 'hot_model_RS4', 'hot_model_TERCEL', 'hot_model_GRANVIA', 'hot_color_синий', 'hot_model_ZEST', 'hot_model_205', 'hot_model_KOLEOS', 'hot_rarity_Class A (Ancestor)', 'hot_model_Q50', 'hot_model_LIFE', 'hot_model_E3', 'hot_model_ZEPHYR', 'hot_model_200', 'hot_model_HIGHLANDER', 'hot_model_Prius', 'hot_model_ISIS', 'hot_model_XCEED', 'hot_model_AD', 'hot_model_SPRINTER_TRUENO', 'hot_model_LUMINA_APV', 'hot_model_MEGA_CRUISER', 'hot_model_Pajero iO', 'hot_model_CIVIC_FERIO', 'hot_model_SAFRANE', 'hot_model_LM', 'hot_model_COROLLA_LEVIN', 'hot_model_MODUS', 'hot_model_DAYZ_ROOX', 'hot_model_C4_AIRCROSS', 'hot_model_GOLF_R32', 'hot_model_VAN', 'hot_model_GLC', 'hot_model_Avensis', 'hot_model_V70', 'hot_model_WILL', 'hot_model_VANGUARD', 'hot_model_GT', 'hot_model_ASTRA_OPC', 'hot_model_1 серии', 'hot_model_GENESIS', 'hot_model_SARATOGA', 'hot_model_SCEPTER_SEDAN', 'hot_model_Z4', 'hot_model_ENDEAVOR', 'hot_model_EXPERT', 'hot_model_TITAN', 'hot_model_FOCUS_ST', 'hot_model_340', 'hot_model_PACEMAN', 'hot_model_SPACE_RUNNER', 'hot_model_2008', 'hot_model_FESTIVA', 'hot_model_H_1_STAREX', 'hot_model_CYNOS', 'hot_model_Polo', 'hot_model_EOS', 'hot_model_Z1', 'hot_model_CHEROKEE', 'hot_model_Stepwgn', 'hot_model_MASTER_ACE_SURF', 'hot_model_MINICA', 'hot_model_NV200', 'hot_model_VERY', 'hot_model_CLIPPER', 'hot_model_CULTUS', 'hot_model_C8', 'hot_model_PULSAR', 'hot_model_CURREN', 'hot_model_MONDEO_ST', 'hot_model_GRANADA', 'hot_model_CTS', 'hot_model_TT_RS', 'hot_model_ZAFIRA_OPC', 'hot_model_GLK_KLASSE', 'hot_model_2 серии', 'hot_model_DELICA_D_5', 'hot_model_HOVERH6', 'hot_model_VENTO', 'hot_model_SRX', 'hot_model_S60_CROSS_COUNTRY', 'hot_model_GLC Coupe AMG', 'hot_model_POLO_GTI', 'hot_model_TIBURON', 'hot_model_120', 'hot_model_BEL_AIR', 'hot_model_TRAFIC', 'hot_model_TIGGO_3', 'hot_model_LIBERTY', 'hot_model_W186', 'hot_model_PREVIA', 'hot_model_LTD_CROWN_VICTORIA', 'hot_model_TT', 'hot_model_3MPS', 'hot_model_GRAND_STAREX', 'hot_model_C_HR', 'hot_model_208', 'hot_model_COROLLA_SPACIO', 'hot_model_Octavia', 'hot_model_CARAVAN_COACH', 'hot_model_PHAETON', 'hot_model_321', 'hot_model_GRACE', 'hot_model_REKORD', 'hot_model_XM', 'hot_model_240_SERIES', 'hot_model_KADETT', 'hot_model_R_KLASSE', 'hot_model_GENESIS_COUPE', 'hot_color_розовый', 'hot_model_EXPLORER', 'hot_model_SAILOR', 'hot_model_TYPE_1', 'hot_model_COUPE', 'hot_model_BONGO_FRIENDEE', 'hot_model_SHUTTLE', 'hot_model_WRX', 'hot_model_VITO', 'hot_model_DELICA', 'hot_model_AVENGER', 'hot_model_VEZEL', 'hot_model_ARRIZO7', 'hot_model_COMBO', 'hot_model_ESTIMA', 'hot_model_PRIUS_ALPHA', 'hot_model_BLS', 'hot_model_RX_8', 'hot_model_SUPRA', 'hot_model_MOHAVES', 'hot_model_CORTINA', 'hot_model_INSIGNIA_OPC', 'hot_model_FOX', 'hot_model_XKR', 'hot_model_SERA', 'hot_model_VIVARO', 'hot_model_MILLENIA', 'hot_model_UX', 'hot_model_Q70', 'hot_model_FOCUS_RS', 'hot_model_Viano', 'hot_model_EK_WAGON', 'hot_model_IMPALA', 'hot_model_LS', 'hot_model_EL_CAMINO', 'hot_model_CABRIO', 'hot_model_Colt', 'hot_model_SIGMA', 'hot_model_CMATIZ', 'hot_model_BLUEBIRD_SYLPHY', 'hot_model_SINTRA', 'hot_model_THUNDERBIRD', 'hot_model_V50', 'hot_model_HHR', 'hot_model_INSIGHT', 'hot_model_L300', 'hot_model_LAVITA', 'hot_model_JIMNY', 'hot_model_SUPER_SIX', 'hot_model_XE', 'hot_model_ELDORADO', 'hot_model_WINDSTAR', 'hot_model_OPA', 'hot_model_ISis', 'hot_model_PROCEED', 'hot_model_BONGO', 'hot_model_2', 'hot_model_EMERAUDE', 'hot_model_EDGE', 'hot_model_SPRINTER_CARIB', 'hot_model_A4_ALLROAD', 'hot_model_Fortuner', 'hot_model_RNESSA', 'hot_model_ALTEZZA', 'hot_model_Grandis', 'hot_model_X-Trail', 'hot_model_Sprinter Carib', 'hot_model_MIRAGE', 'hot_model_EQUUS', 'hot_model_ESTEEM', 'hot_model_Almera', 'hot_model_M1', 'hot_model_AEROSTAR', 'hot_model_GL-Класс AMG', 'hot_model_TORNEO', 'hot_model_VANEO', 'hot_model_IX55', 'hot_model_MONTEREY', 'hot_model_CL-Класс', 'hot_model_Insight', 'hot_model_PREGIO', 'hot_model_ALTO', 'hot_model_KEI', 'hot_model_DEFENDER', 'hot_model_GT86', 'hot_model_CX_9']\n"
   ]
  },
  {
   "cell_type": "markdown",
   "metadata": {},
   "source": [
    "['hot_model_BT_50', 'hot_model_BASSARA', 'hot_model_TIGGO_4', 'hot_model_607', 'hot_model_VELLFIRE', 'hot_model_Fit', 'hot_model_FAIRLADY_Z', 'hot_model_AVALON', 'hot_model_CIRRUS', 'hot_model_JUKE_NISMO', 'hot_model_SILVIA', 'hot_model_S5', 'hot_model_BB', 'hot_model_QX4', 'hot_model_COOLBEAR', 'hot_model_TIGRA', 'hot_model_ARISTO', 'hot_model_Pathfinder', 'hot_model_CLIO_RS', 'hot_model_Crown', 'hot_model_AXELA', 'hot_model_NITRO', 'hot_model_DURANGO', 'hot_model_SOLIO', 'hot_model_I10', 'hot_model_TAUNUS', 'hot_model_STINGER', 'hot_model_NADIA', 'hot_model_106', 'hot_model_CLARUS', 'hot_model_SIMPLEX', 'hot_model_4RUNNER', 'hot_model_Note', 'hot_model_DS3', 'hot_model_Navara (Frontier)', 'hot_model_CEED_GT', 'hot_model_CAPRICE', 'hot_model_Accord', 'hot_model_PROCEED_MARVIE', 'hot_model_300_LETTER_SERIES', 'hot_model_KALOS', 'hot_model_ROOMY', 'hot_model_GS', 'hot_model_PAJERO_MINI', 'hot_model_FORENZA', 'hot_model_CROWN_VICTORIA', 'hot_model_PRESEA', 'hot_model_FREDA', 'hot_model_EQUINOX', 'hot_model_A-Класс', 'hot_model_ATOS', 'hot_model_FIESTA_ST', 'hot_model_PATROL', 'hot_model_SC', 'hot_model_918_SPYDER', 'hot_model_INTEGRA', 'hot_model_V40_CC', 'hot_model_PAO', 'hot_model_HARRIER', 'hot_model_QX56', 'hot_model_VANETTE', 'hot_model_WINGLE_UP', 'hot_model_02', 'hot_model_C6', 'hot_model_Presage', 'hot_model_Auris', 'hot_model_MEGANE_RS', 'hot_model_DINGO', 'hot_model_INSPIRE', 'hot_model_QUEST', 'hot_model_I_MIEV', 'hot_model_SAMURAI', 'hot_model_B_KLASSE', 'hot_model_760', 'hot_model_S4', 'hot_model_CAPELLA', 'hot_model_STREAM', 'hot_model_Ipsum', 'hot_model_MARCH', 'hot_model_FORESTER', 'hot_model_MISTRAL', 'hot_model_Passo', 'hot_model_AGILA', 'hot_model_EMGRAND_7', 'hot_model_FTO', 'hot_model_Tiida', 'hot_model_BONUS_3', 'hot_model_X3_M', 'hot_model_121', 'hot_model_CEDRIC', 'hot_model_QUORIS', 'hot_model_CORSA_OPC', 'hot_model_GRANDEUR', 'hot_model_IMPREZA_WRX_STI', 'hot_model_PASSO', 'hot_model_SLK_KLASSE_AMG', 'hot_model_Pajero Sport', 'hot_model_140', 'hot_model_COROLLA_II', 'hot_model_SIGNUM', 'hot_model_BX', 'hot_model_Karoq', 'hot_model_V8', 'hot_model_DS5', 'hot_model_QASHQAI_PLUS_2', 'hot_model_Sentra', 'hot_model_DAMAS', 'hot_model_VERSO_S', 'hot_model_20', 'hot_model_300C', 'hot_model_Cefiro', 'hot_model_SLC_KLASSE', 'hot_model_CROWN_MAJESTA', 'hot_model_N_WGN', 'hot_bodyType_фастбек', 'hot_model_WINDOM', 'hot_model_TRACKER', 'hot_model_CALIFORNIA', 'hot_model_Carina E', 'hot_model_ATLAS', 'hot_model_STEPWAGON', 'hot_model_RODIUS', 'hot_model_AYGO', 'hot_model_EUNOS_100', 'hot_model_90', 'hot_model_NAVARA', 'hot_model_CORRADO', 'hot_model_FAMILIA', 'hot_model_FIT', 'hot_model_944', 'hot_model_ISTANA', 'hot_model_VITARA', 'hot_model_LAFESTA', 'hot_model_TARO', 'hot_model_LIBETY_NA', 'hot_model_HIACE', 'hot_model_Rasheen', 'hot_model_XG', 'hot_model_PREMIO', 'hot_model_W114', 'hot_model_FREESTYLE', 'hot_model_XSARA', 'hot_model_PERI', 'hot_model_SPARKY', 'hot_model_OTTI', 'hot_model_ALMERA_TINO', 'hot_model_I30_N', 'hot_model_ORION', 'hot_model_GLB', 'hot_model_180SX', 'hot_model_AIRTREK', 'hot_model_RAFAGA', 'hot_model_Q30', 'hot_model_FLORID', 'hot_model_X4_M', 'hot_model_COWRY', 'hot_model_SAMBAR', 'hot_model_LOGO', 'hot_model_920', 'hot_model_HOVER_M4', 'hot_model_Teana', 'hot_model_REGIUS', 'hot_model_DEER', 'hot_model_VERISA', 'hot_model_EXPLORER_SPORT_TRAC', 'hot_model_LITE_ACE', 'hot_model_Amarok', 'hot_model_HOVER_M2', 'hot_model_TACOMA', 'hot_model_Odyssey', 'hot_model_C-HR', 'hot_model_SCIROCCO', 'hot_model_MAGNUM', 'hot_model_EDIX', 'hot_model_TIGGO_7', 'hot_model_100_SERIES', 'hot_model_MOBILIO', 'hot_model_4007', 'hot_model_RX_7', 'hot_model_CORONA_EXIV', 'hot_model_MOCO', 'hot_model_ACTY', 'hot_model_RIDGELINE', 'hot_model_KLUGER', 'hot_model_SSR', 'hot_model_AIRWAVE', 'hot_model_LANCER_EVOLUTION', 'hot_model_RENO', 'hot_model_AQUA', 'hot_model_TYPE_3', 'hot_model_Civic', 'hot_model_Vitz', 'hot_model_ELEMENT', 'hot_model_VIPER', 'hot_model_March', 'hot_model_TTS', 'hot_model_HUSTLER', 'hot_model_NP300', 'hot_model_XEDOS_9', 'hot_model_ORIENTAL_SON', 'hot_model_BIANTE', 'hot_fuelType_газ', 'hot_model_CLUBMAN', 'hot_model_FREED', 'hot_model_RSQ3', 'hot_model_HATCH', 'hot_model_Galant', 'hot_model_SEDONA', 'hot_model_Touran', 'hot_model_301', 'hot_model_RS3', 'hot_model_NOAH', 'hot_model_I3', 'hot_model_DS4', 'hot_model_MARK_X', 'hot_model_Passat', 'hot_model_G-Класс', 'hot_model_PRAIRIE', 'hot_model_JUMPY', 'hot_model_Tiguan', 'hot_model_MX_6', 'hot_model_Bora', 'hot_model_POPULAR', 'hot_model_SIDEKICK', 'hot_model_K5_BLAZER', 'hot_model_GLORIA', 'hot_model_V40', 'hot_model_STARLET', 'hot_model_SIENTA', 'hot_model_LANTRA', 'hot_model_N_BOX', 'hot_model_Eclipse Cross', 'hot_model_PASEO', 'hot_model_CAYMAN_GT4', 'hot_model_X_TRAIL', 'hot_model_DS', 'hot_model_CAMRY', 'hot_model_XEDOS_6', 'hot_model_URVAN', 'hot_model_COMMANDER', 'hot_model_RETONA', 'hot_model_HILUX_SURF', 'hot_model_VOLT', 'hot_model_PREMACY', 'hot_model_Z3M', 'hot_model_ARTEON', 'hot_model_Patrol', 'hot_model_PRIMASTAR', 'hot_model_ARKANA', 'hot_model_PRESIDENT', 'hot_model_Golf', 'hot_model_AVANCIER', 'hot_model_C70', 'hot_model_NEMO', 'hot_model_280ZX', 'hot_model_WISH', 'hot_model_CARINA_ED', 'hot_model_CIVIC_TYPE_R', 'hot_model_MOBILIO_SPIKE', 'hot_model_1007', 'hot_model_PROBE', 'hot_model_6 серии', 'hot_model_ASTRO', 'hot_model_DOKKER', 'hot_model_ORIGIN', 'hot_model_Montero', 'hot_model_ALERO', 'hot_model_CHARIOT', 'hot_model_LHS', 'hot_model_CORSICA', 'hot_model_TERRANO_REGULUS', 'hot_model_TOWN_AND_COUNTRY', 'hot_model_ODYSSEY', 'hot_model_GRANDLAND_X', 'hot_model_CROSSTOUR', 'hot_model_H200', 'hot_model_DUET', 'hot_model_STAGEA', 'hot_model_MUSSO', 'hot_model_BREVIS', 'hot_model_TICO', 'hot_model_PRIUSPLUS', 'hot_model_GL-Класс', 'hot_model_LUMINA', 'hot_model_806', 'hot_model_MR_S', 'hot_model_KAROQ', 'hot_model_CAMI', 'hot_model_CITAN', 'hot_model_PRESAGE', 'hot_model_TINO', 'hot_model_VISION', 'hot_model_KORANDO_SPORTS', 'hot_model_SUCCEED', 'hot_model_CATERA', 'hot_model_Caddy', 'hot_model_FUGA', 'hot_model_S7', 'hot_model_GC6', 'hot_model_LANCER_RALLIART', 'hot_model_Lancer', 'hot_model_GAIA', 'hot_model_C-Класс', 'hot_model_TIGGO_2', 'hot_model_200SX', 'hot_model_Pilot', 'hot_model_CX_3', 'hot_model_CAROL', 'hot_model_S_TYPE', 'hot_model_S70', 'hot_model_PASSPORT', 'hot_model_YARIS_VERSO', 'hot_model_BEETLE', 'hot_model_TUCSON', 'hot_model_RC_F', 'hot_model_FABIA_RS', 'hot_model_LUPO', 'hot_model_AERIO', 'hot_model_S6', 'hot_model_EX', 'hot_model_OUTLANDER', 'hot_model_XJS', 'hot_model_XV', 'hot_model_C30', 'hot_model_R2', 'hot_model_Transporter', 'hot_model_L400', 'hot_model_SPACE_GEAR', 'hot_model_REGIUSACE', 'hot_model_DELICA_D2', 'hot_model_VIGOR', 'hot_model_MX_5', 'hot_model_VERNA', 'hot_model_605', 'hot_model_VOXY', 'hot_model_100NX', 'hot_model_SC7', 'hot_model_RC', 'hot_model_VERSO', 'hot_model_OLYMPIA', 'hot_model_IST', 'hot_model_COROLLA_VERSO', 'hot_model_Z3', 'hot_model_C_KLASSE', 'hot_model_GLC Coupe', 'hot_model_FR_V', 'hot_model_ALLEX', 'hot_model_PRELUDE', 'hot_model_LASER', 'hot_model_PRIDE', 'hot_model_928', 'hot_model_BRZ', 'hot_model_CARNIVAL', 'hot_model_Legend', 'hot_model_508', 'hot_model_CONCORDE', 'hot_model_Eos', 'hot_model_XFR', 'hot_model_MALIBU', 'hot_model_AUTOZAM_AZ3', 'hot_model_RACTIS', 'hot_model_Fabia', 'hot_model_FOCUS_NA', 'hot_model_KIX', 'hot_model_TIGGO_5', 'hot_model_QQ', 'hot_model_C3_AIRCROSS', 'hot_model_HS', 'hot_model_AVANTE', 'hot_model_Camry', 'hot_model_440', 'hot_model_CHARGER', 'hot_model_MR2', 'hot_model_CHAIRMAN', 'hot_model_K3', 'hot_model_RVR', 'hot_model_CAMRY_SOLARA', 'hot_model_SERIES_III', 'hot_model_ECHO', 'hot_model_M_KLASSE_AMG', 'hot_model_CITY', 'hot_model_A1', 'hot_model_SANTAMO', 'hot_model_5', 'hot_model_DAYZ', 'hot_model_WAGON_R_PLUS', 'hot_model_RANGER', 'hot_model_EMGRAND_GT', 'hot_model_LANCER_CARGO', 'hot_model_FAVORIT', 'hot_model_ELGRAND', 'hot_model_3008', 'hot_model_Primera', 'hot_model_C_CROSSER', 'hot_model_KIZASHI', 'hot_model_C2', 'hot_model_924', 'hot_model_CL_KLASSE', 'hot_model_Corolla Verso', 'hot_model_SOARER', 'hot_model_VIANO', 'hot_model_STAVIC', 'hot_model_CRETA', 'hot_model_DION', 'hot_model_Murano', 'hot_model_DAKOTA', 'hot_model_RCZ', 'hot_model_JAZZ', 'hot_model_TOURNEO_CUSTOM', 'hot_model_PATRIOT', 'hot_model_350Z', 'hot_model_GRAND_CHEROKEE', 'hot_model_R1', 'hot_model_CAVALIER', 'hot_model_326', 'hot_model_EXPEDITION', 'hot_model_VECTRA_OPC', 'hot_model_Q60', 'hot_model_GLA_CLASS_AMG', 'hot_model_Vezel', 'hot_model_GLK-Класс', 'hot_model_Superb', 'hot_model_LEGACY_LANCASTER', 'hot_model_Serena', 'hot_model_ESQUIRE', 'hot_model_SPADE', 'hot_model_Qashqai', 'hot_model_SLK_KLASSE', 'hot_model_Sprinter Trueno', 'hot_model_JOURNEY', 'hot_model_Terrano', 'hot_model_K900', 'hot_model_N_ONE', 'hot_model_Outlander', 'hot_model_IPSUM', 'hot_model_GRAND_HIACE', 'hot_model_PACIFICA', 'hot_model_G', 'hot_model_Hilux', 'hot_model_ARMADA', 'hot_model_IS', 'hot_model_QASHQAI', 'hot_model_CALIBRA', 'hot_color_оранжевый', 'hot_model_Vito', 'hot_model_STELLA', 'hot_model_SVX', 'hot_model_AVALANCHE', 'hot_model_S2000', 'hot_model_FJ_CRUISER', 'hot_model_SEVILLE', 'hot_model_MONZA', 'hot_model_LEGEND', 'hot_model_LEAF', 'hot_model_BLUEBIRD', 'hot_model_VEL_SATIS', 'hot_model_ODYSSEY_NA', 'hot_model_M3', 'hot_model_MINICAB', 'hot_model_L200', 'hot_model_STS', 'hot_model_FUNCARGO', 'hot_model_TAURUS', 'hot_model_XJ', 'hot_model_NEW_YORKER', 'hot_model_M-Класс', 'hot_model_ORTHIA', 'hot_model_WRX_STI', 'hot_model_DATSUN', 'hot_model_Q', 'hot_model_A2', 'hot_model_TUSCANI', 'hot_model_IGNIS', 'hot_model_300M', 'hot_model_LANTIS', 'hot_model_PILOT', 'hot_model_ATS', 'hot_model_MARK_X_ZIO', 'hot_model_BLADE', 'hot_model_DISCOVERY', 'hot_model_CR_X', 'hot_model_Juke', 'hot_model_VITA', 'hot_model_RAV4', 'hot_model_RS5', 'hot_model_300ZX', 'hot_model_DART', 'hot_model_VENZA', 'hot_model_JOICE', 'hot_model_ECONOLINE', 'hot_model_ESPACE', 'hot_model_LE_BARON', 'hot_model_Corolla', 'hot_model_CT', 'hot_model_FUSION_NA', 'hot_model_MAGNUS', 'hot_model_TWINGO', 'hot_model_Rapid', 'hot_model_ECOSPORT', 'hot_model_Jetta', 'hot_model_LATITUDE', 'hot_model_JX', 'hot_model_CROSSROAD', 'hot_model_TRAVIQ', 'hot_model_XF', 'hot_model_4008', 'hot_model_AVENSIS_VERSO', 'hot_model_CELSIOR', 'hot_model_Pajero', 'hot_model_Z', 'hot_color_серый', 'hot_model_WILL_CYPHA', 'hot_model_SQ5', 'hot_model_CROSS_EASTAR', 'hot_model_XJR', 'hot_model_CLK-Класс', 'hot_model_LIBERO', 'hot_model_IQ', 'hot_model_RAIDER', 'hot_model_ZX', 'hot_model_306', 'hot_model_Passat CC', 'hot_model_WINDSTORM', 'hot_model_SELTOS', 'hot_model_V60', 'hot_model_RS 5', 'hot_model_KAPTUR', 'hot_model_COUGAR', 'hot_model_XK', 'hot_model_SABER', 'hot_model_PROGRES', 'hot_model_VEROSSA', 'hot_model_OCTAVIA_RS', 'hot_model_PORTE', 'hot_model_S3', 'hot_model_Yeti', 'hot_model_A5', 'hot_model_TYPE_2', 'hot_model_CRUZE_HR', 'hot_model_SIENNA', 'hot_model_FLEETWOOD', 'hot_model_2GRANDTOURER', 'hot_model_CADDY', 'hot_model_CTS_V', 'hot_model_EVANDA', 'hot_model_DOMINGO', 'hot_model_MURANO', 'hot_model_WAGON_R', 'hot_model_XANTIA', 'hot_model_EVERY', 'hot_model_ASCOT', 'hot_model_968', 'hot_model_I', 'hot_model_PROTEGE', 'hot_model_PROBOX', 'hot_model_COROLLA_RUMION', 'hot_model_2ACTIVETOURER', 'hot_model_W110', 'hot_model_GOLF_R', 'hot_model_VENTURE', 'hot_model_ELYSION', 'hot_model_SAFARI', 'hot_model_2 серии Gran Tourer', 'hot_model_CLC_KLASSE', 'hot_model_QX30', 'hot_model_Bluebird', 'hot_model_CR_Z', 'hot_model_PEGASUS', 'hot_model_BRONCO', 'hot_model_ASPIRE', 'hot_model_CAYMAN', 'hot_model_OPTIMA', 'hot_model_AVENIR', 'hot_model_W189', 'hot_model_VELOSTER', 'hot_model_RAY', 'hot_model_B_SERIES', 'hot_model_TRAJET', 'hot_model_CLA', 'hot_model_203', 'hot_model_AVANTIME', 'hot_model_6_MPS', 'hot_model_EXCURSION', 'hot_model_RAUM', 'hot_model_MONTE_CARLO', 'hot_model_S_MX', 'hot_model_ADMIRAL', 'hot_model_PICNIC', 'hot_model_JUSTY', 'hot_model_CONTOUR', 'hot_model_DOMANI', 'hot_model_SPLASH', 'hot_model_VIVA', 'hot_model_DIAMANTE', 'hot_model_GLA', 'hot_model_KA', 'hot_model_LARGO', 'hot_model_GOLF_GTI', 'hot_model_SPRINTER_MARINO', 'hot_model_SLC_KLASSE_AMG', 'hot_model_LAUREL', 'hot_model_EFINI_MS_8', 'hot_model_CONCERTO', 'hot_model_405', 'hot_model_CLIPPER_RIO', 'hot_model_PLATZ', 'hot_model_ALTIMA', 'hot_model_CROSSFIRE', 'hot_model_Jeep J', 'hot_model_CR-V', 'hot_model_KORANDO', 'hot_model_EUROVAN', 'hot_model_RS4', 'hot_model_TERCEL', 'hot_model_GRANVIA', 'hot_color_синий', 'hot_model_ZEST', 'hot_model_205', 'hot_model_KOLEOS', 'hot_rarity_Class A (Ancestor)', 'hot_model_Q50', 'hot_model_LIFE', 'hot_model_E3', 'hot_model_ZEPHYR', 'hot_model_200', 'hot_model_HIGHLANDER', 'hot_model_Prius', 'hot_model_ISIS', 'hot_model_XCEED', 'hot_model_AD', 'hot_model_SPRINTER_TRUENO', 'hot_model_LUMINA_APV', 'hot_model_MEGA_CRUISER', 'hot_model_Pajero iO', 'hot_model_CIVIC_FERIO', 'hot_model_SAFRANE', 'hot_model_LM', 'hot_model_COROLLA_LEVIN', 'hot_model_MODUS', 'hot_model_DAYZ_ROOX', 'hot_model_C4_AIRCROSS', 'hot_model_GOLF_R32', 'hot_model_VAN', 'hot_model_GLC', 'hot_model_Avensis', 'hot_model_V70', 'hot_model_WILL', 'hot_model_VANGUARD', 'hot_model_GT', 'hot_model_ASTRA_OPC', 'hot_model_1 серии', 'hot_model_GENESIS', 'hot_model_SARATOGA', 'hot_model_SCEPTER_SEDAN', 'hot_model_Z4', 'hot_model_ENDEAVOR', 'hot_model_EXPERT', 'hot_model_TITAN', 'hot_model_FOCUS_ST', 'hot_model_340', 'hot_model_PACEMAN', 'hot_model_SPACE_RUNNER', 'hot_model_2008', 'hot_model_FESTIVA', 'hot_model_H_1_STAREX', 'hot_model_CYNOS', 'hot_model_Polo', 'hot_model_EOS', 'hot_model_Z1', 'hot_model_CHEROKEE', 'hot_model_Stepwgn', 'hot_model_MASTER_ACE_SURF', 'hot_model_MINICA', 'hot_model_NV200', 'hot_model_VERY', 'hot_model_CLIPPER', 'hot_model_CULTUS', 'hot_model_C8', 'hot_model_PULSAR', 'hot_model_CURREN', 'hot_model_MONDEO_ST', 'hot_model_GRANADA', 'hot_model_CTS', 'hot_model_TT_RS', 'hot_model_ZAFIRA_OPC', 'hot_model_GLK_KLASSE', 'hot_model_2 серии', 'hot_model_DELICA_D_5', 'hot_model_HOVERH6', 'hot_model_VENTO', 'hot_model_SRX', 'hot_model_S60_CROSS_COUNTRY', 'hot_model_GLC Coupe AMG', 'hot_model_POLO_GTI', 'hot_model_TIBURON', 'hot_model_120', 'hot_model_BEL_AIR', 'hot_model_TRAFIC', 'hot_model_TIGGO_3', 'hot_model_LIBERTY', 'hot_model_W186', 'hot_model_PREVIA', 'hot_model_LTD_CROWN_VICTORIA', 'hot_model_TT', 'hot_model_3MPS', 'hot_model_GRAND_STAREX', 'hot_model_C_HR', 'hot_model_208', 'hot_model_COROLLA_SPACIO', 'hot_model_Octavia', 'hot_model_CARAVAN_COACH', 'hot_model_PHAETON', 'hot_model_321', 'hot_model_GRACE', 'hot_model_REKORD', 'hot_model_XM', 'hot_model_240_SERIES', 'hot_model_KADETT', 'hot_model_R_KLASSE', 'hot_model_GENESIS_COUPE', 'hot_color_розовый', 'hot_model_EXPLORER', 'hot_model_SAILOR', 'hot_model_TYPE_1', 'hot_model_COUPE', 'hot_model_BONGO_FRIENDEE', 'hot_model_SHUTTLE', 'hot_model_WRX', 'hot_model_VITO', 'hot_model_DELICA', 'hot_model_AVENGER', 'hot_model_VEZEL', 'hot_model_ARRIZO7', 'hot_model_COMBO', 'hot_model_ESTIMA', 'hot_model_PRIUS_ALPHA', 'hot_model_BLS', 'hot_model_RX_8', 'hot_model_SUPRA', 'hot_model_MOHAVES', 'hot_model_CORTINA', 'hot_model_INSIGNIA_OPC', 'hot_model_FOX', 'hot_model_XKR', 'hot_model_SERA', 'hot_model_VIVARO', 'hot_model_MILLENIA', 'hot_model_UX', 'hot_model_Q70', 'hot_model_FOCUS_RS', 'hot_model_Viano', 'hot_model_EK_WAGON', 'hot_model_IMPALA', 'hot_model_LS', 'hot_model_EL_CAMINO', 'hot_model_CABRIO', 'hot_model_Colt', 'hot_model_SIGMA', 'hot_model_CMATIZ', 'hot_model_BLUEBIRD_SYLPHY', 'hot_model_SINTRA', 'hot_model_THUNDERBIRD', 'hot_model_V50', 'hot_model_HHR', 'hot_model_INSIGHT', 'hot_model_L300', 'hot_model_LAVITA', 'hot_model_JIMNY', 'hot_model_SUPER_SIX', 'hot_model_XE', 'hot_model_ELDORADO', 'hot_model_WINDSTAR', 'hot_model_OPA', 'hot_model_ISis', 'hot_model_PROCEED', 'hot_model_BONGO', 'hot_model_2', 'hot_model_EMERAUDE', 'hot_model_EDGE', 'hot_model_SPRINTER_CARIB', 'hot_model_A4_ALLROAD', 'hot_model_Fortuner', 'hot_model_RNESSA', 'hot_model_ALTEZZA', 'hot_model_Grandis', 'hot_model_X-Trail', 'hot_model_Sprinter Carib', 'hot_model_MIRAGE', 'hot_model_EQUUS', 'hot_model_ESTEEM', 'hot_model_Almera', 'hot_model_M1', 'hot_model_AEROSTAR', 'hot_model_GL-Класс AMG', 'hot_model_TORNEO', 'hot_model_VANEO', 'hot_model_IX55', 'hot_model_MONTEREY', 'hot_model_CL-Класс', 'hot_model_Insight', 'hot_model_PREGIO', 'hot_model_ALTO', 'hot_model_KEI', 'hot_model_DEFENDER', 'hot_model_GT86', 'hot_model_CX_9']"
   ]
  },
  {
   "cell_type": "code",
   "execution_count": null,
   "metadata": {},
   "outputs": [],
   "source": [
    "# Удаляем признаки из датасета, по которым не найдена статистическая значимость\n",
    "data.drop(cat_cols_remove, axis=1, inplace=True)"
   ]
  },
  {
   "cell_type": "code",
   "execution_count": null,
   "metadata": {},
   "outputs": [],
   "source": [
    "data.shape"
   ]
  },
  {
   "cell_type": "code",
   "execution_count": null,
   "metadata": {},
   "outputs": [],
   "source": [
    "\"\"\"  Оценим значимость числовых признаков\n",
    "fig, ax = plt.subplots(figsize=(10, 5))\n",
    "anova_df = data[data['train'] == 1].dropna().copy()\n",
    "imp_num = pd.Series(f_regression(anova_df[num_cols], anova_df['price_log'])[\n",
    "                    0], index=num_cols)\n",
    "imp_num.sort_values(inplace=True)\n",
    "imp_num.plot(\n",
    "    kind='barh', title='Значимость непрерывных переменных по ANOVA F test по всем маркам')\n",
    "plt.show()\n",
    "\"\"\""
   ]
  },
  {
   "cell_type": "code",
   "execution_count": null,
   "metadata": {},
   "outputs": [],
   "source": [
    "\"\"\"\n",
    "# Оценим значимость бинарных и категориальных признаков\n",
    "fig, ax = plt.subplots(figsize=(15, 7))\n",
    "\n",
    "anova_df = data[data['train'] == 1].dropna().copy()\n",
    "\n",
    "# Labels encoding\n",
    "cols_to_encode = list(set(anova_df.columns) & set(cat_cols))\n",
    "for colum in cols_to_encode:\n",
    "    anova_df[colum] = anova_df[colum].astype('category').cat.codes\n",
    "\n",
    "imp_cat = pd.Series(mutual_info_regression(\n",
    "    anova_df[bin_cols+cat_cols], anova_df['price'], discrete_features=True), index=bin_cols+cat_cols)\n",
    "imp_cat.sort_values(inplace=True)\n",
    "imp_cat.plot(kind='barh', title='Значимость категориальных переменных')\n",
    "plt.show()\n",
    "\"\"\""
   ]
  },
  {
   "cell_type": "markdown",
   "metadata": {},
   "source": [
    "Выводы:\n",
    "1. Из числовых признаков очень сильное влияние имеет prodcutionDate, modelDate, mileage, enginePower\n",
    "2. Из категориальных и бинарных самое сильное влияние оказывает model, brand, ownersCount. Минимальное влияние у признаков - rarity, ownershipTimeisNull. По rarity попробовать признак в onehotencoding."
   ]
  },
  {
   "cell_type": "markdown",
   "metadata": {},
   "source": [
    "### 3.12 Препроцессинг перед моделированием"
   ]
  },
  {
   "cell_type": "markdown",
   "metadata": {},
   "source": [
    "**Стандартизация числовых признаков**"
   ]
  },
  {
   "cell_type": "code",
   "execution_count": null,
   "metadata": {
    "scrolled": false
   },
   "outputs": [],
   "source": [
    "# Стандартизация числовых переменных\n",
    "#cols_to_scale = list(set(data.columns) & set(num_cols))\n",
    "#data[cols_to_scale] = StandardScaler().fit_transform(data[cols_to_scale].values)"
   ]
  },
  {
   "cell_type": "code",
   "execution_count": null,
   "metadata": {},
   "outputs": [],
   "source": [
    "bin_cols"
   ]
  },
  {
   "cell_type": "markdown",
   "metadata": {},
   "source": [
    "Закомментировано, т.к. стандартизация числовых признаков не влияет на целевую метрику."
   ]
  },
  {
   "cell_type": "markdown",
   "metadata": {},
   "source": [
    "####   Выделим тестовую и тренировочную части"
   ]
  },
  {
   "cell_type": "code",
   "execution_count": null,
   "metadata": {
    "papermill": {
     "duration": 0.071275,
     "end_time": "2020-10-26T12:47:03.754",
     "exception": false,
     "start_time": "2020-10-26T12:47:03.682725",
     "status": "completed"
    },
    "scrolled": false,
    "tags": []
   },
   "outputs": [],
   "source": [
    "# price\n",
    "X = data.query('train == 1').drop(\n",
    "    ['train', 'price', 'price_log', 'price_usd', 'RUB_USD_rate'], axis=1)\n",
    "X_sub = data.query('train == 0').drop(\n",
    "    ['train', 'price', 'price_log', 'price_usd', 'RUB_USD_rate'], axis=1)"
   ]
  },
  {
   "cell_type": "code",
   "execution_count": null,
   "metadata": {
    "scrolled": false
   },
   "outputs": [],
   "source": [
    "# Price regular\n",
    "y = data[data.train == 1]['price']"
   ]
  },
  {
   "cell_type": "code",
   "execution_count": null,
   "metadata": {
    "scrolled": false
   },
   "outputs": [],
   "source": [
    "# Price with USD rate\n",
    "#y = data[data.train == 1]['price_usd']"
   ]
  },
  {
   "cell_type": "markdown",
   "metadata": {
    "papermill": {
     "duration": 0.035737,
     "end_time": "2020-10-26T12:47:03.826552",
     "exception": false,
     "start_time": "2020-10-26T12:47:03.790815",
     "status": "completed"
    },
    "tags": []
   },
   "source": [
    "#### Train Split"
   ]
  },
  {
   "cell_type": "code",
   "execution_count": null,
   "metadata": {
    "papermill": {
     "duration": 0.059208,
     "end_time": "2020-10-26T12:47:03.923564",
     "exception": false,
     "start_time": "2020-10-26T12:47:03.864356",
     "status": "completed"
    },
    "scrolled": false,
    "tags": []
   },
   "outputs": [],
   "source": [
    "X_train, X_test, y_train, y_test = train_test_split(\n",
    "    X, y, test_size=VAL_SIZE, shuffle=True, random_state=RANDOM_SEED)"
   ]
  },
  {
   "cell_type": "markdown",
   "metadata": {},
   "source": [
    "# 5. Model 1. Создадим \"наивную\" модель \n",
    "Эта модель будет предсказывать среднюю цену по модели двигателя (engineDisplacement). \n",
    "C ней будем сравнивать другие модели."
   ]
  },
  {
   "cell_type": "code",
   "execution_count": null,
   "metadata": {
    "scrolled": false
   },
   "outputs": [],
   "source": [
    "tmp_train = X_train.copy()\n",
    "tmp_train['price'] = y_train"
   ]
  },
  {
   "cell_type": "code",
   "execution_count": null,
   "metadata": {
    "scrolled": false
   },
   "outputs": [],
   "source": [
    "# Находим median по экземплярам mileage в трейне и размечаем тест\n",
    "predict = X_test['mileage'].map(\n",
    "    tmp_train.groupby('mileage')['price'].median())\n",
    "\n",
    "# оцениваем точность\n",
    "print(\n",
    "    f\"Точность наивной модели по метрике MAPE: {(mape(y_test, predict.values))*100:0.2f}%\")"
   ]
  },
  {
   "cell_type": "markdown",
   "metadata": {
    "papermill": {
     "duration": 0.037164,
     "end_time": "2020-10-26T12:47:03.997616",
     "exception": false,
     "start_time": "2020-10-26T12:47:03.960452",
     "status": "completed"
    },
    "tags": []
   },
   "source": [
    "# 6. Model 2 : CatBoost\n",
    "![](https://pbs.twimg.com/media/DP-jUCyXcAArRTo.png:large)   \n",
    "\n",
    "\n",
    "У нас в данных практически все признаки категориальные. Специально для работы с такими данными была создана очень удобная библиотека CatBoost от Яндекса. [https://catboost.ai](http://)     \n",
    "На данный момент **CatBoost является одной из лучших библиотек для табличных данных!**\n",
    "\n",
    "#### Полезные видео о CatBoost (на русском):\n",
    "* [Доклад про CatBoost](https://youtu.be/9ZrfErvm97M)\n",
    "* [Свежий Туториал от команды CatBoost (практическая часть)](https://youtu.be/wQt4kgAOgV0) "
   ]
  },
  {
   "cell_type": "markdown",
   "metadata": {
    "papermill": {
     "duration": 0.035833,
     "end_time": "2020-10-26T12:47:04.149539",
     "exception": false,
     "start_time": "2020-10-26T12:47:04.113706",
     "status": "completed"
    },
    "tags": []
   },
   "source": [
    "## Fit"
   ]
  },
  {
   "cell_type": "code",
   "execution_count": null,
   "metadata": {
    "papermill": {
     "duration": 67.991521,
     "end_time": "2020-10-26T12:48:12.178488",
     "exception": false,
     "start_time": "2020-10-26T12:47:04.186967",
     "status": "completed"
    },
    "scrolled": false,
    "tags": []
   },
   "outputs": [],
   "source": [
    "\"\"\" \n",
    "model = CatBoostRegressor(iterations = 5000,\n",
    "                          random_seed = RANDOM_SEED,\n",
    "                          eval_metric='MAPE',\n",
    "                          custom_metric=['R2', 'MAE'],\n",
    "                          silent=True,\n",
    "                         )\n",
    "model.fit(X_train, y_train,\n",
    "         #cat_features=cat_features_ids,\n",
    "         eval_set=(X_test, y_test),\n",
    "         verbose_eval=0,\n",
    "         use_best_model=True,\n",
    "         #plot=True\n",
    "         )\n",
    "\n",
    "model.save_model('catboost_single_model_baseline.model') \"\"\""
   ]
  },
  {
   "cell_type": "code",
   "execution_count": null,
   "metadata": {
    "scrolled": false
   },
   "outputs": [],
   "source": [
    "\"\"\"# оцениваем точность\n",
    "predict = model.predict(X_test)\n",
    "print(f\"Точность модели по метрике MAPE: {(mape(y_test, predict))*100:0.2f}%\")\"\"\""
   ]
  },
  {
   "cell_type": "markdown",
   "metadata": {
    "papermill": {
     "duration": 0.088891,
     "end_time": "2020-10-26T12:48:12.562943",
     "exception": false,
     "start_time": "2020-10-26T12:48:12.474052",
     "status": "completed"
    },
    "tags": []
   },
   "source": [
    "Вот так просто со старта, даже не трогая сами данные и не подбирая настройки catboosta, получаем модель с уровнем ошибки в 18%!"
   ]
  },
  {
   "cell_type": "markdown",
   "metadata": {},
   "source": [
    "### Log Traget\n",
    "Попробуем взять таргет в логорифм - это позволит уменьшить влияние выбросов на обучение модели (используем для этого np.log и np.exp).    \n",
    "В принциепе мы можем использовать любое приобразование на целевую переменную. Например деление на курс доллара, евро или гречки :) в дату сбора данных, смотрим дату парсинга в тесте в **parsing_unixtime**"
   ]
  },
  {
   "cell_type": "code",
   "execution_count": null,
   "metadata": {
    "scrolled": false
   },
   "outputs": [],
   "source": [
    "np.log(y_train)"
   ]
  },
  {
   "cell_type": "code",
   "execution_count": null,
   "metadata": {
    "scrolled": false
   },
   "outputs": [],
   "source": [
    "model = CatBoostRegressor(iterations=5000,\n",
    "                          random_seed=RANDOM_SEED,\n",
    "                          eval_metric='MAPE',\n",
    "                          custom_metric=['R2', 'MAE'],\n",
    "                          silent=True,\n",
    "                          )\n",
    "model.fit(X_train, np.log(y_train),\n",
    "          # cat_features=cat_features_ids,\n",
    "          eval_set=(X_test, np.log(y_test)),\n",
    "          verbose_eval=0,\n",
    "          use_best_model=True,\n",
    "          # plot=True\n",
    "          )\n",
    "\n",
    "model.save_model('catboost_single_model_2_baseline.model')"
   ]
  },
  {
   "cell_type": "code",
   "execution_count": null,
   "metadata": {
    "scrolled": false
   },
   "outputs": [],
   "source": [
    "predict_test = np.exp(model.predict(X_test))\n",
    "predict_submission = np.exp(model.predict(X_sub))"
   ]
  },
  {
   "cell_type": "code",
   "execution_count": null,
   "metadata": {
    "scrolled": false
   },
   "outputs": [],
   "source": [
    "print(\n",
    "    f\"Точность модели по метрике MAPE: {(mape(y_test, predict_test))*100:0.2f}%\")"
   ]
  },
  {
   "cell_type": "markdown",
   "metadata": {},
   "source": [
    "Как видим, точность возросла до 15%, а что будет на ЛБ?"
   ]
  },
  {
   "cell_type": "code",
   "execution_count": null,
   "metadata": {},
   "outputs": [],
   "source": []
  },
  {
   "cell_type": "markdown",
   "metadata": {},
   "source": [
    "# Model 3. Lazypredict\n"
   ]
  },
  {
   "cell_type": "code",
   "execution_count": null,
   "metadata": {
    "scrolled": false
   },
   "outputs": [],
   "source": [
    "!pip install lazypredict"
   ]
  },
  {
   "cell_type": "code",
   "execution_count": null,
   "metadata": {},
   "outputs": [],
   "source": [
    "!pip install xgboost"
   ]
  },
  {
   "cell_type": "code",
   "execution_count": null,
   "metadata": {},
   "outputs": [],
   "source": [
    "!brew install libomp"
   ]
  },
  {
   "cell_type": "code",
   "execution_count": null,
   "metadata": {
    "scrolled": false
   },
   "outputs": [],
   "source": [
    "import lazypredict\n",
    "from lazypredict.Supervised import LazyRegressor\n",
    "from sklearn.utils import shuffle\n",
    "from sklearn.metrics import mean_absolute_error\n",
    "import time "
   ]
  },
  {
   "cell_type": "code",
   "execution_count": null,
   "metadata": {
    "scrolled": false
   },
   "outputs": [],
   "source": [
    "mae = mean_absolute_error\n",
    "regr=LazyRegressor(verbose=0,predictions=True, custom_metric=mae)\n",
    "# fit and train the model \n",
    "start_time_2=time.time()\n",
    "models, predictions=regr.fit(X_train, X_test, np.log(y_train), np.log(y_test))\n",
    "end_time_2=time.time()"
   ]
  },
  {
   "cell_type": "code",
   "execution_count": null,
   "metadata": {},
   "outputs": [],
   "source": [
    "models"
   ]
  },
  {
   "cell_type": "markdown",
   "metadata": {
    "papermill": {
     "duration": 0.085876,
     "end_time": "2020-10-26T12:48:12.734207",
     "exception": false,
     "start_time": "2020-10-26T12:48:12.648331",
     "status": "completed"
    },
    "tags": []
   },
   "source": [
    "# 7. Submission"
   ]
  },
  {
   "cell_type": "code",
   "execution_count": null,
   "metadata": {},
   "outputs": [],
   "source": [
    "# USD price\n",
    "#sample_submission = pd.merge(sample_submission, data[['sell_id', 'RUB_USD_rate']], on=\"sell_id\", how=\"left\")\n",
    "#sample_submission['price'] = predict_submission\n",
    "#sample_submission['price'] = sample_submission.apply(lambda x: x['price']*x['RUB_USD_rate'], axis = 1)\n",
    "#sample_submission.drop('RUB_USD_rate', axis = 1, inplace = True)"
   ]
  },
  {
   "cell_type": "code",
   "execution_count": null,
   "metadata": {},
   "outputs": [],
   "source": [
    "# Regular price \n",
    "sample_submission['price'] = predict_submission"
   ]
  },
  {
   "cell_type": "code",
   "execution_count": null,
   "metadata": {
    "papermill": {
     "duration": 0.628302,
     "end_time": "2020-10-26T12:48:13.763488",
     "exception": false,
     "start_time": "2020-10-26T12:48:13.135186",
     "status": "completed"
    },
    "scrolled": false,
    "tags": []
   },
   "outputs": [],
   "source": [
    "sample_submission.to_csv(f'submission_2_v{VERSION}.csv', index=False)\n",
    "sample_submission.head(10)"
   ]
  },
  {
   "cell_type": "markdown",
   "metadata": {
    "papermill": {
     "duration": 0.083769,
     "end_time": "2020-10-26T12:48:13.930562",
     "exception": false,
     "start_time": "2020-10-26T12:48:13.846793",
     "status": "completed"
    },
    "tags": []
   },
   "source": [
    "В итоге получили **MAPE 27%** на ЛБ!\n",
    "\n",
    "Большая разница в ошибке может указывать на то что тест и трейн имеют различия по выборке или то что данные в трейне могли уже устареть и их нужно обновлять."
   ]
  },
  {
   "cell_type": "markdown",
   "metadata": {
    "papermill": {
     "duration": 0.087712,
     "end_time": "2020-10-26T12:48:14.104388",
     "exception": false,
     "start_time": "2020-10-26T12:48:14.016676",
     "status": "completed"
    },
    "tags": []
   },
   "source": [
    "# What's next?\n",
    "Или что еще можно сделать, чтоб улучшить результат:\n",
    "\n",
    "* [x] Спарсить свежие данные \n",
    "* [x] Посмотреть, что можно извлечь из признаков или как еще можно обработать признаки\n",
    "* [x] Сгенерировать новые признаки\n",
    "* [ ] Попробовать подобрать параметры модели\n",
    "* [ ] Попробовать другие алгоритмы и библиотеки ML\n",
    "* [ ] Сделать Ансамбль моделей, Blending, Stacking"
   ]
  },
  {
   "cell_type": "markdown",
   "metadata": {},
   "source": [
    "Подробный чек лист: https://docs.google.com/spreadsheets/d/1I_ErM3U0Cs7Rs1obyZbIEGtVn-H47pHNCi4xdDgUmXY/edit?usp=sharing"
   ]
  }
 ],
 "metadata": {
  "kernelspec": {
   "display_name": "Python 3",
   "language": "python",
   "name": "python3"
  },
  "language_info": {
   "codemirror_mode": {
    "name": "ipython",
    "version": 3
   },
   "file_extension": ".py",
   "mimetype": "text/x-python",
   "name": "python",
   "nbconvert_exporter": "python",
   "pygments_lexer": "ipython3",
   "version": "3.8.8"
  }
 },
 "nbformat": 4,
 "nbformat_minor": 4
}
