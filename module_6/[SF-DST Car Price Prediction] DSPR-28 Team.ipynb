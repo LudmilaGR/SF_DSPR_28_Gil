{
 "cells": [
  {
   "cell_type": "markdown",
   "metadata": {
    "papermill": {
     "duration": 0.029718,
     "end_time": "2020-10-26T12:46:41.276296",
     "exception": false,
     "start_time": "2020-10-26T12:46:41.246578",
     "status": "completed"
    },
    "tags": []
   },
   "source": [
    "<img src=\"https://whatcar.vn/media/2018/09/car-lot-940x470.jpg\"/>\n",
    "\n",
    "# Прогнозирование стоимости автомобиля по характеристикам\n",
    "\n",
    "* Работу выполнили Людмила Григорьева и Юлия Гиль\n",
    "* Группа DSPR-28"
   ]
  },
  {
   "cell_type": "markdown",
   "metadata": {},
   "source": [
    "# Содержание\n",
    "\n",
    "1. [IMPORT, FUNCTIONS, SETUP](#1)\n",
    "2. [DDATA & PRELIMINARY ANALYSIS](#2)\n",
    "3. [EDA](#3) \n",
    "4. [NAÏVE MODEL](#4)\n",
    "5. [MODEL IMPROVEMENTS](#5)\n",
    "    * \n",
    "6. [SUBMISSION](#6)\n",
    "7. [SUMMARY](#7)"
   ]
  },
  {
   "cell_type": "markdown",
   "metadata": {},
   "source": [
    "<a id=\"1\"></a>\n",
    "# 1. Import, Functions, Setup"
   ]
  },
  {
   "cell_type": "code",
   "execution_count": 1,
   "metadata": {},
   "outputs": [
    {
     "name": "stdout",
     "output_type": "stream",
     "text": [
      "Requirement already satisfied: catboost in /Users/yuliyagil/opt/anaconda3/lib/python3.8/site-packages (0.26.1)\n",
      "Requirement already satisfied: graphviz in /Users/yuliyagil/opt/anaconda3/lib/python3.8/site-packages (from catboost) (0.17)\n",
      "Requirement already satisfied: plotly in /Users/yuliyagil/opt/anaconda3/lib/python3.8/site-packages (from catboost) (4.14.3)\n",
      "Requirement already satisfied: six in /Users/yuliyagil/opt/anaconda3/lib/python3.8/site-packages (from catboost) (1.15.0)\n",
      "Requirement already satisfied: numpy>=1.16.0 in /Users/yuliyagil/opt/anaconda3/lib/python3.8/site-packages (from catboost) (1.19.1)\n",
      "Requirement already satisfied: matplotlib in /Users/yuliyagil/opt/anaconda3/lib/python3.8/site-packages (from catboost) (3.3.4)\n",
      "Requirement already satisfied: pandas>=0.24.0 in /Users/yuliyagil/opt/anaconda3/lib/python3.8/site-packages (from catboost) (1.0.5)\n",
      "Requirement already satisfied: scipy in /Users/yuliyagil/opt/anaconda3/lib/python3.8/site-packages (from catboost) (1.5.4)\n",
      "Requirement already satisfied: python-dateutil>=2.6.1 in /Users/yuliyagil/opt/anaconda3/lib/python3.8/site-packages (from pandas>=0.24.0->catboost) (2.8.1)\n",
      "Requirement already satisfied: pytz>=2017.2 in /Users/yuliyagil/opt/anaconda3/lib/python3.8/site-packages (from pandas>=0.24.0->catboost) (2021.1)\n",
      "Requirement already satisfied: cycler>=0.10 in /Users/yuliyagil/opt/anaconda3/lib/python3.8/site-packages (from matplotlib->catboost) (0.10.0)\n",
      "Requirement already satisfied: pillow>=6.2.0 in /Users/yuliyagil/opt/anaconda3/lib/python3.8/site-packages (from matplotlib->catboost) (8.2.0)\n",
      "Requirement already satisfied: kiwisolver>=1.0.1 in /Users/yuliyagil/opt/anaconda3/lib/python3.8/site-packages (from matplotlib->catboost) (1.3.1)\n",
      "Requirement already satisfied: pyparsing!=2.0.4,!=2.1.2,!=2.1.6,>=2.0.3 in /Users/yuliyagil/opt/anaconda3/lib/python3.8/site-packages (from matplotlib->catboost) (2.4.7)\n",
      "Requirement already satisfied: retrying>=1.3.3 in /Users/yuliyagil/opt/anaconda3/lib/python3.8/site-packages (from plotly->catboost) (1.3.3)\n"
     ]
    }
   ],
   "source": [
    "!pip3 install catboost"
   ]
  },
  {
   "cell_type": "code",
   "execution_count": 2,
   "metadata": {},
   "outputs": [
    {
     "name": "stdout",
     "output_type": "stream",
     "text": [
      "Requirement already satisfied: pandas-profiling in /Users/yuliyagil/opt/anaconda3/lib/python3.8/site-packages (2.11.0)\n",
      "Requirement already satisfied: scipy>=1.4.1 in /Users/yuliyagil/opt/anaconda3/lib/python3.8/site-packages (from pandas-profiling) (1.5.4)\n",
      "Requirement already satisfied: numpy>=1.16.0 in /Users/yuliyagil/opt/anaconda3/lib/python3.8/site-packages (from pandas-profiling) (1.19.1)\n",
      "Requirement already satisfied: visions[type_image_path]==0.6.0 in /Users/yuliyagil/opt/anaconda3/lib/python3.8/site-packages (from pandas-profiling) (0.6.0)\n",
      "Requirement already satisfied: ipywidgets>=7.5.1 in /Users/yuliyagil/opt/anaconda3/lib/python3.8/site-packages (from pandas-profiling) (7.6.3)\n",
      "Requirement already satisfied: requests>=2.24.0 in /Users/yuliyagil/opt/anaconda3/lib/python3.8/site-packages (from pandas-profiling) (2.25.1)\n",
      "Requirement already satisfied: joblib in /Users/yuliyagil/opt/anaconda3/lib/python3.8/site-packages (from pandas-profiling) (1.0.0)\n",
      "Requirement already satisfied: tqdm>=4.48.2 in /Users/yuliyagil/opt/anaconda3/lib/python3.8/site-packages (from pandas-profiling) (4.56.0)\n",
      "Requirement already satisfied: jinja2>=2.11.1 in /Users/yuliyagil/opt/anaconda3/lib/python3.8/site-packages (from pandas-profiling) (3.0.0)\n",
      "Requirement already satisfied: htmlmin>=0.1.12 in /Users/yuliyagil/opt/anaconda3/lib/python3.8/site-packages (from pandas-profiling) (0.1.12)\n",
      "Requirement already satisfied: missingno>=0.4.2 in /Users/yuliyagil/opt/anaconda3/lib/python3.8/site-packages (from pandas-profiling) (0.4.2)\n",
      "Requirement already satisfied: seaborn>=0.10.1 in /Users/yuliyagil/opt/anaconda3/lib/python3.8/site-packages (from pandas-profiling) (0.11.1)\n",
      "Requirement already satisfied: pandas!=1.0.0,!=1.0.1,!=1.0.2,!=1.1.0,>=0.25.3 in /Users/yuliyagil/opt/anaconda3/lib/python3.8/site-packages (from pandas-profiling) (1.0.5)\n",
      "Requirement already satisfied: confuse>=1.0.0 in /Users/yuliyagil/opt/anaconda3/lib/python3.8/site-packages (from pandas-profiling) (1.4.0)\n",
      "Requirement already satisfied: matplotlib>=3.2.0 in /Users/yuliyagil/opt/anaconda3/lib/python3.8/site-packages (from pandas-profiling) (3.3.4)\n",
      "Requirement already satisfied: tangled-up-in-unicode>=0.0.6 in /Users/yuliyagil/opt/anaconda3/lib/python3.8/site-packages (from pandas-profiling) (0.0.7)\n",
      "Requirement already satisfied: attrs>=19.3.0 in /Users/yuliyagil/opt/anaconda3/lib/python3.8/site-packages (from pandas-profiling) (21.2.0)\n",
      "Requirement already satisfied: phik>=0.10.0 in /Users/yuliyagil/opt/anaconda3/lib/python3.8/site-packages (from pandas-profiling) (0.11.2)\n",
      "Requirement already satisfied: networkx>=2.4 in /Users/yuliyagil/opt/anaconda3/lib/python3.8/site-packages (from visions[type_image_path]==0.6.0->pandas-profiling) (2.5.1)\n",
      "Requirement already satisfied: imagehash in /Users/yuliyagil/opt/anaconda3/lib/python3.8/site-packages (from visions[type_image_path]==0.6.0->pandas-profiling) (4.2.0)\n",
      "Requirement already satisfied: Pillow in /Users/yuliyagil/opt/anaconda3/lib/python3.8/site-packages (from visions[type_image_path]==0.6.0->pandas-profiling) (8.2.0)\n",
      "Requirement already satisfied: pyyaml in /Users/yuliyagil/opt/anaconda3/lib/python3.8/site-packages (from confuse>=1.0.0->pandas-profiling) (5.3.1)\n",
      "Requirement already satisfied: nbformat>=4.2.0 in /Users/yuliyagil/opt/anaconda3/lib/python3.8/site-packages (from ipywidgets>=7.5.1->pandas-profiling) (5.1.3)\n",
      "Requirement already satisfied: widgetsnbextension~=3.5.0 in /Users/yuliyagil/opt/anaconda3/lib/python3.8/site-packages (from ipywidgets>=7.5.1->pandas-profiling) (3.5.1)\n",
      "Requirement already satisfied: jupyterlab-widgets>=1.0.0 in /Users/yuliyagil/opt/anaconda3/lib/python3.8/site-packages (from ipywidgets>=7.5.1->pandas-profiling) (1.0.0)\n",
      "Requirement already satisfied: traitlets>=4.3.1 in /Users/yuliyagil/opt/anaconda3/lib/python3.8/site-packages (from ipywidgets>=7.5.1->pandas-profiling) (5.0.5)\n",
      "Requirement already satisfied: ipython>=4.0.0 in /Users/yuliyagil/opt/anaconda3/lib/python3.8/site-packages (from ipywidgets>=7.5.1->pandas-profiling) (7.22.0)\n",
      "Requirement already satisfied: ipykernel>=4.5.1 in /Users/yuliyagil/opt/anaconda3/lib/python3.8/site-packages (from ipywidgets>=7.5.1->pandas-profiling) (5.3.4)\n",
      "Requirement already satisfied: tornado>=4.2 in /Users/yuliyagil/opt/anaconda3/lib/python3.8/site-packages (from ipykernel>=4.5.1->ipywidgets>=7.5.1->pandas-profiling) (6.1)\n",
      "Requirement already satisfied: appnope in /Users/yuliyagil/opt/anaconda3/lib/python3.8/site-packages (from ipykernel>=4.5.1->ipywidgets>=7.5.1->pandas-profiling) (0.1.2)\n",
      "Requirement already satisfied: jupyter-client in /Users/yuliyagil/opt/anaconda3/lib/python3.8/site-packages (from ipykernel>=4.5.1->ipywidgets>=7.5.1->pandas-profiling) (6.1.12)\n",
      "Requirement already satisfied: setuptools>=18.5 in /Users/yuliyagil/opt/anaconda3/lib/python3.8/site-packages (from ipython>=4.0.0->ipywidgets>=7.5.1->pandas-profiling) (52.0.0.post20210125)\n",
      "Requirement already satisfied: pexpect>4.3 in /Users/yuliyagil/opt/anaconda3/lib/python3.8/site-packages (from ipython>=4.0.0->ipywidgets>=7.5.1->pandas-profiling) (4.8.0)\n",
      "Requirement already satisfied: pygments in /Users/yuliyagil/opt/anaconda3/lib/python3.8/site-packages (from ipython>=4.0.0->ipywidgets>=7.5.1->pandas-profiling) (2.9.0)\n",
      "Requirement already satisfied: pickleshare in /Users/yuliyagil/opt/anaconda3/lib/python3.8/site-packages (from ipython>=4.0.0->ipywidgets>=7.5.1->pandas-profiling) (0.7.5)\n",
      "Requirement already satisfied: decorator in /Users/yuliyagil/opt/anaconda3/lib/python3.8/site-packages (from ipython>=4.0.0->ipywidgets>=7.5.1->pandas-profiling) (4.4.2)\n",
      "Requirement already satisfied: prompt-toolkit!=3.0.0,!=3.0.1,<3.1.0,>=2.0.0 in /Users/yuliyagil/opt/anaconda3/lib/python3.8/site-packages (from ipython>=4.0.0->ipywidgets>=7.5.1->pandas-profiling) (3.0.17)\n",
      "Requirement already satisfied: jedi>=0.16 in /Users/yuliyagil/opt/anaconda3/lib/python3.8/site-packages (from ipython>=4.0.0->ipywidgets>=7.5.1->pandas-profiling) (0.17.2)\n",
      "Requirement already satisfied: backcall in /Users/yuliyagil/opt/anaconda3/lib/python3.8/site-packages (from ipython>=4.0.0->ipywidgets>=7.5.1->pandas-profiling) (0.2.0)\n",
      "Requirement already satisfied: parso<0.8.0,>=0.7.0 in /Users/yuliyagil/opt/anaconda3/lib/python3.8/site-packages (from jedi>=0.16->ipython>=4.0.0->ipywidgets>=7.5.1->pandas-profiling) (0.7.0)\n",
      "Requirement already satisfied: MarkupSafe>=2.0.0rc2 in /Users/yuliyagil/opt/anaconda3/lib/python3.8/site-packages (from jinja2>=2.11.1->pandas-profiling) (2.0.1)\n",
      "Requirement already satisfied: kiwisolver>=1.0.1 in /Users/yuliyagil/opt/anaconda3/lib/python3.8/site-packages (from matplotlib>=3.2.0->pandas-profiling) (1.3.1)\n",
      "Requirement already satisfied: python-dateutil>=2.1 in /Users/yuliyagil/opt/anaconda3/lib/python3.8/site-packages (from matplotlib>=3.2.0->pandas-profiling) (2.8.1)\n",
      "Requirement already satisfied: pyparsing!=2.0.4,!=2.1.2,!=2.1.6,>=2.0.3 in /Users/yuliyagil/opt/anaconda3/lib/python3.8/site-packages (from matplotlib>=3.2.0->pandas-profiling) (2.4.7)\n",
      "Requirement already satisfied: cycler>=0.10 in /Users/yuliyagil/opt/anaconda3/lib/python3.8/site-packages (from matplotlib>=3.2.0->pandas-profiling) (0.10.0)\n",
      "Requirement already satisfied: six in /Users/yuliyagil/opt/anaconda3/lib/python3.8/site-packages (from cycler>=0.10->matplotlib>=3.2.0->pandas-profiling) (1.15.0)\n",
      "Requirement already satisfied: jupyter-core in /Users/yuliyagil/opt/anaconda3/lib/python3.8/site-packages (from nbformat>=4.2.0->ipywidgets>=7.5.1->pandas-profiling) (4.7.1)\n",
      "Requirement already satisfied: jsonschema!=2.5.0,>=2.4 in /Users/yuliyagil/opt/anaconda3/lib/python3.8/site-packages (from nbformat>=4.2.0->ipywidgets>=7.5.1->pandas-profiling) (3.2.0)\n",
      "Requirement already satisfied: ipython-genutils in /Users/yuliyagil/opt/anaconda3/lib/python3.8/site-packages (from nbformat>=4.2.0->ipywidgets>=7.5.1->pandas-profiling) (0.2.0)\n",
      "Requirement already satisfied: pyrsistent>=0.14.0 in /Users/yuliyagil/opt/anaconda3/lib/python3.8/site-packages (from jsonschema!=2.5.0,>=2.4->nbformat>=4.2.0->ipywidgets>=7.5.1->pandas-profiling) (0.17.3)\n",
      "Requirement already satisfied: pytz>=2017.2 in /Users/yuliyagil/opt/anaconda3/lib/python3.8/site-packages (from pandas!=1.0.0,!=1.0.1,!=1.0.2,!=1.1.0,>=0.25.3->pandas-profiling) (2021.1)\n",
      "Requirement already satisfied: ptyprocess>=0.5 in /Users/yuliyagil/opt/anaconda3/lib/python3.8/site-packages (from pexpect>4.3->ipython>=4.0.0->ipywidgets>=7.5.1->pandas-profiling) (0.7.0)\n"
     ]
    },
    {
     "name": "stdout",
     "output_type": "stream",
     "text": [
      "Requirement already satisfied: wcwidth in /Users/yuliyagil/opt/anaconda3/lib/python3.8/site-packages (from prompt-toolkit!=3.0.0,!=3.0.1,<3.1.0,>=2.0.0->ipython>=4.0.0->ipywidgets>=7.5.1->pandas-profiling) (0.2.5)\n",
      "Requirement already satisfied: certifi>=2017.4.17 in /Users/yuliyagil/opt/anaconda3/lib/python3.8/site-packages (from requests>=2.24.0->pandas-profiling) (2021.5.30)\n",
      "Requirement already satisfied: urllib3<1.27,>=1.21.1 in /Users/yuliyagil/opt/anaconda3/lib/python3.8/site-packages (from requests>=2.24.0->pandas-profiling) (1.26.4)\n",
      "Requirement already satisfied: idna<3,>=2.5 in /Users/yuliyagil/opt/anaconda3/lib/python3.8/site-packages (from requests>=2.24.0->pandas-profiling) (2.10)\n",
      "Requirement already satisfied: chardet<5,>=3.0.2 in /Users/yuliyagil/opt/anaconda3/lib/python3.8/site-packages (from requests>=2.24.0->pandas-profiling) (4.0.0)\n",
      "Requirement already satisfied: notebook>=4.4.1 in /Users/yuliyagil/opt/anaconda3/lib/python3.8/site-packages (from widgetsnbextension~=3.5.0->ipywidgets>=7.5.1->pandas-profiling) (6.4.0)\n",
      "Requirement already satisfied: argon2-cffi in /Users/yuliyagil/opt/anaconda3/lib/python3.8/site-packages (from notebook>=4.4.1->widgetsnbextension~=3.5.0->ipywidgets>=7.5.1->pandas-profiling) (20.1.0)\n",
      "Requirement already satisfied: prometheus-client in /Users/yuliyagil/opt/anaconda3/lib/python3.8/site-packages (from notebook>=4.4.1->widgetsnbextension~=3.5.0->ipywidgets>=7.5.1->pandas-profiling) (0.11.0)\n",
      "Requirement already satisfied: nbconvert in /Users/yuliyagil/opt/anaconda3/lib/python3.8/site-packages (from notebook>=4.4.1->widgetsnbextension~=3.5.0->ipywidgets>=7.5.1->pandas-profiling) (6.0.7)\n",
      "Requirement already satisfied: pyzmq>=17 in /Users/yuliyagil/opt/anaconda3/lib/python3.8/site-packages (from notebook>=4.4.1->widgetsnbextension~=3.5.0->ipywidgets>=7.5.1->pandas-profiling) (20.0.0)\n",
      "Requirement already satisfied: terminado>=0.8.3 in /Users/yuliyagil/opt/anaconda3/lib/python3.8/site-packages (from notebook>=4.4.1->widgetsnbextension~=3.5.0->ipywidgets>=7.5.1->pandas-profiling) (0.9.4)\n",
      "Requirement already satisfied: Send2Trash>=1.5.0 in /Users/yuliyagil/opt/anaconda3/lib/python3.8/site-packages (from notebook>=4.4.1->widgetsnbextension~=3.5.0->ipywidgets>=7.5.1->pandas-profiling) (1.5.0)\n",
      "Requirement already satisfied: cffi>=1.0.0 in /Users/yuliyagil/opt/anaconda3/lib/python3.8/site-packages (from argon2-cffi->notebook>=4.4.1->widgetsnbextension~=3.5.0->ipywidgets>=7.5.1->pandas-profiling) (1.14.5)\n",
      "Requirement already satisfied: pycparser in /Users/yuliyagil/opt/anaconda3/lib/python3.8/site-packages (from cffi>=1.0.0->argon2-cffi->notebook>=4.4.1->widgetsnbextension~=3.5.0->ipywidgets>=7.5.1->pandas-profiling) (2.20)\n",
      "Requirement already satisfied: PyWavelets in /Users/yuliyagil/opt/anaconda3/lib/python3.8/site-packages (from imagehash->visions[type_image_path]==0.6.0->pandas-profiling) (1.1.1)\n",
      "Requirement already satisfied: nbclient<0.6.0,>=0.5.0 in /Users/yuliyagil/opt/anaconda3/lib/python3.8/site-packages (from nbconvert->notebook>=4.4.1->widgetsnbextension~=3.5.0->ipywidgets>=7.5.1->pandas-profiling) (0.5.3)\n",
      "Requirement already satisfied: entrypoints>=0.2.2 in /Users/yuliyagil/opt/anaconda3/lib/python3.8/site-packages (from nbconvert->notebook>=4.4.1->widgetsnbextension~=3.5.0->ipywidgets>=7.5.1->pandas-profiling) (0.3)\n",
      "Requirement already satisfied: jupyterlab-pygments in /Users/yuliyagil/opt/anaconda3/lib/python3.8/site-packages (from nbconvert->notebook>=4.4.1->widgetsnbextension~=3.5.0->ipywidgets>=7.5.1->pandas-profiling) (0.1.2)\n",
      "Requirement already satisfied: bleach in /Users/yuliyagil/opt/anaconda3/lib/python3.8/site-packages (from nbconvert->notebook>=4.4.1->widgetsnbextension~=3.5.0->ipywidgets>=7.5.1->pandas-profiling) (3.3.0)\n",
      "Requirement already satisfied: pandocfilters>=1.4.1 in /Users/yuliyagil/opt/anaconda3/lib/python3.8/site-packages (from nbconvert->notebook>=4.4.1->widgetsnbextension~=3.5.0->ipywidgets>=7.5.1->pandas-profiling) (1.4.3)\n",
      "Requirement already satisfied: defusedxml in /Users/yuliyagil/opt/anaconda3/lib/python3.8/site-packages (from nbconvert->notebook>=4.4.1->widgetsnbextension~=3.5.0->ipywidgets>=7.5.1->pandas-profiling) (0.7.1)\n",
      "Requirement already satisfied: testpath in /Users/yuliyagil/opt/anaconda3/lib/python3.8/site-packages (from nbconvert->notebook>=4.4.1->widgetsnbextension~=3.5.0->ipywidgets>=7.5.1->pandas-profiling) (0.4.4)\n",
      "Requirement already satisfied: mistune<2,>=0.8.1 in /Users/yuliyagil/opt/anaconda3/lib/python3.8/site-packages (from nbconvert->notebook>=4.4.1->widgetsnbextension~=3.5.0->ipywidgets>=7.5.1->pandas-profiling) (0.8.4)\n",
      "Requirement already satisfied: async-generator in /Users/yuliyagil/opt/anaconda3/lib/python3.8/site-packages (from nbclient<0.6.0,>=0.5.0->nbconvert->notebook>=4.4.1->widgetsnbextension~=3.5.0->ipywidgets>=7.5.1->pandas-profiling) (1.10)\n",
      "Requirement already satisfied: nest-asyncio in /Users/yuliyagil/opt/anaconda3/lib/python3.8/site-packages (from nbclient<0.6.0,>=0.5.0->nbconvert->notebook>=4.4.1->widgetsnbextension~=3.5.0->ipywidgets>=7.5.1->pandas-profiling) (1.5.1)\n",
      "Requirement already satisfied: packaging in /Users/yuliyagil/opt/anaconda3/lib/python3.8/site-packages (from bleach->nbconvert->notebook>=4.4.1->widgetsnbextension~=3.5.0->ipywidgets>=7.5.1->pandas-profiling) (20.9)\n",
      "Requirement already satisfied: webencodings in /Users/yuliyagil/opt/anaconda3/lib/python3.8/site-packages (from bleach->nbconvert->notebook>=4.4.1->widgetsnbextension~=3.5.0->ipywidgets>=7.5.1->pandas-profiling) (0.5.1)\n",
      "Note: you may need to restart the kernel to use updated packages.\n"
     ]
    }
   ],
   "source": [
    "pip install pandas-profiling"
   ]
  },
  {
   "cell_type": "code",
   "execution_count": 3,
   "metadata": {
    "_cell_guid": "b1076dfc-b9ad-4769-8c92-a6c4dae69d19",
    "_uuid": "8f2839f25d086af736a60e9eeb907d3b93b6e0e5",
    "execution": {
     "iopub.execute_input": "2021-08-25T11:04:23.401994Z",
     "iopub.status.busy": "2021-08-25T11:04:23.400259Z",
     "iopub.status.idle": "2021-08-25T11:04:23.413459Z",
     "shell.execute_reply": "2021-08-25T11:04:23.411604Z",
     "shell.execute_reply.started": "2021-08-25T11:04:23.401937Z"
    },
    "papermill": {
     "duration": 1.219772,
     "end_time": "2020-10-26T12:46:42.581597",
     "exception": false,
     "start_time": "2020-10-26T12:46:41.361825",
     "status": "completed"
    },
    "tags": []
   },
   "outputs": [],
   "source": [
    "import numpy as np\n",
    "import pandas as pd\n",
    "import sys\n",
    "import re\n",
    "import seaborn as sns \n",
    "import matplotlib.pyplot as plt\n",
    "import warnings\n",
    "\n",
    "from pandas_profiling import ProfileReport\n",
    "from sklearn.model_selection import train_test_split\n",
    "from sklearn.model_selection import KFold\n",
    "from tqdm.notebook import tqdm\n",
    "from catboost import CatBoostRegressor\n",
    "from sklearn.preprocessing import LabelEncoder\n",
    "\n",
    "%matplotlib inline\n",
    "warnings.simplefilter('ignore')\n",
    "sns.set()"
   ]
  },
  {
   "cell_type": "code",
   "execution_count": 4,
   "metadata": {
    "_kg_hide-input": true,
    "execution": {
     "iopub.execute_input": "2021-08-25T11:04:23.417239Z",
     "iopub.status.busy": "2021-08-25T11:04:23.416559Z",
     "iopub.status.idle": "2021-08-25T11:04:23.433238Z",
     "shell.execute_reply": "2021-08-25T11:04:23.431761Z",
     "shell.execute_reply.started": "2021-08-25T11:04:23.417183Z"
    },
    "papermill": {
     "duration": 0.040034,
     "end_time": "2020-10-26T12:46:42.650603",
     "exception": false,
     "start_time": "2020-10-26T12:46:42.610569",
     "status": "completed"
    },
    "tags": []
   },
   "outputs": [
    {
     "name": "stdout",
     "output_type": "stream",
     "text": [
      "Python       : 3.8.10 (default, May 19 2021, 11:01:55) \n",
      "Numpy        : 1.19.1\n"
     ]
    }
   ],
   "source": [
    "print('Python       :', sys.version.split('\\n')[0])\n",
    "print('Numpy        :', np.__version__)"
   ]
  },
  {
   "cell_type": "code",
   "execution_count": 5,
   "metadata": {
    "_kg_hide-input": true,
    "execution": {
     "iopub.execute_input": "2021-08-25T11:04:23.436128Z",
     "iopub.status.busy": "2021-08-25T11:04:23.435535Z",
     "iopub.status.idle": "2021-08-25T11:04:25.598024Z",
     "shell.execute_reply": "2021-08-25T11:04:25.595679Z",
     "shell.execute_reply.started": "2021-08-25T11:04:23.436089Z"
    },
    "papermill": {
     "duration": 5.172536,
     "end_time": "2020-10-26T12:46:47.852593",
     "exception": false,
     "start_time": "2020-10-26T12:46:42.680057",
     "status": "completed"
    },
    "tags": []
   },
   "outputs": [],
   "source": [
    "# зафиксируем версию пакетов, чтобы эксперименты были воспроизводимы:\n",
    "!pip freeze > requirements.txt"
   ]
  },
  {
   "cell_type": "code",
   "execution_count": 6,
   "metadata": {
    "execution": {
     "iopub.execute_input": "2021-08-25T11:04:25.60077Z",
     "iopub.status.busy": "2021-08-25T11:04:25.600253Z",
     "iopub.status.idle": "2021-08-25T11:04:25.605541Z",
     "shell.execute_reply": "2021-08-25T11:04:25.604709Z",
     "shell.execute_reply.started": "2021-08-25T11:04:25.60071Z"
    },
    "papermill": {
     "duration": 0.039842,
     "end_time": "2020-10-26T12:46:47.922434",
     "exception": false,
     "start_time": "2020-10-26T12:46:47.882592",
     "status": "completed"
    },
    "tags": []
   },
   "outputs": [],
   "source": [
    "# всегда фиксируйте RANDOM_SEED, чтобы ваши эксперименты были воспроизводимы!\n",
    "RANDOM_SEED = 42"
   ]
  },
  {
   "cell_type": "markdown",
   "metadata": {},
   "source": [
    "## Functions"
   ]
  },
  {
   "cell_type": "code",
   "execution_count": 7,
   "metadata": {
    "_kg_hide-input": true,
    "execution": {
     "iopub.execute_input": "2021-08-25T11:04:25.607405Z",
     "iopub.status.busy": "2021-08-25T11:04:25.606972Z",
     "iopub.status.idle": "2021-08-25T11:04:25.62468Z",
     "shell.execute_reply": "2021-08-25T11:04:25.622999Z",
     "shell.execute_reply.started": "2021-08-25T11:04:25.607362Z"
    }
   },
   "outputs": [],
   "source": [
    "def mape(y_true, y_pred):\n",
    "    return np.mean(np.abs((y_pred-y_true)/y_true))"
   ]
  },
  {
   "cell_type": "markdown",
   "metadata": {
    "papermill": {
     "duration": 0.028837,
     "end_time": "2020-10-26T12:46:47.981435",
     "exception": false,
     "start_time": "2020-10-26T12:46:47.952598",
     "status": "completed"
    },
    "tags": []
   },
   "source": [
    "## Setup"
   ]
  },
  {
   "cell_type": "code",
   "execution_count": 8,
   "metadata": {
    "execution": {
     "iopub.execute_input": "2021-08-25T11:04:25.629321Z",
     "iopub.status.busy": "2021-08-25T11:04:25.628695Z",
     "iopub.status.idle": "2021-08-25T11:04:25.644386Z",
     "shell.execute_reply": "2021-08-25T11:04:25.641774Z",
     "shell.execute_reply.started": "2021-08-25T11:04:25.629265Z"
    },
    "papermill": {
     "duration": 0.039969,
     "end_time": "2020-10-26T12:46:48.052728",
     "exception": false,
     "start_time": "2020-10-26T12:46:48.012759",
     "status": "completed"
    },
    "tags": []
   },
   "outputs": [],
   "source": [
    "VERSION = 16\n",
    "# подключил к ноутбуку внешний датасет\n",
    "DIR_TRAIN = '../input/parsing-all-moscow-auto-ru-09-09-2020/'\n",
    "DIR_TEST = '../input/sf-dst-car-price-prediction/'\n",
    "VAL_SIZE = 0.20   # 20%"
   ]
  },
  {
   "cell_type": "markdown",
   "metadata": {
    "papermill": {
     "duration": 0.030254,
     "end_time": "2020-10-26T12:46:48.112586",
     "exception": false,
     "start_time": "2020-10-26T12:46:48.082332",
     "status": "completed"
    },
    "tags": []
   },
   "source": [
    "<a id=\"2\"></a>\n",
    "# 2. DATA & PRELIMINARY ANALYSIS"
   ]
  },
  {
   "cell_type": "markdown",
   "metadata": {},
   "source": [
    "## Data Storage"
   ]
  },
  {
   "cell_type": "code",
   "execution_count": 9,
   "metadata": {
    "execution": {
     "iopub.execute_input": "2021-08-25T11:04:25.647644Z",
     "iopub.status.busy": "2021-08-25T11:04:25.647068Z",
     "iopub.status.idle": "2021-08-25T11:04:26.416522Z",
     "shell.execute_reply": "2021-08-25T11:04:26.415025Z",
     "shell.execute_reply.started": "2021-08-25T11:04:25.647589Z"
    },
    "papermill": {
     "duration": 0.783211,
     "end_time": "2020-10-26T12:46:48.925418",
     "exception": false,
     "start_time": "2020-10-26T12:46:48.142207",
     "status": "completed"
    },
    "tags": []
   },
   "outputs": [
    {
     "name": "stdout",
     "output_type": "stream",
     "text": [
      "ls: ../input: No such file or directory\r\n"
     ]
    }
   ],
   "source": [
    "!ls '../input'"
   ]
  },
  {
   "cell_type": "code",
   "execution_count": 10,
   "metadata": {
    "_cell_guid": "79c7e3d0-c299-4dcb-8224-4455121ee9b0",
    "_uuid": "d629ff2d2480ee46fbb7e2d37f6b5fab8052498a",
    "execution": {
     "iopub.execute_input": "2021-08-25T11:04:26.419412Z",
     "iopub.status.busy": "2021-08-25T11:04:26.418986Z",
     "iopub.status.idle": "2021-08-25T11:04:32.223441Z",
     "shell.execute_reply": "2021-08-25T11:04:32.222029Z",
     "shell.execute_reply.started": "2021-08-25T11:04:26.419369Z"
    },
    "papermill": {
     "duration": 13.16556,
     "end_time": "2020-10-26T12:47:02.12133",
     "exception": false,
     "start_time": "2020-10-26T12:46:48.95577",
     "status": "completed"
    },
    "tags": []
   },
   "outputs": [
    {
     "data": {
      "text/plain": [
       "\" train = pd.read_csv(DIR_TRAIN+'all_auto_ru_09_09_2020.csv') # датасет для обучения модели\\ntest = pd.read_csv(DIR_TEST+'test.csv')\\nsample_submission = pd.read_csv(DIR_TEST+'sample_submission.csv')\""
      ]
     },
     "execution_count": 10,
     "metadata": {},
     "output_type": "execute_result"
    }
   ],
   "source": [
    "# Подключение с Kaggle\n",
    "\"\"\" train = pd.read_csv(DIR_TRAIN+'all_auto_ru_09_09_2020.csv') # датасет для обучения модели\n",
    "test = pd.read_csv(DIR_TEST+'test.csv')\n",
    "sample_submission = pd.read_csv(DIR_TEST+'sample_submission.csv')\"\"\""
   ]
  },
  {
   "cell_type": "code",
   "execution_count": 11,
   "metadata": {},
   "outputs": [],
   "source": [
    "# Подключение при работе в Jupyter/Github\n",
    "train = pd.read_csv('all_auto_ru_09_09_2020.csv') # подключение тестового train датасета\n",
    "#train2 = pd.read_csv('autoru_res.csv', sep=\",\")\n",
    "test = pd.read_csv('test.csv')\n",
    "sample_submission = pd.read_csv('sample_submission.csv')"
   ]
  },
  {
   "cell_type": "code",
   "execution_count": 12,
   "metadata": {},
   "outputs": [
    {
     "data": {
      "text/html": [
       "<div>\n",
       "<style scoped>\n",
       "    .dataframe tbody tr th:only-of-type {\n",
       "        vertical-align: middle;\n",
       "    }\n",
       "\n",
       "    .dataframe tbody tr th {\n",
       "        vertical-align: top;\n",
       "    }\n",
       "\n",
       "    .dataframe thead th {\n",
       "        text-align: right;\n",
       "    }\n",
       "</style>\n",
       "<table border=\"1\" class=\"dataframe\">\n",
       "  <thead>\n",
       "    <tr style=\"text-align: right;\">\n",
       "      <th></th>\n",
       "      <th>bodyType</th>\n",
       "      <th>brand</th>\n",
       "      <th>color</th>\n",
       "      <th>fuelType</th>\n",
       "      <th>modelDate</th>\n",
       "      <th>name</th>\n",
       "      <th>numberOfDoors</th>\n",
       "      <th>productionDate</th>\n",
       "      <th>vehicleConfiguration</th>\n",
       "      <th>vehicleTransmission</th>\n",
       "      <th>...</th>\n",
       "      <th>Руль</th>\n",
       "      <th>Состояние</th>\n",
       "      <th>Владельцы</th>\n",
       "      <th>ПТС</th>\n",
       "      <th>Таможня</th>\n",
       "      <th>Владение</th>\n",
       "      <th>price</th>\n",
       "      <th>start_date</th>\n",
       "      <th>hidden</th>\n",
       "      <th>model</th>\n",
       "    </tr>\n",
       "  </thead>\n",
       "  <tbody>\n",
       "    <tr>\n",
       "      <th>0</th>\n",
       "      <td>Седан</td>\n",
       "      <td>AUDI</td>\n",
       "      <td>040001</td>\n",
       "      <td>бензин</td>\n",
       "      <td>1990.0</td>\n",
       "      <td>2.8 MT (174 л.с.) 4WD</td>\n",
       "      <td>4.0</td>\n",
       "      <td>1991</td>\n",
       "      <td>SEDAN MECHANICAL 2.8</td>\n",
       "      <td>MECHANICAL</td>\n",
       "      <td>...</td>\n",
       "      <td>LEFT</td>\n",
       "      <td>NaN</td>\n",
       "      <td>3.0</td>\n",
       "      <td>ORIGINAL</td>\n",
       "      <td>True</td>\n",
       "      <td>NaN</td>\n",
       "      <td>200000.0</td>\n",
       "      <td>2019-10-03T08:09:11Z</td>\n",
       "      <td>NaN</td>\n",
       "      <td>100</td>\n",
       "    </tr>\n",
       "    <tr>\n",
       "      <th>1</th>\n",
       "      <td>Седан</td>\n",
       "      <td>AUDI</td>\n",
       "      <td>EE1D19</td>\n",
       "      <td>бензин</td>\n",
       "      <td>1982.0</td>\n",
       "      <td>1.8 MT (90 л.с.)</td>\n",
       "      <td>4.0</td>\n",
       "      <td>1986</td>\n",
       "      <td>SEDAN MECHANICAL 1.8</td>\n",
       "      <td>MECHANICAL</td>\n",
       "      <td>...</td>\n",
       "      <td>LEFT</td>\n",
       "      <td>NaN</td>\n",
       "      <td>3.0</td>\n",
       "      <td>ORIGINAL</td>\n",
       "      <td>True</td>\n",
       "      <td>NaN</td>\n",
       "      <td>60000.0</td>\n",
       "      <td>2020-09-06T06:49:40Z</td>\n",
       "      <td>NaN</td>\n",
       "      <td>100</td>\n",
       "    </tr>\n",
       "    <tr>\n",
       "      <th>2</th>\n",
       "      <td>Универсал 5 дв.</td>\n",
       "      <td>AUDI</td>\n",
       "      <td>0000CC</td>\n",
       "      <td>бензин</td>\n",
       "      <td>1988.0</td>\n",
       "      <td>2.3 MT (136 л.с.) 4WD</td>\n",
       "      <td>5.0</td>\n",
       "      <td>1989</td>\n",
       "      <td>WAGON_5_DOORS MECHANICAL 2.3</td>\n",
       "      <td>MECHANICAL</td>\n",
       "      <td>...</td>\n",
       "      <td>LEFT</td>\n",
       "      <td>NaN</td>\n",
       "      <td>3.0</td>\n",
       "      <td>ORIGINAL</td>\n",
       "      <td>True</td>\n",
       "      <td>NaN</td>\n",
       "      <td>99000.0</td>\n",
       "      <td>2020-09-02T14:04:21Z</td>\n",
       "      <td>NaN</td>\n",
       "      <td>100</td>\n",
       "    </tr>\n",
       "    <tr>\n",
       "      <th>3</th>\n",
       "      <td>Седан</td>\n",
       "      <td>AUDI</td>\n",
       "      <td>CACECB</td>\n",
       "      <td>бензин</td>\n",
       "      <td>1988.0</td>\n",
       "      <td>1.8 MT (90 л.с.)</td>\n",
       "      <td>4.0</td>\n",
       "      <td>1989</td>\n",
       "      <td>SEDAN MECHANICAL 1.8</td>\n",
       "      <td>MECHANICAL</td>\n",
       "      <td>...</td>\n",
       "      <td>LEFT</td>\n",
       "      <td>NaN</td>\n",
       "      <td>3.0</td>\n",
       "      <td>ORIGINAL</td>\n",
       "      <td>True</td>\n",
       "      <td>NaN</td>\n",
       "      <td>65000.0</td>\n",
       "      <td>2020-08-23T17:40:09Z</td>\n",
       "      <td>NaN</td>\n",
       "      <td>100</td>\n",
       "    </tr>\n",
       "    <tr>\n",
       "      <th>4</th>\n",
       "      <td>Седан</td>\n",
       "      <td>AUDI</td>\n",
       "      <td>040001</td>\n",
       "      <td>бензин</td>\n",
       "      <td>1990.0</td>\n",
       "      <td>2.0 MT (101 л.с.)</td>\n",
       "      <td>4.0</td>\n",
       "      <td>1991</td>\n",
       "      <td>SEDAN MECHANICAL 2.0</td>\n",
       "      <td>MECHANICAL</td>\n",
       "      <td>...</td>\n",
       "      <td>LEFT</td>\n",
       "      <td>NaN</td>\n",
       "      <td>3.0</td>\n",
       "      <td>DUPLICATE</td>\n",
       "      <td>True</td>\n",
       "      <td>NaN</td>\n",
       "      <td>100000.0</td>\n",
       "      <td>2020-09-08T09:22:07Z</td>\n",
       "      <td>NaN</td>\n",
       "      <td>100</td>\n",
       "    </tr>\n",
       "  </tbody>\n",
       "</table>\n",
       "<p>5 rows × 26 columns</p>\n",
       "</div>"
      ],
      "text/plain": [
       "          bodyType brand   color fuelType  modelDate                   name  \\\n",
       "0            Седан  AUDI  040001   бензин     1990.0  2.8 MT (174 л.с.) 4WD   \n",
       "1            Седан  AUDI  EE1D19   бензин     1982.0       1.8 MT (90 л.с.)   \n",
       "2  Универсал 5 дв.  AUDI  0000CC   бензин     1988.0  2.3 MT (136 л.с.) 4WD   \n",
       "3            Седан  AUDI  CACECB   бензин     1988.0       1.8 MT (90 л.с.)   \n",
       "4            Седан  AUDI  040001   бензин     1990.0      2.0 MT (101 л.с.)   \n",
       "\n",
       "   numberOfDoors  productionDate          vehicleConfiguration  \\\n",
       "0            4.0            1991          SEDAN MECHANICAL 2.8   \n",
       "1            4.0            1986          SEDAN MECHANICAL 1.8   \n",
       "2            5.0            1989  WAGON_5_DOORS MECHANICAL 2.3   \n",
       "3            4.0            1989          SEDAN MECHANICAL 1.8   \n",
       "4            4.0            1991          SEDAN MECHANICAL 2.0   \n",
       "\n",
       "  vehicleTransmission  ...  Руль  Состояние Владельцы        ПТС Таможня  \\\n",
       "0          MECHANICAL  ...  LEFT        NaN       3.0   ORIGINAL    True   \n",
       "1          MECHANICAL  ...  LEFT        NaN       3.0   ORIGINAL    True   \n",
       "2          MECHANICAL  ...  LEFT        NaN       3.0   ORIGINAL    True   \n",
       "3          MECHANICAL  ...  LEFT        NaN       3.0   ORIGINAL    True   \n",
       "4          MECHANICAL  ...  LEFT        NaN       3.0  DUPLICATE    True   \n",
       "\n",
       "  Владение     price            start_date  hidden model  \n",
       "0      NaN  200000.0  2019-10-03T08:09:11Z     NaN   100  \n",
       "1      NaN   60000.0  2020-09-06T06:49:40Z     NaN   100  \n",
       "2      NaN   99000.0  2020-09-02T14:04:21Z     NaN   100  \n",
       "3      NaN   65000.0  2020-08-23T17:40:09Z     NaN   100  \n",
       "4      NaN  100000.0  2020-09-08T09:22:07Z     NaN   100  \n",
       "\n",
       "[5 rows x 26 columns]"
      ]
     },
     "execution_count": 12,
     "metadata": {},
     "output_type": "execute_result"
    }
   ],
   "source": [
    "train.head()"
   ]
  },
  {
   "cell_type": "code",
   "execution_count": 13,
   "metadata": {},
   "outputs": [
    {
     "data": {
      "text/html": [
       "<div>\n",
       "<style scoped>\n",
       "    .dataframe tbody tr th:only-of-type {\n",
       "        vertical-align: middle;\n",
       "    }\n",
       "\n",
       "    .dataframe tbody tr th {\n",
       "        vertical-align: top;\n",
       "    }\n",
       "\n",
       "    .dataframe thead th {\n",
       "        text-align: right;\n",
       "    }\n",
       "</style>\n",
       "<table border=\"1\" class=\"dataframe\">\n",
       "  <thead>\n",
       "    <tr style=\"text-align: right;\">\n",
       "      <th></th>\n",
       "      <th>bodyType</th>\n",
       "      <th>brand</th>\n",
       "      <th>car_url</th>\n",
       "      <th>color</th>\n",
       "      <th>complectation_dict</th>\n",
       "      <th>description</th>\n",
       "      <th>engineDisplacement</th>\n",
       "      <th>enginePower</th>\n",
       "      <th>equipment_dict</th>\n",
       "      <th>fuelType</th>\n",
       "      <th>...</th>\n",
       "      <th>vehicleConfiguration</th>\n",
       "      <th>vehicleTransmission</th>\n",
       "      <th>vendor</th>\n",
       "      <th>Владельцы</th>\n",
       "      <th>Владение</th>\n",
       "      <th>ПТС</th>\n",
       "      <th>Привод</th>\n",
       "      <th>Руль</th>\n",
       "      <th>Состояние</th>\n",
       "      <th>Таможня</th>\n",
       "    </tr>\n",
       "  </thead>\n",
       "  <tbody>\n",
       "    <tr>\n",
       "      <th>0</th>\n",
       "      <td>лифтбек</td>\n",
       "      <td>SKODA</td>\n",
       "      <td>https://auto.ru/cars/used/sale/skoda/octavia/1...</td>\n",
       "      <td>синий</td>\n",
       "      <td>NaN</td>\n",
       "      <td>Все автомобили, представленные в продаже, прох...</td>\n",
       "      <td>1.2 LTR</td>\n",
       "      <td>105 N12</td>\n",
       "      <td>{\"engine-proof\":true,\"tinted-glass\":true,\"airb...</td>\n",
       "      <td>бензин</td>\n",
       "      <td>...</td>\n",
       "      <td>LIFTBACK ROBOT 1.2</td>\n",
       "      <td>роботизированная</td>\n",
       "      <td>EUROPEAN</td>\n",
       "      <td>3 или более</td>\n",
       "      <td>NaN</td>\n",
       "      <td>Оригинал</td>\n",
       "      <td>передний</td>\n",
       "      <td>Левый</td>\n",
       "      <td>Не требует ремонта</td>\n",
       "      <td>Растаможен</td>\n",
       "    </tr>\n",
       "    <tr>\n",
       "      <th>1</th>\n",
       "      <td>лифтбек</td>\n",
       "      <td>SKODA</td>\n",
       "      <td>https://auto.ru/cars/used/sale/skoda/octavia/1...</td>\n",
       "      <td>чёрный</td>\n",
       "      <td>NaN</td>\n",
       "      <td>ЛОТ: 01217195\\nАвтопрага Север\\nДанный автомоб...</td>\n",
       "      <td>1.6 LTR</td>\n",
       "      <td>110 N12</td>\n",
       "      <td>{\"cruise-control\":true,\"asr\":true,\"esp\":true,\"...</td>\n",
       "      <td>бензин</td>\n",
       "      <td>...</td>\n",
       "      <td>LIFTBACK MECHANICAL 1.6</td>\n",
       "      <td>механическая</td>\n",
       "      <td>EUROPEAN</td>\n",
       "      <td>1 владелец</td>\n",
       "      <td>NaN</td>\n",
       "      <td>Оригинал</td>\n",
       "      <td>передний</td>\n",
       "      <td>Левый</td>\n",
       "      <td>Не требует ремонта</td>\n",
       "      <td>Растаможен</td>\n",
       "    </tr>\n",
       "    <tr>\n",
       "      <th>2</th>\n",
       "      <td>лифтбек</td>\n",
       "      <td>SKODA</td>\n",
       "      <td>https://auto.ru/cars/used/sale/skoda/superb/11...</td>\n",
       "      <td>серый</td>\n",
       "      <td>{\"id\":\"20026336\",\"name\":\"Ambition\",\"available_...</td>\n",
       "      <td>Все автомобили, представленные в продаже, прох...</td>\n",
       "      <td>1.8 LTR</td>\n",
       "      <td>152 N12</td>\n",
       "      <td>{\"cruise-control\":true,\"tinted-glass\":true,\"es...</td>\n",
       "      <td>бензин</td>\n",
       "      <td>...</td>\n",
       "      <td>LIFTBACK ROBOT 1.8</td>\n",
       "      <td>роботизированная</td>\n",
       "      <td>EUROPEAN</td>\n",
       "      <td>1 владелец</td>\n",
       "      <td>NaN</td>\n",
       "      <td>Оригинал</td>\n",
       "      <td>передний</td>\n",
       "      <td>Левый</td>\n",
       "      <td>Не требует ремонта</td>\n",
       "      <td>Растаможен</td>\n",
       "    </tr>\n",
       "    <tr>\n",
       "      <th>3</th>\n",
       "      <td>лифтбек</td>\n",
       "      <td>SKODA</td>\n",
       "      <td>https://auto.ru/cars/used/sale/skoda/octavia/1...</td>\n",
       "      <td>коричневый</td>\n",
       "      <td>{\"id\":\"20803582\",\"name\":\"Ambition\",\"available_...</td>\n",
       "      <td>КОМПЛЕКТ ЗИМНЕЙ (ЛЕТНЕЙ) РЕЗИНЫ ПО СЕЗОНУ В ПО...</td>\n",
       "      <td>1.6 LTR</td>\n",
       "      <td>110 N12</td>\n",
       "      <td>{\"cruise-control\":true,\"roller-blind-for-rear-...</td>\n",
       "      <td>бензин</td>\n",
       "      <td>...</td>\n",
       "      <td>LIFTBACK AUTOMATIC 1.6</td>\n",
       "      <td>автоматическая</td>\n",
       "      <td>EUROPEAN</td>\n",
       "      <td>1 владелец</td>\n",
       "      <td>NaN</td>\n",
       "      <td>Оригинал</td>\n",
       "      <td>передний</td>\n",
       "      <td>Левый</td>\n",
       "      <td>Не требует ремонта</td>\n",
       "      <td>Растаможен</td>\n",
       "    </tr>\n",
       "    <tr>\n",
       "      <th>4</th>\n",
       "      <td>лифтбек</td>\n",
       "      <td>SKODA</td>\n",
       "      <td>https://auto.ru/cars/used/sale/skoda/octavia/1...</td>\n",
       "      <td>белый</td>\n",
       "      <td>NaN</td>\n",
       "      <td>ЛОТ: 01220889\\nАвтопрага Север\\n\\nВы можете по...</td>\n",
       "      <td>1.8 LTR</td>\n",
       "      <td>152 N12</td>\n",
       "      <td>{\"cruise-control\":true,\"asr\":true,\"esp\":true,\"...</td>\n",
       "      <td>бензин</td>\n",
       "      <td>...</td>\n",
       "      <td>LIFTBACK AUTOMATIC 1.8</td>\n",
       "      <td>автоматическая</td>\n",
       "      <td>EUROPEAN</td>\n",
       "      <td>1 владелец</td>\n",
       "      <td>NaN</td>\n",
       "      <td>Оригинал</td>\n",
       "      <td>передний</td>\n",
       "      <td>Левый</td>\n",
       "      <td>Не требует ремонта</td>\n",
       "      <td>Растаможен</td>\n",
       "    </tr>\n",
       "  </tbody>\n",
       "</table>\n",
       "<p>5 rows × 32 columns</p>\n",
       "</div>"
      ],
      "text/plain": [
       "  bodyType  brand                                            car_url  \\\n",
       "0  лифтбек  SKODA  https://auto.ru/cars/used/sale/skoda/octavia/1...   \n",
       "1  лифтбек  SKODA  https://auto.ru/cars/used/sale/skoda/octavia/1...   \n",
       "2  лифтбек  SKODA  https://auto.ru/cars/used/sale/skoda/superb/11...   \n",
       "3  лифтбек  SKODA  https://auto.ru/cars/used/sale/skoda/octavia/1...   \n",
       "4  лифтбек  SKODA  https://auto.ru/cars/used/sale/skoda/octavia/1...   \n",
       "\n",
       "        color                                 complectation_dict  \\\n",
       "0       синий                                                NaN   \n",
       "1      чёрный                                                NaN   \n",
       "2       серый  {\"id\":\"20026336\",\"name\":\"Ambition\",\"available_...   \n",
       "3  коричневый  {\"id\":\"20803582\",\"name\":\"Ambition\",\"available_...   \n",
       "4       белый                                                NaN   \n",
       "\n",
       "                                         description engineDisplacement  \\\n",
       "0  Все автомобили, представленные в продаже, прох...            1.2 LTR   \n",
       "1  ЛОТ: 01217195\\nАвтопрага Север\\nДанный автомоб...            1.6 LTR   \n",
       "2  Все автомобили, представленные в продаже, прох...            1.8 LTR   \n",
       "3  КОМПЛЕКТ ЗИМНЕЙ (ЛЕТНЕЙ) РЕЗИНЫ ПО СЕЗОНУ В ПО...            1.6 LTR   \n",
       "4  ЛОТ: 01220889\\nАвтопрага Север\\n\\nВы можете по...            1.8 LTR   \n",
       "\n",
       "  enginePower                                     equipment_dict fuelType  \\\n",
       "0     105 N12  {\"engine-proof\":true,\"tinted-glass\":true,\"airb...   бензин   \n",
       "1     110 N12  {\"cruise-control\":true,\"asr\":true,\"esp\":true,\"...   бензин   \n",
       "2     152 N12  {\"cruise-control\":true,\"tinted-glass\":true,\"es...   бензин   \n",
       "3     110 N12  {\"cruise-control\":true,\"roller-blind-for-rear-...   бензин   \n",
       "4     152 N12  {\"cruise-control\":true,\"asr\":true,\"esp\":true,\"...   бензин   \n",
       "\n",
       "   ...     vehicleConfiguration  vehicleTransmission    vendor    Владельцы  \\\n",
       "0  ...       LIFTBACK ROBOT 1.2     роботизированная  EUROPEAN  3 или более   \n",
       "1  ...  LIFTBACK MECHANICAL 1.6         механическая  EUROPEAN   1 владелец   \n",
       "2  ...       LIFTBACK ROBOT 1.8     роботизированная  EUROPEAN   1 владелец   \n",
       "3  ...   LIFTBACK AUTOMATIC 1.6       автоматическая  EUROPEAN   1 владелец   \n",
       "4  ...   LIFTBACK AUTOMATIC 1.8       автоматическая  EUROPEAN   1 владелец   \n",
       "\n",
       "  Владение       ПТС    Привод   Руль           Состояние     Таможня  \n",
       "0      NaN  Оригинал  передний  Левый  Не требует ремонта  Растаможен  \n",
       "1      NaN  Оригинал  передний  Левый  Не требует ремонта  Растаможен  \n",
       "2      NaN  Оригинал  передний  Левый  Не требует ремонта  Растаможен  \n",
       "3      NaN  Оригинал  передний  Левый  Не требует ремонта  Растаможен  \n",
       "4      NaN  Оригинал  передний  Левый  Не требует ремонта  Растаможен  \n",
       "\n",
       "[5 rows x 32 columns]"
      ]
     },
     "execution_count": 13,
     "metadata": {},
     "output_type": "execute_result"
    }
   ],
   "source": [
    "test.head()"
   ]
  },
  {
   "cell_type": "code",
   "execution_count": 14,
   "metadata": {
    "execution": {
     "iopub.execute_input": "2021-08-25T11:04:32.275268Z",
     "iopub.status.busy": "2021-08-25T11:04:32.274922Z",
     "iopub.status.idle": "2021-08-25T11:04:32.461351Z",
     "shell.execute_reply": "2021-08-25T11:04:32.459854Z",
     "shell.execute_reply.started": "2021-08-25T11:04:32.275216Z"
    },
    "papermill": {
     "duration": 0.22352,
     "end_time": "2020-10-26T12:47:02.502166",
     "exception": false,
     "start_time": "2020-10-26T12:47:02.278646",
     "status": "completed"
    },
    "tags": []
   },
   "outputs": [
    {
     "name": "stdout",
     "output_type": "stream",
     "text": [
      "<class 'pandas.core.frame.DataFrame'>\n",
      "RangeIndex: 89378 entries, 0 to 89377\n",
      "Data columns (total 26 columns):\n",
      " #   Column                Non-Null Count  Dtype  \n",
      "---  ------                --------------  -----  \n",
      " 0   bodyType              89377 non-null  object \n",
      " 1   brand                 89378 non-null  object \n",
      " 2   color                 89378 non-null  object \n",
      " 3   fuelType              89378 non-null  object \n",
      " 4   modelDate             89377 non-null  float64\n",
      " 5   name                  89377 non-null  object \n",
      " 6   numberOfDoors         89377 non-null  float64\n",
      " 7   productionDate        89378 non-null  int64  \n",
      " 8   vehicleConfiguration  89377 non-null  object \n",
      " 9   vehicleTransmission   89377 non-null  object \n",
      " 10  engineDisplacement    89377 non-null  object \n",
      " 11  enginePower           89377 non-null  float64\n",
      " 12  description           86124 non-null  object \n",
      " 13  mileage               89378 non-null  int64  \n",
      " 14  Комплектация          89378 non-null  object \n",
      " 15  Привод                89377 non-null  object \n",
      " 16  Руль                  89378 non-null  object \n",
      " 17  Состояние             0 non-null      float64\n",
      " 18  Владельцы             75790 non-null  float64\n",
      " 19  ПТС                   89017 non-null  object \n",
      " 20  Таможня               89378 non-null  bool   \n",
      " 21  Владение              29201 non-null  object \n",
      " 22  price                 88968 non-null  float64\n",
      " 23  start_date            89378 non-null  object \n",
      " 24  hidden                0 non-null      float64\n",
      " 25  model                 89378 non-null  object \n",
      "dtypes: bool(1), float64(7), int64(2), object(16)\n",
      "memory usage: 17.1+ MB\n"
     ]
    }
   ],
   "source": [
    "train.info()"
   ]
  },
  {
   "cell_type": "code",
   "execution_count": 15,
   "metadata": {
    "execution": {
     "iopub.execute_input": "2021-08-25T11:04:32.463343Z",
     "iopub.status.busy": "2021-08-25T11:04:32.462975Z",
     "iopub.status.idle": "2021-08-25T11:04:32.496176Z",
     "shell.execute_reply": "2021-08-25T11:04:32.494517Z",
     "shell.execute_reply.started": "2021-08-25T11:04:32.463307Z"
    },
    "papermill": {
     "duration": 0.069985,
     "end_time": "2020-10-26T12:47:02.604497",
     "exception": false,
     "start_time": "2020-10-26T12:47:02.534512",
     "status": "completed"
    },
    "tags": []
   },
   "outputs": [
    {
     "data": {
      "text/html": [
       "<div>\n",
       "<style scoped>\n",
       "    .dataframe tbody tr th:only-of-type {\n",
       "        vertical-align: middle;\n",
       "    }\n",
       "\n",
       "    .dataframe tbody tr th {\n",
       "        vertical-align: top;\n",
       "    }\n",
       "\n",
       "    .dataframe thead th {\n",
       "        text-align: right;\n",
       "    }\n",
       "</style>\n",
       "<table border=\"1\" class=\"dataframe\">\n",
       "  <thead>\n",
       "    <tr style=\"text-align: right;\">\n",
       "      <th></th>\n",
       "      <th>bodyType</th>\n",
       "      <th>brand</th>\n",
       "      <th>car_url</th>\n",
       "      <th>color</th>\n",
       "      <th>complectation_dict</th>\n",
       "      <th>description</th>\n",
       "      <th>engineDisplacement</th>\n",
       "      <th>enginePower</th>\n",
       "      <th>equipment_dict</th>\n",
       "      <th>fuelType</th>\n",
       "      <th>...</th>\n",
       "      <th>vehicleConfiguration</th>\n",
       "      <th>vehicleTransmission</th>\n",
       "      <th>vendor</th>\n",
       "      <th>Владельцы</th>\n",
       "      <th>Владение</th>\n",
       "      <th>ПТС</th>\n",
       "      <th>Привод</th>\n",
       "      <th>Руль</th>\n",
       "      <th>Состояние</th>\n",
       "      <th>Таможня</th>\n",
       "    </tr>\n",
       "  </thead>\n",
       "  <tbody>\n",
       "    <tr>\n",
       "      <th>0</th>\n",
       "      <td>лифтбек</td>\n",
       "      <td>SKODA</td>\n",
       "      <td>https://auto.ru/cars/used/sale/skoda/octavia/1...</td>\n",
       "      <td>синий</td>\n",
       "      <td>NaN</td>\n",
       "      <td>Все автомобили, представленные в продаже, прох...</td>\n",
       "      <td>1.2 LTR</td>\n",
       "      <td>105 N12</td>\n",
       "      <td>{\"engine-proof\":true,\"tinted-glass\":true,\"airb...</td>\n",
       "      <td>бензин</td>\n",
       "      <td>...</td>\n",
       "      <td>LIFTBACK ROBOT 1.2</td>\n",
       "      <td>роботизированная</td>\n",
       "      <td>EUROPEAN</td>\n",
       "      <td>3 или более</td>\n",
       "      <td>NaN</td>\n",
       "      <td>Оригинал</td>\n",
       "      <td>передний</td>\n",
       "      <td>Левый</td>\n",
       "      <td>Не требует ремонта</td>\n",
       "      <td>Растаможен</td>\n",
       "    </tr>\n",
       "    <tr>\n",
       "      <th>1</th>\n",
       "      <td>лифтбек</td>\n",
       "      <td>SKODA</td>\n",
       "      <td>https://auto.ru/cars/used/sale/skoda/octavia/1...</td>\n",
       "      <td>чёрный</td>\n",
       "      <td>NaN</td>\n",
       "      <td>ЛОТ: 01217195\\nАвтопрага Север\\nДанный автомоб...</td>\n",
       "      <td>1.6 LTR</td>\n",
       "      <td>110 N12</td>\n",
       "      <td>{\"cruise-control\":true,\"asr\":true,\"esp\":true,\"...</td>\n",
       "      <td>бензин</td>\n",
       "      <td>...</td>\n",
       "      <td>LIFTBACK MECHANICAL 1.6</td>\n",
       "      <td>механическая</td>\n",
       "      <td>EUROPEAN</td>\n",
       "      <td>1 владелец</td>\n",
       "      <td>NaN</td>\n",
       "      <td>Оригинал</td>\n",
       "      <td>передний</td>\n",
       "      <td>Левый</td>\n",
       "      <td>Не требует ремонта</td>\n",
       "      <td>Растаможен</td>\n",
       "    </tr>\n",
       "    <tr>\n",
       "      <th>2</th>\n",
       "      <td>лифтбек</td>\n",
       "      <td>SKODA</td>\n",
       "      <td>https://auto.ru/cars/used/sale/skoda/superb/11...</td>\n",
       "      <td>серый</td>\n",
       "      <td>{\"id\":\"20026336\",\"name\":\"Ambition\",\"available_...</td>\n",
       "      <td>Все автомобили, представленные в продаже, прох...</td>\n",
       "      <td>1.8 LTR</td>\n",
       "      <td>152 N12</td>\n",
       "      <td>{\"cruise-control\":true,\"tinted-glass\":true,\"es...</td>\n",
       "      <td>бензин</td>\n",
       "      <td>...</td>\n",
       "      <td>LIFTBACK ROBOT 1.8</td>\n",
       "      <td>роботизированная</td>\n",
       "      <td>EUROPEAN</td>\n",
       "      <td>1 владелец</td>\n",
       "      <td>NaN</td>\n",
       "      <td>Оригинал</td>\n",
       "      <td>передний</td>\n",
       "      <td>Левый</td>\n",
       "      <td>Не требует ремонта</td>\n",
       "      <td>Растаможен</td>\n",
       "    </tr>\n",
       "    <tr>\n",
       "      <th>3</th>\n",
       "      <td>лифтбек</td>\n",
       "      <td>SKODA</td>\n",
       "      <td>https://auto.ru/cars/used/sale/skoda/octavia/1...</td>\n",
       "      <td>коричневый</td>\n",
       "      <td>{\"id\":\"20803582\",\"name\":\"Ambition\",\"available_...</td>\n",
       "      <td>КОМПЛЕКТ ЗИМНЕЙ (ЛЕТНЕЙ) РЕЗИНЫ ПО СЕЗОНУ В ПО...</td>\n",
       "      <td>1.6 LTR</td>\n",
       "      <td>110 N12</td>\n",
       "      <td>{\"cruise-control\":true,\"roller-blind-for-rear-...</td>\n",
       "      <td>бензин</td>\n",
       "      <td>...</td>\n",
       "      <td>LIFTBACK AUTOMATIC 1.6</td>\n",
       "      <td>автоматическая</td>\n",
       "      <td>EUROPEAN</td>\n",
       "      <td>1 владелец</td>\n",
       "      <td>NaN</td>\n",
       "      <td>Оригинал</td>\n",
       "      <td>передний</td>\n",
       "      <td>Левый</td>\n",
       "      <td>Не требует ремонта</td>\n",
       "      <td>Растаможен</td>\n",
       "    </tr>\n",
       "    <tr>\n",
       "      <th>4</th>\n",
       "      <td>лифтбек</td>\n",
       "      <td>SKODA</td>\n",
       "      <td>https://auto.ru/cars/used/sale/skoda/octavia/1...</td>\n",
       "      <td>белый</td>\n",
       "      <td>NaN</td>\n",
       "      <td>ЛОТ: 01220889\\nАвтопрага Север\\n\\nВы можете по...</td>\n",
       "      <td>1.8 LTR</td>\n",
       "      <td>152 N12</td>\n",
       "      <td>{\"cruise-control\":true,\"asr\":true,\"esp\":true,\"...</td>\n",
       "      <td>бензин</td>\n",
       "      <td>...</td>\n",
       "      <td>LIFTBACK AUTOMATIC 1.8</td>\n",
       "      <td>автоматическая</td>\n",
       "      <td>EUROPEAN</td>\n",
       "      <td>1 владелец</td>\n",
       "      <td>NaN</td>\n",
       "      <td>Оригинал</td>\n",
       "      <td>передний</td>\n",
       "      <td>Левый</td>\n",
       "      <td>Не требует ремонта</td>\n",
       "      <td>Растаможен</td>\n",
       "    </tr>\n",
       "  </tbody>\n",
       "</table>\n",
       "<p>5 rows × 32 columns</p>\n",
       "</div>"
      ],
      "text/plain": [
       "  bodyType  brand                                            car_url  \\\n",
       "0  лифтбек  SKODA  https://auto.ru/cars/used/sale/skoda/octavia/1...   \n",
       "1  лифтбек  SKODA  https://auto.ru/cars/used/sale/skoda/octavia/1...   \n",
       "2  лифтбек  SKODA  https://auto.ru/cars/used/sale/skoda/superb/11...   \n",
       "3  лифтбек  SKODA  https://auto.ru/cars/used/sale/skoda/octavia/1...   \n",
       "4  лифтбек  SKODA  https://auto.ru/cars/used/sale/skoda/octavia/1...   \n",
       "\n",
       "        color                                 complectation_dict  \\\n",
       "0       синий                                                NaN   \n",
       "1      чёрный                                                NaN   \n",
       "2       серый  {\"id\":\"20026336\",\"name\":\"Ambition\",\"available_...   \n",
       "3  коричневый  {\"id\":\"20803582\",\"name\":\"Ambition\",\"available_...   \n",
       "4       белый                                                NaN   \n",
       "\n",
       "                                         description engineDisplacement  \\\n",
       "0  Все автомобили, представленные в продаже, прох...            1.2 LTR   \n",
       "1  ЛОТ: 01217195\\nАвтопрага Север\\nДанный автомоб...            1.6 LTR   \n",
       "2  Все автомобили, представленные в продаже, прох...            1.8 LTR   \n",
       "3  КОМПЛЕКТ ЗИМНЕЙ (ЛЕТНЕЙ) РЕЗИНЫ ПО СЕЗОНУ В ПО...            1.6 LTR   \n",
       "4  ЛОТ: 01220889\\nАвтопрага Север\\n\\nВы можете по...            1.8 LTR   \n",
       "\n",
       "  enginePower                                     equipment_dict fuelType  \\\n",
       "0     105 N12  {\"engine-proof\":true,\"tinted-glass\":true,\"airb...   бензин   \n",
       "1     110 N12  {\"cruise-control\":true,\"asr\":true,\"esp\":true,\"...   бензин   \n",
       "2     152 N12  {\"cruise-control\":true,\"tinted-glass\":true,\"es...   бензин   \n",
       "3     110 N12  {\"cruise-control\":true,\"roller-blind-for-rear-...   бензин   \n",
       "4     152 N12  {\"cruise-control\":true,\"asr\":true,\"esp\":true,\"...   бензин   \n",
       "\n",
       "   ...     vehicleConfiguration  vehicleTransmission    vendor    Владельцы  \\\n",
       "0  ...       LIFTBACK ROBOT 1.2     роботизированная  EUROPEAN  3 или более   \n",
       "1  ...  LIFTBACK MECHANICAL 1.6         механическая  EUROPEAN   1 владелец   \n",
       "2  ...       LIFTBACK ROBOT 1.8     роботизированная  EUROPEAN   1 владелец   \n",
       "3  ...   LIFTBACK AUTOMATIC 1.6       автоматическая  EUROPEAN   1 владелец   \n",
       "4  ...   LIFTBACK AUTOMATIC 1.8       автоматическая  EUROPEAN   1 владелец   \n",
       "\n",
       "  Владение       ПТС    Привод   Руль           Состояние     Таможня  \n",
       "0      NaN  Оригинал  передний  Левый  Не требует ремонта  Растаможен  \n",
       "1      NaN  Оригинал  передний  Левый  Не требует ремонта  Растаможен  \n",
       "2      NaN  Оригинал  передний  Левый  Не требует ремонта  Растаможен  \n",
       "3      NaN  Оригинал  передний  Левый  Не требует ремонта  Растаможен  \n",
       "4      NaN  Оригинал  передний  Левый  Не требует ремонта  Растаможен  \n",
       "\n",
       "[5 rows x 32 columns]"
      ]
     },
     "execution_count": 15,
     "metadata": {},
     "output_type": "execute_result"
    }
   ],
   "source": [
    "test.head(5)"
   ]
  },
  {
   "cell_type": "code",
   "execution_count": 16,
   "metadata": {
    "execution": {
     "iopub.execute_input": "2021-08-25T11:04:32.498456Z",
     "iopub.status.busy": "2021-08-25T11:04:32.49808Z",
     "iopub.status.idle": "2021-08-25T11:04:32.618252Z",
     "shell.execute_reply": "2021-08-25T11:04:32.617117Z",
     "shell.execute_reply.started": "2021-08-25T11:04:32.498408Z"
    },
    "papermill": {
     "duration": 0.160401,
     "end_time": "2020-10-26T12:47:02.798587",
     "exception": false,
     "start_time": "2020-10-26T12:47:02.638186",
     "status": "completed"
    },
    "tags": []
   },
   "outputs": [
    {
     "name": "stdout",
     "output_type": "stream",
     "text": [
      "<class 'pandas.core.frame.DataFrame'>\n",
      "RangeIndex: 34686 entries, 0 to 34685\n",
      "Data columns (total 32 columns):\n",
      " #   Column                Non-Null Count  Dtype \n",
      "---  ------                --------------  ----- \n",
      " 0   bodyType              34686 non-null  object\n",
      " 1   brand                 34686 non-null  object\n",
      " 2   car_url               34686 non-null  object\n",
      " 3   color                 34686 non-null  object\n",
      " 4   complectation_dict    6418 non-null   object\n",
      " 5   description           34686 non-null  object\n",
      " 6   engineDisplacement    34686 non-null  object\n",
      " 7   enginePower           34686 non-null  object\n",
      " 8   equipment_dict        24690 non-null  object\n",
      " 9   fuelType              34686 non-null  object\n",
      " 10  image                 34686 non-null  object\n",
      " 11  mileage               34686 non-null  int64 \n",
      " 12  modelDate             34686 non-null  int64 \n",
      " 13  model_info            34686 non-null  object\n",
      " 14  model_name            34686 non-null  object\n",
      " 15  name                  34686 non-null  object\n",
      " 16  numberOfDoors         34686 non-null  int64 \n",
      " 17  parsing_unixtime      34686 non-null  int64 \n",
      " 18  priceCurrency         34686 non-null  object\n",
      " 19  productionDate        34686 non-null  int64 \n",
      " 20  sell_id               34686 non-null  int64 \n",
      " 21  super_gen             34686 non-null  object\n",
      " 22  vehicleConfiguration  34686 non-null  object\n",
      " 23  vehicleTransmission   34686 non-null  object\n",
      " 24  vendor                34686 non-null  object\n",
      " 25  Владельцы             34686 non-null  object\n",
      " 26  Владение              11995 non-null  object\n",
      " 27  ПТС                   34685 non-null  object\n",
      " 28  Привод                34686 non-null  object\n",
      " 29  Руль                  34686 non-null  object\n",
      " 30  Состояние             34686 non-null  object\n",
      " 31  Таможня               34686 non-null  object\n",
      "dtypes: int64(6), object(26)\n",
      "memory usage: 8.5+ MB\n"
     ]
    }
   ],
   "source": [
    "test.info()"
   ]
  },
  {
   "cell_type": "markdown",
   "metadata": {},
   "source": [
    "## Web Data Extracting (auto.ru)"
   ]
  },
  {
   "cell_type": "markdown",
   "metadata": {},
   "source": [
    "Посмотрим на список колонок, которые есть в test, но нет в подключенном train."
   ]
  },
  {
   "cell_type": "code",
   "execution_count": 17,
   "metadata": {
    "execution": {
     "iopub.execute_input": "2021-08-25T11:04:32.620167Z",
     "iopub.status.busy": "2021-08-25T11:04:32.619832Z",
     "iopub.status.idle": "2021-08-25T11:04:32.65548Z",
     "shell.execute_reply": "2021-08-25T11:04:32.654553Z",
     "shell.execute_reply.started": "2021-08-25T11:04:32.620131Z"
    }
   },
   "outputs": [
    {
     "name": "stdout",
     "output_type": "stream",
     "text": [
      "Список колонок, которых нет в train, но есть в test: ['sell_id', 'priceCurrency', 'complectation_dict', 'equipment_dict', 'model_name', 'parsing_unixtime', 'super_gen', 'vendor', 'image', 'car_url', 'model_info']\n"
     ]
    },
    {
     "data": {
      "text/html": [
       "<div>\n",
       "<style scoped>\n",
       "    .dataframe tbody tr th:only-of-type {\n",
       "        vertical-align: middle;\n",
       "    }\n",
       "\n",
       "    .dataframe tbody tr th {\n",
       "        vertical-align: top;\n",
       "    }\n",
       "\n",
       "    .dataframe thead th {\n",
       "        text-align: right;\n",
       "    }\n",
       "</style>\n",
       "<table border=\"1\" class=\"dataframe\">\n",
       "  <thead>\n",
       "    <tr style=\"text-align: right;\">\n",
       "      <th></th>\n",
       "      <th>sell_id</th>\n",
       "      <th>priceCurrency</th>\n",
       "      <th>complectation_dict</th>\n",
       "      <th>equipment_dict</th>\n",
       "      <th>model_name</th>\n",
       "      <th>parsing_unixtime</th>\n",
       "      <th>super_gen</th>\n",
       "      <th>vendor</th>\n",
       "      <th>image</th>\n",
       "      <th>car_url</th>\n",
       "      <th>model_info</th>\n",
       "    </tr>\n",
       "  </thead>\n",
       "  <tbody>\n",
       "    <tr>\n",
       "      <th>33267</th>\n",
       "      <td>1100703910</td>\n",
       "      <td>RUB</td>\n",
       "      <td>{\"id\":\"7277934\",\"name\":\"Комфорт\",\"available_op...</td>\n",
       "      <td>{\"cruise-control\":true,\"tinted-glass\":true,\"es...</td>\n",
       "      <td>RAV_4</td>\n",
       "      <td>1603612920</td>\n",
       "      <td>{\"id\":\"7277930\",\"displacement\":1987,\"engine_ty...</td>\n",
       "      <td>JAPANESE</td>\n",
       "      <td>https://avatars.mds.yandex.net/get-autoru-vos/...</td>\n",
       "      <td>https://auto.ru/cars/used/sale/toyota/rav_4/11...</td>\n",
       "      <td>{\"code\":\"RAV_4\",\"name\":\"RAV4\",\"ru_name\":\"Рав4\"...</td>\n",
       "    </tr>\n",
       "    <tr>\n",
       "      <th>8716</th>\n",
       "      <td>1101145783</td>\n",
       "      <td>RUB</td>\n",
       "      <td>NaN</td>\n",
       "      <td>{\"alloy-wheel-disks\":true,\"ptf\":true,\"rain-sen...</td>\n",
       "      <td>3ER</td>\n",
       "      <td>1603112226</td>\n",
       "      <td>{\"id\":\"2415645\",\"name\":\"325\",\"nameplate\":\"325i...</td>\n",
       "      <td>EUROPEAN</td>\n",
       "      <td>https://autoru.naydex.net/lICN99c69/9bc7d3Rr7k...</td>\n",
       "      <td>https://auto.ru/cars/used/sale/bmw/3er/1101145...</td>\n",
       "      <td>{\"code\":\"3ER\",\"name\":\"3 серии\",\"ru_name\":\"3 се...</td>\n",
       "    </tr>\n",
       "    <tr>\n",
       "      <th>29832</th>\n",
       "      <td>1101339301</td>\n",
       "      <td>RUB</td>\n",
       "      <td>NaN</td>\n",
       "      <td>NaN</td>\n",
       "      <td>3ER</td>\n",
       "      <td>1603566173</td>\n",
       "      <td>{\"id\":\"21291692\",\"name\":\"318\",\"nameplate\":\"318...</td>\n",
       "      <td>EUROPEAN</td>\n",
       "      <td>https://avatars.mds.yandex.net/get-autoru-vos/...</td>\n",
       "      <td>https://auto.ru/cars/used/sale/bmw/3er/1101339...</td>\n",
       "      <td>{\"code\":\"3ER\",\"name\":\"3 серии\",\"ru_name\":\"3 се...</td>\n",
       "    </tr>\n",
       "  </tbody>\n",
       "</table>\n",
       "</div>"
      ],
      "text/plain": [
       "          sell_id priceCurrency  \\\n",
       "33267  1100703910           RUB   \n",
       "8716   1101145783           RUB   \n",
       "29832  1101339301           RUB   \n",
       "\n",
       "                                      complectation_dict  \\\n",
       "33267  {\"id\":\"7277934\",\"name\":\"Комфорт\",\"available_op...   \n",
       "8716                                                 NaN   \n",
       "29832                                                NaN   \n",
       "\n",
       "                                          equipment_dict model_name  \\\n",
       "33267  {\"cruise-control\":true,\"tinted-glass\":true,\"es...      RAV_4   \n",
       "8716   {\"alloy-wheel-disks\":true,\"ptf\":true,\"rain-sen...        3ER   \n",
       "29832                                                NaN        3ER   \n",
       "\n",
       "       parsing_unixtime                                          super_gen  \\\n",
       "33267        1603612920  {\"id\":\"7277930\",\"displacement\":1987,\"engine_ty...   \n",
       "8716         1603112226  {\"id\":\"2415645\",\"name\":\"325\",\"nameplate\":\"325i...   \n",
       "29832        1603566173  {\"id\":\"21291692\",\"name\":\"318\",\"nameplate\":\"318...   \n",
       "\n",
       "         vendor                                              image  \\\n",
       "33267  JAPANESE  https://avatars.mds.yandex.net/get-autoru-vos/...   \n",
       "8716   EUROPEAN  https://autoru.naydex.net/lICN99c69/9bc7d3Rr7k...   \n",
       "29832  EUROPEAN  https://avatars.mds.yandex.net/get-autoru-vos/...   \n",
       "\n",
       "                                                 car_url  \\\n",
       "33267  https://auto.ru/cars/used/sale/toyota/rav_4/11...   \n",
       "8716   https://auto.ru/cars/used/sale/bmw/3er/1101145...   \n",
       "29832  https://auto.ru/cars/used/sale/bmw/3er/1101339...   \n",
       "\n",
       "                                              model_info  \n",
       "33267  {\"code\":\"RAV_4\",\"name\":\"RAV4\",\"ru_name\":\"Рав4\"...  \n",
       "8716   {\"code\":\"3ER\",\"name\":\"3 серии\",\"ru_name\":\"3 се...  \n",
       "29832  {\"code\":\"3ER\",\"name\":\"3 серии\",\"ru_name\":\"3 се...  "
      ]
     },
     "execution_count": 17,
     "metadata": {},
     "output_type": "execute_result"
    }
   ],
   "source": [
    "# Список колонок, которых нет в train\n",
    "dif_list = list(set(test.columns).difference(train.columns))\n",
    "print(\"Список колонок, которых нет в train, но есть в test:\", dif_list)\n",
    "\n",
    "# Посмотрим на данные в этих колонках\n",
    "test[dif_list].sample(3)"
   ]
  },
  {
   "cell_type": "code",
   "execution_count": 18,
   "metadata": {
    "execution": {
     "iopub.execute_input": "2021-08-25T11:04:32.657295Z",
     "iopub.status.busy": "2021-08-25T11:04:32.656787Z",
     "iopub.status.idle": "2021-08-25T11:04:32.796494Z",
     "shell.execute_reply": "2021-08-25T11:04:32.794988Z",
     "shell.execute_reply.started": "2021-08-25T11:04:32.65725Z"
    }
   },
   "outputs": [
    {
     "name": "stdout",
     "output_type": "stream",
     "text": [
      "sell_id 34686\n",
      "priceCurrency 1\n",
      "complectation_dict 2364\n",
      "equipment_dict 23705\n",
      "model_name 544\n",
      "parsing_unixtime 34686\n",
      "super_gen 5890\n",
      "vendor 2\n",
      "image 34557\n",
      "car_url 34686\n",
      "model_info 954\n"
     ]
    }
   ],
   "source": [
    "# Посмотрим на колическтво уникальных значений\n",
    "for item in dif_list:\n",
    "    print(item, test[item].nunique())"
   ]
  },
  {
   "cell_type": "markdown",
   "metadata": {},
   "source": [
    "Выводы:\n",
    "1. Из информации car_url видим, что данные собирались с сайта auto.ru, будем парсить данные оттуда\n",
    "2. Следующие поля из test можно не парсить и удалить далее при анализе, т.к. они уникальны для каждой записи: car_url и priceCurrency, т.к. всего одно значение (RUB). Car_url оставим, чтоб можно было посмотреть информацию о машине.\n",
    "3. Ограничимся для начала двумя вендорами: EUROPEAN, JAPANESE\n",
    "4. Цену автомобиля собираем в RUB\n",
    "5. Собираем информацию по полям: 'bodyType', 'brand', 'car_url', 'color', 'complectation_dict', 'description', 'engineDisplacement', 'enginePower', 'equipment_dict','fuelType', 'image', 'mileage', 'modelDate', 'model_info', 'model_name','name', 'numberOfDoors', 'parsing_unixtime', 'priceCurrency','productionDate', 'sell_id', 'super_gen', 'vehicleConfiguration','vehicleTransmission', 'vendor', 'Владельцы', 'Владение', 'ПТС','Привод', 'Руль', 'Состояние', 'Таможня', 'sample', 'price'"
   ]
  },
  {
   "cell_type": "markdown",
   "metadata": {
    "papermill": {
     "duration": 0.033402,
     "end_time": "2020-10-26T12:47:02.866506",
     "exception": false,
     "start_time": "2020-10-26T12:47:02.833104",
     "status": "completed"
    },
    "tags": []
   },
   "source": [
    "# 3. EDA & Basic Data Cleaning\n",
    "\n",
    "Проведем анализ данных, сделаем базовый препроцессинг данных.\n",
    "\n",
    "### 3.1 Переименуем колонки с кириллицы на латиницу"
   ]
  },
  {
   "cell_type": "code",
   "execution_count": 19,
   "metadata": {
    "execution": {
     "iopub.execute_input": "2021-08-25T11:04:32.798976Z",
     "iopub.status.busy": "2021-08-25T11:04:32.798607Z",
     "iopub.status.idle": "2021-08-25T11:04:32.847146Z",
     "shell.execute_reply": "2021-08-25T11:04:32.84561Z",
     "shell.execute_reply.started": "2021-08-25T11:04:32.798941Z"
    }
   },
   "outputs": [],
   "source": [
    "# Переименуем test  колонки\n",
    "test.rename(columns={\"Привод\": \"drivetrain\",\n",
    "                     \"Руль\": \"driveSide\",\n",
    "                     \"Состояние\": \"condition\",\n",
    "                     \"Владельцы\": \"ownersCount\",\n",
    "                     \"ПТС\": \"tcp\",\n",
    "                     \"Таможня\": \"customs\",\n",
    "                     \"Владение\": \"ownershipTime\",\n",
    "                     \"model_name\": \"model\"}, inplace=True)\n",
    "\n",
    "# Переименуем train  колонки\n",
    "train.rename(columns={\"Привод\": \"drivetrain\",\n",
    "                      \"Руль\": \"driveSide\",\n",
    "                      \"Состояние\": \"condition\",\n",
    "                      \"Владельцы\": \"ownersCount\",\n",
    "                      \"ПТС\": \"tcp\",\n",
    "                      \"Таможня\": \"customs\",\n",
    "                      \"Владение\": \"ownershipTime\"}, inplace=True)"
   ]
  },
  {
   "cell_type": "markdown",
   "metadata": {},
   "source": [
    "### 3.2 Предварительный анализ test данных\n",
    "\n",
    "Посмотрим на данные в test, которые нужно предсказывать, на особенности данных."
   ]
  },
  {
   "cell_type": "code",
   "execution_count": 20,
   "metadata": {},
   "outputs": [],
   "source": [
    "#ProfileReport(test, title=\"Pandas Profiling Report for Test Dataset\")"
   ]
  },
  {
   "cell_type": "markdown",
   "metadata": {},
   "source": [
    "Выводы: во время последующего сбора данных и анализа обратить внимание на:\n",
    "1. Есть пропуски в test данных - нужно попробовать заполнить\n",
    "2. Представлено всего 12 брендов автомобилей\n",
    "3. Признаки, которые выглядят бесполезными для моделирования - car_url (уникальный для каждой записи), priceCurrencly (одинаковый у всех)\n",
    "4. Необходимо разобраться с признаками complectation_dict, description, equipment_dict, model_info, super_gen - посмотреть, можно ли извлечь доп. признаки\n",
    "5. Condition - у всех \"хорошее состояние\", обратить внимание, если в train будут записи и другим состоянием, может влиять на выбросы по цене.\n",
    "6. Customs - у всех \"растоможетн\", обратить внимание, если в train будут записи и другим состоянием, может влиять на выбросы по цене."
   ]
  },
  {
   "cell_type": "markdown",
   "metadata": {},
   "source": [
    "### 3.3 Сравним типы данных в test и train\n",
    "\n",
    "Найдем расхождения в типах данных для train и test, устраним их до анализа данных."
   ]
  },
  {
   "cell_type": "code",
   "execution_count": 21,
   "metadata": {},
   "outputs": [],
   "source": [
    "# Создадим список с колонками, которые присутствуют и в train, и в test\n",
    "cols_intersection = list(set(test.columns).intersection(train.columns))"
   ]
  },
  {
   "cell_type": "code",
   "execution_count": 22,
   "metadata": {},
   "outputs": [
    {
     "name": "stdout",
     "output_type": "stream",
     "text": [
      "Найдены расхождения в типах данных для:\n",
      "\t- колонки condition: для train - <class 'numpy.float64'>, для test - <class 'str'>\n",
      "\t- колонки enginePower: для train - <class 'numpy.float64'>, для test - <class 'str'>\n",
      "\t- колонки customs: для train - <class 'numpy.bool_'>, для test - <class 'str'>\n",
      "\t- колонки ownersCount: для train - <class 'numpy.float64'>, для test - <class 'str'>\n",
      "\t- колонки numberOfDoors: для train - <class 'numpy.float64'>, для test - <class 'numpy.int64'>\n",
      "\t- колонки modelDate: для train - <class 'numpy.float64'>, для test - <class 'numpy.int64'>\n"
     ]
    }
   ],
   "source": [
    "# Проверим, в каких колонках типы данных различаются у train и test\n",
    "cols_type_dif = []  # создаем список с колонками, в которых типы данных отличаются\n",
    "print(\"Найдены расхождения в типах данных для:\")\n",
    "\n",
    "for col in cols_intersection:\n",
    "    if type(test[col][0]) != type(train[col][0]):\n",
    "        print(\n",
    "            f\"\\t- колонки {col}: для train - {type(train[col][0])}, для test - {type(test[col][0])}\")\n",
    "        cols_type_dif.append(col)"
   ]
  },
  {
   "cell_type": "markdown",
   "metadata": {},
   "source": [
    "**ownersCount**\n",
    "\n",
    "Количество владельцев автомобиля (1 - один, 2 - два, 3 - 3 и более)."
   ]
  },
  {
   "cell_type": "code",
   "execution_count": 23,
   "metadata": {},
   "outputs": [
    {
     "name": "stdout",
     "output_type": "stream",
     "text": [
      "Уникальные значения для train [ 3.  1.  2. nan]\n",
      "Уникальные значения для test ['3 или более' '1\\xa0владелец' '2\\xa0владельца']\n"
     ]
    }
   ],
   "source": [
    "print(\"Уникальные значения для train\", train.ownersCount.unique())\n",
    "print(\"Уникальные значения для test\", test.ownersCount.unique())"
   ]
  },
  {
   "cell_type": "markdown",
   "metadata": {},
   "source": [
    "Преобразуем значения test в числовые (float)."
   ]
  },
  {
   "cell_type": "code",
   "execution_count": 24,
   "metadata": {},
   "outputs": [],
   "source": [
    "# Создаем словать с кодировкой значений в числовые\n",
    "ownersCount_dict = {\"3 или более\": 3.,\n",
    "                    \"1\\xa0владелец\": 1., \"2\\xa0владельца\": 2.}\n",
    "test['ownersCount'].replace(\n",
    "    to_replace=ownersCount_dict, inplace=True)  # заменяем значения в соответствии со словарем"
   ]
  },
  {
   "cell_type": "code",
   "execution_count": 25,
   "metadata": {},
   "outputs": [
    {
     "name": "stdout",
     "output_type": "stream",
     "text": [
      "Уникальные значения для test [3. 1. 2.]\n"
     ]
    }
   ],
   "source": [
    "# Проверяем результаты преобразования\n",
    "print(\"Уникальные значения для test\", test.ownersCount.unique())"
   ]
  },
  {
   "cell_type": "markdown",
   "metadata": {},
   "source": [
    "**enginePower**\n",
    "\n",
    "Мощность л.с."
   ]
  },
  {
   "cell_type": "code",
   "execution_count": 26,
   "metadata": {},
   "outputs": [
    {
     "name": "stdout",
     "output_type": "stream",
     "text": [
      "Пример значения для train [180.]\n",
      "Пример значения для test ['469 N12']\n"
     ]
    }
   ],
   "source": [
    "print(\"Пример значения для train\", train.enginePower.sample(1).values)\n",
    "print(\"Пример значения для test\", test.enginePower.sample(1).values)"
   ]
  },
  {
   "cell_type": "markdown",
   "metadata": {},
   "source": [
    "Преобразуем значения test в числовые (float)."
   ]
  },
  {
   "cell_type": "code",
   "execution_count": 27,
   "metadata": {},
   "outputs": [
    {
     "data": {
      "text/plain": [
       "315"
      ]
     },
     "execution_count": 27,
     "metadata": {},
     "output_type": "execute_result"
    }
   ],
   "source": [
    "test.enginePower.nunique()"
   ]
  },
  {
   "cell_type": "code",
   "execution_count": 28,
   "metadata": {},
   "outputs": [],
   "source": [
    "# Преобразовываем значения столбца, избавляемся от постфика N12\n",
    "test['enginePower'] = test['enginePower'].apply(\n",
    "    lambda x: float(x.split(\" \")[0]))"
   ]
  },
  {
   "cell_type": "code",
   "execution_count": 29,
   "metadata": {},
   "outputs": [
    {
     "name": "stdout",
     "output_type": "stream",
     "text": [
      "Пример значения для test [122.]\n"
     ]
    }
   ],
   "source": [
    "# Посмотрим на результат преобразования\n",
    "print(\"Пример значения для test\", test.enginePower.sample(1).values)"
   ]
  },
  {
   "cell_type": "markdown",
   "metadata": {},
   "source": [
    "**numberOfDoors**\n",
    "\n",
    "Количество дверей."
   ]
  },
  {
   "cell_type": "code",
   "execution_count": 30,
   "metadata": {},
   "outputs": [
    {
     "name": "stdout",
     "output_type": "stream",
     "text": [
      "Уникальные значения для train [ 4.  5.  3.  2. nan  0.]\n",
      "Уникальные значения для test [5 4 2 3 0]\n"
     ]
    }
   ],
   "source": [
    "print(\"Уникальные значения для train\", train.numberOfDoors.unique())\n",
    "print(\"Уникальные значения для test\", test.numberOfDoors.unique())"
   ]
  },
  {
   "cell_type": "markdown",
   "metadata": {},
   "source": [
    "Значения аналогичны, целые числа, приведем в train к int."
   ]
  },
  {
   "cell_type": "code",
   "execution_count": 31,
   "metadata": {},
   "outputs": [],
   "source": [
    "# Конвертируем в int\n",
    "train['numberOfDoors'] = train['numberOfDoors'].astype('Int64')"
   ]
  },
  {
   "cell_type": "markdown",
   "metadata": {},
   "source": [
    "**customs**\n",
    "\n",
    "Информация, растоможен ли автомобиль: 0 - не растоможен, 1 - растоможен."
   ]
  },
  {
   "cell_type": "code",
   "execution_count": 32,
   "metadata": {},
   "outputs": [
    {
     "name": "stdout",
     "output_type": "stream",
     "text": [
      "Уникальные значения для train [ True]\n",
      "Уникальные значения для test ['Растаможен']\n"
     ]
    }
   ],
   "source": [
    "print(\"Уникальные значения для train\", train.customs.unique())\n",
    "print(\"Уникальные значения для test\", test.customs.unique())"
   ]
  },
  {
   "cell_type": "markdown",
   "metadata": {},
   "source": [
    "Поскольку далее для моделирования нам понадобится числовая переменная, то сразу переведем в числовую 0 - не растоможен, 1 - растоможен, как для train, так и для test."
   ]
  },
  {
   "cell_type": "code",
   "execution_count": 33,
   "metadata": {},
   "outputs": [],
   "source": [
    "# Делаем преобразование значений в int (0 или 1)\n",
    "train['customs'] = train['customs'].apply(lambda x: 1 if x == True else 0)\n",
    "test['customs'] = test['customs'].apply(\n",
    "    lambda x: 1 if x == \"Растаможен\" else 0)"
   ]
  },
  {
   "cell_type": "markdown",
   "metadata": {},
   "source": [
    "**condition**\n",
    "\n",
    "Состояние автомобиля: 0 - не требует ремонта , 1 - требует ремонта."
   ]
  },
  {
   "cell_type": "code",
   "execution_count": 34,
   "metadata": {},
   "outputs": [
    {
     "name": "stdout",
     "output_type": "stream",
     "text": [
      "Уникальные значения для train [nan]\n",
      "Уникальные значения для test ['Не требует ремонта']\n"
     ]
    }
   ],
   "source": [
    "print(\"Уникальные значения для train\", train.condition.unique())\n",
    "print(\"Уникальные значения для test\", test.condition.unique())"
   ]
  },
  {
   "cell_type": "markdown",
   "metadata": {},
   "source": [
    "Поскольку далее для моделирования нам понадобится числовая переменная, то сразу переведем в числовую 0 - требует ремонта , 1 - не требует ремонта, как для train, так и для test."
   ]
  },
  {
   "cell_type": "code",
   "execution_count": 35,
   "metadata": {},
   "outputs": [],
   "source": [
    "# Делаем преобразование значений в int (0 или 1)\n",
    "train['condition'] = train['condition'].apply(lambda x: 0 if pd.isna(x) else 1)\n",
    "test['condition'] = test['condition'].apply(\n",
    "    lambda x: 0 if x == \"Не требует ремонта\" else 1)"
   ]
  },
  {
   "cell_type": "markdown",
   "metadata": {},
   "source": [
    "**modelDate**\n",
    "\n",
    "Год выпуска модели автомобиля."
   ]
  },
  {
   "cell_type": "code",
   "execution_count": 36,
   "metadata": {},
   "outputs": [
    {
     "name": "stdout",
     "output_type": "stream",
     "text": [
      "Уникальные значения для train [1990. 1982. 1988. 1976. 1983. 1979. 1986. 1991. 1978. 1987. 1992. 1938.\n",
      " 2010. 2014. 2000. 2016. 2004. 2012. 2008. 1996. 2003. 2015. 2011. 2007.\n",
      " 1999. 1994. 2009. 2018. 2001. 1997. 2006. 2019. 2013. 2017. 2002. 2005.\n",
      " 1980. 1984. 1998. 1966. 1975. 1937. 1936. 1949. 2020. 1995. 1981. 1972.\n",
      " 1977. 1989. 1968. 1985. 1958. 1971. 1956. 1955. 1970. 1963. 1973. 1964.\n",
      " 1957. 1993. 1960. 1927. 1908. 1932.   nan 1965. 1935. 1967. 1948. 1969.\n",
      " 1934. 1974. 1950. 1961. 1904. 1959. 1951.]\n",
      "Уникальные значения для test [2013 2017 2008 2009 2016 2012 2015 2010 2006 2000 2007 1994 2004 1999\n",
      " 2005 1976 2001 1969 1996 1998 1989 1934 2014 2011 2018 1986 1997 1990\n",
      " 2019 2002 1991 1987 1980 1982 1938 1988 2003 1983 1978 1979 1984 1992\n",
      " 1995 1993 1985 1974 1966 1977 1981 1972 1968 1975 1949 1937 1936 1973\n",
      " 1959 1958 2020 1965 1971 1904 1963 1955 1951 1960]\n"
     ]
    }
   ],
   "source": [
    "print(\"Уникальные значения для train\", train.modelDate.unique())\n",
    "print(\"Уникальные значения для test\", test.modelDate.unique())"
   ]
  },
  {
   "cell_type": "markdown",
   "metadata": {},
   "source": [
    "Годы - целые числа. Преобразуем train данные в int."
   ]
  },
  {
   "cell_type": "code",
   "execution_count": 37,
   "metadata": {},
   "outputs": [],
   "source": [
    "train['modelDate'] = train['modelDate'].astype('Int64')"
   ]
  },
  {
   "cell_type": "markdown",
   "metadata": {},
   "source": [
    "**ownershipTime**\n",
    "\n",
    "Вемя владения автомобилем. \n",
    "\n",
    "Несмотря на то, что тип данных совпадает, формат хранения информации в train и test отличается."
   ]
  },
  {
   "cell_type": "code",
   "execution_count": 38,
   "metadata": {},
   "outputs": [],
   "source": [
    "train['ownershipTime'] = train['ownershipTime'].fillna('no_data')"
   ]
  },
  {
   "cell_type": "code",
   "execution_count": 39,
   "metadata": {},
   "outputs": [],
   "source": [
    "def months_to_sent(months):\n",
    "    if months == 1:\n",
    "        return f'{months} месяц'\n",
    "    elif 2 <= months <= 4:\n",
    "        return f'{months} месяца'\n",
    "    return f'{months} месяцев'\n",
    "\n",
    "\n",
    "def years_to_sent(years):\n",
    "    if 11 <= years <= 14 or 5 <= years % 10 <= 9 or years % 10 == 0:\n",
    "        return f'{years} лет'\n",
    "    elif years % 10 == 1:\n",
    "        return f'{years} год'\n",
    "    elif 2 <= years % 10 <= 4:\n",
    "        return f'{years} годa'\n",
    "\n",
    "\n",
    "def tenure(row):\n",
    "    \"\"\"\n",
    "    Функция, которая приводит содержимое ячейки train к тому же виду, как в test.\n",
    "    Вход: строка series (строка колонки).\n",
    "    Выход: возвращает вместо словаря информацию в виде \"x лет y месяцев\"\n",
    "    \"\"\"\n",
    "    row = re.findall('\\d+', str(row)) # находим все целые числа в строке\n",
    "    if row != []:\n",
    "        years = 2020 - (int(row[0])+1) # 2020, т.к. данные собраны в 2020 году\n",
    "        months = 2 + (12 - int(row[1]))\n",
    "        if years < 0:\n",
    "            return months_to_sent(int(row[1]))\n",
    "        elif years == 0 and months < 12:\n",
    "            return months_to_sent(months)\n",
    "        elif years >= 0 and months == 12:\n",
    "            return years_to_sent(years + 1)\n",
    "        elif years >= 0 and months > 12:\n",
    "            return years_to_sent(years + 1)+' и '+months_to_sent(months - 12)\n",
    "        elif years > 0 and months < 12:\n",
    "            return years_to_sent(years)+' и '+months_to_sent(months)\n",
    "        return None\n",
    "\n",
    "train['ownershipTime'] = train['ownershipTime'].apply(tenure)"
   ]
  },
  {
   "cell_type": "markdown",
   "metadata": {},
   "source": [
    "### 3.4 Совмещаем test и train для обработки и анализа"
   ]
  },
  {
   "cell_type": "markdown",
   "metadata": {},
   "source": [
    "До совмещения test и train посмотрим, какие признаки можем извлечь из test/train, помимо колонок, которые в явном виде пересекаются между датафреймами."
   ]
  },
  {
   "cell_type": "code",
   "execution_count": 40,
   "metadata": {},
   "outputs": [
    {
     "name": "stdout",
     "output_type": "stream",
     "text": [
      "Список колонок, которых нет в train, но есть в test: ['sell_id', 'priceCurrency', 'complectation_dict', 'equipment_dict', 'parsing_unixtime', 'super_gen', 'vendor', 'image', 'car_url', 'model_info']\n",
      "\n",
      "TEST DF:\n"
     ]
    },
    {
     "data": {
      "text/html": [
       "<div>\n",
       "<style scoped>\n",
       "    .dataframe tbody tr th:only-of-type {\n",
       "        vertical-align: middle;\n",
       "    }\n",
       "\n",
       "    .dataframe tbody tr th {\n",
       "        vertical-align: top;\n",
       "    }\n",
       "\n",
       "    .dataframe thead th {\n",
       "        text-align: right;\n",
       "    }\n",
       "</style>\n",
       "<table border=\"1\" class=\"dataframe\">\n",
       "  <thead>\n",
       "    <tr style=\"text-align: right;\">\n",
       "      <th></th>\n",
       "      <th>sell_id</th>\n",
       "      <th>priceCurrency</th>\n",
       "      <th>complectation_dict</th>\n",
       "      <th>equipment_dict</th>\n",
       "      <th>parsing_unixtime</th>\n",
       "      <th>super_gen</th>\n",
       "      <th>vendor</th>\n",
       "      <th>image</th>\n",
       "      <th>car_url</th>\n",
       "      <th>model_info</th>\n",
       "    </tr>\n",
       "  </thead>\n",
       "  <tbody>\n",
       "    <tr>\n",
       "      <th>219</th>\n",
       "      <td>1100338458</td>\n",
       "      <td>RUB</td>\n",
       "      <td>NaN</td>\n",
       "      <td>NaN</td>\n",
       "      <td>1603227127</td>\n",
       "      <td>{\"id\":\"20464021\",\"displacement\":1968,\"engine_t...</td>\n",
       "      <td>EUROPEAN</td>\n",
       "      <td>https://avatars.mds.yandex.net/get-autoru-vos/...</td>\n",
       "      <td>https://auto.ru/cars/used/sale/skoda/superb/11...</td>\n",
       "      <td>{\"code\":\"SUPERB\",\"name\":\"Superb\",\"ru_name\":\"Су...</td>\n",
       "    </tr>\n",
       "    <tr>\n",
       "      <th>6539</th>\n",
       "      <td>1100485046</td>\n",
       "      <td>RUB</td>\n",
       "      <td>NaN</td>\n",
       "      <td>NaN</td>\n",
       "      <td>1603236426</td>\n",
       "      <td>{\"id\":\"2309967\",\"displacement\":2435,\"engine_ty...</td>\n",
       "      <td>EUROPEAN</td>\n",
       "      <td>https://avatars.mds.yandex.net/get-autoru-vos/...</td>\n",
       "      <td>https://auto.ru/cars/used/sale/volvo/s40/11004...</td>\n",
       "      <td>{\"code\":\"S40\",\"name\":\"S40\",\"ru_name\":\"S40\",\"mo...</td>\n",
       "    </tr>\n",
       "    <tr>\n",
       "      <th>5002</th>\n",
       "      <td>1099379160</td>\n",
       "      <td>RUB</td>\n",
       "      <td>NaN</td>\n",
       "      <td>NaN</td>\n",
       "      <td>1603131819</td>\n",
       "      <td>{\"id\":\"3480065\",\"displacement\":1984,\"engine_ty...</td>\n",
       "      <td>EUROPEAN</td>\n",
       "      <td>https://avatars.mds.yandex.net/get-autoru-vos/...</td>\n",
       "      <td>https://auto.ru/cars/used/sale/audi/a4/1099379...</td>\n",
       "      <td>{\"code\":\"A4\",\"name\":\"A4\",\"ru_name\":\"А4\",\"morph...</td>\n",
       "    </tr>\n",
       "  </tbody>\n",
       "</table>\n",
       "</div>"
      ],
      "text/plain": [
       "         sell_id priceCurrency complectation_dict equipment_dict  \\\n",
       "219   1100338458           RUB                NaN            NaN   \n",
       "6539  1100485046           RUB                NaN            NaN   \n",
       "5002  1099379160           RUB                NaN            NaN   \n",
       "\n",
       "      parsing_unixtime                                          super_gen  \\\n",
       "219         1603227127  {\"id\":\"20464021\",\"displacement\":1968,\"engine_t...   \n",
       "6539        1603236426  {\"id\":\"2309967\",\"displacement\":2435,\"engine_ty...   \n",
       "5002        1603131819  {\"id\":\"3480065\",\"displacement\":1984,\"engine_ty...   \n",
       "\n",
       "        vendor                                              image  \\\n",
       "219   EUROPEAN  https://avatars.mds.yandex.net/get-autoru-vos/...   \n",
       "6539  EUROPEAN  https://avatars.mds.yandex.net/get-autoru-vos/...   \n",
       "5002  EUROPEAN  https://avatars.mds.yandex.net/get-autoru-vos/...   \n",
       "\n",
       "                                                car_url  \\\n",
       "219   https://auto.ru/cars/used/sale/skoda/superb/11...   \n",
       "6539  https://auto.ru/cars/used/sale/volvo/s40/11004...   \n",
       "5002  https://auto.ru/cars/used/sale/audi/a4/1099379...   \n",
       "\n",
       "                                             model_info  \n",
       "219   {\"code\":\"SUPERB\",\"name\":\"Superb\",\"ru_name\":\"Су...  \n",
       "6539  {\"code\":\"S40\",\"name\":\"S40\",\"ru_name\":\"S40\",\"mo...  \n",
       "5002  {\"code\":\"A4\",\"name\":\"A4\",\"ru_name\":\"А4\",\"morph...  "
      ]
     },
     "execution_count": 40,
     "metadata": {},
     "output_type": "execute_result"
    }
   ],
   "source": [
    "# Список колонок, которых нет в train, но есть в test\n",
    "dif_list_test = list(set(test.columns).difference(train.columns))\n",
    "print(\"Список колонок, которых нет в train, но есть в test:\", dif_list_test)\n",
    "\n",
    "# Посмотрим на данные в этих колонках\n",
    "print(\"\\nTEST DF:\")\n",
    "test[dif_list_test].sample(3)"
   ]
  },
  {
   "cell_type": "code",
   "execution_count": 41,
   "metadata": {},
   "outputs": [
    {
     "name": "stdout",
     "output_type": "stream",
     "text": [
      "Список колонок, которых нет в test, но есть в train: ['hidden', 'start_date', 'price', 'Комплектация']\n",
      "\n",
      "TRAIN DF:\n"
     ]
    },
    {
     "data": {
      "text/html": [
       "<div>\n",
       "<style scoped>\n",
       "    .dataframe tbody tr th:only-of-type {\n",
       "        vertical-align: middle;\n",
       "    }\n",
       "\n",
       "    .dataframe tbody tr th {\n",
       "        vertical-align: top;\n",
       "    }\n",
       "\n",
       "    .dataframe thead th {\n",
       "        text-align: right;\n",
       "    }\n",
       "</style>\n",
       "<table border=\"1\" class=\"dataframe\">\n",
       "  <thead>\n",
       "    <tr style=\"text-align: right;\">\n",
       "      <th></th>\n",
       "      <th>hidden</th>\n",
       "      <th>start_date</th>\n",
       "      <th>price</th>\n",
       "      <th>Комплектация</th>\n",
       "    </tr>\n",
       "  </thead>\n",
       "  <tbody>\n",
       "    <tr>\n",
       "      <th>70610</th>\n",
       "      <td>NaN</td>\n",
       "      <td>2019-07-09T11:41:36Z</td>\n",
       "      <td>485000.0</td>\n",
       "      <td>{'id': '0'}</td>\n",
       "    </tr>\n",
       "    <tr>\n",
       "      <th>72208</th>\n",
       "      <td>NaN</td>\n",
       "      <td>2019-07-07T14:31:43Z</td>\n",
       "      <td>250000.0</td>\n",
       "      <td>{'id': '0'}</td>\n",
       "    </tr>\n",
       "    <tr>\n",
       "      <th>942</th>\n",
       "      <td>NaN</td>\n",
       "      <td>2020-06-02T15:27:54Z</td>\n",
       "      <td>630000.0</td>\n",
       "      <td>{'id': '0'}</td>\n",
       "    </tr>\n",
       "  </tbody>\n",
       "</table>\n",
       "</div>"
      ],
      "text/plain": [
       "       hidden            start_date     price Комплектация\n",
       "70610     NaN  2019-07-09T11:41:36Z  485000.0  {'id': '0'}\n",
       "72208     NaN  2019-07-07T14:31:43Z  250000.0  {'id': '0'}\n",
       "942       NaN  2020-06-02T15:27:54Z  630000.0  {'id': '0'}"
      ]
     },
     "execution_count": 41,
     "metadata": {},
     "output_type": "execute_result"
    }
   ],
   "source": [
    "# Список колонок, которых нет в test, но есть в train\n",
    "dif_list_train = list(set(train.columns).difference(test.columns))\n",
    "print(\"Список колонок, которых нет в test, но есть в train:\", dif_list_train)\n",
    "\n",
    "# Посмотрим на данные в этих колонках\n",
    "print(\"\\nTRAIN DF:\")\n",
    "train[dif_list_train].sample(3)"
   ]
  },
  {
   "cell_type": "markdown",
   "metadata": {},
   "source": [
    "Идеи для обогощений датасетов, чтобы получить общие данные для работы:\n",
    "- [x] Train: добавить колонку vendor, можно создать словарик соответсвия brand-vendor\n",
    "- [x] Train: model_name важная информация, нужно получить колонку. В train такая колонка есть - называется model. Унифицировать имена, привести к model (переименовать в test). Переименование добавлено выше в код, где переименовывались колонки.\n",
    "\n",
    "Также дополнительно в TEST найдено:\n",
    "- В признаке super_gen можно дополнительно доставть 1) acceleration (скорость разгона) 2) clearance_min 3) fuel_rate (расход топлива)\n",
    "- В признаке equipment_dict лежит полезная информация про комплектацию автомобиля. Посмотреть, есть ли что-то похожее в Train."
   ]
  },
  {
   "cell_type": "markdown",
   "metadata": {},
   "source": [
    "**Добавляем vendor в train**"
   ]
  },
  {
   "cell_type": "code",
   "execution_count": 42,
   "metadata": {},
   "outputs": [
    {
     "data": {
      "text/plain": [
       "{'EUROPEAN': ['BMW', 'VOLKSWAGEN', 'MERCEDES', 'AUDI', 'SKODA', 'VOLVO'],\n",
       " 'JAPANESE': ['NISSAN', 'TOYOTA', 'MITSUBISHI', 'HONDA', 'INFINITI', 'LEXUS']}"
      ]
     },
     "execution_count": 42,
     "metadata": {},
     "output_type": "execute_result"
    }
   ],
   "source": [
    "# Создаем словарь из вендоров по брендам\n",
    "vendor_dict = test.groupby(['vendor'])['brand'].apply(lambda grp: list(grp.value_counts().index)).to_dict()\n",
    "vendor_dict"
   ]
  },
  {
   "cell_type": "code",
   "execution_count": 43,
   "metadata": {},
   "outputs": [
    {
     "name": "stdout",
     "output_type": "stream",
     "text": [
      "Список колонок, которых нет в test, но есть в train: ['KIA', 'CADILLAC', 'SSANG_YONG', 'GEELY', 'RENAULT', 'GREAT_WALL', 'FORD', 'CHEVROLET', 'MAZDA', 'DAEWOO', 'CITROEN', 'SUBARU', 'CHERY', 'PEUGEOT', 'OPEL', 'MINI', 'PORSCHE', 'JEEP', 'HYUNDAI', 'SUZUKI', 'JAGUAR', 'CHRYSLER', 'LAND_ROVER', 'DODGE']\n"
     ]
    }
   ],
   "source": [
    "# Список брендов, которых нет в test, но есть в train\n",
    "dif_list_brands = list(set(train.brand.unique()).difference(test.brand.unique()))\n",
    "print(\"Список колонок, которых нет в test, но есть в train:\", dif_list_brands)"
   ]
  },
  {
   "cell_type": "code",
   "execution_count": 44,
   "metadata": {},
   "outputs": [],
   "source": [
    "# Добавим в словарь vendor_dict недостающие бренды по существующим ключам\n",
    "eur_append = ['PORSCHE', 'LAND_ROVER', 'JAGUAR', 'MINI', 'RENAULT', 'OPEL', 'PEUGEOT', 'CITROEN']\n",
    "jap_append = ['SUBARU', 'MAZDA', 'SUZUKI']\n",
    "\n",
    "for brand in eur_append:\n",
    "    vendor_dict['EUROPEAN'].append(brand) \n",
    "for brand in jap_append:\n",
    "    vendor_dict['JAPANESE'].append(brand) "
   ]
  },
  {
   "cell_type": "code",
   "execution_count": 45,
   "metadata": {},
   "outputs": [],
   "source": [
    "# Добавляем новые ключи\n",
    "vendor_dict.update({'AMERICAN': ['CHEVROLET', 'CHRYSLER', 'CADILLAC', 'JEEP', 'FORD', 'DODGE'], \n",
    "'ASIAN': ['HYUNDAI', 'DAEWOO', 'KIA', 'CHERY', 'SSANG_YONG', 'GEELY', 'GREAT_WALL']})"
   ]
  },
  {
   "cell_type": "code",
   "execution_count": 46,
   "metadata": {},
   "outputs": [
    {
     "name": "stdout",
     "output_type": "stream",
     "text": [
      "{'EUROPEAN': ['BMW', 'VOLKSWAGEN', 'MERCEDES', 'AUDI', 'SKODA', 'VOLVO', 'PORSCHE', 'LAND_ROVER', 'JAGUAR', 'MINI', 'RENAULT', 'OPEL', 'PEUGEOT', 'CITROEN'], 'JAPANESE': ['NISSAN', 'TOYOTA', 'MITSUBISHI', 'HONDA', 'INFINITI', 'LEXUS', 'SUBARU', 'MAZDA', 'SUZUKI'], 'AMERICAN': ['CHEVROLET', 'CHRYSLER', 'CADILLAC', 'JEEP', 'FORD', 'DODGE'], 'ASIAN': ['HYUNDAI', 'DAEWOO', 'KIA', 'CHERY', 'SSANG_YONG', 'GEELY', 'GREAT_WALL']}\n"
     ]
    }
   ],
   "source": [
    "# Смотрим итоговый словарь\n",
    "print(vendor_dict)"
   ]
  },
  {
   "cell_type": "code",
   "execution_count": 47,
   "metadata": {},
   "outputs": [],
   "source": [
    "# Создадим новый словарь для мапинга\n",
    "new_map = {str(x): str(k) for k, v in vendor_dict.items() for x in v}"
   ]
  },
  {
   "cell_type": "code",
   "execution_count": 48,
   "metadata": {},
   "outputs": [],
   "source": [
    "# Создаем признак vendor в train\n",
    "train['vendor'] = train.brand.copy()\n",
    "train['vendor'] = train['vendor'].map(new_map)"
   ]
  },
  {
   "cell_type": "markdown",
   "metadata": {},
   "source": [
    "После завершения подготовительного этапа склеиваем два датафрейма."
   ]
  },
  {
   "cell_type": "code",
   "execution_count": 49,
   "metadata": {
    "execution": {
     "iopub.execute_input": "2021-08-25T11:04:32.849319Z",
     "iopub.status.busy": "2021-08-25T11:04:32.848959Z",
     "iopub.status.idle": "2021-08-25T11:04:33.002464Z",
     "shell.execute_reply": "2021-08-25T11:04:33.00091Z",
     "shell.execute_reply.started": "2021-08-25T11:04:32.849282Z"
    }
   },
   "outputs": [],
   "source": [
    "# Для анализа склеиваем оба датафрейма по общим колонкам, добавляем признак sample\n",
    "train['train'] = 1  # помечаем где у нас трейн\n",
    "test['train'] = 0  # помечаем где у нас тест\n",
    "# в тесте у нас нет значения цены, мы его должны предсказать, поэтому пока просто заполняем нулями\n",
    "test['price'] = 0\n",
    "train['sell_id'] = 0  # поле понадобавиться для сабмита, оставляем\n",
    "\n",
    "data = pd.concat([train, test], axis=0, join=\"inner\", ignore_index=True)"
   ]
  },
  {
   "cell_type": "code",
   "execution_count": 50,
   "metadata": {
    "execution": {
     "iopub.execute_input": "2021-08-25T11:04:33.004963Z",
     "iopub.status.busy": "2021-08-25T11:04:33.004602Z",
     "iopub.status.idle": "2021-08-25T11:04:33.348904Z",
     "shell.execute_reply": "2021-08-25T11:04:33.347942Z",
     "shell.execute_reply.started": "2021-08-25T11:04:33.004927Z"
    },
    "papermill": {
     "duration": 0.042812,
     "end_time": "2020-10-26T12:47:02.943868",
     "exception": false,
     "start_time": "2020-10-26T12:47:02.901056",
     "status": "completed"
    },
    "tags": []
   },
   "outputs": [
    {
     "name": "stdout",
     "output_type": "stream",
     "text": [
      "<class 'pandas.core.frame.DataFrame'>\n",
      "RangeIndex: 124064 entries, 0 to 124063\n",
      "Data columns (total 26 columns):\n",
      " #   Column                Non-Null Count   Dtype  \n",
      "---  ------                --------------   -----  \n",
      " 0   bodyType              124063 non-null  object \n",
      " 1   brand                 124064 non-null  object \n",
      " 2   color                 124064 non-null  object \n",
      " 3   fuelType              124064 non-null  object \n",
      " 4   modelDate             124063 non-null  object \n",
      " 5   name                  124063 non-null  object \n",
      " 6   numberOfDoors         124063 non-null  object \n",
      " 7   productionDate        124064 non-null  int64  \n",
      " 8   vehicleConfiguration  124063 non-null  object \n",
      " 9   vehicleTransmission   124063 non-null  object \n",
      " 10  engineDisplacement    124063 non-null  object \n",
      " 11  enginePower           124063 non-null  float64\n",
      " 12  description           120810 non-null  object \n",
      " 13  mileage               124064 non-null  int64  \n",
      " 14  drivetrain            124063 non-null  object \n",
      " 15  driveSide             124064 non-null  object \n",
      " 16  condition             124064 non-null  int64  \n",
      " 17  ownersCount           110476 non-null  float64\n",
      " 18  tcp                   123702 non-null  object \n",
      " 19  customs               124064 non-null  int64  \n",
      " 20  ownershipTime         41196 non-null   object \n",
      " 21  price                 123654 non-null  float64\n",
      " 22  model                 124064 non-null  object \n",
      " 23  vendor                124064 non-null  object \n",
      " 24  train                 124064 non-null  int64  \n",
      " 25  sell_id               124064 non-null  int64  \n",
      "dtypes: float64(3), int64(6), object(17)\n",
      "memory usage: 24.6+ MB\n"
     ]
    }
   ],
   "source": [
    "# Посмотрим, что получилось\n",
    "data.info()"
   ]
  },
  {
   "cell_type": "code",
   "execution_count": 107,
   "metadata": {},
   "outputs": [],
   "source": [
    "# Преобразуем modelDate в int\n",
    "data['modelDate'] = data['modelDate'].astype('Int64')"
   ]
  },
  {
   "cell_type": "code",
   "execution_count": 51,
   "metadata": {
    "execution": {
     "iopub.execute_input": "2021-08-25T11:04:33.35329Z",
     "iopub.status.busy": "2021-08-25T11:04:33.352944Z",
     "iopub.status.idle": "2021-08-25T11:04:33.388746Z",
     "shell.execute_reply": "2021-08-25T11:04:33.387255Z",
     "shell.execute_reply.started": "2021-08-25T11:04:33.353258Z"
    }
   },
   "outputs": [
    {
     "data": {
      "text/html": [
       "<div>\n",
       "<style scoped>\n",
       "    .dataframe tbody tr th:only-of-type {\n",
       "        vertical-align: middle;\n",
       "    }\n",
       "\n",
       "    .dataframe tbody tr th {\n",
       "        vertical-align: top;\n",
       "    }\n",
       "\n",
       "    .dataframe thead th {\n",
       "        text-align: right;\n",
       "    }\n",
       "</style>\n",
       "<table border=\"1\" class=\"dataframe\">\n",
       "  <thead>\n",
       "    <tr style=\"text-align: right;\">\n",
       "      <th></th>\n",
       "      <th>bodyType</th>\n",
       "      <th>brand</th>\n",
       "      <th>color</th>\n",
       "      <th>fuelType</th>\n",
       "      <th>modelDate</th>\n",
       "      <th>name</th>\n",
       "      <th>numberOfDoors</th>\n",
       "      <th>productionDate</th>\n",
       "      <th>vehicleConfiguration</th>\n",
       "      <th>vehicleTransmission</th>\n",
       "      <th>...</th>\n",
       "      <th>condition</th>\n",
       "      <th>ownersCount</th>\n",
       "      <th>tcp</th>\n",
       "      <th>customs</th>\n",
       "      <th>ownershipTime</th>\n",
       "      <th>price</th>\n",
       "      <th>model</th>\n",
       "      <th>vendor</th>\n",
       "      <th>train</th>\n",
       "      <th>sell_id</th>\n",
       "    </tr>\n",
       "  </thead>\n",
       "  <tbody>\n",
       "    <tr>\n",
       "      <th>76059</th>\n",
       "      <td>Внедорожник 5 дв.</td>\n",
       "      <td>VOLKSWAGEN</td>\n",
       "      <td>CACECB</td>\n",
       "      <td>бензин</td>\n",
       "      <td>2010</td>\n",
       "      <td>3.6 AT (249 л.с.) 4WD</td>\n",
       "      <td>5</td>\n",
       "      <td>2011</td>\n",
       "      <td>ALLROAD_5_DOORS AUTOMATIC 3.6</td>\n",
       "      <td>AUTOMATIC</td>\n",
       "      <td>...</td>\n",
       "      <td>0</td>\n",
       "      <td>3.0</td>\n",
       "      <td>ORIGINAL</td>\n",
       "      <td>1</td>\n",
       "      <td>4 годa и 5 месяцев</td>\n",
       "      <td>1090000.0</td>\n",
       "      <td>TOUAREG</td>\n",
       "      <td>EUROPEAN</td>\n",
       "      <td>1</td>\n",
       "      <td>0</td>\n",
       "    </tr>\n",
       "    <tr>\n",
       "      <th>78588</th>\n",
       "      <td>Внедорожник 5 дв.</td>\n",
       "      <td>VOLVO</td>\n",
       "      <td>FAFBFB</td>\n",
       "      <td>бензин</td>\n",
       "      <td>2006</td>\n",
       "      <td>2.5 AT (210 л.с.) 4WD</td>\n",
       "      <td>5</td>\n",
       "      <td>2012</td>\n",
       "      <td>ALLROAD_5_DOORS AUTOMATIC 2.5</td>\n",
       "      <td>AUTOMATIC</td>\n",
       "      <td>...</td>\n",
       "      <td>0</td>\n",
       "      <td>1.0</td>\n",
       "      <td>ORIGINAL</td>\n",
       "      <td>1</td>\n",
       "      <td>7 лет и 2 месяца</td>\n",
       "      <td>1200000.0</td>\n",
       "      <td>XC90</td>\n",
       "      <td>EUROPEAN</td>\n",
       "      <td>1</td>\n",
       "      <td>0</td>\n",
       "    </tr>\n",
       "    <tr>\n",
       "      <th>15586</th>\n",
       "      <td>Внедорожник 5 дв.</td>\n",
       "      <td>CHEVROLET</td>\n",
       "      <td>C49648</td>\n",
       "      <td>бензин</td>\n",
       "      <td>2002</td>\n",
       "      <td>1.7 MT (80 л.с.) 4WD</td>\n",
       "      <td>5</td>\n",
       "      <td>2004</td>\n",
       "      <td>ALLROAD_5_DOORS MECHANICAL 1.7</td>\n",
       "      <td>MECHANICAL</td>\n",
       "      <td>...</td>\n",
       "      <td>0</td>\n",
       "      <td>3.0</td>\n",
       "      <td>ORIGINAL</td>\n",
       "      <td>1</td>\n",
       "      <td>None</td>\n",
       "      <td>140000.0</td>\n",
       "      <td>NIVA</td>\n",
       "      <td>AMERICAN</td>\n",
       "      <td>1</td>\n",
       "      <td>0</td>\n",
       "    </tr>\n",
       "  </tbody>\n",
       "</table>\n",
       "<p>3 rows × 26 columns</p>\n",
       "</div>"
      ],
      "text/plain": [
       "                bodyType       brand   color fuelType modelDate  \\\n",
       "76059  Внедорожник 5 дв.  VOLKSWAGEN  CACECB   бензин      2010   \n",
       "78588  Внедорожник 5 дв.       VOLVO  FAFBFB   бензин      2006   \n",
       "15586  Внедорожник 5 дв.   CHEVROLET  C49648   бензин      2002   \n",
       "\n",
       "                        name numberOfDoors  productionDate  \\\n",
       "76059  3.6 AT (249 л.с.) 4WD             5            2011   \n",
       "78588  2.5 AT (210 л.с.) 4WD             5            2012   \n",
       "15586   1.7 MT (80 л.с.) 4WD             5            2004   \n",
       "\n",
       "                 vehicleConfiguration vehicleTransmission  ... condition  \\\n",
       "76059   ALLROAD_5_DOORS AUTOMATIC 3.6           AUTOMATIC  ...         0   \n",
       "78588   ALLROAD_5_DOORS AUTOMATIC 2.5           AUTOMATIC  ...         0   \n",
       "15586  ALLROAD_5_DOORS MECHANICAL 1.7          MECHANICAL  ...         0   \n",
       "\n",
       "       ownersCount       tcp  customs       ownershipTime      price    model  \\\n",
       "76059          3.0  ORIGINAL        1  4 годa и 5 месяцев  1090000.0  TOUAREG   \n",
       "78588          1.0  ORIGINAL        1    7 лет и 2 месяца  1200000.0     XC90   \n",
       "15586          3.0  ORIGINAL        1                None   140000.0     NIVA   \n",
       "\n",
       "         vendor train  sell_id  \n",
       "76059  EUROPEAN     1        0  \n",
       "78588  EUROPEAN     1        0  \n",
       "15586  AMERICAN     1        0  \n",
       "\n",
       "[3 rows x 26 columns]"
      ]
     },
     "execution_count": 51,
     "metadata": {},
     "output_type": "execute_result"
    }
   ],
   "source": [
    "data.sample(3)"
   ]
  },
  {
   "cell_type": "markdown",
   "metadata": {},
   "source": [
    "Проведем предварительный анализ данных."
   ]
  },
  {
   "cell_type": "code",
   "execution_count": 52,
   "metadata": {},
   "outputs": [],
   "source": [
    "# Запустим библиотеку для предварительного анализа данных\n",
    "#ProfileReport(data, title=\"Pandas Profiling Report for Merged Test and Train Dataset\")"
   ]
  },
  {
   "cell_type": "markdown",
   "metadata": {},
   "source": [
    "Выводы:\n",
    "1. Суммарно 124064 строки, 3.4% пропусков, есть дубликаты. Данные достаточно \"чистые\", пригодны для работы.\n",
    "2. В датасете 26 признаков. Типы переменных: числовых - 6, категориальных - 20.\n",
    "3. Идеи по очистке данных в колонках и вопросы для анализа данных:\n",
    "    - bodyType - убрать верхний и нижний регистр, сократить кол-во категорий, убрать информацию о количестве дверей, тк есть отдельный признак numberOfDoors.\n",
    "    - brand\t- что такое GREAT_WALL?\n",
    "    - color\t- коды перевести в цвета\n",
    "    - fuelType - разобраться, что такое универсал\n",
    "    - vehicleTransmission - рус и англ варианты унифицировать\n",
    "    - engineDisplacemen\t- унифицировать в объем, привести 2.0 и 2.0 LTR к одному значению\n",
    "    - numberOfDoors - разобраться с транспортом 0 дверей\n",
    "    - driveSide\t- рус и англ варианты унифицировать\n",
    "    - tcp - рус и англ варианты унифицировать\n",
    "    - description - кандидат на удаление, но можно извлечь новые признаки\n",
    "    - ownershipTime - извлечь длитальность владения авто на момент сбора объявления\n",
    " \n",
    "4. Признаки-кандидаты на удаление:\n",
    "    - customs, condition - кандидаты на удаление, т.к. у всех сток одинаковые значений.\n",
    "    - vehicleConfiguration - дублирует информацию из колонок vehicleTransmission, engineDisplacement, bodyType. Удалить признак после обработки пропусков.\n",
    "    - name - дублирует информацию из колонок engineDisplacement, vehicleTransmission, enginePower, drivetrain. Удалить признак после обработки пропусков.\n",
    "5. price - есть пропущенные значения, удалить строки из обучающей выборки.\n",
    "6. Корреляционный анализ:\n",
    "     - есть колинеарные признаки (productionDate - modelDate, mileage - modelDate/productionDate, ownersCount - modelDate/productionDat). Логично, что дата модели и дата производства связаны, также чем старше машина, тем больше пробег и тем большее количетсво владельцев авто)\n",
    "     - связь с целевой переменной: наименьшая корреляция с признаком NumberofDoors.\n",
    "7. Наибольшее количество пропусков в колонках ownershipCount, ownersCount. Можно попробовать предсказать количество, исходя из даты выпуска (т.к. признаки скоррелированы)."
   ]
  },
  {
   "cell_type": "markdown",
   "metadata": {},
   "source": [
    "Создадим список, в который будем добавлять колонки-кандидаты на удаление из датасета."
   ]
  },
  {
   "cell_type": "code",
   "execution_count": 53,
   "metadata": {},
   "outputs": [],
   "source": [
    "# Создадим список и добавим колонки, которые планируем удалить по результатам предварительного анализа\n",
    "cols_removal = ['customs', 'condition', 'vehicleConfiguration', 'name']"
   ]
  },
  {
   "cell_type": "markdown",
   "metadata": {},
   "source": [
    "### 3.5 Базовая чистка данных\n",
    "\n",
    "Проведем чистку и дополнительную подготовку данных, исходя из идей выводов выше (пункт 3).\n",
    "\n",
    "- [x] color\t- коды перевести в цвета\n",
    "- [x] vehicleTransmission - рус и англ варианты унифицировать\n",
    "- [x] driveSide\t- рус и англ варианты унифицировать\n",
    "- [x] tcp - рус и англ варианты унифицировать\n",
    "- [x] bodyType - привести к нижнему регистру, т.к. часть данных указаны по разному."
   ]
  },
  {
   "cell_type": "markdown",
   "metadata": {},
   "source": [
    "**vehicleTransmission**\n",
    "\n",
    "Информация про коробку передач."
   ]
  },
  {
   "cell_type": "code",
   "execution_count": 54,
   "metadata": {},
   "outputs": [
    {
     "data": {
      "text/plain": [
       "AUTOMATIC           49218\n",
       "MECHANICAL          25264\n",
       "автоматическая      19596\n",
       "ROBOT                7871\n",
       "механическая         7209\n",
       "VARIATOR             7024\n",
       "вариатор             3999\n",
       "роботизированная     3882\n",
       "Name: vehicleTransmission, dtype: int64"
      ]
     },
     "execution_count": 54,
     "metadata": {},
     "output_type": "execute_result"
    }
   ],
   "source": [
    "data.vehicleTransmission.value_counts()"
   ]
  },
  {
   "attachments": {
    "Screenshot%202021-08-27%20at%2015.10.31-2.png": {
     "image/png": "[encoded data removed]"
    }
   },
   "cell_type": "markdown",
   "metadata": {},
   "source": [
    "Посмотрим на значения на auto.ru. Все коробки делятся на автомат и механику. Автомат подразделяется на варианты.\n",
    "![Screenshot%202021-08-27%20at%2015.10.31-2.png](attachment:Screenshot%202021-08-27%20at%2015.10.31-2.png)"
   ]
  },
  {
   "cell_type": "markdown",
   "metadata": {},
   "source": [
    "Создадим из данного признака два новых признака:\n",
    "- коробка передач (автомат, механика)\n",
    "- для автомата создадим признак (тип автомата)."
   ]
  },
  {
   "cell_type": "code",
   "execution_count": 55,
   "metadata": {},
   "outputs": [],
   "source": [
    "# Создаем колонку transmission со значениями \"автомат\" и \"механическая\"\n",
    "data['transmission'] = data.vehicleTransmission.copy()\n",
    "\n",
    "data['transmission'].replace(['AUTOMATIC', 'ROBOT', 'VARIATOR',\n",
    "                              'роботизированная', 'автоматическая', 'вариатор'], \"автомат\", inplace=True)\n",
    "data['transmission'].replace(\n",
    "    ['MECHANICAL', 'механическая'], \"механическая\", inplace=True)"
   ]
  },
  {
   "cell_type": "code",
   "execution_count": 56,
   "metadata": {},
   "outputs": [],
   "source": [
    "# Создаем колонку automate_type со значениями 'робот', 'автоматическая', 'вариатор' или 0 для \"механическая\"\n",
    "\n",
    "data['automaticType'] = data.vehicleTransmission.copy()\n",
    "\n",
    "data['automaticType'].replace(\n",
    "    ['AUTOMATIC', 'автоматическая'], \"автоматическая\", inplace=True)\n",
    "data['automaticType'].replace(\n",
    "    ['ROBOT', 'роботизированная', ], \"робот\", inplace=True)\n",
    "data['automaticType'].replace(\n",
    "    ['VARIATOR', 'вариатор'], \"вариатор\", inplace=True)\n",
    "data['automaticType'].replace(['MECHANICAL', 'механическая'], 0, inplace=True)"
   ]
  },
  {
   "cell_type": "code",
   "execution_count": 57,
   "metadata": {},
   "outputs": [
    {
     "data": {
      "text/plain": [
       "array(['механическая', 'автомат', nan], dtype=object)"
      ]
     },
     "execution_count": 57,
     "metadata": {},
     "output_type": "execute_result"
    }
   ],
   "source": [
    "# Проверим, какие значения получились\n",
    "data['transmission'].unique()"
   ]
  },
  {
   "cell_type": "code",
   "execution_count": 58,
   "metadata": {},
   "outputs": [
    {
     "data": {
      "text/plain": [
       "array([0, 'автоматическая', 'робот', 'вариатор', nan], dtype=object)"
      ]
     },
     "execution_count": 58,
     "metadata": {},
     "output_type": "execute_result"
    }
   ],
   "source": [
    "# Проверим, какие значения получились\n",
    "data['automaticType'].unique()"
   ]
  },
  {
   "cell_type": "code",
   "execution_count": 59,
   "metadata": {},
   "outputs": [],
   "source": [
    "# Добавляем в колонки на удаление обработаный признак\n",
    "cols_removal.append('vehicleTransmission')"
   ]
  },
  {
   "cell_type": "markdown",
   "metadata": {},
   "source": [
    "**color**\n",
    "\n",
    "Цвет автомобиля."
   ]
  },
  {
   "cell_type": "code",
   "execution_count": 60,
   "metadata": {},
   "outputs": [
    {
     "data": {
      "text/plain": [
       "array(['040001', 'EE1D19', '0000CC', 'CACECB', '007F00', 'FAFBFB',\n",
       "       '97948F', '22A0F8', '660099', '200204', 'C49648', 'DEA522',\n",
       "       '4A2197', 'FFD600', 'FF8649', 'FFC0CB', 'синий', 'чёрный', 'серый',\n",
       "       'коричневый', 'белый', 'пурпурный', 'бежевый', 'серебристый',\n",
       "       'красный', 'зелёный', 'жёлтый', 'голубой', 'оранжевый',\n",
       "       'фиолетовый', 'золотистый', 'розовый'], dtype=object)"
      ]
     },
     "execution_count": 60,
     "metadata": {},
     "output_type": "execute_result"
    }
   ],
   "source": [
    "# Посмотрим на представленные цвета\n",
    "data.color.unique()"
   ]
  },
  {
   "cell_type": "code",
   "execution_count": 61,
   "metadata": {},
   "outputs": [],
   "source": [
    "# Создаем словать с кодировкой значений в цвета\n",
    "color_dict = {'040001': 'чёрный', 'EE1D19': 'красный', '0000CC': 'синий', 'CACECB': 'серебристый', '007F00': 'зелёный',\n",
    "              'FAFBFB': 'белый', '97948F': 'серый', '22A0F8': 'голубой', '660099': 'пурпурный', '200204': 'коричневый',\n",
    "              'C49648': 'бежевый', 'DEA522': 'золотистый', '4A2197': 'фиолетовый', 'FFD600': 'жёлтый',\n",
    "              'FF8649': 'оранжевый', 'FFC0CB': 'розовый'}\n",
    "\n",
    "data['color'].replace(to_replace=color_dict, inplace=True)"
   ]
  },
  {
   "cell_type": "code",
   "execution_count": 62,
   "metadata": {},
   "outputs": [
    {
     "data": {
      "text/plain": [
       "array(['чёрный', 'красный', 'синий', 'серебристый', 'зелёный', 'белый',\n",
       "       'серый', 'голубой', 'пурпурный', 'коричневый', 'бежевый',\n",
       "       'золотистый', 'фиолетовый', 'жёлтый', 'оранжевый', 'розовый'],\n",
       "      dtype=object)"
      ]
     },
     "execution_count": 62,
     "metadata": {},
     "output_type": "execute_result"
    }
   ],
   "source": [
    "# Проверяем результат\n",
    "data.color.unique()"
   ]
  },
  {
   "cell_type": "markdown",
   "metadata": {},
   "source": [
    "**driveSide**\n",
    "\n",
    "Расположение руля"
   ]
  },
  {
   "cell_type": "code",
   "execution_count": 63,
   "metadata": {},
   "outputs": [
    {
     "data": {
      "text/plain": [
       "array(['LEFT', 'RIGHT', 'Левый', 'Правый'], dtype=object)"
      ]
     },
     "execution_count": 63,
     "metadata": {},
     "output_type": "execute_result"
    }
   ],
   "source": [
    "data.driveSide.unique()"
   ]
  },
  {
   "cell_type": "code",
   "execution_count": 64,
   "metadata": {},
   "outputs": [],
   "source": [
    "# Заменим анлоязычные значения на русские\n",
    "data['driveSide'] = data['driveSide'].map(\n",
    "    {'RIGHT': 'Правый', 'LEFT': 'Левый', 'Правый': 'Правый', 'Левый': 'Левый'})"
   ]
  },
  {
   "cell_type": "code",
   "execution_count": 65,
   "metadata": {},
   "outputs": [],
   "source": [
    "# уберем верхний регистр\n",
    "data['driveSide'] = data['driveSide'].str.lower()"
   ]
  },
  {
   "cell_type": "markdown",
   "metadata": {},
   "source": [
    "**tcp**\n",
    "\n",
    "Оригинал ПТС"
   ]
  },
  {
   "cell_type": "code",
   "execution_count": 66,
   "metadata": {},
   "outputs": [
    {
     "data": {
      "text/plain": [
       "array(['ORIGINAL', 'DUPLICATE', nan, 'Оригинал', 'Дубликат'], dtype=object)"
      ]
     },
     "execution_count": 66,
     "metadata": {},
     "output_type": "execute_result"
    }
   ],
   "source": [
    "data.tcp.unique()"
   ]
  },
  {
   "cell_type": "code",
   "execution_count": 67,
   "metadata": {},
   "outputs": [
    {
     "data": {
      "text/plain": [
       "89378    Оригинал\n",
       "89379    Оригинал\n",
       "89380    Оригинал\n",
       "89381    Оригинал\n",
       "89382    Оригинал\n",
       "Name: tcp, dtype: object"
      ]
     },
     "execution_count": 67,
     "metadata": {},
     "output_type": "execute_result"
    }
   ],
   "source": [
    "data[data.train == 0].tcp.head()"
   ]
  },
  {
   "cell_type": "code",
   "execution_count": 68,
   "metadata": {},
   "outputs": [],
   "source": [
    "# Заменим анлоязычные значения на русские\n",
    "data['tcp'] = data['tcp'].map(\n",
    "    {'ORIGINAL': 'Оригинал', 'DUPLICATE': 'Дубликат', 'Оригинал': 'Оригинал', 'Дубликат': 'Дубликат'})"
   ]
  },
  {
   "cell_type": "code",
   "execution_count": 69,
   "metadata": {},
   "outputs": [],
   "source": [
    "# уберем верхний регистр\n",
    "data['tcp'] = data['tcp'].str.lower()"
   ]
  },
  {
   "cell_type": "markdown",
   "metadata": {},
   "source": [
    "**bodyType**\n",
    "\n",
    "Тип кузова."
   ]
  },
  {
   "cell_type": "code",
   "execution_count": 70,
   "metadata": {},
   "outputs": [
    {
     "data": {
      "text/plain": [
       "Внедорожник 5 дв.              31885\n",
       "Седан                          30593\n",
       "седан                          13147\n",
       "внедорожник 5 дв.              12228\n",
       "Хэтчбек 5 дв.                   8668\n",
       "                               ...  \n",
       "Универсал 5 дв. Spaceback          1\n",
       "фастбек                            1\n",
       "Хэтчбек 5 дв. GT Line              1\n",
       "Пикап Двойная кабина Double        1\n",
       "Кабриолет JCW                      1\n",
       "Name: bodyType, Length: 192, dtype: int64"
      ]
     },
     "execution_count": 70,
     "metadata": {},
     "output_type": "execute_result"
    }
   ],
   "source": [
    "data.bodyType.value_counts()"
   ]
  },
  {
   "cell_type": "code",
   "execution_count": 71,
   "metadata": {},
   "outputs": [],
   "source": [
    "# Приведем значения к нижнему регистру, уберем ряд дубликатов в значениях\n",
    "\n",
    "data['bodyType'] = data['bodyType'].apply(lambda x: str(x).lower())"
   ]
  },
  {
   "cell_type": "markdown",
   "metadata": {},
   "source": [
    "### 3.6 Дубликаты\n",
    "\n",
    "Определим количество дубликатов в данных в части train."
   ]
  },
  {
   "cell_type": "code",
   "execution_count": 72,
   "metadata": {},
   "outputs": [
    {
     "name": "stdout",
     "output_type": "stream",
     "text": [
      "Количество дубликатов строк в train части датафрейма: 3577\n"
     ]
    }
   ],
   "source": [
    "print(\"Количество дубликатов строк в train части датафрейма:\",\n",
    "      data[data.train == 1].duplicated().sum())"
   ]
  },
  {
   "cell_type": "code",
   "execution_count": 73,
   "metadata": {},
   "outputs": [],
   "source": [
    "# Удалим дубликаты из датасета\n",
    "data.drop_duplicates(inplace=True)"
   ]
  },
  {
   "cell_type": "markdown",
   "metadata": {},
   "source": [
    "### 3.7 Анализ пропусков\n",
    "\n",
    "Посмотрим вцелом на наличие пустых значений и определим стратегию работы с ними."
   ]
  },
  {
   "cell_type": "code",
   "execution_count": 74,
   "metadata": {},
   "outputs": [],
   "source": [
    "def intitial_eda_checks(df, missing_percent):\n",
    "    '''\n",
    "    Функция принимает на вход датафрейм, а также заданный порог % пустых значений, который хотим обработать. \n",
    "    На выход выводит на экран информацию о сумме пустых значений для всех колонок, а также проце\n",
    "    '''\n",
    "    if df.isnull().sum().sum() > 0:\n",
    "        mask_total = df.isnull().sum().sort_values(ascending=False)\n",
    "        total = mask_total[mask_total > 0]\n",
    "\n",
    "        mask_percent = df.isnull().mean().sort_values(ascending=False)\n",
    "        percent = mask_percent[mask_percent > 0]\n",
    "\n",
    "        series = mask_percent[mask_percent > missing_percent]\n",
    "        columns = series.index.to_list()\n",
    "\n",
    "        missing_data = pd.DataFrame(pd.concat(\n",
    "            [total, round(percent*100, 2)], axis=1, keys=['Количество', '%']))\n",
    "        print('Сумма и процент значений NaN:\\n \\n')\n",
    "        display(missing_data)\n",
    "    else:\n",
    "        print('NaN значения не найдены.')"
   ]
  },
  {
   "cell_type": "code",
   "execution_count": 75,
   "metadata": {},
   "outputs": [
    {
     "name": "stdout",
     "output_type": "stream",
     "text": [
      "Пропуски для TEST+TRAIN датафрейов.\n",
      "\n",
      "Сумма и процент значений NaN:\n",
      " \n",
      "\n"
     ]
    },
    {
     "data": {
      "text/html": [
       "<div>\n",
       "<style scoped>\n",
       "    .dataframe tbody tr th:only-of-type {\n",
       "        vertical-align: middle;\n",
       "    }\n",
       "\n",
       "    .dataframe tbody tr th {\n",
       "        vertical-align: top;\n",
       "    }\n",
       "\n",
       "    .dataframe thead th {\n",
       "        text-align: right;\n",
       "    }\n",
       "</style>\n",
       "<table border=\"1\" class=\"dataframe\">\n",
       "  <thead>\n",
       "    <tr style=\"text-align: right;\">\n",
       "      <th></th>\n",
       "      <th>Количество</th>\n",
       "      <th>%</th>\n",
       "    </tr>\n",
       "  </thead>\n",
       "  <tbody>\n",
       "    <tr>\n",
       "      <th>ownershipTime</th>\n",
       "      <td>79498</td>\n",
       "      <td>65.98</td>\n",
       "    </tr>\n",
       "    <tr>\n",
       "      <th>ownersCount</th>\n",
       "      <td>10554</td>\n",
       "      <td>8.76</td>\n",
       "    </tr>\n",
       "    <tr>\n",
       "      <th>description</th>\n",
       "      <td>3232</td>\n",
       "      <td>2.68</td>\n",
       "    </tr>\n",
       "    <tr>\n",
       "      <th>price</th>\n",
       "      <td>410</td>\n",
       "      <td>0.34</td>\n",
       "    </tr>\n",
       "    <tr>\n",
       "      <th>tcp</th>\n",
       "      <td>349</td>\n",
       "      <td>0.29</td>\n",
       "    </tr>\n",
       "    <tr>\n",
       "      <th>engineDisplacement</th>\n",
       "      <td>1</td>\n",
       "      <td>0.00</td>\n",
       "    </tr>\n",
       "    <tr>\n",
       "      <th>enginePower</th>\n",
       "      <td>1</td>\n",
       "      <td>0.00</td>\n",
       "    </tr>\n",
       "    <tr>\n",
       "      <th>transmission</th>\n",
       "      <td>1</td>\n",
       "      <td>0.00</td>\n",
       "    </tr>\n",
       "    <tr>\n",
       "      <th>drivetrain</th>\n",
       "      <td>1</td>\n",
       "      <td>0.00</td>\n",
       "    </tr>\n",
       "    <tr>\n",
       "      <th>numberOfDoors</th>\n",
       "      <td>1</td>\n",
       "      <td>0.00</td>\n",
       "    </tr>\n",
       "    <tr>\n",
       "      <th>automaticType</th>\n",
       "      <td>1</td>\n",
       "      <td>0.00</td>\n",
       "    </tr>\n",
       "    <tr>\n",
       "      <th>vehicleConfiguration</th>\n",
       "      <td>1</td>\n",
       "      <td>0.00</td>\n",
       "    </tr>\n",
       "    <tr>\n",
       "      <th>name</th>\n",
       "      <td>1</td>\n",
       "      <td>0.00</td>\n",
       "    </tr>\n",
       "    <tr>\n",
       "      <th>modelDate</th>\n",
       "      <td>1</td>\n",
       "      <td>0.00</td>\n",
       "    </tr>\n",
       "    <tr>\n",
       "      <th>vehicleTransmission</th>\n",
       "      <td>1</td>\n",
       "      <td>0.00</td>\n",
       "    </tr>\n",
       "  </tbody>\n",
       "</table>\n",
       "</div>"
      ],
      "text/plain": [
       "                      Количество      %\n",
       "ownershipTime              79498  65.98\n",
       "ownersCount                10554   8.76\n",
       "description                 3232   2.68\n",
       "price                        410   0.34\n",
       "tcp                          349   0.29\n",
       "engineDisplacement             1   0.00\n",
       "enginePower                    1   0.00\n",
       "transmission                   1   0.00\n",
       "drivetrain                     1   0.00\n",
       "numberOfDoors                  1   0.00\n",
       "automaticType                  1   0.00\n",
       "vehicleConfiguration           1   0.00\n",
       "name                           1   0.00\n",
       "modelDate                      1   0.00\n",
       "vehicleTransmission            1   0.00"
      ]
     },
     "metadata": {},
     "output_type": "display_data"
    }
   ],
   "source": [
    "# Запускаем функцию вывода всех пустых значений\n",
    "print(\"Пропуски для TEST+TRAIN датафрейов.\\n\")\n",
    "intitial_eda_checks(data, 0)"
   ]
  },
  {
   "cell_type": "code",
   "execution_count": 76,
   "metadata": {},
   "outputs": [
    {
     "name": "stdout",
     "output_type": "stream",
     "text": [
      "Пропуски для TEST датафрейма.\n",
      "\n",
      "Сумма и процент значений NaN:\n",
      " \n",
      "\n"
     ]
    },
    {
     "data": {
      "text/html": [
       "<div>\n",
       "<style scoped>\n",
       "    .dataframe tbody tr th:only-of-type {\n",
       "        vertical-align: middle;\n",
       "    }\n",
       "\n",
       "    .dataframe tbody tr th {\n",
       "        vertical-align: top;\n",
       "    }\n",
       "\n",
       "    .dataframe thead th {\n",
       "        text-align: right;\n",
       "    }\n",
       "</style>\n",
       "<table border=\"1\" class=\"dataframe\">\n",
       "  <thead>\n",
       "    <tr style=\"text-align: right;\">\n",
       "      <th></th>\n",
       "      <th>Количество</th>\n",
       "      <th>%</th>\n",
       "    </tr>\n",
       "  </thead>\n",
       "  <tbody>\n",
       "    <tr>\n",
       "      <th>ownershipTime</th>\n",
       "      <td>22691</td>\n",
       "      <td>65.42</td>\n",
       "    </tr>\n",
       "    <tr>\n",
       "      <th>tcp</th>\n",
       "      <td>1</td>\n",
       "      <td>0.00</td>\n",
       "    </tr>\n",
       "  </tbody>\n",
       "</table>\n",
       "</div>"
      ],
      "text/plain": [
       "               Количество      %\n",
       "ownershipTime       22691  65.42\n",
       "tcp                     1   0.00"
      ]
     },
     "metadata": {},
     "output_type": "display_data"
    }
   ],
   "source": [
    "print(\"Пропуски для TEST датафрейма.\\n\")\n",
    "intitial_eda_checks(data[data.train == 0], 0)"
   ]
  },
  {
   "cell_type": "code",
   "execution_count": 77,
   "metadata": {},
   "outputs": [
    {
     "data": {
      "image/png": "[encoded data removed]",
      "text/plain": [
       "<Figure size 432x288 with 1 Axes>"
      ]
     },
     "metadata": {},
     "output_type": "display_data"
    }
   ],
   "source": [
    "# Посмотрим, как распределены пропуски в части train\n",
    "ax = plt.axes()\n",
    "sns.heatmap(data[data.train == 1].isnull(), yticklabels=False, cbar=False, cmap='Blues')\n",
    "ax.set_title('Распределение пропусков в TRAIN')\n",
    "plt.show()"
   ]
  },
  {
   "cell_type": "code",
   "execution_count": 78,
   "metadata": {},
   "outputs": [
    {
     "data": {
      "image/png": "[encoded data removed]",
      "text/plain": [
       "<Figure size 432x288 with 1 Axes>"
      ]
     },
     "metadata": {},
     "output_type": "display_data"
    }
   ],
   "source": [
    "# Посмотрим, как распределены пропуски в части test\n",
    "ax = plt.axes()\n",
    "sns.heatmap(data[data.train == 0].isnull(), yticklabels=False, cbar=False, cmap='Blues')\n",
    "ax.set_title('Распределение пропусков в TEST')\n",
    "plt.show()"
   ]
  },
  {
   "cell_type": "markdown",
   "metadata": {},
   "source": [
    "В таблице выведена информация по всем пустым значениям для всех столбцов основного рабочего датасета (data).\n",
    "\n",
    "Выводы и стратегия обработки:\n",
    "1. В 15 столбцах присутствуют пропуски.\n",
    "2. Test:\n",
    "    - [x] tcp: пропуск в одной записи, посмотреть на нее детально, попробовать восстановить или заполнить модой\n",
    "    - [x] ownershipTime: много пропусков (около 65%), проанализировать с чем скоррелирован признак, попробовать заполнить. Если заполнить не получится, то возможно, удалить из признаков для моделирования.\n",
    "3. Train + Test:\n",
    "    - [ ] ownersCount (10554) - можно построить мапинг с медианой/модой по группам в зависимости от года выпуска авто. Заполним пропуски на этапе детального анализа признака.\n",
    "    - [x] price (410) - значения с пропусками удалить из данных \n",
    "    - [x] tcp (310) - поисследовать пропуски и подумать над способами заполнения.\n",
    "    - [x] есть ряд столбцов, где присутсвует ровно один пропуск. Проверить гипотезу, что пропуски находятся в одной и той же строке.\n",
    "    - [x] description заполнить не удастся, колонка в таком виде, как есть, будет удаляться."
   ]
  },
  {
   "cell_type": "markdown",
   "metadata": {},
   "source": [
    "Займемся обработкой пропусков по описанной выше стратегии."
   ]
  },
  {
   "cell_type": "markdown",
   "metadata": {},
   "source": [
    "**price**"
   ]
  },
  {
   "cell_type": "code",
   "execution_count": 79,
   "metadata": {},
   "outputs": [
    {
     "data": {
      "text/plain": [
       "1    410\n",
       "Name: train, dtype: int64"
      ]
     },
     "execution_count": 79,
     "metadata": {},
     "output_type": "execute_result"
    }
   ],
   "source": [
    "# Проверим, что price отсуствует именно в train данных и мы не затроним test\n",
    "data[data.price.isnull() == True]['train'].value_counts()"
   ]
  },
  {
   "cell_type": "code",
   "execution_count": 80,
   "metadata": {},
   "outputs": [],
   "source": [
    "# Удаляем строки с price = NAN\n",
    "data.dropna(subset=['price'], inplace=True)"
   ]
  },
  {
   "cell_type": "markdown",
   "metadata": {},
   "source": [
    "**Гипотеза, что NAN с одной строкой - это одна и та же запись**"
   ]
  },
  {
   "cell_type": "code",
   "execution_count": 81,
   "metadata": {},
   "outputs": [
    {
     "data": {
      "text/html": [
       "<div>\n",
       "<style scoped>\n",
       "    .dataframe tbody tr th:only-of-type {\n",
       "        vertical-align: middle;\n",
       "    }\n",
       "\n",
       "    .dataframe tbody tr th {\n",
       "        vertical-align: top;\n",
       "    }\n",
       "\n",
       "    .dataframe thead th {\n",
       "        text-align: right;\n",
       "    }\n",
       "</style>\n",
       "<table border=\"1\" class=\"dataframe\">\n",
       "  <thead>\n",
       "    <tr style=\"text-align: right;\">\n",
       "      <th></th>\n",
       "      <th>bodyType</th>\n",
       "      <th>brand</th>\n",
       "      <th>color</th>\n",
       "      <th>fuelType</th>\n",
       "      <th>modelDate</th>\n",
       "      <th>name</th>\n",
       "      <th>numberOfDoors</th>\n",
       "      <th>productionDate</th>\n",
       "      <th>vehicleConfiguration</th>\n",
       "      <th>vehicleTransmission</th>\n",
       "      <th>...</th>\n",
       "      <th>tcp</th>\n",
       "      <th>customs</th>\n",
       "      <th>ownershipTime</th>\n",
       "      <th>price</th>\n",
       "      <th>model</th>\n",
       "      <th>vendor</th>\n",
       "      <th>train</th>\n",
       "      <th>sell_id</th>\n",
       "      <th>transmission</th>\n",
       "      <th>automaticType</th>\n",
       "    </tr>\n",
       "  </thead>\n",
       "  <tbody>\n",
       "    <tr>\n",
       "      <th>24624</th>\n",
       "      <td>nan</td>\n",
       "      <td>HONDA</td>\n",
       "      <td>серебристый</td>\n",
       "      <td>универсал</td>\n",
       "      <td>&lt;NA&gt;</td>\n",
       "      <td>NaN</td>\n",
       "      <td>&lt;NA&gt;</td>\n",
       "      <td>1989</td>\n",
       "      <td>NaN</td>\n",
       "      <td>NaN</td>\n",
       "      <td>...</td>\n",
       "      <td>оригинал</td>\n",
       "      <td>1</td>\n",
       "      <td>None</td>\n",
       "      <td>120000.0</td>\n",
       "      <td>CIVIC</td>\n",
       "      <td>JAPANESE</td>\n",
       "      <td>1</td>\n",
       "      <td>0</td>\n",
       "      <td>NaN</td>\n",
       "      <td>NaN</td>\n",
       "    </tr>\n",
       "  </tbody>\n",
       "</table>\n",
       "<p>1 rows × 28 columns</p>\n",
       "</div>"
      ],
      "text/plain": [
       "      bodyType  brand        color   fuelType modelDate name numberOfDoors  \\\n",
       "24624      nan  HONDA  серебристый  универсал      <NA>  NaN          <NA>   \n",
       "\n",
       "       productionDate vehicleConfiguration vehicleTransmission  ...       tcp  \\\n",
       "24624            1989                  NaN                 NaN  ...  оригинал   \n",
       "\n",
       "       customs ownershipTime     price  model    vendor  train  sell_id  \\\n",
       "24624        1          None  120000.0  CIVIC  JAPANESE      1        0   \n",
       "\n",
       "      transmission  automaticType  \n",
       "24624          NaN            NaN  \n",
       "\n",
       "[1 rows x 28 columns]"
      ]
     },
     "execution_count": 81,
     "metadata": {},
     "output_type": "execute_result"
    }
   ],
   "source": [
    "data[data.modelDate.isnull() == True]"
   ]
  },
  {
   "cell_type": "code",
   "execution_count": 82,
   "metadata": {},
   "outputs": [
    {
     "name": "stdout",
     "output_type": "stream",
     "text": [
      "Индекс строки к удалению: 24624\n"
     ]
    }
   ],
   "source": [
    "# Посмотрим, что за строка, где modelDate = NaN\n",
    "print(\"Индекс строки к удалению:\", data[data.modelDate.isnull() == True].index[0])"
   ]
  },
  {
   "cell_type": "markdown",
   "metadata": {},
   "source": [
    "Действительно, в одной строке очень много пропусков, при этом машина 1989, недорогая. Удаляем."
   ]
  },
  {
   "cell_type": "code",
   "execution_count": 83,
   "metadata": {},
   "outputs": [],
   "source": [
    "# Удаляем строку\n",
    "data.drop([24624], inplace = True)"
   ]
  },
  {
   "cell_type": "markdown",
   "metadata": {},
   "source": [
    "**tcp**\n",
    "\n",
    "Проверим гипотезу, что:\n",
    "- tcp пустой у новых машин\n",
    "- tcp пустой там, где это дубликат."
   ]
  },
  {
   "cell_type": "code",
   "execution_count": 84,
   "metadata": {},
   "outputs": [
    {
     "data": {
      "text/html": [
       "<div>\n",
       "<style scoped>\n",
       "    .dataframe tbody tr th:only-of-type {\n",
       "        vertical-align: middle;\n",
       "    }\n",
       "\n",
       "    .dataframe tbody tr th {\n",
       "        vertical-align: top;\n",
       "    }\n",
       "\n",
       "    .dataframe thead th {\n",
       "        text-align: right;\n",
       "    }\n",
       "</style>\n",
       "<table border=\"1\" class=\"dataframe\">\n",
       "  <thead>\n",
       "    <tr style=\"text-align: right;\">\n",
       "      <th></th>\n",
       "      <th>bodyType</th>\n",
       "      <th>brand</th>\n",
       "      <th>color</th>\n",
       "      <th>fuelType</th>\n",
       "      <th>modelDate</th>\n",
       "      <th>name</th>\n",
       "      <th>numberOfDoors</th>\n",
       "      <th>productionDate</th>\n",
       "      <th>vehicleConfiguration</th>\n",
       "      <th>vehicleTransmission</th>\n",
       "      <th>...</th>\n",
       "      <th>tcp</th>\n",
       "      <th>customs</th>\n",
       "      <th>ownershipTime</th>\n",
       "      <th>price</th>\n",
       "      <th>model</th>\n",
       "      <th>vendor</th>\n",
       "      <th>train</th>\n",
       "      <th>sell_id</th>\n",
       "      <th>transmission</th>\n",
       "      <th>automaticType</th>\n",
       "    </tr>\n",
       "  </thead>\n",
       "  <tbody>\n",
       "    <tr>\n",
       "      <th>84332</th>\n",
       "      <td>внедорожник 5 дв.</td>\n",
       "      <td>MERCEDES</td>\n",
       "      <td>красный</td>\n",
       "      <td>бензин</td>\n",
       "      <td>2020</td>\n",
       "      <td>200 1.3 AMT (163 л.с.)</td>\n",
       "      <td>5</td>\n",
       "      <td>2020</td>\n",
       "      <td>ALLROAD_5_DOORS ROBOT 200</td>\n",
       "      <td>ROBOT</td>\n",
       "      <td>...</td>\n",
       "      <td>NaN</td>\n",
       "      <td>1</td>\n",
       "      <td>None</td>\n",
       "      <td>2894600.0</td>\n",
       "      <td>GLA_CLASS</td>\n",
       "      <td>EUROPEAN</td>\n",
       "      <td>1</td>\n",
       "      <td>0</td>\n",
       "      <td>автомат</td>\n",
       "      <td>робот</td>\n",
       "    </tr>\n",
       "    <tr>\n",
       "      <th>5486</th>\n",
       "      <td>седан</td>\n",
       "      <td>BMW</td>\n",
       "      <td>чёрный</td>\n",
       "      <td>бензин</td>\n",
       "      <td>2018</td>\n",
       "      <td>318i 2.0 AT (156 л.с.)</td>\n",
       "      <td>4</td>\n",
       "      <td>2020</td>\n",
       "      <td>SEDAN AUTOMATIC 318i</td>\n",
       "      <td>AUTOMATIC</td>\n",
       "      <td>...</td>\n",
       "      <td>NaN</td>\n",
       "      <td>1</td>\n",
       "      <td>None</td>\n",
       "      <td>2580000.0</td>\n",
       "      <td>3ER</td>\n",
       "      <td>EUROPEAN</td>\n",
       "      <td>1</td>\n",
       "      <td>0</td>\n",
       "      <td>автомат</td>\n",
       "      <td>автоматическая</td>\n",
       "    </tr>\n",
       "    <tr>\n",
       "      <th>9188</th>\n",
       "      <td>внедорожник 5 дв.</td>\n",
       "      <td>BMW</td>\n",
       "      <td>серый</td>\n",
       "      <td>дизель</td>\n",
       "      <td>2017</td>\n",
       "      <td>30d xDrive 3.0d AT (249 л.с.) 4WD</td>\n",
       "      <td>5</td>\n",
       "      <td>2020</td>\n",
       "      <td>ALLROAD_5_DOORS AUTOMATIC 30d</td>\n",
       "      <td>AUTOMATIC</td>\n",
       "      <td>...</td>\n",
       "      <td>NaN</td>\n",
       "      <td>1</td>\n",
       "      <td>None</td>\n",
       "      <td>4550000.0</td>\n",
       "      <td>X3</td>\n",
       "      <td>EUROPEAN</td>\n",
       "      <td>1</td>\n",
       "      <td>0</td>\n",
       "      <td>автомат</td>\n",
       "      <td>автоматическая</td>\n",
       "    </tr>\n",
       "  </tbody>\n",
       "</table>\n",
       "<p>3 rows × 28 columns</p>\n",
       "</div>"
      ],
      "text/plain": [
       "                bodyType     brand    color fuelType modelDate  \\\n",
       "84332  внедорожник 5 дв.  MERCEDES  красный   бензин      2020   \n",
       "5486               седан       BMW   чёрный   бензин      2018   \n",
       "9188   внедорожник 5 дв.       BMW    серый   дизель      2017   \n",
       "\n",
       "                                    name numberOfDoors  productionDate  \\\n",
       "84332             200 1.3 AMT (163 л.с.)             5            2020   \n",
       "5486              318i 2.0 AT (156 л.с.)             4            2020   \n",
       "9188   30d xDrive 3.0d AT (249 л.с.) 4WD             5            2020   \n",
       "\n",
       "                vehicleConfiguration vehicleTransmission  ...  tcp  customs  \\\n",
       "84332      ALLROAD_5_DOORS ROBOT 200               ROBOT  ...  NaN        1   \n",
       "5486            SEDAN AUTOMATIC 318i           AUTOMATIC  ...  NaN        1   \n",
       "9188   ALLROAD_5_DOORS AUTOMATIC 30d           AUTOMATIC  ...  NaN        1   \n",
       "\n",
       "      ownershipTime      price      model    vendor  train  sell_id  \\\n",
       "84332          None  2894600.0  GLA_CLASS  EUROPEAN      1        0   \n",
       "5486           None  2580000.0        3ER  EUROPEAN      1        0   \n",
       "9188           None  4550000.0         X3  EUROPEAN      1        0   \n",
       "\n",
       "      transmission   automaticType  \n",
       "84332      автомат           робот  \n",
       "5486       автомат  автоматическая  \n",
       "9188       автомат  автоматическая  \n",
       "\n",
       "[3 rows x 28 columns]"
      ]
     },
     "execution_count": 84,
     "metadata": {},
     "output_type": "execute_result"
    }
   ],
   "source": [
    "# Посмотрим на пример таких данных\n",
    "data[data.tcp.isnull() == True].sample(3)"
   ]
  },
  {
   "cell_type": "code",
   "execution_count": 85,
   "metadata": {},
   "outputs": [
    {
     "data": {
      "text/html": [
       "<div>\n",
       "<style scoped>\n",
       "    .dataframe tbody tr th:only-of-type {\n",
       "        vertical-align: middle;\n",
       "    }\n",
       "\n",
       "    .dataframe tbody tr th {\n",
       "        vertical-align: top;\n",
       "    }\n",
       "\n",
       "    .dataframe thead th {\n",
       "        text-align: right;\n",
       "    }\n",
       "</style>\n",
       "<table border=\"1\" class=\"dataframe\">\n",
       "  <thead>\n",
       "    <tr style=\"text-align: right;\">\n",
       "      <th></th>\n",
       "      <th>mileage</th>\n",
       "      <th>ownersCount</th>\n",
       "    </tr>\n",
       "    <tr>\n",
       "      <th>productionDate</th>\n",
       "      <th></th>\n",
       "      <th></th>\n",
       "    </tr>\n",
       "  </thead>\n",
       "  <tbody>\n",
       "    <tr>\n",
       "      <th>1999</th>\n",
       "      <td>276000</td>\n",
       "      <td>3.0</td>\n",
       "    </tr>\n",
       "    <tr>\n",
       "      <th>2018</th>\n",
       "      <td>0</td>\n",
       "      <td>NaN</td>\n",
       "    </tr>\n",
       "    <tr>\n",
       "      <th>2019</th>\n",
       "      <td>0</td>\n",
       "      <td>NaN</td>\n",
       "    </tr>\n",
       "    <tr>\n",
       "      <th>2020</th>\n",
       "      <td>0</td>\n",
       "      <td>NaN</td>\n",
       "    </tr>\n",
       "  </tbody>\n",
       "</table>\n",
       "</div>"
      ],
      "text/plain": [
       "                mileage  ownersCount\n",
       "productionDate                      \n",
       "1999             276000          3.0\n",
       "2018                  0          NaN\n",
       "2019                  0          NaN\n",
       "2020                  0          NaN"
      ]
     },
     "execution_count": 85,
     "metadata": {},
     "output_type": "execute_result"
    }
   ],
   "source": [
    "# Сгруппируем данные по году выпуска и выведем медианный пробег и кол-во владельцев\n",
    "data[data.tcp.isnull() == True].groupby('productionDate')['mileage', 'ownersCount'].median()"
   ]
  },
  {
   "cell_type": "markdown",
   "metadata": {},
   "source": [
    "Действительно, выглядит так, что NAN - для новых машин и одной машины с теста. \n",
    "Стратегия заполнения:\n",
    "- для новых авто: новое значение \"новая\"\n",
    "- для 10412 из test: попробуем \"дубликат\""
   ]
  },
  {
   "cell_type": "code",
   "execution_count": 86,
   "metadata": {},
   "outputs": [],
   "source": [
    "# Заполняем test значением дубликат\n",
    "data.tcp.loc[data[(data.tcp.isnull() == True) & (data.train == 0)]['tcp'].index[0]] = 'дубликат'"
   ]
  },
  {
   "cell_type": "code",
   "execution_count": 87,
   "metadata": {},
   "outputs": [
    {
     "data": {
      "text/plain": [
       "0    348\n",
       "Name: mileage, dtype: int64"
      ]
     },
     "execution_count": 87,
     "metadata": {},
     "output_type": "execute_result"
    }
   ],
   "source": [
    "# Смотрим, какой mileage у оставшихся записей. Удостоверимся, что это авто без пробега\n",
    "data[data.tcp.isnull() == True].mileage.value_counts()"
   ]
  },
  {
   "cell_type": "code",
   "execution_count": 88,
   "metadata": {},
   "outputs": [],
   "source": [
    "# Заполняем значением \"новое авто\"\n",
    "data.tcp.fillna('новое_авто', inplace = True)"
   ]
  },
  {
   "cell_type": "code",
   "execution_count": 89,
   "metadata": {},
   "outputs": [
    {
     "data": {
      "text/plain": [
       "оригинал      104833\n",
       "дубликат       14895\n",
       "новое_авто       348\n",
       "Name: tcp, dtype: int64"
      ]
     },
     "execution_count": 89,
     "metadata": {},
     "output_type": "execute_result"
    }
   ],
   "source": [
    "# Проверяем, что получилось\n",
    "data.tcp.value_counts()"
   ]
  },
  {
   "cell_type": "markdown",
   "metadata": {},
   "source": [
    "**description**"
   ]
  },
  {
   "cell_type": "code",
   "execution_count": 90,
   "metadata": {},
   "outputs": [],
   "source": [
    "# добавим колонку в список на удаление перед построением модели\n",
    "cols_removal.append('description')"
   ]
  },
  {
   "cell_type": "markdown",
   "metadata": {},
   "source": [
    "**OwnershipTime**\n",
    "\n"
   ]
  },
  {
   "cell_type": "code",
   "execution_count": 91,
   "metadata": {},
   "outputs": [],
   "source": [
    "# Пока заполняем пропуски no_data, далее решаем, что сделать с признаком\n",
    "data['ownershipTime'] = data['ownershipTime'].fillna('no_data')"
   ]
  },
  {
   "cell_type": "markdown",
   "metadata": {},
   "source": [
    "### 3.8 Извлечение дополнительных признаков из данных\n",
    "\n",
    "Посмотрим на данные и подумаем, какие дополнительные признаки можно \"извлечь\" из текущих данных без грубокого фиче инжениринга."
   ]
  },
  {
   "cell_type": "markdown",
   "metadata": {},
   "source": [
    "**ownershipTime**\n",
    "\n",
    "Создадим на базе признака колонку, в которой поместим инфрмацию о количестве месяцев владения автомобилем."
   ]
  },
  {
   "cell_type": "code",
   "execution_count": 92,
   "metadata": {},
   "outputs": [],
   "source": [
    "def num_of_months(row):\n",
    "    \"\"\"\n",
    "    Функция перевеодит формат данных \"x лет y месяца(ев)\" в количество месяцев.\n",
    "    Вход: строка series.\n",
    "    Выход: количество месяцев\n",
    "    \"\"\"\n",
    "    if pd.notnull(row) and row != 'no_data':\n",
    "        list_ownership = row.split()  # разделяем строку на список из месяца и лет\n",
    "        if len(list_ownership) == 2:  # если содержится информация только про годы\n",
    "            if list_ownership[1] in ['год', 'года', 'лет']:\n",
    "                return int(list_ownership[0])*12\n",
    "            return int(list_ownership[0])  # переводим год в месяцы\n",
    "        # случай, когда содержится инфо только про месяц\n",
    "        # прибавляем к годам*12 количетсво месяцев\n",
    "        return int(list_ownership[0])*12 + int(list_ownership[3])"
   ]
  },
  {
   "cell_type": "code",
   "execution_count": 93,
   "metadata": {},
   "outputs": [],
   "source": [
    "# Создаем новый столбец с количеством месяцев владения\n",
    "data['ownershipTimeMonths'] = data['ownershipTime'].apply(num_of_months)"
   ]
  },
  {
   "cell_type": "code",
   "execution_count": 94,
   "metadata": {},
   "outputs": [
    {
     "data": {
      "text/html": [
       "<div>\n",
       "<style scoped>\n",
       "    .dataframe tbody tr th:only-of-type {\n",
       "        vertical-align: middle;\n",
       "    }\n",
       "\n",
       "    .dataframe tbody tr th {\n",
       "        vertical-align: top;\n",
       "    }\n",
       "\n",
       "    .dataframe thead th {\n",
       "        text-align: right;\n",
       "    }\n",
       "</style>\n",
       "<table border=\"1\" class=\"dataframe\">\n",
       "  <thead>\n",
       "    <tr style=\"text-align: right;\">\n",
       "      <th></th>\n",
       "      <th>ownershipTime</th>\n",
       "      <th>ownershipTimeMonths</th>\n",
       "    </tr>\n",
       "  </thead>\n",
       "  <tbody>\n",
       "    <tr>\n",
       "      <th>940</th>\n",
       "      <td>7 лет и 9 месяцев</td>\n",
       "      <td>93.0</td>\n",
       "    </tr>\n",
       "    <tr>\n",
       "      <th>94503</th>\n",
       "      <td>1 год и 3 месяца</td>\n",
       "      <td>15.0</td>\n",
       "    </tr>\n",
       "    <tr>\n",
       "      <th>17208</th>\n",
       "      <td>3 годa и 7 месяцев</td>\n",
       "      <td>43.0</td>\n",
       "    </tr>\n",
       "    <tr>\n",
       "      <th>86349</th>\n",
       "      <td>7 лет и 7 месяцев</td>\n",
       "      <td>91.0</td>\n",
       "    </tr>\n",
       "    <tr>\n",
       "      <th>59099</th>\n",
       "      <td>6 лет и 6 месяцев</td>\n",
       "      <td>78.0</td>\n",
       "    </tr>\n",
       "  </tbody>\n",
       "</table>\n",
       "</div>"
      ],
      "text/plain": [
       "            ownershipTime  ownershipTimeMonths\n",
       "940     7 лет и 9 месяцев                 93.0\n",
       "94503    1 год и 3 месяца                 15.0\n",
       "17208  3 годa и 7 месяцев                 43.0\n",
       "86349   7 лет и 7 месяцев                 91.0\n",
       "59099   6 лет и 6 месяцев                 78.0"
      ]
     },
     "execution_count": 94,
     "metadata": {},
     "output_type": "execute_result"
    }
   ],
   "source": [
    "# Смотрим, что получилось\n",
    "data[data.ownershipTime != 'no_data'][['ownershipTime', 'ownershipTimeMonths']].sample(5)"
   ]
  },
  {
   "cell_type": "code",
   "execution_count": 95,
   "metadata": {},
   "outputs": [],
   "source": [
    "# Добавим исходную колонку в список на удаление перед построением модели\n",
    "cols_removal.append('ownershipTime')"
   ]
  },
  {
   "cell_type": "markdown",
   "metadata": {},
   "source": [
    "### Детальный анализ признаков"
   ]
  },
  {
   "cell_type": "markdown",
   "metadata": {},
   "source": [
    "Список вопросов для детального анализа из предварительного анализа:\n",
    "- [ ] fuelType - разобраться, что такое универсал\n",
    "- [ ] engineDisplacemen\t- разобраться, какие значения, унифицировать и/или сгенерировать новые признаки\n",
    "- [ ] description - кандидат на удаление, но можно извлечь новые признаки\n",
    "- [ ] ownershipTime - извлечь длительность владения авто на момент сбора объявления\n",
    "- [ ] numberOfDoors - разобраться с транспортом 0 дверей"
   ]
  },
  {
   "cell_type": "markdown",
   "metadata": {},
   "source": [
    "#### Группировка признаков на категориальные, бинарные и числовые\n",
    "\n",
    "Посмотрим, какие признаки могут относиться к категориальным, бинарным, числовым."
   ]
  },
  {
   "cell_type": "code",
   "execution_count": 96,
   "metadata": {},
   "outputs": [
    {
     "data": {
      "text/plain": [
       "bodyType                  168\n",
       "brand                      36\n",
       "color                      16\n",
       "fuelType                    5\n",
       "modelDate                  78\n",
       "name                     4774\n",
       "numberOfDoors               5\n",
       "productionDate             80\n",
       "vehicleConfiguration     2023\n",
       "vehicleTransmission         8\n",
       "engineDisplacement        589\n",
       "enginePower               398\n",
       "description             99737\n",
       "mileage                 24304\n",
       "drivetrain                  3\n",
       "driveSide                   2\n",
       "condition                   1\n",
       "ownersCount                 4\n",
       "tcp                         3\n",
       "customs                     1\n",
       "ownershipTime             349\n",
       "price                    8169\n",
       "model                    1104\n",
       "vendor                      4\n",
       "train                       2\n",
       "sell_id                 34687\n",
       "transmission                2\n",
       "automaticType               4\n",
       "ownershipTimeMonths       308\n",
       "dtype: int64"
      ]
     },
     "execution_count": 96,
     "metadata": {},
     "output_type": "execute_result"
    }
   ],
   "source": [
    "# Посмотрим, сколько уникальных значений\n",
    "data.nunique(dropna=False)"
   ]
  },
  {
   "cell_type": "code",
   "execution_count": 97,
   "metadata": {},
   "outputs": [
    {
     "data": {
      "text/plain": [
       "bodyType                                                            седан\n",
       "brand                                                                AUDI\n",
       "color                                                             зелёный\n",
       "fuelType                                                           бензин\n",
       "modelDate                                                            1990\n",
       "name                                                    2.8 MT (174 л.с.)\n",
       "numberOfDoors                                                           4\n",
       "productionDate                                                       1993\n",
       "vehicleConfiguration                                 SEDAN MECHANICAL 2.8\n",
       "vehicleTransmission                                            MECHANICAL\n",
       "engineDisplacement                                                    2.8\n",
       "enginePower                                                           174\n",
       "description             Хорошая комплектация: климат, эл. стекла, эл. ...\n",
       "mileage                                                            200000\n",
       "drivetrain                                                       передний\n",
       "driveSide                                                           левый\n",
       "condition                                                               0\n",
       "ownersCount                                                             3\n",
       "tcp                                                              оригинал\n",
       "customs                                                                 1\n",
       "ownershipTime                                                     no_data\n",
       "price                                                               90000\n",
       "model                                                                 100\n",
       "vendor                                                           EUROPEAN\n",
       "train                                                                   1\n",
       "sell_id                                                                 0\n",
       "transmission                                                 механическая\n",
       "automaticType                                                           0\n",
       "ownershipTimeMonths                                                   NaN\n",
       "Name: 5, dtype: object"
      ]
     },
     "execution_count": 97,
     "metadata": {},
     "output_type": "execute_result"
    }
   ],
   "source": [
    "# Выведем пример признаков на экран\n",
    "data.loc[5]"
   ]
  },
  {
   "cell_type": "code",
   "execution_count": 98,
   "metadata": {},
   "outputs": [
    {
     "name": "stdout",
     "output_type": "stream",
     "text": [
      "<class 'pandas.core.frame.DataFrame'>\n",
      "Int64Index: 120076 entries, 0 to 124063\n",
      "Data columns (total 29 columns):\n",
      " #   Column                Non-Null Count   Dtype  \n",
      "---  ------                --------------   -----  \n",
      " 0   bodyType              120076 non-null  object \n",
      " 1   brand                 120076 non-null  object \n",
      " 2   color                 120076 non-null  object \n",
      " 3   fuelType              120076 non-null  object \n",
      " 4   modelDate             120076 non-null  object \n",
      " 5   name                  120076 non-null  object \n",
      " 6   numberOfDoors         120076 non-null  object \n",
      " 7   productionDate        120076 non-null  int64  \n",
      " 8   vehicleConfiguration  120076 non-null  object \n",
      " 9   vehicleTransmission   120076 non-null  object \n",
      " 10  engineDisplacement    120076 non-null  object \n",
      " 11  enginePower           120076 non-null  float64\n",
      " 12  description           116864 non-null  object \n",
      " 13  mileage               120076 non-null  int64  \n",
      " 14  drivetrain            120076 non-null  object \n",
      " 15  driveSide             120076 non-null  object \n",
      " 16  condition             120076 non-null  int64  \n",
      " 17  ownersCount           109541 non-null  float64\n",
      " 18  tcp                   120076 non-null  object \n",
      " 19  customs               120076 non-null  int64  \n",
      " 20  ownershipTime         120076 non-null  object \n",
      " 21  price                 120076 non-null  float64\n",
      " 22  model                 120076 non-null  object \n",
      " 23  vendor                120076 non-null  object \n",
      " 24  train                 120076 non-null  int64  \n",
      " 25  sell_id               120076 non-null  int64  \n",
      " 26  transmission          120076 non-null  object \n",
      " 27  automaticType         120076 non-null  object \n",
      " 28  ownershipTimeMonths   40833 non-null   float64\n",
      "dtypes: float64(4), int64(6), object(19)\n",
      "memory usage: 32.5+ MB\n"
     ]
    }
   ],
   "source": [
    "data.info()"
   ]
  },
  {
   "cell_type": "code",
   "execution_count": 99,
   "metadata": {},
   "outputs": [
    {
     "name": "stdout",
     "output_type": "stream",
     "text": [
      "Признаки для последующего удаления: ['customs', 'condition', 'vehicleConfiguration', 'name', 'vehicleTransmission', 'description', 'ownershipTime']\n"
     ]
    }
   ],
   "source": [
    "# Посмотрим, на колонки, которые планируем в последствие удалить, чтобы не включать их в анализ\n",
    "print(\"Признаки для последующего удаления:\", cols_removal)"
   ]
  },
  {
   "cell_type": "markdown",
   "metadata": {},
   "source": [
    "Исходя из количества уникальных значений, разделим все признаки на группу.\n",
    "\n",
    "1. Категориальные признаки: 'bodyType', 'brand', 'color', 'fuelType', 'drivetrain', 'driveSide', 'tcp', 'model','vendor', 'transmission', 'automaticType'\n",
    "2. Бинарные признаки: - 'customs', 'condition' (не алазируем, т.к. все данные представленны одним значением признака)\n",
    "3. Числовые признаки: 'modelDate', 'numberOfDoors', 'productionDate', 'engineDisplacement', 'enginePower', 'mileage', 'ownersCount'\n",
    "4. Даты: -\n",
    "5. Служебный признак (не анализируем): 'train', 'sell_id'\n",
    "6. Целевой: 'price'"
   ]
  },
  {
   "cell_type": "code",
   "execution_count": 100,
   "metadata": {},
   "outputs": [
    {
     "name": "stdout",
     "output_type": "stream",
     "text": [
      "Кол-во столбцов, для дальнейшей работы после предварительного анализа: 21\n"
     ]
    }
   ],
   "source": [
    "# бинарные признаки\n",
    "bin_cols = []\n",
    "\n",
    "# категориальные переменные\n",
    "cat_cols = ['bodyType', 'brand', 'color', 'fuelType', 'drivetrain', 'driveSide', 'tcp', 'model',\n",
    "            'engineDisplacement', 'vendor', 'transmission', 'automaticType', 'numberOfDoors', 'ownersCount']\n",
    "\n",
    "# числовые переменные\n",
    "num_cols = ['modelDate', 'productionDate',\n",
    "            'enginePower', 'mileage']\n",
    "\n",
    "# сервисные переменные\n",
    "servis_cols = ['train', 'sell_id']\n",
    "\n",
    "# целевая переменная\n",
    "target_col = ['price']\n",
    "\n",
    "all_cols = bin_cols + cat_cols + num_cols + servis_cols + target_col\n",
    "\n",
    "print(\"Кол-во столбцов, для дальнейшей работы после предварительного анализа:\", len(all_cols))"
   ]
  },
  {
   "cell_type": "markdown",
   "metadata": {},
   "source": [
    "#### Числовые переменные: распределение, корреляционный анализ, определение значимости\n",
    "\n",
    "###### Распределние численных признаков."
   ]
  },
  {
   "cell_type": "code",
   "execution_count": 232,
   "metadata": {},
   "outputs": [
    {
     "name": "stdout",
     "output_type": "stream",
     "text": [
      "Диаграмы распределения числовых признаков, взаимосвязь с целевой переменной\n"
     ]
    },
    {
     "data": {
      "image/png": "[encoded data removed]",
      "text/plain": [
       "<Figure size 2160x2880 with 12 Axes>"
      ]
     },
     "metadata": {},
     "output_type": "display_data"
    }
   ],
   "source": [
    "# Построим распределение основных числовых признаков\n",
    "\n",
    "print(\"Диаграмы распределения числовых признаков, взаимосвязь с целевой переменной\")\n",
    "\n",
    "fig, axes = plt.subplots(4, 3, figsize=(30, 40))\n",
    "plt.subplots_adjust(wspace=0.5)\n",
    "axes = axes.flatten()\n",
    "i = 0\n",
    "\n",
    "for col in num_cols:\n",
    "    sns.distplot(data[col], ax=axes[i])\n",
    "    i = i + 1\n",
    "    sns.boxplot(data[col], ax=axes[i])\n",
    "    i = i + 1\n",
    "    sns.scatterplot(data=data[data['train'] == 1], x=col, y=\"price\", ax=axes[i])\n",
    "    i = i + 1"
   ]
  },
  {
   "cell_type": "markdown",
   "metadata": {},
   "source": [
    "Выводы:\n",
    "\n",
    "1. После построения гистограмм стало очевидно, что распределения основных числовых переменных имеют тяжёлый левый или правый хвост, влияет на разбежку между средним и медианой: \n",
    "    - для того, чтобы сделать распределение данных переменных более нормальным, можно работать с логарифмированными величинами этих переменных\n",
    "    - поработать с выбросами\n",
    "    - подумать про группировку признаков по категориям.\n",
    "2. Распределние modelDate, productionDate очень схожи:\n",
    "    - проверить на признаки на мультиколлинеарность во время корреляционного анализа\n",
    "    - видно, что в среднем productionDate чуть позже, чем modelDate во времени, т.е. производство приосходит чуть с запозданием, что логично. Можно добавить новый признак - насколько новая модель, т.е. через сколько лет после появления модели был выпущен автомобиль.\n",
    "3. mileage: есть пик в 0 - признак нового авто.\n",
    "4. enginePower: 11 лс - что это за авто? Поисследовать\n",
    "5. Взаимосвязь признаков с таргетом:\n",
    "    - наблюдается прямая корреляция цены от года модели и года выпуска с исключениями для особо раритетных автомобилей (~до 1975 года).\n",
    "    - наблюдается обратная корреляция цены от пробега авто\n",
    "    - цена от мощности вдигателя зависит, но не так явно, как от других переменных."
   ]
  },
  {
   "cell_type": "markdown",
   "metadata": {},
   "source": [
    "###### Корреляционный анализ.\n",
    "\n",
    "Оценим корреляцию Пирсона для непрерывных переменных. Cильная корреляция между переменными вредна для линейных моделей из-за неустойчивости полученных оценок."
   ]
  },
  {
   "cell_type": "code",
   "execution_count": 205,
   "metadata": {},
   "outputs": [
    {
     "data": {
      "image/png": "[encoded data removed]",
      "text/plain": [
       "<Figure size 720x504 with 2 Axes>"
      ]
     },
     "metadata": {},
     "output_type": "display_data"
    }
   ],
   "source": [
    "# Построим матрицу корреляций\n",
    "heatmap = sns.heatmap(data[num_cols + target_col].corr(), vmin=-1,\n",
    "                      vmax=1, annot=True, cmap='BrBG')\n",
    "heatmap.set_title('Матрица корреляций')\n",
    "plt.show()"
   ]
  },
  {
   "cell_type": "markdown",
   "metadata": {},
   "source": [
    "Вывод: \n",
    "1. Взаимосвязь пар числовых признаков по Пирсону достаточно сильная для productionDate, modelDate. При этом, у productionDate чуть большая корреляция с целевой переменной. Удалим признак modelDate.\n",
    "2. Достаточно сильная корреляция между productionDate и meleage - чем меньше год выпуска, тем больше пробег\n",
    "3. У всех числовых признаков достаточно высокая корреляция с целевой переменной, это хорошо."
   ]
  },
  {
   "cell_type": "code",
   "execution_count": 114,
   "metadata": {},
   "outputs": [],
   "source": [
    "# Добавляем modelDate в список колонок на удаление.\n",
    "cols_removal.append('modelDate')"
   ]
  },
  {
   "cell_type": "markdown",
   "metadata": {},
   "source": [
    "###### Детальный анализ\n",
    "\n",
    "Посмотрим более пристально на признаки, которые не исключили из анализа."
   ]
  },
  {
   "cell_type": "markdown",
   "metadata": {},
   "source": [
    "**mileage**\n",
    "\n",
    "Дополнительно поисследуем признак."
   ]
  },
  {
   "cell_type": "code",
   "execution_count": 159,
   "metadata": {},
   "outputs": [
    {
     "data": {
      "image/png": "[encoded data removed]",
      "text/plain": [
       "<Figure size 720x504 with 1 Axes>"
      ]
     },
     "metadata": {},
     "output_type": "display_data"
    }
   ],
   "source": [
    "# посмотрим на топ 5 годов выпуска авто\n",
    "fig, ax = plt.subplots()\n",
    "\n",
    "for x in (data['productionDate'].value_counts())[0:7].index:\n",
    "    data['mileage'][data['productionDate'] == x].hist(bins = 50)\n",
    "\n",
    "ax.set_xlim(0, 700000)\n",
    "ax.set_ylim(0, 1750)\n",
    "\n",
    "plt.title(\"Распределение mileage по productionDate\")\n",
    "plt.show()"
   ]
  },
  {
   "cell_type": "markdown",
   "metadata": {},
   "source": [
    "Получается, что mileage имеет нормальное распределение, просто чем старше автомобиль, тем больше пробег, из-за мы видим смещение.\n",
    "\n",
    "Чтобы скорректировать признак и сделать его более информативным создадим новый признак в разделе создания признаков: km_per_year - показывает, сколько км в год проезжал автомобиль. Вычисляется, как mileage/productionDate(years) или mileage/ownershipTime. Решить, какой метод использовать."
   ]
  },
  {
   "cell_type": "markdown",
   "metadata": {},
   "source": [
    "**enginePower**\n",
    "\n",
    "Нужно поисследовать странное минимальное значение мощности."
   ]
  },
  {
   "cell_type": "code",
   "execution_count": 204,
   "metadata": {},
   "outputs": [
    {
     "name": "stdout",
     "output_type": "stream",
     "text": [
      "Значение мощности двигателя (л.с.) на TEST\n"
     ]
    },
    {
     "data": {
      "text/plain": [
       "count    34686.000000\n",
       "mean       188.194142\n",
       "std         89.087035\n",
       "min         30.000000\n",
       "25%        125.000000\n",
       "50%        169.000000\n",
       "75%        233.000000\n",
       "max        639.000000\n",
       "Name: enginePower, dtype: float64"
      ]
     },
     "metadata": {},
     "output_type": "display_data"
    },
    {
     "name": "stdout",
     "output_type": "stream",
     "text": [
      "\n",
      "Значение мощности двигателя (л.с.) на TRAIN\n"
     ]
    },
    {
     "data": {
      "text/plain": [
       "count    85376.000000\n",
       "mean       170.898285\n",
       "std         83.881642\n",
       "min         30.000000\n",
       "25%        115.000000\n",
       "50%        150.000000\n",
       "75%        199.000000\n",
       "max        639.000000\n",
       "Name: enginePower, dtype: float64"
      ]
     },
     "metadata": {},
     "output_type": "display_data"
    }
   ],
   "source": [
    "print(\"Значение мощности двигателя (л.с.) на TEST\")\n",
    "display(data[data.train==0]['enginePower'].describe())\n",
    "\n",
    "print(\"\\nЗначение мощности двигателя (л.с.) на TRAIN\")\n",
    "display(data[data.train==1]['enginePower'].describe())"
   ]
  },
  {
   "cell_type": "markdown",
   "metadata": {},
   "source": [
    "Видим, что в Test минимум - больше, а максимум - меньше. Посмотрим, что это за авто и сколько их."
   ]
  },
  {
   "cell_type": "code",
   "execution_count": 203,
   "metadata": {},
   "outputs": [
    {
     "name": "stdout",
     "output_type": "stream",
     "text": [
      "Строки, в которых мощность двигателя меньше 30 л.с.\n"
     ]
    },
    {
     "data": {
      "text/html": [
       "<div>\n",
       "<style scoped>\n",
       "    .dataframe tbody tr th:only-of-type {\n",
       "        vertical-align: middle;\n",
       "    }\n",
       "\n",
       "    .dataframe tbody tr th {\n",
       "        vertical-align: top;\n",
       "    }\n",
       "\n",
       "    .dataframe thead th {\n",
       "        text-align: right;\n",
       "    }\n",
       "</style>\n",
       "<table border=\"1\" class=\"dataframe\">\n",
       "  <thead>\n",
       "    <tr style=\"text-align: right;\">\n",
       "      <th></th>\n",
       "      <th>bodyType</th>\n",
       "      <th>brand</th>\n",
       "      <th>color</th>\n",
       "      <th>fuelType</th>\n",
       "      <th>modelDate</th>\n",
       "      <th>name</th>\n",
       "      <th>numberOfDoors</th>\n",
       "      <th>productionDate</th>\n",
       "      <th>vehicleConfiguration</th>\n",
       "      <th>vehicleTransmission</th>\n",
       "      <th>...</th>\n",
       "      <th>customs</th>\n",
       "      <th>ownershipTime</th>\n",
       "      <th>price</th>\n",
       "      <th>model</th>\n",
       "      <th>vendor</th>\n",
       "      <th>train</th>\n",
       "      <th>sell_id</th>\n",
       "      <th>transmission</th>\n",
       "      <th>automaticType</th>\n",
       "      <th>ownershipTimeMonths</th>\n",
       "    </tr>\n",
       "  </thead>\n",
       "  <tbody>\n",
       "  </tbody>\n",
       "</table>\n",
       "<p>0 rows × 29 columns</p>\n",
       "</div>"
      ],
      "text/plain": [
       "Empty DataFrame\n",
       "Columns: [bodyType, brand, color, fuelType, modelDate, name, numberOfDoors, productionDate, vehicleConfiguration, vehicleTransmission, engineDisplacement, enginePower, description, mileage, drivetrain, driveSide, condition, ownersCount, tcp, customs, ownershipTime, price, model, vendor, train, sell_id, transmission, automaticType, ownershipTimeMonths]\n",
       "Index: []\n",
       "\n",
       "[0 rows x 29 columns]"
      ]
     },
     "execution_count": 203,
     "metadata": {},
     "output_type": "execute_result"
    }
   ],
   "source": [
    "print(\"Строки, в которых мощность двигателя меньше 30 л.с.\")\n",
    "data[data.enginePower < data[data.train==0]['enginePower'].min()]"
   ]
  },
  {
   "cell_type": "code",
   "execution_count": 202,
   "metadata": {},
   "outputs": [
    {
     "name": "stdout",
     "output_type": "stream",
     "text": [
      "Строки, в которых мощность двигателя более 639 л.с.\n"
     ]
    },
    {
     "data": {
      "text/html": [
       "<div>\n",
       "<style scoped>\n",
       "    .dataframe tbody tr th:only-of-type {\n",
       "        vertical-align: middle;\n",
       "    }\n",
       "\n",
       "    .dataframe tbody tr th {\n",
       "        vertical-align: top;\n",
       "    }\n",
       "\n",
       "    .dataframe thead th {\n",
       "        text-align: right;\n",
       "    }\n",
       "</style>\n",
       "<table border=\"1\" class=\"dataframe\">\n",
       "  <thead>\n",
       "    <tr style=\"text-align: right;\">\n",
       "      <th></th>\n",
       "      <th>bodyType</th>\n",
       "      <th>brand</th>\n",
       "      <th>color</th>\n",
       "      <th>fuelType</th>\n",
       "      <th>modelDate</th>\n",
       "      <th>name</th>\n",
       "      <th>numberOfDoors</th>\n",
       "      <th>productionDate</th>\n",
       "      <th>vehicleConfiguration</th>\n",
       "      <th>vehicleTransmission</th>\n",
       "      <th>...</th>\n",
       "      <th>customs</th>\n",
       "      <th>ownershipTime</th>\n",
       "      <th>price</th>\n",
       "      <th>model</th>\n",
       "      <th>vendor</th>\n",
       "      <th>train</th>\n",
       "      <th>sell_id</th>\n",
       "      <th>transmission</th>\n",
       "      <th>automaticType</th>\n",
       "      <th>ownershipTimeMonths</th>\n",
       "    </tr>\n",
       "  </thead>\n",
       "  <tbody>\n",
       "  </tbody>\n",
       "</table>\n",
       "<p>0 rows × 29 columns</p>\n",
       "</div>"
      ],
      "text/plain": [
       "Empty DataFrame\n",
       "Columns: [bodyType, brand, color, fuelType, modelDate, name, numberOfDoors, productionDate, vehicleConfiguration, vehicleTransmission, engineDisplacement, enginePower, description, mileage, drivetrain, driveSide, condition, ownersCount, tcp, customs, ownershipTime, price, model, vendor, train, sell_id, transmission, automaticType, ownershipTimeMonths]\n",
       "Index: []\n",
       "\n",
       "[0 rows x 29 columns]"
      ]
     },
     "execution_count": 202,
     "metadata": {},
     "output_type": "execute_result"
    }
   ],
   "source": [
    "print(\"Строки, в которых мощность двигателя более 639 л.с.\")\n",
    "data[data.enginePower > data[data.train==0]['enginePower'].max()]"
   ]
  },
  {
   "cell_type": "code",
   "execution_count": 201,
   "metadata": {},
   "outputs": [],
   "source": [
    "# Таких строк немного, удалим из из дальнейшего анализа\n",
    "data.drop(data[(data.enginePower > data[data.train == 0]\n",
    "                ['enginePower'].max()) | (data.enginePower < data[data.train == 0]\n",
    "                                          ['enginePower'].min())].index, inplace=True)"
   ]
  },
  {
   "cell_type": "markdown",
   "metadata": {},
   "source": [
    "**productionDate**"
   ]
  },
  {
   "cell_type": "code",
   "execution_count": null,
   "metadata": {},
   "outputs": [],
   "source": []
  },
  {
   "cell_type": "code",
   "execution_count": null,
   "metadata": {},
   "outputs": [],
   "source": []
  },
  {
   "cell_type": "code",
   "execution_count": null,
   "metadata": {},
   "outputs": [],
   "source": []
  },
  {
   "cell_type": "code",
   "execution_count": null,
   "metadata": {},
   "outputs": [],
   "source": []
  },
  {
   "cell_type": "markdown",
   "metadata": {},
   "source": [
    "### Анализ выбросов\n"
   ]
  },
  {
   "cell_type": "code",
   "execution_count": null,
   "metadata": {},
   "outputs": [],
   "source": []
  },
  {
   "cell_type": "code",
   "execution_count": null,
   "metadata": {},
   "outputs": [],
   "source": []
  },
  {
   "cell_type": "markdown",
   "metadata": {},
   "source": [
    "### Анализ взаимосвязи признаков между собой\n"
   ]
  },
  {
   "cell_type": "code",
   "execution_count": null,
   "metadata": {},
   "outputs": [],
   "source": []
  },
  {
   "cell_type": "code",
   "execution_count": null,
   "metadata": {},
   "outputs": [],
   "source": []
  },
  {
   "cell_type": "markdown",
   "metadata": {},
   "source": [
    "### Анализ взаимосвязи признаков с таргетом"
   ]
  },
  {
   "cell_type": "code",
   "execution_count": null,
   "metadata": {},
   "outputs": [],
   "source": []
  },
  {
   "cell_type": "code",
   "execution_count": null,
   "metadata": {},
   "outputs": [],
   "source": []
  },
  {
   "cell_type": "markdown",
   "metadata": {},
   "source": [
    "### Выводы и идеи по генерации новых признаков"
   ]
  },
  {
   "cell_type": "markdown",
   "metadata": {},
   "source": [
    "Идеи по генерации новых признаков по результатам EDA:\n",
    "- [ ] km_per_year - показывает, сколько км в год проезжал автомобиль. Вычисляется, как mileage/productionDate(years) или mileage/ownershipTime. Решить, какой метод использовать\n",
    "- [ ] carNovelty - показывает, через сколько лет после выхода модели был выпущен автомобиль, т.е. modelDate - productionDate. Гипотеза, что чем меньше это число, тем выше будет цена."
   ]
  },
  {
   "cell_type": "code",
   "execution_count": null,
   "metadata": {},
   "outputs": [],
   "source": []
  },
  {
   "cell_type": "code",
   "execution_count": null,
   "metadata": {
    "papermill": {
     "duration": 0.156124,
     "end_time": "2020-10-26T12:47:03.134605",
     "exception": false,
     "start_time": "2020-10-26T12:47:02.978481",
     "status": "completed"
    },
    "tags": []
   },
   "outputs": [],
   "source": [
    "train.dropna(subset=['productionDate', 'mileage'], inplace=True)\n",
    "train.dropna(subset=['price'], inplace=True)"
   ]
  },
  {
   "cell_type": "code",
   "execution_count": null,
   "metadata": {
    "papermill": {
     "duration": 0.054414,
     "end_time": "2020-10-26T12:47:03.223614",
     "exception": false,
     "start_time": "2020-10-26T12:47:03.1692",
     "status": "completed"
    },
    "tags": []
   },
   "outputs": [],
   "source": [
    "# для baseline просто возьму пару схожих признаков без полной обработки\n",
    "columns = ['bodyType', 'brand', 'productionDate',\n",
    "           'engineDisplacement', 'mileage']\n",
    "df_train = train[columns]\n",
    "df_test = test[columns]"
   ]
  },
  {
   "cell_type": "code",
   "execution_count": null,
   "metadata": {},
   "outputs": [],
   "source": [
    "y = train['price']"
   ]
  },
  {
   "cell_type": "markdown",
   "metadata": {
    "papermill": {
     "duration": 0.033657,
     "end_time": "2020-10-26T12:47:03.29162",
     "exception": false,
     "start_time": "2020-10-26T12:47:03.257963",
     "status": "completed"
    },
    "tags": []
   },
   "source": [
    "### Label Encoding"
   ]
  },
  {
   "cell_type": "code",
   "execution_count": null,
   "metadata": {
    "papermill": {
     "duration": 0.080223,
     "end_time": "2020-10-26T12:47:03.406196",
     "exception": false,
     "start_time": "2020-10-26T12:47:03.325973",
     "status": "completed"
    },
    "tags": []
   },
   "outputs": [],
   "source": [
    "# ВАЖНО! дря корректной обработки признаков объединяем трейн и тест в один датасет\n",
    "df_train['sample'] = 1  # помечаем где у нас трейн\n",
    "df_test['sample'] = 0  # помечаем где у нас тест\n",
    "\n",
    "data = df_test.append(df_train, sort=False).reset_index(\n",
    "    drop=True)  # объединяем"
   ]
  },
  {
   "cell_type": "code",
   "execution_count": null,
   "metadata": {
    "papermill": {
     "duration": 0.10809,
     "end_time": "2020-10-26T12:47:03.549533",
     "exception": false,
     "start_time": "2020-10-26T12:47:03.441443",
     "status": "completed"
    },
    "tags": []
   },
   "outputs": [],
   "source": [
    "for colum in ['bodyType', 'brand', 'engineDisplacement']:\n",
    "    data[colum] = data[colum].astype('category').cat.codes"
   ]
  },
  {
   "cell_type": "code",
   "execution_count": null,
   "metadata": {
    "papermill": {
     "duration": 0.06183,
     "end_time": "2020-10-26T12:47:03.646867",
     "exception": false,
     "start_time": "2020-10-26T12:47:03.585037",
     "status": "completed"
    },
    "tags": []
   },
   "outputs": [],
   "source": [
    "data"
   ]
  },
  {
   "cell_type": "code",
   "execution_count": null,
   "metadata": {
    "papermill": {
     "duration": 0.071275,
     "end_time": "2020-10-26T12:47:03.754",
     "exception": false,
     "start_time": "2020-10-26T12:47:03.682725",
     "status": "completed"
    },
    "tags": []
   },
   "outputs": [],
   "source": [
    "X = data.query('sample == 1').drop(['sample'], axis=1)\n",
    "X_sub = data.query('sample == 0').drop(['sample'], axis=1)"
   ]
  },
  {
   "cell_type": "markdown",
   "metadata": {
    "papermill": {
     "duration": 0.035737,
     "end_time": "2020-10-26T12:47:03.826552",
     "exception": false,
     "start_time": "2020-10-26T12:47:03.790815",
     "status": "completed"
    },
    "tags": []
   },
   "source": [
    "## Train Split"
   ]
  },
  {
   "cell_type": "code",
   "execution_count": null,
   "metadata": {
    "papermill": {
     "duration": 0.059208,
     "end_time": "2020-10-26T12:47:03.923564",
     "exception": false,
     "start_time": "2020-10-26T12:47:03.864356",
     "status": "completed"
    },
    "tags": []
   },
   "outputs": [],
   "source": [
    "X_train, X_test, y_train, y_test = train_test_split(\n",
    "    X, y, test_size=VAL_SIZE, shuffle=True, random_state=RANDOM_SEED)"
   ]
  },
  {
   "cell_type": "markdown",
   "metadata": {},
   "source": [
    "# 5. Model 1. Создадим \"наивную\" модель \n",
    "Эта модель будет предсказывать среднюю цену по модели двигателя (engineDisplacement). \n",
    "C ней будем сравнивать другие модели.\n",
    "\n",
    "\n"
   ]
  },
  {
   "cell_type": "code",
   "execution_count": null,
   "metadata": {},
   "outputs": [],
   "source": [
    "tmp_train = X_train.copy()\n",
    "tmp_train['price'] = y_train"
   ]
  },
  {
   "cell_type": "code",
   "execution_count": null,
   "metadata": {},
   "outputs": [],
   "source": [
    "# Находим median по экземплярам engineDisplacement в трейне и размечаем тест\n",
    "predict = X_test['engineDisplacement'].map(\n",
    "    tmp_train.groupby('engineDisplacement')['price'].median())\n",
    "\n",
    "# оцениваем точность\n",
    "print(\n",
    "    f\"Точность наивной модели по метрике MAPE: {(mape(y_test, predict.values))*100:0.2f}%\")"
   ]
  },
  {
   "cell_type": "markdown",
   "metadata": {
    "papermill": {
     "duration": 0.037164,
     "end_time": "2020-10-26T12:47:03.997616",
     "exception": false,
     "start_time": "2020-10-26T12:47:03.960452",
     "status": "completed"
    },
    "tags": []
   },
   "source": [
    "# 6. Model 2 : CatBoost\n",
    "![](https://pbs.twimg.com/media/DP-jUCyXcAArRTo.png:large)   \n",
    "\n",
    "\n",
    "У нас в данных практически все признаки категориальные. Специально для работы с такими данными была создана очень удобная библиотека CatBoost от Яндекса. [https://catboost.ai](http://)     \n",
    "На данный момент **CatBoost является одной из лучших библиотек для табличных данных!**\n",
    "\n",
    "#### Полезные видео о CatBoost (на русском):\n",
    "* [Доклад про CatBoost](https://youtu.be/9ZrfErvm97M)\n",
    "* [Свежий Туториал от команды CatBoost (практическая часть)](https://youtu.be/wQt4kgAOgV0) "
   ]
  },
  {
   "cell_type": "markdown",
   "metadata": {
    "papermill": {
     "duration": 0.035833,
     "end_time": "2020-10-26T12:47:04.149539",
     "exception": false,
     "start_time": "2020-10-26T12:47:04.113706",
     "status": "completed"
    },
    "tags": []
   },
   "source": [
    "## Fit"
   ]
  },
  {
   "cell_type": "code",
   "execution_count": null,
   "metadata": {
    "papermill": {
     "duration": 67.991521,
     "end_time": "2020-10-26T12:48:12.178488",
     "exception": false,
     "start_time": "2020-10-26T12:47:04.186967",
     "status": "completed"
    },
    "tags": []
   },
   "outputs": [],
   "source": [
    "model = CatBoostRegressor(iterations=5000,\n",
    "                          random_seed=RANDOM_SEED,\n",
    "                          eval_metric='MAPE',\n",
    "                          custom_metric=['R2', 'MAE'],\n",
    "                          silent=True,\n",
    "                          )\n",
    "model.fit(X_train, y_train,\n",
    "          # cat_features=cat_features_ids,\n",
    "          eval_set=(X_test, y_test),\n",
    "          verbose_eval=0,\n",
    "          use_best_model=True,\n",
    "          # plot=True\n",
    "          )\n",
    "\n",
    "model.save_model('catboost_single_model_baseline.model')"
   ]
  },
  {
   "cell_type": "code",
   "execution_count": null,
   "metadata": {},
   "outputs": [],
   "source": [
    "# оцениваем точность\n",
    "predict = model.predict(X_test)\n",
    "print(f\"Точность модели по метрике MAPE: {(mape(y_test, predict))*100:0.2f}%\")"
   ]
  },
  {
   "cell_type": "markdown",
   "metadata": {
    "papermill": {
     "duration": 0.088891,
     "end_time": "2020-10-26T12:48:12.562943",
     "exception": false,
     "start_time": "2020-10-26T12:48:12.474052",
     "status": "completed"
    },
    "tags": []
   },
   "source": [
    "Вот так просто со старта, даже не трогая сами данные и не подбирая настройки catboosta, получаем модель с уровнем ошибки в 18%!"
   ]
  },
  {
   "cell_type": "markdown",
   "metadata": {},
   "source": [
    "### Log Traget\n",
    "Попробуем взять таргет в логорифм - это позволит уменьшить влияние выбросов на обучение модели (используем для этого np.log и np.exp).    \n",
    "В принциепе мы можем использовать любое приобразование на целевую переменную. Например деление на курс доллара, евро или гречки :) в дату сбора данных, смотрим дату парсинга в тесте в **parsing_unixtime**"
   ]
  },
  {
   "cell_type": "code",
   "execution_count": null,
   "metadata": {},
   "outputs": [],
   "source": [
    "np.log(y_train)"
   ]
  },
  {
   "cell_type": "code",
   "execution_count": null,
   "metadata": {},
   "outputs": [],
   "source": [
    "model = CatBoostRegressor(iterations=5000,\n",
    "                          random_seed=RANDOM_SEED,\n",
    "                          eval_metric='MAPE',\n",
    "                          custom_metric=['R2', 'MAE'],\n",
    "                          silent=True,\n",
    "                          )\n",
    "model.fit(X_train, np.log(y_train),\n",
    "          # cat_features=cat_features_ids,\n",
    "          eval_set=(X_test, np.log(y_test)),\n",
    "          verbose_eval=0,\n",
    "          use_best_model=True,\n",
    "          # plot=True\n",
    "          )\n",
    "\n",
    "model.save_model('catboost_single_model_2_baseline.model')"
   ]
  },
  {
   "cell_type": "code",
   "execution_count": null,
   "metadata": {},
   "outputs": [],
   "source": [
    "predict_test = np.exp(model.predict(X_test))\n",
    "predict_submission = np.exp(model.predict(X_sub))"
   ]
  },
  {
   "cell_type": "code",
   "execution_count": null,
   "metadata": {},
   "outputs": [],
   "source": [
    "print(\n",
    "    f\"Точность модели по метрике MAPE: {(mape(y_test, predict_test))*100:0.2f}%\")"
   ]
  },
  {
   "cell_type": "markdown",
   "metadata": {},
   "source": [
    "Как видим точность возросла до 15%, а что будет на ЛБ?"
   ]
  },
  {
   "cell_type": "markdown",
   "metadata": {},
   "source": [
    "# Model 3. Lazypredict\n"
   ]
  },
  {
   "cell_type": "code",
   "execution_count": null,
   "metadata": {},
   "outputs": [],
   "source": [
    "pip install lazypredict"
   ]
  },
  {
   "cell_type": "code",
   "execution_count": null,
   "metadata": {},
   "outputs": [],
   "source": [
    "import lazypredict"
   ]
  },
  {
   "cell_type": "code",
   "execution_count": null,
   "metadata": {},
   "outputs": [],
   "source": [
    "from lazypredict.Supervised import LazyRegressor\n",
    "\n",
    "#reg = LazyRegressor(verbose=0, ignore_warnings=False, custom_metric=None)\n",
    "#models, predictions = reg.fit(X_train, X_test, y_train, y_test)\n",
    "\n",
    "# print(models)"
   ]
  },
  {
   "cell_type": "markdown",
   "metadata": {
    "papermill": {
     "duration": 0.085876,
     "end_time": "2020-10-26T12:48:12.734207",
     "exception": false,
     "start_time": "2020-10-26T12:48:12.648331",
     "status": "completed"
    },
    "tags": []
   },
   "source": [
    "# 7. Submission"
   ]
  },
  {
   "cell_type": "code",
   "execution_count": null,
   "metadata": {
    "papermill": {
     "duration": 0.628302,
     "end_time": "2020-10-26T12:48:13.763488",
     "exception": false,
     "start_time": "2020-10-26T12:48:13.135186",
     "status": "completed"
    },
    "tags": []
   },
   "outputs": [],
   "source": [
    "sample_submission['price'] = predict_submission\n",
    "sample_submission.to_csv(f'submission_2_v{VERSION}.csv', index=False)\n",
    "sample_submission.head(10)"
   ]
  },
  {
   "cell_type": "markdown",
   "metadata": {
    "papermill": {
     "duration": 0.083769,
     "end_time": "2020-10-26T12:48:13.930562",
     "exception": false,
     "start_time": "2020-10-26T12:48:13.846793",
     "status": "completed"
    },
    "tags": []
   },
   "source": [
    "В итоге получили **MAPE 27%** на ЛБ!\n",
    "\n",
    "Большая разница в ошибке может указывать на то что тест и трейн имеют различия по выборке или то что данные в трейне могли уже устареть и их нужно обновлять."
   ]
  },
  {
   "cell_type": "markdown",
   "metadata": {
    "papermill": {
     "duration": 0.087712,
     "end_time": "2020-10-26T12:48:14.104388",
     "exception": false,
     "start_time": "2020-10-26T12:48:14.016676",
     "status": "completed"
    },
    "tags": []
   },
   "source": [
    "# What's next?\n",
    "Или что еще можно сделать, чтоб улучшить результат:\n",
    "\n",
    "* Спарсить свежие данные \n",
    "* Посмотреть, что можно извлечь из признаков или как еще можно обработать признаки\n",
    "* Сгенерировать новые признаки\n",
    "* Попробовать подобрать параметры модели\n",
    "* Попробовать другие алгоритмы и библиотеки ML\n",
    "* Сделать Ансамбль моделей, Blending, Stacking"
   ]
  },
  {
   "cell_type": "markdown",
   "metadata": {},
   "source": [
    "Подробный чек лист: https://docs.google.com/spreadsheets/d/1I_ErM3U0Cs7Rs1obyZbIEGtVn-H47pHNCi4xdDgUmXY/edit?usp=sharing"
   ]
  }
 ],
 "metadata": {
  "kernelspec": {
   "display_name": "Python 3",
   "language": "python",
   "name": "python3"
  },
  "language_info": {
   "codemirror_mode": {
    "name": "ipython",
    "version": 3
   },
   "file_extension": ".py",
   "mimetype": "text/x-python",
   "name": "python",
   "nbconvert_exporter": "python",
   "pygments_lexer": "ipython3",
   "version": "3.8.10"
  }
 },
 "nbformat": 4,
 "nbformat_minor": 4
}
