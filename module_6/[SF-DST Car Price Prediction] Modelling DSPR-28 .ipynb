{
 "cells": [
  {
   "cell_type": "code",
   "execution_count": 1,
   "id": "2aca9287",
   "metadata": {},
   "outputs": [
    {
     "name": "stdout",
     "output_type": "stream",
     "text": [
      "Python       : 3.8.10 (default, May 19 2021, 11:01:55) \n",
      "Numpy        : 1.19.1\n"
     ]
    }
   ],
   "source": [
    "# import necessary modules\n",
    "import warnings\n",
    "warnings.filterwarnings('ignore')\n",
    "import time \n",
    "import pandas as pd\n",
    "import numpy as np\n",
    "import sys\n",
    "\n",
    "from sklearn.model_selection import train_test_split\n",
    "from sklearn.model_selection import KFold\n",
    "from sklearn.model_selection import RandomizedSearchCV\n",
    "from sklearn.feature_selection import f_regression, mutual_info_regression \n",
    "from sklearn.metrics import mean_absolute_error\n",
    "from sklearn.preprocessing import RobustScaler\n",
    "from sklearn.preprocessing import LabelEncoder, OneHotEncoder, StandardScaler, MinMaxScaler\n",
    "import xgboost as xgb\n",
    "from catboost import CatBoostRegressor\n",
    "from sklearn.linear_model import LinearRegression\n",
    "from sklearn.ensemble import RandomForestRegressor, ExtraTreesRegressor, BaggingRegressor\n",
    "from sklearn.ensemble import StackingRegressor\n",
    "\n",
    "\n",
    "import matplotlib.pyplot as plt\n",
    "import seaborn as sns\n",
    "%matplotlib inline\n",
    "\n",
    "# settings to display all columns\n",
    "pd.set_option(\"display.max_columns\", None)\n",
    "\n",
    "print('Python       :', sys.version.split('\\n')[0])\n",
    "print('Numpy        :', np.__version__)\n",
    "\n",
    "# зафиксируем версию пакетов, чтобы эксперименты были воспроизводимы:\n",
    "!pip freeze > requirements.txt\n",
    "\n",
    "# всегда фиксируйте RANDOM_SEED, чтобы ваши эксперименты были воспроизводимы!\n",
    "RANDOM_SEED = 42\n",
    "\n",
    "def mape(y_true, y_pred):\n",
    "    return np.mean(np.abs((y_pred-y_true)/y_true))\n",
    "\n",
    "VERSION = 1\n",
    "VAL_SIZE = 0.20   # 20%"
   ]
  },
  {
   "cell_type": "code",
   "execution_count": 2,
   "id": "54a7c266",
   "metadata": {},
   "outputs": [],
   "source": [
    "sample_submission = pd.read_csv('sample_submission.csv')"
   ]
  },
  {
   "cell_type": "code",
   "execution_count": 5,
   "id": "285822ff",
   "metadata": {},
   "outputs": [
    {
     "data": {
      "text/html": [
       "<div>\n",
       "<style scoped>\n",
       "    .dataframe tbody tr th:only-of-type {\n",
       "        vertical-align: middle;\n",
       "    }\n",
       "\n",
       "    .dataframe tbody tr th {\n",
       "        vertical-align: top;\n",
       "    }\n",
       "\n",
       "    .dataframe thead th {\n",
       "        text-align: right;\n",
       "    }\n",
       "</style>\n",
       "<table border=\"1\" class=\"dataframe\">\n",
       "  <thead>\n",
       "    <tr style=\"text-align: right;\">\n",
       "      <th></th>\n",
       "      <th>bodyType</th>\n",
       "      <th>brand</th>\n",
       "      <th>color</th>\n",
       "      <th>fuelType</th>\n",
       "      <th>numberOfDoors</th>\n",
       "      <th>productionDate</th>\n",
       "      <th>vehicleTransmission</th>\n",
       "      <th>enginePower</th>\n",
       "      <th>mileage</th>\n",
       "      <th>drivetrain</th>\n",
       "      <th>driveSide</th>\n",
       "      <th>ownersCount</th>\n",
       "      <th>tcp</th>\n",
       "      <th>rarity</th>\n",
       "      <th>price</th>\n",
       "      <th>model</th>\n",
       "      <th>vendor</th>\n",
       "      <th>train</th>\n",
       "      <th>sell_id</th>\n",
       "      <th>transmission</th>\n",
       "      <th>price_log</th>\n",
       "      <th>RUB_USD_rate</th>\n",
       "      <th>price_usd</th>\n",
       "      <th>km_per_year</th>\n",
       "      <th>carNovelty</th>\n",
       "      <th>prodDate_3Y</th>\n",
       "      <th>prodDate_5Y</th>\n",
       "      <th>ownershipTimeIsNull</th>\n",
       "      <th>descriptionIsNull</th>\n",
       "      <th>newCar</th>\n",
       "      <th>brandPopular</th>\n",
       "      <th>modelPopular</th>\n",
       "      <th>colorPopular</th>\n",
       "      <th>description_words_count</th>\n",
       "    </tr>\n",
       "  </thead>\n",
       "  <tbody>\n",
       "    <tr>\n",
       "      <th>71282</th>\n",
       "      <td>0</td>\n",
       "      <td>34</td>\n",
       "      <td>13</td>\n",
       "      <td>0</td>\n",
       "      <td>4</td>\n",
       "      <td>2020</td>\n",
       "      <td>3</td>\n",
       "      <td>5.01728</td>\n",
       "      <td>0.0</td>\n",
       "      <td>1</td>\n",
       "      <td>0</td>\n",
       "      <td>0</td>\n",
       "      <td>1</td>\n",
       "      <td>6</td>\n",
       "      <td>2156200.0</td>\n",
       "      <td>1060</td>\n",
       "      <td>2</td>\n",
       "      <td>1</td>\n",
       "      <td>0</td>\n",
       "      <td>0</td>\n",
       "      <td>14.583858</td>\n",
       "      <td>75.2048</td>\n",
       "      <td>28671.042274</td>\n",
       "      <td>0.0</td>\n",
       "      <td>4</td>\n",
       "      <td>0</td>\n",
       "      <td>0</td>\n",
       "      <td>0</td>\n",
       "      <td>0</td>\n",
       "      <td>1</td>\n",
       "      <td>1</td>\n",
       "      <td>1</td>\n",
       "      <td>1</td>\n",
       "      <td>6.829794</td>\n",
       "    </tr>\n",
       "  </tbody>\n",
       "</table>\n",
       "</div>"
      ],
      "text/plain": [
       "       bodyType  brand  color  fuelType  numberOfDoors  productionDate  \\\n",
       "71282         0     34     13         0              4            2020   \n",
       "\n",
       "       vehicleTransmission  enginePower  mileage  drivetrain  driveSide  \\\n",
       "71282                    3      5.01728      0.0           1          0   \n",
       "\n",
       "       ownersCount  tcp  rarity      price  model  vendor  train  sell_id  \\\n",
       "71282            0    1       6  2156200.0   1060       2      1        0   \n",
       "\n",
       "       transmission  price_log  RUB_USD_rate     price_usd  km_per_year  \\\n",
       "71282             0  14.583858       75.2048  28671.042274          0.0   \n",
       "\n",
       "       carNovelty  prodDate_3Y  prodDate_5Y  ownershipTimeIsNull  \\\n",
       "71282           4            0            0                    0   \n",
       "\n",
       "       descriptionIsNull  newCar  brandPopular  modelPopular  colorPopular  \\\n",
       "71282                  0       1             1             1             1   \n",
       "\n",
       "       description_words_count  \n",
       "71282                 6.829794  "
      ]
     },
     "execution_count": 5,
     "metadata": {},
     "output_type": "execute_result"
    }
   ],
   "source": [
    "data = pd.read_csv('data_train_0509.csv')\n",
    "data.sample()"
   ]
  },
  {
   "cell_type": "code",
   "execution_count": 4,
   "id": "c70b0860",
   "metadata": {},
   "outputs": [
    {
     "name": "stdout",
     "output_type": "stream",
     "text": [
      "<class 'pandas.core.frame.DataFrame'>\n",
      "RangeIndex: 121502 entries, 0 to 121501\n",
      "Data columns (total 34 columns):\n",
      " #   Column                   Non-Null Count   Dtype  \n",
      "---  ------                   --------------   -----  \n",
      " 0   bodyType                 121502 non-null  int64  \n",
      " 1   brand                    121502 non-null  int64  \n",
      " 2   color                    121502 non-null  int64  \n",
      " 3   fuelType                 121502 non-null  int64  \n",
      " 4   numberOfDoors            121502 non-null  int64  \n",
      " 5   productionDate           121502 non-null  int64  \n",
      " 6   vehicleTransmission      121502 non-null  int64  \n",
      " 7   enginePower              121502 non-null  float64\n",
      " 8   mileage                  121502 non-null  float64\n",
      " 9   drivetrain               121502 non-null  int64  \n",
      " 10  driveSide                121502 non-null  int64  \n",
      " 11  ownersCount              121502 non-null  int64  \n",
      " 12  tcp                      121502 non-null  int64  \n",
      " 13  rarity                   121502 non-null  int64  \n",
      " 14  price                    121502 non-null  float64\n",
      " 15  model                    121502 non-null  int64  \n",
      " 16  vendor                   121502 non-null  int64  \n",
      " 17  train                    121502 non-null  int64  \n",
      " 18  sell_id                  121502 non-null  int64  \n",
      " 19  transmission             121502 non-null  int64  \n",
      " 20  price_log                121502 non-null  float64\n",
      " 21  RUB_USD_rate             121502 non-null  float64\n",
      " 22  price_usd                121502 non-null  float64\n",
      " 23  km_per_year              121502 non-null  float64\n",
      " 24  carNovelty               121502 non-null  int64  \n",
      " 25  prodDate_3Y              121502 non-null  int64  \n",
      " 26  prodDate_5Y              121502 non-null  int64  \n",
      " 27  ownershipTimeIsNull      121502 non-null  int64  \n",
      " 28  descriptionIsNull        121502 non-null  int64  \n",
      " 29  newCar                   121502 non-null  int64  \n",
      " 30  brandPopular             121502 non-null  int64  \n",
      " 31  modelPopular             121502 non-null  int64  \n",
      " 32  colorPopular             121502 non-null  int64  \n",
      " 33  description_words_count  121502 non-null  float64\n",
      "dtypes: float64(8), int64(26)\n",
      "memory usage: 31.5 MB\n"
     ]
    }
   ],
   "source": [
    "data.info()"
   ]
  },
  {
   "cell_type": "markdown",
   "id": "957c0352",
   "metadata": {},
   "source": [
    "**Обновим списки переменных**"
   ]
  },
  {
   "cell_type": "code",
   "execution_count": null,
   "id": "fb43be84",
   "metadata": {},
   "outputs": [],
   "source": [
    "num_cols = ['productionDate', 'enginePower', 'mileage',\n",
    "            'km_per_year', 'carNovelty']\n",
    "bin_cols = ['driveSide', 'ownershipTimeIsNull', 'newCar',\n",
    "            'transmission', 'tcp', 'prodDate_3Y', 'prodDate_5Y', 'descriptionIsNull']\n",
    "cat_cols = ['bodyType', 'brand', 'color', 'fuelType', 'drivetrain', 'model',\n",
    "            'vendor', 'vehicleTransmission', 'numberOfDoors', 'ownersCount', 'rarity']\n",
    "service_cols = ['train', 'sell_id', 'parsing_date', 'RUB_USD_rate']\n",
    "target_col = ['price', 'price_usd', 'price_log']"
   ]
  },
  {
   "cell_type": "code",
   "execution_count": null,
   "id": "3a34348a",
   "metadata": {},
   "outputs": [],
   "source": [
    "print(f'Всего переменных: {len(data.columns)}')\n",
    "print(f'Из них:')\n",
    "print(f'Чиcловых переменных: {len(num_cols)},\\n {num_cols}')\n",
    "print(f'Бинарных переменных: {len(bin_cols)},\\n {bin_cols}')\n",
    "print(f'Категориальных переменных: {len(cat_cols)},\\n {cat_cols}')\n",
    "print(f'Сервисных переменных: {len(service_cols)},\\n {service_cols}')\n",
    "print(f'Таргет: {len(target_col)},\\n {target_col}')"
   ]
  },
  {
   "cell_type": "markdown",
   "id": "0775a43f",
   "metadata": {},
   "source": [
    "### Значимость переменных F-тест"
   ]
  },
  {
   "cell_type": "markdown",
   "id": "56aa6b2e",
   "metadata": {},
   "source": [
    "В качестве меры значимости мы будем использовать значение f-статистики. Чем значение статистики выше, тем меньше вероятность того, что средние значения не отличаются, и тем важнее данный признак для нашей линейной модели."
   ]
  },
  {
   "cell_type": "code",
   "execution_count": null,
   "id": "4ac526d0",
   "metadata": {},
   "outputs": [],
   "source": [
    "fig, ax = plt.subplots(figsize=(18, 7))\n",
    "df = data[data['train'] == 1]\n",
    "imp_num = pd.Series(f_regression(df[num_cols + bin_cols + cat_cols], df['price'])[0], index=num_cols + bin_cols + cat_cols)\n",
    "imp_num.sort_values(inplace=True)\n",
    "imp_num.plot(kind='barh');"
   ]
  },
  {
   "cell_type": "code",
   "execution_count": null,
   "id": "ca5a5454",
   "metadata": {},
   "outputs": [],
   "source": [
    "# f_regression(df[num_cols + bin_cols + cat_cols], df['price'])[0]"
   ]
  },
  {
   "cell_type": "markdown",
   "id": "a01e9c9b",
   "metadata": {},
   "source": [
    "**Вывод:** все признаки значимы, все оставляем"
   ]
  },
  {
   "cell_type": "markdown",
   "id": "4eb307a1",
   "metadata": {},
   "source": [
    "### Значимость не числовых переменных Взаимная информация"
   ]
  },
  {
   "cell_type": "markdown",
   "id": "6e160244",
   "metadata": {},
   "source": [
    "Для оценки значимости категориальных и бинарных переменных будем использовать функцию `mutual_info_regression` из библиотеки `sklearn`. "
   ]
  },
  {
   "cell_type": "code",
   "execution_count": null,
   "id": "990db3a4",
   "metadata": {},
   "outputs": [],
   "source": [
    "# для не числовых переменных\n",
    "fig, ax = plt.subplots(figsize=(18, 7))\n",
    "df = data[data['train'] == 1]\n",
    "imp_cat = pd.Series(mutual_info_regression(df[bin_cols + cat_cols], df['price'],\n",
    "                                        discrete_features=True), index=bin_cols + cat_cols)\n",
    "imp_cat.sort_values(inplace=True)\n",
    "imp_cat.plot(kind='barh');"
   ]
  },
  {
   "cell_type": "code",
   "execution_count": null,
   "id": "32f5e9b6",
   "metadata": {},
   "outputs": [],
   "source": [
    "# f_mutual_info_regression(df[bin_cols + cat_cols], df['price'])[0]"
   ]
  },
  {
   "cell_type": "markdown",
   "id": "e824fc7b",
   "metadata": {},
   "source": [
    "**Вывод:** Признак `rarity` оказался незначимым, пока ничего не удаляем"
   ]
  },
  {
   "cell_type": "markdown",
   "id": "55515457",
   "metadata": {},
   "source": [
    "### Отбор признаков с помощью FeatureSelector"
   ]
  },
  {
   "cell_type": "code",
   "execution_count": null,
   "id": "2aa74136",
   "metadata": {
    "scrolled": true
   },
   "outputs": [],
   "source": [
    "# УСТАНОВКА FeatureSelector\n",
    "!git clone https://github.com/WillKoehrsen/feature-selector.git\n",
    "%cd feature-selector\n",
    "!pip install -e .\n",
    "\n",
    "# установка в colabe - !pip install feature_selector"
   ]
  },
  {
   "cell_type": "code",
   "execution_count": null,
   "id": "99afb6cf",
   "metadata": {},
   "outputs": [],
   "source": [
    "from feature_selector import FeatureSelector"
   ]
  },
  {
   "cell_type": "code",
   "execution_count": null,
   "id": "384f0f28",
   "metadata": {},
   "outputs": [],
   "source": [
    "train = data.query('train == 1')[num_cols + bin_cols + cat_cols]\n",
    "train_labels = data[data.train == 1]['price']\n",
    "train.shape, train_labels.shape"
   ]
  },
  {
   "cell_type": "code",
   "execution_count": null,
   "id": "a4d6bc88",
   "metadata": {},
   "outputs": [],
   "source": [
    "# Признаки - в train, метки - в train_labels\n",
    "fs = FeatureSelector(data = train, labels = train_labels)"
   ]
  },
  {
   "cell_type": "markdown",
   "id": "dffa845e",
   "metadata": {},
   "source": [
    "### пропущенные значения"
   ]
  },
  {
   "cell_type": "code",
   "execution_count": null,
   "id": "6e0394da",
   "metadata": {},
   "outputs": [],
   "source": [
    "# пропущенные значения\n",
    "fs.identify_missing(missing_threshold=0.1)"
   ]
  },
  {
   "cell_type": "markdown",
   "id": "74a444fc",
   "metadata": {},
   "source": [
    "### признаки с единственным значением"
   ]
  },
  {
   "cell_type": "code",
   "execution_count": null,
   "id": "32f70cc2",
   "metadata": {},
   "outputs": [],
   "source": [
    "# признаки с единственным значением\n",
    "fs.identify_single_unique()"
   ]
  },
  {
   "cell_type": "markdown",
   "id": "efb4011d",
   "metadata": {},
   "source": [
    "### коллинеарные признаки"
   ]
  },
  {
   "cell_type": "code",
   "execution_count": null,
   "id": "602fb83b",
   "metadata": {},
   "outputs": [],
   "source": [
    "# коллинеарные признаки\n",
    "fs.identify_collinear(correlation_threshold=0.8)\n",
    "correlated_features = fs.ops['collinear']\n",
    "print(correlated_features)\n",
    "fs.plot_collinear(plot_all=True)"
   ]
  },
  {
   "cell_type": "code",
   "execution_count": null,
   "id": "e898cbc6",
   "metadata": {},
   "outputs": [],
   "source": [
    "fs.record_collinear.head()"
   ]
  },
  {
   "cell_type": "markdown",
   "id": "c9b8f3e3",
   "metadata": {},
   "source": [
    "Получим доступ к списку функций с высокой взаимной корреляцией"
   ]
  },
  {
   "cell_type": "code",
   "execution_count": null,
   "id": "fe56ea9f",
   "metadata": {},
   "outputs": [],
   "source": [
    "collinear_features = fs.ops['collinear']\n",
    "collinear_features[:]"
   ]
  },
  {
   "cell_type": "markdown",
   "id": "60f3fba0",
   "metadata": {},
   "source": [
    "### признаки с нулевой важностью"
   ]
  },
  {
   "cell_type": "code",
   "execution_count": null,
   "id": "9393c732",
   "metadata": {},
   "outputs": [],
   "source": [
    "# признаки с нулевой важностью\n",
    "fs.identify_zero_importance(task = 'regression', eval_metric = 'l1', \n",
    "                            early_stopping = False)"
   ]
  },
  {
   "cell_type": "code",
   "execution_count": null,
   "id": "9ac6152f",
   "metadata": {},
   "outputs": [],
   "source": [
    "one_hot_features = fs.one_hot_features\n",
    "base_features = fs.base_features\n",
    "print('There are %d original features' % len(base_features))\n",
    "print('There are %d one-hot features' % len(one_hot_features))"
   ]
  },
  {
   "cell_type": "code",
   "execution_count": null,
   "id": "d79921f7",
   "metadata": {},
   "outputs": [],
   "source": [
    "fs.data_all.head()"
   ]
  },
  {
   "cell_type": "code",
   "execution_count": null,
   "id": "97a6956b",
   "metadata": {},
   "outputs": [],
   "source": [
    "fs.feature_importances.head(24)"
   ]
  },
  {
   "cell_type": "code",
   "execution_count": null,
   "id": "3c70085d",
   "metadata": {},
   "outputs": [],
   "source": [
    "fs.plot_feature_importances(threshold = 0.99, plot_n = 18)"
   ]
  },
  {
   "cell_type": "markdown",
   "id": "4edb5608",
   "metadata": {},
   "source": [
    "Мы могли бы использовать эти результаты, чтобы выбрать только «n» наиболее важных функций. Например, если мы хотим составить 100 самых важных, мы можем сделать следующее."
   ]
  },
  {
   "cell_type": "code",
   "execution_count": null,
   "id": "a47a6ad8",
   "metadata": {},
   "outputs": [],
   "source": [
    "one_hundred_features = list(fs.feature_importances.loc[:99, 'feature'])\n",
    "len(one_hundred_features)"
   ]
  },
  {
   "cell_type": "markdown",
   "id": "30773af8",
   "metadata": {},
   "source": [
    "Получим доступ к списку функций с нулевой важностью"
   ]
  },
  {
   "cell_type": "code",
   "execution_count": null,
   "id": "69dbdbc3",
   "metadata": {},
   "outputs": [],
   "source": [
    "zero_importance_features = fs.ops['zero_importance']\n",
    "zero_importance_features[:]"
   ]
  },
  {
   "cell_type": "markdown",
   "id": "40d5b3f1",
   "metadata": {},
   "source": [
    "### признаки с низкой важностью"
   ]
  },
  {
   "cell_type": "code",
   "execution_count": null,
   "id": "75bffebe",
   "metadata": {},
   "outputs": [],
   "source": [
    "# признаки с низкой важностью\n",
    "fs.identify_low_importance(cumulative_importance = 0.99)"
   ]
  },
  {
   "cell_type": "markdown",
   "id": "789514dc",
   "metadata": {},
   "source": [
    "Необходимо удалить те функции с низкой важностью, которые не влияют на указанную кумулятивную важность. Они также доступны в словаре ops."
   ]
  },
  {
   "cell_type": "code",
   "execution_count": null,
   "id": "f09c7bb5",
   "metadata": {},
   "outputs": [],
   "source": [
    "low_importance_features = fs.ops['low_importance']\n",
    "low_importance_features[:]"
   ]
  },
  {
   "cell_type": "markdown",
   "id": "dcb3ca13",
   "metadata": {},
   "source": [
    "### удаление признаков"
   ]
  },
  {
   "cell_type": "code",
   "execution_count": null,
   "id": "42f6a901",
   "metadata": {},
   "outputs": [],
   "source": [
    "train_no_low_importance = fs.remove(methods = ['low_importance'])"
   ]
  },
  {
   "cell_type": "code",
   "execution_count": null,
   "id": "b8979260",
   "metadata": {},
   "outputs": [],
   "source": [
    "data.drop(low_importance_features[:], axis=1, inplace=True)"
   ]
  },
  {
   "cell_type": "markdown",
   "id": "c93d1ed9",
   "metadata": {},
   "source": [
    "Посмотрим еще раз на зависимость признаков между собой"
   ]
  },
  {
   "cell_type": "code",
   "execution_count": null,
   "id": "594a38a0",
   "metadata": {},
   "outputs": [],
   "source": [
    "fig, ax = plt.subplots(figsize=(18, 7))\n",
    "sns.heatmap(data[data['train'] == 1].drop(service_cols, 1).corr().abs(\n",
    "), vmin=0, vmax=1, annot=True, fmt='.2f', cmap='Greens');"
   ]
  },
  {
   "cell_type": "markdown",
   "id": "2ff39951",
   "metadata": {},
   "source": [
    "**Выводы:**"
   ]
  },
  {
   "cell_type": "markdown",
   "id": "7c691a43",
   "metadata": {},
   "source": [
    "Удалим `parsing_date`"
   ]
  },
  {
   "cell_type": "code",
   "execution_count": 7,
   "id": "3c4fe669",
   "metadata": {},
   "outputs": [
    {
     "ename": "KeyError",
     "evalue": "\"['parsing_date'] not found in axis\"",
     "output_type": "error",
     "traceback": [
      "\u001b[0;31m---------------------------------------------------------------------------\u001b[0m",
      "\u001b[0;31mKeyError\u001b[0m                                  Traceback (most recent call last)",
      "\u001b[0;32m<ipython-input-7-157f4989b565>\u001b[0m in \u001b[0;36m<module>\u001b[0;34m\u001b[0m\n\u001b[0;32m----> 1\u001b[0;31m \u001b[0mdata\u001b[0m\u001b[0;34m.\u001b[0m\u001b[0mdrop\u001b[0m\u001b[0;34m(\u001b[0m\u001b[0;34m'parsing_date'\u001b[0m\u001b[0;34m,\u001b[0m \u001b[0maxis\u001b[0m\u001b[0;34m=\u001b[0m\u001b[0;36m1\u001b[0m\u001b[0;34m,\u001b[0m \u001b[0minplace\u001b[0m\u001b[0;34m=\u001b[0m\u001b[0;32mTrue\u001b[0m\u001b[0;34m)\u001b[0m\u001b[0;34m\u001b[0m\u001b[0;34m\u001b[0m\u001b[0m\n\u001b[0m",
      "\u001b[0;32m~/opt/anaconda3/lib/python3.8/site-packages/pandas/core/frame.py\u001b[0m in \u001b[0;36mdrop\u001b[0;34m(self, labels, axis, index, columns, level, inplace, errors)\u001b[0m\n\u001b[1;32m   3988\u001b[0m                 \u001b[0mweight\u001b[0m  \u001b[0;36m1.0\u001b[0m     \u001b[0;36m0.8\u001b[0m\u001b[0;34m\u001b[0m\u001b[0;34m\u001b[0m\u001b[0m\n\u001b[1;32m   3989\u001b[0m         \"\"\"\n\u001b[0;32m-> 3990\u001b[0;31m         return super().drop(\n\u001b[0m\u001b[1;32m   3991\u001b[0m             \u001b[0mlabels\u001b[0m\u001b[0;34m=\u001b[0m\u001b[0mlabels\u001b[0m\u001b[0;34m,\u001b[0m\u001b[0;34m\u001b[0m\u001b[0;34m\u001b[0m\u001b[0m\n\u001b[1;32m   3992\u001b[0m             \u001b[0maxis\u001b[0m\u001b[0;34m=\u001b[0m\u001b[0maxis\u001b[0m\u001b[0;34m,\u001b[0m\u001b[0;34m\u001b[0m\u001b[0;34m\u001b[0m\u001b[0m\n",
      "\u001b[0;32m~/opt/anaconda3/lib/python3.8/site-packages/pandas/core/generic.py\u001b[0m in \u001b[0;36mdrop\u001b[0;34m(self, labels, axis, index, columns, level, inplace, errors)\u001b[0m\n\u001b[1;32m   3934\u001b[0m         \u001b[0;32mfor\u001b[0m \u001b[0maxis\u001b[0m\u001b[0;34m,\u001b[0m \u001b[0mlabels\u001b[0m \u001b[0;32min\u001b[0m \u001b[0maxes\u001b[0m\u001b[0;34m.\u001b[0m\u001b[0mitems\u001b[0m\u001b[0;34m(\u001b[0m\u001b[0;34m)\u001b[0m\u001b[0;34m:\u001b[0m\u001b[0;34m\u001b[0m\u001b[0;34m\u001b[0m\u001b[0m\n\u001b[1;32m   3935\u001b[0m             \u001b[0;32mif\u001b[0m \u001b[0mlabels\u001b[0m \u001b[0;32mis\u001b[0m \u001b[0;32mnot\u001b[0m \u001b[0;32mNone\u001b[0m\u001b[0;34m:\u001b[0m\u001b[0;34m\u001b[0m\u001b[0;34m\u001b[0m\u001b[0m\n\u001b[0;32m-> 3936\u001b[0;31m                 \u001b[0mobj\u001b[0m \u001b[0;34m=\u001b[0m \u001b[0mobj\u001b[0m\u001b[0;34m.\u001b[0m\u001b[0m_drop_axis\u001b[0m\u001b[0;34m(\u001b[0m\u001b[0mlabels\u001b[0m\u001b[0;34m,\u001b[0m \u001b[0maxis\u001b[0m\u001b[0;34m,\u001b[0m \u001b[0mlevel\u001b[0m\u001b[0;34m=\u001b[0m\u001b[0mlevel\u001b[0m\u001b[0;34m,\u001b[0m \u001b[0merrors\u001b[0m\u001b[0;34m=\u001b[0m\u001b[0merrors\u001b[0m\u001b[0;34m)\u001b[0m\u001b[0;34m\u001b[0m\u001b[0;34m\u001b[0m\u001b[0m\n\u001b[0m\u001b[1;32m   3937\u001b[0m \u001b[0;34m\u001b[0m\u001b[0m\n\u001b[1;32m   3938\u001b[0m         \u001b[0;32mif\u001b[0m \u001b[0minplace\u001b[0m\u001b[0;34m:\u001b[0m\u001b[0;34m\u001b[0m\u001b[0;34m\u001b[0m\u001b[0m\n",
      "\u001b[0;32m~/opt/anaconda3/lib/python3.8/site-packages/pandas/core/generic.py\u001b[0m in \u001b[0;36m_drop_axis\u001b[0;34m(self, labels, axis, level, errors)\u001b[0m\n\u001b[1;32m   3968\u001b[0m                 \u001b[0mnew_axis\u001b[0m \u001b[0;34m=\u001b[0m \u001b[0maxis\u001b[0m\u001b[0;34m.\u001b[0m\u001b[0mdrop\u001b[0m\u001b[0;34m(\u001b[0m\u001b[0mlabels\u001b[0m\u001b[0;34m,\u001b[0m \u001b[0mlevel\u001b[0m\u001b[0;34m=\u001b[0m\u001b[0mlevel\u001b[0m\u001b[0;34m,\u001b[0m \u001b[0merrors\u001b[0m\u001b[0;34m=\u001b[0m\u001b[0merrors\u001b[0m\u001b[0;34m)\u001b[0m\u001b[0;34m\u001b[0m\u001b[0;34m\u001b[0m\u001b[0m\n\u001b[1;32m   3969\u001b[0m             \u001b[0;32melse\u001b[0m\u001b[0;34m:\u001b[0m\u001b[0;34m\u001b[0m\u001b[0;34m\u001b[0m\u001b[0m\n\u001b[0;32m-> 3970\u001b[0;31m                 \u001b[0mnew_axis\u001b[0m \u001b[0;34m=\u001b[0m \u001b[0maxis\u001b[0m\u001b[0;34m.\u001b[0m\u001b[0mdrop\u001b[0m\u001b[0;34m(\u001b[0m\u001b[0mlabels\u001b[0m\u001b[0;34m,\u001b[0m \u001b[0merrors\u001b[0m\u001b[0;34m=\u001b[0m\u001b[0merrors\u001b[0m\u001b[0;34m)\u001b[0m\u001b[0;34m\u001b[0m\u001b[0;34m\u001b[0m\u001b[0m\n\u001b[0m\u001b[1;32m   3971\u001b[0m             \u001b[0mresult\u001b[0m \u001b[0;34m=\u001b[0m \u001b[0mself\u001b[0m\u001b[0;34m.\u001b[0m\u001b[0mreindex\u001b[0m\u001b[0;34m(\u001b[0m\u001b[0;34m**\u001b[0m\u001b[0;34m{\u001b[0m\u001b[0maxis_name\u001b[0m\u001b[0;34m:\u001b[0m \u001b[0mnew_axis\u001b[0m\u001b[0;34m}\u001b[0m\u001b[0;34m)\u001b[0m\u001b[0;34m\u001b[0m\u001b[0;34m\u001b[0m\u001b[0m\n\u001b[1;32m   3972\u001b[0m \u001b[0;34m\u001b[0m\u001b[0m\n",
      "\u001b[0;32m~/opt/anaconda3/lib/python3.8/site-packages/pandas/core/indexes/base.py\u001b[0m in \u001b[0;36mdrop\u001b[0;34m(self, labels, errors)\u001b[0m\n\u001b[1;32m   5016\u001b[0m         \u001b[0;32mif\u001b[0m \u001b[0mmask\u001b[0m\u001b[0;34m.\u001b[0m\u001b[0many\u001b[0m\u001b[0;34m(\u001b[0m\u001b[0;34m)\u001b[0m\u001b[0;34m:\u001b[0m\u001b[0;34m\u001b[0m\u001b[0;34m\u001b[0m\u001b[0m\n\u001b[1;32m   5017\u001b[0m             \u001b[0;32mif\u001b[0m \u001b[0merrors\u001b[0m \u001b[0;34m!=\u001b[0m \u001b[0;34m\"ignore\"\u001b[0m\u001b[0;34m:\u001b[0m\u001b[0;34m\u001b[0m\u001b[0;34m\u001b[0m\u001b[0m\n\u001b[0;32m-> 5018\u001b[0;31m                 \u001b[0;32mraise\u001b[0m \u001b[0mKeyError\u001b[0m\u001b[0;34m(\u001b[0m\u001b[0;34mf\"{labels[mask]} not found in axis\"\u001b[0m\u001b[0;34m)\u001b[0m\u001b[0;34m\u001b[0m\u001b[0;34m\u001b[0m\u001b[0m\n\u001b[0m\u001b[1;32m   5019\u001b[0m             \u001b[0mindexer\u001b[0m \u001b[0;34m=\u001b[0m \u001b[0mindexer\u001b[0m\u001b[0;34m[\u001b[0m\u001b[0;34m~\u001b[0m\u001b[0mmask\u001b[0m\u001b[0;34m]\u001b[0m\u001b[0;34m\u001b[0m\u001b[0;34m\u001b[0m\u001b[0m\n\u001b[1;32m   5020\u001b[0m         \u001b[0;32mreturn\u001b[0m \u001b[0mself\u001b[0m\u001b[0;34m.\u001b[0m\u001b[0mdelete\u001b[0m\u001b[0;34m(\u001b[0m\u001b[0mindexer\u001b[0m\u001b[0;34m)\u001b[0m\u001b[0;34m\u001b[0m\u001b[0;34m\u001b[0m\u001b[0m\n",
      "\u001b[0;31mKeyError\u001b[0m: \"['parsing_date'] not found in axis\""
     ]
    }
   ],
   "source": [
    "#data.drop('parsing_date', axis=1, inplace=True)"
   ]
  },
  {
   "cell_type": "markdown",
   "id": "545bd79d",
   "metadata": {},
   "source": [
    "####   Выделим тестовую и тренировочную части"
   ]
  },
  {
   "cell_type": "code",
   "execution_count": 8,
   "id": "6a9b5a29",
   "metadata": {},
   "outputs": [
    {
     "data": {
      "text/plain": [
       "((86816, 29), (34686, 29), (86816,))"
      ]
     },
     "execution_count": 8,
     "metadata": {},
     "output_type": "execute_result"
    }
   ],
   "source": [
    "# price\n",
    "X = data.query('train == 1').drop(\n",
    "    ['train', 'price', 'price_log', 'price_usd', 'RUB_USD_rate'], axis=1)\n",
    "X_sub = data.query('train == 0').drop(\n",
    "    ['train', 'price', 'price_log', 'price_usd', 'RUB_USD_rate'], axis=1)\n",
    "\n",
    "y = data[data.train == 1]['price']\n",
    "# y_usd = data[data.train == 1]['price_usd']\n",
    "\n",
    "# X.shape, X_sub.shape, y.shape, y_usd.shape\n",
    "X.shape, X_sub.shape, y.shape"
   ]
  },
  {
   "cell_type": "markdown",
   "id": "67cb8604",
   "metadata": {},
   "source": [
    "#### Train Split"
   ]
  },
  {
   "cell_type": "code",
   "execution_count": 9,
   "id": "a78d215f",
   "metadata": {},
   "outputs": [
    {
     "data": {
      "text/plain": [
       "((69452, 29), (17364, 29), (69452,), (17364,))"
      ]
     },
     "execution_count": 9,
     "metadata": {},
     "output_type": "execute_result"
    }
   ],
   "source": [
    "X_train, X_test, y_train, y_test = train_test_split(\n",
    "    X, y, test_size=VAL_SIZE, shuffle=True, random_state=RANDOM_SEED)\n",
    "X_train.shape, X_test.shape, y_train.shape, y_test.shape"
   ]
  },
  {
   "cell_type": "markdown",
   "id": "2ecfdcaf",
   "metadata": {},
   "source": [
    "# 5. Model 1. Создадим \"наивную\" модель "
   ]
  },
  {
   "cell_type": "code",
   "execution_count": 10,
   "id": "eacbc39a",
   "metadata": {},
   "outputs": [
    {
     "name": "stdout",
     "output_type": "stream",
     "text": [
      "Точность наивной модели по метрике MAPE: 72.97%\n"
     ]
    }
   ],
   "source": [
    "tmp_train = X_train.copy()\n",
    "tmp_train['price'] = y_train\n",
    "\n",
    "# Находим median по экземплярам mileage в трейне и размечаем тест\n",
    "predict = X_test['mileage'].map(\n",
    "    tmp_train.groupby('mileage')['price'].median())\n",
    "\n",
    "# оцениваем точность\n",
    "print(\n",
    "    f\"Точность наивной модели по метрике MAPE: {(mape(y_test, predict.values))*100:0.2f}%\")\n",
    "# Точность наивной модели по метрике MAPE: 72.97%"
   ]
  },
  {
   "cell_type": "markdown",
   "id": "6961c616",
   "metadata": {},
   "source": [
    "# 6. Model 2 : CatBoost"
   ]
  },
  {
   "cell_type": "code",
   "execution_count": 90,
   "id": "1c986720",
   "metadata": {},
   "outputs": [
    {
     "name": "stdout",
     "output_type": "stream",
     "text": [
      "Точность модели по метрике MAPE: 15.42%\n"
     ]
    }
   ],
   "source": [
    "# для target 'price'\n",
    "model = CatBoostRegressor(iterations=5000,\n",
    "                          random_seed=RANDOM_SEED,\n",
    "                          eval_metric='MAPE',\n",
    "                          custom_metric=['R2', 'MAE'],\n",
    "                          silent=True\n",
    "                          )\n",
    "model.fit(X_train, y_train,\n",
    "          # cat_features=cat_features_ids,\n",
    "          eval_set=(X_test, y_test),\n",
    "          verbose_eval=0,\n",
    "          use_best_model=True,\n",
    "          # plot=True\n",
    "          )\n",
    "\n",
    "model.save_model('catboost_single_model_baseline.model')\n",
    "\n",
    "# оцениваем точность\n",
    "predict = model.predict(X_test)\n",
    "print(f\"Точность модели по метрике MAPE: {(mape(y_test, predict))*100:0.2f}%\")\n",
    "# Точность модели по метрике MAPE: 15.42%"
   ]
  },
  {
   "cell_type": "markdown",
   "id": "f68a48f7",
   "metadata": {},
   "source": [
    "### Log Traget"
   ]
  },
  {
   "cell_type": "code",
   "execution_count": 95,
   "id": "9e34cdb1",
   "metadata": {},
   "outputs": [],
   "source": [
    "cat_features_ids = [0, 1, 2, 3, 4, 6, 9, 10, 11, 12, 13, 14, 15, 17, 19, 20, 21, 22, 23, 24, 25, 26, 27]"
   ]
  },
  {
   "cell_type": "code",
   "execution_count": 96,
   "id": "494f05ab",
   "metadata": {},
   "outputs": [
    {
     "name": "stdout",
     "output_type": "stream",
     "text": [
      "Точность модели по метрике MAPE: 12.56%\n"
     ]
    }
   ],
   "source": [
    "# для target 'price'\n",
    "model = CatBoostRegressor(iterations=5000,\n",
    "                          random_seed=RANDOM_SEED,\n",
    "                          eval_metric='MAPE',\n",
    "                          custom_metric=['R2', 'MAE'],\n",
    "                          silent=True,\n",
    "                          )\n",
    "model.fit(X_train, np.log(y_train),\n",
    "          cat_features=cat_features_ids,\n",
    "          eval_set=(X_test, np.log(y_test)),\n",
    "          verbose_eval=0,\n",
    "          use_best_model=True,\n",
    "          # plot=True\n",
    "          )\n",
    "\n",
    "model.save_model('catboost_single_model_2_baseline.model')\n",
    "\n",
    "predict_test = np.exp(model.predict(X_test))\n",
    "predict_submission = np.exp(model.predict(X_sub))\n",
    "\n",
    "print(\n",
    "    f\"Точность модели по метрике MAPE: {(mape(y_test, predict_test))*100:0.2f}%\")\n",
    "# Точность модели по метрике MAPE: 12.62\n",
    "\n",
    "# с удалением признаков на каггле не отправляла\n",
    "# Точность модели по метрике MAPE: 12.66%"
   ]
  },
  {
   "cell_type": "markdown",
   "id": "7dc51c66",
   "metadata": {},
   "source": [
    "# 7. Model 3. Lazypredict"
   ]
  },
  {
   "cell_type": "code",
   "execution_count": null,
   "id": "10d793e3",
   "metadata": {
    "scrolled": true
   },
   "outputs": [],
   "source": [
    "# !pip install lazypredict"
   ]
  },
  {
   "cell_type": "code",
   "execution_count": null,
   "id": "c8f4fe23",
   "metadata": {},
   "outputs": [],
   "source": [
    "# import lazypredict\n",
    "# from lazypredict.Supervised import LazyRegressor\n",
    "# from sklearn.utils import shuffle"
   ]
  },
  {
   "cell_type": "code",
   "execution_count": null,
   "id": "f2cdaa1d",
   "metadata": {},
   "outputs": [],
   "source": [
    "# mae = mean_absolute_error\n",
    "# regr=LazyRegressor(verbose=0,predictions=True, custom_metric=mae)\n",
    "# # fit and train the model \n",
    "# start_time_2=time.time()\n",
    "# models, predictions=regr.fit(X_train, X_test, np.log(y_train), np.log(y_test))\n",
    "# end_time_2=time.time()"
   ]
  },
  {
   "cell_type": "code",
   "execution_count": null,
   "id": "d96a1553",
   "metadata": {},
   "outputs": [],
   "source": [
    "# models"
   ]
  },
  {
   "cell_type": "markdown",
   "id": "38594711",
   "metadata": {},
   "source": [
    "**Вывод:** Используя **LazyRegressor** получили лучших 5 моделей для нашего набора данных:\n",
    "- RandomForestRegressor\n",
    "- XGBRegressor\t\n",
    "- ExtraTreesRegressor\n",
    "- BaggingRegressor\t\n",
    "- HistGradientBoostingRegressor\n",
    "\n",
    "В отдельности попробуем каждую из моделей, чтобы найти лучшую"
   ]
  },
  {
   "cell_type": "markdown",
   "id": "4642ecde",
   "metadata": {},
   "source": [
    "## # Модель 1: RandomForestRegressor"
   ]
  },
  {
   "cell_type": "code",
   "execution_count": null,
   "id": "dab1df18",
   "metadata": {},
   "outputs": [],
   "source": [
    "# # без логарифмирования целевой переменной\n",
    "# rf = RandomForestRegressor(random_state = RANDOM_SEED)\n",
    "# rf.fit(X_train, y_train)\n",
    "# rf_pred = rf.predict(X_test)\n",
    "\n",
    "# print(\n",
    "#     f\"Точность модели по метрике MAPE без логтаргета: {(mape(y_test, rf_pred))*100:0.2f}%\")\n",
    "\n",
    "# # с логарифмированием целевой переменной\n",
    "# rf_log = RandomForestRegressor(random_state = RANDOM_SEED)\n",
    "# rf_log.fit(X_train, np.log(y_train + 1))\n",
    "# rf_log_pred = np.exp(rf_log.predict(X_test))\n",
    "\n",
    "# print(\n",
    "#     f\"Точность модели по метрике MAPE с логтаргетом: {(mape(y_test, rf_log_pred))*100:0.2f}%\")\n",
    "# # Точность модели по метрике MAPE без логтаргета: 15.08%\n",
    "# # Точность модели по метрике MAPE с логтаргетом: 13.28%"
   ]
  },
  {
   "cell_type": "code",
   "execution_count": null,
   "id": "2e5b688a",
   "metadata": {
    "scrolled": true
   },
   "outputs": [],
   "source": [
    "# random_grid = {'n_estimators': [int(x) for x in np.linspace(start = 100, stop = 400, num = 4)],\n",
    "#                'max_features': ['auto', 'sqrt', 'log2'],\n",
    "#                'max_depth': [int(x) for x in np.linspace(5, 15, num = 6)] + [None],\n",
    "#                'min_samples_split': [2, 5, 10],\n",
    "#                'min_samples_leaf': [1, 2, 4],\n",
    "#                'bootstrap': [True, False]}\n",
    "\n",
    "# rfr = RandomForestRegressor(random_state = RANDOM_SEED)\n",
    "# rf_random = RandomizedSearchCV(estimator = rfr, param_distributions = random_grid, n_iter = 100, cv = 3, verbose=10, random_state=RANDOM_SEED, n_jobs = -1)\n",
    "# # rf_random.fit(X_train, y_train)\n",
    "# rf_random.fit(X_train, np.log(y_train))\n",
    "# rf_random.best_params_\n",
    "# # best_params_\n",
    "# # {'bootstrap': True,\n",
    "# #  'max_depth': None,\n",
    "# #  'max_features': 'auto',\n",
    "# #  'min_samples_leaf': 1,\n",
    "# #  'min_samples_split': 2,\n",
    "# #  'n_estimators': 300}\n",
    "# # rf_random.best_estimator_ = RandomForestRegressor(n_estimators=300, random_state=42)"
   ]
  },
  {
   "cell_type": "code",
   "execution_count": 43,
   "id": "f2e83889",
   "metadata": {},
   "outputs": [
    {
     "ename": "NameError",
     "evalue": "name 'rf_random' is not defined",
     "output_type": "error",
     "traceback": [
      "\u001b[0;31m---------------------------------------------------------------------------\u001b[0m",
      "\u001b[0;31mNameError\u001b[0m                                 Traceback (most recent call last)",
      "\u001b[0;32m<ipython-input-43-419f0412d7d1>\u001b[0m in \u001b[0;36m<module>\u001b[0;34m\u001b[0m\n\u001b[0;32m----> 1\u001b[0;31m \u001b[0mbest_rfr\u001b[0m \u001b[0;34m=\u001b[0m \u001b[0mrf_random\u001b[0m\u001b[0;34m.\u001b[0m\u001b[0mbest_estimator_\u001b[0m\u001b[0;34m\u001b[0m\u001b[0;34m\u001b[0m\u001b[0m\n\u001b[0m",
      "\u001b[0;31mNameError\u001b[0m: name 'rf_random' is not defined"
     ]
    }
   ],
   "source": [
    "best_rfr = rf_random.best_estimator_"
   ]
  },
  {
   "cell_type": "code",
   "execution_count": 44,
   "id": "dd6612ac",
   "metadata": {},
   "outputs": [
    {
     "name": "stdout",
     "output_type": "stream",
     "text": [
      "Точность модели по метрике MAPE с логтаргетом: 12.84%\n"
     ]
    }
   ],
   "source": [
    "#best_rfr = rf_random.best_estimator_\n",
    "best_rfr = RandomForestRegressor(random_state=RANDOM_SEED\n",
    "                      , n_estimators=300\n",
    "                      , min_samples_split=2\n",
    "                      , min_samples_leaf=1\n",
    "                      , max_features='auto'\n",
    "                      , max_depth=None\n",
    "                      , bootstrap=True)\n",
    "\n",
    "# best_rfr.fit(X_train, y_train)\n",
    "best_rfr.fit(X_train, np.log(y_train))\n",
    "\n",
    "# predict_rfr = best_rfr.predict(X_test)\n",
    "predict_rfr = np.exp(best_rfr.predict(X_test))\n",
    "print(\n",
    "    f\"Точность модели по метрике MAPE с логтаргетом: {(mape(y_test, predict_rfr))*100:0.2f}%\")\n",
    "# Точность модели по метрике MAPE с логтаргетом: 13.25%\n",
    "# на kaggle скор 11.9975 (21 место)\n",
    "\n",
    "# с удалением признаков на каггл не отправляла\n",
    "# Точность модели по метрике MAPE с логтаргетом: 13.24%"
   ]
  },
  {
   "cell_type": "code",
   "execution_count": 45,
   "id": "346eff8e",
   "metadata": {},
   "outputs": [
    {
     "data": {
      "image/png": "[encoded data removed]",
      "text/plain": [
       "<Figure size 720x288 with 1 Axes>"
      ]
     },
     "metadata": {
      "needs_background": "light"
     },
     "output_type": "display_data"
    }
   ],
   "source": [
    "# в RandomForestRegressor есть возможность вывести самые важные признаки для модели\n",
    "plt.rcParams['figure.figsize'] = (10,4)\n",
    "feat_importances = pd.Series(best_rfr.feature_importances_, index=X.columns)\n",
    "feat_importances.nlargest(15).plot(kind='barh');"
   ]
  },
  {
   "cell_type": "markdown",
   "id": "53635e29",
   "metadata": {},
   "source": [
    "**Выводы:**"
   ]
  },
  {
   "cell_type": "markdown",
   "id": "2a80c28d",
   "metadata": {},
   "source": [
    "## # Модель 2: XGBRegressor"
   ]
  },
  {
   "cell_type": "code",
   "execution_count": 23,
   "id": "2d08d183",
   "metadata": {},
   "outputs": [
    {
     "name": "stdout",
     "output_type": "stream",
     "text": [
      "Requirement already satisfied: xgboost in /Users/yuliyagil/opt/anaconda3/lib/python3.8/site-packages (1.1.1)\r\n",
      "Requirement already satisfied: numpy in /Users/yuliyagil/opt/anaconda3/lib/python3.8/site-packages (from xgboost) (1.19.1)\r\n",
      "Requirement already satisfied: scipy in /Users/yuliyagil/opt/anaconda3/lib/python3.8/site-packages (from xgboost) (1.5.4)\r\n"
     ]
    }
   ],
   "source": [
    "!pip install xgboost"
   ]
  },
  {
   "cell_type": "code",
   "execution_count": 24,
   "id": "60f83e4b",
   "metadata": {},
   "outputs": [],
   "source": [
    "import xgboost as xgb"
   ]
  },
  {
   "cell_type": "code",
   "execution_count": 66,
   "id": "94014e79",
   "metadata": {},
   "outputs": [
    {
     "name": "stdout",
     "output_type": "stream",
     "text": [
      "Точность модели по метрике MAPE с логтаргетом: 12.96%\n"
     ]
    }
   ],
   "source": [
    "# можно попробывать менять learning_rate (0.05, 0.03), max_depth (8,12,24,36)\n",
    "# без логарифмирования целевой переменной\n",
    "#xgb_reg = xgb.XGBRegressor(objective='reg:squarederror', colsample_bytree=0.5,\n",
    "#                          learning_rate=0.05, max_depth=12, alpha=1,\n",
    "#                          n_estimators=1000)\n",
    "#xgb_reg.fit(X_train, y_train)\n",
    "#print(\n",
    "#    f\"Точность модели по метрике MAPE без логтаргета: {(mape(y_test, xgb_reg.predict(X_test)))*100:0.2f}%\")\n",
    "\n",
    "# с логарифмированием целевой переменной\n",
    "xgb_reg_log = xgb.XGBRegressor(objective='reg:squarederror', colsample_bytree=0.5,\n",
    "                          alpha=1, n_estimators=1000)\n",
    "xgb_reg_log.fit(X_train, np.log(y_train))\n",
    "\n",
    "print(f\"Точность модели по метрике MAPE с логтаргетом: {(mape(y_test, np.exp(xgb_reg_log.predict(X_test))))*100:0.2f}%\")\n",
    "\n",
    "predict_submission = np.exp(xgb_reg_log.predict(X_sub))\n",
    "\n",
    "# Точность модели по метрике MAPE без логтаргета: 14.22%\n",
    "# Точность модели по метрике MAPE с логтаргетом: 12.22%"
   ]
  },
  {
   "cell_type": "code",
   "execution_count": 29,
   "id": "0c908f68",
   "metadata": {},
   "outputs": [
    {
     "name": "stdout",
     "output_type": "stream",
     "text": [
      "Точность модели по метрике MAPE с логтаргетом и learning_rate=0.03: 12.18%\n"
     ]
    }
   ],
   "source": [
    "# с логарифмированием целевой переменной\n",
    "xgb_reg_log = xgb.XGBRegressor(objective='reg:squarederror', colsample_bytree=0.5,\n",
    "                          learning_rate=0.03, max_depth=12, alpha=1,\n",
    "                          n_estimators=1000)\n",
    "xgb_reg_log.fit(X_train, np.log(y_train))\n",
    "\n",
    "print(\n",
    "    f\"Точность модели по метрике MAPE с логтаргетом и learning_rate=0.03: {(mape(y_test, np.exp(xgb_reg_log.predict(X_test))))*100:0.2f}%\")\n",
    "\n",
    "predict_submission = np.exp(xgb_reg_log.predict(X_sub))"
   ]
  },
  {
   "cell_type": "markdown",
   "id": "e98c6f61",
   "metadata": {},
   "source": [
    "Попробуем с логарифмом таргета разную глубину."
   ]
  },
  {
   "cell_type": "code",
   "execution_count": 28,
   "id": "0b26bb3e",
   "metadata": {},
   "outputs": [
    {
     "name": "stdout",
     "output_type": "stream",
     "text": [
      "Точность модели по метрике MAPE с логтаргетом и max_depth=3: 15.41%\n",
      "Точность модели по метрике MAPE с логтаргетом и max_depth=5: 13.31%\n",
      "Точность модели по метрике MAPE с логтаргетом и max_depth=8: 12.28%\n",
      "Точность модели по метрике MAPE с логтаргетом и max_depth=12: 12.22%\n",
      "Точность модели по метрике MAPE с логтаргетом и max_depth=24: 12.31%\n",
      "Точность модели по метрике MAPE с логтаргетом и max_depth=36: 12.31%\n"
     ]
    }
   ],
   "source": [
    "def xgb_reg_learn(depth):\n",
    "    xgb_list = []\n",
    "    for i in depth:\n",
    "        xgb_reg = xgb.XGBRegressor(objective='reg:squarederror', colsample_bytree=0.5,\n",
    "                                   learning_rate=0.05, max_depth=i, alpha=1,\n",
    "                                   n_estimators=1000)\n",
    "        xgb_reg.fit(X_train, np.log(y_train))\n",
    "        xgb_list.append(xgb_reg)\n",
    "        print(\n",
    "            f\"Точность модели по метрике MAPE с логтаргетом и max_depth={i}: {(mape(y_test, np.exp(xgb_reg.predict(X_test))))*100:0.2f}%\")\n",
    "    return xgb_list\n",
    "\n",
    "\n",
    "depth = [3, 5, 8, 12, 24, 36]\n",
    "xgb_list = xgb_reg_learn(depth)\n",
    "\n",
    "# Точность модели по метрике MAPE с логтаргетом и max_depth=3: 15.40%\n",
    "# Точность модели по метрике MAPE с логтаргетом и max_depth=5: 13.37%\n",
    "# Точность модели по метрике MAPE с логтаргетом и max_depth=8: 12.44%\n",
    "# Точность модели по метрике MAPE с логтаргетом и max_depth=12: 12.47%\n",
    "# Точность модели по метрике MAPE с логтаргетом и max_depth=24: 12.57%\n",
    "# Точность модели по метрике MAPE с логтаргетом и max_depth=36: 12.60%\n",
    "# на kaggle скор 11.47157 (17 место)\n",
    "\n",
    "# с удаление признаков:\n",
    "# Точность модели по метрике MAPE с логтаргетом и max_depth=3: 15.43%\n",
    "# Точность модели по метрике MAPE с логтаргетом и max_depth=5: 13.30%\n",
    "# Точность модели по метрике MAPE с логтаргетом и max_depth=8: 12.39%\n",
    "# Точность модели по метрике MAPE с логтаргетом и max_depth=12: 12.47%\n",
    "# Точность модели по метрике MAPE с логтаргетом и max_depth=24: 12.60%\n",
    "# Точность модели по метрике MAPE с логтаргетом и max_depth=36: 12.61%\n",
    "# на kaggle скор 12.4822 ( место)"
   ]
  },
  {
   "cell_type": "markdown",
   "id": "9e2ea6c8",
   "metadata": {},
   "source": [
    "Точность модели по метрике MAPE с логтаргетом и max_depth=3: 15.41%\n",
    "Точность модели по метрике MAPE с логтаргетом и max_depth=5: 13.31%\n",
    "Точность модели по метрике MAPE с логтаргетом и max_depth=8: 12.28%\n",
    "Точность модели по метрике MAPE с логтаргетом и max_depth=12: 12.22%\n",
    "Точность модели по метрике MAPE с логтаргетом и max_depth=24: 12.31%\n",
    "Точность модели по метрике MAPE с логтаргетом и max_depth=36: 12.31%"
   ]
  },
  {
   "cell_type": "code",
   "execution_count": 30,
   "id": "99a34304",
   "metadata": {},
   "outputs": [
    {
     "data": {
      "text/plain": [
       "XGBRegressor(alpha=1, base_score=0.5, booster='gbtree', colsample_bylevel=1,\n",
       "             colsample_bynode=1, colsample_bytree=0.5, gamma=0, gpu_id=-1,\n",
       "             importance_type='gain', interaction_constraints='',\n",
       "             learning_rate=0.05, max_delta_step=0, max_depth=12,\n",
       "             min_child_weight=1, missing=nan, monotone_constraints='()',\n",
       "             n_estimators=1000, n_jobs=0, num_parallel_tree=1, random_state=0,\n",
       "             reg_alpha=1, reg_lambda=1, scale_pos_weight=1, subsample=1,\n",
       "             tree_method='exact', validate_parameters=1, verbosity=None)"
      ]
     },
     "execution_count": 30,
     "metadata": {},
     "output_type": "execute_result"
    }
   ],
   "source": [
    "best_xgb = xgb_list[3]\n",
    "best_xgb\n",
    "\n",
    "#alpha=1, base_score=0.5, booster='gbtree', colsample_bylevel=1,\n",
    "#             colsample_bynode=1, colsample_bytree=0.5, gamma=0, gpu_id=-1,\n",
    "#             importance_type='gain', interaction_constraints='',\n",
    "#             min_child_weight=1, missing=nan, monotone_constraints='()',\n",
    "#             n_estimators=1000, n_jobs=0, num_parallel_tree=1, random_state=0,\n",
    "#             reg_alpha=1, reg_lambda=1, scale_pos_weight=1, subsample=1,\n",
    "#             tree_method='exact', validate_parameters=1, verbosity=None"
   ]
  },
  {
   "cell_type": "code",
   "execution_count": 34,
   "id": "40d81ef0",
   "metadata": {},
   "outputs": [
    {
     "name": "stdout",
     "output_type": "stream",
     "text": [
      "Точность модели по метрике MAPE с логтаргетом и learning_rate=0.03: 12.22%\n"
     ]
    }
   ],
   "source": [
    "best_xgb.fit(X_train, np.log(y_train))\n",
    "\n",
    "print(\n",
    "    f\"Точность модели best_xgb по метрике MAPE с логтаргетом: {(mape(y_test, np.exp(best_xgb.predict(X_test))))*100:0.2f}%\")\n",
    "\n",
    "predict_submission = np.exp(best_xgb.predict(X_sub))"
   ]
  },
  {
   "cell_type": "code",
   "execution_count": 31,
   "id": "9db8e518",
   "metadata": {},
   "outputs": [
    {
     "data": {
      "image/png": "[encoded data removed]",
      "text/plain": [
       "<Figure size 720x288 with 1 Axes>"
      ]
     },
     "metadata": {
      "needs_background": "light"
     },
     "output_type": "display_data"
    }
   ],
   "source": [
    "feature_important = best_xgb.get_booster().get_score(importance_type='weight')\n",
    "keys = list(feature_important.keys())\n",
    "values = list(feature_important.values())\n",
    "\n",
    "data = pd.DataFrame(data=values, index=keys, columns=[\"score\"]).sort_values(by = \"score\", ascending=False)\n",
    "data.plot(kind='barh');"
   ]
  },
  {
   "cell_type": "code",
   "execution_count": 32,
   "id": "6d0bcd4b",
   "metadata": {},
   "outputs": [
    {
     "data": {
      "image/png": "[encoded data removed]",
      "text/plain": [
       "<Figure size 720x360 with 1 Axes>"
      ]
     },
     "metadata": {
      "needs_background": "light"
     },
     "output_type": "display_data"
    }
   ],
   "source": [
    "fig, ax = plt.subplots(figsize=(10,5))\n",
    "xgb.plot_importance(best_xgb, max_num_features=50, height=0.5, ax=ax)\n",
    "plt.show()"
   ]
  },
  {
   "cell_type": "markdown",
   "id": "a072e547",
   "metadata": {},
   "source": [
    "## # Модель 3: ExtraTreesRegressor"
   ]
  },
  {
   "cell_type": "code",
   "execution_count": null,
   "id": "ab142908",
   "metadata": {},
   "outputs": [],
   "source": [
    "# # без логарифмирования целевой переменной\n",
    "# etr = ExtraTreesRegressor(random_state = RANDOM_SEED)\n",
    "# etr.fit(X_train, y_train)\n",
    "# etr_pred = etr.predict(X_test)\n",
    "\n",
    "# print(\n",
    "#     f\"Точность модели по метрике MAPE без логтаргета: {(mape(y_test, etr_pred))*100:0.2f}%\")\n",
    "\n",
    "# # с логарифмированием целевой переменной\n",
    "# etr_log = ExtraTreesRegressor(random_state = RANDOM_SEED)\n",
    "# etr_log.fit(X_train, np.log(y_train + 1))\n",
    "# etr_log_pred = np.exp(etr_log.predict(X_test))\n",
    "\n",
    "# print(\n",
    "#     f\"Точность модели по метрике MAPE с логтаргетом: {(mape(y_test, etr_log_pred))*100:0.2f}%\")\n",
    "# # Точность модели по метрике MAPE без логтаргета: 15.26%\n",
    "# # Точность модели по метрике MAPE с логтаргетом: 13.65%"
   ]
  },
  {
   "cell_type": "markdown",
   "id": "13b9a596",
   "metadata": {},
   "source": [
    "Запускаем дефолтную модель на логорифме цены."
   ]
  },
  {
   "cell_type": "code",
   "execution_count": 111,
   "id": "1a60794a",
   "metadata": {},
   "outputs": [
    {
     "name": "stdout",
     "output_type": "stream",
     "text": [
      "Точность модели по метрике MAPE с логтаргетом: 13.10%\n"
     ]
    }
   ],
   "source": [
    "etr = ExtraTreesRegressor(random_state = RANDOM_SEED)\n",
    "\n",
    "# best_rfr.fit(X_train, y_train)\n",
    "etr.fit(X_train, np.log(y_train))\n",
    "\n",
    "# predict_rfr = best_rfr.predict(X_test)\n",
    "etr_pred = np.exp(etr.predict(X_test))\n",
    "#predict_submission = np.exp(etr.predict(X_sub))\n",
    "\n",
    "print(\n",
    "    f\"Точность модели по метрике MAPE с логтаргетом: {(mape(y_test, etr_pred))*100:0.2f}%\")\n",
    "# Точность модели по метрике MAPE с логтаргетом: 13.10%\n",
    "# Точность модели по метрике MAPE с логтаргетом на Kaggle: 10.95491%"
   ]
  },
  {
   "cell_type": "code",
   "execution_count": 100,
   "id": "af79cf54",
   "metadata": {},
   "outputs": [
    {
     "data": {
      "text/html": [
       "<div>\n",
       "<style scoped>\n",
       "    .dataframe tbody tr th:only-of-type {\n",
       "        vertical-align: middle;\n",
       "    }\n",
       "\n",
       "    .dataframe tbody tr th {\n",
       "        vertical-align: top;\n",
       "    }\n",
       "\n",
       "    .dataframe thead th {\n",
       "        text-align: right;\n",
       "    }\n",
       "</style>\n",
       "<table border=\"1\" class=\"dataframe\">\n",
       "  <thead>\n",
       "    <tr style=\"text-align: right;\">\n",
       "      <th></th>\n",
       "      <th>sell_id</th>\n",
       "      <th>price</th>\n",
       "    </tr>\n",
       "  </thead>\n",
       "  <tbody>\n",
       "    <tr>\n",
       "      <th>0</th>\n",
       "      <td>1100575026</td>\n",
       "      <td>6.185703e+05</td>\n",
       "    </tr>\n",
       "    <tr>\n",
       "      <th>1</th>\n",
       "      <td>1100549428</td>\n",
       "      <td>8.757499e+05</td>\n",
       "    </tr>\n",
       "    <tr>\n",
       "      <th>2</th>\n",
       "      <td>1100658222</td>\n",
       "      <td>8.792430e+05</td>\n",
       "    </tr>\n",
       "    <tr>\n",
       "      <th>3</th>\n",
       "      <td>1100937408</td>\n",
       "      <td>6.965516e+05</td>\n",
       "    </tr>\n",
       "    <tr>\n",
       "      <th>4</th>\n",
       "      <td>1101037972</td>\n",
       "      <td>6.810040e+05</td>\n",
       "    </tr>\n",
       "    <tr>\n",
       "      <th>5</th>\n",
       "      <td>1100912634</td>\n",
       "      <td>8.295029e+05</td>\n",
       "    </tr>\n",
       "    <tr>\n",
       "      <th>6</th>\n",
       "      <td>1101228730</td>\n",
       "      <td>6.372938e+05</td>\n",
       "    </tr>\n",
       "    <tr>\n",
       "      <th>7</th>\n",
       "      <td>1100165896</td>\n",
       "      <td>4.159327e+05</td>\n",
       "    </tr>\n",
       "    <tr>\n",
       "      <th>8</th>\n",
       "      <td>1100768262</td>\n",
       "      <td>1.694547e+06</td>\n",
       "    </tr>\n",
       "    <tr>\n",
       "      <th>9</th>\n",
       "      <td>1101218501</td>\n",
       "      <td>8.747658e+05</td>\n",
       "    </tr>\n",
       "  </tbody>\n",
       "</table>\n",
       "</div>"
      ],
      "text/plain": [
       "      sell_id         price\n",
       "0  1100575026  6.185703e+05\n",
       "1  1100549428  8.757499e+05\n",
       "2  1100658222  8.792430e+05\n",
       "3  1100937408  6.965516e+05\n",
       "4  1101037972  6.810040e+05\n",
       "5  1100912634  8.295029e+05\n",
       "6  1101228730  6.372938e+05\n",
       "7  1100165896  4.159327e+05\n",
       "8  1100768262  1.694547e+06\n",
       "9  1101218501  8.747658e+05"
      ]
     },
     "execution_count": 100,
     "metadata": {},
     "output_type": "execute_result"
    }
   ],
   "source": [
    "#predict_submission = np.exp(best_etr.predict(X_sub))\n",
    "\n",
    "sample_submission['price'] = predict_submission\n",
    "sample_submission.to_csv(f'submission_2_v{VERSION+3}.csv', index=False)\n",
    "sample_submission.head(10)"
   ]
  },
  {
   "cell_type": "markdown",
   "id": "92011bed",
   "metadata": {},
   "source": [
    "Запускаем RandomizedSearchCV для ExtraTreesRegressor."
   ]
  },
  {
   "cell_type": "code",
   "execution_count": 17,
   "id": "689cfd61",
   "metadata": {},
   "outputs": [
    {
     "name": "stdout",
     "output_type": "stream",
     "text": [
      "Fitting 3 folds for each of 100 candidates, totalling 300 fits\n"
     ]
    },
    {
     "name": "stderr",
     "output_type": "stream",
     "text": [
      "[Parallel(n_jobs=-1)]: Using backend LokyBackend with 4 concurrent workers.\n",
      "[Parallel(n_jobs=-1)]: Done   5 tasks      | elapsed:   40.9s\n",
      "[Parallel(n_jobs=-1)]: Done  10 tasks      | elapsed:  1.0min\n",
      "[Parallel(n_jobs=-1)]: Done  17 tasks      | elapsed:  2.0min\n",
      "[Parallel(n_jobs=-1)]: Done  24 tasks      | elapsed:  3.8min\n",
      "[Parallel(n_jobs=-1)]: Done  33 tasks      | elapsed:  4.4min\n",
      "[Parallel(n_jobs=-1)]: Done  42 tasks      | elapsed:  6.2min\n",
      "[Parallel(n_jobs=-1)]: Done  53 tasks      | elapsed:  9.8min\n",
      "[Parallel(n_jobs=-1)]: Done  64 tasks      | elapsed: 13.9min\n",
      "[Parallel(n_jobs=-1)]: Done  77 tasks      | elapsed: 16.0min\n",
      "[Parallel(n_jobs=-1)]: Done  90 tasks      | elapsed: 17.0min\n",
      "[Parallel(n_jobs=-1)]: Done 105 tasks      | elapsed: 18.7min\n",
      "[Parallel(n_jobs=-1)]: Done 120 tasks      | elapsed: 20.3min\n",
      "[Parallel(n_jobs=-1)]: Done 137 tasks      | elapsed: 21.9min\n",
      "[Parallel(n_jobs=-1)]: Done 154 tasks      | elapsed: 23.0min\n",
      "[Parallel(n_jobs=-1)]: Done 173 tasks      | elapsed: 24.8min\n",
      "[Parallel(n_jobs=-1)]: Done 192 tasks      | elapsed: 25.7min\n",
      "[Parallel(n_jobs=-1)]: Done 213 tasks      | elapsed: 27.3min\n",
      "[Parallel(n_jobs=-1)]: Done 234 tasks      | elapsed: 28.9min\n",
      "[Parallel(n_jobs=-1)]: Done 257 tasks      | elapsed: 34.2min\n",
      "[Parallel(n_jobs=-1)]: Done 280 tasks      | elapsed: 37.3min\n",
      "[Parallel(n_jobs=-1)]: Done 300 out of 300 | elapsed: 38.7min finished\n"
     ]
    },
    {
     "data": {
      "text/plain": [
       "{'n_estimators': 300,\n",
       " 'min_samples_split': 2,\n",
       " 'min_samples_leaf': 1,\n",
       " 'max_features': 'auto',\n",
       " 'max_depth': None,\n",
       " 'bootstrap': True}"
      ]
     },
     "execution_count": 17,
     "metadata": {},
     "output_type": "execute_result"
    }
   ],
   "source": [
    "random_grid = {'n_estimators': [int(x) for x in np.linspace(start=100, stop=400, num=4)],\n",
    "               'max_features': ['auto', 'sqrt', 'log2'],\n",
    "               'max_depth': [int(x) for x in np.linspace(5, 15, num=6)] + [None],\n",
    "               'min_samples_split': [2, 5, 10],\n",
    "               'min_samples_leaf': [1, 2, 4],\n",
    "               'bootstrap': [True, False]}\n",
    "\n",
    "etr = ExtraTreesRegressor(random_state = RANDOM_SEED)\n",
    "etr_random = RandomizedSearchCV(estimator = etr, \n",
    "                                param_distributions = random_grid, \n",
    "                                n_iter = 100, cv = 3, \n",
    "                                verbose=10, \n",
    "                                random_state=RANDOM_SEED, \n",
    "                                n_jobs = -1)\n",
    "\n",
    "# rf_random.fit(X_train, y_train) \n",
    "etr_random.fit(X_train, np.log(y_train))\n",
    "\n",
    "etr_random.best_params_\n",
    "# # best_params_\n",
    "# {'n_estimators': 300,\n",
    "#  'min_samples_split': 2,\n",
    "#  'min_samples_leaf': 1,\n",
    "#  'max_features': 'auto',\n",
    "#  'max_depth': None,\n",
    "#  'bootstrap': True}"
   ]
  },
  {
   "cell_type": "code",
   "execution_count": 18,
   "id": "b2ad7472",
   "metadata": {},
   "outputs": [
    {
     "data": {
      "text/plain": [
       "{'n_estimators': 300,\n",
       " 'min_samples_split': 2,\n",
       " 'min_samples_leaf': 1,\n",
       " 'max_features': 'auto',\n",
       " 'max_depth': None,\n",
       " 'bootstrap': True}"
      ]
     },
     "execution_count": 18,
     "metadata": {},
     "output_type": "execute_result"
    }
   ],
   "source": [
    "etr_random.best_params_"
   ]
  },
  {
   "cell_type": "markdown",
   "id": "571507ee",
   "metadata": {},
   "source": [
    "Запускаем ExtraTreesRegressor на гиперпараметрах, найденных через RandomizedSearchCV."
   ]
  },
  {
   "cell_type": "code",
   "execution_count": 19,
   "id": "46117027",
   "metadata": {},
   "outputs": [
    {
     "name": "stdout",
     "output_type": "stream",
     "text": [
      "Точность модели по метрике MAPE с логтаргетом: 12.89%\n"
     ]
    }
   ],
   "source": [
    "best_etr = ExtraTreesRegressor(random_state=RANDOM_SEED, \n",
    "                               n_estimators=300,\n",
    "                               min_samples_split=2,\n",
    "                               min_samples_leaf=1,\n",
    "                               max_features='auto',\n",
    "                               max_depth=None,\n",
    "                               bootstrap=True)\n",
    "\n",
    "# best_rfr.fit(X_train, y_train)\n",
    "best_etr.fit(X_train, np.log(y_train))\n",
    "\n",
    "# predict_rfr = best_rfr.predict(X_test)\n",
    "predict_etr = np.exp(best_etr.predict(X_test))\n",
    "predict_submission = np.exp(best_etr.predict(X_sub))\n",
    "\n",
    "print(\n",
    "    f\"Точность модели по метрике MAPE с логтаргетом: {(mape(y_test, predict_etr))*100:0.2f}%\")\n",
    "\n",
    "# Точность модели по метрике MAPE с логтаргетом: 13.10%\n",
    "# Точность модели по метрике MAPE с логтаргетом на Kaggle: 10.95491%\n",
    "\n",
    "# с удалением признаков:\n",
    "# Точность модели по метрике MAPE с логтаргетом: 13.20%\n",
    "# на kaggle скор 12.10545 ( место)"
   ]
  },
  {
   "cell_type": "code",
   "execution_count": 20,
   "id": "f44a5486",
   "metadata": {},
   "outputs": [
    {
     "data": {
      "text/plain": [
       "<AxesSubplot:>"
      ]
     },
     "execution_count": 20,
     "metadata": {},
     "output_type": "execute_result"
    },
    {
     "data": {
      "image/png": "[encoded data removed]",
      "text/plain": [
       "<Figure size 720x288 with 1 Axes>"
      ]
     },
     "metadata": {
      "needs_background": "light"
     },
     "output_type": "display_data"
    }
   ],
   "source": [
    "plt.rcParams['figure.figsize'] = (10,4)\n",
    "feat_importances = pd.Series(best_etr.feature_importances_, index=X.columns)\n",
    "feat_importances.nlargest(15).plot(kind='barh')"
   ]
  },
  {
   "cell_type": "markdown",
   "id": "2938b514",
   "metadata": {},
   "source": [
    "### Модель 4: BaggingRegressor"
   ]
  },
  {
   "cell_type": "code",
   "execution_count": 46,
   "id": "c61b6566",
   "metadata": {},
   "outputs": [
    {
     "name": "stdout",
     "output_type": "stream",
     "text": [
      "Точность модели по метрике MAPE без логтаргета: 15.02%\n",
      "Точность модели по метрике MAPE с логтаргетом: inf%\n"
     ]
    }
   ],
   "source": [
    "# BaggingRegressor без \n",
    "bagg_rfr_d = BaggingRegressor(best_rfr, n_jobs=1, random_state=RANDOM_SEED)\n",
    "bagg_rfr_d.fit(X_train, y_train)\n",
    "predict_bagg_rfr_d = bagg_rfr_d.predict(X_test)\n",
    "print(\n",
    "    f\"Точность модели по метрике MAPE без логтаргета: {(mape(y_test, predict_bagg_rfr_d))*100:0.2f}%\")\n",
    "\n",
    "# BaggingRegressor без настроек n_estimators=3\n",
    "bagg_rfr = BaggingRegressor(best_rfr, n_estimators=3, n_jobs=1, random_state=RANDOM_SEED)\n",
    "bagg_rfr.fit(X_train, y_train)\n",
    "predict_bagg_rfr = np.exp(bagg_rfr.predict(X_test))\n",
    "print(\n",
    "    f\"Точность модели по метрике MAPE с логтаргетом: {(mape(y_test, predict_bagg_rfr))*100:0.2f}%\")\n",
    "# Точность модели по метрике MAPE без логтаргета: 15.18%\n",
    "# Точность модели по метрике MAPE с логтаргетом: inf%"
   ]
  },
  {
   "cell_type": "markdown",
   "id": "b33e2320",
   "metadata": {},
   "source": [
    "## 4.1. Со случайным лесом"
   ]
  },
  {
   "cell_type": "code",
   "execution_count": 47,
   "id": "125c9f18",
   "metadata": {},
   "outputs": [
    {
     "data": {
      "text/plain": [
       "RandomForestRegressor(n_estimators=300, random_state=42)"
      ]
     },
     "execution_count": 47,
     "metadata": {},
     "output_type": "execute_result"
    }
   ],
   "source": [
    "best_rfr"
   ]
  },
  {
   "cell_type": "code",
   "execution_count": 48,
   "id": "51d1a170",
   "metadata": {},
   "outputs": [
    {
     "name": "stdout",
     "output_type": "stream",
     "text": [
      "Точность модели по метрике MAPE с логтаргетом: inf%\n"
     ]
    }
   ],
   "source": [
    "bagg_rfr = BaggingRegressor(best_rfr, n_estimators=3, n_jobs=1, random_state=RANDOM_SEED)\n",
    "bagg_rfr.fit(X_train, y_train)\n",
    "predict_bagg_rfr = np.exp(bagg_rfr.predict(X_test))\n",
    "print(\n",
    "    f\"Точность модели по метрике MAPE с логтаргетом: {(mape(y_test, predict_bagg_rfr))*100:0.2f}%\")"
   ]
  },
  {
   "cell_type": "markdown",
   "id": "989c8108",
   "metadata": {},
   "source": [
    "## 4.2. С XGBRegressor"
   ]
  },
  {
   "cell_type": "code",
   "execution_count": 36,
   "id": "6a72d027",
   "metadata": {},
   "outputs": [
    {
     "data": {
      "text/plain": [
       "XGBRegressor(alpha=1, base_score=0.5, booster='gbtree', colsample_bylevel=1,\n",
       "             colsample_bynode=1, colsample_bytree=0.5, gamma=0, gpu_id=-1,\n",
       "             importance_type='gain', interaction_constraints='',\n",
       "             learning_rate=0.05, max_delta_step=0, max_depth=12,\n",
       "             min_child_weight=1, missing=nan, monotone_constraints='()',\n",
       "             n_estimators=1000, n_jobs=0, num_parallel_tree=1, random_state=0,\n",
       "             reg_alpha=1, reg_lambda=1, scale_pos_weight=1, subsample=1,\n",
       "             tree_method='exact', validate_parameters=1, verbosity=None)"
      ]
     },
     "execution_count": 36,
     "metadata": {},
     "output_type": "execute_result"
    }
   ],
   "source": [
    "best_xgb"
   ]
  },
  {
   "cell_type": "code",
   "execution_count": 49,
   "id": "6176914b",
   "metadata": {},
   "outputs": [
    {
     "name": "stdout",
     "output_type": "stream",
     "text": [
      "Точность модели по метрике MAPE с логтаргетом: 12.29%\n"
     ]
    }
   ],
   "source": [
    "bagg_xgb = BaggingRegressor(best_xgb, n_estimators=3, n_jobs=1, random_state=RANDOM_SEED)\n",
    "bagg_xgb.fit(X_train, np.log(y_train))\n",
    "predict_bagg_xgb = np.exp(bagg_xgb.predict(X_test))\n",
    "print(\n",
    "    f\"Точность модели по метрике MAPE с логтаргетом: {(mape(y_test, predict_bagg_xgb))*100:0.2f}%\")"
   ]
  },
  {
   "cell_type": "code",
   "execution_count": 53,
   "id": "8cbf1639",
   "metadata": {},
   "outputs": [
    {
     "name": "stdout",
     "output_type": "stream",
     "text": [
      "Точность модели по метрике MAPE с логтаргетом: 12.18%\n"
     ]
    }
   ],
   "source": [
    "bagg_xgb = BaggingRegressor(best_xgb, n_jobs=1, random_state=RANDOM_SEED)\n",
    "bagg_xgb.fit(X_train, np.log(y_train))\n",
    "predict_bagg_xgb = np.exp(bagg_xgb.predict(X_test))\n",
    "print(\n",
    "    f\"Точность модели по метрике MAPE с логтаргетом: {(mape(y_test, predict_bagg_xgb))*100:0.2f}%\")"
   ]
  },
  {
   "cell_type": "code",
   "execution_count": 54,
   "id": "e34eaf9b",
   "metadata": {},
   "outputs": [],
   "source": [
    "predict_submission = np.exp(bagg_xgb.predict(X_sub))"
   ]
  },
  {
   "cell_type": "markdown",
   "id": "841f3a4c",
   "metadata": {},
   "source": [
    "## 4.3. С ExtraTreesRegressor"
   ]
  },
  {
   "cell_type": "code",
   "execution_count": 56,
   "id": "d912b305",
   "metadata": {},
   "outputs": [
    {
     "data": {
      "text/plain": [
       "ExtraTreesRegressor(random_state=42)"
      ]
     },
     "execution_count": 56,
     "metadata": {},
     "output_type": "execute_result"
    }
   ],
   "source": [
    "etr = ExtraTreesRegressor(random_state = RANDOM_SEED)\n",
    "\n",
    "# best_rfr.fit(X_train, y_train)\n",
    "etr.fit(X_train, np.log(y_train))"
   ]
  },
  {
   "cell_type": "markdown",
   "id": "2a36aba7",
   "metadata": {},
   "source": [
    "BaggingRegressor на дефолтных настройках."
   ]
  },
  {
   "cell_type": "code",
   "execution_count": 57,
   "id": "1e8682bc",
   "metadata": {},
   "outputs": [
    {
     "name": "stdout",
     "output_type": "stream",
     "text": [
      "Точность модели по метрике MAPE с логтаргетом: 12.92%\n"
     ]
    }
   ],
   "source": [
    "bagg_etr = BaggingRegressor(etr, n_jobs=1, random_state=RANDOM_SEED)\n",
    "bagg_etr.fit(X_train, np.log(y_train))\n",
    "predict_bagg_etr = np.exp(bagg_etr.predict(X_test))\n",
    "print(\n",
    "    f\"Точность модели по метрике MAPE с логтаргетом: {(mape(y_test, predict_bagg_etr))*100:0.2f}%\")"
   ]
  },
  {
   "cell_type": "markdown",
   "id": "6175faf0",
   "metadata": {},
   "source": [
    "BaggingRegressor n_estimators = 3 настройках."
   ]
  },
  {
   "cell_type": "code",
   "execution_count": 60,
   "id": "1bcd6348",
   "metadata": {},
   "outputs": [
    {
     "name": "stdout",
     "output_type": "stream",
     "text": [
      "Точность модели по метрике MAPE с логтаргетом: 13.12%\n"
     ]
    }
   ],
   "source": [
    "bagg_etr = BaggingRegressor(etr, n_jobs=1, n_estimators = 3, random_state=RANDOM_SEED)\n",
    "bagg_etr.fit(X_train, np.log(y_train))\n",
    "predict_bagg_etr = np.exp(bagg_etr.predict(X_test))\n",
    "print(\n",
    "    f\"Точность модели по метрике MAPE с логтаргетом: {(mape(y_test, predict_bagg_etr))*100:0.2f}%\")"
   ]
  },
  {
   "cell_type": "code",
   "execution_count": 61,
   "id": "4445f905",
   "metadata": {},
   "outputs": [],
   "source": [
    "predict_submission = np.exp(bagg_etr.predict(X_sub))"
   ]
  },
  {
   "cell_type": "markdown",
   "id": "c999fd83",
   "metadata": {},
   "source": [
    "## # Модель 5: HistGradientBoostingRegressor"
   ]
  },
  {
   "cell_type": "code",
   "execution_count": 68,
   "id": "fd7cf59d",
   "metadata": {},
   "outputs": [],
   "source": [
    "from sklearn.experimental import enable_hist_gradient_boosting\n",
    "from sklearn.ensemble import HistGradientBoostingRegressor"
   ]
  },
  {
   "cell_type": "markdown",
   "id": "fd433f27",
   "metadata": {},
   "source": [
    "Запускаем дефолтную модель на логорифме цены."
   ]
  },
  {
   "cell_type": "code",
   "execution_count": 89,
   "id": "a0db269c",
   "metadata": {},
   "outputs": [
    {
     "name": "stdout",
     "output_type": "stream",
     "text": [
      "Точность модели по метрике MAPE с логтаргетом: 15.28%\n"
     ]
    }
   ],
   "source": [
    "hgbr = HistGradientBoostingRegressor(random_state=RANDOM_SEED)\n",
    "\n",
    "hgbr.fit(X_train, np.log(y_train))\n",
    "\n",
    "hgbr_pred = np.exp(hgbr.predict(X_test))\n",
    "predict_submission = np.exp(hgbr.predict(X_sub))\n",
    "\n",
    "print(\n",
    "    f\"Точность модели по метрике MAPE с логтаргетом: {(mape(y_test, hgbr_pred))*100:0.2f}%\")\n",
    "# Точность модели по метрике MAPE с логтаргетом: 15.28%\n",
    "# Точность модели по метрике MAPE с логтаргетом на Kaggle: 16.10811%"
   ]
  },
  {
   "cell_type": "markdown",
   "id": "c60693f9",
   "metadata": {},
   "source": [
    "Запускаем RandomizedSearchCV для HistGradientBoostingRegressor."
   ]
  },
  {
   "cell_type": "code",
   "execution_count": 84,
   "id": "64521bb2",
   "metadata": {},
   "outputs": [
    {
     "name": "stdout",
     "output_type": "stream",
     "text": [
      "Fitting 3 folds for each of 9 candidates, totalling 27 fits\n"
     ]
    },
    {
     "name": "stderr",
     "output_type": "stream",
     "text": [
      "[Parallel(n_jobs=-1)]: Using backend LokyBackend with 4 concurrent workers.\n",
      "[Parallel(n_jobs=-1)]: Done   5 tasks      | elapsed:   24.5s\n",
      "[Parallel(n_jobs=-1)]: Done  10 tasks      | elapsed:   44.0s\n",
      "[Parallel(n_jobs=-1)]: Done  17 tasks      | elapsed:  1.2min\n",
      "[Parallel(n_jobs=-1)]: Done  23 out of  27 | elapsed:  1.7min remaining:   18.1s\n",
      "[Parallel(n_jobs=-1)]: Done  27 out of  27 | elapsed:  1.9min finished\n"
     ]
    },
    {
     "data": {
      "text/plain": [
       "{'max_iter': 1000,\n",
       " 'max_depth': 25,\n",
       " 'learning_rate': 0.1,\n",
       " 'l2_regularization': 1.5}"
      ]
     },
     "execution_count": 84,
     "metadata": {},
     "output_type": "execute_result"
    }
   ],
   "source": [
    "random_grid = {'max_iter': [1000, 1200, 1500],\n",
    "               'learning_rate': [0.1],\n",
    "               'max_depth': [25, 50, 75],\n",
    "               'l2_regularization': [1.5]}\n",
    "\n",
    "hgbr = HistGradientBoostingRegressor(random_state=RANDOM_SEED)\n",
    "hgbr_random = RandomizedSearchCV(estimator=hgbr,\n",
    "                                 param_distributions=random_grid,\n",
    "                                 n_iter=100, cv=3,\n",
    "                                 verbose=10,\n",
    "                                 random_state=RANDOM_SEED,\n",
    "                                 n_jobs=-1)\n",
    "\n",
    "hgbr_random.fit(X_train, np.log(y_train))\n",
    "\n",
    "hgbr_random.best_params_\n",
    "## {'max_iter': 1000,\n",
    "## 'max_depth': 25,\n",
    "## 'learning_rate': 0.1,\n",
    "## 'l2_regularization': 1.5}"
   ]
  },
  {
   "cell_type": "markdown",
   "id": "4609d914",
   "metadata": {},
   "source": [
    "Запускаем HistGradientBoostingRegressor на найденных параметрах."
   ]
  },
  {
   "cell_type": "code",
   "execution_count": 87,
   "id": "27d57a24",
   "metadata": {},
   "outputs": [
    {
     "name": "stdout",
     "output_type": "stream",
     "text": [
      "Точность модели по метрике MAPE с логтаргетом: 13.16%\n"
     ]
    }
   ],
   "source": [
    "hgbr = HistGradientBoostingRegressor(random_state=RANDOM_SEED, max_iter =1000,\n",
    "                                     max_depth=25,\n",
    "                                     learning_rate=0.1,\n",
    "                                     l2_regularization=1.5)\n",
    "\n",
    "hgbr.fit(X_train, np.log(y_train))\n",
    "\n",
    "hgbr_pred = np.exp(hgbr.predict(X_test))\n",
    "predict_submission = np.exp(hgbr.predict(X_sub))\n",
    "\n",
    "print(\n",
    "    f\"Точность модели по метрике MAPE с логтаргетом: {(mape(y_test, hgbr_pred))*100:0.2f}%\")\n",
    "# Точность модели по метрике MAPE с логтаргетом: 13.16%\n",
    "# Точность модели по метрике MAPE с логтаргетом на Kaggle: 13.61184%"
   ]
  },
  {
   "cell_type": "markdown",
   "id": "12573d2c",
   "metadata": {},
   "source": [
    "# 8. Model 4. StackingRegressor"
   ]
  },
  {
   "cell_type": "markdown",
   "id": "611e693d",
   "metadata": {},
   "source": [
    "**Нужно выбрать 2 или 3 лучших модели для стекинга, определить какую модель лучше взять последней (решающей)** Внизу заготовка для стекинга"
   ]
  },
  {
   "cell_type": "markdown",
   "id": "39cfc4aa",
   "metadata": {},
   "source": [
    "Выбирем для стека самые лучшие модели,  которые мы получили: Xgboosting, CatBoosting. Для обработки результатов возьмем линейную регрессию.\n",
    "До этого пробовали брать за последнюю модель CatBoosting, но результаты оказались хуже.\n",
    "\n",
    "Брать много сложных моделей не будем, так как даже при 2-3 моделях выполнение обучения идет более 30 минут."
   ]
  },
  {
   "cell_type": "code",
   "execution_count": null,
   "id": "6517d5a7",
   "metadata": {},
   "outputs": [],
   "source": [
    "estimators=[('b_gbr', BaggingRegressor(GradientBoostingRegressor(random_state=RANDOM_SEED\n",
    "                                                                ,n_estimators=800\n",
    "                                                                ,min_samples_split=5\n",
    "                                                                ,min_samples_leaf=4\n",
    "                                                                ,max_features='sqrt'\n",
    "                                                                ,max_depth=9)\n",
    "                                        ,n_estimators=3\n",
    "                                        ,n_jobs=1\n",
    "                                        ,random_state=RANDOM_SEED))\n",
    "            ,('xgb', xgb.XGBRegressor(objective='reg:squarederror'\n",
    "                                      ,colsample_bytree=0.5\n",
    "                                      ,learning_rate=0.05\n",
    "                                      ,max_depth=12\n",
    "                                      ,alpha=1\n",
    "                                      ,n_estimators=1000))]\n",
    "\n",
    "st_ensemble = StackingRegressor(estimators=estimators\n",
    "                                ,final_estimator = CatBoostRegressor(iterations = 5000\n",
    "                                                                     ,random_seed = RANDOM_SEED\n",
    "                                                                     ,eval_metric='MAPE'\n",
    "                                                                     ,custom_metric=['R2', 'MAE']\n",
    "                                                                     ,silent=True\n",
    "                                                                     ,learning_rate=0.13\n",
    "                                                                     ,depth=12\n",
    "                                                                     ,l2_leaf_reg=8\n",
    "                                                                     ,random_strength=0.3))\n",
    "\n",
    "# оцениваем точность    \n",
    "st_ensemble.fit(X_train, np.log(y_train))\n",
    "predict_ensemble = np.exp(st_ensemble.predict(X_test))\n",
    "print(f\"Точность модели по метрике MAPE: {(mape(y_test, predict_ensemble))*100:0.2f}%\")"
   ]
  },
  {
   "cell_type": "code",
   "execution_count": null,
   "id": "e1139d12",
   "metadata": {},
   "outputs": [],
   "source": [
    "estimators = [('xb',xgb.XGBRegressor(objective='reg:squarederror', colsample_bytree=0.5, learning_rate=0.03, \\\n",
    "                      max_depth=12, alpha=1, n_jobs=-1, n_estimators=1000)),\n",
    "              ('xb2',xgb.XGBRegressor(objective='reg:squarederror', colsample_bytree=0.5, learning_rate=0.03, \\\n",
    "                      max_depth=12, alpha=1, n_jobs=-1, n_estimators=500)),\n",
    "              ('cb', CatBoostRegressor(iterations = 2000,\n",
    "                          random_seed = RANDOM_SEED,\n",
    "                          eval_metric='MAPE',\n",
    "                          custom_metric=['R2', 'MAE'],\n",
    "                          silent=True,\n",
    "                         ))\n",
    "            ]\n",
    "\n",
    "st_ensemble = StackingRegressor(estimators=estimators,final_estimator=LinearRegression())\n",
    "\n",
    "# оцениваем точность\n",
    "st_ensemble.fit(X_train, np.log(y_train))\n",
    "predict_ensemble = np.exp(st_ensemble.predict(X_test))\n",
    "print(f\"Точность модели по метрике MAPE: {(mape(y_test, predict_ensemble))*100:0.2f}%\")"
   ]
  },
  {
   "cell_type": "markdown",
   "id": "879f2f2c",
   "metadata": {},
   "source": [
    "# Выбор модели"
   ]
  },
  {
   "cell_type": "markdown",
   "id": "e7d49502",
   "metadata": {},
   "source": [
    "Во время исследования все модели запускались много раз. У нас были следующие параметры для проверки:\n",
    "- логорифмировать или нет числовые признаки,\n",
    "- Выбор обработки категориальных данных: Dumming, LabelEncoding\n",
    "- Проводить или нет стандартизацию данных перед обучением"
   ]
  },
  {
   "cell_type": "code",
   "execution_count": null,
   "id": "761aac43",
   "metadata": {},
   "outputs": [],
   "source": [
    "X_sub.shape"
   ]
  },
  {
   "cell_type": "code",
   "execution_count": 99,
   "id": "c94d803c",
   "metadata": {},
   "outputs": [
    {
     "data": {
      "text/html": [
       "<div>\n",
       "<style scoped>\n",
       "    .dataframe tbody tr th:only-of-type {\n",
       "        vertical-align: middle;\n",
       "    }\n",
       "\n",
       "    .dataframe tbody tr th {\n",
       "        vertical-align: top;\n",
       "    }\n",
       "\n",
       "    .dataframe thead th {\n",
       "        text-align: right;\n",
       "    }\n",
       "</style>\n",
       "<table border=\"1\" class=\"dataframe\">\n",
       "  <thead>\n",
       "    <tr style=\"text-align: right;\">\n",
       "      <th></th>\n",
       "      <th>sell_id</th>\n",
       "      <th>price</th>\n",
       "    </tr>\n",
       "  </thead>\n",
       "  <tbody>\n",
       "    <tr>\n",
       "      <th>0</th>\n",
       "      <td>1100575026</td>\n",
       "      <td>6.185703e+05</td>\n",
       "    </tr>\n",
       "    <tr>\n",
       "      <th>1</th>\n",
       "      <td>1100549428</td>\n",
       "      <td>8.757499e+05</td>\n",
       "    </tr>\n",
       "    <tr>\n",
       "      <th>2</th>\n",
       "      <td>1100658222</td>\n",
       "      <td>8.792430e+05</td>\n",
       "    </tr>\n",
       "    <tr>\n",
       "      <th>3</th>\n",
       "      <td>1100937408</td>\n",
       "      <td>6.965516e+05</td>\n",
       "    </tr>\n",
       "    <tr>\n",
       "      <th>4</th>\n",
       "      <td>1101037972</td>\n",
       "      <td>6.810040e+05</td>\n",
       "    </tr>\n",
       "    <tr>\n",
       "      <th>5</th>\n",
       "      <td>1100912634</td>\n",
       "      <td>8.295029e+05</td>\n",
       "    </tr>\n",
       "    <tr>\n",
       "      <th>6</th>\n",
       "      <td>1101228730</td>\n",
       "      <td>6.372938e+05</td>\n",
       "    </tr>\n",
       "    <tr>\n",
       "      <th>7</th>\n",
       "      <td>1100165896</td>\n",
       "      <td>4.159327e+05</td>\n",
       "    </tr>\n",
       "    <tr>\n",
       "      <th>8</th>\n",
       "      <td>1100768262</td>\n",
       "      <td>1.694547e+06</td>\n",
       "    </tr>\n",
       "    <tr>\n",
       "      <th>9</th>\n",
       "      <td>1101218501</td>\n",
       "      <td>8.747658e+05</td>\n",
       "    </tr>\n",
       "  </tbody>\n",
       "</table>\n",
       "</div>"
      ],
      "text/plain": [
       "      sell_id         price\n",
       "0  1100575026  6.185703e+05\n",
       "1  1100549428  8.757499e+05\n",
       "2  1100658222  8.792430e+05\n",
       "3  1100937408  6.965516e+05\n",
       "4  1101037972  6.810040e+05\n",
       "5  1100912634  8.295029e+05\n",
       "6  1101228730  6.372938e+05\n",
       "7  1100165896  4.159327e+05\n",
       "8  1100768262  1.694547e+06\n",
       "9  1101218501  8.747658e+05"
      ]
     },
     "execution_count": 99,
     "metadata": {},
     "output_type": "execute_result"
    }
   ],
   "source": [
    "#predict_submission = np.exp(best_etr.predict(X_sub))\n",
    "\n",
    "sample_submission['price'] = predict_submission\n",
    "sample_submission.to_csv(f'submission_2_v{VERSION+3}.csv', index=False)\n",
    "sample_submission.head(10)"
   ]
  },
  {
   "cell_type": "markdown",
   "id": "82682f5e",
   "metadata": {},
   "source": [
    "#  Выводы:\n",
    "    \n",
    "1. парсинг\n",
    "2. EDA - в\n",
    "\n",
    "3. Lazypred - \n",
    "\n",
    "табличка - результаты \n"
   ]
  },
  {
   "cell_type": "code",
   "execution_count": null,
   "id": "69dbfe42",
   "metadata": {},
   "outputs": [],
   "source": []
  }
 ],
 "metadata": {
  "kernelspec": {
   "display_name": "Python 3",
   "language": "python",
   "name": "python3"
  },
  "language_info": {
   "codemirror_mode": {
    "name": "ipython",
    "version": 3
   },
   "file_extension": ".py",
   "mimetype": "text/x-python",
   "name": "python",
   "nbconvert_exporter": "python",
   "pygments_lexer": "ipython3",
   "version": "3.8.10"
  }
 },
 "nbformat": 4,
 "nbformat_minor": 5
}
